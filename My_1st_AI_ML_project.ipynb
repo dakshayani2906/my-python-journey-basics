{
  "nbformat": 4,
  "nbformat_minor": 0,
  "metadata": {
    "colab": {
      "provenance": [],
      "authorship_tag": "ABX9TyMgEv5kvKS9XrF6UxuYRa1K",
      "include_colab_link": true
    },
    "kernelspec": {
      "name": "python3",
      "display_name": "Python 3"
    },
    "language_info": {
      "name": "python"
    }
  },
  "cells": [
    {
      "cell_type": "markdown",
      "metadata": {
        "id": "view-in-github",
        "colab_type": "text"
      },
      "source": [
        "<a href=\"https://colab.research.google.com/github/dakshayani2906/my-python-journey-basics/blob/main/My_1st_AI_ML_project.ipynb\" target=\"_parent\"><img src=\"https://colab.research.google.com/assets/colab-badge.svg\" alt=\"Open In Colab\"/></a>"
      ]
    },
    {
      "cell_type": "markdown",
      "source": [
        "Image Classification of Handwritten Digits"
      ],
      "metadata": {
        "id": "AX5x7T7B_uC2"
      }
    },
    {
      "cell_type": "code",
      "execution_count": 1,
      "metadata": {
        "id": "h1wI57rh_pis"
      },
      "outputs": [],
      "source": [
        "import tensorflow as tf\n",
        "from tensorflow import keras\n",
        "from tensorflow.keras.datasets import mnist\n",
        "from tensorflow.keras.models import Sequential\n",
        "from tensorflow.keras.layers import Dense, Flatten\n",
        "from tensorflow.keras.utils import to_categorical\n",
        "import matplotlib.pyplot as plt"
      ]
    },
    {
      "cell_type": "markdown",
      "source": [
        "Explanation:\n",
        "\n",
        "tensorflow: Google's open-source machine learning framework.\n",
        "\n",
        "keras: TensorFlow's high-level API for building and training neural networks.\n",
        "\n",
        "mnist: A built-in dataset in Keras containing images of handwritten digits (0-9).\n",
        "\n",
        "Sequential: A linear stack of layers for building neural network models.\n",
        "\n",
        "Dense: A fully connected layer in a neural network.\n",
        "\n",
        "Flatten: A layer to flatten the 2D image data into a 1D vector.\n",
        "\n",
        "to_categorical: A utility to convert class vectors (integers) to binary class matrices (one-hot encoding).\n",
        "\n",
        "matplotlib.pyplot: A plotting library for visualizing data."
      ],
      "metadata": {
        "id": "oS7lX-AIAgKF"
      }
    },
    {
      "cell_type": "code",
      "source": [
        "# Load and Prepare MNIST Dataset\n",
        "\n",
        "# Load the MNIST dataset, which is split into training and testing sets\n",
        "(train_images, train_labels), (test_images, test_labels) = mnist.load_data()\n",
        "\n",
        "# Normalize the pixel values to be between 0 and 1\n",
        "train_images = train_images.astype('float32') / 255.0\n",
        "test_images = test_images.astype('float32') / 255.0\n",
        "\n",
        "# Convert the labels to one-hot encoded vectors\n",
        "train_labels = to_categorical(train_labels, num_classes=10)\n",
        "test_labels = to_categorical(test_labels, num_classes=10)\n",
        "\n",
        "print(\"Shape of training images:\", train_images.shape)\n",
        "print(\"Shape of training labels:\", train_labels.shape)\n",
        "print(\"Shape of testing images:\", test_images.shape)\n",
        "print(\"Shape of testing labels:\", test_labels.shape)"
      ],
      "metadata": {
        "colab": {
          "base_uri": "https://localhost:8080/"
        },
        "id": "ZwTwrtK0Ag_A",
        "outputId": "5241ef1e-d587-4289-dbfd-097bdabe3a55"
      },
      "execution_count": 3,
      "outputs": [
        {
          "output_type": "stream",
          "name": "stdout",
          "text": [
            "Downloading data from https://storage.googleapis.com/tensorflow/tf-keras-datasets/mnist.npz\n",
            "\u001b[1m11490434/11490434\u001b[0m \u001b[32m━━━━━━━━━━━━━━━━━━━━\u001b[0m\u001b[37m\u001b[0m \u001b[1m0s\u001b[0m 0us/step\n",
            "Shape of training images: (60000, 28, 28)\n",
            "Shape of training labels: (60000, 10)\n",
            "Shape of testing images: (10000, 28, 28)\n",
            "Shape of testing labels: (10000, 10)\n"
          ]
        }
      ]
    },
    {
      "cell_type": "markdown",
      "source": [
        "Explanation:\n",
        "\n",
        "mnist.load_data(): This function downloads the MNIST dataset and returns two tuples: one for the training data (images and labels) and one for the testing data.\n",
        "\n",
        "Normalization: We divide the pixel values (which range from 0 to 255) by 255.0 to scale them to the range [0, 1]. This helps the neural network learn more effectively.\n",
        "\n",
        "One-Hot Encoding: The labels are originally integers representing the digits (0, 1, 2, ..., 9). We convert them into a one-hot encoded format. For example, the label 3 becomes [0., 0., 0., 1., 0., 0., 0., 0., 0., 0.]. This is a standard practice for multi-class classification."
      ],
      "metadata": {
        "id": "yhQ8kbvOBr-D"
      }
    },
    {
      "cell_type": "code",
      "source": [
        "# Display the first few images from the training set\n",
        "plt.figure(figsize=(10, 4))\n",
        "for i in range(5):\n",
        "    plt.subplot(1, 5, i + 1)\n",
        "    plt.imshow(train_images[i], cmap='gray')\n",
        "    plt.title(f\"Label: {tf.argmax(train_labels[i])}\")\n",
        "    plt.axis('off')\n",
        "plt.show()"
      ],
      "metadata": {
        "colab": {
          "base_uri": "https://localhost:8080/",
          "height": 192
        },
        "id": "2BFUyKjPBwdC",
        "outputId": "f7aedb68-b6d4-4b3b-a614-511c6fa8dede"
      },
      "execution_count": 4,
      "outputs": [
        {
          "output_type": "display_data",
          "data": {
            "text/plain": [
              "<Figure size 1000x400 with 5 Axes>"
            ],
            "image/png": "[encoded data removed]"
          },
          "metadata": {}
        }
      ]
    },
    {
      "cell_type": "markdown",
      "source": [
        "Explanation:\n",
        "\n",
        "This code snippet uses matplotlib to display the first 5 images from the training dataset along with their corresponding labels (decoded from the one-hot encoding using tf.argmax)."
      ],
      "metadata": {
        "id": "6MIUOa7EB1Qc"
      }
    },
    {
      "cell_type": "code",
      "source": [
        "# Define the model architecture\n",
        "model = Sequential([\n",
        "    Flatten(input_shape=(28, 28)),  # Flatten the 28x28 pixel images into a 1D array (784)\n",
        "    Dense(128, activation='relu'),   # A fully connected layer with 128 neurons and ReLU activation\n",
        "    Dense(10, activation='softmax')  # The output layer with 10 neurons (one for each digit) and softmax activation\n",
        "])\n",
        "\n",
        "# Compile the model\n",
        "model.compile(optimizer='adam',\n",
        "              loss='categorical_crossentropy',\n",
        "              metrics=['accuracy'])\n",
        "\n",
        "# Print a summary of the model architecture\n",
        "model.summary()"
      ],
      "metadata": {
        "colab": {
          "base_uri": "https://localhost:8080/",
          "height": 297
        },
        "id": "lRDKVWzwB2t-",
        "outputId": "db565c01-1c91-4d72-8e1b-83ea3225ade0"
      },
      "execution_count": 5,
      "outputs": [
        {
          "output_type": "stream",
          "name": "stderr",
          "text": [
            "/usr/local/lib/python3.11/dist-packages/keras/src/layers/reshaping/flatten.py:37: UserWarning: Do not pass an `input_shape`/`input_dim` argument to a layer. When using Sequential models, prefer using an `Input(shape)` object as the first layer in the model instead.\n",
            "  super().__init__(**kwargs)\n"
          ]
        },
        {
          "output_type": "display_data",
          "data": {
            "text/plain": [
              "\u001b[1mModel: \"sequential\"\u001b[0m\n"
            ],
            "text/html": [
              "<pre style=\"white-space:pre;overflow-x:auto;line-height:normal;font-family:Menlo,'DejaVu Sans Mono',consolas,'Courier New',monospace\"><span style=\"font-weight: bold\">Model: \"sequential\"</span>\n",
              "</pre>\n"
            ]
          },
          "metadata": {}
        },
        {
          "output_type": "display_data",
          "data": {
            "text/plain": [
              "┏━━━━━━━━━━━━━━━━━━━━━━━━━━━━━━━━━┳━━━━━━━━━━━━━━━━━━━━━━━━┳━━━━━━━━━━━━━━━┓\n",
              "┃\u001b[1m \u001b[0m\u001b[1mLayer (type)                   \u001b[0m\u001b[1m \u001b[0m┃\u001b[1m \u001b[0m\u001b[1mOutput Shape          \u001b[0m\u001b[1m \u001b[0m┃\u001b[1m \u001b[0m\u001b[1m      Param #\u001b[0m\u001b[1m \u001b[0m┃\n",
              "┡━━━━━━━━━━━━━━━━━━━━━━━━━━━━━━━━━╇━━━━━━━━━━━━━━━━━━━━━━━━╇━━━━━━━━━━━━━━━┩\n",
              "│ flatten (\u001b[38;5;33mFlatten\u001b[0m)               │ (\u001b[38;5;45mNone\u001b[0m, \u001b[38;5;34m784\u001b[0m)            │             \u001b[38;5;34m0\u001b[0m │\n",
              "├─────────────────────────────────┼────────────────────────┼───────────────┤\n",
              "│ dense (\u001b[38;5;33mDense\u001b[0m)                   │ (\u001b[38;5;45mNone\u001b[0m, \u001b[38;5;34m128\u001b[0m)            │       \u001b[38;5;34m100,480\u001b[0m │\n",
              "├─────────────────────────────────┼────────────────────────┼───────────────┤\n",
              "│ dense_1 (\u001b[38;5;33mDense\u001b[0m)                 │ (\u001b[38;5;45mNone\u001b[0m, \u001b[38;5;34m10\u001b[0m)             │         \u001b[38;5;34m1,290\u001b[0m │\n",
              "└─────────────────────────────────┴────────────────────────┴───────────────┘\n"
            ],
            "text/html": [
              "<pre style=\"white-space:pre;overflow-x:auto;line-height:normal;font-family:Menlo,'DejaVu Sans Mono',consolas,'Courier New',monospace\">┏━━━━━━━━━━━━━━━━━━━━━━━━━━━━━━━━━┳━━━━━━━━━━━━━━━━━━━━━━━━┳━━━━━━━━━━━━━━━┓\n",
              "┃<span style=\"font-weight: bold\"> Layer (type)                    </span>┃<span style=\"font-weight: bold\"> Output Shape           </span>┃<span style=\"font-weight: bold\">       Param # </span>┃\n",
              "┡━━━━━━━━━━━━━━━━━━━━━━━━━━━━━━━━━╇━━━━━━━━━━━━━━━━━━━━━━━━╇━━━━━━━━━━━━━━━┩\n",
              "│ flatten (<span style=\"color: #0087ff; text-decoration-color: #0087ff\">Flatten</span>)               │ (<span style=\"color: #00d7ff; text-decoration-color: #00d7ff\">None</span>, <span style=\"color: #00af00; text-decoration-color: #00af00\">784</span>)            │             <span style=\"color: #00af00; text-decoration-color: #00af00\">0</span> │\n",
              "├─────────────────────────────────┼────────────────────────┼───────────────┤\n",
              "│ dense (<span style=\"color: #0087ff; text-decoration-color: #0087ff\">Dense</span>)                   │ (<span style=\"color: #00d7ff; text-decoration-color: #00d7ff\">None</span>, <span style=\"color: #00af00; text-decoration-color: #00af00\">128</span>)            │       <span style=\"color: #00af00; text-decoration-color: #00af00\">100,480</span> │\n",
              "├─────────────────────────────────┼────────────────────────┼───────────────┤\n",
              "│ dense_1 (<span style=\"color: #0087ff; text-decoration-color: #0087ff\">Dense</span>)                 │ (<span style=\"color: #00d7ff; text-decoration-color: #00d7ff\">None</span>, <span style=\"color: #00af00; text-decoration-color: #00af00\">10</span>)             │         <span style=\"color: #00af00; text-decoration-color: #00af00\">1,290</span> │\n",
              "└─────────────────────────────────┴────────────────────────┴───────────────┘\n",
              "</pre>\n"
            ]
          },
          "metadata": {}
        },
        {
          "output_type": "display_data",
          "data": {
            "text/plain": [
              "\u001b[1m Total params: \u001b[0m\u001b[38;5;34m101,770\u001b[0m (397.54 KB)\n"
            ],
            "text/html": [
              "<pre style=\"white-space:pre;overflow-x:auto;line-height:normal;font-family:Menlo,'DejaVu Sans Mono',consolas,'Courier New',monospace\"><span style=\"font-weight: bold\"> Total params: </span><span style=\"color: #00af00; text-decoration-color: #00af00\">101,770</span> (397.54 KB)\n",
              "</pre>\n"
            ]
          },
          "metadata": {}
        },
        {
          "output_type": "display_data",
          "data": {
            "text/plain": [
              "\u001b[1m Trainable params: \u001b[0m\u001b[38;5;34m101,770\u001b[0m (397.54 KB)\n"
            ],
            "text/html": [
              "<pre style=\"white-space:pre;overflow-x:auto;line-height:normal;font-family:Menlo,'DejaVu Sans Mono',consolas,'Courier New',monospace\"><span style=\"font-weight: bold\"> Trainable params: </span><span style=\"color: #00af00; text-decoration-color: #00af00\">101,770</span> (397.54 KB)\n",
              "</pre>\n"
            ]
          },
          "metadata": {}
        },
        {
          "output_type": "display_data",
          "data": {
            "text/plain": [
              "\u001b[1m Non-trainable params: \u001b[0m\u001b[38;5;34m0\u001b[0m (0.00 B)\n"
            ],
            "text/html": [
              "<pre style=\"white-space:pre;overflow-x:auto;line-height:normal;font-family:Menlo,'DejaVu Sans Mono',consolas,'Courier New',monospace\"><span style=\"font-weight: bold\"> Non-trainable params: </span><span style=\"color: #00af00; text-decoration-color: #00af00\">0</span> (0.00 B)\n",
              "</pre>\n"
            ]
          },
          "metadata": {}
        }
      ]
    },
    {
      "cell_type": "markdown",
      "source": [
        "Explanation:\n",
        "\n",
        "Sequential: We are building a sequential model, where layers are added one after another.\n",
        "\n",
        "Flatten(input_shape=(28, 28)): This layer takes the 28x28 pixel input images and flattens them into a 1D array of 784 pixels. The input_shape argument specifies the shape of the input data for the first layer.\n",
        "\n",
        "Dense(128, activation='relu'): This is a fully connected (dense) layer with 128 neurons (also called units). The relu (Rectified Linear Unit) is a common activation function that introduces non-linearity into the model, allowing it to learn complex patterns.\n",
        "\n",
        "Dense(10, activation='softmax'): This is the output layer, which has 10 neurons, corresponding to the 10 possible digits (0-9). The softmax activation function converts the output of each neuron into a probability distribution over the 10 classes. The neuron with the highest probability is the model's prediction.\n",
        "\n",
        "model.compile(...): This configures the model for training:\n",
        "\n",
        "optimizer='adam': The Adam optimization algorithm is a popular choice for training neural networks as it adapts the learning rate during training.\n",
        "loss='categorical_crossentropy': This is the standard loss function for multi-class classification when the labels are one-hot encoded. It measures the difference between the predicted probability distribution and the true distribution.\n",
        "metrics=['accuracy']: We want to monitor the accuracy of the model during training and evaluation.\n",
        "model.summary(): This provides a concise overview of the model's architecture, including the number of layers, the output shape of each layer, and the total number of trainable parameters.\n",
        "\n"
      ],
      "metadata": {
        "id": "tBUVThcDB6oM"
      }
    },
    {
      "cell_type": "code",
      "source": [
        "# Train the model on the training data\n",
        "history = model.fit(train_images, train_labels, epochs=10, batch_size=32, validation_split=0.2)"
      ],
      "metadata": {
        "colab": {
          "base_uri": "https://localhost:8080/"
        },
        "id": "Jf7eIcdNB7iK",
        "outputId": "0d21d372-a990-451c-80ed-a50250897e43"
      },
      "execution_count": 6,
      "outputs": [
        {
          "output_type": "stream",
          "name": "stdout",
          "text": [
            "Epoch 1/10\n",
            "\u001b[1m1500/1500\u001b[0m \u001b[32m━━━━━━━━━━━━━━━━━━━━\u001b[0m\u001b[37m\u001b[0m \u001b[1m8s\u001b[0m 4ms/step - accuracy: 0.8618 - loss: 0.4884 - val_accuracy: 0.9539 - val_loss: 0.1580\n",
            "Epoch 2/10\n",
            "\u001b[1m1500/1500\u001b[0m \u001b[32m━━━━━━━━━━━━━━━━━━━━\u001b[0m\u001b[37m\u001b[0m \u001b[1m9s\u001b[0m 4ms/step - accuracy: 0.9600 - loss: 0.1348 - val_accuracy: 0.9659 - val_loss: 0.1166\n",
            "Epoch 3/10\n",
            "\u001b[1m1500/1500\u001b[0m \u001b[32m━━━━━━━━━━━━━━━━━━━━\u001b[0m\u001b[37m\u001b[0m \u001b[1m10s\u001b[0m 4ms/step - accuracy: 0.9751 - loss: 0.0856 - val_accuracy: 0.9698 - val_loss: 0.0994\n",
            "Epoch 4/10\n",
            "\u001b[1m1500/1500\u001b[0m \u001b[32m━━━━━━━━━━━━━━━━━━━━\u001b[0m\u001b[37m\u001b[0m \u001b[1m11s\u001b[0m 4ms/step - accuracy: 0.9812 - loss: 0.0617 - val_accuracy: 0.9737 - val_loss: 0.0884\n",
            "Epoch 5/10\n",
            "\u001b[1m1500/1500\u001b[0m \u001b[32m━━━━━━━━━━━━━━━━━━━━\u001b[0m\u001b[37m\u001b[0m \u001b[1m7s\u001b[0m 5ms/step - accuracy: 0.9870 - loss: 0.0473 - val_accuracy: 0.9723 - val_loss: 0.0856\n",
            "Epoch 6/10\n",
            "\u001b[1m1500/1500\u001b[0m \u001b[32m━━━━━━━━━━━━━━━━━━━━\u001b[0m\u001b[37m\u001b[0m \u001b[1m6s\u001b[0m 4ms/step - accuracy: 0.9893 - loss: 0.0362 - val_accuracy: 0.9766 - val_loss: 0.0806\n",
            "Epoch 7/10\n",
            "\u001b[1m1500/1500\u001b[0m \u001b[32m━━━━━━━━━━━━━━━━━━━━\u001b[0m\u001b[37m\u001b[0m \u001b[1m7s\u001b[0m 5ms/step - accuracy: 0.9924 - loss: 0.0280 - val_accuracy: 0.9693 - val_loss: 0.1080\n",
            "Epoch 8/10\n",
            "\u001b[1m1500/1500\u001b[0m \u001b[32m━━━━━━━━━━━━━━━━━━━━\u001b[0m\u001b[37m\u001b[0m \u001b[1m7s\u001b[0m 5ms/step - accuracy: 0.9933 - loss: 0.0227 - val_accuracy: 0.9734 - val_loss: 0.0920\n",
            "Epoch 9/10\n",
            "\u001b[1m1500/1500\u001b[0m \u001b[32m━━━━━━━━━━━━━━━━━━━━\u001b[0m\u001b[37m\u001b[0m \u001b[1m8s\u001b[0m 5ms/step - accuracy: 0.9951 - loss: 0.0172 - val_accuracy: 0.9769 - val_loss: 0.0821\n",
            "Epoch 10/10\n",
            "\u001b[1m1500/1500\u001b[0m \u001b[32m━━━━━━━━━━━━━━━━━━━━\u001b[0m\u001b[37m\u001b[0m \u001b[1m6s\u001b[0m 4ms/step - accuracy: 0.9961 - loss: 0.0140 - val_accuracy: 0.9767 - val_loss: 0.0908\n"
          ]
        }
      ]
    },
    {
      "cell_type": "markdown",
      "source": [
        "Explanation:\n",
        "\n",
        "model.fit(...): This is where the training process happens:\n",
        "train_images, train_labels: The training data and their corresponding one-hot encoded labels.\n",
        "epochs=10: The number of times the entire training dataset will be passed through the model. More epochs can lead to better learning but also a risk of overfitting.\n",
        "batch_size=32: The number of samples that will be processed at each gradient update. Smaller batch sizes can lead to more noisy training but may generalize better.\n",
        "validation_split=0.2: This tells Keras to use 20% of the training data as a validation set during training. The model's performance on this unseen validation set is monitored to detect overfitting.\n",
        "history: The fit method returns a History object that contains information about the training process, such as the loss and accuracy at each epoch for both the training and validation sets.\n"
      ],
      "metadata": {
        "id": "i2MRFlIfB_rd"
      }
    },
    {
      "cell_type": "code",
      "source": [
        "# Evaluate the model on the test data\n",
        "loss, accuracy = model.evaluate(test_images, test_labels, verbose=0)\n",
        "print(f\"Test Loss: {loss:.4f}\")\n",
        "print(f\"Test Accuracy: {accuracy:.4f}\")"
      ],
      "metadata": {
        "colab": {
          "base_uri": "https://localhost:8080/"
        },
        "id": "Qv68cq34CFm1",
        "outputId": "0dbae3e6-2e0f-4873-8d73-0a45c6027aa0"
      },
      "execution_count": 7,
      "outputs": [
        {
          "output_type": "stream",
          "name": "stdout",
          "text": [
            "Test Loss: 0.0786\n",
            "Test Accuracy: 0.9786\n"
          ]
        }
      ]
    },
    {
      "cell_type": "markdown",
      "source": [
        "Explanation:\n",
        "\n",
        "model.evaluate(...): This evaluates the trained model on the unseen test data to get an estimate of its generalization performance.\n",
        "test_images, test_labels: The test data and their corresponding one-hot encoded labels.\n",
        "verbose=0: Suppresses the output during evaluation.\n",
        "The function returns the test loss and the test accuracy."
      ],
      "metadata": {
        "id": "OoywSHMoCKuT"
      }
    },
    {
      "cell_type": "code",
      "source": [
        "# Make predictions on the first 10 test images\n",
        "predictions = model.predict(test_images[:10])\n",
        "\n",
        "# Convert the probability distributions to class labels\n",
        "predicted_labels = tf.argmax(predictions, axis=1)\n",
        "true_labels = tf.argmax(test_labels[:10], axis=1)\n",
        "\n",
        "# Display the images and their predictions\n",
        "plt.figure(figsize=(12, 4))\n",
        "for i in range(10):\n",
        "    plt.subplot(1, 10, i + 1)\n",
        "    plt.imshow(test_images[i], cmap='gray')\n",
        "    plt.title(f\"Pred: {predicted_labels[i]}\\nTrue: {true_labels[i]}\")\n",
        "    plt.axis('off')\n",
        "plt.show()"
      ],
      "metadata": {
        "colab": {
          "base_uri": "https://localhost:8080/",
          "height": 175
        },
        "id": "_sF5tpxLCLeo",
        "outputId": "4192623e-6815-4608-8693-8d14205778e5"
      },
      "execution_count": 8,
      "outputs": [
        {
          "output_type": "stream",
          "name": "stdout",
          "text": [
            "\u001b[1m1/1\u001b[0m \u001b[32m━━━━━━━━━━━━━━━━━━━━\u001b[0m\u001b[37m\u001b[0m \u001b[1m0s\u001b[0m 67ms/step\n"
          ]
        },
        {
          "output_type": "display_data",
          "data": {
            "text/plain": [
              "<Figure size 1200x400 with 10 Axes>"
            ],
            "image/png": "[encoded data removed]"
          },
          "metadata": {}
        }
      ]
    },
    {
      "cell_type": "markdown",
      "source": [
        "Explanation:\n",
        "\n",
        "model.predict(...): This generates probability distributions over the 10 classes for the given input images.\n",
        "\n",
        "tf.argmax(predictions, axis=1): This finds the index of the neuron with the highest probability for each prediction, which corresponds to the predicted digit.\n",
        "\n",
        "The code then displays the first 10 test images along with the model's prediction and the true label."
      ],
      "metadata": {
        "id": "kz8x-t0iCSYS"
      }
    }
  ]
}