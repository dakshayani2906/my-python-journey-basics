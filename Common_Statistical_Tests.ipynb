{
  "nbformat": 4,
  "nbformat_minor": 0,
  "metadata": {
    "colab": {
      "provenance": [],
      "authorship_tag": "ABX9TyMMmUDymNXYFU7QQm5n26GD",
      "include_colab_link": true
    },
    "kernelspec": {
      "name": "python3",
      "display_name": "Python 3"
    },
    "language_info": {
      "name": "python"
    }
  },
  "cells": [
    {
      "cell_type": "markdown",
      "metadata": {
        "id": "view-in-github",
        "colab_type": "text"
      },
      "source": [
        "<a href=\"https://colab.research.google.com/github/dakshayani2906/my-python-journey-basics/blob/main/Common_Statistical_Tests.ipynb\" target=\"_parent\"><img src=\"https://colab.research.google.com/assets/colab-badge.svg\" alt=\"Open In Colab\"/></a>"
      ]
    },
    {
      "cell_type": "code",
      "execution_count": 1,
      "metadata": {
        "id": "a9EF2siNzkqE"
      },
      "outputs": [],
      "source": [
        "import pandas as pd\n",
        "import numpy as np\n",
        "import matplotlib.pyplot as plt\n",
        "import scipy.stats as stats"
      ]
    },
    {
      "cell_type": "markdown",
      "source": [
        "1. One-sample t-test\n",
        "\n",
        "The mass of a sample of N = 20 acorns from a forest subjected to acid rain from a coal power plant are m = [8.8, 6.6, 9.5, 11.2, 10.2, 7.4, 8.0, 9.6, 9.9, 9.0, 7.6, 7.4, 10.4, 11.1, 8.5, 10.0, 11.6, 10.7, 10.3, and 7.0 g ]\n",
        "\n",
        "Does this sample provide enough evidence (alpha = 0.05) to say that the average mass of all acorns is different from 10 g?\n",
        "\n",
        "a) Formulate the null and alternate hypothesis\n",
        "\n",
        "H0\n",
        ": μ = 10, The average mass of the acorns is 10 g\n",
        "\n",
        "Ha\n",
        ": μ ≠\n",
        " 10, The average mass of the acorns is different from 10 g\n",
        "\n",
        "b) Calculate the test-statistic and based on the p-value provide a conclusion."
      ],
      "metadata": {
        "id": "oA8UAJEqz5u2"
      }
    },
    {
      "cell_type": "code",
      "source": [
        "x = [8.8, 6.6, 9.5, 11.2, 10.2, 7.4, 8.0, 9.6, 9.9, 9.0,\n",
        "     7.6, 7.4, 10.4, 11.1, 8.5, 10.0, 11.6, 10.7, 10.3, 7.0]\n",
        "\n",
        "mu = 10\n",
        "\n",
        "t, p = stats.ttest_1samp(x, popmean = mu)\n",
        "print(\"tstat = \", t, \", p-value = \", p)"
      ],
      "metadata": {
        "colab": {
          "base_uri": "https://localhost:8080/"
        },
        "id": "dt2dmsyzz-tl",
        "outputId": "3fed69f9-5e5f-47ca-e13c-affbd25b3ab1"
      },
      "execution_count": 2,
      "outputs": [
        {
          "output_type": "stream",
          "name": "stdout",
          "text": [
            "tstat =  -2.2491611580763973 , p-value =  0.03655562279112415\n"
          ]
        }
      ]
    },
    {
      "cell_type": "markdown",
      "source": [
        "Since p-value(~0.04) < 0.05 (alpha), we reject the null hypothesis and conclude that the average mass of the acorns is different from 10 g."
      ],
      "metadata": {
        "id": "QEPNqR9Cz-g0"
      }
    },
    {
      "cell_type": "code",
      "source": [],
      "metadata": {
        "id": "XwMHtJ5_0Dvk"
      },
      "execution_count": null,
      "outputs": []
    },
    {
      "cell_type": "markdown",
      "source": [
        "2. Independent (unpaired) two-sample t-test\n",
        "\n",
        "\n",
        "The mass of N1 = 20 acorns from oak trees up wind from a coal power plant and N2 = 30 acorns from oak trees down wind from the same coal power plant are measured. Is the mass of acorns from trees down wind different from the ones from up wind at a significance level of 0.05? The sample sizes are not equal but we will assume that the population variance for sample 1 and sample 2 are equal.\n",
        "\n",
        "sample up wind:\n",
        "x1 = [10.8, 10.0, 8.2, 9.9, 11.6, 10.1, 11.3, 10.3, 10.7, 9.7,       7.8, 9.6, 9.7, 11.6, 10.3, 9.8, 12.3, 11.0, 10.4, 10.4]\n",
        "\n",
        "sample down wind:\n",
        "x2 = [7.8, 7.5, 9.5, 11.7, 8.1, 8.8, 8.8, 7.7, 9.7, 7.0,       9.0, 9.7, 11.3, 8.7, 8.8, 10.9, 10.3, 9.6, 8.4, 6.6,       7.2, 7.6, 11.5, 6.6, 8.6, 10.5, 8.4, 8.5, 10.2, 9.2]\n",
        "\n",
        "a) Formulate the null and alternate hypothesis.\n",
        "\n",
        "H0\n",
        ": μ1=μ2\n",
        ", There is no difference between the average mass of acorns from down wind and up wind trees\n",
        "\n",
        "Ha\n",
        ": μ1≠μ2\n",
        ", There is a difference between the average mass of acorns from down wind and up wind trees\n",
        "\n",
        "b) Calculate the test-statistic and based on the p-value provide a conclusion."
      ],
      "metadata": {
        "id": "0vHPp04Sz8SV"
      }
    },
    {
      "cell_type": "code",
      "source": [
        "# sample up wind\n",
        "x1 = [10.8, 10.0, 8.2, 9.9, 11.6, 10.1, 11.3, 10.3, 10.7, 9.7,\n",
        "      7.8, 9.6, 9.7, 11.6, 10.3, 9.8, 12.3, 11.0, 10.4, 10.4]\n",
        "\n",
        "# sample down wind\n",
        "x2 = [7.8, 7.5, 9.5, 11.7, 8.1, 8.8, 8.8, 7.7, 9.7, 7.0,\n",
        "      9.0, 9.7, 11.3, 8.7, 8.8, 10.9, 10.3, 9.6, 8.4, 6.6,\n",
        "      7.2, 7.6, 11.5, 6.6, 8.6, 10.5, 8.4, 8.5, 10.2, 9.2]\n",
        "\n",
        "\n",
        "t, p_value = stats.ttest_ind(x1, x2)\n",
        "print(\"tstat = \",t, \", p_value = \", p_value)"
      ],
      "metadata": {
        "colab": {
          "base_uri": "https://localhost:8080/"
        },
        "id": "OuiY4BS_0JP2",
        "outputId": "61d1775b-4746-441a-a0cb-397adca7aea7"
      },
      "execution_count": 3,
      "outputs": [
        {
          "output_type": "stream",
          "name": "stdout",
          "text": [
            "tstat =  3.5981947686898033 , p_value =  0.0007560337478801464\n"
          ]
        }
      ]
    },
    {
      "cell_type": "markdown",
      "source": [
        "Since p-value(0.0007) < 0.05 (alpha), we reject the null hypothesis and conclude that there is a difference in the two means."
      ],
      "metadata": {
        "id": "nia6N1Ak0LTc"
      }
    },
    {
      "cell_type": "code",
      "source": [],
      "metadata": {
        "id": "LzTEciK80L2t"
      },
      "execution_count": null,
      "outputs": []
    },
    {
      "cell_type": "markdown",
      "source": [
        "3. ANOVA test\n",
        "\n",
        "\n",
        "The marks obtained by 5 randomly picked students in Mathematics exam from three sections A, B, and C are as follows:\n",
        "\n",
        "Marks of 5 randomly picked students from Section A\n",
        "A = [51, 45, 33, 45, 67]\n",
        "\n",
        "Marks of 5 randomly picked students from Section B\n",
        "B = [23, 43, 23, 43, 45]\n",
        "\n",
        "Marks of 5 randomly picked students from Section C\n",
        "C = [56, 76, 74, 87, 56]\n",
        "\n",
        "Does the sample provide enough evidence to say that the mean marks of students in the three sections are different?\n",
        "\n",
        "a) Formulate the null and alternate hypothesis.\n",
        "\n",
        "H0\n",
        ": The mean marks of students in the three sections are equal\n",
        "\n",
        "Ha\n",
        ": At least one of the mean marks of students in the three sections is unequal.\n",
        "\n",
        "b) Calculate the test-statistic and based on the p-value provide a conclusion"
      ],
      "metadata": {
        "id": "oxzoyaOB0MPV"
      }
    },
    {
      "cell_type": "code",
      "source": [
        "# marks of students in section A\n",
        "A = np.array([51, 45, 33, 45, 67])\n",
        "\n",
        "# marks of students in section B\n",
        "B = np.array([23,43,23,43,45])\n",
        "\n",
        "# marks of students in section C\n",
        "C = np.array([56, 76, 74, 87, 56])\n",
        "\n",
        "# performing a one-way ANOVA test\n",
        "t, p = stats.f_oneway(A, B, C)\n",
        "print(\"tstat = \", t, \", p-value = \", p)"
      ],
      "metadata": {
        "colab": {
          "base_uri": "https://localhost:8080/"
        },
        "id": "F2z5NhVY0QJt",
        "outputId": "fb743486-11c7-4c1a-e6c0-7ce6439297e8"
      },
      "execution_count": 4,
      "outputs": [
        {
          "output_type": "stream",
          "name": "stdout",
          "text": [
            "tstat =  9.747205503009463 , p-value =  0.0030597541434430548\n"
          ]
        }
      ]
    },
    {
      "cell_type": "markdown",
      "source": [
        "Since p-value(0.003) < 0.05 (alpha), we reject the null hypothesis and conclude that atleast one of the mean marks of students in the three sections is unequal."
      ],
      "metadata": {
        "id": "xFt2C4820SQ0"
      }
    }
  ]
}