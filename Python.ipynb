{
  "nbformat": 4,
  "nbformat_minor": 0,
  "metadata": {
    "colab": {
      "provenance": [],
      "authorship_tag": "ABX9TyOpGONtTxo4WzX0bMEiSdQH",
      "include_colab_link": true
    },
    "kernelspec": {
      "name": "python3",
      "display_name": "Python 3"
    },
    "language_info": {
      "name": "python"
    }
  },
  "cells": [
    {
      "cell_type": "markdown",
      "metadata": {
        "id": "view-in-github",
        "colab_type": "text"
      },
      "source": [
        "<a href=\"https://colab.research.google.com/github/dakshayani2906/my-python-journey-basics/blob/main/Python.ipynb\" target=\"_parent\"><img src=\"https://colab.research.google.com/assets/colab-badge.svg\" alt=\"Open In Colab\"/></a>"
      ]
    },
    {
      "cell_type": "markdown",
      "source": [
        "##Python Overview"
      ],
      "metadata": {
        "id": "G2VB7-1203IW"
      }
    },
    {
      "cell_type": "markdown",
      "source": [
        "## Python for Beginners to Pro: A Comprehensive Guide for Aspiring Technical Managers:\n",
        "\n",
        "Phase - 1: The Fundamentals (Laying the Ground Work)\n",
        "\n",
        "1. What is Python?\n",
        "2. Setting up your python Environment?\n",
        "3. First Python Code?\n",
        "4. Basic Datatypes?\n",
        "5. Variables?\n",
        "6. Operators\n",
        "7. Control Flow\n",
        "8. Functions\n",
        "\n",
        "\n",
        "Phase - 2: Intermediate Concepts (Building More complex Logic)\n",
        "9. Modules and PAckages\n",
        "10. Object Oriented Programming (OOP)\n",
        "11. File Handling\n",
        "12. Error Handling (Exceptions)\n",
        "13. Working with External Libraries (crucial for technical management)\n",
        "\n",
        "\n",
        "Phase - 3: Advanced concepts (For Deeper Understanding and Leadership)\n",
        "14. Generators and Iterators\n",
        "15. Decorators\n",
        "16. Content Managers (with Statement)\n",
        "17. Concurrency and Parallelism\n",
        "18. Asynchronus Programming(async and await)\n",
        "19. Testing (Unit, Integration, End to End)\n",
        "20.  Version COntrol (Git)\n",
        "21. Cloud"
      ],
      "metadata": {
        "id": "o7SI08hryHFV"
      }
    },
    {
      "cell_type": "markdown",
      "source": [
        "## Phase - 1\n",
        "\n",
        "The Fundamentals (Laying the Ground Work)"
      ],
      "metadata": {
        "id": "LEa2NiC91Jbo"
      }
    },
    {
      "cell_type": "markdown",
      "source": [
        "### What is Python?\n",
        "\n",
        "- Versatile toolkit (wide range of abilities, adaptability and mutliple uses or functions)\n",
        "\n",
        "1. High-Level Language: Closer to human language, making it easier to read and write compared to low-level languages.\n",
        "2. Interpreted Language: Code is executed line by line, making debugging easier.\n",
        "3. Dynamically Typed: You don't need to explicitly declare the data type of a variable. Python infers it at runtime.\n",
        "4. Versatile: Used for web development, data science, scripting, automation, and more.\n",
        "5. Large and Active Community: Plenty of resources, libraries, and support available.\n"
      ],
      "metadata": {
        "id": "7tKK42-80rpn"
      }
    },
    {
      "cell_type": "markdown",
      "source": [
        "### 2. Setting up Your Python Environment:\n",
        "\n",
        "Installation:\n",
        "\n",
        "Download Python from the official website (python.org) and follow the installation instructions for your operating system.\n",
        "\n",
        "Make sure to check the \"Add Python to PATH\" option during installation.\n",
        "\n",
        "\n",
        "Integrated Development Environment (IDE):\n",
        "\n",
        "While you can write code in a simple text editor, an IDE provides helpful features like syntax highlighting, code completion, and debugging tools.\n",
        "\n",
        "Popular choices include:\n",
        "\n",
        "1. VS Code (Highly Recommended): Free, powerful, and has excellent Python support.\n",
        "2. PyCharm (Professional and Community Editions): Feature-rich and specifically designed for Python.\n",
        "3. Jupyter Notebook/Lab: Excellent for interactive data exploration and learning."
      ],
      "metadata": {
        "id": "NSpcbBag1DpW"
      }
    },
    {
      "cell_type": "markdown",
      "source": [
        "### 3. Your First Python Code:"
      ],
      "metadata": {
        "id": "_N4duHNq2WjO"
      }
    },
    {
      "cell_type": "code",
      "execution_count": null,
      "metadata": {
        "colab": {
          "base_uri": "https://localhost:8080/"
        },
        "id": "kwt7kU9Vx87j",
        "outputId": "e3b43b60-3d52-494d-81f6-2b1c2e501b4f"
      },
      "outputs": [
        {
          "output_type": "stream",
          "name": "stdout",
          "text": [
            "Hello, World!\n"
          ]
        }
      ],
      "source": [
        "# print(): A buit-in function to display output on the console\n",
        "# Comments(#) - used to explain your code\n",
        "print(\"Hello, World!\")"
      ]
    },
    {
      "cell_type": "markdown",
      "source": [
        "###4. Basic Data Types:\n",
        "\n",
        "Think of these as the fundamental building blocks of information.\n",
        "\n",
        "Integers (int): Whole numbers (e.g., 10, -5, 0).\n",
        "\n",
        "Floats (float): Decimal numbers (e.g., 3.14, -2.5).\n",
        "\n",
        "Strings (str): Sequences of characters enclosed in single or double quotes (e.g., \"Hello\", 'Python').\n",
        "\n",
        "Booleans (bool): Represent truth values (True or False)."
      ],
      "metadata": {
        "id": "MF-tDooh2tS9"
      }
    },
    {
      "cell_type": "code",
      "source": [
        "# Lists (list): Ordered collections of items (can be of different types), mutable (changeable).\n",
        "\n",
        "\n",
        "my_list = [1, \"hello\", 3.14, True]\n",
        "print(my_list[0])  # Accessing the first element (index 0)\n",
        "my_list.append(\"world\") # Adding an element to the end\n",
        "print(my_list)"
      ],
      "metadata": {
        "colab": {
          "base_uri": "https://localhost:8080/"
        },
        "id": "_cUQ5OcJ220l",
        "outputId": "5854211f-b082-4e3d-8870-b268636f1a33"
      },
      "execution_count": null,
      "outputs": [
        {
          "output_type": "stream",
          "name": "stdout",
          "text": [
            "1\n",
            "[1, 'hello', 3.14, True, 'world']\n"
          ]
        }
      ]
    },
    {
      "cell_type": "code",
      "source": [
        "#Tuples (tuple): Ordered, immutable (unchangeable) collections.\n",
        "\n",
        "my_tuple = (1, \"hello\", 3.14)\n",
        "print(my_tuple[1]) # Accessing the second element (index 1)"
      ],
      "metadata": {
        "colab": {
          "base_uri": "https://localhost:8080/"
        },
        "id": "duYqEqGI3Lb6",
        "outputId": "9ae0f72f-0556-458e-fe72-b3ce401c10ed"
      },
      "execution_count": null,
      "outputs": [
        {
          "output_type": "stream",
          "name": "stdout",
          "text": [
            "hello\n"
          ]
        }
      ]
    },
    {
      "cell_type": "code",
      "source": [
        "# Dictionaries (dict): Key-value pairs, where keys are unique and used to access values.\n",
        "\n",
        "my_dict = {\"name\": \"Alice\", \"age\": 30, \"city\": \"Hyderabad\"}\n",
        "print(my_dict[\"name\"])\n",
        "my_dict[\"occupation\"] = \"Manager\" # Adding a new key-value pair\n",
        "print(my_dict)"
      ],
      "metadata": {
        "colab": {
          "base_uri": "https://localhost:8080/"
        },
        "id": "0WxznvRA3X4b",
        "outputId": "a022c782-efe0-4d9e-b21f-52034a907ea7"
      },
      "execution_count": null,
      "outputs": [
        {
          "output_type": "stream",
          "name": "stdout",
          "text": [
            "Alice\n",
            "{'name': 'Alice', 'age': 30, 'city': 'Hyderabad', 'occupation': 'Manager'}\n"
          ]
        }
      ]
    },
    {
      "cell_type": "code",
      "source": [
        "# Sets (set): Unordered collections of unique elements.\n",
        "\n",
        "my_set = {1, 2, 2, 3, 4, 4} # Duplicate elements are automatically removed\n",
        "print(my_set) # Output: {1, 2, 3, 4}"
      ],
      "metadata": {
        "colab": {
          "base_uri": "https://localhost:8080/"
        },
        "id": "F6RhjoW13nwQ",
        "outputId": "16ce628f-b56a-42a9-f70e-6e74978c722b"
      },
      "execution_count": null,
      "outputs": [
        {
          "output_type": "stream",
          "name": "stdout",
          "text": [
            "{1, 2, 3, 4}\n"
          ]
        }
      ]
    },
    {
      "cell_type": "code",
      "source": [
        "# Cheat Code 1: type() Function: Use type(variable_name) to find out the data type of a variable.\n",
        "\n",
        "age = 35\n",
        "name = \"Bob\"\n",
        "is_manager = True\n",
        "project_tasks = [\"plan\", \"code\", \"test\"]\n",
        "employee_info = {\"id\": 101, \"role\": \"Developer\"}\n",
        "\n",
        "print(type(age))        # Output: <class 'int'>\n",
        "print(type(name))       # Output: <class 'str'>\n",
        "print(type(is_manager))  # Output: <class 'bool'>\n",
        "print(type(project_tasks)) # Output: <class 'list'>\n",
        "print(type(employee_info))# Output: <class 'dict'>"
      ],
      "metadata": {
        "colab": {
          "base_uri": "https://localhost:8080/"
        },
        "id": "tac52NuT-2oZ",
        "outputId": "8661d058-5771-4cab-ecf4-a4ad11a0b4d0"
      },
      "execution_count": null,
      "outputs": [
        {
          "output_type": "stream",
          "name": "stdout",
          "text": [
            "<class 'int'>\n",
            "<class 'str'>\n",
            "<class 'bool'>\n",
            "<class 'list'>\n",
            "<class 'dict'>\n"
          ]
        }
      ]
    },
    {
      "cell_type": "markdown",
      "source": [
        "### 5. Variables\n",
        "\n",
        "Names used to store data values.\n",
        "\n",
        "Naming Conventions:\n",
        "\n",
        "Use descriptive names (e.g., number_of_users, project_name).\n",
        "\n",
        "Variable names are case-sensitive (myVar is different from myvar).\n",
        "\n",
        "\n",
        "Assignment: Use the = operator to assign a value to a variable (e.g., count = 10)."
      ],
      "metadata": {
        "id": "CCZXX1xq3vKs"
      }
    },
    {
      "cell_type": "code",
      "source": [
        "name = \"Bob\"\n",
        "age = 35\n",
        "is_active = True\n",
        "print(f\"Name: {name}, Age: {age}, Active: {is_active}\")  # f-strings for easy formatting"
      ],
      "metadata": {
        "colab": {
          "base_uri": "https://localhost:8080/"
        },
        "id": "9rcyTzBA3zTk",
        "outputId": "61578329-13f8-4af2-8adc-bc872250d8d6"
      },
      "execution_count": null,
      "outputs": [
        {
          "output_type": "stream",
          "name": "stdout",
          "text": [
            "Name: Bob, Age: 35, Active: True\n"
          ]
        }
      ]
    },
    {
      "cell_type": "code",
      "source": [
        "team_size = 5\n",
        "budget = 100000.50\n",
        "project_status = \"In Progress\"\n",
        "\n",
        "print(team_size)       # Output: 5\n",
        "print(budget)          # Output: 100000.5\n",
        "print(project_status)  # Output: In Progress"
      ],
      "metadata": {
        "colab": {
          "base_uri": "https://localhost:8080/"
        },
        "id": "atI0WG6O_HTA",
        "outputId": "cc34d1b6-d253-403f-ce92-ebd6ab3ae8ab"
      },
      "execution_count": null,
      "outputs": [
        {
          "output_type": "stream",
          "name": "stdout",
          "text": [
            "5\n",
            "100000.5\n",
            "In Progress\n"
          ]
        }
      ]
    },
    {
      "cell_type": "markdown",
      "source": [
        "### 6. Operators\n",
        "\n",
        "Symbols used to perform operations on values.\n",
        "\n",
        "1. Arithmetic Operators:\n",
        "\n",
        "a. addition + , subtraction - , multiplication * , division /\n",
        "\n",
        "b. floor division // , modulo - remainder %, exponentiation **.\n",
        "\n",
        "2. Comparison Operators: == (equal to), != (not equal to), > (greater than), < (less than), >= (greater than or equal to), <= (less than or equal to).\n",
        "\n",
        "3. Logical Operators:\n",
        "\n",
        "and (both conditions must be true),\n",
        "or (at least one condition must be true),\n",
        "not (negates a condition).\n",
        "4. Assignment Operators:\n",
        "\n",
        "= (assign), +=, -=, *=, /=, etc. (shorthand for operations and assignment)."
      ],
      "metadata": {
        "id": "QQTYFEyH4Dyz"
      }
    },
    {
      "cell_type": "code",
      "source": [
        "num1 = 10\n",
        "num2 = 5\n",
        "\n",
        "print(num1 + num2)   # Output: 15\n",
        "print(num1 > num2)    # Output: True\n",
        "print(num1 % num2)    # Output: 0"
      ],
      "metadata": {
        "colab": {
          "base_uri": "https://localhost:8080/"
        },
        "id": "c1Wq9OL3_MmR",
        "outputId": "57c80010-16d5-4803-b7ac-3bef61a82a88"
      },
      "execution_count": null,
      "outputs": [
        {
          "output_type": "stream",
          "name": "stdout",
          "text": [
            "15\n",
            "True\n",
            "0\n"
          ]
        }
      ]
    },
    {
      "cell_type": "markdown",
      "source": [
        "### 7. Control Flow:\n",
        "\n",
        "Statements that determine the order in which code is executed."
      ],
      "metadata": {
        "id": "EoA597c85K9u"
      }
    },
    {
      "cell_type": "code",
      "source": [
        "# if, elif, else (Conditional Statements):\n",
        "\n",
        "\n",
        "age = 25\n",
        "if age >= 18:\n",
        "    print(\"Adult\")\n",
        "elif age >= 13:\n",
        "    print(\"Teenager\")\n",
        "else:\n",
        "    print(\"Child\")"
      ],
      "metadata": {
        "colab": {
          "base_uri": "https://localhost:8080/"
        },
        "id": "SNH9-fxZ5N8U",
        "outputId": "2b764df3-84fe-4adc-b845-6e2ba53b3762"
      },
      "execution_count": null,
      "outputs": [
        {
          "output_type": "stream",
          "name": "stdout",
          "text": [
            "Adult\n"
          ]
        }
      ]
    },
    {
      "cell_type": "code",
      "source": [
        "# For Loops (Iteration over sequences):\n",
        "\n",
        "numbers = [1, 2, 3, 4, 5]\n",
        "for number in numbers:\n",
        "    print(number * 2)\n",
        "\n",
        "for i in range(5): # Generates a sequence of numbers from 0 to 4\n",
        "    print(f\"Iteration: {i}\")"
      ],
      "metadata": {
        "colab": {
          "base_uri": "https://localhost:8080/"
        },
        "id": "t_SOAgex5YF5",
        "outputId": "613641c2-b1de-4d9d-d48b-af9f7dc8f44a"
      },
      "execution_count": null,
      "outputs": [
        {
          "output_type": "stream",
          "name": "stdout",
          "text": [
            "2\n",
            "4\n",
            "6\n",
            "8\n",
            "10\n",
            "Iteration: 0\n",
            "Iteration: 1\n",
            "Iteration: 2\n",
            "Iteration: 3\n",
            "Iteration: 4\n"
          ]
        }
      ]
    },
    {
      "cell_type": "code",
      "source": [
        "team_members = [\"Alice\", \"Bob\", \"Charlie\"]\n",
        "for member in team_members:\n",
        "    print(f\"Hello, {member}!\")"
      ],
      "metadata": {
        "colab": {
          "base_uri": "https://localhost:8080/"
        },
        "id": "Yv6YIX7n_VpA",
        "outputId": "ffd4b97b-daed-4a97-d211-ff448c2f4521"
      },
      "execution_count": null,
      "outputs": [
        {
          "output_type": "stream",
          "name": "stdout",
          "text": [
            "Hello, Alice!\n",
            "Hello, Bob!\n",
            "Hello, Charlie!\n"
          ]
        }
      ]
    },
    {
      "cell_type": "code",
      "source": [
        "# while loops (Repeat as long as a condition is true):\n",
        "\n",
        "count = 0\n",
        "while count < 3:\n",
        "    print(f\"Count is: {count}\")\n",
        "    count += 1\n"
      ],
      "metadata": {
        "colab": {
          "base_uri": "https://localhost:8080/"
        },
        "id": "9RPrvF1k5pe2",
        "outputId": "08c18ed5-de68-4ee4-8de4-61b7595679e1"
      },
      "execution_count": null,
      "outputs": [
        {
          "output_type": "stream",
          "name": "stdout",
          "text": [
            "Count is: 0\n",
            "Count is: 1\n",
            "Count is: 2\n"
          ]
        }
      ]
    },
    {
      "cell_type": "code",
      "source": [
        "task_count = 0\n",
        "while task_count < 3:\n",
        "    print(f\"Processing task {task_count + 1}\")\n",
        "    task_count += 1"
      ],
      "metadata": {
        "colab": {
          "base_uri": "https://localhost:8080/"
        },
        "id": "sn6k4Jkc_amQ",
        "outputId": "678af3a8-c16c-4a26-c840-4ecf6784f8dc"
      },
      "execution_count": null,
      "outputs": [
        {
          "output_type": "stream",
          "name": "stdout",
          "text": [
            "Processing task 1\n",
            "Processing task 2\n",
            "Processing task 3\n"
          ]
        }
      ]
    },
    {
      "cell_type": "code",
      "source": [
        "# break and continue: Control the flow within loops (break exits the loop, continue skips the current iteration)."
      ],
      "metadata": {
        "id": "YdPzMfJb5v9-"
      },
      "execution_count": null,
      "outputs": []
    },
    {
      "cell_type": "code",
      "source": [
        "# Cheat Code 2: List Comprehensions: A concise way to create lists based on existing iterables.\n",
        "\n",
        "numbers = [1, 2, 3, 4, 5]\n",
        "squared_numbers = [num ** 2 for num in numbers]\n",
        "print(squared_numbers)\n",
        "\n",
        "even_numbers = [num for num in numbers if num % 2 == 0]\n",
        "print(even_numbers)"
      ],
      "metadata": {
        "colab": {
          "base_uri": "https://localhost:8080/"
        },
        "id": "p41IpCry_hOE",
        "outputId": "ff92b5b4-dad8-4d6a-eacc-783ac4ce20cd"
      },
      "execution_count": null,
      "outputs": [
        {
          "output_type": "stream",
          "name": "stdout",
          "text": [
            "[1, 4, 9, 16, 25]\n",
            "[2, 4]\n"
          ]
        }
      ]
    },
    {
      "cell_type": "markdown",
      "source": [
        "###8. Functions:\n",
        "\n",
        "Reusable blocks of code that perform specific tasks.\n",
        "\n",
        "Defining Functions: Use the def keyword followed by the function name, parentheses for parameters (inputs), and a colon. The code block within the function is indented.\n",
        "\n",
        "Calling Functions: Execute a function by its name followed by parentheses, providing arguments if the function has parameters.\n",
        "\n",
        "Return Values: Use the return statement to send a value back from the function."
      ],
      "metadata": {
        "id": "TyGSVV385y1L"
      }
    },
    {
      "cell_type": "code",
      "source": [
        "def greet(name):\n",
        "    \"\"\"This function greets the person passed in as a parameter.\"\"\"\n",
        "    print(f\"Hello, {name}!\")\n",
        "\n",
        "greet(\"Charlie\")\n",
        "\n",
        "def add(x, y):\n",
        "    \"\"\"This function returns the sum of two numbers.\"\"\"\n",
        "    return x + y\n",
        "\n",
        "result = add(5, 3)\n",
        "print(f\"The sum is: {result}\")"
      ],
      "metadata": {
        "colab": {
          "base_uri": "https://localhost:8080/"
        },
        "id": "7te1qx0a52HS",
        "outputId": "df565460-e475-45af-c090-edbb2d6f3f0c"
      },
      "execution_count": null,
      "outputs": [
        {
          "output_type": "stream",
          "name": "stdout",
          "text": [
            "Hello, Charlie!\n",
            "The sum is: 8\n"
          ]
        }
      ]
    },
    {
      "cell_type": "markdown",
      "source": [
        "def keyword: Used to define a function.\n",
        "\n",
        "Parameters: Inputs to the function (e.g., name, x, y).\n",
        "\n",
        "Docstrings: Explanations of what the function does (enclosed in triple quotes).\n",
        "\n",
        "return statement: Sends a value back from the function."
      ],
      "metadata": {
        "id": "8XxhaF636CHn"
      }
    },
    {
      "cell_type": "code",
      "source": [
        "def calculate_roi(investment, gain):\n",
        "    \"\"\"Calculates the Return on Investment.\"\"\"\n",
        "    roi = (gain - investment) / investment\n",
        "    return roi\n",
        "\n",
        "greet(\"Eve\")  # Output: Greetings, Eve!\n",
        "roi_percentage = calculate_roi(1000, 1200)\n",
        "print(f\"Return on Investment: {roi_percentage:.2f}\") # Output: Return on Investment: 0.20"
      ],
      "metadata": {
        "colab": {
          "base_uri": "https://localhost:8080/"
        },
        "id": "fSLHEfh7AyLG",
        "outputId": "9b18b834-e97c-4e80-b66d-b15b6073448f"
      },
      "execution_count": null,
      "outputs": [
        {
          "output_type": "stream",
          "name": "stdout",
          "text": [
            "Hello, Eve!\n",
            "Return on Investment: 0.20\n"
          ]
        }
      ]
    },
    {
      "cell_type": "markdown",
      "source": [
        "## Phase 2: Intermediate Concepts (Building More COmplex Logic)\n",
        "\n",
        "these concepts will help you grasp the architecture and capabilities of systems your team builds."
      ],
      "metadata": {
        "id": "fAo3Y4C96Lcm"
      }
    },
    {
      "cell_type": "markdown",
      "source": [
        "### 9. Modules and Packages:"
      ],
      "metadata": {
        "id": "_qoaZkMo6ZD5"
      }
    },
    {
      "cell_type": "code",
      "source": [
        "#Modules: Python files containing definitions and statements. You can import them to reuse code.\n",
        "\n",
        "import math # Import the entire math module\n",
        "print(math.sqrt(16))\n",
        "\n",
        "import datetime  # Import the datetime class from the datetime module\n",
        "now = datetime.datetime.now()  # Use a class from the datetime module\n",
        "print(now)"
      ],
      "metadata": {
        "colab": {
          "base_uri": "https://localhost:8080/"
        },
        "id": "YDzi-MAB6XzM",
        "outputId": "04968bdc-87c8-4f1e-fda5-558cda9c2a4b"
      },
      "execution_count": null,
      "outputs": [
        {
          "output_type": "stream",
          "name": "stdout",
          "text": [
            "4.0\n",
            "2025-04-09 09:38:14.299885\n"
          ]
        }
      ]
    },
    {
      "cell_type": "markdown",
      "source": [
        "Commonly Used Modules (relevant to management):\n",
        "\n",
        "os: Interacting with the operating system (e.g., file management).\n",
        "\n",
        "datetime: Working with dates and times.\n",
        "\n",
        "json: Handling JSON data (common in web APIs).\n",
        "\n",
        "csv: Working with CSV files (for data).\n",
        "\n",
        "requests: Making HTTP requests (for interacting with web services).\n",
        "\n",
        "pandas (third-party): Powerful library for data analysis (we'll touch on this)."
      ],
      "metadata": {
        "id": "c-EbIKVCBY7H"
      }
    },
    {
      "cell_type": "code",
      "source": [
        "#Packages: Collections of modules organized in a directory hierarchy. Used to structure larger projects."
      ],
      "metadata": {
        "id": "I7QCrHxf6nRJ"
      },
      "execution_count": null,
      "outputs": []
    },
    {
      "cell_type": "markdown",
      "source": [
        "### 10.Object-Oriented Programming (OOP):\n",
        "\n",
        "A powerful paradigm for structuring code using \"objects\" that have data (attributes) and behavior (methods). This is crucial for understanding many modern software systems.\n",
        "\n",
        "Classes: Blueprints for creating objects.\n",
        "\n",
        "Objects (Instances): Concrete realizations of a class.\n",
        "\n",
        "Attributes: Data associated with an object (variables within a class).\n",
        "\n",
        "Methods: Functions associated with an object (functions within a class).\n",
        "\n",
        "Encapsulation: Bundling data and methods within a class.\n",
        "\n",
        "Inheritance: Creating new classes based on existing ones, inheriting their attributes and methods.\n",
        "\n",
        "Polymorphism: The ability of objects of different classes to respond to the same method call in their own way."
      ],
      "metadata": {
        "id": "LbuGBwK26qKg"
      }
    },
    {
      "cell_type": "code",
      "source": [
        "class Dog:\n",
        "    def __init__(self, name, breed):\n",
        "        self.name = name\n",
        "        self.breed = breed\n",
        "\n",
        "    def bark(self):\n",
        "        print(\"Woof!\")\n",
        "\n",
        "my_dog = Dog(\"Buddy\", \"Golden Retriever\")\n",
        "print(my_dog.name)\n",
        "my_dog.bark()"
      ],
      "metadata": {
        "colab": {
          "base_uri": "https://localhost:8080/"
        },
        "id": "ZItUQ5C56p3Y",
        "outputId": "efef4648-e3bf-4dfb-c946-b58cb2a45283"
      },
      "execution_count": null,
      "outputs": [
        {
          "output_type": "stream",
          "name": "stdout",
          "text": [
            "Buddy\n",
            "Woof!\n"
          ]
        }
      ]
    },
    {
      "cell_type": "markdown",
      "source": [
        "### 11. File Handling:\n",
        "\n",
        "Reading from and writing to files.\n"
      ],
      "metadata": {
        "id": "mrHaqP6V7BSA"
      }
    },
    {
      "cell_type": "markdown",
      "source": [
        "Opening and Closing Files:\n",
        "\n",
        "Use the open() function with different modes ('r' for read, 'w' for write, 'a' for append).\n",
        "\n",
        "It's best practice to use the with statement, which automatically closes the file."
      ],
      "metadata": {
        "id": "gZ87c0c0CXwe"
      }
    },
    {
      "cell_type": "code",
      "source": [
        "with open(\"project_report.txt\", \"r\") as file:\n",
        "    content = file.read()\n",
        "    print(content)\n",
        "\n",
        "data = [\"Task 1: Completed\", \"Task 2: In Progress\"]\n",
        "with open(\"task_updates.txt\", \"w\") as file:\n",
        "    for line in data:\n",
        "        file.write(line + \"\\n\")"
      ],
      "metadata": {
        "colab": {
          "base_uri": "https://localhost:8080/",
          "height": 211
        },
        "id": "EpNOsUI4Ch1d",
        "outputId": "f16ca2cd-2b5b-4b6e-fefc-07292829a472"
      },
      "execution_count": null,
      "outputs": [
        {
          "output_type": "error",
          "ename": "FileNotFoundError",
          "evalue": "[Errno 2] No such file or directory: 'project_report.txt'",
          "traceback": [
            "\u001b[0;31m---------------------------------------------------------------------------\u001b[0m",
            "\u001b[0;31mFileNotFoundError\u001b[0m                         Traceback (most recent call last)",
            "\u001b[0;32m<ipython-input-29-b0fd5763426f>\u001b[0m in \u001b[0;36m<cell line: 0>\u001b[0;34m()\u001b[0m\n\u001b[0;32m----> 1\u001b[0;31m \u001b[0;32mwith\u001b[0m \u001b[0mopen\u001b[0m\u001b[0;34m(\u001b[0m\u001b[0;34m\"project_report.txt\"\u001b[0m\u001b[0;34m,\u001b[0m \u001b[0;34m\"r\"\u001b[0m\u001b[0;34m)\u001b[0m \u001b[0;32mas\u001b[0m \u001b[0mfile\u001b[0m\u001b[0;34m:\u001b[0m\u001b[0;34m\u001b[0m\u001b[0;34m\u001b[0m\u001b[0m\n\u001b[0m\u001b[1;32m      2\u001b[0m     \u001b[0mcontent\u001b[0m \u001b[0;34m=\u001b[0m \u001b[0mfile\u001b[0m\u001b[0;34m.\u001b[0m\u001b[0mread\u001b[0m\u001b[0;34m(\u001b[0m\u001b[0;34m)\u001b[0m\u001b[0;34m\u001b[0m\u001b[0;34m\u001b[0m\u001b[0m\n\u001b[1;32m      3\u001b[0m     \u001b[0mprint\u001b[0m\u001b[0;34m(\u001b[0m\u001b[0mcontent\u001b[0m\u001b[0;34m)\u001b[0m\u001b[0;34m\u001b[0m\u001b[0;34m\u001b[0m\u001b[0m\n\u001b[1;32m      4\u001b[0m \u001b[0;34m\u001b[0m\u001b[0m\n\u001b[1;32m      5\u001b[0m \u001b[0mdata\u001b[0m \u001b[0;34m=\u001b[0m \u001b[0;34m[\u001b[0m\u001b[0;34m\"Task 1: Completed\"\u001b[0m\u001b[0;34m,\u001b[0m \u001b[0;34m\"Task 2: In Progress\"\u001b[0m\u001b[0;34m]\u001b[0m\u001b[0;34m\u001b[0m\u001b[0;34m\u001b[0m\u001b[0m\n",
            "\u001b[0;31mFileNotFoundError\u001b[0m: [Errno 2] No such file or directory: 'project_report.txt'"
          ]
        }
      ]
    },
    {
      "cell_type": "code",
      "source": [
        "# Writing to a file\n",
        "with open(\"my_file.txt\", \"w\") as file:\n",
        "    file.write(\"Hello, this is some text.\\n\")\n",
        "    file.write(\"Another line.\")\n",
        "\n",
        "# Reading from a file\n",
        "with open(\"my_file.txt\", \"r\") as file:\n",
        "    content = file.read()\n",
        "    print(content)\n",
        "\n",
        "# Reading line by line\n",
        "with open(\"my_file.txt\", \"r\") as file:\n",
        "    for line in file:\n",
        "        print(line.strip()) # Remove leading/trailing whitespace"
      ],
      "metadata": {
        "colab": {
          "base_uri": "https://localhost:8080/"
        },
        "id": "V2Kh4zUv7ILo",
        "outputId": "a6a428f0-607e-4982-8a8a-3158af9fc0be"
      },
      "execution_count": null,
      "outputs": [
        {
          "output_type": "stream",
          "name": "stdout",
          "text": [
            "Hello, this is some text.\n",
            "Another line.\n",
            "Hello, this is some text.\n",
            "Another line.\n"
          ]
        }
      ]
    },
    {
      "cell_type": "markdown",
      "source": [
        "### 12. Error Handling (Try - Except):\n",
        "\n",
        "Gracefully dealing with runtime errors.\n",
        "\n",
        "Anticipate potential errors in your code and handle them gracefully.\n",
        "\n",
        "try and except blocks: Enclose the code that might raise an error in the try block, and the code to handle the error in the except block.\n",
        "\n",
        "    def divide(a, b):\n",
        "try:\n",
        "\n",
        "result = a / b\n",
        "\n",
        "return result\n",
        "\n",
        "except ZeroDivisionError:\n",
        "\n",
        "print(\"Error: Cannot divide by zero.\")\n",
        "\n",
        "return None"
      ],
      "metadata": {
        "id": "wkYMzTNn7WKZ"
      }
    },
    {
      "cell_type": "code",
      "source": [
        "try:\n",
        "    result = 10 / 0\n",
        "except ZeroDivisionError as e:\n",
        "    print(f\"Error: Cannot divide by zero. ({e})\")\n",
        "finally:\n",
        "    print(\"This will always execute.\")"
      ],
      "metadata": {
        "colab": {
          "base_uri": "https://localhost:8080/"
        },
        "id": "LAY7O0wK7Zy3",
        "outputId": "40eb7470-530a-4228-80ec-5af88336dd9c"
      },
      "execution_count": null,
      "outputs": [
        {
          "output_type": "stream",
          "name": "stdout",
          "text": [
            "Error: Cannot divide by zero. (division by zero)\n",
            "This will always execute.\n"
          ]
        }
      ]
    },
    {
      "cell_type": "markdown",
      "source": [
        "### 13. Working with External Libraries (Crucial for Technical Management):\n",
        "\n",
        "Python's strength lies in its vast ecosystem of libraries. As a manager, you'll need to understand what these libraries do and how your teams use them.\n",
        "\n",
        "requests: For making HTTP requests (interacting with web services).\n",
        "json: For working with JSON data (common in web APIs).\n",
        "pandas: For data manipulation and analysis (tabular data).\n",
        "numpy: For numerical computing (arrays, matrices).\n",
        "matplotlib and seaborn: For data visualization.\n",
        "SQLAlchemy: For interacting with databases.\n",
        "pytest and unittest: For writing and running tests."
      ],
      "metadata": {
        "id": "5Euss9Er79DE"
      }
    },
    {
      "cell_type": "code",
      "source": [
        "import requests\n",
        "import json\n",
        "\n",
        "try:\n",
        "    response = requests.get(\"https://jsonplaceholder.typicode.com/todos/1\")\n",
        "    response.raise_for_status() # Raise an exception for bad status codes\n",
        "    data = response.json()\n",
        "    print(json.dumps(data, indent=4)) # Pretty print the JSON\n",
        "    print(f\"Title: {data['title']}\")\n",
        "except requests.exceptions.RequestException as e:\n",
        "    print(f\"Error fetching data: {e}\")\n",
        "except json.JSONDecodeError as e:\n",
        "    print(f\"Error decoding JSON: {e}\")"
      ],
      "metadata": {
        "colab": {
          "base_uri": "https://localhost:8080/"
        },
        "id": "iYPAnLJd7_5M",
        "outputId": "da2300cb-4fe3-4e15-c922-333dc9d50422"
      },
      "execution_count": null,
      "outputs": [
        {
          "output_type": "stream",
          "name": "stdout",
          "text": [
            "{\n",
            "    \"userId\": 1,\n",
            "    \"id\": 1,\n",
            "    \"title\": \"delectus aut autem\",\n",
            "    \"completed\": false\n",
            "}\n",
            "Title: delectus aut autem\n"
          ]
        }
      ]
    },
    {
      "cell_type": "markdown",
      "source": [
        "## Phase 3: Advance Concepts (For Deeper Understanding and Leadership)"
      ],
      "metadata": {
        "id": "1OlqldRd8Ktd"
      }
    },
    {
      "cell_type": "markdown",
      "source": [
        "### 14. Generators and Iterators:\n",
        "\n",
        "Efficient ways to work with sequences of data, especially large datasets."
      ],
      "metadata": {
        "id": "BXIEvRmR8URD"
      }
    },
    {
      "cell_type": "markdown",
      "source": [
        "### 15. Decorators:\n",
        "\n",
        "A way to modify or enhance functions."
      ],
      "metadata": {
        "id": "40QiKxov8VeD"
      }
    },
    {
      "cell_type": "markdown",
      "source": [
        "### 16. Context Managers (with statement):\n",
        "\n",
        "Ensuring resources are properly managed (e.g., closing files)."
      ],
      "metadata": {
        "id": "rhz9pEnk8X-E"
      }
    },
    {
      "cell_type": "markdown",
      "source": [
        "### 17. Concurrency and Parallelism (Threading and Multiprocessing):\n",
        "\n",
        "Understanding how to execute tasks concurrently to improve performance."
      ],
      "metadata": {
        "id": "bJJDmuUU8aqj"
      }
    },
    {
      "cell_type": "markdown",
      "source": [
        "### 18. Asynchronous Programming (async and await):\n",
        "\n",
        "For handling I/O-bound operations efficiently without blocking the main thread."
      ],
      "metadata": {
        "id": "asGsAvYW8dT7"
      }
    },
    {
      "cell_type": "markdown",
      "source": [
        "### 19. Testing (Unit, Integration, End-to-End):\n",
        "\n",
        "Crucial for software quality. Understanding testing methodologies is important for a manager."
      ],
      "metadata": {
        "id": "GHADU9AS8g-b"
      }
    },
    {
      "cell_type": "markdown",
      "source": [
        "### 20. Version Control (Git):\n",
        "\n",
        "Essential for managing code changes and collaboration. While not Python-specific, it's a fundamental tool for any technical team."
      ],
      "metadata": {
        "id": "ON7HUCLO8juT"
      }
    },
    {
      "cell_type": "markdown",
      "source": [
        "##Python Cheat Codes & Quick References:\n",
        "\n",
        "help(object): Get documentation for any Python object (function, class, module).\n",
        "\n",
        "dir(object): List the attributes and methods of an object.\n",
        "\n",
        "List Comprehensions: Concise way to create lists: [x*2 for x in range(5)] (output: [0, 2, 4, 6, 8]).\n",
        "\n",
        "Dictionary Comprehensions: Concise way to create dictionaries: {x: x**2 for x in range(3)} (output: {0: 0, 1: 1, 2: 4}).\n",
        "\n",
        "Lambda Functions (Anonymous Functions): Small, single-expression functions: add = lambda x, y: x + y.\n",
        "\n",
        "String Formatting (f-strings): Easy way to embed expressions in strings: name = \"Alice\"; print(f\"Hello, {name}\").\n",
        "\n",
        "Slicing (for lists, tuples, strings): Accessing a portion of a sequence: my_list[1:4] (elements from index 1 up to, but not including, index 4)."
      ],
      "metadata": {
        "id": "-ouxEbYs8nBU"
      }
    },
    {
      "cell_type": "code",
      "source": [],
      "metadata": {
        "id": "sZB0BWOX9cr0"
      },
      "execution_count": null,
      "outputs": []
    },
    {
      "cell_type": "markdown",
      "source": [
        "## Tips for Your Interview with the Officer:\n",
        "\n",
        "1. Focus on Practical Application: When explaining Python concepts, relate them to how they are used in software development and how understanding them helps in managing technical teams.\n",
        "2. Emphasize Problem-Solving: Highlight how Python's features and libraries enable efficient problem-solving and automation.\n",
        "3. Connect to Your Management Experience: Explain how your understanding of Python helps you better understand the technical challenges your team faces, estimate effort, and communicate effectively with engineers.\n",
        "4. Show Enthusiasm for Learning: Your willingness to learn Python demonstrates adaptability and a commitment to understanding the technical aspects of your new role.\n",
        "5. Be Prepared to Discuss Real-World Scenarios: Think about how Python might be used in the context of global delivery, such as automation of deployment processes, data analysis for project metrics, or scripting for infrastructure management.\n",
        "6. Don't Be Afraid to Say \"I Don't Know\": If you encounter a question you're unsure about, it's better to be honest and express your willingness to learn more about it."
      ],
      "metadata": {
        "id": "HSKZL2re9Avq"
      }
    },
    {
      "cell_type": "markdown",
      "source": [
        "## Practice 11 April 2025"
      ],
      "metadata": {
        "id": "MZgjWJscR3UE"
      }
    },
    {
      "cell_type": "code",
      "source": [],
      "metadata": {
        "id": "a4Nt2S6X8Kat"
      },
      "execution_count": null,
      "outputs": []
    }
  ]
}