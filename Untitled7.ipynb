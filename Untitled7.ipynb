{
  "cells": [
    {
      "cell_type": "markdown",
      "metadata": {
        "id": "view-in-github",
        "colab_type": "text"
      },
      "source": [
        "<a href=\"https://colab.research.google.com/github/dakshayani2906/my-python-journey-basics/blob/main/Untitled7.ipynb\" target=\"_parent\"><img src=\"https://colab.research.google.com/assets/colab-badge.svg\" alt=\"Open In Colab\"/></a>"
      ]
    },
    {
      "cell_type": "markdown",
      "source": [
        "## 10th April 2025"
      ],
      "metadata": {
        "id": "LqcICyB2BUNC"
      }
    },
    {
      "cell_type": "code",
      "source": [
        "import random\n",
        "import string\n",
        "\n",
        "def generate_password(length):\n",
        "  characters = string.ascii_letters + string.digits\n",
        "  password = ''.join(random.choice(characters) for _ in range(length))\n",
        "  return password\n",
        "\n",
        "print(generate_password(8))\n",
        "print(generate_password(12))\n"
      ],
      "metadata": {
        "colab": {
          "base_uri": "https://localhost:8080/"
        },
        "id": "7-4h82F1BX-e",
        "outputId": "ee5e61e3-9d5d-4fb7-ced9-3424173ed045"
      },
      "execution_count": null,
      "outputs": [
        {
          "output_type": "stream",
          "name": "stdout",
          "text": [
            "SoxMzaQ8\n",
            "dHcf5lJmIuOO\n"
          ]
        }
      ]
    },
    {
      "cell_type": "code",
      "source": [
        "import random\n",
        "import string\n",
        "\n",
        "def generate_password(length):\n",
        "    if length < 3:\n",
        "        return \"Password must be at least 3 characters long\"\n",
        "\n",
        "    # Step 2–4: One of each type\n",
        "    lower = random.choice(string.ascii_lowercase)\n",
        "    upper = random.choice(string.ascii_uppercase)\n",
        "    digit = random.choice(string.digits)\n",
        "\n",
        "    # Step 5: Remaining characters\n",
        "    remaining_length = length - 3\n",
        "    all_chars = string.ascii_letters + string.digits\n",
        "    rest = [random.choice(all_chars) for _ in range(remaining_length)]\n",
        "\n",
        "    # Step 6–7: Combine and shuffle\n",
        "    password_list = [lower, upper, digit] + rest\n",
        "    random.shuffle(password_list)\n",
        "\n",
        "    # Step 8: Join and return\n",
        "    return ''.join(password_list)\n",
        "\n",
        "print(generate_password(8))   # Always has at least 1 lowercase, 1 uppercase, 1 digit\n",
        "print(generate_password(12))\n",
        "print(generate_password(2))"
      ],
      "metadata": {
        "colab": {
          "base_uri": "https://localhost:8080/"
        },
        "id": "7z_NKH1lGaC9",
        "outputId": "7444ae24-37de-46a9-f313-005acceaccc9"
      },
      "execution_count": null,
      "outputs": [
        {
          "output_type": "stream",
          "name": "stdout",
          "text": [
            "Yd6M7zFB\n",
            "69uJrBpbmIIO\n",
            "Password must be at least 3 characters long\n"
          ]
        }
      ]
    },
    {
      "cell_type": "markdown",
      "source": [
        "#9th April 2025"
      ],
      "metadata": {
        "id": "rp1L7nAxxaWX"
      }
    },
    {
      "cell_type": "code",
      "source": [
        "a = \"Hello\"\n",
        "print(a)"
      ],
      "metadata": {
        "colab": {
          "base_uri": "https://localhost:8080/"
        },
        "id": "E1vJLNoExe_l",
        "outputId": "92aa3407-4418-4876-b7b3-2489d90675f7"
      },
      "execution_count": null,
      "outputs": [
        {
          "output_type": "stream",
          "name": "stdout",
          "text": [
            "Hello\n"
          ]
        }
      ]
    },
    {
      "cell_type": "code",
      "source": [
        "def greet(name):\n",
        "  print(f'Hello, {name}!')\n",
        "\n",
        "greet(\"Pandu\")"
      ],
      "metadata": {
        "colab": {
          "base_uri": "https://localhost:8080/"
        },
        "id": "NhdwGSUkxe0N",
        "outputId": "a326b45a-5334-40b5-d993-2cfef6591756"
      },
      "execution_count": null,
      "outputs": [
        {
          "output_type": "stream",
          "name": "stdout",
          "text": [
            "Hello, Pandu!\n"
          ]
        }
      ]
    },
    {
      "cell_type": "code",
      "source": [
        "def add_numbers(num1, num2):\n",
        "  sum_result = num1 +num2\n",
        "  return sum_result\n",
        "\n",
        "result = add_numbers(5,3)\n",
        "print(f\"The sum is: {result}\")"
      ],
      "metadata": {
        "colab": {
          "base_uri": "https://localhost:8080/"
        },
        "id": "vPr7UWSOxeXT",
        "outputId": "83d8bd4b-efce-43b0-9f04-258610afcd9a"
      },
      "execution_count": null,
      "outputs": [
        {
          "output_type": "stream",
          "name": "stdout",
          "text": [
            "The sum is: 8\n"
          ]
        }
      ]
    },
    {
      "cell_type": "code",
      "source": [
        "def is_valid_email(email):\n",
        "\n",
        "  if '@' not in email:\n",
        "      return False\n",
        "  parts = email.split('@')\n",
        "  if len(parts) != 2:\n",
        "    return False\n",
        "  parts = email.split('@')\n",
        "  if len(parts) != 2:\n",
        "    return False\n",
        "  local_part, domain_part = parts\n",
        "  if not local_part or not domain_part:\n",
        "        return False\n",
        "  if '' in email:\n",
        "      return False\n",
        "  return True\n",
        "\n",
        "print(is_valid_email(\"test@example.com\"))    # Output: True\n",
        "print(is_valid_email(\"invalid-email\"))       # Output: False\n",
        "print(is_valid_email(\"@example.com\"))        # Output: False\n",
        "print(is_valid_email(\"test@\"))               # Output: False\n",
        "print(is_valid_email(\"test @example.com\"))"
      ],
      "metadata": {
        "colab": {
          "base_uri": "https://localhost:8080/"
        },
        "id": "baTsqlNcNzCp",
        "outputId": "56b9f5a8-4fff-4d3a-d891-febcf063aaa1"
      },
      "execution_count": null,
      "outputs": [
        {
          "output_type": "stream",
          "name": "stdout",
          "text": [
            "False\n",
            "False\n",
            "False\n",
            "False\n",
            "False\n"
          ]
        }
      ]
    },
    {
      "cell_type": "code",
      "source": [
        "def calculate_average(numbers):\n",
        "  if not numbers:\n",
        "    return 0\n",
        "  return sum(numbers) / len(numbers)\n",
        "\n",
        "data1 = [10,20,30,40,50]\n",
        "print(f\"Average of {data1} : {calculate_average(data1)}\")\n",
        "data2 = []\n",
        "print(f\"Average of {data2} : {calculate_average(data2)}\")"
      ],
      "metadata": {
        "colab": {
          "base_uri": "https://localhost:8080/"
        },
        "id": "KBijx6qBa1xx",
        "outputId": "f411cfd8-1bbc-4eab-8b58-040f01dc332a"
      },
      "execution_count": null,
      "outputs": [
        {
          "output_type": "stream",
          "name": "stdout",
          "text": [
            "Average of [10, 20, 30, 40, 50] : 30.0\n",
            "Average of [] : 0\n"
          ]
        }
      ]
    },
    {
      "cell_type": "code",
      "source": [
        "def format_server_status(hostname, status, last_updated = None):\n",
        "  if last_updated:\n",
        "    message = f\"Server '{hostname}' is currently: {status.upper()}\"\n",
        "    if last_updated:\n",
        "        message += f\" (Last updated: {last_updated})\"\n",
        "  return message\n",
        "\n",
        "server_a_status = format_server_status(\"webserver01\", \"up\", \"2025-04-09 17:15:00\")\n",
        "print(server_a_status)\n",
        "\n",
        "\n",
        "server_b_status = format_server_status(\"dbserver02\", \"down\")\n",
        "print(server_b_status)"
      ],
      "metadata": {
        "colab": {
          "base_uri": "https://localhost:8080/",
          "height": 332
        },
        "id": "4cpBYuAkbig2",
        "outputId": "305ea64e-7ca7-4738-bada-04fb149ec455"
      },
      "execution_count": null,
      "outputs": [
        {
          "output_type": "stream",
          "name": "stdout",
          "text": [
            "Server 'webserver01' is currently: UP (Last updated: 2025-04-09 17:15:00)\n"
          ]
        },
        {
          "output_type": "error",
          "ename": "UnboundLocalError",
          "evalue": "cannot access local variable 'message' where it is not associated with a value",
          "traceback": [
            "\u001b[0;31m---------------------------------------------------------------------------\u001b[0m",
            "\u001b[0;31mUnboundLocalError\u001b[0m                         Traceback (most recent call last)",
            "\u001b[0;32m<ipython-input-19-0e2f60406a93>\u001b[0m in \u001b[0;36m<cell line: 0>\u001b[0;34m()\u001b[0m\n\u001b[1;32m     10\u001b[0m \u001b[0;34m\u001b[0m\u001b[0m\n\u001b[1;32m     11\u001b[0m \u001b[0;34m\u001b[0m\u001b[0m\n\u001b[0;32m---> 12\u001b[0;31m \u001b[0mserver_b_status\u001b[0m \u001b[0;34m=\u001b[0m \u001b[0mformat_server_status\u001b[0m\u001b[0;34m(\u001b[0m\u001b[0;34m\"dbserver02\"\u001b[0m\u001b[0;34m,\u001b[0m \u001b[0;34m\"down\"\u001b[0m\u001b[0;34m)\u001b[0m\u001b[0;34m\u001b[0m\u001b[0;34m\u001b[0m\u001b[0m\n\u001b[0m\u001b[1;32m     13\u001b[0m \u001b[0mprint\u001b[0m\u001b[0;34m(\u001b[0m\u001b[0mserver_b_status\u001b[0m\u001b[0;34m)\u001b[0m\u001b[0;34m\u001b[0m\u001b[0;34m\u001b[0m\u001b[0m\n",
            "\u001b[0;32m<ipython-input-19-0e2f60406a93>\u001b[0m in \u001b[0;36mformat_server_status\u001b[0;34m(hostname, status, last_updated)\u001b[0m\n\u001b[1;32m      4\u001b[0m     \u001b[0;32mif\u001b[0m \u001b[0mlast_updated\u001b[0m\u001b[0;34m:\u001b[0m\u001b[0;34m\u001b[0m\u001b[0;34m\u001b[0m\u001b[0m\n\u001b[1;32m      5\u001b[0m         \u001b[0mmessage\u001b[0m \u001b[0;34m+=\u001b[0m \u001b[0;34mf\" (Last updated: {last_updated})\"\u001b[0m\u001b[0;34m\u001b[0m\u001b[0;34m\u001b[0m\u001b[0m\n\u001b[0;32m----> 6\u001b[0;31m   \u001b[0;32mreturn\u001b[0m \u001b[0mmessage\u001b[0m\u001b[0;34m\u001b[0m\u001b[0;34m\u001b[0m\u001b[0m\n\u001b[0m\u001b[1;32m      7\u001b[0m \u001b[0;34m\u001b[0m\u001b[0m\n\u001b[1;32m      8\u001b[0m \u001b[0mserver_a_status\u001b[0m \u001b[0;34m=\u001b[0m \u001b[0mformat_server_status\u001b[0m\u001b[0;34m(\u001b[0m\u001b[0;34m\"webserver01\"\u001b[0m\u001b[0;34m,\u001b[0m \u001b[0;34m\"up\"\u001b[0m\u001b[0;34m,\u001b[0m \u001b[0;34m\"2025-04-09 17:15:00\"\u001b[0m\u001b[0;34m)\u001b[0m\u001b[0;34m\u001b[0m\u001b[0;34m\u001b[0m\u001b[0m\n",
            "\u001b[0;31mUnboundLocalError\u001b[0m: cannot access local variable 'message' where it is not associated with a value"
          ]
        }
      ]
    },
    {
      "cell_type": "code",
      "source": [
        "def format_server_status(hostname, status, last_updated=None):\n",
        "    \"\"\"\n",
        "    Formats a message indicating the status of a server.\n",
        "\n",
        "    Args:\n",
        "        hostname (str): The hostname of the server.\n",
        "        status (str): The current status of the server (e.g., \"UP\", \"DOWN\", \"MAINTENANCE\").\n",
        "        last_updated (str, optional): The timestamp of the last status update. Defaults to None.\n",
        "\n",
        "    Returns:\n",
        "        str: The formatted server status message.\n",
        "    \"\"\"\n",
        "    message = f\"Server '{hostname}' is currently: {status.upper()}\"\n",
        "    if last_updated:\n",
        "        message += f\" (Last updated: {last_updated})\"\n",
        "    return message\n",
        "\n",
        "# Testing the function\n",
        "server_a_status = format_server_status(\"webserver01\", \"up\", \"2025-04-09 17:15:00\")\n",
        "print(server_a_status)\n",
        "# Output: Server 'webserver01' is currently: UP (Last updated: 2025-04-09 17:15:00)\n",
        "\n",
        "server_b_status = format_server_status(\"dbserver02\", \"down\")\n",
        "print(server_b_status)\n",
        "# Output: Server 'dbserver02' is currently: DOWN"
      ],
      "metadata": {
        "colab": {
          "base_uri": "https://localhost:8080/"
        },
        "id": "jPS4sq1Dc3SP",
        "outputId": "63dbd379-19df-41e7-e5b9-f373e23a7e6e"
      },
      "execution_count": null,
      "outputs": [
        {
          "output_type": "stream",
          "name": "stdout",
          "text": [
            "Server 'webserver01' is currently: UP (Last updated: 2025-04-09 17:15:00)\n",
            "Server 'dbserver02' is currently: DOWN\n"
          ]
        }
      ]
    },
    {
      "cell_type": "code",
      "source": [
        "def greet(name):\n",
        "  print(f'Hello, {name}!')\n",
        "\n",
        "greet(\"Pandu\")\n"
      ],
      "metadata": {
        "colab": {
          "base_uri": "https://localhost:8080/"
        },
        "id": "zMGRBBMJc-Us",
        "outputId": "7aa8305a-4afd-484b-8638-8660c236ffd2"
      },
      "execution_count": null,
      "outputs": [
        {
          "output_type": "stream",
          "name": "stdout",
          "text": [
            "Hello, Pandu!\n"
          ]
        }
      ]
    },
    {
      "cell_type": "code",
      "source": [
        "def is_even(number):\n",
        "  if number % 2 ==0:\n",
        "    print(\"True\")\n",
        "  else:\n",
        "    print(\"False\")\n",
        "\n",
        "number = int(input(\"Enter the number: \"))\n",
        "is_even(number)\n"
      ],
      "metadata": {
        "colab": {
          "base_uri": "https://localhost:8080/"
        },
        "id": "2w_gtI71dnGA",
        "outputId": "32d9d393-6046-4073-cc18-d8bc86e60dea"
      },
      "execution_count": null,
      "outputs": [
        {
          "output_type": "stream",
          "name": "stdout",
          "text": [
            "Enter the number: 55\n",
            "False\n"
          ]
        }
      ]
    },
    {
      "cell_type": "code",
      "source": [
        "def add(num1, num2):\n",
        "      return num1 + num2\n",
        "\n",
        "result1 = add(3,2)\n",
        "print(f\"The sum of 3 and 2 is: {result1}\")\n",
        "\n",
        "result2 = add(3.2,2.5)\n",
        "print(f\"The sum of 3.2 and 2.5 is: {result2}\")\n",
        "\n",
        "result3 = add(-3,12)\n",
        "print(f\"The sum of -3 and 12 is: {result3}\")"
      ],
      "metadata": {
        "colab": {
          "base_uri": "https://localhost:8080/"
        },
        "id": "Lh36dyWte-qp",
        "outputId": "ae83e930-74ff-42ed-a6c8-d46c531a904e"
      },
      "execution_count": null,
      "outputs": [
        {
          "output_type": "stream",
          "name": "stdout",
          "text": [
            "The sum of 3 and 2 is: 5\n",
            "The sum of 3.2 and 2.5 is: 5.7\n",
            "The sum of -3 and 12 is: 9\n"
          ]
        }
      ]
    },
    {
      "cell_type": "code",
      "source": [
        "def sub(num1, num2):\n",
        "  return num1 - num2\n",
        "\n",
        "result1 = sub(10,2)\n",
        "print(f\"The difference of 10 and 2 is: {result1}\")\n",
        "\n",
        "result2 = sub(2.5, 1.0)\n",
        "print(f\"The difference of 2.5 and 1.0 is: {result2}\")\n",
        "\n",
        "result3 = sub(7,12)\n",
        "print(f\"The difference of 7 and 12 is: {result3}\")"
      ],
      "metadata": {
        "colab": {
          "base_uri": "https://localhost:8080/"
        },
        "id": "7Ii1I7ISgvg7",
        "outputId": "b4955e5e-0231-4ee1-9b37-39e9507b147f"
      },
      "execution_count": null,
      "outputs": [
        {
          "output_type": "stream",
          "name": "stdout",
          "text": [
            "The difference of 10 and 2 is: 8\n",
            "The difference of 2.5 and 1.0 is: 1.5\n",
            "The difference of 7 and 12 is: -5\n"
          ]
        }
      ]
    },
    {
      "cell_type": "code",
      "source": [
        "def product(num1, num2):\n",
        "  return num1 * num2\n",
        "\n",
        "result1 = product(10,2)\n",
        "print(f\"The product of 10 and 2 is: {result1}\")\n",
        "\n",
        "result2 = product(2.5, 1.0)\n",
        "print(f\"The product of 2.5 and 1.0 is: {result2}\")\n",
        "\n",
        "result3 = product(7,12)\n",
        "print(f\"The product of 7 and 12 is: {result3}\")"
      ],
      "metadata": {
        "colab": {
          "base_uri": "https://localhost:8080/"
        },
        "id": "HC2aVy4piCkS",
        "outputId": "467cc248-f7de-4e7d-e9d4-e567da4e7ed3"
      },
      "execution_count": null,
      "outputs": [
        {
          "output_type": "stream",
          "name": "stdout",
          "text": [
            "The product of 10 and 2 is: 20\n",
            "The product of 2.5 and 1.0 is: 2.5\n",
            "The product of 7 and 12 is: 84\n"
          ]
        }
      ]
    },
    {
      "cell_type": "code",
      "source": [
        "def get_list_length(my_list):\n",
        "  return len(my_list)\n",
        "\n",
        "my_list = [1,2,3,4,5]\n",
        "\n",
        "list_length = get_list_length(my_list)\n",
        "print(f\"The length of the list is: {list_length}\")"
      ],
      "metadata": {
        "colab": {
          "base_uri": "https://localhost:8080/"
        },
        "id": "q-AZvyrZhc7N",
        "outputId": "16dbd096-02ef-4524-b029-2950c577301f"
      },
      "execution_count": null,
      "outputs": [
        {
          "output_type": "stream",
          "name": "stdout",
          "text": [
            "The length of the list is: 5\n"
          ]
        }
      ]
    },
    {
      "cell_type": "code",
      "source": [
        "def reverse_string(string):\n",
        "  return string[::-1]\n",
        "\n",
        "\n",
        "string = \"Hello\"\n",
        "reversed_string = reverse_string(string)\n",
        "print(f\"The reversed string is: {reversed_string}\")"
      ],
      "metadata": {
        "colab": {
          "base_uri": "https://localhost:8080/"
        },
        "id": "08PICj_IkNn8",
        "outputId": "74fb6699-c37d-4962-c324-95f60f2d2815"
      },
      "execution_count": null,
      "outputs": [
        {
          "output_type": "stream",
          "name": "stdout",
          "text": [
            "The reversed string is: olleH\n"
          ]
        }
      ]
    },
    {
      "cell_type": "code",
      "source": [
        "def find_max(num1, num2, num3):\n",
        "  if num1 >= num2 and num1 >= num3:\n",
        "      return num1\n",
        "  elif num2 >= num1 and num2 >= num3:\n",
        "    return num2\n",
        "  else:\n",
        "    return num3\n",
        "\n",
        "largest_number = find_max(10, 50, 20)\n",
        "print(f\"The largest number is: {largest_number}\")\n"
      ],
      "metadata": {
        "colab": {
          "base_uri": "https://localhost:8080/"
        },
        "id": "XxBc16c-lD-p",
        "outputId": "988017bc-43cb-40d0-f616-f231bf286715"
      },
      "execution_count": null,
      "outputs": [
        {
          "output_type": "stream",
          "name": "stdout",
          "text": [
            "The largest number is: 50\n"
          ]
        }
      ]
    },
    {
      "cell_type": "code",
      "source": [
        "def factorial(n):\n",
        "  if n == 0:\n",
        "    return 1\n",
        "  else:\n",
        "    return n* factorial(n-1)\n",
        "number = int(input(\"Enter the number : \")\n",
        "factorial_result = factorial(number)\n",
        "print(\n"
      ],
      "metadata": {
        "id": "H9UJvOpgmkjY"
      },
      "execution_count": null,
      "outputs": []
    },
    {
      "cell_type": "code",
      "source": [
        "def is_present(name):\n"
      ],
      "metadata": {
        "colab": {
          "base_uri": "https://localhost:8080/",
          "height": 106
        },
        "id": "UwU85u3ftuoV",
        "outputId": "12bc99ad-d04b-4bf5-9a9a-8210f246eb4f"
      },
      "execution_count": null,
      "outputs": [
        {
          "output_type": "error",
          "ename": "SyntaxError",
          "evalue": "incomplete input (<ipython-input-1-45cf8d1a2961>, line 2)",
          "traceback": [
            "\u001b[0;36m  File \u001b[0;32m\"<ipython-input-1-45cf8d1a2961>\"\u001b[0;36m, line \u001b[0;32m2\u001b[0m\n\u001b[0;31m    \u001b[0m\n\u001b[0m    ^\u001b[0m\n\u001b[0;31mSyntaxError\u001b[0m\u001b[0;31m:\u001b[0m incomplete input\n"
          ]
        }
      ]
    },
    {
      "cell_type": "markdown",
      "metadata": {
        "id": "6dd-kbiyJjjU"
      },
      "source": [
        "# Practise\n"
      ]
    },
    {
      "cell_type": "code",
      "execution_count": null,
      "metadata": {
        "colab": {
          "base_uri": "https://localhost:8080/"
        },
        "id": "ka3HsepVeYn_",
        "outputId": "25e8b535-ee0e-4650-9f85-5365b4200eac"
      },
      "outputs": [
        {
          "name": "stdout",
          "output_type": "stream",
          "text": [
            "2\n",
            "5\n",
            "13\n",
            "True False False\n",
            "apple\n"
          ]
        }
      ],
      "source": [
        "a = int(input())\n",
        "b = int(input())\n",
        "c = int(input())\n",
        "\n",
        "# Write your code below\n",
        "\n",
        "num1 = a > 0\n",
        "num2 = b % 2 == 0\n",
        "num3 = c % 3 == 0\n",
        "\n",
        "print(num1, num2, num3)\n",
        "if num1:\n",
        "  if num2:\n",
        "    if num3:\n",
        "      print(\"All conditions are satisfied\")\n",
        "  else:\n",
        "    print(\"apple\")\n",
        "else:\n",
        "      print(\"Conditions are not satisfied\")"
      ]
    },
    {
      "cell_type": "markdown",
      "metadata": {
        "id": "crVlkBA6JX6w"
      },
      "source": [
        "## **Test**"
      ]
    },
    {
      "cell_type": "code",
      "execution_count": null,
      "metadata": {
        "colab": {
          "base_uri": "https://localhost:8080/",
          "height": 356
        },
        "id": "Tn-oP6n5jpD7",
        "outputId": "5053fd93-7392-4620-d940-5960fb9ee04b"
      },
      "outputs": [
        {
          "ename": "KeyboardInterrupt",
          "evalue": "Interrupted by user",
          "output_type": "error",
          "traceback": [
            "\u001b[0;31m---------------------------------------------------------------------------\u001b[0m",
            "\u001b[0;31mKeyboardInterrupt\u001b[0m                         Traceback (most recent call last)",
            "\u001b[0;32m<ipython-input-3-e35b69065122>\u001b[0m in \u001b[0;36m<cell line: 0>\u001b[0;34m()\u001b[0m\n\u001b[0;32m----> 1\u001b[0;31m \u001b[0mn\u001b[0m \u001b[0;34m=\u001b[0m \u001b[0mint\u001b[0m\u001b[0;34m(\u001b[0m\u001b[0minput\u001b[0m\u001b[0;34m(\u001b[0m\u001b[0;34m)\u001b[0m\u001b[0;34m)\u001b[0m\u001b[0;34m\u001b[0m\u001b[0;34m\u001b[0m\u001b[0m\n\u001b[0m\u001b[1;32m      2\u001b[0m \u001b[0;34m\u001b[0m\u001b[0m\n\u001b[1;32m      3\u001b[0m \u001b[0;31m# Write your code below\u001b[0m\u001b[0;34m\u001b[0m\u001b[0;34m\u001b[0m\u001b[0m\n\u001b[1;32m      4\u001b[0m \u001b[0;34m\u001b[0m\u001b[0m\n\u001b[1;32m      5\u001b[0m \u001b[0;32mfor\u001b[0m \u001b[0mi\u001b[0m \u001b[0;32min\u001b[0m \u001b[0mrange\u001b[0m\u001b[0;34m(\u001b[0m\u001b[0;36m1\u001b[0m\u001b[0;34m,\u001b[0m \u001b[0;36m21\u001b[0m\u001b[0;34m,\u001b[0m \u001b[0;36m3\u001b[0m\u001b[0;34m)\u001b[0m\u001b[0;34m:\u001b[0m\u001b[0;34m\u001b[0m\u001b[0;34m\u001b[0m\u001b[0m\n",
            "\u001b[0;32m/usr/local/lib/python3.11/dist-packages/ipykernel/kernelbase.py\u001b[0m in \u001b[0;36mraw_input\u001b[0;34m(self, prompt)\u001b[0m\n\u001b[1;32m   1175\u001b[0m                 \u001b[0;34m\"raw_input was called, but this frontend does not support input requests.\"\u001b[0m\u001b[0;34m\u001b[0m\u001b[0;34m\u001b[0m\u001b[0m\n\u001b[1;32m   1176\u001b[0m             )\n\u001b[0;32m-> 1177\u001b[0;31m         return self._input_request(\n\u001b[0m\u001b[1;32m   1178\u001b[0m             \u001b[0mstr\u001b[0m\u001b[0;34m(\u001b[0m\u001b[0mprompt\u001b[0m\u001b[0;34m)\u001b[0m\u001b[0;34m,\u001b[0m\u001b[0;34m\u001b[0m\u001b[0;34m\u001b[0m\u001b[0m\n\u001b[1;32m   1179\u001b[0m             \u001b[0mself\u001b[0m\u001b[0;34m.\u001b[0m\u001b[0m_parent_ident\u001b[0m\u001b[0;34m[\u001b[0m\u001b[0;34m\"shell\"\u001b[0m\u001b[0;34m]\u001b[0m\u001b[0;34m,\u001b[0m\u001b[0;34m\u001b[0m\u001b[0;34m\u001b[0m\u001b[0m\n",
            "\u001b[0;32m/usr/local/lib/python3.11/dist-packages/ipykernel/kernelbase.py\u001b[0m in \u001b[0;36m_input_request\u001b[0;34m(self, prompt, ident, parent, password)\u001b[0m\n\u001b[1;32m   1217\u001b[0m             \u001b[0;32mexcept\u001b[0m \u001b[0mKeyboardInterrupt\u001b[0m\u001b[0;34m:\u001b[0m\u001b[0;34m\u001b[0m\u001b[0;34m\u001b[0m\u001b[0m\n\u001b[1;32m   1218\u001b[0m                 \u001b[0;31m# re-raise KeyboardInterrupt, to truncate traceback\u001b[0m\u001b[0;34m\u001b[0m\u001b[0;34m\u001b[0m\u001b[0m\n\u001b[0;32m-> 1219\u001b[0;31m                 \u001b[0;32mraise\u001b[0m \u001b[0mKeyboardInterrupt\u001b[0m\u001b[0;34m(\u001b[0m\u001b[0;34m\"Interrupted by user\"\u001b[0m\u001b[0;34m)\u001b[0m \u001b[0;32mfrom\u001b[0m \u001b[0;32mNone\u001b[0m\u001b[0;34m\u001b[0m\u001b[0;34m\u001b[0m\u001b[0m\n\u001b[0m\u001b[1;32m   1220\u001b[0m             \u001b[0;32mexcept\u001b[0m \u001b[0mException\u001b[0m\u001b[0;34m:\u001b[0m\u001b[0;34m\u001b[0m\u001b[0;34m\u001b[0m\u001b[0m\n\u001b[1;32m   1221\u001b[0m                 \u001b[0mself\u001b[0m\u001b[0;34m.\u001b[0m\u001b[0mlog\u001b[0m\u001b[0;34m.\u001b[0m\u001b[0mwarning\u001b[0m\u001b[0;34m(\u001b[0m\u001b[0;34m\"Invalid Message:\"\u001b[0m\u001b[0;34m,\u001b[0m \u001b[0mexc_info\u001b[0m\u001b[0;34m=\u001b[0m\u001b[0;32mTrue\u001b[0m\u001b[0;34m)\u001b[0m\u001b[0;34m\u001b[0m\u001b[0;34m\u001b[0m\u001b[0m\n",
            "\u001b[0;31mKeyboardInterrupt\u001b[0m: Interrupted by user"
          ]
        }
      ],
      "source": [
        "n = int(input())\n",
        "\n",
        "# Write your code below\n",
        "\n",
        "for i in range(1, 21, 3):\n",
        "    a = n * i\n",
        "    print(n, \"x\", i, \"=\", a)"
      ]
    },
    {
      "cell_type": "code",
      "execution_count": null,
      "metadata": {
        "id": "eK-HW6aVkg_8"
      },
      "outputs": [],
      "source": [
        "n = int(input())\n",
        "\n",
        "# Write your code below\n",
        "\n",
        "for i in range(n):\n",
        "    a = n * i\n",
        "    print(n, \"x\", i, \"=\", a)"
      ]
    },
    {
      "cell_type": "code",
      "execution_count": null,
      "metadata": {
        "id": "kcwLb7pcoQ3k"
      },
      "outputs": [],
      "source": [
        "numbers = int(input())\n",
        "\n",
        "# Write your code below\n",
        "n = 0\n",
        "for i in range(1, numbers+1):\n",
        "    n= n+i\n",
        "print(n)"
      ]
    },
    {
      "cell_type": "code",
      "execution_count": null,
      "metadata": {
        "id": "sGfdFtwWrpp7"
      },
      "outputs": [],
      "source": [
        "i = 1\n",
        "while i <= 5:\n",
        "  print(i)\n",
        "  i += 1"
      ]
    },
    {
      "cell_type": "code",
      "execution_count": null,
      "metadata": {
        "id": "48JIwidtt7Jt"
      },
      "outputs": [],
      "source": [
        "n = int (input())\n",
        "i = 0\n",
        "while i <= n:\n",
        "  if i % 3 == 0:\n",
        "    print(i)\n",
        "  i += 3\n"
      ]
    },
    {
      "cell_type": "code",
      "execution_count": null,
      "metadata": {
        "id": "Wc35mn4jyR4x"
      },
      "outputs": [],
      "source": [
        "numbers = input().split()\n",
        "\n",
        "\n",
        "for i in numbers:\n",
        "    i = int(i)\n",
        "    if i % 2 == 0:\n",
        "        print(i)"
      ]
    },
    {
      "cell_type": "code",
      "execution_count": null,
      "metadata": {
        "id": "KT7MMVEbzgqI"
      },
      "outputs": [],
      "source": [
        "print(\"Hello World!!\")"
      ]
    },
    {
      "cell_type": "code",
      "execution_count": null,
      "metadata": {
        "id": "baDYzhouBS32"
      },
      "outputs": [],
      "source": [
        "print(\"Hello Aishu\")"
      ]
    },
    {
      "cell_type": "code",
      "execution_count": null,
      "metadata": {
        "id": "JBVtowyuBZ7X"
      },
      "outputs": [],
      "source": [
        "a = input(\"Enter the first string: \")\n",
        "b = input(\"enter the second string: \")\n",
        "\n",
        "print( a + b )"
      ]
    },
    {
      "cell_type": "code",
      "execution_count": null,
      "metadata": {
        "id": "Ogm52axVCZeH"
      },
      "outputs": [],
      "source": [
        "a = (\"Hello\")\n",
        "b = input(\"Enter the name: \")\n",
        "\n",
        "print(a   +  b)\n"
      ]
    },
    {
      "cell_type": "code",
      "execution_count": null,
      "metadata": {
        "id": "eZOjwLcyC8Rn"
      },
      "outputs": [],
      "source": [
        "a = int(input(\"Enter the first number: \"))\n",
        "b = int(input(\"enter the second number: \"))\n",
        "\n",
        "print(a+b)\n",
        "print(a-b)\n",
        "print(a*b)\n",
        "print(a/b)"
      ]
    },
    {
      "cell_type": "code",
      "execution_count": null,
      "metadata": {
        "id": "V0C42tjZD-J3"
      },
      "outputs": [],
      "source": [
        "a = int(input(\"Enter the first number: \"))\n",
        "\n",
        "if a % 2 ==0:\n",
        "  print(\"Even\")\n",
        "else:\n",
        "  print(\"Odd\")"
      ]
    },
    {
      "cell_type": "code",
      "execution_count": null,
      "metadata": {
        "id": "yMwU6ieIEgnO"
      },
      "outputs": [],
      "source": [
        "a = int(input(\"Enter the first number: \"))\n",
        "b = int(input(\"enter the second number: \"))\n",
        "\n",
        "print(a+b)\n",
        "print(a-b)\n",
        "print(a*b)\n",
        "print(a/b)"
      ]
    },
    {
      "cell_type": "code",
      "execution_count": null,
      "metadata": {
        "id": "x5CF_rBmEyq-"
      },
      "outputs": [],
      "source": [
        "a = float(input(\"Height of rectangle: \"))\n",
        "b = float(input(\"width of rectangle: \"))\n",
        "\n",
        "print(\"Area of the rectangle is\", a*b,\"cm\")"
      ]
    },
    {
      "cell_type": "code",
      "execution_count": null,
      "metadata": {
        "id": "JkIxIZjKFhp2"
      },
      "outputs": [],
      "source": [
        "a = float(input(\"Enter the temperature in Celsicus: \"))\n",
        "b = (a*9/5) + 32\n",
        "\n",
        "print(b)"
      ]
    },
    {
      "cell_type": "code",
      "execution_count": null,
      "metadata": {
        "id": "0feAhjscFvyV"
      },
      "outputs": [],
      "source": [
        "def celsius_to_farenheit(celsius):\n",
        "fahrenheit = (celsius * 9/5) + 32\n",
        "\n",
        "def fahrenheit_to_celsius(farenheit):\n",
        "celsius = (fahrenheit -32) * 5/9\n",
        "\n",
        "def main():\n",
        "  choice = input(convert to (C)elsius or (F)ahrenheit? \").upper()\"\n",
        "\n",
        "if choice == \"F\":\n",
        "               celsius_temp = float(input(\"Enter the temperature in Celsius: \"))\n",
        "               fahrenheit_temp = celsius_to_fahrenheit(celsius_temp)\n",
        "               print(f\"{celsius_temp} degrees Celsius is equal to {fahrenheit_temp} degrees Fahrenheit.\")\n",
        "elif choice == \"C\":\n",
        "               fahrenheit_temp = float(input(\"Enter the temperature in Fahrenheit: \"))\n",
        "               celsius_temp = fahrenheit_to_celsius(fahrenheit_temp)\n",
        "               print(f\"{fahrenheit_temp} degrees Fahrenheit is equal to {celsius_temp} degrees Celsius.\")\n",
        "else:\n",
        "               print(\"Invalid choice. Please enter 'C' or 'F'.\")\n"
      ]
    },
    {
      "cell_type": "code",
      "execution_count": null,
      "metadata": {
        "id": "OLb5hgW6Ij0V"
      },
      "outputs": [],
      "source": [
        "a = (int(input(\"Enter the distance in km:\")))\n",
        "b =(int(30))\n",
        "\n",
        "print(a * b)"
      ]
    },
    {
      "cell_type": "code",
      "execution_count": null,
      "metadata": {
        "id": "udoWm2gKKQLs"
      },
      "outputs": [],
      "source": [
        "def calculate_auto_fare():\n",
        "  \"\"\"Calculates auto rickshaw fare based on distance.\"\"\"\n",
        "  try:\n",
        "    distance_km = float(input(\"enter the distance travelled in km: \"))\n",
        "\n",
        "    if distance_km <0:\n",
        "      print(\"Distance cannot be negative.\")\n",
        "      return\n",
        "\n",
        "    base_fare = 30 # Rupees\n",
        "    per_km_rate = 12 #Rupees\n",
        "\n",
        "    total_fare = base_fare + (distance_km * per_km_rate)\n",
        "\n",
        "    print(f\"Total auto rickshaw fare: ₹{total_fare:.2f}\")\n",
        "\n",
        "  except valueError:\n",
        "    print(\"Invalis input. Please enter a numeric distance.\")\n",
        "\n",
        "if __name__ == \"__main__\":\n",
        "  calculate_auto_fare()"
      ]
    },
    {
      "cell_type": "markdown",
      "metadata": {
        "id": "-o3zYzhrBSZ3"
      },
      "source": []
    },
    {
      "cell_type": "code",
      "execution_count": null,
      "metadata": {
        "id": "evR27oMBMKv9"
      },
      "outputs": [],
      "source": [
        "# SI = Principal* Rate* Time /100\n",
        "\n",
        "pricipal = float(input(\"Enter the principal amount: \"))\n",
        "rate = float(input(\"enter annual interest rate (%): \"))\n",
        "time = float(input(\"enter time (in years): \"))\n",
        "\n",
        "simple_interst = (pricipal * rate * time) /100\n",
        "\n",
        "print(\"Simple Interst:\", simple_interst)"
      ]
    },
    {
      "cell_type": "code",
      "execution_count": null,
      "metadata": {
        "id": "ViijIqLrNWgz"
      },
      "outputs": [],
      "source": [
        "# Compound interst (A) = P((1+ (r/n)) **nt)\n",
        "\n",
        "principal = float(input(\"Enter the principal amount: \"))\n",
        "rate = float(input(\"enter annual interest rate (%): \"))\n",
        "time = float(input(\"enter time (in years): \"))\n",
        "\n",
        "compound_interest = principal * ((1 + (rate/100)) ** time)\n",
        "\n",
        "print(\"Compound Interst:\", compound_interest)"
      ]
    },
    {
      "cell_type": "code",
      "execution_count": null,
      "metadata": {
        "id": "4WhAhZbwOHRD"
      },
      "outputs": [],
      "source": []
    },
    {
      "cell_type": "code",
      "execution_count": null,
      "metadata": {
        "id": "Wx6xQYnbOi3T"
      },
      "outputs": [],
      "source": [
        "# Compound interst (A) = P((1+ (r/n)) **nt)\n",
        "\n",
        "principal = float(input(\"Enter the principal amount: \"))\n",
        "rate = float(input(\"enter annual interest rate (%): \"))\n",
        "time = float(input(\"enter time (in years): \"))\n",
        "\n",
        "compound_interest = principal * ((1 + (rate/100)) ** time) # Fix: Corrected variable name to compound_interest\n",
        "\n",
        "print(\"Compound Interst:\", compound_interest)"
      ]
    },
    {
      "cell_type": "code",
      "execution_count": null,
      "metadata": {
        "id": "m1dQuyn1OwVy"
      },
      "outputs": [],
      "source": [
        "a = int(input(\"Enter the number: \"))\n",
        "\n",
        "def square(num):\n",
        "\n",
        "  return num ** 2\n",
        "\n",
        "print(a ** 2)\n"
      ]
    },
    {
      "cell_type": "code",
      "execution_count": null,
      "metadata": {
        "id": "Slhv1b3sTgaa"
      },
      "outputs": [],
      "source": [
        "a = int(input(\"enter the first number: \"))\n",
        "b = int(input(\"enter the second number: \"))\n",
        "c = int(input(\"enter the third number: \"))\n",
        "\n",
        "def calculate_average(a,b,c):\n",
        "\n",
        " average = (a + b + c) / 3\n",
        " return average\n",
        "\n",
        " result = calculate_average(a,b,c)\n",
        "\n",
        "print(result)"
      ]
    },
    {
      "cell_type": "code",
      "execution_count": null,
      "metadata": {
        "id": "UvvjXEWYVnL6"
      },
      "outputs": [],
      "source": [
        "def calculate_average(num1, num2, num3):\n",
        "\n",
        "  average = (num1 + num2 + num3) / 3\n",
        "  return average\n",
        "try:\n",
        "  number1 = float(input(\"Enter the first number): \"))\n",
        "  number2 = float(input(\"Enter the second number): \"))\n",
        "  number3 = float(input(\"Enter the third number): \"))\n",
        "\n",
        "  result = calculate_average(number1, number2, number3)\n",
        "  print(\"Average:\", result)"
      ]
    },
    {
      "cell_type": "code",
      "execution_count": null,
      "metadata": {
        "id": "G05JfTTnqRa4"
      },
      "outputs": [],
      "source": [
        "import numpy as np\n"
      ]
    },
    {
      "cell_type": "code",
      "execution_count": null,
      "metadata": {
        "id": "lZwgaX0GqXmh"
      },
      "outputs": [],
      "source": [
        "import numpy as np\n",
        "\n",
        "n1 = np.array([1,2,3])\n",
        "n1"
      ]
    },
    {
      "cell_type": "code",
      "execution_count": null,
      "metadata": {
        "id": "toJ5IW-NqmeI"
      },
      "outputs": [],
      "source": [
        "import numpy as np\n",
        "n1=np.zeros((5,5))\n",
        "n1"
      ]
    },
    {
      "cell_type": "code",
      "execution_count": null,
      "metadata": {
        "id": "jRnn-EZUq-zx"
      },
      "outputs": [],
      "source": [
        "import numpy as np\n",
        "n1 = np.full((3,3), 5)\n",
        "n1"
      ]
    },
    {
      "cell_type": "code",
      "execution_count": null,
      "metadata": {
        "id": "-v2_yrFZrNMI"
      },
      "outputs": [],
      "source": [
        "import numpy as np\n",
        "n2 = np.full((2,2), 10)\n",
        "n2"
      ]
    },
    {
      "cell_type": "code",
      "execution_count": null,
      "metadata": {
        "id": "rHbsS2fUsEKZ"
      },
      "outputs": [],
      "source": [
        "import numpy as np\n",
        "n3 = np.arange(10,20)\n",
        "n3"
      ]
    },
    {
      "cell_type": "code",
      "execution_count": null,
      "metadata": {
        "id": "NQHxNV7MsOkp"
      },
      "outputs": [],
      "source": [
        "import numpy as np\n",
        "n4 = np.arange(10,50,5)\n",
        "n4"
      ]
    },
    {
      "cell_type": "code",
      "execution_count": null,
      "metadata": {
        "id": "IWM3HTpysiiX"
      },
      "outputs": [],
      "source": [
        "import numpy as np\n",
        "n1 = np.arrange(10,51)\n",
        "n1"
      ]
    },
    {
      "cell_type": "code",
      "execution_count": null,
      "metadata": {
        "id": "ZCnC4ZwVs0yf"
      },
      "outputs": [],
      "source": [
        "import numpy as np\n",
        "n5= np.random.randint(100, 1000, 10)\n",
        "n5"
      ]
    },
    {
      "cell_type": "code",
      "execution_count": null,
      "metadata": {
        "id": "ZKGVj53ptFji"
      },
      "outputs": [],
      "source": [
        "import numpy as np\n",
        "n1 = np.array([[1,2,3],[4,5,6]])\n",
        "n1"
      ]
    },
    {
      "cell_type": "code",
      "execution_count": null,
      "metadata": {
        "id": "vsOCws7CtUYI"
      },
      "outputs": [],
      "source": [
        "\n",
        "n1.shape"
      ]
    },
    {
      "cell_type": "code",
      "execution_count": null,
      "metadata": {
        "id": "GJ-V7Sadt8X_"
      },
      "outputs": [],
      "source": [
        "import numpy as np\n",
        "n1=np.array([10,20,30])\n",
        "n2=np.array([40,50,60])\n",
        "\n",
        "np.vstack((n1,n2))"
      ]
    },
    {
      "cell_type": "code",
      "execution_count": null,
      "metadata": {
        "id": "sTht718euNI_"
      },
      "outputs": [],
      "source": [
        "import numpy as np\n",
        "n1=np.array([10,20,30])\n",
        "n2=np.array([40,50,60])\n",
        "\n",
        "np.hstack((n1,n2))"
      ]
    },
    {
      "cell_type": "code",
      "execution_count": null,
      "metadata": {
        "id": "YK1jv2LxuR8Q"
      },
      "outputs": [],
      "source": [
        "import numpy as np\n",
        "n1=np.array([10,20,30])\n",
        "n2=np.array([40,50,60])\n",
        "\n",
        "np.column_stack((n1,n2))"
      ]
    },
    {
      "cell_type": "code",
      "execution_count": null,
      "metadata": {
        "id": "RF7erOq5uX2f"
      },
      "outputs": [],
      "source": [
        "import numpy as np\n",
        "n1 = np.array([10,20,30,40,50,60])\n",
        "n2 = np.array([50,60,70,80,90])\n",
        "np.intersect1d(n1,n2)"
      ]
    },
    {
      "cell_type": "code",
      "execution_count": null,
      "metadata": {
        "id": "adjJUJCYxz8X"
      },
      "outputs": [],
      "source": [
        "import numpy as np\n",
        "n1 = np.array([10,20,30,40,50,60])\n",
        "n2 = np.array([50,60,70,80,90])\n",
        "np.setdiff1d(n1,n2)"
      ]
    },
    {
      "cell_type": "code",
      "execution_count": null,
      "metadata": {
        "id": "ovpL5VkKx6vO"
      },
      "outputs": [],
      "source": [
        "import numpy as np\n",
        "n1 = np.array([10,20,30,40,50,60])\n",
        "n2 = np.array([50,60,70,80,90])\n",
        "np.setdiff1d(n2,n1)"
      ]
    },
    {
      "cell_type": "code",
      "execution_count": null,
      "metadata": {
        "id": "KD5xqWttyauX"
      },
      "outputs": [],
      "source": [
        "import numpy as np\n",
        "n1 = np.array([10,20])\n",
        "n2 = np.array([30,40])\n",
        "\n",
        "np.sum([n1,n2])"
      ]
    },
    {
      "cell_type": "code",
      "execution_count": null,
      "metadata": {
        "id": "2Q0wzRPzyuPW"
      },
      "outputs": [],
      "source": [
        "import numpy as np\n",
        "n1 = np.array([10,20])\n",
        "n2 = np.array([30,40])\n",
        "\n",
        "np.sum([n1,n2], axis=0)"
      ]
    },
    {
      "cell_type": "code",
      "execution_count": null,
      "metadata": {
        "id": "eX5bebqry34X"
      },
      "outputs": [],
      "source": [
        "import numpy as np\n",
        "n1 = np.array([10,20])\n",
        "n2 = np.array([30,40])\n",
        "\n",
        "np.sum([n1,n2], axis=1)"
      ]
    },
    {
      "cell_type": "code",
      "execution_count": null,
      "metadata": {
        "id": "O9vwvf-hz1p2"
      },
      "outputs": [],
      "source": [
        "import numpy as np\n",
        "n1 = np.array([10,20,30])\n",
        "n1 = n1+1\n",
        "n1"
      ]
    },
    {
      "cell_type": "code",
      "execution_count": null,
      "metadata": {
        "id": "QwWY-1vH0BF1"
      },
      "outputs": [],
      "source": [
        "import numpy as np\n",
        "n1 = np.array([10,20,30])\n",
        "n1 = n1-1\n",
        "n1"
      ]
    },
    {
      "cell_type": "code",
      "execution_count": null,
      "metadata": {
        "id": "jGBt_6lR0C1W"
      },
      "outputs": [],
      "source": [
        "import numpy as np\n",
        "n1 = np.array([10,20,30])\n",
        "n1 = n1*2\n",
        "n1"
      ]
    },
    {
      "cell_type": "code",
      "execution_count": null,
      "metadata": {
        "id": "lBunH-eI0FQ-"
      },
      "outputs": [],
      "source": [
        "import numpy as np\n",
        "n1 = np.array([10,20,30])\n",
        "n1 = n1/2\n",
        "n1"
      ]
    },
    {
      "cell_type": "code",
      "execution_count": null,
      "metadata": {
        "id": "fVoPyBuA0aeX"
      },
      "outputs": [],
      "source": [
        "import numpy as np\n",
        "n1 = np.array([10,20,30,40,50,60])\n",
        "np.mean(n1)"
      ]
    },
    {
      "cell_type": "code",
      "execution_count": null,
      "metadata": {
        "id": "mtHH26iv0lge"
      },
      "outputs": [],
      "source": [
        "import numpy as np\n",
        "n1 = np.array([1,5,3,100,4,6,58,90])\n",
        "np.std(n1)"
      ]
    },
    {
      "cell_type": "code",
      "execution_count": null,
      "metadata": {
        "id": "RzlQvVrv0vAW"
      },
      "outputs": [],
      "source": [
        "import numpy as np\n",
        "n1 = np.array([11,444,6,7,89,34])\n",
        "np.median(n1)"
      ]
    },
    {
      "cell_type": "code",
      "execution_count": null,
      "metadata": {
        "id": "ILCMlMfs1NBl"
      },
      "outputs": [],
      "source": [
        "import numpy as np\n",
        "n1 = np.array([10,20,30,40,50,60])\n",
        "np.save('my_numpy', n1)"
      ]
    },
    {
      "cell_type": "code",
      "execution_count": null,
      "metadata": {
        "id": "89hQB5WD2Xwd"
      },
      "outputs": [],
      "source": [
        "import pandas as pd\n",
        "s1=pd.Series([1,2,3,4,5])\n",
        "s1\n"
      ]
    },
    {
      "cell_type": "code",
      "execution_count": null,
      "metadata": {
        "id": "hdgBNiaO26bk"
      },
      "outputs": [],
      "source": [
        "import pandas as pd\n",
        "s1=pd.Series([1,2,3,4,5], index = [\"a\",\"b\",\"c\",\"d\",\"e\"])\n",
        "s1"
      ]
    },
    {
      "cell_type": "code",
      "execution_count": null,
      "metadata": {
        "id": "gFRksVqj3Re1"
      },
      "outputs": [],
      "source": [
        "import pandas as pd\n",
        "s1=pd.Series({1:'a',2:'b',3:'c', 4:'d', 5:'e'})\n",
        "s1"
      ]
    },
    {
      "cell_type": "code",
      "execution_count": null,
      "metadata": {
        "id": "1TOLE5mp4msU"
      },
      "outputs": [],
      "source": [
        "import pandas as pd\n",
        "pd.DataFrame({\"Name\":['Bob','Sam','Anne'], \"Marks\":[76,25,92]})"
      ]
    },
    {
      "cell_type": "code",
      "execution_count": null,
      "metadata": {
        "id": "z_MeqfkIDGfT"
      },
      "outputs": [],
      "source": [
        "a = 30\n",
        "b = 8\n",
        "c = a/b\n",
        "\n",
        "print(\"a is of type\", type(a), )"
      ]
    },
    {
      "cell_type": "code",
      "execution_count": null,
      "metadata": {
        "id": "HdFZJJz2E-NZ"
      },
      "outputs": [],
      "source": [
        "a=4.5\n",
        "b=int(a)\n",
        "type(b)"
      ]
    },
    {
      "cell_type": "code",
      "execution_count": null,
      "metadata": {
        "id": "ufzIQDVjFM2w"
      },
      "outputs": [],
      "source": []
    },
    {
      "cell_type": "code",
      "execution_count": null,
      "metadata": {
        "id": "SPIaps5jFHos"
      },
      "outputs": [],
      "source": [
        "a  = \"HI\"\n",
        "b=int(a)\n",
        "\n",
        "type(b)"
      ]
    },
    {
      "cell_type": "code",
      "execution_count": null,
      "metadata": {
        "id": "14Tpb306NZVx"
      },
      "outputs": [],
      "source": [
        "## 27 march 2025\n",
        "\n"
      ]
    },
    {
      "cell_type": "markdown",
      "metadata": {
        "id": "3vPZLGMyJNr4"
      },
      "source": [
        "## 27 march 2025"
      ]
    },
    {
      "cell_type": "code",
      "execution_count": null,
      "metadata": {
        "colab": {
          "base_uri": "https://localhost:8080/"
        },
        "id": "R06GZW_zIeNg",
        "outputId": "ff072e71-b034-4961-8799-5cd3440b03ba"
      },
      "outputs": [
        {
          "name": "stdout",
          "output_type": "stream",
          "text": [
            "1\n",
            "2\n",
            "3\n",
            "4\n",
            "5\n",
            "6\n",
            "7\n",
            "8\n",
            "9\n",
            "10\n"
          ]
        }
      ],
      "source": [
        "count = 1\n",
        "while count <= 10:\n",
        "  print(count)\n",
        "  count += 1"
      ]
    },
    {
      "cell_type": "code",
      "execution_count": null,
      "metadata": {
        "colab": {
          "base_uri": "https://localhost:8080/"
        },
        "id": "k0qVckq7Jt3Z",
        "outputId": "242fbcc8-17c9-4e1e-e89a-7cb07028e0ad"
      },
      "outputs": [
        {
          "name": "stdout",
          "output_type": "stream",
          "text": [
            "the sum of the first 5 numbers is 15\n"
          ]
        }
      ],
      "source": [
        "n = 5\n",
        "sum_numbers  = 0\n",
        "count = 1\n",
        "\n",
        "while count<= n:\n",
        "  sum_numbers += count\n",
        "  count += 1\n",
        "\n",
        "print(f\"the sum of the first {n} numbers is {sum_numbers}\")"
      ]
    },
    {
      "cell_type": "code",
      "execution_count": null,
      "metadata": {
        "id": "1v4qvCYirSfA"
      },
      "outputs": [],
      "source": []
    },
    {
      "cell_type": "markdown",
      "metadata": {
        "id": "6qXVAeAfJVR0"
      },
      "source": []
    },
    {
      "cell_type": "markdown",
      "metadata": {
        "id": "qcrQPtqf4arV"
      },
      "source": [
        "## 28 March 2024"
      ]
    },
    {
      "cell_type": "code",
      "execution_count": null,
      "metadata": {
        "colab": {
          "base_uri": "https://localhost:8080/"
        },
        "id": "c5aaHX4G4eCF",
        "outputId": "8b865bbb-5b94-4309-cf66-c8bd1dbd70a6"
      },
      "outputs": [
        {
          "name": "stdout",
          "output_type": "stream",
          "text": [
            "One\n"
          ]
        }
      ],
      "source": [
        "number = 1\n",
        "\n",
        "\n",
        "match number:\n",
        "  case 1:\n",
        "    print(\"One\")\n",
        "  case 2 | 3:\n",
        "    print(\"Two ot Three\")\n",
        "  case _:\n",
        "    print(\"Other number\")"
      ]
    },
    {
      "cell_type": "code",
      "execution_count": null,
      "metadata": {
        "colab": {
          "base_uri": "https://localhost:8080/"
        },
        "id": "h9TSV4fxEd3A",
        "outputId": "263e8eed-ccad-4430-f228-cbabf2267c5e"
      },
      "outputs": [
        {
          "name": "stdout",
          "output_type": "stream",
          "text": [
            "High\n"
          ]
        }
      ],
      "source": [
        "x = 85\n",
        "\n",
        "result = \"High\" if x > 10 else \"Low\"\n",
        "\n",
        "print(result)"
      ]
    },
    {
      "cell_type": "code",
      "execution_count": null,
      "metadata": {
        "colab": {
          "base_uri": "https://localhost:8080/"
        },
        "id": "sum5BjrxEuJX",
        "outputId": "f48b31c7-d89a-464d-f4d2-88d4dfbdac67"
      },
      "outputs": [
        {
          "name": "stdout",
          "output_type": "stream",
          "text": [
            "5\n",
            "6\n",
            "7\n",
            "8\n",
            "9\n"
          ]
        }
      ],
      "source": [
        "x = 5\n",
        "while x < 10:\n",
        "  print(x)\n",
        "  x += 1\n"
      ]
    },
    {
      "cell_type": "code",
      "execution_count": null,
      "metadata": {
        "colab": {
          "base_uri": "https://localhost:8080/"
        },
        "id": "H3Fqy66TFCe-",
        "outputId": "d538ca67-f068-48d8-d59b-131ed53cf746"
      },
      "outputs": [
        {
          "name": "stdout",
          "output_type": "stream",
          "text": [
            "0\n",
            "1\n",
            "2\n",
            "3\n",
            "4\n"
          ]
        }
      ],
      "source": [
        "for i in range(10):\n",
        "  if i == 5:\n",
        "    break\n",
        "\n",
        "  print(i)"
      ]
    },
    {
      "cell_type": "code",
      "execution_count": null,
      "metadata": {
        "colab": {
          "base_uri": "https://localhost:8080/"
        },
        "id": "VRNnSPy0H7wX",
        "outputId": "57639aea-7eac-4dc2-aedf-ef327ea2eaee"
      },
      "outputs": [
        {
          "name": "stdout",
          "output_type": "stream",
          "text": [
            "('apple', 'mango', 'grapes', 'apple', 'apples')\n",
            "{'apple', 'mango', 'grapes', 'apples'}\n"
          ]
        }
      ],
      "source": [
        "fruits = [\"apple\", \"mango\", \"grapes\", \"apple\", \"apples\"]\n",
        "\n",
        "tuple(fruits)\n",
        "\n",
        "print(tuple(fruits))\n",
        "print(set(fruits))"
      ]
    },
    {
      "cell_type": "code",
      "execution_count": null,
      "metadata": {
        "colab": {
          "base_uri": "https://localhost:8080/"
        },
        "id": "hcYrfjZJI21J",
        "outputId": "62c6a090-aaa2-448e-8744-33344552686c"
      },
      "outputs": [
        {
          "name": "stdout",
          "output_type": "stream",
          "text": [
            "('apple', 'mango', 'grapes', 'apple', 'apples')\n"
          ]
        }
      ],
      "source": [
        "# create a tuple for fruits\n",
        "x = tuple(fruits)\n",
        "print(x)"
      ]
    },
    {
      "cell_type": "code",
      "execution_count": null,
      "metadata": {
        "colab": {
          "base_uri": "https://localhost:8080/"
        },
        "id": "vQpg-qH5Jh2b",
        "outputId": "0dbab685-c165-4cbf-f504-8f9595921cba"
      },
      "outputs": [
        {
          "name": "stdout",
          "output_type": "stream",
          "text": [
            "{'apple', 'mango', 'grapes', 'apples'}\n"
          ]
        }
      ],
      "source": [
        "y = set(fruits)\n",
        "print(y)"
      ]
    },
    {
      "cell_type": "code",
      "execution_count": null,
      "metadata": {
        "id": "WSaOtHEgKazt"
      },
      "outputs": [],
      "source": []
    },
    {
      "cell_type": "code",
      "execution_count": null,
      "metadata": {
        "colab": {
          "base_uri": "https://localhost:8080/"
        },
        "id": "9hOPVQ5Dxeg3",
        "outputId": "d61cc20c-b90a-477f-a995-3bd20a092f23"
      },
      "outputs": [
        {
          "name": "stdout",
          "output_type": "stream",
          "text": [
            "23.0\n"
          ]
        }
      ],
      "source": [
        "a = 10\n",
        "b = 2.3\n",
        "c = a*b\n",
        "\n",
        "print(c)\n"
      ]
    },
    {
      "cell_type": "code",
      "execution_count": null,
      "metadata": {
        "id": "rYnMG0vhxnt-"
      },
      "outputs": [],
      "source": [
        "i = \"20\"\n",
        "\n",
        "if i > 20:\n",
        "  print(1)\n",
        "else:"
      ]
    },
    {
      "cell_type": "code",
      "execution_count": null,
      "metadata": {
        "colab": {
          "base_uri": "https://localhost:8080/"
        },
        "id": "f7mPkgMzx3Q_",
        "outputId": "4c20eb30-cb07-45cb-8f78-b87c76b02ba6"
      },
      "outputs": [
        {
          "name": "stdout",
          "output_type": "stream",
          "text": [
            "120\n"
          ]
        }
      ],
      "source": [
        "a = 1\n",
        "for i in range(1,6):\n",
        "  a = a*i\n",
        "\n",
        "print(a)"
      ]
    },
    {
      "cell_type": "code",
      "execution_count": null,
      "metadata": {
        "colab": {
          "base_uri": "https://localhost:8080/"
        },
        "id": "K4mDlNDyyiFG",
        "outputId": "8bf4e1ab-5dbc-428d-adc4-3f62387bb1f3"
      },
      "outputs": [
        {
          "data": {
            "text/plain": [
              "['2', '2', '2', '2', '2', '2']"
            ]
          },
          "execution_count": 3,
          "metadata": {},
          "output_type": "execute_result"
        }
      ],
      "source": [
        "list_mul = [\"2\", \"2\", \"2\"]\n",
        "list_mul*2"
      ]
    },
    {
      "cell_type": "code",
      "execution_count": null,
      "metadata": {
        "id": "bndTMS7EuJAZ"
      },
      "outputs": [],
      "source": [
        "import numpy as np"
      ]
    },
    {
      "cell_type": "code",
      "execution_count": null,
      "metadata": {
        "id": "U1VQ73oFyzHm"
      },
      "outputs": [],
      "source": [
        "\n",
        "\n",
        "arr_str = [\"Mercedes\",\"Skoda\",\"Audi\",\"BMW\"]\n",
        "\n",
        "arr_num = [5,4,3,2]"
      ]
    },
    {
      "cell_type": "code",
      "execution_count": null,
      "metadata": {
        "colab": {
          "base_uri": "https://localhost:8080/"
        },
        "id": "rfLfu2vZsEFB",
        "outputId": "7343a7f9-64a6-4dad-86ca-1c857be28694"
      },
      "outputs": [
        {
          "name": "stdout",
          "output_type": "stream",
          "text": [
            "Numpy Array (arr_str):  ['Mercedes' 'Skoda' 'Audi' 'BMW']\n",
            "Numpy Array (arr_num):  [5 4 3 2]\n"
          ]
        }
      ],
      "source": [
        "np_arr_str = np.array(arr_str)\n",
        "\n",
        "np_arr_num = np.array(arr_num)\n",
        "\n",
        "print('Numpy Array (arr_str): ', np_arr_str)\n",
        "print('Numpy Array (arr_num): ', np_arr_num)"
      ]
    },
    {
      "cell_type": "code",
      "execution_count": null,
      "metadata": {
        "colab": {
          "base_uri": "https://localhost:8080/"
        },
        "id": "ptd00GG2tTIX",
        "outputId": "96b03b45-d164-4b4e-9619-92b501b7d12a"
      },
      "outputs": [
        {
          "name": "stdout",
          "output_type": "stream",
          "text": [
            "[[1 2 1]\n",
            " [4 5 6]\n",
            " [5 4 2]]\n"
          ]
        }
      ],
      "source": [
        "matrix = np.array([[1,2,1], [4,5,6], [5,4,2]])\n",
        "print(matrix)"
      ]
    },
    {
      "cell_type": "code",
      "execution_count": null,
      "metadata": {
        "colab": {
          "base_uri": "https://localhost:8080/",
          "height": 106
        },
        "id": "aQg8XukXZ3-t",
        "outputId": "11e1a6b9-b483-44da-fe4b-72f4ce5c71a5"
      },
      "outputs": [
        {
          "ename": "SyntaxError",
          "evalue": "arguments cannot follow var-keyword argument (<ipython-input-1-fafaa112b9e4>, line 1)",
          "output_type": "error",
          "traceback": [
            "\u001b[0;36m  File \u001b[0;32m\"<ipython-input-1-fafaa112b9e4>\"\u001b[0;36m, line \u001b[0;32m1\u001b[0m\n\u001b[0;31m    def my_function(a, b, **kwargs, *args):\u001b[0m\n\u001b[0m                                    ^\u001b[0m\n\u001b[0;31mSyntaxError\u001b[0m\u001b[0;31m:\u001b[0m arguments cannot follow var-keyword argument\n"
          ]
        }
      ],
      "source": [
        "def my_function(a, b, **kwargs, *args):\n",
        "  return a+b\n",
        "my_function(5,6)"
      ]
    },
    {
      "cell_type": "code",
      "execution_count": null,
      "metadata": {
        "id": "5QAFu9fbaKgU"
      },
      "outputs": [],
      "source": [
        "def fun(A, B=30):\n",
        "  return A + B"
      ]
    },
    {
      "cell_type": "code",
      "execution_count": null,
      "metadata": {
        "colab": {
          "base_uri": "https://localhost:8080/"
        },
        "id": "LF5runKYlbux",
        "outputId": "c900c16a-5436-468f-faf1-0626c524d709"
      },
      "outputs": [
        {
          "name": "stdout",
          "output_type": "stream",
          "text": [
            "[3 4]\n",
            "<class 'numpy.ndarray'>\n"
          ]
        }
      ],
      "source": [
        "import numpy as np\n",
        "\n",
        "a = np.array([3,4])\n",
        "print(a)\n",
        "\n",
        "print(type(a))"
      ]
    },
    {
      "cell_type": "code",
      "execution_count": null,
      "metadata": {
        "colab": {
          "base_uri": "https://localhost:8080/"
        },
        "id": "A63emzF5l1R_",
        "outputId": "18fb8072-41ab-42c6-d248-3ff93af6be47"
      },
      "outputs": [
        {
          "data": {
            "text/plain": [
              "array([[13.4,  0.3,  1.6,  0. ],\n",
              "       [14.8,  0. ,  1.1,  0. ]])"
            ]
          },
          "execution_count": 8,
          "metadata": {},
          "output_type": "execute_result"
        }
      ],
      "source": [
        "weather_data = np.array([[13.4, 0.3, 1.6,0], [14.8, 0., 1.1, 0]])\n",
        "\n",
        "weather_data"
      ]
    },
    {
      "cell_type": "code",
      "execution_count": null,
      "metadata": {
        "colab": {
          "base_uri": "https://localhost:8080/"
        },
        "id": "FtqEDFfumVsw",
        "outputId": "3f3eb170-f93c-4985-fb04-2f31b659c3cc"
      },
      "outputs": [
        {
          "name": "stdout",
          "output_type": "stream",
          "text": [
            "[[0. 0. 0.]\n",
            " [0. 0. 0.]]\n",
            "[[1. 1. 1. 1.]\n",
            " [1. 1. 1. 1.]\n",
            " [1. 1. 1. 1.]]\n"
          ]
        }
      ],
      "source": [
        "zeros = np.zeros([2,3])\n",
        "\n",
        "ones = np.ones([3,4])\n",
        "\n",
        "print(zeros)\n",
        "print(ones)"
      ]
    },
    {
      "cell_type": "code",
      "execution_count": null,
      "metadata": {
        "colab": {
          "base_uri": "https://localhost:8080/"
        },
        "id": "M0rlIXyymlQG",
        "outputId": "a6c9c46c-0c4e-4718-f699-894dc09da0a3"
      },
      "outputs": [
        {
          "name": "stdout",
          "output_type": "stream",
          "text": [
            "[[[[1. 1. 1. 1. 1.]\n",
            "   [1. 1. 1. 1. 1.]\n",
            "   [1. 1. 1. 1. 1.]\n",
            "   [1. 1. 1. 1. 1.]]\n",
            "\n",
            "  [[1. 1. 1. 1. 1.]\n",
            "   [1. 1. 1. 1. 1.]\n",
            "   [1. 1. 1. 1. 1.]\n",
            "   [1. 1. 1. 1. 1.]]\n",
            "\n",
            "  [[1. 1. 1. 1. 1.]\n",
            "   [1. 1. 1. 1. 1.]\n",
            "   [1. 1. 1. 1. 1.]\n",
            "   [1. 1. 1. 1. 1.]]]\n",
            "\n",
            "\n",
            " [[[1. 1. 1. 1. 1.]\n",
            "   [1. 1. 1. 1. 1.]\n",
            "   [1. 1. 1. 1. 1.]\n",
            "   [1. 1. 1. 1. 1.]]\n",
            "\n",
            "  [[1. 1. 1. 1. 1.]\n",
            "   [1. 1. 1. 1. 1.]\n",
            "   [1. 1. 1. 1. 1.]\n",
            "   [1. 1. 1. 1. 1.]]\n",
            "\n",
            "  [[1. 1. 1. 1. 1.]\n",
            "   [1. 1. 1. 1. 1.]\n",
            "   [1. 1. 1. 1. 1.]\n",
            "   [1. 1. 1. 1. 1.]]]]\n"
          ]
        }
      ],
      "source": [
        "ones = np.ones([2,3,4,5])\n",
        "\n",
        "ones.ndim\n",
        "\n",
        "print(ones)"
      ]
    },
    {
      "cell_type": "code",
      "execution_count": null,
      "metadata": {
        "colab": {
          "base_uri": "https://localhost:8080/"
        },
        "id": "oovIkponm_g_",
        "outputId": "20627ada-c967-477e-d8dd-f47e33aa6173"
      },
      "outputs": [
        {
          "name": "stdout",
          "output_type": "stream",
          "text": [
            "[0 1 2 3 4 5 6]\n"
          ]
        }
      ],
      "source": [
        "range_a = np.arange(7)\n",
        "\n",
        "\n",
        "print(range_a)"
      ]
    },
    {
      "cell_type": "code",
      "execution_count": null,
      "metadata": {
        "colab": {
          "base_uri": "https://localhost:8080/"
        },
        "id": "IL2ElbcunTyW",
        "outputId": "7328f656-19fb-4102-d4e8-4c7c7a92b353"
      },
      "outputs": [
        {
          "name": "stdout",
          "output_type": "stream",
          "text": [
            "[ 7.  8.  9. 10. 11.]\n"
          ]
        }
      ],
      "source": [
        "range_b = np.arange(7,12.)\n",
        "print(range_b)"
      ]
    },
    {
      "cell_type": "code",
      "execution_count": null,
      "metadata": {
        "colab": {
          "base_uri": "https://localhost:8080/"
        },
        "id": "-Aft7DCRnfWG",
        "outputId": "d1850994-d47a-4ec9-a29c-64829d6b9d37"
      },
      "outputs": [
        {
          "name": "stdout",
          "output_type": "stream",
          "text": [
            "[ 7  9 11]\n",
            "<class 'numpy.ndarray'>\n"
          ]
        }
      ],
      "source": [
        "range_c = np.arange(7, 12, 2)\n",
        "\n",
        "print(range_c)\n",
        "\n",
        "print(type(range_c))"
      ]
    },
    {
      "cell_type": "code",
      "execution_count": null,
      "metadata": {
        "colab": {
          "base_uri": "https://localhost:8080/"
        },
        "id": "klp6yCVRpIOr",
        "outputId": "84cb9878-5ee7-4c87-dd0f-e956b1840079"
      },
      "outputs": [
        {
          "name": "stdout",
          "output_type": "stream",
          "text": [
            "[ 7.    8.25  9.5  10.75 12.  ]\n"
          ]
        }
      ],
      "source": [
        "range_d = np.linspace(7,12,5)\n",
        "\n",
        "print(range_d)"
      ]
    },
    {
      "cell_type": "code",
      "execution_count": null,
      "metadata": {
        "colab": {
          "base_uri": "https://localhost:8080/"
        },
        "id": "t2a8pktarOWW",
        "outputId": "8f914345-e08f-4efa-b8de-d2fe54cf3423"
      },
      "outputs": [
        {
          "data": {
            "text/plain": [
              "(2, 3, 4, 5)"
            ]
          },
          "execution_count": 19,
          "metadata": {},
          "output_type": "execute_result"
        }
      ],
      "source": [
        "ones.shape"
      ]
    },
    {
      "cell_type": "code",
      "execution_count": null,
      "metadata": {
        "colab": {
          "base_uri": "https://localhost:8080/"
        },
        "id": "J1jPa9dUrZlu",
        "outputId": "8754ff1a-9a92-4bac-9f7c-f0dc3ca28518"
      },
      "outputs": [
        {
          "data": {
            "text/plain": [
              "120"
            ]
          },
          "execution_count": 20,
          "metadata": {},
          "output_type": "execute_result"
        }
      ],
      "source": [
        "ones.size\n"
      ]
    },
    {
      "cell_type": "code",
      "execution_count": null,
      "metadata": {
        "colab": {
          "base_uri": "https://localhost:8080/"
        },
        "id": "dtJmhB5RrcvP",
        "outputId": "a8817b7e-cb7d-4061-cc88-6185566193d9"
      },
      "outputs": [
        {
          "name": "stdout",
          "output_type": "stream",
          "text": [
            "[[0. 0. 0.]\n",
            " [0. 0. 0.]] (2, 3)\n",
            "[[0.]\n",
            " [0.]\n",
            " [0.]\n",
            " [0.]\n",
            " [0.]\n",
            " [0.]] (6, 1)\n"
          ]
        }
      ],
      "source": [
        "zeros_new = zeros.reshape(6,1)\n",
        "print (zeros, zeros.shape)\n",
        "print(zeros_new, zeros_new.shape)"
      ]
    },
    {
      "cell_type": "code",
      "execution_count": null,
      "metadata": {
        "colab": {
          "base_uri": "https://localhost:8080/"
        },
        "id": "Adre0oYZr89-",
        "outputId": "3a60440e-ddf0-42ed-d71d-2c6d022bc5c2"
      },
      "outputs": [
        {
          "name": "stdout",
          "output_type": "stream",
          "text": [
            "(2, 3, 4, 5)\n",
            "(120,)\n"
          ]
        }
      ],
      "source": [
        "ones_flat = ones.flatten()\n",
        "print (ones.shape)\n",
        "print(ones_flat.shape)"
      ]
    },
    {
      "cell_type": "code",
      "execution_count": null,
      "metadata": {
        "colab": {
          "base_uri": "https://localhost:8080/"
        },
        "id": "epeaks9esORe",
        "outputId": "3fa7781e-8eec-4901-9c9b-fa9144fb809c"
      },
      "outputs": [
        {
          "name": "stdout",
          "output_type": "stream",
          "text": [
            "(2, 3, 4, 5)\n",
            "(120,)\n"
          ]
        }
      ],
      "source": [
        "ones_flat = ones.ravel()\n",
        "print (ones.shape)\n",
        "print(ones_flat.shape)"
      ]
    },
    {
      "cell_type": "code",
      "execution_count": null,
      "metadata": {
        "colab": {
          "base_uri": "https://localhost:8080/"
        },
        "id": "yN5KP56esUkr",
        "outputId": "93efb545-f5ff-48eb-ad18-146780b7471d"
      },
      "outputs": [
        {
          "name": "stdout",
          "output_type": "stream",
          "text": [
            "[[0. 0.]\n",
            " [0. 0.]\n",
            " [0. 0.]] (3, 2)\n"
          ]
        }
      ],
      "source": [
        "zeros_transposed = zeros.T\n",
        "print (zeros_transposed, zeros_transposed.shape)"
      ]
    },
    {
      "cell_type": "code",
      "execution_count": null,
      "metadata": {
        "colab": {
          "base_uri": "https://localhost:8080/"
        },
        "id": "y1fghbp5sex2",
        "outputId": "60d683aa-18f0-4138-9d70-7af417eb3714"
      },
      "outputs": [
        {
          "name": "stdout",
          "output_type": "stream",
          "text": [
            "(5, 4, 3, 2)\n"
          ]
        }
      ],
      "source": [
        "ones_transposed = ones.T\n",
        "print(ones_transposed.shape)"
      ]
    },
    {
      "cell_type": "code",
      "execution_count": null,
      "metadata": {
        "colab": {
          "base_uri": "https://localhost:8080/"
        },
        "id": "UKVO5whuu9G5",
        "outputId": "054f8c2b-c3b3-4eed-fbda-115e77f96d0b"
      },
      "outputs": [
        {
          "name": "stdout",
          "output_type": "stream",
          "text": [
            "Temperature very 2 hours- afternoon: [12, 14, 16, 8, 4]\n"
          ]
        }
      ],
      "source": [
        "hourly_air_temp = [0,1,1,2,3,3,4,5,6,7,8,\n",
        "                   12, 13,14,15,16,17,8,6,4,2,3,7]\n",
        "\n",
        "print (\"Temperature very 2 hours- afternoon:\", hourly_air_temp[11:20:2])"
      ]
    },
    {
      "cell_type": "code",
      "execution_count": null,
      "metadata": {
        "colab": {
          "base_uri": "https://localhost:8080/"
        },
        "id": "jI2RTrAZvZJR",
        "outputId": "c4d68135-b266-482c-cdfd-402a3a6855f5"
      },
      "outputs": [
        {
          "name": "stdout",
          "output_type": "stream",
          "text": [
            "Temperatures from 7:00 to 12:00 - morning: [4, 5, 6, 7, 8, 12]\n"
          ]
        }
      ],
      "source": [
        "print(\"Temperatures from 7:00 to 12:00 - morning:\" , hourly_air_temp[6:12])"
      ]
    },
    {
      "cell_type": "code",
      "execution_count": null,
      "metadata": {
        "colab": {
          "base_uri": "https://localhost:8080/"
        },
        "id": "vHwHqqY5v9z0",
        "outputId": "18772041-0664-4c0f-e64e-5086d1728317"
      },
      "outputs": [
        {
          "data": {
            "text/plain": [
              "(4, 4)"
            ]
          },
          "execution_count": 32,
          "metadata": {},
          "output_type": "execute_result"
        }
      ],
      "source": [
        "weather_data = np.array([[13.4, 0.3, 1.6, 0],\n",
        "                         [14.8, 0, 1.1, 0],\n",
        "                         [14.9, 0.1, 1.2, 0],\n",
        "                         [13.2, 8.6, 3.7, 0]])\n",
        "weather_data.shape"
      ]
    },
    {
      "cell_type": "code",
      "execution_count": null,
      "metadata": {
        "colab": {
          "base_uri": "https://localhost:8080/"
        },
        "id": "aPIaHatAwabw",
        "outputId": "c3f39df1-12f7-4b72-b814-a404f6ad5b6f"
      },
      "outputs": [
        {
          "data": {
            "text/plain": [
              "array([0.3, 0. , 0.1, 8.6])"
            ]
          },
          "execution_count": 33,
          "metadata": {},
          "output_type": "execute_result"
        }
      ],
      "source": [
        "weekly_precip = weather_data[:,1]\n",
        "weekly_precip"
      ]
    },
    {
      "cell_type": "code",
      "execution_count": null,
      "metadata": {
        "colab": {
          "base_uri": "https://localhost:8080/"
        },
        "id": "J6blBP9xwinO",
        "outputId": "c305ade7-dc38-479b-f028-17d43ef0cc99"
      },
      "outputs": [
        {
          "name": "stdout",
          "output_type": "stream",
          "text": [
            "Warmer then 14.5 C:  (array([1, 2]),)\n"
          ]
        }
      ],
      "source": [
        "print(\"Warmer then 14.5 C: \", np.where(weather_data[:,0] > 14.5))"
      ]
    },
    {
      "cell_type": "code",
      "execution_count": null,
      "metadata": {
        "colab": {
          "base_uri": "https://localhost:8080/"
        },
        "id": "jv0sIOoKxJTe",
        "outputId": "1fbc84d3-d6b7-4b26-8a70-f478408ba3b1"
      },
      "outputs": [
        {
          "name": "stdout",
          "output_type": "stream",
          "text": [
            "[31.940276271541478, 57.19954845554466, 34.062534212342605, 60.85424749525711, 94.20824141527434, 89.86653262400536, -6.0050003515381345, 16.797419728481565, 85.20444709749226, 40.549742037542224, -5.657591845045227, 47.020466341313906, 4.5270017342200575, 46.50523877780891, -4.226341748600063, 94.4819724784021, 66.3775332741172, -2.5592780630433083, -4.884798883830861, 71.52606953569928, 68.07652331061745, 2.4250224978528756, 89.46780766654118, -4.374094458304061, 49.66398976814803, 25.213141506156695, 52.503098492824265, 10.727087717470653, 42.624903227972794, 47.81386713178618, 68.92729520968895, 78.50817009211755, 1.3976797799320053, -9.995925963251292, 61.95771235992905, 46.72984231068358, 11.088807862227661, -11.306666976244752, 28.06652813666878, 43.38801265365453, 50.82461891710423, 66.67183658903221, 5.301436799588359, 44.26199028644622, 47.680305012944714, 35.21327814253366, 82.75325495889005, 13.892158089428037, 28.049838776475376, 58.37339422225834, -12.294697695516916, 75.14343712297367, 3.945367827386118, 4.114268244151049, 4.358436911560606, 88.4503241829617, 59.213737614609514, 78.69818309700518, 97.09667141983641, 20.08228801035459, 4.869167935341846, 46.058686780520105, 56.97114237631372, -3.457643624678262, 54.833970486611975, 64.49771449175228, 39.79385194244073, 98.94652191650027, 31.855023033633202, 55.01699433899766, 2.525029758685772, 84.19855861102596, 77.29694454339294, -8.941094092108063, 42.93145417757226, 43.379346254910125, 12.277727169920965, -3.3810602235211533, 16.387212631376194, 50.32368004841163, 32.96090089790633, 48.43615216469313, 73.70254227014551, -10.919153493053102, -14.974287168944551, 89.30430972940763, 45.386557730008434, 99.45364377358433, 1.1198376968742672, 87.7470501390617, 10.781764586786153, 62.44065448760986, 66.67959516273149, 95.23580017588765, 32.96919392210913, -7.979988159793457, 89.535116705539, 3.590825054874994, 54.3697530289668, -0.8982837524464315, 50.3057146383524, 48.88045518629792, 48.56809057833999, -10.92547272994902, 64.96107572984974, 73.01276609759972, 12.333718786373105, 77.2115756031415, 38.17296489619763, 91.19505840176969, -6.041205538107267, 45.831346490350455, 16.83492926226164, 45.69539827107569, 44.1048441327588, 58.39016903223491, 84.27794422736551, -13.339548830154664, 28.343220948815855, 14.440745903143203, 67.61968090781477, -18.96496699064415, 10.825621865283303, -10.736087856923518, 0.11749762047283241, 89.62525315616658, 90.52891062559797, -15.434019422339746, 69.2564671121548, 56.3953003897702, 90.37702566822725, 97.9071053960768, -9.612220222270164, 83.3643612938634, 37.49381662122082, 37.35395842037797, 13.143173686085518, 0.10105028424282736, -3.805446541976508, -13.892536678160784, -2.949547951944197, 68.74595085355384, 30.02962051844549, 26.203990316317558, 89.47072269313772, 46.83108595687574, 77.4586143873889, 44.57408285170328, 74.12806178327412, 44.6041945017179, 15.39025118841434, 22.649011146993182, 31.496323492548363, 97.67379057138665, 86.20631328466732, 64.28220436731105, 98.07358337261067, 60.05012680293487, 76.12472916411167, 22.770849338207, 0.257141438651459, 46.343880019720686, 51.804905284528346, 95.9483290353548, 43.97032861335409, -14.534302422620708, 11.18157385149508, 66.82581331375269, 54.30502625673057, 13.387705430097917, 22.177191370497155, 70.56226620010128, 69.94155229147515, 12.167846885898122, 83.8494611611768, 49.5178497489555, 10.514874897628275, 12.545838963566197, 17.751120155919033, 30.310025114450085, -16.35786397497769, 5.121494906791867, -15.953706725354264, -13.776419811409495, 65.04255967203976, -14.198178438434802, 7.976439342450163, 23.60540347671099, 91.32477681976759, -17.850917695111484, 89.24390020043256, 45.18701269156084, 92.86852745370732, -15.15597165308909, 4.753281357079153, 50.32845481525301, 1.8873250823880952, 53.973668699392874, -11.813598751865504, 3.709912720361338, 33.88050989155415, -14.57764389973535, 0.5702991997687477, 39.5386744593618, 76.98110686309772, 18.63472123672353, -14.331167220593297, 48.71194911147232, 33.65422162312115, 53.112289467811266, 10.175786364317169, 66.10503918308801, 29.131806893461132, 70.67958206374104, -10.824597184040204, 38.014878916742035, -15.675417943728815, 28.11565163459175, 24.475127193664996, 25.435329824872696, -13.08250733507406, 26.293909008459543, 60.7598491169296, -18.403090255468882, -17.082020929477288, 58.97015663520308, 55.87151307522063, 8.132471403885837, -7.619538900547823, 38.69058956137558, 89.25446561129016, 70.56529434254224, -0.4332828673319895, 25.402514152619105, -6.259558126337868, 65.43958452967247, -16.04231963992687, 96.11742692176355, 91.01458400911628, 8.802668697236633, 59.96834672037048, 47.74114428363171, 8.386688229023523, 89.5043259644359, 9.666051025245359, 41.7543864945031, -12.627976085285031, 80.72211885682209, 39.002959959443565, 82.68935231318962, -16.125282568614928, 40.43657193819738, 81.25456341230559, 17.890367198904855, 36.88283133272231, 78.5967157152204, -18.398051809453104, 6.568425229881779, 13.15531517382776, 76.39709107507869, -4.225593829547627, 40.96050632357639, 48.38816984560236, 38.00937158965922, 51.786164010039, 19.992530324585132, 30.95242435760275, 32.68959312905125, 2.0510476350426217, 69.48172153723517, 12.120279966261435, 50.32863453182533, 32.52654466251024, 38.64481715907577, 36.50883111287917, 56.63102836275819, 63.4785357287397, 84.74953257373252, -17.4346534079639, 79.88585974943734, 77.78157724759576, -9.173044737480055, -5.396897612157826, 80.42314285637124, -16.823215986956555, -7.564189400516321, 86.62056958309003, -5.096703475020558, 13.226130251271869, 65.3147941301627, 95.84304398021665, 33.54841171692929, 98.98228134925954, 86.33629134904676, 78.02176087543518, 59.02490115491587, 24.597523984543393, 46.867927637455466, 30.546322474494673, 24.827747491502336, 18.733395628867896, 26.152795954051527, 74.90630864483414, -7.949765257107003, 3.3119847609640765, 19.872682284171475, 41.71445827092707, -12.467368334015045, 21.764338091371812, 42.99087476017555, 94.48931518602467, 18.740674073523287, 70.15479130817727, 36.21879891007006, -10.321200458922561, 59.77144400909427, 72.48628301575113, 38.94146926370435, 45.02445110968013, -18.42964470922584, 17.44433179074855, 37.00815398355373, 31.010222425002233, -4.477170647710466, 40.50871937386819, 51.91875640378423, 15.164374440162334, -0.6393096753479988, 56.51092580906686, 72.2572811145256, 47.6338839380835, -11.06021862726649, 33.49697287349801, 47.084382448353324, 55.86163550159432, 0.12831026031078352, 54.250979415991225, 4.22210158553542, 27.794243345141396, 18.25031915268849, 25.05818371156935, -10.319380199211468, 63.511818898684965, 34.627908388392555, 2.7886502393098986, 29.009452390613816, 21.5438568443333, 76.672722909063, 18.21121935803548, 24.6165067458807, 40.28733385889673, 83.04982667454473, 85.81679922907239, 85.60566781941156, 78.68076942510702, -6.032286791550048, -1.691818631703235, 87.82446818103162, 34.65799908972761, -17.736546420056357, 87.9582430211214, 77.44074469395711, 74.63777327220598, 65.85096305945814, 32.7673876618565, 10.046179277986479, 71.62134472820608, 86.92040219542288, 22.02135463910539, 42.451560336953584, 82.25480765058096, -16.804305208567346, -19.79387098245664, 96.63288727402583, 68.91209193852548, 55.58483504755739, 70.30102814905214, -16.777067223768555, 34.93286843770087, 83.70536182609874, 15.931035592334567, 16.48279732487901, 90.25679227395261, -9.581020598422256, 50.54371471974102, 27.682077457529118, 76.44594298466389, 39.79382539650964, 53.22825099420869, 52.957600684036905, 14.008370530015519, -8.367265263986319, 22.129709501861356, 66.68288532742524, 71.59477280980327, -14.094085269794917, 84.70867582135367, 23.35413506093238, 73.35476469146249, 86.92889159735411, -12.091081482274939, 98.7106691504008, 28.5831352048341, -13.414545913645068, 37.37126826043135, 71.8461698044678, 36.81688269310801, 93.28209852735519, 20.353704958013005, 9.778179876271981, 40.059208319880945, 80.01662001508416, 3.407862971278263, -6.554183674837223, 64.05897105228483, 45.36289278836169, 38.87073980234772, 62.55723124498354, 34.77987193681453, 21.226130069672543, 56.3698653254323, 35.98435013311065, -18.935737589525008, 50.108050616212964, 29.87415321279982, 88.09640743561408, 60.3440347557768, 86.91599641511986, 32.65831665263459, 26.260641011886406, 5.107367228689377, 45.5849604767501, 42.95603104445988, 81.37715112126234, 12.732101941566633, 53.084451334074274, 1.1218879999171314, -18.191608857345027, 77.36573792788705, 77.59754095831539, 44.60324630230721, 51.95496857487285, 99.02558326492549, 3.6390463674256743, 49.899809044746206, 94.55611924850218, -7.112278713594677, 78.6714838536978, 97.89463622482903, 89.25588197304319, 75.23505762951788, 70.99887221840302, 48.92695319654483, 80.82543732206736, 73.65450326463368, 11.66543437011558, 64.38570813826571, 50.468233809204975, -1.637450333072529, 28.557959326376988, -18.112665864775405, 91.50738854318692, 99.61383100391909, 94.64319439541057, 77.6948079407481, -16.8994090696373, 6.7600975191176715, 82.60533506418517, 97.54669951197938, -4.363958735562804, 39.96358694447555, 42.425962875882696, -0.07976520570876033, -2.9224688375558863, 98.3882280158591, 0.6049719622699428, 1.923961144618218, 63.53682808489009, -18.8122554257668, -16.498744836527443, 39.50409888003182, 71.38227946790028, 64.02255396632215, 32.65975790096447, -18.789231405165914, 42.35848104847312, 51.3290015094867, 30.41030775273577, 92.96433984273595, 37.73602491413378, 66.11777063089674, 15.461558326867383, 58.71318169384577, 40.93057969434459, 45.31724096618609, 69.29324077631327, 33.34540585744542, 45.699427002205, 55.14009970372058, 89.26635384665674, 93.3192720385407, 27.725445273714392, 47.808397057451344, 97.9620280654644, 11.322947083176217, -14.676293457924734, 44.05061759478865, -8.23215886180494, 1.759801165367083, 63.699772539924666, 59.46185042404761, 63.40596947271999, 12.063193054920056, 82.42964888711218, 96.2334393564977, 69.35088684318305, -19.71171203909458, 55.84961001451866, 22.374660821370696, 51.533745821523524, 62.78665024381067, 22.364233474749383, 59.784393996079444, 87.44862498075695, 42.77287180666221, 66.4947734481834, 86.3029563152553, 14.589290121231912, 44.1611213913781, 67.81331565226739, 72.80946759838838, -8.424965026279363, -14.477999867260563, 92.47984604188086, 80.40571321012754, 59.63452095096403, 91.60388342119569, 46.466911889063255, 44.75438529764101, 52.914653110592226, 39.18896620353878, 59.9046599702464, -1.3596610426755937, 24.13713065437762, 66.20517109038398, -13.179038378333976, 39.30787541491813, -19.72512212869594, 18.00774310449598, 90.42961265754882, -10.826240554902595, 12.31231025942612, 34.566381720113995, 25.119656038711106, 0.48373498513883106, 42.22936169760556, -5.322533222243591, 23.252473661986386, 58.475351756447694, 93.31347604501688, 46.04568911924028, 78.87446779906139, 92.77196129425491, 41.68419194345888, 28.05875704659791, -17.224958346979278, 14.516205253863191, 40.39250013446332, 87.40993316587497, -15.638275708816165, 42.414268057517624, 67.23419579276094, 4.058396599248283, 51.34460463331928, 20.77037347097437, 3.3646201098144672, 59.17526327227827, 81.7573241560017, 87.85312380123115, 31.917424845994695, 8.06590033949086, 96.46058666137817, 51.237989748130914, 27.76424704305923, -9.922807284480616, 31.273773495002295, 89.58169752045524, 28.92382034994114, 11.02084041369206, 42.758408324309755, 11.392265827789096, 84.29255342156765, 45.163493461461414, 91.04912694331249, 48.13942492519328, 19.56676802066508, 65.4222393504841, 62.500559948149814, 66.51022338865218, 99.05237216466277, 21.44774991973479, -2.904687462529708, 57.83013084179673, 95.04324924975249, 57.168168099609915, 55.31041430392449, 86.4174552234726, 55.6811216617545, 98.12889426635029, 61.1151334925776, -8.658045309746086, 22.2131975907986, 51.94138826993195, 43.749790285036966, 23.789352567610592, 77.88180938800001, 25.025693059331715, 50.830142346039025, 20.95172645056629, 42.76839019348473, 59.44345588790111, 14.958554498799103, -7.718186983754261, 34.14534299437249, 71.28312791657476, 58.5131301259828, -4.216130006646308, 46.9137026441763, 41.96510577875036, 98.52443813895813, 47.09798346276821, 21.637720879924224, -4.611521042094054, -4.05675821450771, 79.90627530141319, 92.74662153081402, 97.61460610456719, 21.978031212809135, 26.589435827196162, 41.43623173452073, 95.02117174886502, 1.0921644356772546, 58.707930425288055, 93.52830781096385, 48.85960851327479, 29.320392394456867, 86.75896340147008, -13.809272471268542, -9.93476402346699, -19.568810016105544, 18.141601151318035, 11.328473323135725, 94.76380810358476, 79.21165935455474, 15.641733999024318, 31.851970659585817, 27.02380055623498, 57.56188286396983, 55.92226611254624, -2.40970585117239, 35.130705394433186, 73.52902175900613, -0.8188644942961041, 59.57318762278511, 40.0846187585058, 91.52559515445772, 20.06171425520865, 37.88166520186913, 84.40199733986042, 4.901531925681031, 3.98939392815182, 63.33163279135128, -14.877961833917883, 10.835385942227212, 37.67906270936035, 20.6871261286665, 86.03633774955956, 87.42230891430252, 21.23803600827391, 50.82024606898183, -5.795450528842153, 0.5112533626879348, 96.22057846734222, 55.10875622762177, 77.78010010852744, 77.09465694604168, 85.77177016328739, 70.89971681776387, 60.59967530189374, -14.320116657528636, 87.83724496618443, 19.05593108577405, 14.135052382313837, 32.88895928996647, -3.5364866976386047, 90.29538480238645, 2.16300020529512, 14.005320754476507, 58.29653309998669, 0.03578581902977973, 62.55534854820749, 55.681769682612796, 98.33352487130416, 79.92369628180262, 34.534926739159935, 39.57013631860686, 40.34798153974602, -14.564044102991085, 15.838160577013326, 93.90430040690075, 83.11527331301055, 58.807857102269935, -6.1545005254897145, 24.37080823702803, 39.70118375975448, -12.569812194068493, 10.848789398614077, 33.093700332041976, 67.14288187436051, -1.2451781733426337, 97.2365432807631, 57.40606183700072, 69.03005439000361, 64.84432578065167, 51.00883669610684, 37.01064777343165, 88.90021774433626, 14.906959328392013, 92.28945206046657, 97.11430233603335, 79.2983837142185, 20.32769842306554, 25.79951141941629, 94.42526663851228, 85.36132391649406, -6.451248709576847, 27.363929061328136, 80.01349097673864, 87.37362114919422, -19.972170608963214, 17.730802967692604, 7.065507009151581, 31.479345897228924, 50.021484900094094, 1.6351767547524432, 43.26594826756765, 7.999608432177283, 7.695636696816862, 33.09840245401862, 59.00867694526903, 24.07039536089939, 83.31344003050862, -10.97645964544899, 28.562532392518797, 3.146371276459586, 51.259838138241975, 94.32580145595223, -6.492382618822713, -1.568611086937949, 39.010776384762096, 79.02081293822378, 46.90855113087002, 32.83683221915868, 29.864372184807436, 65.32032184751596, -1.7716253160688744, 91.12515260589625, 7.3618903516243535, 86.70918710514627, 28.783144960485963, -14.840406149002852, 18.34903338909387, 33.95170508234703, -18.3841870485842, 81.25400428945001, 80.38408166826218, 59.04608498864995, 49.32567846318693, 26.87469598070072, 69.78851710054553, 35.9993160668262, 60.1339326213311, 50.74405152662983, 53.41505695649363, 81.7375568215654, 47.92759019522198, -9.856965213873359, 40.69692613013858, 42.005173185150085, 54.534944010464656, 11.53613809419359, 17.80468932091614, 94.03282206949984, 48.84354925641456, 97.43346688163804, 47.96442257966787, 68.95956795737838, -0.32466425614781613, 9.689467779735562, 14.305276133059401, 34.56515593429647, 51.923817228041855, 0.7318195384598702, 17.90810635310961, 40.81139485314343, 18.842416637246636, 6.613412472869641, 23.368725610437153, 26.551086178028974, 44.078222086659835, -10.677352636031117, 80.44849031052142, 60.39395663504801, 6.949858548766382, -2.0656159167890493, 69.13387363518831, -19.874962098940156, -10.095573400787137, 9.210787699460731, 18.448202055694203, 99.00709781925653, -14.12064303188628, 44.28409875659615, 81.82830555336001, 61.44307714425021, 36.41052434317296, 85.74097717999433, 17.448335439760797, 26.08745065425086, 86.84448427903055, 29.42422731516247, 88.37876103432153, 21.2910484067148, 1.4336794853127657, 36.69813986006184, 18.619633764827952, 21.048690754992904, 61.127142299362774, 36.518541420719004, 80.37882550028705, 99.38677119012657, 24.546549177679196, 23.523883451638575, 62.30096432653441, 65.66605501703818, 27.541899611170393, 69.29682887165839, 4.327191578966122, -15.174050188823376, 41.110290700780475, 12.386794625157968, 21.96714214614333, 93.03901540757364, 71.57243421066515, 4.965988284638595, -16.219675719632324, 35.48494693123002, -6.632635709556336, 26.740806241031386, 16.803260642459513, 89.30658547385309, 76.28514167189492, 65.4144897530116, 69.91440866052315, 11.111321644065132, 2.395513879616704, 37.28598650413767, 49.11747701919937, -16.93996249913218, 20.962352246266946, 73.57134739041908, 40.05141269212907, -12.25635798554177, 57.715389705612736, 87.77472101952398, 83.49140567449801, 69.09519707563081, 44.97313432200964, 86.26258864160603, 59.18144710510846, 64.11480154605074, 53.360832649153494, 33.50594195512745, 19.50493731569766, 93.0117865195113, -10.82026355548983, 41.38730745322588, 95.70744657823347, -7.532066434456922, 90.43527988918808, -6.652500421645593, 22.496398898479406, 83.45218310410348, 11.812072797435505, 30.55586348874168, 14.127656109024059, 32.61897461418004, -14.300977752252845, 93.25223072290012, 68.991426948006, 87.11683755081249, 62.58931071124937, 4.673300163619967, 82.49561014198825, 62.641646157809376, 31.591595614039676, 90.28450933230405, 96.31929434221306, -19.710132658369442, -14.060461443155408, 85.50024941579805, -8.812931811435924, 18.63546716331618, 40.68319904945183, 64.47974946704994, 78.55005256603458, -4.013815291612763, 2.9950448518351465, 14.68422523454602, 97.47346066109662, 4.111836912809508, 65.09357956197783, 95.07331542529121, 58.3236909570567, 77.52512579591627, 91.94447200748031, 50.66818647422416, 78.90973143842513, 67.8396518494028, -15.557668921395118, 86.4937444163787, 19.346083055957884, 68.5687094309726, 18.27572580112114, 40.3640773631612, 33.79142969320395, 81.76323734943725, 65.02890662274599, 27.50826139672003, -17.075181869223837, 87.06862515459582, -11.080262780226683, 12.475892836110056, -11.43710691611711, 25.64451386502771, 59.95609201342555, 40.436229180606496, 65.784750366866, -18.16675904999345, -2.4361582593767928, 34.95057806603245, 25.999710496973513, -4.504078818892827, 42.543550619885906, 72.64345826961166, 90.97442118376111, 52.70340704326165, 84.17931528342697, 73.67818394627339, -8.995258435727997, 49.611142874955775, 63.42161514424495, 79.47158357411337, 73.0944875362352, 45.6914287997421, 73.11595130139085, -14.35409607116033, 70.88913115676944, 52.09125206972942, 5.088360539491376, 41.01320420816106, 61.5260557759741, 10.461769849630773, 71.06314891691444, 92.62325111644519, 35.601568008815754, 3.687045228531982, 70.62076095496401, 63.245531812509256, 66.83843054274409, 26.2591622111635, 40.04260258715685, 32.767126539134146, 50.13556701601331, -7.360924068230673, 12.61084238700353, 99.62166053782934, 70.17819302657657, 43.42523387509224, -16.978967462054626, 51.04051511295327, 97.74979007447013, 45.905663704267866, 66.9986301441139, 64.38705383802403, 33.04966457622124, -11.577963101806388, 37.68672589735359, 8.420091277821875, 84.26654685473599, 48.31670799768648, 99.86784568870299, 86.5425083469439, 75.75627533751577, 73.40717380333479, 50.14227785934841, 3.59662062381242, 41.93350058050405, 11.559771357658942, 4.141206960316257, 86.56406917425247, 94.47026456534056, 66.82578098881845, 22.770029733094844, 6.5561302101998145, 77.49015698206779, 80.14060905189041, 14.554348947132674, 23.401931753992507, 53.82599277795548, 33.25618022708737, -1.1800512388323305, 74.55329794818513, 47.72540122139242, 77.04193031294423, 63.88727480839661, 46.17206911460194, 81.38033804066296, 32.385147516641936, -18.431355780292034, 96.09088144943242, 15.804862611795329, 92.36756633848323, 52.270527371269495, -17.915248279267395, 23.43753753879419, -4.76441042545915, 69.60956471472565, 60.37414017946905, 65.04526818737106, 79.77343922488133, 69.54568750129995, 64.54639258499836, 33.47276293790825, 56.754418499282636, 35.447485373605524, 15.678276371480663, -13.680650957085373, 5.278900478429076, 76.42857647479798, 62.715694439394156, 27.725771166248634, 70.10397778957906, 53.81448803793465, 71.80312177138867, 82.09238912469303, -11.125460995811537, 34.73460418341485, 29.28075281733421, -2.676455439160147, 37.81160335116685, 56.76493550637679, 3.2873507507232134, -4.793705247941155, -17.0588378504705, 20.58900933055987, 25.50465694300727, 27.4683218443447, 32.99606579766491, 8.75000844269163, 28.458949581587277, 8.320862174564809, 90.80548571674723, 39.573483295203204, 57.69987689148205, 47.38736628480919, 91.75119505382177, 16.16969060063439, 64.18994420858284, 44.57580519995193, -7.514652582882974, 81.1263404333978, 94.18349282690684, 59.04916503138142, 1.3115497393259474, 97.18157485730552, 2.9241881552232485, -12.600985006872909, 53.185048804181335, -18.643691571842268, 71.99971532455324, 80.03890362117588, 53.16497814225562, 0.06157683542837944, 60.81617521321657, 6.916831915636266, 78.0157663775375, 31.660860401558494, 40.124609385450725, 66.60964373621213, 14.059206664537427, 67.46070085423187, 38.78131097016777, 82.4320417755206, 0.25963759830997546, 79.67567822918173, 41.54123576308323, -12.829013017756283, 93.23855991334753, 39.56361459816243, -2.8607005810848065, 61.14353634424661, 9.91555340617273, -3.8182708001295573, 51.68597077856809, 58.56623421486913, 60.272295311458606, -15.855943265071675, -4.80784793268584, 58.8882481855962, 38.19884700195729, 63.13708518182497, 36.77595618153475, 44.47192531192306, -9.211588218148092, -14.836132887137584, 13.631674100704167, -8.66069612854707, 50.23662833239436, 45.888737098526335, 82.48355412068183, 4.353602768697851, 25.297388666320245, -19.049929330938248, 39.40827067100645, 89.63960826673627, 5.015624012877673, 97.0575523739527, 38.81416505008738, 67.16576825532229, 91.092389864714, 49.7130676013243, -19.472875257290863, 38.10073597163686, 58.287243792029415, 91.62699819556515, 58.33653911980514, -18.44434920855507, 71.81609313806086, -8.779576679436687, 51.27371563601024, 45.80040516363566, 53.505688234527966, 48.735191757727975, 11.359332949497883, -6.929219223516068, -17.903600968755665, -6.431700358037, 50.72881149192031, 80.01810173343716, 30.79551480605693, 18.33546251415686, 41.784293869968536, -8.26300484030062, 38.53947357182921, -13.499719374890393, 27.84303599755379, 86.85274809774727, 97.75077911724433, 62.8222975990284, 94.21995862052509, 30.039373682563507, 88.55250159492316, 59.38610773717568, 68.10487237298727, 38.21126704366461, 24.79710587664026, 1.1339025022122549, 50.21111586665316, 49.553072461452786, 10.304586756033942, 19.1224835974028, 66.37641993530403, 89.09403813825074, 21.35805220803976, 95.27339944359903, 34.29896747060556, 90.36068123983135, 39.09150553024203, 86.33977764382708, 89.06548620850666, 49.75057117578943, 7.178061502960556, 71.52020636097672, -6.210664217606796, 76.72545476074325, -11.497651035480976, 84.52763134535607, 96.15021920351703, 60.68042445566721, -3.884495123918093, 50.05592038943843, 66.57522246530337, 49.71209892625511, 75.37023659266345, -5.039674709054909, 57.128071746194664, 87.1882239840131, 35.9610571529909, 15.366746474459497, 73.97286998664765, 92.97572578521644, 21.497346457335375, 4.572491053336311, 79.21842650474089, 1.65619076362972, 47.50224746125731, 38.57666667115409, 43.95958999366853, -18.503475677731963, 4.585994590224981, -15.83439166896155, 55.63410686709953, 89.77042479155155, 3.132417075416253, 63.10230313312462, 16.737791786271295, 27.23887760981134, 96.95344872064655, -17.672574009320947, 56.41698408599029, 74.57508993473444, 73.31191333784639, 90.99862016968666, 58.81673924016748, 17.535542438144432, 60.71980213234396, -11.450918121649076, 11.808654661429856, 9.901790020123258, 14.073659831158281, -2.248439161192554, 81.46192648953904, 97.26285872391223, 69.86587217606501, 42.83400742153455, 47.16810706656413, 1.7480143292977246, 44.43467219348135, 66.7451577843328, 3.3158108447380563, 97.62426431810293, -8.799745540737106, -11.222956168711097, 80.13601411702614, -15.51283173179392, 62.99549275219715, 62.196169741320276, 91.59984636568282, 12.907874724129748, 91.11890665883101, 96.20556076354458, -15.003986418497387, 25.383704340664956, 9.928905790045896, 38.770558419551506, 17.102397787279322, 72.02644168917648, 52.982267689023104, 72.47783854119014, 5.888695982881099, 30.180782868727164, 98.91929990770208, 80.51113684349288, 25.669929626040066, -11.529168267865742, -19.822711595172258, 92.88136892054403, 73.0107436048426, 85.47060750400412, 27.509740334128985, 24.50509864389045, 34.62785139665836, -14.016104172769497, -1.8892219253768125, 5.2646135598057775, 85.42781778850132, -13.920432839588322, 56.93131937285713, 56.657319355163594, -13.800712356733257, 19.577860133625528, 41.023743284893115, 25.37100673130383, -3.666364963232155, 91.72749155030412, -2.6901175490835882, 87.15232053569143, -13.124746140088392, 43.304087520682714, 91.21612851559443, 28.473152915901167, 78.07205209799665, 32.94325931531767, 14.375475361447833, -0.6903031601687388, 14.24949116289423, 24.497873890116878, 40.87757182627703, -11.95968238801945, 73.54941769062735, -4.847711573410551, 50.323397018997554, 71.3227991054147, 25.74467149139062, -15.192246727853531, -19.140038725848424, 72.45637273100981, -7.336716834147424, 46.095091895749206, -1.2356764658399655, 3.0475704201552176, 16.61641218597262, -2.4752595058209437, 33.65215562925662, 51.16705383194106, 28.25457985626963, 22.81607601190838, -15.589693046296592, 55.5571507589691, 77.96225295903585, 28.17088976420402, 54.297414854303824, 74.49528866747762, 26.250136900159788, 8.477732597289194, 60.84905536102026, -7.837350680204436, 24.62135602245253, 95.49600395586742, 41.790959992451015, 53.64442430897108, 53.27700910087522, 8.552425338836617, 66.04633245572929, 37.3745508969445, 60.01578032612953, 85.99594940370207, 72.88644086729869, 91.86050599180217, 99.12245098132797, 16.74238427787808, 48.40606463662293, 40.51972256872466, -3.2389162344991327, 75.68221776062032, -4.485492758839062, 14.196352376925951, 75.21754747757579, 8.562865403442117, 97.81616822539334, -14.838683012302205, 70.5152126086416, 66.92237786894106, 27.399914263179717, 83.61469843808568, 77.07821639126837, 40.97720641954032, 47.715710789636006, -1.1927038095709896, 38.147052266277555, 20.05020382501297, 95.43552515637163, -12.221606971676678, 85.21927730085487, 28.385436664146944, 62.2656280290999, 4.208062897518925, 11.878113604959193, 94.28523607489622, 14.62303032897929, -17.261053548190656, 92.41805336104174, 8.08303410197205, -15.263994689184175, 7.737463942672708, -16.03232376079694, 24.8898880274416, 46.46951377690431, 94.4207303399276, 46.075471645503725, -2.228659539310925, 49.545978060261845, 55.931458301059976, 0.10703854691582393, 34.23352546807271, -8.668523893086881, 71.55099393230549, 10.208282112963406, 5.217117946325374, 13.524355172647091, 94.93799773954734, 83.79982906753682, -0.7593507210843171, 73.62773517895354, -11.84132744359388, 21.29025028246403, 23.218492118707793, -10.21901019941589, -14.192112281113234, 26.192316104791544, 57.93042199261916, 4.799470338470577, 35.13267905805034, 96.86232888255671, 87.82015695631783, 66.56331485619108, 88.16695261856766, 16.312603714175353, 99.83808275661865, 68.98859101391363, 97.47157536381536, 29.149648235409444, 52.77476777704193, 27.01026720696636, 61.866458763481646, 81.59544157304873, 85.6621387994258, 66.32249568282529, 71.85306848142969, 95.402688401334, 32.60646270625361, 71.21331041411243, 88.58967347087503, 0.8556733898416233, 21.171381292570388, 55.62362482853456, 35.59980980565809, 25.923827868608036, 80.70327119253398, 94.79700259209508, 24.889919374867098, -17.04362735183391, 59.53782199965957, -13.99165593750233, -19.231423975401626, 4.487549561752921, 41.413070298846065, -5.848476813567615, 84.80622940227835, 25.44361597158676, 35.38905785347664, 82.19023948053274, 13.03670990082069, 49.067867550474986, -2.7842026136249203, -4.98273457357433, 5.993778051439698, 86.79082087632821, 75.12185345239212, 38.17890708685551, 86.54606722934588, 61.9822957248756, 51.42641282802437, 17.717276735429273, 95.53361169062013, 78.81406344319163, 31.459992406848805, 76.8300418862451, -13.819465355107162, -14.565641932688077, 97.45871134784653, -1.5859452497978594, -6.791401951545325, 69.84589417914925, -10.994188125665744, 10.869256022031845, 92.12601018089171, 63.489629976769194, 27.444969488523043, 6.3757219516203065, 98.16519124552741, 10.536557040818998, 87.08220558326548, 47.508082602128496, 36.80141976790737, 99.97278950219021, 77.5372701257085, 92.45155755342108, 12.7690984645631, 84.9549604321844, 64.28592026712923, 92.3246891447622, 38.78374590581587, 12.927865970685524, 1.2030358210485588, 21.848584624346934, -16.40860765071586, 27.09230279531163, 51.18542648751074, 89.26645120894779, 70.74266334014379, 88.30640995829745, 36.50488347007652, 9.674238280764847, 55.67666091978002, 33.20911693058128, 26.3500235253779, 54.326840361258846, 78.1574196796282, 70.49076195911273, 45.387182143065104, 12.0911852952988, -10.377382259180923, -16.35768630077547, 88.08757306140491, 76.82845086061366, 52.371072349676055, 54.636451874732785, 55.09823155582029, 56.547160854448975, 3.446638764050604, 27.56384934967044, 66.12116164543534, 28.97225256457841, 27.939630012523857, 68.09981653799468, 4.849687564137799, 36.061184471971835, 76.31105441590447, -5.779635683785518, 82.63544695485777, 97.11220455488036, 47.609311191748446, 53.729288556174396, 1.445690888493484, 84.1681459880452, -0.3165395043490449, 43.27080558665237, -10.878172612404416, 92.68396791728473, 93.48982654903097, 4.9854957607329595, 71.99684653070155, 85.90016789712269, 7.639904953152239, 22.11242792053517, 97.48470570788977, 70.50923896615457, 23.86835625975438, -4.284186619632706, 29.600968860128738, 88.83128295597601, 60.322205994301996, -16.076801321665656, 41.54762982726557, 29.748034126065967, 40.8519079065516, -16.724358253532227, 3.4904287226974873, 93.2019729925042, 47.55753373318403, 1.0395431475662242, 64.53270715051627, 95.97228075194936, 87.1699792803555, 83.29293980653482, 25.94628364541873, -2.6070218455409524, 32.295670072111385, 29.39414561974511, 69.59038368408751, 28.05214442020069, 26.33832762886192, 12.13030608950423, 21.005442125237373, 46.29701278740173, 69.7803543705076, 1.7094823557544743, 71.83091892524214, 38.02538260888111, 4.669229279248739, 52.22722532683777, -17.552775423833815, 47.04344999321572, 61.298392740017405, 60.36003868976255, 36.81205115508543, 24.065604451919413, 54.723123459050754, -16.374515819606962, 98.44462782814571, 45.249723093677105, 58.36161163757379, -0.4492453843003865, 52.95538845225883, 9.391468725728558, 76.60037334686415, -17.941148435877288, -12.589231218337247, 88.33915873875661, 14.429293854299615, 14.547263792554254, -8.710069004701065, 4.4456583224494, 34.369705650738226, 41.298140488631894, 22.287741968029884, -18.422568361350358, -12.113629810676127, 90.8872312578346, 78.02825164123306, 93.0737208308468, -0.976041137895372, 90.89493958852852, -14.721809734954503, 52.16161420943459, -10.469200324426051, 74.98301397135518, 7.48494343557995, 64.19930558503775, 60.72145290425672, 75.88779027646406, 49.88037900846744, 20.943881351029916, 37.04770494129205, -9.25078649829397, 27.829335986147612, 24.188532651848824, 17.15539862437162, 38.3799837798992, 41.16006549821398, 46.64923821461251, 31.883256666747627, -2.9651720810689177, 8.579530754307001, 15.821180782053666, 51.60814978238001, 82.82569566213664, 23.34720932336183, 92.54486026310315, 5.060355663190762, 48.789149004502505, 99.45146687283615, 91.81442657990792, 65.43487651939454, 69.94982727686406, 49.14756343454978, -4.713603697554319, 31.376979018404178, -14.02022757675426, 70.63341055379581, 41.57957307060507, 62.82816092773761, -3.456610855333274, 81.76483521082757, 66.2418454166475, 89.34827083812037, 47.67467241768007, 80.79509147880559, 90.39800302162412, 24.42968304488123, -18.583970569329562, 5.36579932638616, 26.586289295753645, 8.758975814768405, -19.46389066378074, 30.932216747005583, 56.3640175310785, 30.54725418301615, 85.17417674900986, 28.029453235699748, -17.744384754782164, 87.93148457868293, 25.457244701555574, 5.6874031117082815, 73.41356783472061, 9.791612168417785, 62.9150266088411, 39.65740728698633, 64.27069556547973, 78.09505781247199, 66.366792444334, 76.62190469956741, -18.870319671904724, 63.876812963020626, 27.94977235448468, 14.143156929529013, 77.01615198523278, 24.932770727136827, 86.60960780810842, 60.74209031112589, 30.263714855172694, 22.260026241507575, -9.147352982465806, -19.775474396794145, 39.69367520324718, 62.67220547458719, 4.800495257113042, -6.558197679544641, 15.167984865767707, 21.148034226537106, 39.48161585910592, 2.4575094482520754, 7.522411465142124, 97.4121064772526, 37.57528727892715, 61.60368004118551, 15.00368065671924, 6.863399295419214, 13.382300544747892, 26.312284055885748, 52.19984590563618, -8.79159080295091, -9.052935385733662, 85.09150072586267, 43.09258262437711, 35.72551825015415, 30.653353099569017, 43.72786942449284, 93.16800413870214, 91.06156490912683, 21.375744773122875, 33.35394178881166, 64.25469192661164, 80.078185142635, 87.84688210884644, -5.620039047241146, 93.60200651426926, 80.98603195943106, 37.077489949341896, 17.98034569000329, -5.997780657901659, 41.55951822023168, 76.27172447962295, 42.5670069534088, 41.08867675067915, 65.15064564599788, -2.9188427910343115, -7.057161592632454, 68.99068117973454, 87.04690400590589, 94.81368094008342, -16.056602155518416, 97.2875533555654, -3.788641114564186, 29.407360139458923, 52.71229142493692, 2.4894713824938464, 93.77318702582501, 72.6131090477504, 59.13351273063846, 95.57178271577365, 61.7745840918152, -14.932577030515755, 71.23924842752373, 44.15061019329434, 42.685113642836974, 3.954199749162399, 88.37383566302285, 38.28954824802399, -1.6968096011914504, 22.867093517530066, -10.933943988996365, 93.38133586042363, 52.19659925592944, 35.55340649348199, 86.8478402490713, -15.806541800396037, 40.46382714187675, 76.89751111736867, 14.679452880483524, 6.4243179116143345, 93.98291709907828, -8.219236364860869, 24.302484299200124, 2.972113714924344, 46.21021497937646, 28.225391428133385, 12.681809133935282, 12.423458153260853, 99.91434671011292, 65.32700565159699, 59.67870275847136, 96.24104590231127, 50.66136326739256, 5.427046330322728, 12.769788228126977, -0.3504580219027851, 92.20360815833412, 38.17259580589477, 63.89109402070066, 11.911494863598307, 82.77643475433993, -0.06709488646803408, 17.696696576203564, 64.6588335404426, -9.595880771477585, -17.477274091382302, 94.80211617160907, 89.62101698087946, 5.747415487043806, 77.5880957326479, 33.87856517432478, 92.21031971234696, 85.6944088763494, 82.85696150043401, 28.723639021027772, 22.43626571265294, 16.472525236987508, 79.28076824299862, 48.98186562690249, 14.211987505494122, -19.98352806059082, 8.232937047849177, -17.92125657458364, 7.784304995927943, 27.513703643103604, 99.35949117395538, 14.910869399565279, 65.85386394470876, 51.43324115914123, -12.374667147356666, 12.457674778633503, 28.699064331590463, 56.04759637451842, 16.881673851063972, 49.23771968817114, 10.436988276776713, 21.779977985536874, 28.733178836624155, -9.924064562410848, -15.291912565869822, 84.44429840774734, -18.316698008633704, 56.74500430293442, 22.826378927097245, 90.11947087753803, 20.875552282474615, 94.94637932335287, 92.05927668923502, 93.6397336817391, 90.34072589395626, 22.96977526955677, 57.69041569306344, 84.2907673097335, 17.974560800091886, 49.42052836579549, 7.141240395761301, -2.616331553063908, 65.73081376430511, 81.22065995792946, 62.91476273750095, 32.94066154296592, 69.52370568152664, 33.13810649261464, 39.10004269033678, 82.82240036991631, 84.6631667526, 6.29903495638175, 48.01352671475718, 65.86915948385942, 66.25160121898439, 61.5830767009996, 45.32689149303202, 83.9970114115004, 35.370286774090786, 56.771563953213644, -14.541242046854194, 4.5138828125353925, 45.93625836691314, 16.461800637981156, -18.78007705195667, 21.658516675509688, 21.123685780582385, -19.42581220211631, 2.006355443776066, 85.26921988498428, 28.689035483057467, 3.6987301831350123, 57.94568453733655, 78.95258252553545, -10.90403974761648, 67.16588628776017, 3.9252881987787838, -2.25936725040064, 66.74009378649409, 56.18198820277733, 78.04171309858472, 63.85775954807909, 13.259565974902657, 28.839418715299033, 98.82369932662247, 86.45221782960579, 68.5685059857133, 69.90121515958842, 9.647229861421927, 91.09360808567533, 48.889493168183904, 92.70287907499619, -15.192947039871587, 69.55420712992307, 65.93931289731673, 24.96707265189721, 86.74903438490088, 13.389019160980489, 12.326650048167728, 23.372394582677245, 35.88277081392185, 86.34705894594184, 96.0690592881226, 79.06771335983431, 68.42934973105902, 31.47803148739885, 5.788194657978998, 54.69147420268409, -16.433285410377238, 52.95713492771469, 45.222903169480574, 95.47401652580771, -4.400627802949732, 80.4931484569431, 80.11610476606505, 20.294412995786658, 60.44724127226851, -9.969195645090586, 85.19630596803769, -19.710604552689635, 9.374651069310293, 96.83711757162875, 78.30202563653678, 49.973480228224545, 27.884891347695188, 46.43247225163145, 66.49388216907582, 71.91057075577436, 93.72132255300741, 60.50451106966079, 26.72589831782986, 25.92773008046315, -5.9471389047194165, 58.21625416083272, 97.83724081398672, -14.609458006421763, 86.04912189372132, 64.4653046498624, 38.74884940232163, 37.553034479283625, 92.38928093544223, 50.80919543620411, 1.760840842138439, 30.230113340824552, 60.008952733814, -14.889750638030064, 9.691930895224772, 19.35703803847897, -2.3936392290484, 60.61809155443815, 84.96817551572278, 36.49502359537507, 36.84054705080434, 73.13789309749379, 61.60078995525035, 34.532898561789885, 86.19866605439714, 36.92160690167896, 66.78821679285144, 72.32719988499599, 67.1718111633403, 80.81704065617552, 76.03211317929593, 34.575534053771705, -17.40420799555131, 67.1213151023353, 25.55473055581939, -14.03513172428637, 40.220510193511615, 43.534331741267, 91.721679827295, -4.027948542568737, 12.583291081078272, 19.48892988272039, 70.28337476539654, 2.407903837536246, 26.96370347981859, 12.847742198242159, 33.33802111765222, 83.50189982228923, 29.276393999368594, 38.57794932435902, 58.140312058250544, 86.54618633896507, 72.4154594948241, 5.882021255483988, 11.106204676168254, 10.639775324783965, 66.01078404321231, 53.19067478673176, 69.70751363824351, 70.34933199256048, 69.12545311570601, -18.145609689232298, -6.432083164887764, 64.10231996832192, 93.799486514597, 60.41640855449188, 20.399249268004034, 62.07788596093515, 60.04856019333842, 67.93741243503614, 82.46402231530526, 7.972538227735097, 62.432167480262166, 34.34632707050594, -19.707890202198154, 21.06060197662694, -1.7238186293208457, 25.855016593941038, 82.39537289264976, -0.6984152587401198, 68.96356709244628, 83.97428071344441, 14.057686883177205, -14.58547802107747, 35.208760638833276, 41.89863319727173, 89.22553922222586, 18.49904855105971, 99.67775158555276, 55.151763238409714, 41.383365947599955, 39.95668144622553, -9.120076766762907, 23.977156930676948, 48.81828747981098, 97.33404047725489, 75.79503163696532, -3.3022899297328614, 85.14836950798141, 55.7515895778933, 19.193816814243675, 56.64181025675259, 88.20723995458923, 72.94326761607253, 35.8634155170091, 21.021662795402356, 70.12720862262687, 24.6582906462032, 34.26235560992763, 25.88447133493613, 86.36894246886932, -3.0081328267380556, 26.324884560158097, -8.70051002576901, 87.58554003713022, -9.77841647309142, 12.637913710394571, 11.136428710853998, 81.66738387669632, 76.43595631494183, 62.28158255447062, 90.18574875964745, 65.41417709490483, 90.46763110077899, 60.50924663017136, 39.301788513515234, -7.5383614261019005, 90.68832301726732, 54.98310236319807, 33.86055782909531, 71.92709999097927, 3.7186070946290606, 74.80041687782621, 13.762260749379195, 86.55222350141459, 18.60904145049838, 79.42699306352334, 76.07117053703527, 2.9610101246286256, 24.61903990507689, 59.3218456329016, 23.184622152204568, 11.088409978473585, 39.36601036923242, 40.818764029996764, 35.79117834325179, 50.92671727102493, 76.81763388262289, 2.124268732568787, 26.214447910782702, 73.51828665058395, -8.64554884312037, 52.80444367602247, 38.02742661660324, 8.42845453720097, -9.36969430412577, 5.2232200412431204, -2.9853889154838065, 40.40725307482273, 31.79917503842372, 95.36120772670242, 35.2683221330011, 65.79805492866615, 60.74252497661847, -11.266567964476506, 45.826180641660216, -7.726068562699616, 23.28983753914526, 30.74206046697161, 5.599151840599465, 12.946257890495325, 43.7772821339625, -18.671034086572213, 84.30858950093723, -18.608959052998944, 24.90598623555548, 2.2752422282107077, 71.28222345483852, 30.1725595984814, 16.187727220989032, 67.85776677096123, 87.27738894431245, 48.013117940413494, 16.235786747207264, 41.311253305413736, 82.63828915505003, 1.9194503847918796, 55.369673093068315, 74.24876809953948, 43.2419667137676, -4.114040924228263, 39.896646223141076, -18.184298169059243, 70.03756691052621, 62.398782958291875, 2.44399149097271, 31.35710974694873, 20.64491890839286, 54.75592167869307, 44.11754397716254, 85.54691995519413, 80.27479913882762, 86.33698196263146, 94.09614444464897, 74.62604061303549, -13.451984407261781, 34.74845443322443, 10.859349011531975, 24.383547113880077, 11.822476017605158, 51.15876593558997, -15.185346965879551, -8.35892568056483, -19.280681264821023, 33.71010443222441, 53.18258942434734, -6.578488772420442, 75.62728887841966, 84.618905306181, 22.29899672048279, 86.85504942977812, 81.56841035958868, -12.716621630823767, 20.156332728152044, 94.87360580328117, 66.30986228363348, 48.9015294127783, 39.359787294957094, 18.445702875330532, 30.940737472028857, -11.332881003162885, 67.07754219951616, 28.629279174082754, 80.94229615352162, 65.22086217736778, -10.134045934621835, 93.1952571931869, -5.792139222418893, 16.57458224543995, 33.58341707125024, 27.5037400008707, 95.26772414741777, 28.118354944259387, 84.7703477554818, -14.79055324545862, -15.747463219197675, 71.89774261071479, 44.83935223069305, 77.01154704317628, 90.13996616348433, 5.150490677466287, 39.71877136147531, 40.76293127675078, 52.168423700906075, 36.70747365388656, 18.37055323858072, 76.71199716606047, -16.342080542435152, -15.456587348919534, 52.816544223462216, 4.598192680530779, 85.7504790967868, 5.6905099348671015, 25.723236807684387, 85.73579687965723, 19.02891985068078, 5.416278109408914, 80.48929585181975, 56.713235515721095, 44.61082346871392, -16.645763086137055, 84.35950479149297, 71.52190241355886, 39.86001841245263, -17.122842650628165, 55.900898306009836, 61.05623194263097, 56.00805630508471, -12.927344109159126, 40.0921277965569, 57.63217540986338, 7.331217031986764, 4.724729717685044, -17.86309895302375, 48.378421116858775, 73.37161725784739, 66.26399905152692, 27.130707252792618, 44.85146005131125, 44.10011211556609, 20.739635151171626, 96.42478724088497, 19.539176407374953, 55.80204664079098, -9.199033639777774, 48.684566752684404, 3.5502306176686744, 42.92285977759429, 30.807284329262956, 1.8915271457989, 16.210985458092203, -16.16756068794714, 52.06462275264438, 81.20346388225073, 13.544104370020769, -14.449999492593335, 32.59926448897457, -15.535521752434448, 79.8540963401902, 44.70186168831772, 15.830554170687257, 30.129113785541925, 56.4136793497978, 11.785358111189353, 60.795349291543985, -8.781752294514447, 51.76764924101232, 30.79649033664208, 7.652660030261199, 53.2514957343937, -5.839526991801179, 48.4555441356795, 56.536450356549054, 79.42403421411154, 35.864384403351515, 77.71057519723163, 39.98171559291616, 48.7553859030879, -5.737134943734006, 88.90450528425556, 3.270212164959876, 71.4491030304947, 86.9670182012666, 6.217878523800543, 72.44338190137472, 24.747997841757922, 27.561384263871183, 35.113214285850795, 70.04432127732748, 99.99738319924515, 9.30407193735984, -1.4016621873507837, 58.588506380086855, 10.929232590544235, 43.114614465147554, 24.952057662181716, -1.395524650745891, 26.36703657397389, -19.246714115526423, 26.90719919181769, 69.32934683948582, 3.636661527056887, 83.81975417805889, 91.99930784092984, 86.72776101205245, 42.48561887771068, 52.950135723096594, -6.362489845713162, 84.63163120736827, 82.68631062639503, 7.687789386889744, 62.10273730276185, 4.0248511798759345, 83.76624662757082, 32.74896577422962, -17.867840540281257, 10.93639011501688, 32.26439568800363, 17.814461156843798, 56.89953220609284, 0.8670548322438663, -10.588095622337391, 93.33603354172554, 70.92722902329183, 11.310128502132017, 38.50492340856659, 45.46540990077287, 34.96810383586431, 94.43499223811705, -14.544129027462368, 68.7417136628203, 78.26282066876901, 34.923977525190296, 13.047309200440068, -11.711767705022886, 98.98902066047366, 99.92098912038641, 48.75559842346223, 41.21359624034546, 28.31865684438207, 64.20551866155343, 26.020311210242262, 49.38313421704903, -13.490368971303536, 60.74960180581559, 18.689945841362388, 71.26794854767172, 78.97559005152297, 65.26408044133976, 11.283352136517916, 63.80467857871588, 64.20437097707544, 90.27651711023147, 33.62506648283557, 47.36737151673856, 85.57310496368936, 19.12418142290889, 80.16061110159661, 32.71871474171219, 4.616013309080419, 73.50036462274993, 64.88022312343027, -8.062576936067636, 94.20686660106145, 40.41470733214225, -17.882302128625085, 75.21195247278017, 66.81473040039337, 63.952489172070244, 79.95611513605425, 14.208802906237914, 98.05042462960836, 82.54993195894005, 89.0760350719778, 51.5316109280014, 84.5317881118217, 9.317767624677636, 54.20857671373686, -0.8235417418734414, 1.1438574494372098, 69.87835403066765, -18.552327115157322, 19.655753064303248, -14.088509077432153, -16.997807963665032, 9.763778351598447, 5.896437882457654, 59.84305177074661, 11.33138827637531, 84.57800138910706, 25.99663570569708, -15.514973955080213, -10.113282855965387, 17.30430188304971, -18.985422100922666, 33.29780402234036, -6.583137697835673, 87.30037106379386, -8.72219815116404, 25.35819786111469, 74.51447157810456, 15.39611526264293, 84.25689760621692, -1.3710208971372921, 76.98974972049896, -3.3869408493607054, 10.728069854675244, -4.779325991632319, 23.20120460298881, 83.06099689481238, -7.671174261113718, 48.84474287471893, 33.907791613852574, 22.26884576268484, 49.98666768590252, 32.01885132303447, 53.19458508964159, -2.3024559475952024, -16.401314533328414, 96.17876286977676, 50.92895187988181, 81.2275468723297, 30.173608895387936, -17.040635598264508, 32.27980122766182, 36.937434404870196, -6.66715019845936, -2.085694649669101, 8.890690783974705, -8.022941251445012, 59.03489360380715, 71.76258994398519, 31.60178966892517, 94.88820079390979, 83.53960792873146, 50.665843890341506, 89.74957968619144, 14.152044204132174, 51.53168163034715, 3.5589086000882766, 35.17294916905398, -16.569942102490337, 76.95434264105904, 3.5350212119003004, 88.29727692003162, 28.28949416813407, 61.72499756153246, 21.33463949036127, 45.982339828080455, -15.733675793408391, 42.916097849517925, 91.88271139872742, -9.974830702378096, 95.54913367459693, 42.70279746279707, 47.85329257761772, 26.972894817486477, 78.20512175768658, 32.01459527413859, 0.644172704431508, 5.9095244473009245, 40.98054751522773, 47.71066995832793, -10.891151085858795, 63.96937390961308, 52.52913526984442, 8.275083071445305, 27.12449679695417, 24.599154342534803, 80.40064482092451, 38.94125948090338, 48.86285720015586, 3.4279649871192106, 34.391529242052485, 37.80630693497196, -19.917174682673327, -5.310867137311547, 89.49322569619615, 51.91763410063405, -16.076408688022962, -2.818590111465266, 67.31396398529213, 62.99998696165399, 35.104623683827, 32.27488483739688, 34.89271157183246, 64.7273469267943, 86.90522559637155, 57.396897499457225, 27.32965142166988, 72.41490411062028, 69.57704321822426, 14.28925959421025, 40.25212568930356, 88.873685454631, 58.56694694447681, -16.35718607306575, -11.726259038442501, 32.37594374375686, 69.259665837648, 90.59602926774716, -13.051813463772595, 42.40549944132794, 56.140447640679966, 81.29777494054511, -6.395775405744359, 64.26081537847847, 74.38783121774665, 67.65814081692139, 58.3627774910759, 39.675885469210876, 81.70560291029507, 76.2967543246597, 24.233056337895597, 74.05594658665437, 72.0312358047607, 75.39903735256839, 56.6571745233484, 16.79740072271214, 57.90201338536478, 73.40188969591037, 29.906585952182475, 42.63781271335585, 16.639906819706667, -9.517252762697336, 99.26875678824706, 70.90707576887279, 3.964613811248295, 62.613408429578044, 86.05280471597688, -10.074699185328022, 47.68167353232178, 33.65119528163782, 47.8305782568344, 8.549879519266412, 93.53919690252502, 94.22333375530965, 47.96196617984353, 24.35558475440876, 15.735695909869648, 32.62234445799373, 93.1794992866292, 70.1096983055096, 39.176413144695616, 73.71003769485093, 19.419264265206245, 98.03447612472291, 87.30192665054219, 96.61889559027708, 36.48227219101529, 34.00704689102448, -19.119075182093894, 79.92449349917028, 65.10121306700738, 85.8440036352168, 92.69854895292993, 52.502049836843014, 85.52122515333066, 48.74245674579015, 41.0331172155444, 75.36736273524517, 2.400520876348253, 60.921885047147924, 45.78987583252186, 23.53420060273084, 8.29629792742649, 67.6094834009053, 23.711950075142106, 77.98341409076305, 23.552266338861962, 23.994202821810255, -7.82942743283153, 72.79388227558454, 23.09101496519449, -2.2656467809325456, 40.16471773990746, 94.2507930043765, 95.51838871054571, 78.37036594954375, -18.115028533080686, 87.91396615444351, 42.681390881226335, 95.41673574327434, 95.85899000538966, 4.488878699480786, 95.74916499757495, 70.65680219823089, 81.53075051237995, 54.73571265165003, 93.94379516827019, 3.0036395336486166, 4.747545129689293, 94.06239653240743, -9.361195369141857, -1.5984204744567343, 96.63491207545646, 45.24827471989673, 84.1371638816824, 80.64333073110434, -2.2183576703310735, 6.873059498676003, 72.20884546090933, -6.165352750304631, 19.716759029720777, 6.893363733635866, 66.67195236191743, 22.385160084604934, 69.55404835668052, -8.678219065300986, 58.26428282328243, 32.30802203004047, 4.188466682344995, 57.51167780024403, 74.59487158355722, 54.4133949101782, 28.270237685101158, 57.49186347726733, -12.849680474399928, -13.85743347219445, 86.06550622151322, 52.932492682567315, -0.07341193963828374, 18.871232253365555, 33.42554902594898, -12.842068077631108, -4.378361926480574, 22.777672671484247, 14.399967814342112, 10.523923681438472, -11.713810288906918, 27.260204128157127, 7.988864471840465, 94.88856563731738, 68.50155457419852, 15.243539585864568, 87.13967236013673, 87.55270662114803, 78.8504002675406, 5.619396696056693, -19.881415923937578, 32.35847467948294, 74.12688828458478, -5.74415403592484, -16.433296567533198, 38.71826761922348, 40.81182774755503, -11.128101556143779, 15.918412750044503, 66.37656965932236, -12.801265613783649, 66.14051424280258, 86.85705973936585, 56.73094915744397, 17.340657929118777, 3.9958055559897154, 87.97501752274594, 74.29051688067658, 36.42888021272617, 26.592121325696297, 78.01449203287325, 81.23422123330803, 4.553990969442353, -17.911282186799564, -5.110338366154789, 48.30452583357557, 1.9049277979531425, 80.08527540791819, 44.40617503028294, 71.84292597131969, -0.7319174500041647, 92.36853493965697, 78.76397496987248, 70.11196214922892, 65.74591115910404, 86.87990537602454, 92.99322614844826, 38.04013767999016, 49.91142083723862, 45.817958472982056, 86.58512021325232, 79.20879224978933, 26.270242743010648, 76.88144172144459, -16.58869512174405, -14.408723421306288, 89.69420322925781, -8.20767638759705, 53.31431393710439, 83.67717369568086, 57.15410980649904, 65.95817782113375, 33.75186443876209, 23.50957753508449, 24.945132709411048, 33.37351252295119, 76.43249806717475, 77.86700611282937, -19.6724687499618, 72.9786385128954, 63.65546575785275, 7.836889808824729, 60.90414748979629, 45.108764740259005, 81.420751517152, 1.002166886462721, 81.48467792280634, 19.846759699856285, 67.95126683511036, -14.34785806191298, 41.805109394355206, 29.207307865272057, 80.25907268980426, 61.11340727080146, -2.2743898698406717, 92.1546542282817, 9.717375849073061, 40.72337112954402, -14.690525768761166, 55.04632393138466, 84.72579816197579, 70.24941290762747, 7.33541220872263, 39.268326299030946, -17.398692970550243, 84.50554487374434, -0.9166679928601695, 42.65974239186826, 75.57698704088266, 35.499006513117266, 43.26912451366486, -3.2669425950615008, 71.25062703484606, 61.43808414958572, 73.02737887493296, 41.03952911399821, 55.01100124358845, 27.28366403124076, -0.9359647214398947, 23.288596946253925, 7.855719373953917, 92.30736996663938, 18.328700416050296, 55.2499138972987, 71.49693450608218, 1.7878716183644912, 54.72901056985111, -17.43601954038366, -16.82047931931756, 47.61987515686968, 30.35568032578616, 26.229754704145115, -15.280767567339794, 4.147714628268119, -14.947188084033618, 31.772399272382486, 56.02577029123452, 11.8464296487763, 37.33726508539068, -6.46835382388784, 67.17629469548163, -13.278984298793173, -7.619759570701866, 39.3789874732361, -15.755293201177171, 99.76183316823656, 25.056710940648628, 15.032380420625316, 71.0322737034621, 92.63238339828413, 17.921497693639445, 19.156356843353336, 20.74769550564922, -19.18923860578516, 69.82419663539675, -11.417298675970908, 62.249585817436554, 9.500105703189696, 95.11147087953877, 70.90074539994609, 68.78717845174471, 68.81002154286332, -16.65098204638541, -18.688863485182075, 5.717126307930087, 0.7468827819776465, 22.23283539361912, 51.68307548961806, 63.06203947754017, 53.669776024996295, -13.352455736413633, 79.98077527357391, 73.90594681284139, 62.815480446622786, 66.70178942556016, 53.26667088035023, -10.143304707956386, 56.49524432043965, 91.39053711426624, 13.88256210316299, 20.871684480541923, 17.99416421492927, 30.04053148825357, 32.07206407585319, -5.6392780171705414, 86.01731559784302, 73.47495109117081, 32.99314363740087, 35.39238294006567, -0.05372553869989716, 62.79713368662587, 30.680072014789424, 40.45439240307954, -15.637108070418169, 73.37038757903574, 71.98054010845665, 44.55336140502875, 41.224301696244865, 60.88486244583949, 65.98288386698509, -12.834758086285575, 98.27000095070457, 66.53844435847884, -4.138814334263463, 53.24387208689083, 68.05049550334373, 75.15638385320652, 37.45953497637562, 36.660436861630615, 47.103763536931055, 51.39478903384192, 85.4040234731029, 11.073677396882793, 67.91178017565763, -9.964708967284546, 29.55869045670905, 59.49204050021237, -1.98355106191649, 81.05682285752742, 73.81851569004363, -15.510916170433426, 12.226534013091609, 88.08737490894552, 52.13916670946702, 18.723581325785915, 35.22663620999821, 6.987385791239653, 66.18289075824745, 67.943474496897, 88.92466774225937, -0.5898164996184505, 27.523336615444364, -10.33291862497891, 41.20260725124875, 89.21112896759679, 59.04258870368079, -16.400032767390464, 94.62292478571074, 34.524059443758134, -15.026876968576799, -4.635209442148845, 49.38113106295292, 92.34785524353714, 38.09203852487907, 64.23636561150491, -0.6592769411804866, 77.75050981645103, 72.09276415533762, 90.07183083674624, 85.73693466194977, 57.36593223433219, 15.703216241049084, 72.52065585241446, 54.87528692669375, 95.13918051914057, 74.35482185633808, 79.77403248954639, 89.48361006782376, -1.471178749700158, 50.88411027793889, 6.766592666041227, -9.526031276252969, -12.608762035981997, 38.00974366506238, -10.71286109060916, 31.957008686411122, 48.05872182893721, 85.69889748086729, 17.92958694080808, 35.90753394201122, 27.845504742283396, 94.50225006824579, 91.50390595107109, 24.447050818504806, 72.46890432692732, 23.322838132981964, 39.3156637894964, 75.08521326859575, 27.742638406607142, -2.8531152746797126, 12.287163424170828, -3.509278066415625, 73.35768605776889, 45.5194490882717, 28.42781112962644, 24.099183742523913, 1.4251889415169714, 10.332026185264134, 46.30701702438793, -4.836192396880378, 49.035368473822956, -5.156531674360746, 77.46602056600216, 28.58423843118753, 29.859245830111497, 6.77554912847792, 44.79317847238568, 95.05420384210002, 66.83550473341269, 25.49441236230181, 94.88330428572131, 99.46551194139047, 95.11819105976006, 74.87422767496878, 6.670076172532475, 17.501143426682646, 29.530171559583216, -16.532693202829094, 75.25502657373858, 6.994324625945694, -2.2652029415226025, -6.539777863806657, 2.0496749520225137, 66.06358953799904, 79.2390814845505, 57.777843043386255, 46.428851479867305, -8.323543398602183, 76.3995951007254, 52.53459990144299, 74.69387103559603, 5.375337877602, 6.132597446717657, -4.705671414940017, 21.19128034658877, 25.011415543670772, 28.86499185668694, 59.98408149229924, 85.54582873587908, 51.90905172976336, 50.85764524545873, 65.6974032699375, -4.8256442099176375, 8.984973006241702, -15.477164276843807, 84.66200463799467, 13.017856195155424, -1.07314433360267, -19.61047271629843, 91.63514045008465, 44.708395527730815, -2.250071287677663, 86.27268825822405, 99.59087445716325, 68.94042726088277, 82.98059379497946, 86.2995153137882, 77.23053203261888, 3.122850911491028, 21.213687177651963, -14.984242194858162, 15.35176438993927, 69.77861863548453, -1.863370256551839, 86.12931868891192, 53.851287489803596, 29.12606206274164, 93.3997176834474, 62.64661555120776, 43.09455669955438, 49.80650198561695, 27.631872394652582, 78.05719576046172, 38.04976262657136, 30.216439895594746, 69.25587952148729, -8.35295421839521, 78.94368725090244, 66.15605641126126, 78.49210014678218, 39.4388908253119, -0.036967717950414425, 32.03725620325368, 24.31741360824929, 56.06541529694155, 16.3641255882698, -19.865343783822553, 75.76235137164495, 20.728545410480265, 74.43175653240856, 80.79039992152241, -15.56487464464003, 22.545819015926078, 90.40614732003863, 81.5195982745534, 82.26595009675789, -0.8447425820239296, 67.15405594904082, 78.15759712068574, 19.356984136147688, 69.48054702977717, 30.954241636600337, 33.89987380204876, -3.977517488486942, 63.38165324904885, 11.975866476082633, 9.490348947180621, -16.725723742359236, 26.001479371944114, 8.679663086139549, 42.29222914500064, 51.78364967225599, 74.12133605246169, -17.136263844039853, 42.966652296412306, 90.04310893476594, 67.08418262007275, 42.053470054179456, 99.80923577643895, 48.03071125496891, -16.89143613613424, 60.740018941061905, 62.75951664344433, 24.406706127095518, 55.17986810936506, 88.86086557485572, 46.543954919924175, 11.373101299023944, 67.88857908515259, 47.76304115363864, 35.76785793376068, 67.69496761477356, 84.91055260882291, 18.529684689344663, 67.7328697640207, 24.013292007442473, -9.51268103717898, 18.47802888519209, 56.30471720191227, 88.99552287918179, 93.40824112992075, 34.84873732053254, 26.912376589368982, 52.15107755288312, 52.025113912069486, 60.3919392213117, -5.706350761673441, 38.12080850425521, 70.27087094750779, 6.423906874735373, 50.725853987603244, -12.429725621368739, 91.73219732460015, 22.194329586777833, 68.49655634620137, 89.52954165579871, 49.89198496513629, 76.99143902899496, 54.043595004160665, 72.78301493636457, 23.82781833000427, 61.86804091006084, 21.261016901434274, -3.7557900396257438, 38.79382492275524, 61.975659003652765, 92.70506313618989, 70.59678862943436, -13.565210489891406, 10.161838896256981, 57.423418010047655, 13.004255632353647, 83.30337744726486, 93.36595105789354, 88.87492925436854, 90.34144655349364, 21.694001765674585, 27.5874698914825, 40.227111091065, 28.374176017835772, 50.27626318297757, 17.93066977935849, 9.550953904926377, 88.29320683182179, -6.779926976014226, 19.398381325727506, 75.18890237813463, -7.096763062132702, 19.56688308464024, 11.062452063980292, 94.27004059101269, 79.17251858225832, 51.07313588395384, 92.45427735296774, 20.22481479302114, 9.375455954066073, 0.844790808733066, 74.47606013142803, 16.55103670327353, 70.02886131509662, 81.57799690604627, 0.012353588740360522, 23.785864262430216, 60.49724223254668, -14.609100003720332, 85.81478177482725, 58.84503435354412, 27.40037959835643, 75.63107210972288, -19.079723015458253, 12.528767232506567, 18.97180349893509, 76.94919715858349, 96.19705251999355, 24.902209937354897, 86.09729874864718, 19.95503962358348, -6.286468111309826, 41.19614534569074, -4.174293978969658, 42.12577175837433, 91.92993753436855, 73.44542636152956, 31.446188236417754, 43.41677796192799, 59.55527230890297, 24.953882118099017, 45.60586367440929, -6.73572259899904, 77.33914211909733, 38.873600770069146, 68.7780073047497, 57.241620548143885, -7.260574323560153, 73.8878794620089, 92.55308039018644, 36.35564436142925, 82.84307303491225, 56.608852250303414, 27.763751692629135, 66.61620347917409, 93.51106129567476, 14.187434263251347, 26.00961985546497, 97.64207315158932, 10.66927778794193, 40.49862175327044, 83.84191792500064, 24.368290269282305, -13.633057337976329, -9.917639192536178, 20.293270018672906, -3.052849152027907, -14.221690408978777, 92.36769506061042, 34.20236137079349, 64.51310542104383, 49.630724613407565, 48.05328286260237, 66.67175497939974, 53.89205806551706, 80.21549022189247, 30.708721417776943, 74.64784098598108, -8.713252797926256, 43.22414644279158, -10.417404883520188, 46.218301766976026, 11.655974263332993, -17.948494228305762, 38.69416832058008, 65.0878864779347, 61.33421751054095, 19.24719796302228, -2.7852584742637916, 41.13233983726101, 41.01896402519228, -7.909411704752749, 41.698637461888104, -9.508901128872544, 83.33612278773842, 84.5132448261079, 79.84397997922116, 58.05963677379816, 94.35881714893799, 18.488481327240493, 16.256358528829587, 27.2911563873432, 59.675500587406106, 60.27799887075024, 74.1013497921328, -6.626968805135602, -9.716278635223162, -3.894554852248003, 16.825538514704867, 62.38576270330404, -2.693699878510021, 81.4375891180106, -12.44045698526044, 45.79131103789665, -10.075633487002648, 94.23212490374473, 40.33631032414851, -12.603630510532087, 54.41257221556414, 62.40051989442435, 39.580080137151164, 41.38875884070673, 3.553897712590075, 51.477381256878246, 5.292149568972047, 35.20546690611701, 36.20286858499158, 96.57024673580007, 63.855453525799334, 30.956213720211593, 83.8812109538442, -2.513055350893776, 69.61524804143751, 28.6428719435105, 97.21090974725227, 52.56509884313961, 70.27565349700083, -10.06392118457985, 61.597715313297044, 79.81839732657082, 47.866038496377755, 78.76857365329346, 26.240332469751955, 43.30840714486354, 66.8568006618457, 50.45721670155028, 2.1533288515506364, -7.314289898772653, 80.95451553291765, -16.074071850664904, 93.76602288891479, 21.248473867478005, 67.20388936499145, 37.57658401596259, 17.462399315442077, 30.867050644138814, 54.73349450673814, 83.4972179528433, -2.027648725119544, 46.15951190803604, 26.58134826863543, 94.71504492642067, 84.99061831767875, 38.7121418194014, 56.745915427179725, -4.040324136605861, 5.54099130607613, -4.9228781270013755, 35.350508222276694, 5.436014127254481, 44.9127724184839, -16.907318749240083, 29.866047963332036, 90.47279659737008, 50.87553201640216, 65.88749428018826, 71.24976282385255, 98.43732720445927, -9.3932803182676, 47.5931198904961, 85.26068874091663, 98.01999646350536, 90.16980304230152, 68.92319889636703, 64.23459218989625, 95.15998147155355, 60.089957976554984, 18.564369732791278, 0.019620848496305854, -10.785871316217426, 19.868664719109574, 6.422820037649657, 34.388078641328974, -18.89988782500651, 58.13919776662219, 46.7000679870019, 79.48008872286715, 68.85922181378918, -2.0009483470349387, -2.232701514392428, 82.04596302627107, 19.427083764963122, -13.343060896591922, 85.4178523821809, 46.58450355743118, 59.34485142154976, 95.64926337007385, -4.5510753542964455, 95.84430428433453, 34.11492911741817, -11.977253529222613, 38.94204841922336, -14.988387964302397, 48.330517744210596, -0.8768756221972183, 21.235563479510063, 49.2912512304361, 61.28373691671031, 65.54476847580413, -2.398873427467038, 58.33396343284464, 94.90964023510634, 64.8217988730277, 17.788573033360677, 40.669289443915474, 69.97097520233417, 85.14439706018662, 73.44932125664732, 92.81574807915587, -19.614024804852306, 69.39074399150917, -1.2874998569676457, 13.121490360815109, 77.96277370277751, 65.70414755046133, 58.65785470025125, 45.06404994900231, 11.599748844491899, 26.192564252490428, 56.99612223938381, 3.067274940305772, 65.95402037660322, 2.94564808093574, 5.67140783190834, 0.7840649509143951, 72.1541225806525, 71.5952190607845, 35.399133786184684, 25.851819581464824, 50.842841871979104, 85.31017371076553, 39.28109742351437, -9.493029321720364, 86.44601849926447, 94.807910197205, -3.189594312094556, 98.57662061516243, 69.18595934413027, 23.17427371264455, 2.0626412622036128, 11.051870757876522, 73.59555253767014, 68.4204349940683, 4.981622020598202, 92.9277593547411, 22.14779170186589, 33.50199681526436, 73.05437895496173, 0.11476588095722207, 14.17643828389518, -14.21921162616842, -7.538789826638466, 65.27175483432929, 72.5478882581225, 85.03985393135832, -18.187372239465525, 39.535114341250285, 45.70126245453386, 96.0801243385535, 87.93633970827828, -11.587094380397073, -4.067148285224489, -12.000699039176519, 85.13753419121814, 8.475945793272555, 9.373071818798742, -6.1255023755629665, 32.67828303489686, -4.028865707642307, 75.75303503928522, 0.46582360043185744, 71.47525354584282, -10.566389176588968, 52.03717695408389, 86.84453521942949, 87.76186473055591, 0.10405877210657977, 27.403334050695314, 6.414588001620697, 73.0478289755162, 95.34217609960989, 10.703888119703894, 43.42692065388941, -9.607529055579604, 90.3708881845787, -3.535402527738974, 76.78667483105404, 8.297352681725766, 47.68641172256186, -9.316786626187273, 5.202927715836001, 47.77669233726522, 78.5426347876473, -19.205171568621296, 96.54510285850836, 35.97473424125774, 16.655858873907412, 58.06517327354088, 73.38530386876378, 63.54902172971035, 82.84463011725339, 50.0600442575045, 46.852657118183615, 51.7621086456536, -14.725807321005036, 60.02940002951226, 34.48397496891553, 69.92393001995444, 79.37739845380023, 58.136191836350235, 17.141256043932287, 43.83847922105034, 65.45555379289299, 34.88251896745989, -7.420216935407517, -7.7637541829374435, -13.93393210563663, -3.5617049801120544, -9.270334199537174, 26.78042430124674, 57.71705876021558, 94.45571106745027, 43.332680260503736, 54.609111105192866, 81.85506785535135, 94.55055103183805, 35.499848204793814, 66.60030747789772, 90.72005705064385, 29.850792596941304, 15.58396253650212, 68.89019132085647, 75.51136638709485, 38.0071030707163, 26.129222180162486, 52.78585817242708, 6.28038253358314, 40.26258481695899, 25.220789106764386, -16.612754069587172, 81.44405825656797, -7.9292095464193935, 31.491353980766533, 29.78998004161759, 50.51211259282432, 60.96542880063801, 50.82882268160745, 37.217666419223264, 32.71107487619996, 32.957172380513555, 57.70208172895845, 81.25435972752013, 76.58041843490372, -3.862881467282129, 25.56316107991851, 27.173737098822755, 41.08162232298077, 55.08215990988627, 44.08110427077756, 60.117514376260374, 82.06788131599268, 33.78923840360087, 35.43354162459567, 0.586136681506165, 71.93877286270622, 10.196523625732393, 50.763892075123465, -6.313501564679132, 3.2924034006958394, 63.25226128932519, 85.19569464331087, -10.666423056796571, 25.3513918509137, 42.0308006208677, 21.48140771471533, 57.070636527975964, 92.46204927414179, 11.741742169053001, 52.97811419294506, 27.85816974291707, 47.337117982993306, 77.9334567845534, 50.360747124735695, 87.18935166539191, 22.239752036788005, 82.72590970277132, 23.889748308979698, 25.165627845247784, 99.35725494829265, 99.06668846021667, 95.23593881397117, 86.96632092869449, 14.293104150168425, 22.464873834865692, 81.27438240864831, 72.52221124189728, 65.64522472335426, 45.981878888243614, 60.40573651630031, -0.8709602812712873, 93.82376714974039, 60.8707953663904, 13.663491710170554, 80.21086893204102, 88.42585301052584, 74.53176431115158, 32.55691234402936, -11.374705182377669, 75.38297304249537, -19.69119863040358, 99.16174581911442, 45.79181880178345, 79.06562063261265, 16.48801361948324, -0.17855179493147944, 58.35579923435034, 80.50721578029372, 12.03432421482082, 3.737547506182569, 33.49628602029072, 59.11503865470303, -6.139855461075857, 64.39680992279277, 53.91453387685229, 57.93962688901482, 37.30252060146273, 25.160693586204815, 68.82764762755887, 88.33508354112071, 81.889293808601, 65.65459235333729, -5.395080320522997, 71.18579133715612, 59.128292967008704, 90.59065115149667, 10.87970222444092, -11.375779672133453, 5.951213928395237, -15.551704566771022, -0.832702381260745, 17.642459255745287, 68.21033510569197, 32.906234825942484, 72.96840270726005, -7.522133982710768, 20.026960074266462, 63.692205453280195, 53.547458728357995, -16.018032410917854, -5.486018707929059, 10.732859543863938, 47.12562064357084, 88.47991435099947, 7.2039392410855, 22.54178015959061, 72.81344191965755, 13.80748452592045, 22.75553211550475, 12.165969647418862, 43.1536512410528, 54.70489414807517, 51.815315707778325, 35.696898558749176, 96.02142642891211, 5.674567091583622, 47.62566651131608, 12.574185919482915, -3.6136007482910593, -1.062010345088595, 95.78191108469582, 21.725541414710833, -12.341665169792444, 38.19113293928544, 85.82020789900359, 95.3298584532151, 39.585800884354796, 29.519010081279426, 79.33772553998772, 17.49008337681451, -19.830086943469574, 34.54304851010866, -9.268551354255381, 5.134432968504733, 76.03461722838564, 48.27662120455551, 0.40307503966934277, 5.962640377888523, 20.35042728311928, 42.772219298148364, 67.86061062671513, -0.8712904622939845, 4.782064974385168, 4.858246709007069, 82.63262818537966, 33.09556881734161, 68.29311673101712, 37.909809699552575, 33.21269480201372, 46.51979447405189, 15.295435615907152, 52.43783490322234, 96.33137379106893, -0.08533002411341073, -9.160944691448902, 69.11503230866012, 21.574384968501704, -2.5203839668439656, 54.905455819482825, -18.625060487823283, 54.06199194245302, 47.38519122493487, 86.66969847362569, 28.932062604204972, 90.16895991433194, 70.69480561796294, 7.412580949703667, 9.119064986650564, 0.2294145370577496, 63.45024976904598, 67.99288553852843, 62.12265591998526, 38.39411877680249, 35.20573188085655, 93.90427824413631, 47.415232603205425, -13.09033203780572, -7.114175859437859, -12.885544742001699, 15.594811408731019, 98.21349685134737, -6.123366685149406, 27.968097770971006, -1.3180422516464816, 28.006490313498603, 57.53361394304852, 87.32065497693011, 25.403047756040806, 70.01746076727316, 6.058812872295441, 80.00776381388687, 25.687623546411487, 30.413958959402393, 44.57169370708236, 99.35213426772587, 82.03019890696082, 1.0509906488834204, 7.803588296945701, 3.487287189768171, 69.20080761205597, -13.12046858658773, 87.6949137748056, 35.20659734554576, 95.19353164455627, 4.447815792702251, 41.01866538811475, 91.22927370898199, 48.899939136386436, 98.29196857251188, 77.07678779843003, 6.472536817578817, 36.7033100879928, 68.65146542671715, 85.18021558361542, 7.005490468827048, 67.85693988511062, 9.241862721728506, 19.962528393335774, 81.79402783703739, 61.33853450197253, 25.74249779325519, 19.158969334956467, 92.84962839531056, 77.27170451349464, 38.38521227128488, 63.92412370625931, 42.271613115747556, 84.71371778430813, 50.45076414340441, 59.32601698359579, 66.8507174984965, 44.595678403016905, 62.93298951685453, 73.62810400001193, 37.85743805094239, 98.80750320599785, 52.40185191543276, 42.96450135820544, 92.55553505153308, -15.845370512700491, 20.09005849882756, 77.97571023700452, 45.822428354994415, 85.52124542549979, 21.854956306146967, 20.595629117915017, 84.90554524719549, 84.62369064742404, 33.39785001145057, 97.00627935761138, 62.3776648533202, 90.91637421101765, 58.22439590957646, 11.413217534622142, -9.593632408137346, 81.67370130867558, -16.125774159612902, 16.682266116915144, 77.76222900702957, 62.19870368605561, 33.01986956218137, 6.569539243151876, 44.37576175223977, 15.840311402620515, -2.9854391736096133, 69.90287075571575, 26.80482361428612, -11.864446820200829, 57.26345284269806, 50.799652564530604, 91.58645022318778, 5.011604614561598, -1.6693331044076167, -15.928221918200943, 82.0631114229366, 13.599748197012104, 84.4805003192517, -16.49776854924597, -14.883929346092879, 89.93296231914616, 65.3420552441179, 12.86288514054084, 13.474709474343328, 23.689170423891085, 80.93558550062673, 24.566569339239265, 13.475239662532964, 99.5398590810838, 17.07235808661723, 19.35858586575786, 36.55445093222995, 82.9587474743078, -2.5560518655091187, 7.842449915168707, 74.74048125405331, 74.23712437732928, 46.358734636568315, 89.67326186087158, 68.92365453427513, 77.59224493113184, -2.317902578337506, 42.57745104614091, 2.6869373983354663, 52.6838253022552, 65.73965967247324, 44.132533840729195, 6.4014946685423055, 89.17973240292024, 56.64323648209913, 23.397145271804476, 42.07857022493243, -0.903021407885241, 69.28672587304543, 34.49742386461551, 18.28545491403655, 2.9531699025509326, 86.89553521196521, -18.145678599918362, 15.327531422577323, 19.3745051420891, -18.469120509524842, 63.31181456655966, 57.66704431832687, 2.1561031819110674, 80.29669483197674, 27.10021648411677, 24.752230272631778, 3.058983873363065, 5.888890404949265, 41.02040243522134, -11.036096505001725, -7.748593994869202, 58.1434712800947, 90.84835908785152, 30.558869662321996, 23.336378317689174, 63.24897731059977, 1.9884589144799918, 5.532373224100343, -3.196215637205718, 55.82767352934529, 24.750100002304023, 67.02114710974556, 28.712013171118336, 88.50173629696393, 61.81429221222491, 94.94109221757597, 78.20994374465074, 42.61388063134129, 29.345327757485336, 6.54949687285233, 16.787222774023725, 20.88242005079892, 0.9545125846040925, 32.6534313720479, 95.16731369769899, -17.43145657036482, -10.832815515317712, 12.088598428464522, -2.235815382587546, 7.782275051989576, 0.82175922891658, 15.482599816996071, 75.54689232069892, -1.5444040767787897, 12.79505937400043, 11.666920202992955, 64.99283521475292, 0.6297045975605755, 62.9921672949574, 17.989096554602654, 48.50848368928568, 22.769809302704118, 24.264045133002526, 81.63763407007524, 17.73743314071004, -17.10983194690064, 13.66396670838553, 25.242042938282566, 42.66334899903991, 37.49890335757469, 1.9483810606487104, -1.9154389011110027, 86.92302427984185, -5.9602956556453925, 29.859098437210378, 13.37101897549016, 38.01433405700466, -4.275162612045197, 92.91771367297726, 60.11311568149368, 0.1705915497335333, 12.581014313513975, 34.38639866754641, 48.03358932830196, 10.932589705553578, -3.67004237919803, 40.06024700516198, 85.03370406917061, 57.46829498434458, 71.0357811292481, 49.235747660636065, 98.23633120977169, 59.20997886916554, 15.049467616594882, -14.599931391599327, -10.71386705762357, 33.88287426907043, 40.60531845920159, 78.81300371523119, 91.41036832877744, 9.563681129448977, 65.76412283353062, 6.2681443096396094, 73.35835334570679, 43.81310396377054, 4.133251544485589, 83.40047193934585, 34.38490824575249, -10.538631599004514, 44.32449058952011, -15.952279720607564, 65.51571446458395, 43.17527489819453, 92.37333532210599, 96.45233187158536, 41.47576430408107, 53.75388493196003, 66.74231782302881, 36.38811371643578, 45.0559434996853, 29.47730748012747, 48.965273529315056, -0.11646460612200826, 15.714600366247886, 5.349994697660158, -13.423371763208468, 70.27972946502946, 46.40730320806212, 95.00802494774715, 63.13586820535545, 33.26449884043603, 44.55155646933741, 35.23553913921915, 79.51831060337892, 22.750851828905184, 63.6222812906924, -5.205208971192867, -15.825624847788337, 59.167321055348594, 49.35552501045936, -18.34750879835986, 26.048376580946112, 82.51764092509563, 89.22841683643352, 81.02225232272457, 6.341191982334465, -5.849216788006313, 96.1205615836345, 23.781270413999735, 44.66107243241606, 18.675408258324133, 8.074758543442403, 84.56001463840988, -0.19277741257697656, 94.69701003061728, 76.94953590694811, 3.105521092453074, -7.39989601573984, 56.27166793381751, 56.522026885734334, 99.39787252408185, 80.8090110757646, 82.63755712359455, 10.914394491462463, 60.98896765244312, 60.28215224613196, 50.69206637314453, 82.41049772318921, 65.00803012146338, -18.24951236316448, 39.18639600248083, 42.87874484305397, -9.580465229183845, 18.680505190173697, 66.77842334265611, 7.816294378682098, 1.6856742873740345, 98.80349456868191, 40.043699885648266, 25.242901952828596, 77.06188306367567, -0.6740653724072843, 51.203425408472526, 86.01822745721815, 74.80371780844833, 85.75493729587171, 92.74449078922514, -19.0467150300112, -15.16793479524527, -5.227620187167403, -1.5458126783336539, -15.23942951485704, 8.387805986560252, 55.76650488395693, -3.40678455744019, 73.75873565178097, 93.17078652209167, 52.1832856923471, 57.928578656326806, 3.8278902998731503, -4.76398918452527, 98.41763675032823, 37.264318926814674, 24.431600737313723, 35.033831553886984, 63.286836450788854, 75.42756435639453, 24.21400702388928, 47.6470709741605, 27.72303482783287, 71.82400980141182, 33.67588506863208, 74.61167310973647, -6.488016961058353, 47.63319449843539, 90.03790102892958, 67.48945753312948, 4.0452635165281166, 78.03760585149477, 57.989808810675825, -12.484239444189544, 84.42488987643965, 55.61705038481813, 64.02298260362568, 47.77417395055757, 69.15808588416292, -7.9077112767179045, -14.004180493315022, 11.455934299301532, -17.581544949533317, 96.44649193445566, 49.26532375261806, 28.97965644768955, -0.49794070760489006, -9.667864196374808, 81.77842532202767, 80.0370817192849, 20.14721061057027, -3.4099481608445785, 11.99483984240051, 80.79393485369766, 69.56419169144961, 11.77342952069429, 53.4742346691402, 52.79858989450885, 58.192441539440125, 44.53185882829078, 92.79583861066148, -16.1963980068969, 78.28760549476414, 58.751072498588755, 7.355095273605052, 26.96543598314114, -7.871262207761593, 52.91900162837571, -9.711301002920889, -3.510951711863015, 48.31701418091964, 2.0847545830623986, 1.4887942558557015, 64.25833371731036, 29.456868113186204, 9.57227722315833, 98.98384473980668, 55.21076961050946, 80.35518017063535, -13.006890596269368, -12.127896240895971, 86.35414482644799, 19.490371924191997, 62.756230868717594, 10.637707663164338, 68.45067118284742, -8.528341306736952, 69.67414679756914, 56.10810240278836, 93.0885645268305, 36.05432982426982, -5.999085769163187, 49.61204381159246, 2.125564560138713, -9.707618866304104, 38.08490986514919, 22.75275304846278, 97.53809941974754, -14.511581279208418, 38.92597619715522, -2.940574474662334, 92.1654266935413, 58.18263708328405, 91.33387431120343, -15.194345595498948, 11.58189311923131, -1.5586551786877223, 96.79273863520791, 9.70117300014866, 96.75375930152475, 45.53115334328396, 28.56993064050164, 10.489683223032927, 81.09933867092943, 52.26970943018095, 86.61608871191041, 40.85099704244667, 13.919131164849674, 90.57600184868502, 16.385326398871847, -3.5360397031746693, 90.71026746114502, 64.97320268352829, 23.671306349693182, 35.734228244369476, 85.30905798991284, 1.8607678739568492, 63.294211406733766, 63.34171796593267, -3.686965329094498, 27.05930814833191, 27.750971465043506, 54.408696722664956, 9.639887399217635, 61.104571491691274, 36.67905404634846, 13.624200589887117, 39.77093685616888, 63.88800951159391, 15.035703925261025, -14.560676680476718, 95.66066929771112, -2.270283567584247, 65.78665761801689, 73.07038949267229, 24.40910822313787, 53.505571928767466, -13.860608442749234, 20.172997400347754, 99.46389639057354, -5.505730953533131, 59.87748547643605, 57.983299104683525, 34.921397551240375, 1.5854797671926946, 87.72517143884626, 13.289116634870446, -1.43849368572981, 78.66319748768196, 97.45439931033646, 92.6536848942504, 68.62620752177601, 35.13337574192991, 67.54651111989986, 35.80247454854905, 47.694260488791656, 47.07939063051889, -14.976526579769835, 26.862995082590416, 87.08793162142237, 18.047668299713344, 74.55751199633947, 96.63533108685068, 52.338542097594924, 85.34107520532407, 73.25785530152503, 40.5506330221312, 45.60467927392298, 37.31415175566053, 36.78445406256459, 49.295275221627804, 51.958620729005304, 60.81138328615843, 7.91234297399987, 43.84457855029747, 40.41756579671942, 72.85479327538768, 68.85533606138691, 30.64677803728783, 15.143404640848615, -0.9941584848603178, 63.74982974513139, 47.59557576938167, 77.38935806222749, -9.586125348523456, 14.40494856396505, 53.3141173548931, 94.11849848141989, 24.45122798037098, 28.889716996212407, 10.205260335586793, 98.47907854660174, 16.570828979589166, 19.627688986394446, 64.63318528489437, 74.94862836308053, 36.91340970255287, 13.696823070218322, 77.22598350182011, 77.01469979426264, 75.67967633518745, 24.443563370949796, 89.46545395430769, 32.00030154627987, 81.57046210505504, 86.40605084302717, -9.639912132963495, -19.301783718381596, 76.7097140664472, 4.6206982319774035, -1.640663572683799, 79.08293706807554, 66.7271888967023, 71.5352572892328, 82.11059967941293, -0.7573909327873238, 53.880311345503856, 63.93234808638651, 96.03323045103609, 48.86024996312709, 26.339815401836283, 61.80781503275297, 27.20605952004425, -11.661589608627875, -13.99191697496704, 72.92923171210197, 37.988804605115845, 37.751876141387534, -5.659863225724795, 43.89884405016653, 61.69414249039903, 32.58390521059047, -12.551097996283076, 4.224008969619817, 32.95308080538049, 0.5774497448434524, 60.50427366518065, -8.521736923298615, -7.54349079328807, 1.9279722831101331, 32.210922153830715, 89.93767446429845, 23.130529276925856, 42.23865817493484, 1.090899648945669, 89.56198916566716, 57.112595143864425, 13.900684316702595, -13.373197685942472, 69.05561956456098, 96.70725054744042, 29.897851048505984, -3.6237921880948, 25.17461817758229, 83.14356808188208, 21.90211524714502, 77.41259392270065, 19.168283723409573, 66.51630505221169, 90.25547272149856, -7.52921667357076, 44.59175021908244, 92.7669279508103, 56.789626167560826, -16.751639336078338, 80.89117124587855, 15.086310632196792, 26.4515404887237, 26.224377814134364, -9.3684280794932, 82.95754165284885, 82.74542069405192, 28.569661829515482, 58.65097866577747, 98.08584058920792, 63.681535842457095, 21.679130630942126, 64.015438515035, 22.20413956096968, 85.67893501280885, 27.508945573810564, 2.7310643645261443, -19.984870888410363, -17.83518111711207, 86.46677557726314, 25.716641256047666, 1.3995663531695044, 82.63854055644359, 6.277662057005156, 16.22992490259775, 92.63950528323625, 19.180823630701774, -9.2490063306278, 62.853521712813645, 36.43909464878581, 74.15166493350809, 5.8973186526142065, 0.45197076277359827, 0.8805189553111177, 60.38887551202055, 53.85560976882685, 86.58821277919607, 52.61606579512676, 5.667548965710907, 89.15810159536984, 92.72989282057947, 85.7393156545567, -2.6944902706385143, 27.877283979950754, 36.37600869041675, 91.65391316760962, 67.5834905963612, 6.86706776495344, 45.35174106204255, 88.50649562703335, 69.15910029299295, 79.3024821249789, 64.1142885515556, -17.993255596740706, 0.043122427875527336, 72.97405075341983, 20.195540219523302, -6.036710927831383, 84.93052127362945, 65.81850042855336, -8.144998510501523, 51.25594366507043, 18.57937316222096, 32.35670973231548, 21.960079804081175, 74.2445171146755, 22.10958234818156, 99.12422507154764, 42.04808697052349, 98.73478608633059, 23.760252816485192, 63.73471575704926, 9.87637999975922, 2.8349160482422775, 78.07841709738207, 97.24310478344123, 69.21724995137505, 25.713209161032957, 71.04865098198114, 43.164596750213214, 1.5237414087852272, 13.787438039732919, 2.234728253492232, 13.318272788417318, 3.3141278770139166, 53.83370111815793, 24.717649405070063, -7.451773495252105, 9.058489417949993, 8.425805480248414, 46.171964209173794, 83.12352878283711, 27.707195971129778, 44.66373405476969, 49.42482162260194, 21.77667036452415, 76.84784108198352, 89.68378700942057, 15.380814141775964, -8.210937949015701, 2.918564048666127, 88.82366277703774, 96.07623340807939, -16.48981225046379, 82.50816027734633, 83.51328513507224, 32.38765289069845, 60.22554507025414, -18.24061762434333, 8.81124750863475, 80.97745908603471, 41.05179395660074, 75.17331211948499, 74.49299797878358, 24.526203365026255, 12.700529411019296, 9.965938894187634, 1.4209472776773389, 89.76901493643285, 69.81296251116629, -4.873289804583351, 69.69048426484763, 82.6681899812321, 46.49870947651641, 74.03785418113782, 66.71006687694043, -3.0352968609168727, 92.7875183123621, 69.92896551412389, 64.23384704700122, 16.242954210682996, -18.38115549512592, 99.49006769879281, 20.136564479074977, 1.112930024263889, 94.35969243429484, 22.596267298519436, 95.24927910186959, 52.430259225363756, 48.14153875927977, 91.24713037401706, 39.875763733573926, 76.6525636456675, 69.30725370414642, 74.3502446707197, 90.17686319990293, 38.02682650304702, -8.052106533533818, 50.506624431051875, 63.84057226592367, 72.40116839937566, 12.2598100918419, 8.886288557828316, -6.500599950064995, 81.03201277474147, 38.22794904227818, 54.769178155979105, 80.04603949167253, 99.04172085628585, 19.569615308928213, 72.97060658032615, 11.57204020566304, 37.503191777797966, 91.87471563976646, 16.825523870726855, 10.730223503795312, 87.69633682622188, 16.342557340235544, 70.16870249275597, 98.0769674875594, 76.59250637724651, 91.15843715261154, 72.80459396545076, 94.87330988394588, 38.79544045623273, 95.99513820341804, -3.9361269231461904, 40.7089200087445, 79.82807073342605, 4.105322154715452, 61.827742084315716, 57.17772650646519, 37.75443906218921, -17.113109650682045, 71.60958836413843, 29.73636632599539, -2.781269552230267, 16.028364559542716, 80.41182154587455, 90.1170434275253, -5.860225240690937, 59.202095033421315, 17.69592704618813, 51.259870600415965, 98.00037822574046, 80.01633899751663, 35.08706116947667, 47.32665328234947, 77.68904798196624, 58.56239569977717, -3.837629444056372, 50.589490937278214, 35.48507985072006, -3.5082204196910247, 94.50556789462377, 57.10690268286271, 73.16584070108682, 0.3259102248514587, -12.761628487738829, 49.287207465104274, 59.42813597373342, -17.072957458875425, 39.58684205794859, -15.456816066651102, -16.130860088521377, 68.31753356654764, 30.468076570059424, 90.68139736107727, 26.439848836306595, 15.653229401454553, -7.718544199084004, 91.5021065963776, 17.12509000141911, 2.5930292391997796, 82.0913114453341, -12.943545673290696, 29.327276901093157, 10.991326115858456, 66.4480835974007, 68.61376743805221, 34.85777249538855, 45.18247589986103, 7.357510520416291, 95.00576753805292, -0.7045400671072422, 27.046018930405083, 88.02224131090341, 92.04814532575016, 49.324340766055045, 84.451590759934, -12.696812796953427, 68.86134642620219, 71.57132616283407, 56.88191603536093, 75.36851698502993, -7.494236740494573, 52.378504327884656, 97.46165188084083, 1.4407666280663598, -8.44810270583463, -5.792982419704487, -9.342807294255152, 98.91389412992272, 69.571190622534, 0.7235942785114311, 76.7741952540517, 86.21750366071672, 87.67340541619745, 5.639488371690934, 40.75707644754892, 98.69949715711371, -12.615642566490198, 43.79743809519603, 18.17598037812435, -12.675529689590004, 58.22468731797001, 81.32390343600268, -16.688156657753733, -1.4768162438217232, 23.04006840690132, 32.522531057676815, 7.212209823458117, 59.40526956484503, 11.826389298368156, -12.05521443185598, 16.2668164484203, 35.87150662392201, 28.649263360394414, 23.520286164979993, 8.178966804908079, -11.309470292537679, -0.38025671932743776, 44.868256630733754, 26.03735390254017, 57.91054800172758, 1.3445305939760566, 19.366456326877838, 22.545069754468436, 23.268952490173177, 94.72189477459332, 42.61175713722754, 15.859302544243874, 17.613168520716762, 7.370282636730071, 35.59042349411029, 4.348591286487661, 12.601197485673666, 10.145615059920825, -17.30183787373555, 99.26290571112963, 28.762277565859918, -3.5954611285172113, 82.90891203052719, 8.517143026546137, 38.55591619923274, 82.07223189839124, 26.456604411232632, 55.97582897087986, 79.66133020932106, 19.8233804425969, 9.416468749168985, 47.173806451215626, 63.32390056402036, 21.780943931917434, 46.73269908699049, 31.88235002577654, 95.18512720159846, 99.3930776903009, 91.06886360911831, 26.626140697805667, 83.38045967724092, 12.600311963115132, 69.57303469921092, 79.27325342504196, 10.6564487136947, 23.966372937786616, 13.059351914485276, 69.62093785865781, 11.451349158977962, 61.75064072200334, 94.89002486219358, 58.53891503105706, 23.76619394461717, 38.56443308929785, 39.61889377645289, 18.425541228356394, 18.47280018743197, 43.38219488073189, -11.437290662687069, -4.906508177842284, -14.783215613433555, 93.17104158473819, 95.35527114530531, 29.949834474687094, -12.443820689801278, 43.94685426291437, 88.82880482691714, 22.02380142632086, -11.723696871493189, 19.87397990834569, -10.74039954944932, 33.94948776089645, 7.476371001958007, 29.217854033471667, 93.50367966185321, 20.06735800622944, 87.3201369215668, 75.52304845451577, 56.79225243925512, 55.604012472608886, 56.42016717891764, -1.196726266576018, 88.59092286987146, 98.14828199524423, 33.6007056246312, 10.90272486869786, 24.75896392013815, 26.94574463087033, -13.21083904195822, 54.99714865844027, 48.55638722667439, 71.4961694088799, 8.175708576415339, 61.998264073643284, 62.418587665853366, 5.79550174200801, 14.916885984084985, 3.342932524701311, 49.14739942707135, 92.6437507883998, 35.90125024924974, 65.78642954028666, 58.28377309884527, 76.9026735192833, 6.489267724874864, 87.40935031797343, 83.15056944739939, 71.0469917199996, 96.39376726597193, 82.44219651881305, 98.50107636331131, 57.06196426329274, 32.644343059098524, -10.22957057808954, -3.5667135534775554, -1.2573738680810074, 61.16448697732295, 46.84724252999895, 22.73150989957471, 68.41185849408352, 46.80413866898451, 74.69105586167366, 62.86803204633331, 11.358415459835758, 39.06233991294985, 46.823189075444745, 87.96722741237446, -9.72073105084342, -9.186213392625003, 9.638409781832571, 29.09180387888251, 8.091708542546279, 48.31507064662715, 48.510407417275744, 7.467595755313006, 82.14069643496092, 7.433702803952311, 39.23535428479178, 35.44448148683284, 67.44517362062682, 86.3547023067402, 92.88128956675733, 30.551609846622462, -4.82842337024524, 33.39161447465116, 46.64242064904391, -8.56098450025398, 51.97408232134599, 29.282625639596645, 22.344050203797693, 40.61388526627987, 26.929042543707617, 57.8595618931289, 40.93018879345265, -17.00459844675704, 14.933905383132156, 37.23351509228762, 59.123220645429356, 22.594174131401374, 62.41419937603774, 81.30509996405483, 94.03277176261892, 58.03751319509915, 45.66704512599016, 67.8654419269516, -16.135063937102206, 38.37720180872152, 64.90128169745256, 70.62892360964258, -12.397576286897447, 45.27062430069873, -7.412406503830091, 65.58947092736116, 22.00326657564343, 79.80028326245801, 37.0512919406818, -6.7825953060985675, 52.77909119419692, 53.3643104860175, 51.902518782015534, 35.47966423455635, 97.78148029497503, 21.912490868202077, 33.05226769289672, 37.784266871913516, 35.02990746649538, 65.52754349069714, 3.3424134956378495, 78.41880149089076, 79.2088836459446, -13.889178753722451, 58.225746735019584, 42.655317021855815, 16.374068734727217, 10.863206628376094, 32.78925081856573, 2.436406682365803, -7.548011763260472, 81.47784322892714, 48.690784259279354, 89.73105804983459, 92.40149467704785, 74.59449385935623, -19.97648070900659, 6.447272713568847, 66.53990345265198, 38.40303070453376, 90.21185690885592, 64.95552818158139, 68.15096311181017, 6.42083002550131, 93.22233372961023, 29.096293838479788, 63.02604079269133, 9.84992379602506, -9.6127715457519, 98.64661825152616, 96.61561156281601, 1.81678296681282, 92.32273099075951, 93.76349204422166, 82.33497885410533, 28.506327666426834, -15.985297423256632, 65.92106439782118, 76.41248076852224, 66.93128615676687, 65.93504293767343, -18.260034295096542, -2.6334932753046836, 30.141728473472092, 89.1012221087281, 29.094748003696502, 71.09221006867351, -10.397774036458273, 52.267585141846894, 51.35711327389245, -17.992312435230016, 27.243759351040488, 91.76295625411032, 94.63453874111919, -3.8463539992088336, 83.11060117989231, 40.955196813638516, 95.03617381867343, 33.74779100290061, 91.78210225910826, 26.777636109029366, 35.46330515778759, 66.0012241560366, 24.416432682959567, 40.831893621504015, 38.13008840958015, 66.77998844623723, -8.088909201105743, 30.18656168284621, 38.628262018928595, -12.3486105310093, 15.432365486371864, 41.796909105198814, 67.71583288912394, 81.94825163229405, -5.925697876892206, 84.84221497343893, -13.67705236060177, 13.200616091661828, 46.10328534211679, 75.65680418821933, 34.8595359093676, 3.428693362297782, 78.56662384853283, 77.25500152266775, 53.46416976330666, 81.57567995852976, -8.085559620516767, 43.92806983120441, 44.698736483679966, 74.81417370285828, 15.969614457512087, 56.99276659144553, 11.884382659515545, 61.79273216980407, 32.90771984014641, 48.85691151098517, 53.661523264013084, -19.514404050145128, -17.657104104848514, 78.62547183577901, -7.8003191478700895, 46.748005580357415, 88.97208613273581, 89.53617265077187, 60.98989230745886, 72.19054751646658, 96.10681483152533, 81.55462344958298, 56.93965171214133, 24.40370961277595, 90.37189676589388, -15.312171392124396, 80.60245137238067, -19.679187710970023, 80.17317683483405, 85.2104680558447, 44.31704791932677, 34.46178492104306, 23.332885615594122, -11.426220356132513, 75.53632977877956, 96.97142911501491, -18.598216228852923, 79.92384459799739, 66.00552681018027, 86.84962686091217, 39.138946402201064, -3.8090662011789576, 6.217904521235894, 12.7537160308163, -15.216386625894053, 41.148484015105524, 68.89248186915066, 56.35432578182292, -18.539728104976852, 28.041144460103908, -16.190154001436543, 27.404271480495474, 47.81826743553523, -14.1163161887882, -1.32495404036694, -17.954308882208597, -7.558753107124714, 40.723763702777795, -16.63506473156827, 81.73097641788729, 33.08353719117663, 53.55031480706869, 68.80862688935633, 91.42745559067939, -10.436210730081065, -13.395448627976275, 42.24557671991377, -5.051230312954097, 69.66239329742795, 11.61464405134469, 38.807271919336, 68.87861833286681, 2.2205518457088544, 59.51808534107441, 96.06649028337955, 14.78349212690732, 61.40255284942842, 53.32848498033022, 22.630269129367797, 84.27086848262903, 78.4507293699437, -16.39890095285986, 82.34113705324299, -9.412782578905365, -1.8852390322940416, 97.11679111345552, -7.998435711770465, 84.57951787899832, 35.79316669393653, 92.68227728046054, -10.477339300570616, 4.282118886000859, -7.591224748052037, 87.01651254289973, 84.45961696913524, 60.31869275622415, 41.34643906588361, 8.269078427251824, 73.96448353681109, 69.0136031794036, -0.5508535652284934, 66.57572002450837, -5.289566823032793, 85.97323843924815, -12.714170645264776, -19.520700841763702, 30.450939605289307, 0.1769243154860476, 51.08991261773039, 1.3562484740521015, 64.60960722339549, -16.721833760853354, 9.070794388827021, 19.47126715390216, -8.037718404161591, 19.67495471063752, 78.49185808627522, 35.04868534399084, 37.80014802374292, 82.81367987435448, 36.55214578496593, -18.92901629928093, 78.76558319596391, 46.34896476190872, -1.409574223784233, -14.31417297364911, 61.18922453518458, 37.8236400100971, 14.360211075636052, 87.87438093906485, 33.428659264025455, 96.79733819529574, 48.32939500231079, 24.253805243240002, -2.7352670754084194, 45.51136001882422, 55.268006750216074, 82.18932851319889, 3.5436242339447617, 43.08166656654333, 66.67152968855989, 86.4137329305181, 3.373003885532526, 51.617679720753245, 78.66996652172872, -13.192729190076431, 78.7178324266878, 61.97847173732188, 36.61509448780662, 79.17131028941414, 17.0164224461339, 96.84578530755252, 11.543351245674994, 2.268451422813527, 19.89151062534728, -15.774123169800426, 88.23936748896305, 28.015384431725458, -10.515614826363713, 64.91479215538666, 77.24741848936803, 2.3121128890696987, 45.119148857036635, 44.334963085466114, 89.38371234081555, 11.311285419256585, 89.2493020057058, 52.599588716317896, 2.426923409568804, 65.81878306434683, 47.977225876613545, 51.284201664248116, 42.584863568867554, -5.441400708384659, 68.97696946949286, 97.75183446908025, 52.720869741863055, 7.1162767147849095, 15.73229247003421, 24.003384388953755, 65.92844769559927, 3.9946011281223157, 8.637398934573, 24.3510476961413, 17.926347788154892, 69.26101522878676, 4.789693164634727, 57.11319772219211, 64.62742811306842, 14.052613538284426, -7.281810457491966, -17.468976566145017, 46.45297437100733, 86.31228291584827, 44.1984909346385, 9.781027664226592, 79.70631278523113, 46.58421220348464, 69.83909995568433, 73.18859362807696, -16.09197170591681, -7.839675230044371, 92.52984536327116, -18.450314366070867, 56.38793355691011, 57.72483889486357, 12.195512076275378, 75.82249976378415, -3.7441924453590794, -16.003762141443683, 16.126179218654173, 70.30483491391378, 27.403440888578615, 46.93632709251055, 58.83745633114289, -12.0043275863169, 85.79215062847456, 0.4915796201612679, 54.27729449388447, 33.76080615543151, 66.09864432340211, 64.81769031742701, 74.22263938523858, 15.385261435993321, 14.514106382986817, 94.74261164301511, 29.97306063562337, 48.337262313857536, 79.42057754172654, 99.73530331724535, 88.4337802187365, 43.02079965517886, 64.48569366129479, 69.577581185419, 74.0320329445327, 37.643105286285156, 94.14592280310171, -3.372819929551593, 3.594988515747257, 81.9012546169516, 85.16019568670714, -6.16024506874172, -15.511333912267244, 91.76687676034155, 32.93182360264102, 27.583019052602687, 1.6034708762963277, 77.60725414885447, 42.76194607098247, 74.34813081008929, 13.768003361285196, 80.88684931603281, 60.339219195161576, 0.2160471790942573, 54.59155920814882, 66.87033453613343, 53.789619494712326, 83.33914876016725, 43.327381481103174, 54.812178383201655, 6.677724349741389, 82.49752354897427, 99.55636203927119, 85.30591406650683, 88.72056377942886, 79.55094113235981, -9.002142376119306, 93.07370044672899, 40.08963220966656, 8.773323503136474, 77.46632681804884, 27.032372694324764, 49.61583466040284, 64.67251117937833, 85.52063699631108, -11.697585776617228, -18.047210852661312, 67.59957071754744, 15.03687558564394, 92.67359138074963, 68.85517333501085, 40.945631363024894, -17.489790781312156, 98.19029188970715, 93.49445490549653, 79.28940508229181, 34.03435006716737, 66.14163535518125, 49.301780269278595, 60.71572907372648, 58.72606505874673, 57.22839089004509, 44.750522269078175, 20.31821071330512, 31.512969769928233, 91.07465745190194, -0.4098769572013694, -19.89822163108672, 54.539385131047666, -1.0369498283240546, 59.71448787473315, -4.114553645209401, 74.69541432614898, 42.4112188772271, 39.745528502018956, 81.78652607919123, 26.794309516673025, 61.32026169440458, 10.35866666381743, -2.3593640384061985, 64.32277351379096, 57.70667873495164, -6.322521105618737, 36.1452668925084, 49.39050722097461, -12.586361160205971, -12.648561653060577, 33.69946026860288, 35.22180225068468, 35.51607792307887, 63.56985877902261, 7.433178386566993, 94.95190934874742, 45.607108044129646, 42.90953061322639, -14.605733821281008, 48.45819502073637, -4.905452201322644, 41.05767027926109, 49.84427488409298, 3.490223189347269, 55.93387863532759, 0.7285832534484271, 59.823203254318855, 97.70467155489469, 85.25553640764454, 61.401542274606996, 26.45760339585057, 15.35762766749771, 57.95387195759345, 54.27928895403484, 70.19687571062127, 65.98357535415032, 37.26156547874186, 29.199225307131165, 3.2888040984686313, -10.396772832130562, -17.783711233514985, 79.82928215015744, 2.667174103515247, 67.64119548465973, -9.424918045260151, 39.04480473094792, 19.489713494420656, 41.521586742611206, 78.66950039304943, 23.991453777975302, 74.9249034908046, 74.61009817424878, 63.62880303726004, 9.487771129585024, 56.80647990523039, 26.073778470862273, 30.03238804342829, 74.08162701222847, 18.07039049984472, 63.35721871296711, 82.33050939036514, 22.84878211338588, 1.3123811716091254, 79.9720271743823, 67.26446692354713, 60.96622071719416, -5.297625264005067, -7.154967574960809, 42.12029165651953, 91.55543902359913, 87.05224189972836, 5.528962630661411, 61.12000497252373, 57.16080656029837, -10.796376698312304, 82.90969097327684, 8.039825910272128, 54.95475389857806, 88.80768505565797, 62.33739245709883, 18.704189234819268, 26.092952541907643, 75.45578393647517, 82.51374618218857, -15.186119022902517, 76.67115674856578, 24.640969127251914, 29.991171023281808, 53.510658048531695, 41.31521162058445, 15.379144135411046, 92.27264448137068, 91.34395870612448, -12.240245112187589, 55.14374502328768, 1.1623903091851737, 83.47417906389128, 63.5019974161756, 84.04967149166342, -15.740640380628195, 47.148752840429964, 59.03471157922078, 38.858462599333926, 16.645074219338213, -9.989086895608379, -11.073597195059035, -19.0336214865291, -7.290109502082602, 65.94297788857166, 74.69276426210217, 30.47333685659693, 45.83062680997851, 94.7573271117307, 2.2105988203317004, 43.279561289626514, 81.5221470236987, -15.84836163353403, 93.78872725509176, 23.117897409709478, -5.831985720528344, 18.963712141516524, -16.840022669247215, 68.91950835101309, 93.29554113217728, -16.457773010657135, -10.39020870300238, 58.273439759739915, 67.66410770227209, 94.68444358096141, 8.698750117465792, 41.663479912560476, 32.57296504483157, 50.61845963734517, -14.236279682995931, 96.64822452107326, 48.07580022962962, 39.758357361535936, 53.494318045231296, 80.08933958173502, 18.275476968613127, 16.718249138935448, -0.4313520554157151, -17.641921773089322, 47.269968513400016, -12.203762958877835, 26.90127134044775, 97.9587085461455, 77.22393639256218, 29.70530950141746, 49.82920653351219, 22.745981482238726, 41.44950586491628, 66.14696842183137, -2.2146717337193706, 85.8546256311255, 32.87301558930055, 55.8163612065965, 89.33163132174151, 52.276344074134585, 53.36174834393775, 67.1901431813252, 43.17747509835894, 16.910550712052505, 92.1560186857282, 81.55225377669345, 90.43118544248797, -8.756786089220515, 20.425902667278272, -17.789641326565157, 50.99096042320842, 74.6953310377301, 79.32478404842522, 89.90278423351734, -5.998710133610071, -6.101676677905088, 92.57413460932752, -18.982074191530685, 4.051106186971211, 51.077243694926835, 52.78745668390832, -10.484786084571391, -11.535877323311873, 16.536338640405184, 69.03189501371571, 77.77656426800455, 86.08848171900007, 1.8504156291332343, 23.482166563834483, 30.066584413532446, 4.816413707296032, 72.77611193399039, -19.365179821246436, 91.31641921327265, -14.058254967682103, 39.67920565997869, 76.38868261313536, 0.4398111266423932, 96.96709734948959, 46.62464767980592, 76.47537048858608, -15.993822806666742, 47.662914257634014, 44.51219689843386, 17.753285755994888, 28.784888772936455, 63.532577727590294, 4.817588980048789, 14.62766350076761, 38.57189285637563, -10.117974392423164, -4.825557332881392, 46.78559712043834, 77.39646402156461, -6.782291664254698, 37.93680095292449, 14.158778851918143, 98.96130069240841, 91.5931933330718, 52.83334458856291, 47.58780574133509, 73.67279730828504, -6.177663630581645, 2.4312484601136184, 72.02343374507882, -3.232215791148704, 96.28783396106532, 51.08792166116348, -14.426901111278463, 80.0548296624508, 90.99908935873805, 16.848004825005347, 51.632206576333445, 71.795371271317, 16.934186649596732, 32.92544521138443, 34.80855603101715, 74.9271809897912, 16.50938305474004, 74.63956188677324, 15.191033144358826, 26.070101602265176, 37.77506798629839, 16.250962158008605, 35.58820633205154, 84.31637903345622, 69.25382027703395, 78.90284938162617, 59.31005651634514, 44.46139717961134, 7.564567546398987, 62.29979465909189, 43.657241307857326, 77.2847860238941, -7.358455322687174, 83.30294894638565, 1.2355706200661452, 14.091349653349951, 6.172510894129783, 20.282876354633594, 79.58388909151824, 58.20944008785821, -0.6363482580796571, 66.80235968044435, 77.82589546650325, 19.067195094039626, 0.4861063930838583, 97.04790154545599, 1.8737396119565695, 81.48039868580227, 86.46539649755933, 4.150482211802135, 59.63414809712458, -13.589864802530126, 64.33461724765263, 85.60561639851745, 97.30721267365915, 66.59625067287422, 56.21827615829103, 48.3214841638557, 25.1402811593318, 79.51956447667087, 14.796752957734434, 17.778434260762026, 4.890096811297887, 27.30788859800097, 50.35511767362644, 58.23986009802931, 26.58281107298417, 18.11452273373684, -0.8823110568820667, 52.666944928864325, 89.62409924853144, 46.722934714601394, -9.561784241429102, -10.260243529353904, 79.0187350998805, 76.48034627465726, 38.66668776088167, -7.255763414060738, 1.8120301023267729, 99.59391820968213, 97.80421484029367, 1.5536152027319758, -15.262222875729634, 40.288975720024574, 53.33455845631421, 0.6475906320305356, 98.42704296618906, 10.508470765991934, 36.60282024881058, 13.759428820361947, 32.0766062053787, 83.40093383226701, 49.341606772493805, 7.48145169763562, 96.40545280365285, -13.636557930767687, 11.600655615269698, 88.89344144446105, -5.568966660837326, 80.44745005511336, -4.011342465335499, 62.903928850633406, 8.535929829167856, 93.17890828724094, 93.28580833151, -14.909235031758223, 12.381787402793712, 99.88151110619968, 21.775510115299127, 12.401322493486575, 99.2061380384102, 25.272532724898568, 10.16214183777528, 69.36821115814769, 2.6643366074016157, 72.90026527041006, 51.67445995883091, 11.265613322121169, 25.698793436525087, 67.70512235218452, 89.98607319517495, -8.111654399638821, 77.70000641467371, 7.844857396481558, 86.93084949156155, 99.09429575463304, 59.902660670460705, 60.7559718594931, 5.854700574883161, 95.70127059724287, 80.47968052765225, 20.197652707800785, 29.423773203550596, 25.64667331488402, 78.48409121756885, -9.591583856505416, -2.3787999456046727, 2.4565662420320393, 35.9602954750331, 13.663941037464554, 86.58592685130904, 36.39925783245154, 78.95127655096186, -9.886178556616102, 38.13926207684139, 93.62262822784002, 9.2631458118326, 88.28775133034405, 76.94914074746512, 31.128500647038976, 94.5158844181793, 32.794206789745346, 69.54389375803396, 81.50427833505994, 56.62868796828215, 10.246942690140202, 54.179041564347656, 2.8609630953460616, 24.200462529892754, 80.06040028950409, -16.90016122895626, -1.760422678835102, 29.107858335698154, 78.90052015056348, 82.74910138501224, 22.219229323049554, 4.031655042422248, 98.60719367079135, 20.232591987581586, 58.41371576633398, 91.4128386415879, 91.09533805393727, 28.018682877144137, 99.19699369833835, -13.377441768027616, 46.09705998637456, 95.9559118061959, -16.097990350927184, 69.57617046930318, 3.7667740067890136, -8.308700230514567, 57.76340447521574, 47.68559986936498, 28.04126715384369, 78.76663395236902, 14.94196351850065, 29.35674809989314, 94.51565766971306, 87.68067904549305, 32.23608511202242, 36.86955873406244, -14.373548125171492, -13.371903766367016, 16.293884606309767, 64.92284127263348, 53.88504332484416, 69.41728781151566, 99.18039051228546, 38.437879332691494, -14.550496193696464, 88.52023002826601, 51.20449899317471, 14.237616853861972, 7.721621399970083, 73.30089983088163, -19.25367275142182, -6.513036909427674, 16.848477714580234, 62.34465245089362, 6.943558458030445, 24.855147541758924, -2.795527820928214, 12.769172247462997, 51.3297343075308, 73.46437185920438, 44.73668219271134, 32.09053129164222, 32.18733514300127, 4.762917229073299, -15.224848453631331, 75.89614554174389, 45.2880925266975, 3.6885489452963007, 89.2646702710957, -11.556260420163618, 89.69373212483629, 83.75166021301986, 80.38761881807338, 36.09328616812362, 40.118816010357286, 8.822222640065167, 28.137645814386588, -7.759881638372317, 33.73379348696827, 39.84984067926124, 87.40439121711157, 25.683238865576612, 49.08082168424036, -18.486594696961774, 23.377811873109657, -4.32856033239152, -12.918738942121578, 48.166814046035284, 88.84799794190117, 3.8299289423652247, 41.71376916877604, -18.95137233836558, -17.484895354125584, 77.2722157861285, 9.716733176975858, 1.0441101067593905, -16.36520862558415, 25.9020818285764, 99.15542421031876, 10.778289989309627, 91.22898329405034, 72.0862867730015, -15.492269160601557, 0.9455845124122249, 84.25128964724358, 44.773979400166525, 60.149612842343885, 40.366844865409355, 59.85612577240079, 40.209941014075255, 2.6607647192568074, 60.289369479669844, 36.921248049965584, 4.955266254444922, 14.60256529714556, -7.069683318719147, -2.416403497507879, 78.46819859016111, 75.82949643894919, 57.3524096863631, 97.95481710938282, -0.05729627535803772, 21.14856731282685, 26.327043395117947, 94.04319364046184, 97.96646083386543, -7.762095962025688, -12.899298634653768, 42.30567530984368, 28.85029843058153, 54.00162297679722, 98.04927592997186, 45.42092710389798, -0.8528002115426467, 70.80950808335064, -11.060459611789547, 36.67816901073725, 93.2279566652342, 80.58268146451044, 58.485374527414606, 41.55909329112908, 77.53084409186195, 25.627512236092322, 59.43084837315372, 29.10862786458675, 33.77891077483925, 89.98503747138486, 3.757933328781302, -9.780188944854116, 82.22541827645763, 96.72073983771762, -0.006504987689815778, 46.11965079386799, 58.706559757768574, 84.44049330775124, 76.70071141703374, 90.35513316280448, 36.34854488256031, 18.66194024049839, 6.594265706505055, 78.27930287236707, 74.5513820492591, 99.87319413271327, 78.93141322464662, 18.580233692095142, 23.918552593362165, 44.65060708349607, 45.772245883191744, 17.508893281060963, 31.66044718844703, -19.916943460300374, 4.574425843910944, 86.641274124331, 83.62810694149094, 79.18884202685699, 89.2557308227509, 91.52414834466055, 79.52677031352158, 3.4019460392506993, 1.3269304718957429, 53.38192988576314, 85.21168411670469, 85.79279134259473, 12.892528838131767, 25.555646546461595, 48.85968521227606, 54.921288953785876, -14.989375341293751, -10.181429180812538, 9.187961086366215, -8.832692432169207, 73.3592924771824, 83.86967376255659, 15.0074239918455, -3.34394029117988, 40.78480005071053, 38.65513005418832, 28.41046977947429, 79.27577642576298, 63.77490196461291, 48.30028669457508, 71.2763173811746, 60.94985931440863, 70.87376750058124, 44.19022951752777, -0.49798936764805646, -1.837647874596552, 88.52348924545339, -6.626983222782652, 71.8337176717641, 60.60963079284585, 64.98661094947677, 53.98165512346232, 10.326581546203556, -0.8001852273649348, -5.506452057275023, 94.82074537171484, 62.001559766927215, 6.262758301219748, 58.73894210360278, -10.823382377961153, 63.50404193986935, 0.730136124188757, -12.83451140672232, 24.75557893764683, 51.227645032866334, 0.7978918323605697, 99.76838081603896, 87.87640881693416, 78.35913499801283, 98.87087261363102, 81.3539038034904, -3.1421609636650807, 62.36012525085033, 85.66007440680916, 9.570265760929296, 54.709363713856504, -13.145094881969456, 66.71796576580455, 15.56545678915139, 29.257627359158093, 56.11326545842941, 84.94614351882373, 57.32900873198831, 95.21125812752685, 59.75460719533005, 83.99084668375525, 42.07815073374312, 82.61659186552708, 8.906879437660816, 81.32972772330153, 41.063355832669316, 70.88862883720421, 51.31601414771578, 55.26279189292731, 78.435627348873, 4.993539519147504, -6.657765684403358, 87.697135941246, 21.73425664112466, 58.69374803590381, -16.413870635875583, 48.409081796083214, 63.23648667341568, 81.49085713760212, 76.23158248586206, 3.811534123905915, 64.99614138340681, 52.20474961541167, 70.6250971870668, 22.47800089346157, 27.12571581755399, 31.09386846447054, 95.29821111110607, 24.210510638023223, 77.56811055684513, 80.64528720577017, 19.9650892401158, 21.04969979868796, -18.317017554516298, 30.577009383481, 39.87536706230629, 78.60511459032482, 8.401772870454124, 55.701733348549936, 8.276199563427426, 6.0821766229137, 95.01972730955173, 97.56168632196639, 72.63051110466697, 65.49025870004175, -17.724384217234757, 11.79570084845276, 38.49173353216983, 96.52607478588214, 30.33127045846527, 69.64766487580312, 39.89271793464469, 40.72379102629774, 72.73394006332043, 28.75227227522698, 2.094681562226647, 77.22748537158905, 50.02858521484468, 74.49584450957943, 49.45388012940987, 92.08403852750429, -8.856314228037645, -15.17208635178255, 79.51650785375435, 2.0900395821354145, 58.7846851943075, -9.456388154266996, 79.32029757252633, 49.865501319985114, 86.49093303102701, 78.32439485091939, 44.413779655309014, -5.017069944371899, 80.84348370130807, 33.92489660356172, 70.28545046923563, 67.26040966353139, 41.33840336088271, 88.24653443231503, 72.08478515498359, 37.84535489455719, 46.87638469456651, 66.16077699301127, 2.1812522816322932, 75.87982673064087, -13.60425681001232, 46.415441673804835, 90.13946990541366, -13.66022893174911, 87.07989042559268, 35.82666352477758, 51.66802892979629, 83.76602875546465, 34.75018573381266, 80.18003471876476, 6.062581851736866, 51.1735951443502, 65.44556640354678, 88.53537876202246, 41.982209068758365, 8.405251018361625, 20.822334558951667, 94.63054543064814, -16.44461500966748, 55.80764489384687, 26.78152494463219, 45.5191358627185, 10.363845524448998, 28.773647583511313, 94.99431628141105, 55.770875695515244, 23.1381856201099, 34.50375801991224, -18.95029416374621, -13.368372334367681, 9.426785407734073, 92.45003198071964, -15.3096855350713, 73.82951411629573, 23.085949068674175, 14.26487198423031, 70.68100974935777, 86.7535059227404, 58.23663165249644, 44.81440283899089, 55.61582005881145, 21.22426580735128, 79.96932253494333, 81.74306838514325, 91.4662869126661, -18.84496735541206, 64.83831720035566, -15.548335375750781, 25.573251340613822, 69.92492316393047, 97.11191489731125, 40.38953899706116, 85.65104121459734, 38.46233831883048, 37.26950017498712, 62.02356893340168, 69.39994444125144, 12.442782666451045, 60.08276825509665, 4.338488464011224, 52.65243258808299, 71.55458012177016, -17.178532201787963, 5.393108926712312, 94.88962375696943, 14.43662470244331, 89.15141666488317, -10.835885795025067, 31.69270588884728, 15.05679855853927, 92.08101839979182, 28.988281196110094, -7.137609573658828, 9.516049049322778, 23.76385763414038, 64.20636706893038, -17.004437905335323, 77.55002428541641, 1.3405550360598824, -12.723523257679208, 96.36498493104385, 99.79090704694119, 35.388937808162396, -8.702209944104826, -5.873541694560398, 54.06858892049594, 55.39348412375725, 68.41367494458903, -8.312086671805687, -13.669116111809071, -3.0037402591681115, 91.76670783260303, 85.75183047291051, -13.36323285979898, 56.667472551753306, 67.97379123509128, 81.24349310100968, -17.67812652693998, 70.48495449493753, 20.506284582247567, 76.96243805573208, 54.94567627098985, -19.69647710224352, 87.01516439518822, 2.623042918734825, 67.78392973105191, 99.15321712855938, 46.768928735737575, 36.68081567654097, 91.09652119329684, 58.88807229053148, 87.39524394532972, 71.11529854092235, 22.345932950979318, 7.212683724690493, 52.601639574944244, 3.1981108085740004, 41.1190175300374, -8.96103697516887, 16.46839974271058, 67.84118442542359, 75.78234525807211, 52.500012564211474, 4.3621520607741395, 90.82767566544392, 26.449086586181323, 80.64074066385743, 46.06500459959486, 96.90800795504332, 75.83139533084307, 86.20461834268795, 98.91716327919761, 91.37659446115089, 30.056150037796947, 16.25783749227579, 69.10628014655175, 94.7424155576688, 11.517843389180292, 18.225530670700948, 86.49857209750111, 81.01000972267656, 97.24580429780822, 91.26638155933296, -17.473680025408736, -4.788171802199329, 99.09808353175238, 78.12843883865571, 47.24339600111482, 27.88213966292355, 28.20763063584549, 52.15271081271749, 76.24670423189625, 20.581902081321907, 32.36607678234864, -17.11976560190068, 69.07070966318408, 89.75996380865782, 46.932912408416286, -0.2832926229903805, 85.24875641678992, 97.3843197629898, 24.819969908528236, 28.309367479049016, 32.69717166401418, 16.857545444375077, 79.0918701512107, 37.79695374372591, 32.64641324887453, 99.19322043505551, 78.25779920777325, 84.41157391972631, -7.678174865624058, 20.933712494794754, 62.58881035399938, -19.19446349240424, 24.616694797147524, 14.786249259742029, 4.58131657019959, -19.054633981542967, 85.5995394180499, 87.63418464087196, 83.666494123947, 56.73494375773517, 11.864137837571683, 91.39301412167626, 57.7241624690579, 83.7335646343258, 30.07286393900185, 1.3327300715756039, 30.50590897309523, 59.22499607538039, -3.016886335715334, -8.951951770842829, 87.82370748517566, 15.566052109887409, 63.62365792917409, 3.708137990232281, -11.990390485697446, 62.603801638211934, -0.9400750254846848, 51.953342581171526, 33.22321012627629, 91.11629890696467, 12.688306685202924, 32.60305093495819, 37.717710540308424, 67.19857859825186, 92.1075802957247, 4.3132604989729195, 48.508016263840744, 15.200806743562232, 59.841166611507504, -15.857116122336038, -2.185937769355899, -1.3004016145080328, 11.795386373292356, -11.169028524346732, 38.04101057397461, -8.693258734043017, 85.63424016116106, 68.33231166194838, 96.68500802329432, 10.889934448818245, 61.495778954250554, 97.39887277736027, 54.43646874139975, 22.96433584080171, 78.62696942605983, -15.51995074669751, 82.93619624574964, -19.522247641714706, 82.09342569158959, 46.579678208132066, 2.948498942686598, -18.718487654680406, 67.94805425002536, 75.47485863551255, -2.472460934452485, 24.172508882680738, 50.28621293913007, 52.36401573335104, 76.94574800862195, 70.42981499191298, 69.1415485076945, 57.20325604476591, 70.44159298895288, 3.535810883818158, 89.22625341525615, 53.93908353084116, 54.287066182792785, -8.47843722896313, 85.7752220635651, -1.5812354530149904, 15.346329117910898, 58.64419129574098, 84.8792716826457, 73.80786419483216, 9.5874437808761, 56.7912338626418, -19.599422570805185, 5.785900357693727, 82.29312059542495, 83.54578228983438, 72.24782271044796, 5.277943840463408, 26.403217201694858, 2.9126809122707087, 82.25444918297204, 27.731287831003925, 3.899083207708575, 7.180489868873934, -12.554434709551018, -18.14495932766475, 0.1376520342597729, 55.279914865540505, 22.058718277146617, 14.271603485802984, 33.77133994199807, 28.130517968642323, 12.462501675051698, 89.26330685933091, 8.299740402853743, 25.205947757690247, 92.09474189255458, 56.19439794635035, 85.26324455260837, -12.653552059648518, -2.207393037703259, 19.683112071671815, 6.84252676035311, 20.67220728009122, 74.97283398838796, 90.90925517278558, 39.039603767492196, 73.32505006833834, 40.10241476894081, 53.84783268779039, 6.947131913630244, 28.58497877719659, 98.42933370435355, 55.766219603622034, 80.91245676073532, 18.203311899994333, 53.912506585481026, 37.16682154347708, 74.53492920941372, 6.1002845459172335, 7.324147263113051, 39.34741601585975, 80.36767042561512, 17.789015165315575, 26.690684365723115, 92.44455962196676, 84.98063269874953, 30.026300727803545, -8.634453988662475, 80.61968489484539, 86.23966189204857, 14.603060988813688, -5.1754640473960976, 20.324247549013656, 58.399366689072394, 78.48989956120188, -6.412061950848136, 98.09729054704673, 70.09861051709568, 43.999996743872245, 91.52265002980732, 44.935547856761104, 67.47470468088028, 42.9411398102302, 30.47478365921409, 98.84128932063076, -14.012345526072775, 39.70722699211946, 47.06195288242685, 5.3073611244266985, 35.28090170745656, 39.59063303403965, 78.92250033067653, -15.131329421099275, 93.72693824467133, -5.979778109057312, 15.465103481773049, 61.25975977988652, 81.39021925507348, -12.382371601598852, 46.05823613361305, 47.60219200190181, 66.39553844139067, 36.955610906546895, 44.40275291958217, 37.8499242158583, 65.2008376757603, 7.910117336446881, 28.400356689762177, 9.872114052895569, 84.3017176797466, 91.18708185875033, 78.94469791889196, 63.73487973240674, 72.07212003939523, 51.91544948541869, 88.80435116717882, 45.105090335318565, 73.1445003115378, 66.67711507817297, 85.7233114635925, -12.111215531965897, 66.93736694290726, 25.969667291314373, 38.643345357734766, 16.11091357438535, 55.777571626725916, 55.90101418396945, 65.32217290836313, 3.7776867941837367, -0.7817015694357785, 78.16697293898318, 94.4299802414945, 5.581194957236608, 69.89159129570426, 88.95249153131657, 56.050055401806375, 2.0986799704785284, 60.472938254600265, 57.621714840034386, 62.928574413048466, 74.02924918376286, 79.05642430534463, 58.38915389431209, 21.739220824399943, 45.98509420418304, 77.95353365586142, 29.96091364815244, 11.721376241685263, 40.4624522617152, 87.8389951647162, 58.595990743730894, 41.67713273532113, 25.73008765534641, 27.905060511036616, 67.39976616224607, 67.97619522874409, 38.64143953524462, 42.8601526421368, 63.80568524103373, -16.920616503542675, 1.0882171511590641, 76.63468012459687, 47.391127555850645, 5.336699469386751, 0.29757146169777116, 60.03819791413973, 36.46489978442785, -9.4913011199752, 66.498467167051, -3.29065916364355, 48.012732370929385, 41.78753989075461, -16.807145350102886, 17.108388021204995, 28.07614944152928, 55.54107890244508, 59.9896495988972, 28.178552545063205, 83.08144176652408, -10.65350575355129, -16.33177152098042, 63.86365604281066, 33.37221255924131, 39.61918284538483, 76.4131204867864, -8.445532149178057, 37.39480736747773, 54.33920858959577, 56.28026644774994, 55.856334283725346, 99.67068846369935, 30.225791222668775, 72.36881124523558, -17.890581613434552, 26.47962415605045, 4.443543954336565, 43.29367069688334, -6.749309454546136, 8.836017912466719, -12.428017789078671, 76.88784219817788, 19.538719305567604, 37.22229315657052, -4.835602076867733, 44.88258449934277, 82.54321939469895, 11.7944180727665, -19.900503811042974, -6.061270055864561, 84.03597821563825, 34.95017833419221, 78.47457271235177, 22.36892806675788, 67.11033458968636, 25.19074214090474, 74.32299490527961, 16.1140924020349, 52.81007125164601, 75.41754584850507, 82.12383444958448, 71.68055239860352, -14.628184470160432, 90.4874128522374, 6.577676144886119, 30.692885329337997, 95.67623320194566, 50.7248733691676, 58.784595628167054, 18.827659381917528, 39.81126427668419, 33.38841799237877, 42.405051186763544, 23.6566792123091, 39.708322115562666, 54.94090946031527, 25.256988063298408, 13.782216890248613, -11.938734037549699, 20.72909780242871, 12.712627005923537, 41.153692795830345, -7.312544519545439, 80.55267340405436, 86.09872888021772, 32.773340335529404, 56.99361005722892, -4.1688451223076015, 63.77591640944421, 26.49559406804063, 53.20229397047288, 39.797270161439755, 45.624980238867906, -16.88566543572209, 54.53232571164352, -19.771498635983228, 0.8096497697019984, 83.07195660067094, -10.273025351393198, 89.361293913912, 11.704990467049111, 80.71901848085605, 59.896588202921876, 29.391235534485894, 37.67657611673168, -14.969540528546737, -5.144410756219781, 46.12410474664986, -4.624887808562814, 71.45767553090468, 89.13220570890466, 38.06664362604531, 12.557450706746955, 6.898839275400853, 89.87832569490311, 34.511473222827945, 18.35157187753945, -7.616104221818567, -10.75310042250595, 26.72174762850404, 68.30652074289546, 72.41823851689401, 58.18304654478095, 68.86551653584546, 33.85111031702181, -3.1098589017046017, 75.18139546601132, 68.79414932698955, 51.8039913256022, -3.565083315755871, 8.924039480001213, 64.60174956230637, 50.174922198849345, 4.10740350105641, 35.7132001179978, 14.623803210807466, 39.098316309876004, 99.23116198735553, 37.64462511889463, 12.645456584896515, 31.128175170969, 57.331227589551105, -3.1463975920276788, 64.65849425508003, 0.3901464018584413, 98.35901150678622, 54.12472659978209, 67.60112552349484, 32.64342953745136, 59.569698617593275, -10.838000154521072, 47.58248938078161, 75.89499747342231, 9.548783299751044, 65.47577794476948, 10.24368007621447, -12.684380174991428, 66.17869099309038, 90.65716162805839, 18.618945090987495, 63.53139310206919, 51.24889193045348, 49.763864596488034, 39.72000443615774, 95.56144961733887, 86.7096686711921, -19.182691502432206, 50.22853129495118, 42.00932222210337, 15.137672415590885, 3.917189611449139, 87.30291814032547, 17.2606121762146, 2.1598509934877868, -1.740690277335677, 27.09437108570468, 87.06712570858005, 98.90159249127723, 94.53383705615707, 90.48868925392696, 73.68646381117512, 68.31185736016532, 49.57137154109671, 45.676644694500865, -8.323404595567062, -6.93519526359899, 70.01213483907884, 87.4025094422487, 9.59149140348313, 95.0285597809782, 5.403736463484098, -9.45563166603173, 88.67406830828908, 51.93985377845081, 90.7770206661318, 89.88678312044505, -2.982295064808504, 73.66153279701993, 94.67224616951788, 12.676734974941716, 83.10033638504017, 87.43904508126064, 6.7262755927363, 86.6800113377711, 40.15385410489011, -14.267375293428707, 24.884685219515617, 55.69696561911711, -12.879896859186083, -11.894485865681022, 51.55682904704227, 17.472975018932424, 71.84737605683598, -2.5800899618984516, 56.921391446662994, 87.06353511438962, 65.12605591466468, 20.685349266111317, 11.1519860464152, 9.834342286366482, 18.775030969516017, 99.38940459334705, 76.54225352244957, 50.88082801790753, 45.23824463720821, 87.56755281550345, 92.96134267317339, 73.32683228153756, 70.28771890412213, 20.33254527607683, 67.37468136496365, -1.5069602860838884, 54.19999145716571, -2.955579468198483, 32.85960587527236, 42.80070079870513, 93.11495229655638, 9.629834036799792, -16.911704891118248, -13.69662775460494, 48.52592626074305, 90.65805771232652, 92.8557654888925, -3.436763593341702, 81.91796814795639, 82.2986911782821, 60.8306834115904, 99.3552621282215, 93.64400537688203, -14.031927536681472, -18.20749053295807, 65.02813206578905, 53.620052424807014, -15.33508753584552, 72.39953216209545, 38.233926758440724, 52.04234163115012, 87.84521540310745, 38.42342779328943, -2.896639666870197, 29.540561368129694, 68.6318919395907, 42.44853031428852, 99.75927186233564, -1.5077892357500247, 33.090195983931295, 49.27938602678729, 30.368110652249825, 29.879205639644276, 96.76602872360586, -3.7718806477305193, 97.18343317751125, 89.95495119919296, 37.715994203659534, 56.601494137058936, 61.550133436592404, 86.60811870999855, 77.43095537956434, 22.4840836883132, 87.11835121330638, 14.486746486325927, 54.564935375580006, 7.191966832085814, -4.815557437855702, -3.7656416499969296, 19.38008943946287, 77.06505049729768, -13.664462469653644, -5.85505735578494, 67.32065314740935, 40.263507730493615, 49.24844861305441, 92.84116180303867, 51.71690896960938, 46.59148304231428, 96.63472960598644, -17.920482568623104, 32.21666534244949, 91.32930367586916, 7.05024620378062, 91.4005086207534, 62.11882581756045, -14.230473671316059, 67.97211385626335, 99.51367496845012, 72.56031068505786, 89.36234299166564, -7.8023430536056, 52.34166785305908, 40.02024277876469, -10.107867575076423, 7.690846515670067, 43.156173939605694, 24.405309616915446, 52.18429334396406, 48.664906792951726, 81.56355630294236, 89.58263248966472, 23.859235211716133, 82.30792888821684, 78.0568940921759, -11.128494312448565, 39.2116095828573, 24.303704652924495, 56.8339735624874, 72.61462025574316, 16.444739986738306, 26.26059154187648, 68.71755082392154, -6.1779544289564114, 49.29883953083443, 97.31102172553317, -2.9161607866415515, 38.975450179366334, 97.12686156189147, 73.89930801622906, -17.359961723242087, 29.858221353665478, 31.919223613372793, -13.934085886805336, 92.96941408071622, -10.19917880403922, 55.42193929782523, 20.753071940737897, 63.75195531412395, -14.537582746284796, -15.63864876529001, -12.567477935897857, 64.71445683183465, 81.83783909182736, -10.038656510990922, 7.557115233986281, 72.37368894174548, 51.91940973358426, -14.640302688117735, 73.8042044677764, 53.56810632609282, 9.61284140608257, 13.983401957642847, 19.178789638221467, 68.72519236506254, 70.59366309098291, 75.89754787666311, 12.427427638267709, -17.368462791823205, -4.479313642798957, 37.22109652578907, 73.05166389351464, -12.217505101026095, 83.47389631442879, 72.40039879114522, 55.32280154868481, 2.556024916503322, 61.52259438978459, 8.983081401816484, 9.769578769164468, -3.1941184616011142, 51.639022424776755, 82.72401365554833, -19.501141484353866, 42.338613581633496, 40.15044615091352, 74.45731924673817, 30.458705546498024, 38.74281048369427, 10.065089820688087, 39.295465988546034, 74.98918073363588, 16.33182449096862, 68.98496668139079, -8.323903985600083, 20.6754804940254, 34.436113604774576, 80.80158694795539, 54.67585755791258, 31.237878793267342, 73.09499003964095, 55.707228767009155, -14.958228934588082, 71.59339675535746, 0.5556984849877509, 62.57653549304416, 49.01960785191433, 15.52122086680162, 39.23528188228859, 51.889700614189934, 3.0569343106425393, -8.96703721871348, -8.951275136009013, 36.569688003574896, -1.3580335601902291, 46.31282791173254, 70.91947449859786, -10.312718165959783, 13.992771733920222, 29.487865701291206, 26.543621474177158, 60.43879524457364, 35.14721412110805, 13.678064982618551, -5.108555997706343, 66.60978144158449, 83.04327991934396, 77.5406910839549, 24.005922031031524, 39.33133300265441, 1.1034867265790815, -6.698703409492932, 53.717632568479985, 38.17101574752071, -2.4184300664580114, 86.84867903294415, 27.299693906349, 96.46683963068051, -5.914341814814232, 63.939063041835, 10.69393497272781, 98.64946245888697, 67.92012284622086, 79.69006483050318, 53.72772803859944, 35.18371694454552, 78.92814972355137, 38.446056356068354, 17.021406361738237, 91.80309050740189, 23.71535632153367, 51.27899726253098, 23.221898632380217, 71.68100689897159, 58.514274978674976, 61.66144085755106, 86.49857638349845, 28.645240248409934, 29.98698820045349, 16.234609616924644, 28.40937901784028, 50.707025545434334, 85.69297740366544, 80.27042359465553, 18.447127940882964, 77.91311777076272, 27.601558341474643, -5.7389913196967015, -19.919469525689383, 2.8284796219735817, 1.3793503604341417, 26.064180603052264, 1.1040601925003237, -3.1016244081287, 71.0551656676949, 5.586149934420487, 70.14008529141171, 95.95240177465027, 45.754979343172494, 30.532128426272116, 76.04630041514922, 53.48066462183975, -6.255806801913586, 78.13719822764553, 72.14200551867566, 66.13414007050619, 67.90453945322393, -13.96716721786536, 57.99272576115128, -3.929905600087416, 33.97123741854403, -2.2052649966402136, 26.88949216336558, 0.13641188459726195, -8.023050678182297, 42.926329894170536, 7.596718870579355, 47.778789637631064, 89.70118134599116, 52.6203604508586, -8.093209394241772, 58.79092741041997, 33.492881609704185, 47.16790157283124, 38.40960331968414, 27.142114893636077, 23.044043919439872, 59.540085523373435, 47.988948108653545, 71.47341048297038, 43.486173872837306, -19.049899046006914, 99.48665196400268, 68.88492791719105, 26.816903198418032, -8.234775483831847, 19.227589195871985, 97.89535061774481, 5.8625801629749965, 20.85405387790434, -0.9089127760259466, 0.2728168084853486, 5.533734583658372, -16.545933149552297, 9.954125444278475, 16.39056578083457, 26.442212781200936, 19.346718431207336, -15.041998942359065, -1.0566153395405173, 23.0050307294563, 98.29780322712051, -13.689261003246717, 13.55298693719972, 11.529343377151513, 14.190840624314056, 94.83497040223878, -1.4690785695542843, 61.91563682722639, 19.906147500228514, -16.13978726726304, 97.75183147399338, 74.13893923065528, 90.03972898530104, 9.135002165372903, 46.55985062673436, 35.1342122342114, 22.17613957074571, -14.771712206879414, 56.27103892575278, 67.80184994410762, 23.801904205329706, -7.1459142014812205, 42.89923063613537, 55.48937816129255, 26.47132540332136, 84.2840531093644, 65.60355421170057, 10.612315167870094, 75.98458603728449, 70.07675547013639, -12.632993852119935, 63.37802096134975, 93.90223090464069, -7.097280432076563, 5.442007709222217, 26.31677670936368, 5.957388160038551, 3.5127875758658114, 3.2160654327129556, 72.19751303277553, 32.68491595819035, 56.20264201179825, 57.04465192795149, 85.1965751758257, 39.42608349472127, 80.2182408403459, 31.161126045373827, 70.04150177551483, 2.325459594983762, 84.50481036679132, 11.07807042664341, 23.247737928200984, 11.88100287688128, 42.335139855601795, 67.4257804481849, 14.925032137423017, 79.49151726360498, -19.251857940023193, 52.256368393258555, 39.69177325864605, 13.959591926658604, 7.395481283576565, 12.806725890976537, 66.26282586966589, 45.561413812862696, 22.52842351370076, 3.905572953915218, 68.68628452820774, 93.58017362519459, 34.40797519384675, 35.19790588769848, 83.97908082113571, -0.5006040147105821, 85.47354446626669, 12.258656555546175, -4.882710834985353, 98.33729594244048, 44.78513026680456, -9.987353164151314, 56.54760584255435, 89.53491480840529, 20.536156630179946, 99.38337346933189, -10.733234875905605, 75.97494571333323, 45.77441313927088, 39.207899796968135, -3.747031357406911, 51.36868979367213, 97.13308779064243, 53.22158439179525, 8.556236042246589, 0.00028629056662055063, 94.43224031394018, 39.665423888423376, 29.73314916815547, 46.28553751904349, 47.95333131620373, -8.38342543908598, 83.6363367402269, -10.049693721373888, -17.216513056041585, 86.4298174608467, 32.48548410524887, 68.65086855735294, 50.95605872595684, 72.23060785580948, 42.07704811179727, 57.55105990710503, 66.96743771120018, 27.411281955969258, 42.15765789698266, 56.482423285053954, 37.83619759110477, 83.85843452003522, -0.09841088840346757, 43.05587010769828, 61.84275945679164, 91.98907313778464, 85.08157493739353, -18.339316487091416, 72.16198722340039, 95.04034181364638, 79.55245883015989, 23.94546022549605, 45.99563642819274, -12.439227180899746, 25.13783041728947, 63.993872625043636, 78.27073599451342, 22.511955940036636, 45.73519965247746, 81.16589005331137, 56.707554511620486, 68.38637767353829, 54.46805296083788, -16.83651391676308, 34.85555534887133, 48.46455023174748, 70.57684182234294, 77.69339289608246, 79.99141747051014, 69.16593252447022, 14.639767116964592, 24.98781411311689, 64.06225661451656, 1.2961046840245807, 79.3929943337772, 89.2761104192539, -2.4348256848609786, -15.793413874249316, 66.49825756204618, -2.0351678076573165, 23.039993045752787, 73.88957790648219, -10.411073985356118, 99.03469500466713, 61.46823492920531, 2.456780393680095, 83.96299240267592, -19.617048396585574, -12.468905323606524, 77.4080908854671, 81.73580863323046, 90.10113714701743, 63.66961686731797, 67.44148461959361, -5.86520625633888, 92.27947586677584, 58.534267513454, 41.85517470567762, 19.826552298967314, 3.0263089451119676, 96.24882213712287, 74.58103282528928, 13.72513721376086, -6.3815731991663185, -8.622074274721507, 51.7518488089903, 84.94218466899217, 62.3180345413662, 97.91432825620625, 94.16016218400635, 94.47156600656707, 7.907361841012857, 47.59008903662948, 87.13155728316576, 79.45965940131671, 89.97671924926637, -13.3961520771435, 35.75232793551419, 16.934480608400676, 56.97930273461438, 1.589933749624489, -5.450301509038887, 49.278092756236475, 67.07819179215252, 90.13705981549735, -14.049685451264065, 80.10273850142461, 63.95727845042154, 60.76067940365958, 15.036520043023238, 46.74661663511523, 76.8182448828369, 12.532103496382547, 91.09653265277936, -18.846185260230964, 28.039071557405407, 87.56125940515443, 50.48036396256843, 43.936544024669494, -3.6309017856823864, -1.973919863037949, 43.95894377837847, 47.0559203925513, 99.25054464517406, 72.23961193805525, 69.33800840312131, -16.21704983332537, 60.246264491549354, 86.29127421946212, 30.587107041172423, 81.87161330361282, 27.70961881681916, 72.25096867936666, 95.16650701265692, 56.56955470292259, 3.39720859548234, 47.975069692210965, 91.70884476226314, -9.027343990628104, 34.91637116129987, 36.79533649291845, -19.273882475410325, 93.457836726045, 71.4467874996166, -13.61089331901104, 73.81714728950232, 69.9230546931404, 30.854258613050746, -0.5192221898537888, -3.204922905587683, 68.21025519349116, 78.46204813051972, -10.140833457839232, 95.81372612781202, 95.28061970254917, 1.866104931303461, 61.64946423015972, 38.95856647809292, 17.4402108258462, 15.13298844207597, 66.51623165157626, 2.335376790830402, 82.36815252336602, 76.22555765190234, 52.116442907758184, 1.7994261109364729, 84.58128708455202, 12.94158692705733, 96.00677202462916, 94.98802181047402, -1.5312684653269457, 93.44151562299119, -8.786348044313726, 9.112260102713734, 67.19781837446052, -1.0606191752141747, 98.944288751724, 96.44141077882593, 59.145184498453744, 75.21845974827744, 88.70922827106797, 88.35422690718698, 57.128917185558976, 22.938491260813066, 6.7284405631445665, -9.518055599269598, 59.718102734850504, 18.409647917161976, 4.472085800085498, 28.68422677198091, 76.14586689118845, -16.465685465677588, 94.67481872133057, -7.100592592443098, 91.43640845274928, 63.83219283157902, 92.89567663331323, 36.54157608607319, 56.43825354660662, 58.27333912914429, 71.34101901772289, 57.394664832808346, 71.42702115480303, 73.44162255139676, 5.1893159518682985, -10.647660004800542, 18.880955151702736, 65.21882653409193, 0.5320279668337733, 93.20846530202789, 66.74264896102149, 59.91113280923804, 23.320009172875366, -3.9216163516845626, 37.65953794765964, 88.09759072565996, 79.74262858103297, 4.821243021898518, 3.5304728957774216, 48.46958054363489, 8.009740534320066, 25.492656955478402, 67.40198008485113, 80.77261759659007, 74.70404843188304, 67.59878316303137, 62.397857535769546, 31.39824628370065, 99.1790804838438, 66.80242883450217, -17.384360191663436, 30.755258099483214, 59.656646018233005, 46.86703483574759, 7.4059933159973745, 10.679182759890967, -11.174674942680024, 71.7372006864901, 26.001457169253534, 70.4959380869241, 16.69466897022049, -11.315752518845507, 65.53307436742993, -4.904532199197803, 47.945062801156226, -18.869905210146026, 88.0889021165554, 84.0145518857354, -1.0846846060867854, 89.36397963645081, 16.101475485614017, -17.142020823315242, 82.49774593780926, 59.907197879960506, 40.9945711493129, 81.50763690504344, 53.46820075019285, -5.080504148534084, 10.71194355128743, -18.246528940334432, 22.96937906488904, 67.66277340819013, -7.401355659435019, 48.07059832758338, 97.77416473768663, 92.30351031250709, 65.4569738167927, -3.4876289518814296, -8.285785410155796, 85.72429594133817, 16.73615604237048, -4.605667113908151, 12.514070928355203, 27.355667128883027, 90.41301010737818, 90.56490368436963, 63.01368452912948, 39.936978459930394, 48.06208738735418, 99.85741755816859, 78.1923781705076, 99.3863863530011, 89.53093464111586, 3.89656207141174, 93.93549475430098, 49.20628078582364, 37.531414796508315, -9.01026652667225, 67.79682917020199, 9.788083690052417, 10.360615695599343, 5.893816865705709, 64.37635830652407, 18.78471542445226, 84.01160966659502, 38.942035617837156, -10.408294668317284, 28.946480319487975, 25.90656357732408, 56.05005083050119, 53.708104364386145, 22.120363724122164, -5.25321758470831, 2.9403493454457106, 38.76575273102119, 70.69083123514585, 54.177714638456095, 83.2148629257356, 66.23904032448627, 35.79754997985517, -3.955694651162993, 26.096942996218417, 38.51498334208832, -11.001202401820809, 81.07143542691888, 5.13286632960158, -13.37977746830855, 48.31139206280287, 40.63825105073109, 5.593109865014764, 20.77634253609437, 78.46188521679936, 72.95864351609097, 45.90224343382003, 6.310790513755062, -10.97435796320723, 88.74877531367461, 58.06968869526192, 6.260905254260297, 45.55536458909465, 33.40575668072192, -3.0135820627649856, 42.78317168681979, 54.51506974985756, 62.29560804346319, 96.63745443835808, 98.61388195740918, 83.10936367296284, 46.631769793997876, 32.85778220246859, -18.45095902000843, 47.07180825910551, 27.567336286457873, 92.69058254306121, -0.19369042383489443, -9.660754485116456, 40.487337263249216, 68.46318957218767, 66.94960187745596, 22.49370248318705, 41.38088715388825, -10.752030789817049, 66.82656909458065, 41.83293024859295, 99.00723865209598, 11.296510165287991, 78.29528807057896, 11.428866818394972, -5.074779754308221, 78.08868263447852, 21.458022271553936, 68.96708623571539, 89.5066018190565, 39.19469173720057, 89.65569319835603, 9.564919280678389, 79.27090773807075, 43.57144613954776, 39.4248184206515, 46.269545636022926, 90.88099591828792, 56.26975640548969, 28.211613375767286, 90.84358133604883, 7.663087142558819, 84.45892971376819, 14.61705235035852, 95.37636167384895, -8.66799155523443, 68.30951075814416, 55.878737973779195, 64.98267879831748, 26.28824547757158, -16.84366851712689, 77.38288481377454, 93.73229952925104, 29.108132714527592, 51.43707496653104, -12.654845831494521, 83.70897356903698, 76.17034861502577, 67.53766189507616, 7.8084061435969545, 27.896321240153384, 51.075308408669315, 54.09356149688594, -11.078715138195673, 38.40717842544589, 64.11245967976616, -2.415139477833229, 24.371786324692806, 25.74850439707201, 35.418180346882664, 74.58719087164172, -7.527107126670343, 52.40251569112972, 57.10927049464087, 88.38047501708357, 66.92999643970394, 37.39180412792878, 92.06941303825488, 49.60331931096901, 92.50012873240964, 65.31084507494485, -9.344720579012034, 8.542187882908099, 80.3685413393416, 88.5893664940431, 33.003574751174085, 3.1423587725808524, 96.46695471810811, 0.575427451589583, 8.193890139214265, -12.734338222300913, 54.8985084839009, 77.3983428549922, 39.91038284338083, 52.9601496581009, 86.82552039436477, 0.7443382689110081, -6.221407177774063, 99.47615078955774, 90.25001054227243, 46.02632806666254, 17.76435571193332, 97.16530642199113, -4.260639858484879, 33.18316487165867, 40.90976996581485, 96.49953063866111, 25.747311896838, 18.399690371141418, 38.15260656041346, -17.80748767187064, 31.06766505548682, -6.271756374508959, 24.22348833222985, 11.749941613165799, 99.65922896970507, 78.63927103792517, 84.19000430889656, -13.118228294013772, -1.05918212792794, 82.5852694138501, 78.05520700558384, -9.576139056669103, -16.019834136317023, 8.403044930004967, -12.332761171560428, 64.33304613175277, 7.271094003191699, 58.04397373300604, 14.238844044744496, 90.0642295187187, 99.65944697872422, 91.8778467840613, 31.966084917841513, 91.15862859705378, 25.16117757252254, 95.32029487757042, 51.03311183073497, 2.9126557848869865, 48.42048878762367, -18.03325898185012, -10.312054351678906, 92.68186590107807, 15.60796634090378, 88.6166082162254, -14.560295558157016, 55.584514865874695, 6.353012279272928, 47.091174935618994, 9.782825611252814, 42.71594158884139, 72.43310993316516, 59.0623110381087, -9.831658993010514, 44.21590471999019, 3.8168203373829854, 80.78304420984215, 33.925342254006026, 11.718770524564896, 65.58885868183235, -8.844121779854284, 75.58748844145119, 33.77411810100581, 32.240318284152316, 16.746199448815773, 59.24466006246561, 23.44354817806383, -9.183795875926549, -14.632687954056687, 41.53260086543196, 78.79594647849387, 72.61845311916954, 58.22143942943927, 53.6133042435835, 33.7663321262894, 50.08138970454945, -10.801722941128688, 6.014877058754621, 2.0014759116059437, 8.192171733799753, 73.32966677674598, 47.04539813322525, 74.18727607282699, 42.24508253532009, 28.271569953674742, 26.73374443606322, 43.61528092454814, 78.51103447365497, 98.12146370112922, 94.05105747377922, 92.9862809367044, -18.44619607608052, 67.48277184548871, 50.535042106660995, 86.35375328911911, 52.9007012174215, 13.413773794631936, 90.85583679482288, 69.52337808123123, 58.27498817652612, 58.95918890242811, 26.54362930191396, -0.8633739194463352, 99.25985844729593, -1.649187632939082, 42.49252078762186, 4.973113915427891, 93.8493432826955, -6.748588107122103, 2.9823249213453096, 25.159726573122164, 60.403582703823304, 93.81740800226683, 50.83897091866662, -17.500985826595684, 68.08492693629957, -18.948298331398206, 4.985029642250854, 46.99694667395235, 15.960373761978339, 74.73745045101917, 41.521337439233164, -7.925919799158297, 51.4885801233859, -12.754694279348024, -2.129711230174344, 78.16988922451412, 93.9712239669876, 5.487399901949765, 83.61704966337889, 39.59253312929805, 34.3551505774765, 62.98359369419636, 3.437285875354906, 70.85209202960527, 21.508825221405317, 10.265692769933676, 7.2741470099438, 60.4834679145259, 22.44611233975065, 85.11030499310137, 7.97429113827414, -9.49094045837131, 38.69221833950049, 12.518469727608974, 62.990929763895195, -11.07881437950375, 48.57704046029299, 29.36384348576545, 18.789255777155283, 99.85190127685742, 64.78102928840008, 77.41528091756878, 36.59330108763819, 71.01000080137818, -17.037813512994553, -6.753888574314795, 3.948137322897665, -11.14789276487862, 87.81698525430173, -0.7802017151025282, 35.99960699082464, -19.367784004552355, 88.98024518329011, 79.96625998512847, 25.303303839243355, 58.79639558482859, 15.283505167904906, 3.778828474494521, 60.809213368814056, 9.956048926769174, 81.0981945230262, 58.01154092735736, -3.412263071056074, 91.82605893889925, 55.37125730640999, 43.704057911062485, -13.513071173641048, 71.51252638165069, 92.71879499310539, -13.193714651921571, 90.05728337200031, 50.75744621189925, 89.17784914019984, -18.00519816425382, 54.22778606271048, 29.81818130748242, 60.889337554662475, 59.98298908685517, 4.893078126127616, 1.706144078355841, -19.267068613085435, 1.555753909675719, 20.34013593359532, 47.407979894345985, -16.059968104985337, 31.513932715657717, 81.56851131067006, 18.624839802801006, 80.5281556940726, 44.907111881656334, 66.83261212827242, 75.50294587726421, -2.96189868405952, 58.959743688708215, -16.47790193510521, 75.04129680521791, 78.38987607131939, 62.78628642225608, 45.42375604957962, 33.57701416618812, 39.99878860736701, 63.20739717112778, 18.07719277627382, 89.30652726007571, 46.84976336976095, 99.58312235601667, 67.14996999961517, 22.612460357931212, 30.73783000673921, 17.35116439697439, 75.62538339679801, -19.472057122598496, 7.673043722087641, 28.925281515391546, 52.006880464681714, 88.85492662808159, 41.99841452145479, 18.076811040869963, 38.510935516933564, 15.613021306879318, -19.41275341127643, -2.2026196818212718, 44.51490568683076, 23.038448319402725, 32.93478290807343, -14.776441894153018, 74.56325612806445, 6.884895792735492, 97.29012389510073, 97.4555831216667, 43.933328396672465, 55.35378611787047, 8.031882935505067, 44.40433379601039, 35.21881811341246, 7.829416793624858, 95.34175088612544, 44.400678242086116, 17.311610754323652, 14.554929394036947, 28.464979702897757, 30.06009242677132, 26.973055300150925, 24.626018625597837, 88.1158718080104, 25.04854715956119, 26.21903852267483, 26.035102103319666, 91.15393732400663, 65.04794975025969, 97.34776528485217, 52.230556973103745, 94.01411705081895, 98.74586055722506, 0.6431313218766377, 79.44942255994593, 18.596945235407688, 52.06737772137238, 64.46803458674259, 99.48881497873461, 75.58748649022235, 9.295118678769963, 19.24426407271777, 74.03887986761417, 59.5148264868123, 87.04349276119774, 40.572047623003876, 80.07989284798772, -10.837705034641791, 51.522042904580076, 88.60803868994523, 67.46418460437543, 54.618938737707836, 75.96527281998085, 94.54142793812439, 81.16263067198996, 63.93862195890881, 0.3015939679235231, 93.28890145025954, 1.9173544511355942, 97.96923985189312, 95.77880536643048, 16.013478345286643, 25.59400726327334, -2.9443498599624007, -3.401689732431194, 27.798425433391515, 88.0168542189804, 29.401082324584124, 75.56692132156904, 27.804181530555717, 79.45959948514025, -1.358365383240038, 57.91078174348036, 86.43173309479371, 2.299201341168473, 30.216098849614028, 88.49094107600799, 53.38905048542962, -18.904482448751978, 92.11244813589794, 94.07516354499798, 94.84387216878515, 62.365267540514225, 76.21601492106886, -15.1031379275341, -8.506110697063956, 69.5758891533205, 33.22324387109009, 63.54842097477905, 73.2775090775031, 81.7320792362503, 45.39539031376012, 87.61953309258428, -0.4188903104625794, 85.6807513052137, 34.18071102775761, -6.173387046679824, 86.96514454195903, 66.0842819733778, 62.982825367291184, 84.11828929711677, 80.49258303613306, 76.01578856233242, 38.6654027310397, -0.9890518985308958, 33.51711983103336, 49.923407758573475, 89.69983746796767, -18.123561342795472, 36.72810133623595, 85.21289944322794, -13.048040449472778, 13.45159787161436, -11.035112414874177, 85.16909548869236, 78.87975375836587, 24.71782728387788, 99.43363054577316, 51.71068922095144, 45.64076385781755, 46.97739668044325, 77.18361990759863, 54.56720565843392, 38.74725228278622, 31.523237332573267, 71.67192030301534, 41.482290845048894, 64.35841502098307, 33.04550200564483, 55.8990582949252, 86.16217350473579, 11.719117902677347, 7.3488925000256415, 83.73732244928244, 34.75204890683645, 48.80289263098429, 44.21455700829783, 25.260350276832654, 93.96217926409194, 27.942610967073207, 1.4555661246100584, -6.889372277028137, 18.06275599155856, 14.75450194546849, 48.01837810882765, 51.315831580628725, 49.2682060749416, 48.248305825365534, 53.339335509402545, 57.82044483269857, -11.13265790317088, 30.10603575602979, 24.219950651959017, 21.260167724367555, 88.33240341770403, 35.15282947321248, 79.43386582073431, 28.18511230254572, 18.157423412496705, 55.40576303782612, 21.999728098243565, 8.511044979757717, 3.79089664573765, 29.182598932944394, 91.39691829735945, 59.144937150452435, 90.28224639861182, 19.133536472946574, 23.608993198049212, 21.633684159271546, 82.8240365252147, -15.815794179114286, 20.365342058177795, 33.682062757034174, 11.570361370468628, -9.146371066274344, 16.971265754576706, 51.56005735974084, 62.48559740082223, 38.77814499374, 90.98130156827901, 33.878385178466665, 91.85228180771307, -8.412848479045314, 76.85421451708751, -10.737802545848577, 37.53295180558081, 21.686224771581713, 26.770290473709593, 83.56746063582125, 22.594502272633093, 20.81542419860157, -0.9670976458687477, 64.75321612495439, -0.4803801118361335, 75.54725502757343, 22.89565139679201, 41.93439904622625, 29.716033335707955, 83.39869940516638, -0.06833943251118768, 32.42278344299755, 79.62721587869954, 36.56563673908594, 46.97859736841656, 81.75442348059113, 3.5950830018758175, 64.83065254801691, 94.17833442189418, 38.26912382095963, 66.57724872432799, 40.56204216498611, 21.485668563464174, 16.288144993473267, 97.99526546106928, -2.036043481253003, 94.75645625060338, 11.875440027337099, 26.619943221392795, -7.678248151363869, 82.70787688677382, 15.316125177102215, 58.212822942868456, -3.5270513524776135, 6.730650773673762, 62.78421166126202, 78.33309458797024, -4.224469489510568, 76.85788397952005, 79.89196350285833, -8.9835276738946, 80.74013083846157, 29.630000338568728, -8.990040692870526, 25.22388079641452, 22.680023750912184, 58.618575173245674, 59.58069708229914, 31.75729301622256, 38.11864811945255, 50.92984537867544, -15.66233379861291, 99.1339942115795, 45.399669304536104, -15.579016266243153, 2.1378277122822134, 38.6622629124029, 15.083304655438788, 41.98587478190935, 77.8225425456256, 43.88343294908064, 42.14784926727292, 64.35372333132861, 13.291422047351872, 16.69108037235484, 52.90575783714749, 16.29634122279434, 39.612073506652024, 53.02793320775703, 66.08616026064342, 80.17005069109595, -13.936275901636034, 9.405709169253914, -0.5041138515619146, 83.42663925002266, 6.3735735382525505, 26.19287305246965, 21.566562796105913, 49.87240676182223, 15.406455976008651, 2.0109296938890893, -11.862185928099347, 35.890250939180156, 69.53368712676055, 10.184346921404863, -16.580107161478402, 24.063279660199562, 23.302065209009236, 45.23201470921376, -7.000553767216289, 67.72676985684375, 28.43360949890223, 34.26473605327628, 17.95252854686845, -8.396290546405002, -0.9816072376909517, 21.15649317209035, -9.524097770952196, 85.92277197577559, 42.80686028053486, -5.133627254061643, -4.524051359806073, -18.879213718164177, 59.58529420893123, 71.89900881317503, -1.2244347380219978, 72.86554361884419, 95.35267827726024, -15.215918683854017, 25.908789632592082, 13.371979455266498, 48.43641104123833, -6.023437591897945, 10.694639353335972, 1.7961119298252193, 57.29394049922439, 39.45286131175267, 83.20492195034034, 68.33572654084456, 38.74962255299502, 19.79255405556524, -4.862490040483287, 27.942655843784117, 47.87259716947683, 8.746435216979272, -13.365750380524428, 75.92239393806037, 26.207444134623337, 37.188916677884684, 94.32355934699955, 50.72544893082777, 65.97461855858629, 77.0769749888814, 43.55749991466499, 78.61327154152161, 53.57568511248924, 11.69716944755077, 57.72319132136289, -12.229757747866703, 44.64473377846846, 44.21355224127282, 49.623900110840026, 83.13762904123644, 8.468833858689667, 57.560312244871895, -1.2543277506622488, 28.95412398682617, 6.807130093283213, 75.81206904488408, 99.81689464163104, -18.319184535072136, 31.587736103211945, 85.87362674133449, 33.81793786140279, 10.24424027097345, 40.77231948388182, 34.99059399596214, 30.581692173366186, 19.14914314465691, 75.36026708199998, -16.386682387422486, 45.960265955531554, 70.8531558739144, 6.651985682233452, 7.490743522224491, 6.256823154426087, 42.08639300675407, 73.53721924499632, -17.181287883247492, 57.73134266794965, 72.4806987691107, 98.21722023793987, 94.28688389425713, -8.224310592270093, 93.71289320973267, 8.58089681699369, 73.09518406809487, 69.79926606513264, -0.6414134681231616, 19.46408382915996, 30.487315568263988, 27.5286630695621, 34.13397083071726, 91.62802359698941, -4.671956267940715, 45.45763776122929, 92.44614031906318, 10.101873310389532, -17.41484076294708, 82.19013585991034, 2.433028438874377, 7.139176974700764, 53.62411076887943, 60.66938377002653, -11.574128013871526, -4.973112870238353, 66.99654083940463, 26.39146838277145, 39.99857458815468, 90.3537158187843, 61.59528662457659, 83.43054181808373, -13.51052931189692, 32.86770035647822, 23.988879302310153, -19.219442067880955, -16.341310290468037, -1.2548778558937101, 25.076698994529863, 51.56298435112387, 52.660180891695745, 33.78023104322236, 28.737976025117213, 64.21669748315422, 80.17724268747352, -15.980146346482949, 80.20062805863932, 87.67350242341071, 40.93120941072128, -14.976075724869116, 99.65310891135506, 92.00517823658916, 25.310754126866463, -4.269733716385616, 73.69135264184993, 74.99710968788668, 77.1419713514717, 6.9222180144155665, 92.62297625895272, 31.33920915791544, 9.050602418979992, -19.749679567451732, 19.82997698905278, 24.52887282469205, -15.947269083256156, -0.44793884480980495, 80.18194928422886, 95.33711980322832, 70.5874974855435, 4.726234612910748, 32.83155684701187, 41.21614236019956, -17.41600398910292, 75.26548720040883, 1.4678982766893114, 84.40263108493185, 75.70364135624152, 81.31718791354969, 3.8748626052377944, 35.88259662455081, -1.527055915527317, 46.37063539442289, 22.602875037553254, -7.236596113150435, 78.81340358123933, 69.24478123706969, 94.80517466095075, 17.762165622836427, 64.94061468725857, -6.685160700958054, 6.121078917495719, 26.97358408286633, 57.80661915610919, 74.74990308729214, 64.77962828342896, -18.25014452128668, 84.5190028879284, 93.04101329256012, 55.43591478741911, 85.81610325885204, 37.13188457128496, 92.34628348755639, 95.69707964593366, 74.84577585492994, -8.950236438542643, 41.192861406175794, 47.865882625124996, -11.4049218340848, 5.806444149595698, 92.52059535168884, 79.67087540268035, 75.87515873119249, 37.42155202708716, 82.73907676302184, 95.51078808569032, -18.530532475520186, -9.507771536899213, 34.41417089347524, 63.02376216046605, 41.25133861940955, -3.6640235445601554, 34.28504427206809, 49.700284428940336, 26.24728879579324, 84.8424099462849, -13.96835889302547, 49.499506093927124, 3.2394189694566258, 21.814457701179705, 36.072599044919905, -4.06941158226077, 94.62524527235387, 47.2497771338214, 19.347385106459242, 46.90978402036163, 59.40156646257648, 4.002692904616545, -0.1122985612355798, 91.6674456871375, 63.14355470778753, 48.034753753033016, 41.34500321870234, 44.0095656857995, -2.8797078810003782, -12.614788521635667, -7.910602171398665, -12.292387550202939, 6.566244260912196, 88.90068664049306, 64.69576942510247, -14.296442772202106, 68.54294273268347, 46.48437046820055, 82.5159008226784, 41.22925464934174, 32.03927411828615, 63.919565996234496, 81.41251792211452, 61.74934568846574, 55.279296419207384, 23.484603623205466, -6.144128029999489, 45.06941658313161, 82.74860764526147, 65.15503560868228, 3.2258430970643417, 51.38127936658644, 89.42089466801234, 75.73698070826973, 86.0526208074911, 21.670277679332777, 89.18577245931823, 65.88514074491394, 9.972921905953967, 96.08666593623502, 49.56370401175032, -17.022447324961828, 52.05967794805248, -13.044545510751178, 94.18765164919267, 67.99587690020572, 33.25981626565018, 76.1967126856358, 26.496365285559953, -2.179916066169426, -11.530120758472503, 1.1897367657965745, 67.69756771856439, 52.80026210747023, 55.06259090286312, -9.614818772383863, 97.9291180005331, 83.02563691961947, 74.35707137132894, -1.2209239181700653, -16.174662195765922, 68.50698539797567, 90.88260205836629, 42.177103336919416, 55.02831446283439, 74.4121187955966, 79.9685702431117, 82.43806666856291, 88.11492409378164, -15.414889321035812, 29.970766275768213, 56.8121525326612, 40.68697772226946, 1.4679981225099752, 60.81599861274749, 88.26750203132868, 15.670763758457731, 44.98390435551977, 86.98524776989092, 85.13066464334742, -11.487565789151994, 79.0682290262677, 44.83488883159228, -14.990391402755519, 93.81460238424597, 22.859834760025798, 4.259342005688303, -3.0920737198892425, 76.09184026769591, 65.55018672056491, 13.125650996955194, 87.61384772385193, 74.98877524935382, 99.50690592102751, 96.98544400911575, 6.308545886372286, 99.24708901348419, 27.68426358233088, -13.775285769886874, 6.441754054127003, 12.828026170615871, 96.32402095919088, 44.20083295289143, -5.184442353080305, -12.23859655551291, -9.45380635368663, 63.92798045826278, 57.76682621660942, 6.814274446498679, -3.94816622260846, 93.43255482998244, 56.38202599286609, 32.7832202166344, 33.637324656931355, 58.2267865899385, 98.95728171592779, 63.41857291027057, 57.01205568653354, 52.87274918176634, -3.3966683211479065, 67.91787281037739, 11.744953415786487, 77.71177432797231, 18.830949158836766, 39.81023216743648, 35.757800023443956, 29.26914756337809, 94.34310707887893, 4.842840053366796, 73.51383188209755, 24.869663806797547, 15.966673605946312, 9.317321930299713, 88.16141310377635, 9.930059135237567, -7.573206042813453, 98.5351374930702, 4.0831966589028745, 35.76894742809038, 60.5536956349429, 35.302872754891766, 94.4239269983294, 23.754595611715047, 88.56541155976025, 24.445180391695395, -13.635074940199594, 98.8484487168796, -13.45465517498155, -5.617434182075112, 33.73402929987656, 91.89493057182973, 61.32053130008268, -4.023342999187701, 48.2405037051129, 99.50564905065198, 14.22525889022986, 37.00738861624344, 73.87608677529923, 65.24676969303856, -6.030426265028215, 18.959605271523337, 30.682119468607368, 92.88735938608806, 31.751115493668102, 90.78451213522182, 77.53993946468101, 20.31966395675299, 58.46707590634351, 77.01641087796524, 25.579843502541586, 53.74071606199993, 66.87316824981318, 61.15239217761551, 2.7570112101453503, 1.7477715874034594, 3.285453547250196, 91.13980742140436, 1.2053962483220246, -11.823416468894052, 83.81882155624302, 78.88395928378581, 5.088682219553895, -13.70754857028803, 18.104623991432952, 23.940061545308154, 80.84706081617215, 63.23155698398081, -17.997670901408416, 33.410495567671944, 21.944945428895252, 93.0568274097924, 18.56363027031295, 51.52078088609656, 36.830388541247615, 26.082667635374506, 60.515808646243784, 64.64651422896594, -1.9575655920635135, 91.19872214435216, -4.974858374782443, -1.8392929869124188, 51.2784468858199, 46.81444938376552, 10.37923169534373, -11.061802598712095, 61.27584752182133, 15.271847358198592, 52.50923112776283, 77.71387845400575, 14.566599648629953, 69.15460908980164, -5.789285683172265, 45.57140352530128, 24.88250387848025, -14.438408093903949, 14.580462286430588, 91.6778797063612, -3.8080646672778897, 67.35624980771158, 37.56095286153689, -3.197896561249088, 15.961760584265107, 84.67934415965374, 41.08908641788848, -5.411205534761612, 19.02570316857728, -18.435145801230615, 18.681081640109056, 56.164771987623496, 85.11564910451268, 19.037463517691585, 28.302010554981322, 75.27875065628506, 15.016160543055605, 37.44706943129107, 29.707215154332275, -5.574085175866376, 44.38374843001455, 95.80968029651639, 49.071024485189156, 60.12791605652092, 38.7677566165364, 80.10031429408876, 74.41100137842747, 93.05047147924371, 75.69712355343133, 52.1900706561744, -10.5095796622492, 78.51208766688971, 18.277707573704724, 34.46616961839338, 98.11258624205038, 59.56059631420284, 99.01995541403122, 6.412069529610665, 7.558633342669431, 94.47702292082052, 44.927391075753945, -10.069010696637196, 20.076076871888716, 70.21904359687622, 87.74984488404874, 74.61202020957587, 16.871392038047794, 26.22439924517031, 78.01507579060552, 54.0806806760711, 90.3457768004046, 16.319968825671587, 67.82635195634528, 93.39760511400561, 9.535264091442308, 32.206720986647404, 55.50012215585052, 28.12787095583454, -8.879514234771037, 22.69368139313194, 15.205227857036768, 1.0763650474916453, -8.256334239550863, 67.80237742478371, -6.875187353699182, 58.21394720624431, 46.160374698032115, 40.921421060983775, 51.69270907840915, 92.05294302183856, 20.508014089634514, 97.97854243273503, 6.036014593124641, 53.73865815292896, 37.31904223096252, -3.975385401022482, 49.93670811222637, -15.3328885655583, 38.59194304635707, -4.7669767400776575, 52.927089995002945, 68.60658391723965, 83.02091771239154, 17.83190598822685, 96.59968545724635, 12.09221407174904, 0.5070335282081047, 96.79087213701014, 43.49120655631764, -9.345233172972126, 82.91192118436337, 41.072748233059684, 17.335980990854637, 7.336070166602635, 61.252106310879356, 64.64296573085367, 33.79157291308629, -1.1010786679789817, -13.398945970601726, 98.68113767640946, 94.9721019566287, 46.56269061831178, 35.41114153105272, 72.33108844097134, -10.693416162535678, 62.34305145714319, -12.892545391728095, -9.639406486793028, -9.929954627791307, -13.34029494904792, 93.21698435318731, 2.8644359831124646, 27.395474889955025, 83.11141653732639, -9.944170700476809, 88.33171047686145, 12.123851283593446, 20.72117909617193, 81.60410057341288, 45.130612751226565, 70.88940833313845, 43.47845370710078, 1.0431284050835217, 59.273208497656526, -13.692494996350696, 9.588375024510558, 5.042313195756478, 88.15732424356263, 43.16847109820851, 4.3522938214245315, 27.811320856975655, 57.86972478514491, 10.50514120551895, -17.00942092780556, 91.87860376261212, -5.014241394679072, 48.24971904866055, 37.34701944187159, 19.207389504833834, -2.665139018751095, 49.68286741713338, 99.45325596027548, -14.710481449782836, -18.876929622169982, 85.3110091695181, 27.182151867069145, 4.738869300061353, 42.78698410289099, -0.915991311159388, 12.385755431429487, 62.67654801262364, 50.76410098823007, 10.544684741418028, 21.94362698142274, 17.13991324099591, 71.25230693760014, 42.06549383904613, 1.637495628953019, -1.7991703473529306, 67.29049378977376, 70.07801144933691, 88.4038701402998, 77.54455048970752, 71.88685565090222, 7.044275898537368, 8.559974761220467, 52.771797210776455, 46.217668938595025, 93.21012994960111, 3.2938673751380065, 54.5229729152999, 37.57653551278339, 78.12655289451676, -14.92747400729285, -12.212128542858549, 0.9848412692784869, 68.25150339643181, -2.8502200535407987, 2.9225023271795934, 16.062173251546042, 29.2084246264655, 32.328437086930386, -13.349664844448927, 1.2360040702938413, 46.84190425729376, 99.23094065156977, 77.32248629464083, 91.24545210527532, -10.68552161399515, 85.88023261730457, 95.06866963442197, 80.65734414533395, 90.67697325544421, 64.7849343079028, 35.84194852274059, 90.65554574061818, 11.563381523671012, 66.03954022696573, 6.241344281525869, 51.62494813890309, 30.880164939967983, 8.276391396454091, 57.088477589630955, -0.8615301704808473, 21.801676891934186, 83.90918215273071, 79.85406146946663, -6.210389352041862, 45.537085500036895, 75.7755450808015, 53.27571080364656, 78.01619532719924, 18.72809040178639, 66.58230816999531, 95.05250170239681, 0.26333526238495963, 85.44156600857508, 11.311575278151032, 67.31328771406967, -5.466085050908758, 79.36281486547676, 53.41340516521011, 9.16744703062816, 51.97178658812578, 7.699321578174484, 2.30659145462619, 84.97306062501632, 23.417506448923753, 92.09612542979349, 24.061707966858982, -5.838038198299191, -18.33736716739493, -17.916784584228083, 15.691600867081242, -0.8483170258541186, 23.740385445004534, 94.41155328743655, 36.59041315319767, 99.56298098246182, -15.007687934272331, 17.576529090487398, 79.92005730849804, 74.0567125308802, 10.84744609574711, 94.05104028942753, -4.328314526019717, -0.4345007636097087, 21.105253480972316, 24.553668899271266, 68.67330702736595, 70.46100028374303, 58.52721437886616, -6.047250579409539, 28.913949869375102, 6.732742153139956, 36.254250705803955, 57.563230492066495, 30.90202078827496, 14.637661642479863, 52.45656803618496, -17.851160131348053, 94.74656286786744, 89.95920060544061, 24.147688050516493, 40.50599015880603, 62.99338522148862, 50.966192586653875, 28.62892920017218, 0.9547345539248013, 37.365386980029996, 6.941535958857386, 94.58960213749148, 44.75619208442744, 46.26262418426083, -12.045669247103898, 27.120308397965076, 53.87576844663053, 61.98604748198062, 21.370992386716388, 4.527100016893257, -11.94853644808127, 2.5261600129782664, -13.603882278088179, 68.28198089135529, 88.72337726837908, 61.954741937370585, -7.168233780373821, 11.738589761945796, 8.7084703591565, 28.448156060946452, 93.83897577914652, 40.466621314810936, 73.11021295774106, 22.833319298356656, 89.30781889172307, 74.66173298667003, 53.17697333295102, 71.21859620936281, 60.23984516507531, 71.1060710982788, 45.01027174809005, 98.2157734489394, -16.303237636408472, 40.11191907095743, 11.15438042353524, 52.3964310068874, 46.28961659867011, -3.575268088556104, 4.1473619813206355, 21.29967796003784, 74.59596106410629, 64.90719051423963, 60.893267746521644, 37.14493313417137, -5.000010197622, 74.58907864226138, 23.14544835548756, -2.0841903102981476, 34.8257940776318, 63.947293026750856, 77.38271649336976, 86.22363462254626, 20.136942888134342, 41.624288515914955, 29.103242568999278, -7.546147343165174, -19.826954939491166, 9.748158104892205, 27.231118148032827, 16.479373088199893, 28.128149569953344, -13.395623434919184, -4.676691250818914, -10.532051302417639, 75.41491814161583, 32.8864962650314, 28.94136498592262, 45.078825158040246, 48.02365500799365, 49.18169387592239, 55.40464719396856, 94.74897897553016, 35.878561126216425, 5.957282148666163, 71.9244306671176, -8.05041977079159, 12.710857785976593, 10.597348685826582, 83.53108798132583, 51.89288518022735, 87.62379019066691, 33.64761373667426, 62.262480992553066, 54.177249447371764, 4.828709479803663, 13.956111538150985, 32.818834622200384, 61.258596697998655, 1.1664942810893528, -6.08274469470048, 66.34086273029149, 27.59688071278785, 62.224726530499396, 54.92322579260917, 5.548824262053369, 76.58986404033584, 44.531697153305274, 43.12869453344459, 89.05347812332944, 49.80563684527553, 24.847818920003604, 75.69443608168339, 22.560394399145935, 91.80969565929904, 82.0965192587003, 82.27721558900458, -16.964146984438276, 36.282482134278055, -4.383740735781988, 10.325097628220693, 0.3473096198774357, 31.838027610480538, -11.072701936965643, 57.2241167537731, 79.55038142247466, 42.95390943110685, 6.654114101641518, 19.214574264331567, 91.2785767982796, 17.918683213830413, 57.31205665860752, 51.80165962405992, 1.965253800369414, 95.45753534185654, 60.37320208229772, 47.694439001253684, 47.82709421834926, 21.99004496695926, 32.906052374217836, 35.820668805892225, -17.620963377942083, 12.41951601327714, 88.78858526231333, 94.0532931699204, 58.03422717212068, 34.55180786259894, 28.47574208847945, -3.440132641716648, 57.77897325056105, 64.73116823838212, -4.994140150164622, 30.73842256724832, 73.91589991869463, 48.34362532810327, 93.1754558782651, -17.73975085307107, -17.64469489731832, 56.92407840127366, 81.88670908223256, -4.361715886739246, 61.83150200055613, 7.395040608835856, -16.31398194262204, -18.246090405995055, 12.938755595151925, -11.355995015138575, -18.406724845789594, 30.209976011898455, 63.966491643863804, 49.101336979425085, 58.25586960930984, 7.083589900577568, 76.93799184848235, 28.843328513638127, 1.0574197071976563, 19.911605633220432, 89.87646676398045, 83.98734969197106, 87.1107297462538, 73.77795512181042, 49.936684955025, 72.15788914628367, 33.60832064088451, 79.85446529716083, 78.24831187061943, 27.137182773499, 62.67030070510032, -5.1640185782466155, 43.060771744198675, 12.22883928523305, 66.59666521473703, -17.977930366873437, 65.22846094992727, 5.261970356442379, 12.377885998894705, 39.70063919701171, 4.619838488574398, 82.73996729610587, 42.39890157209587, 19.35303768101911, -1.1615946646484723, 42.8199850129359, 27.146556001335, -8.673756530452724, 39.237877521246105, 14.705508019673125, 97.67746013765614, 77.40585520622588, -9.705873731926404, 28.76577544341567, 69.26287582154039, 64.97365063424562, 38.3488802859545, -0.20374009584934072, 57.52614067187568, 49.30865570829535, 72.88906830903993, 68.06177296795565, 19.052094156721076, -16.51767422930687, 28.43428029201762, 99.10069529480545, 51.003313148834394, 30.1120535709331, -4.888614758081973, 26.702124285421142, -12.427849164047892, 36.18547607331097, 62.63168174498068, 85.41337559836475, 33.269787429419566, 51.613527935391076, 10.210832446454717, 94.25126011043861, 85.21925305733055, 59.5915210389725, 72.21393523530774, -0.6368892403376449, 9.475287493735149, -16.875303458366318, 68.30773278716137, 8.15577191151769, 78.43685249774775, 98.54187591132407, 24.495280210928044, 39.809436061420094, 20.07688564307638, -1.4510881287329624, 38.87959798058179, 61.62714574542622, 92.4213819355759, 58.86734878322133, -3.017446244658384, 42.44699569803733, 22.355129605817893, 92.28540729302554, 34.03518379593903, 50.80727159460663, 80.04419390418532, 36.44206018141622, 73.24749528762872, 97.54373276880648, 94.35688734509432, 10.224665867903138, 49.95333379180906, 5.665725652079324, -18.742968489798898, 4.977542631811257, 5.54967636714175, 15.374255174180178, 68.821272286197, 3.9729694457327156, 19.295899850854795, -2.8889957754145428, 51.622637606124414, 25.129875485031036, -14.104246374860775, 71.34705616648947, 25.558639075026903, 79.36070463185081, 11.36948286765104, 49.22418598402045, 98.75901125479504, 46.36971775791672, 67.94893129727927, 54.15512789383885, 60.07123413574051, 90.16046795243992, 25.97193480182999, 80.30279934320198, 45.51227807095364, 38.967634669705056, 20.245069391288048, 40.69083372277783, 69.80986124306212, 91.28995822068066, -8.43464328337166, 68.53652708527842, 57.74009709047499, 76.85633585851845, 27.3127634576528, 79.06356313022997, 27.71680212081732, 27.9857858499959, 66.16738629864926, 83.27049203844376, 94.77871062103941, -10.02118938131419, 64.70149798069994, 58.16654253490448, -18.618933594964183, 57.32467196787127, 41.06725320739948, -3.7898688026092344, 34.6158099332862, 17.231379346098038, 34.43979113765109, 16.943444346504634, 52.296439732912646, 10.271803261515906, 43.98755247072276, 66.92759156676476, -12.664264209995771, 49.119921559725526, 58.19272772152598, 69.08564708160192, 76.3073901357592, 85.9276818504271, 34.74457328249011, -4.300836869011606, 65.38629311329488, 8.117932058113531, 20.914736302632846, 11.795692206450369, 4.133315869265143, 52.79370370575867, 29.71314553524057, 98.07823821060076, 2.331860870700204, -13.871249883202758, 33.386680418401994, 97.34835307560047, 35.29794105586836, 23.213475775194127, 33.2423049549321, 36.101646718944885, 34.441549697474464, 73.77667172290975, 55.82149907376203, 70.88993224791564, 53.54835293202859, 80.37633350602786, 56.24172950785977, 23.71065735108011, 81.51805849891196, 44.87568101906703, 88.33035103106332, 41.48464914877785, 75.80760662515227, 16.673507577266953, 78.1051418174336, 10.591207192053815, 69.49962526671203, 42.88817448135417, 11.84961136086239, 62.18606974017598, 0.7966980669071475, 80.59221839097044, -2.7092568140510984, 63.27025105356694, 12.264020018520341, 87.31811884574147, 43.703014102058, 57.538866015257, 25.415448019352098, 14.338418921691137, -8.518773367220849, 81.00064738566766, 6.470219304671531, 99.23525972982824, 54.01720918786786, 95.85830252992777, 5.990840018336545, 4.277217098122129, 36.45838647707881, 84.1716136235534, 27.115262633623665, 78.538573573029, 29.899478530218133, -5.214348352883743, 12.131338256619607, 41.54789295484737, 44.52719545314041, 97.10924417636353, -18.565495198284758, 20.912952099768248, -0.70009365884939, 63.27259562139599, -15.66919556240197, 47.43490708494387, 19.883230502314063, -1.5740404486596375, 30.828587286881273, 53.08043095541841, -12.487304113710103, 8.926512055345071, 2.967456722872903, 58.92101967716634, 76.40063890151916, 53.13343027057782, -13.60220597149306, 47.82585395015103, 20.906736818449183, -2.1177888038647517, 23.021270046360044, -2.1374480717568076, -7.456540130489969, 67.56657610910034, 1.613768584055542, 72.01469061951096, 57.61990285171875, 68.96411951421794, -1.205591284914508, 25.71286759343242, 55.603467423758346, 7.076747952600591, 96.19207047319199, 92.49543248140768, 29.010381393045556, 39.96584482716132, 81.27901115011318, 83.52803102071962, 95.27195410207246, 21.663111431449217, 66.19527023582262, 43.59452312539278, 29.693049954070105, 58.129438283869746, 73.3208344537249, 54.515904402497185, 74.09835509102606, 99.96402907649781, 12.47674491235341, 76.88499493498335, 40.7534776303784, 62.57052341711079, 87.98909937386618, 51.29128089078405, 14.091711919581812, 86.6689914386172, 70.88098977018034, -16.674355418505392, 98.8025610760967, -7.468992967052564, 20.871288327322603, 79.5592650719264, -13.013785750589012, 23.14456657820749, 90.78452942890472, 39.99986793548619, 67.65617765600238, 13.137979507092467, 4.450120400744613, 78.93053478905149, -7.277668025631886, 58.543865431386294, 42.30011648803631, -15.826090195993174, 79.7712162149747, 25.284520362947646, 24.61057195123447, 77.59727018669113, 43.482763284570794, 77.62744792433436, 0.014216770438125081, 94.89570984008634, -13.951084509024625, -0.5600430755684016, 61.43243586046435, 38.8291422812097, 28.738221951842505, 21.808946516507547, 28.928622089482026, 32.501600633130266, 83.17086866456933, 82.2619988107568, -1.403761630528063, 67.81458280712044, 8.634763727158187, 5.547649159973421, 4.924269335528706, 45.53117664952549, 93.59257665770481, 52.55640407678108, 0.2881966388861521, -9.258219016900654, 47.015169645910234, 4.251448306801734, 53.065134779610645, -7.799480095884306, 81.60571210198022, 79.48630186437335, 4.11438875875605, 42.527123568961365, 43.07279668574894, 75.86304503334883, 25.87454754931936, 37.26826840704652, 64.30542993354307, 55.624799711480165, 2.29505018056512, -19.319440394639052, 22.52911777518286, -19.23893023622075, 58.203283168873924, 63.8311236444313, 41.109343577141885, 53.491570051663345, 47.284791366707395, 99.82806684659633, -14.15206744484915, -15.18050117219814, 32.06070779557737, 4.415764675049463, 6.424342241945176, 54.255171617936355, 14.400251101816735, 92.44149883610714, 82.05075127748101, 9.227139152749267, 86.57044659877042, 22.473106838785228, 67.39959910776852, 71.1058407521792, 18.90492656074298, 17.456898062482146, 99.8624337963685, 70.09632827326082, 69.06156247746912, 77.52978404926826, -18.27424062605983, -13.258707735400375, 49.94049522572581, 18.361923892687585, -4.730154268881872, 20.26480591101467, -11.608678684065685, 78.53146910697728, 23.89561964576051, 35.22751036991036, 33.75187442365191, 55.88869657447681, -5.02203744032256, -7.514073917885483, 14.411522011783, -8.159457814911427, 37.5737577281656, 66.16779058200659, 15.464792178268624, 96.6439530407569, -4.396370113402099, 70.30976994730409, 63.82514489856368, 58.596133833331365, 99.57860272629189, -13.690516262328064, 36.89551074523797, 41.183484078114006, 40.89540081391125, 51.44187543066326, 86.46623238212732, 7.426936286837957, 28.07049280172518, 72.11702246018037, 67.84233481136545, 74.7773154075866, 73.48774399542519, 97.06795977689718, 31.57611731073709, 77.72091355563857, 57.54231254508758, 58.26618006476497, 23.212775094007696, -17.382596912003713, 34.9189567082037, 2.5866433999748217, 48.977168871187075, -6.441564275179497, 6.673744237900735, 76.46903943492234, 65.39936164317206, 27.705643810175758, -11.253771947544564, 28.788471257631343, 6.6751246085259766, -2.178841634499882, 57.93545942380163, -5.418897326053509, 81.31829271643221, 4.726167866756331, 19.354885342557182, 84.25247781076092, 17.172292746710212, 40.319684198495246, 63.3567094251233, 75.74099076716077, 9.753740951258116, -12.862599852850764, 96.31676335194128, 10.076345407492134, 49.51056069990351, 3.8610280827604413, 64.0208008129657, 80.72585581830623, -13.803146719751837, 56.411976581419864, -1.8787485601744152, 10.28536264800396, 68.32707520996803, 79.10402206703112, 87.62718843634019, 71.02400896876111, 22.804133495077515, 36.669657813180045, 32.226516193552186, 80.3688404156345, 80.27589690935612, 69.90462773459616, 75.29531891043472, 0.45038721535982873, 76.02848959503467, 26.32868091766329, 41.32403399856495, 37.10999320426332, 46.29099509639293, 31.738456768173407, 42.08483401868157, 14.062392183246686, 15.420719052459738, -18.33042756060376, 33.586378862538595, 68.83127677845096, 72.64664057701347, 25.621618319156944, 26.359342656832645, 29.02692497064045, 12.928041178120019, -8.407820336258286, -5.786158428666512, 19.636734950798754, 85.83086477191247, 21.904352634106296, 21.341553337241514, 53.19798284068955, 69.74940643230187, 94.65223112543842, 51.96835379240653, 53.298368241069085, 68.50893376778697, 39.58618155430899, 86.4598449391103, 91.92716329784588, -0.9598791712636832, 22.31300053981608, 93.00488979074794, 9.24471523171984, 78.74436041322821, 10.177735901262288, 75.76706767922529, 62.013734624366336, 76.00026777663767, -18.69816477373725, 63.2760043958214, 89.97120734611028, -0.9526848768926719, 21.615148018118106, 67.14742334391804, 21.8311374014731, 4.771326229951647, 36.14470630889355, 20.29432912213612, 96.93452136036659, 18.995180225445637, 33.02113826866456, 93.9351011952994, 78.43908418106227, 27.723230454393132, -19.667674117297732, 63.775567576998526, 9.881430488165506, 44.52823382806845, -3.6929048093282866, 75.127501006352, 12.509040749905871, 80.94071006888672, 12.98868944105697, 73.92618139004504, 76.82277064187784, 44.488870949083775, 1.5075697918112105, 84.80719294370138, 86.3561813804287, 89.57192587622554, 50.43295359765882, -18.53919723378114, 52.50092940785038, 17.80090909765171, 38.31906676536375, -10.550680500996341, 42.73820117522443, 88.23940683518359, 27.13018863005886, 90.52926185949785, 4.248940952952083, 75.35147972578268, 12.726863973914561, 0.2593737420427935, 28.94188385662217, -6.1634923694293065, -17.690878419122203, 97.22990507375714, 42.64829371695793, 76.25895158347889, 3.256653524453842, 47.99788853569166, 15.70438953916608, -17.562676766258182, 3.1067726597748546, 94.1153434979983, 85.16884363016807, 78.63135953228175, 61.33425360542839, 45.57212694019553, 64.11193766832393, 63.11998987106115, -4.60258560683247, 36.07696618874051, 36.940327488736216, 43.201433800016254, 73.97167436788257, 43.01553953073118, 12.052521088382846, -8.373394852390126, -13.74067475607104, -10.56312637004622, 29.876230269228977, 67.52807477150147, 20.391549693794587, 57.223731751539304, 86.9786004310713, 48.244642012970914, 96.85649295790681, 98.141670308825, 61.966795281186876, 80.18680190840972, 77.73240703402307, 8.384373604721777, 32.52067387134811, -17.755610876604514, 46.02898470686989, 57.161421821459854, 69.39459417740555, 60.94946345191491, -2.1620012874384003, 63.83545306706003, 76.22223836199986, 75.13479099088218, 39.66577781112382, -3.4480461494071335, 57.40613021042208, 10.190036631338437, 38.806489223243766, 67.09755957479504, 14.359339514302356, 80.56593895508442, 31.924971364545797, 73.75158958427095, -10.945374850898899, 73.96714466311268, 73.83793309435245, 14.33517995252248, 25.67559953251847, 87.83602892408271, 86.9756205128474, 42.18276325064541, -7.043742806997773, 91.2567293106866, -13.977930554934485, 66.9944742457955, 76.4525583775381, 26.152819747568323, 2.4684366694013633, -11.194603341102649, 2.796327399426005, 33.14312517404099, 2.7552779369115967, 47.99515140679088, 75.87924395498479, 29.64421408547654, 65.71124864668988, -16.589417490688003, 66.64977247541097, -7.942056926041863, 65.01263429881837, 26.665985897229973, 77.23865628040814, 67.77853977640092, 92.92175260251281, 26.175782779142665, 41.70391410955945, 83.13469695212366, 55.378184927916365, 5.320837763236167, 22.566680288009685, 97.84595329350941, 39.81173274828617, 83.87012483880474, 65.8087830839156, 43.60429506634432, 58.66640772018077, 80.02474602162023, 53.89501233750603, 63.16788385659311, 31.09427087530746, 43.409029797214316, 51.94967623547393, 10.564734920510972, 59.136112021649964, 64.3589505567803, 56.49387065670342, 70.66904498536029, 84.12406339144617, 42.32618162035352, 63.899191558884155, 10.501392952345746, 78.09997559027926, 53.775241722069126, 79.94706253515328, -11.785604825520073, 57.223810229613406, 78.31570923702961, 18.86912958845769, 21.990634648812957, 74.58272094084148, 20.03124147548982, 66.37276196269279, -5.5244394841592595, 65.97065513765958, 91.39771086367293, 34.396106176933266, 72.6563861012986, 84.79532762722263, -8.29494514187199, 55.97564593280242, -1.7348684755848893, 68.8290076732661, 2.8043220863808784, -0.825552431832584, 32.87411813291024, 36.66781785277023, 97.96017700330856, -17.465665114351946, 61.16216651341702, 38.047403523075985, 39.86481365511359, 24.682788559572472, 32.400946247773604, 62.65786844778435, 64.14761226501281, 86.36267007596201, 52.232042719621916, 54.420513852513, 52.94968886112625, 10.830888601610816, 79.2356100783803, 57.37697228578887, 19.800660354765412, 8.10902122340525, 53.81736183031629, -19.72612645791116, 57.69217076292412, 1.3231317041144024, 30.549733139449025, 34.594284530215795, 94.47671887110265, 17.606333711088205, 42.884645004766625, 18.8357783348619, 52.878453824024604, -8.180040124621355, 65.96657550122318, 9.03359578596866, 41.90823657236896, 67.50442771695427, 24.431030393034902, -9.645737682899792, 61.825882316165334, 32.170302686864744, -17.49137078669699, 67.76512685697816, 58.35502757403887, 58.53007539645094, 3.0786130718444262, 30.346415856408143, 39.0373824916511, 39.91470867920012, 30.96518596121183, 89.67578532899, 77.87297162896245, -8.650866759394603, -17.823715755055538, 60.28619366961894, 8.061444149562028, 76.35843053784029, 40.66421784039101, 54.78336369153321, -9.21301255271253, 7.4660882006436005, 26.861912417100342, 71.76255971173592, 60.01270943392544, 70.61271292832731, 74.02747673452362, 84.63817333692889, 59.98234739117616, 48.7156453681001, 73.64985681054412, 11.337437653858121, 98.28055346532243, 13.843072715399792, -15.901524006987259, 91.59801464729583, 85.49800972506794, -11.08079769249953, -3.7619873638726986, -15.959380961646854, -9.85888819604094, 61.06175351238576, 41.83502591780965, 83.15785560099275, 37.858870125155164, 90.23700235661606, 34.70133698530346, 58.803193698180905, 33.747524504554875, 49.24219725467405, 68.27521460333256, 97.25720826776322, 22.156895568317488, 24.642860454950316, -15.55122601027759, 17.999311866321797, 55.59968450997971, 85.00803916777839, 47.83159282934493, 64.7097533665656, 48.259114394493636, 68.95466915187798, 22.38424600649281, 85.29406451993654, 43.28834109299208, 33.90787091408194, 23.066919276179405, 10.527002827379945, 86.0977954281526, -1.9841799279440373, -0.16241935638299054, 4.888742183960826, 91.40846638054359, 76.61702631563342, 8.41498372498129, 19.111659491013576, 97.77504359065944, 99.93940126212351, 6.751015784468404, 20.20910884598456, 56.28884362514269, 22.2009829859103, 89.22842537994227, 98.87971761586424, 9.227900603450585, 20.185343219061508, 14.83289675393788, 49.11373426287939, 78.033793969416, 48.593129294332414, 75.50713407567062, 23.243702045089236, 86.44419567190594, 8.128947700393955, 11.491146679459021, 8.68206707687781, 33.90928906706616, -8.112431520382671, 23.055251224983373, 34.98575675340018, 94.76950981403786, 89.52109359099559, 62.51390511650304, 20.830275296535454, 51.68555395452363, 7.375356344685148, -19.1776123673487, 99.54048229451676, 22.417421761635453, -19.844957335140098, -13.840709022252963, 37.60612672718946, 14.415698975489477, 49.653962830897854, 2.326986555631887, 37.48562539717835, 88.25757432310132, 99.63821686515924, -16.2838115031273, 29.487235663008605, 26.819307147885596, 50.01751961048922, 2.96089920017603, 51.780131308745496, 50.07177959819025, 2.4587270545606934, 42.35252605535149, 57.75682392207234, 78.74794049277239, 46.20389021977431, 72.85174566224097, 38.468456123802014, 36.89923474647541, 37.50275829826728, 0.03786119112020003, -17.887965921589913, -17.823331974783578, 66.79303594299559, 15.010840395933315, 95.90663178337142, 35.40212276328688, 8.782287564277752, -15.177142387455685, 5.329616415941011, 61.54504877876357, -3.2246545978552774, 14.253451580417781, 62.235928297840616, 7.450227963852502, 53.64630994610752, 32.5030398293046, 60.70134716810661, 28.47307178720868, -2.4269208914399734, 15.604632309737632, 31.918523179375995, 33.061623312038236, -3.4348443678491307, 91.02164924740241, 21.63351152050894, 34.14996618162748, 18.54895642979333, 25.20956991877606, -10.191826910227565, 23.8782348539266, 25.278120117280864, 78.85006131270994, 57.75032969758681, 28.63465905357362, 31.12635629422695, 25.971416382382017, 99.60398433588658, 15.925033765956329, 92.40168086194518, 33.60788659013923, 89.4950688618534, 84.33085082374832, -1.433801367426085, 84.10267017839175, 17.798248352279003, 12.54000488271867, 2.914017182933005, -18.623661222608384, -16.35480315313837, 76.40314230120602, 87.06455313209932, 66.2033922761859, 24.896152903266795, 0.9448364311128508, 27.323706188633096, 15.472861239899729, 8.151223056443339, 72.5103184366357, 21.309475752271055, 53.517796066741155, 80.04847230360123, 56.46432404836224, 27.042004679406915, 30.758425087444692, 27.405789800389414, 38.46639588423717, 32.391368148842695, 51.99668786120888, 21.9212112215464, 66.85797225923612, 46.26798779341985, 77.19621730576276, 2.4428541058532893, -14.390515683735146, 33.411555849426776, 91.72836564987895, 3.66906075192113, -3.1113342217380726, 98.50145023163851, 62.12868272543754, 28.799797142861905, 75.48761702085186, 40.05364666364648, 71.1038026287577, 85.68160544656585, 73.23481760343876, 89.47716207653772, 84.32850596080851, -8.1589861213366, 22.114806870800756, 90.10300316123082, 37.14047604248844, 56.9789733442322, 80.54581726051862, 26.430473410540237, 5.33594404548721, 17.19908088946009, 38.065607463358326, 78.0290747429327, 58.51726389596135, -8.836965362492029, 79.05469040287974, 15.238273585571967, 28.586255805964093, 3.173737213092412, -15.029036091788338, 12.046700789755718, 29.156332443982322, 56.66264914332862, 66.94187974337767, 36.075956847017125, 94.02930433072501, 57.358227260369006, 34.37537192459403, 41.831938463891134, 0.6387256730110593, 58.453984011005005, 23.762560303572833, 18.321180248252226, 19.077486489196772, 24.953264466604175, 7.699656030381917, 48.55086080055948, 94.07377797040655, 8.910798642598547, -9.61295737825643, 66.4573436255311, -19.91436636053532, 19.36837491989968, 65.60642771729279, 2.788108705699223, -2.9790515014279393, 55.60485402522832, 68.19227039250661, 23.238767227324253, 40.820962569156826, 76.66617862537215, 24.844006112302147, 39.78991912255527, 60.491901039222086, -10.383986453322173, 96.03814379803997, 10.390226390506072, 6.894435099697773, -4.318957033274717, 27.831400291864632, 83.6330198037848, 59.16971616282434, -0.1745512218980565, 20.1116486721292, -19.78476074718932, 41.6632105892668, 66.75022598774436, 2.5950048185229377, 6.457457189061099, 15.63116886040575, 88.8674819415546, 43.408858486826574, 3.2694478909472267, 81.11156718098404, 9.440529882020137, 98.39530475877427, 31.92934993522536, 92.91679247388407, 3.6201247189840586, -12.013896427295641, 18.31196647719559, 22.72745160794186, 35.19283672554871, 3.877276860485871, 83.50030096236371, 69.06114733262397, 21.763646739695588, 77.91724724992096, 66.43944670194192, 46.77940546608494, 52.72794557842788, 9.806010591367816, 56.22157051095829, 55.63385449510602, 12.565223533856148, -16.010222744922412, 69.8941531557491, 41.59782007834201, 97.83615118741741, 16.07862161797999, -6.1553707921893785, 48.235157129036764, -6.64036343913895, 8.578560151961238, 79.0966914520367, 67.02929157062117, 16.692096683126273, 89.51849978451699, 51.94398495338068, 43.09606003688503, 76.01814256773181, 20.422562246830076, 3.8971026214994993, -19.66624533499008, 99.90138510493705, 71.63052203038932, 8.126003860972041, 40.36686856205119, -14.454714453271356, 87.459556254939, 16.09671396770458, 14.215680016540936, 12.228065934804597, 69.74615156212471, -0.25055988137237506, 32.87520832997777, 47.17502652302608, 67.42348463572074, 89.2845438940024, 22.886037585446587, 47.75899554726223, 96.43749643721245, 60.43934744737605, 83.60010064938405, 40.54825952324229, 85.5786314065232, -6.402933713337147, 4.309859246484663, 12.741580490551662, 96.0295901241728, -1.0426512494058144, 26.736154435457287, -8.719801373153793, 36.11954597581708, -14.087837813835819, 33.15413411706811, 54.38534648112389, 75.07052210260473, 63.021853919041874, 29.24035166144928, 71.02570401061465, 8.310535043072178, 99.5094805480466, 17.04047401657467, 35.12357700820195, 14.317587604878327, 92.22425263359406, 57.86236425772533, -15.43373743192221, 22.852672698508, 91.16399735692897, 49.159064853614026, 46.44776483559535, 73.60592587837151, 55.28643254218866, 60.59412472913267, 5.115819098321968, 14.951744170669144, 42.11999652650077, 34.22745855944397, 22.79567212830088, 95.85977776000578, -0.2674157223125846, 20.886046754562862, 32.12491907176786, 30.589354418819767, 50.40227337226034, 41.15009517356292, 77.50919579238106, 45.13104868543486, -12.575869551329713, 91.01451130151007, 99.89383684968001, 12.69267981738016, 86.3215031464205, 99.76675220127153, 7.123697066026796, 55.74728530156749, 56.34937110406594, 20.810790662510136, 77.98037747322218, 73.4812445131713, 33.87914986082197, 70.87056018866406, 55.72168520809464, 95.8410494792277, 92.84432532996698, 42.41890218944314, 15.639770023361649, 98.59794639001223, 69.79633719378629, 57.544903841414964, 22.853291465137218, 56.968954049337256, -11.866087121354347, 26.203877098117026, 21.093143503139146, 2.0790565316649605, 33.4764501515956, 48.01682688615716, -14.178436577343025, 39.29147144376915, 15.36757633581498, 92.63113309173634, 6.7681447157121575, 67.55226026979122, 19.776303676751652, 15.795227568091462, -13.948692024269182, -14.15352102428001, 58.36378891142412, 24.036359934680803, 74.5711943526791, 63.971187503953516, 74.11334790936894, 11.918630112827849, 70.93462872356703, -1.116239673372963, -2.5730575115751364, 84.34565069297516, 60.20310111526727, 7.032466181023711, 62.27564724170111, 95.84265343532064, 83.82028070962856, -0.181600104965284, 90.44511361306267, 60.63156353517971, 18.111661109237104, 46.92866567232052, -1.7221270520180276, -11.268048970454974, 78.55822463602611, 66.0745282109523, 61.484057227048524, 31.357749406430393, 12.896606437121683, 59.04317517066595, 3.6925667923970735, -12.012658604216483, 34.43378971222038, 5.987563507294624, 0.5173080176312013, 62.35434001607341, -2.4397467268563062, 13.097156630474707, 91.7660640631055, 61.4779834324666, -6.927733733008106, 87.79504396771623, 27.04765878549133, 69.01528902957672, 31.63075258755191, -13.379632932778032, 30.456460687541075, 94.78278509696659, 45.34959446592616, 41.55590582689918, 87.85498885424019, 57.17197740845249, 95.22469232050754, 13.723182132965917, 86.66728810766186, 93.4083673998391, 19.258200352433903, 2.44991964284862, 52.18420555305161, -3.015596780254306, 1.0108564486470186, -0.6617982847930612, -7.831766970848925, 95.16635530599932, 89.7808737370411, -17.032153804308056, 55.02224771912799, 46.531018844212795, 56.842506200492636, 56.27777195678203, 25.670530137388006, 31.268542572801692, 63.4317879434177, 49.933536513534506, 88.10503041571393, 97.8210460547286, 29.017811235281847, -16.986193311783325, 55.0266931117861, 26.186768648080132, 10.355543409122212, 25.73490303617036, 32.02727500841453, -2.0462023946242134, 44.25544984597444, 79.40583880265491, 1.4113717521167644, 43.14756686888866, 0.7991528148637954, 12.286880939215884, 26.167531678195267, 87.13782560348986, 87.59048153452446, 59.11515672105719, 19.23235204374115, 95.76610196345959, 34.82109079246783, 19.832252007236143, 94.85648479215531, -2.6398515622226846, 36.62017902940314, 15.001614271778273, 18.105070255405764, 90.33114924845214, -14.187134800488073, -4.647838472326216, -4.704020378804824, 56.648906564125554, 67.93542663590802, 74.63400012431495, 93.44535895407449, 10.422408718985288, 32.30652527833044, 51.65474085098339, -1.0120477278387199, -10.507578028150903, 50.39751420210375, 49.05531962483336, 93.18546577915875, 98.28130314749319, 72.4453120054507, 86.81801027946048, 84.20733875398648, 67.32260110394657, 13.027196811794454, 42.22406819115055, -13.983724896876343, 3.3774742146186014, 58.503697062386806, 81.60169566679866, 74.09138973523793, 79.21301447973754, 51.4735946351141, 11.134945937714527, 66.39682918530288, 12.637055531503925, 63.69564767493648, 41.17392192009329, 84.0395168308229, 67.47529111065121, -5.700491570573103, 20.471490155745407, 3.806651361421004, 40.1084113052126, 81.20437752233315, 10.483840502317527, 4.554332898452351, -10.715885577197097, 72.38103160706385, 76.4270031946929, 44.143767113508204, 76.87606459748187, 99.45193800833299, 35.198802050314654, 18.419875702159786, 69.88700342333107, 71.26580018680909, 94.3422666139274, 81.26584964468934, 64.07301717781664, 85.1078622460602, 47.80376978125676, 60.65396347726082, 88.24043044544793, -16.02447033511364, 33.437558809281754, -11.696016828655612, 64.742223286723, 23.158457701022073, 24.453826896552776, 58.043463050486636, 24.688883047436263, 78.57194550417208, 82.20844339811124, 67.78108700691128, -8.758279539382494, 32.07449194139018, 26.999025793875276, 32.15065513271709, -14.284000592871768, 90.91777431473598, -7.260817724148293, 72.55719004873576, 65.84474723919398, -7.355664130752086, 27.25238751522341, 67.74003777964136, 50.13415199226037, 64.05395169514422, 10.27692206246796, 30.042988427554796, 54.91251285637429, 47.48259615220891, 1.9076788060436058, 21.650232536123248, 0.6328533964873237, 95.93029704713041, 82.76269584484794, 47.61167033677535, 42.559690516692804, 84.48121137503723, 26.171434633069495, 97.09187791380575, -2.7593977977779716, 45.560267144278015, 79.78984015305035, -7.029224511606195, 55.58519794236955, 69.81091367076448, 68.6962589116011, 4.8461008719986935, -5.518188053000914, 57.299926170772494, -16.262316489206853, 57.398864069247665, 87.47191226129512, 23.846229395783737, 24.714160233545705, 54.41789865237047, 6.98381877804124, 97.54567270989295, -11.79150408047354, 63.71311027566803, 16.07923829704174, 70.62283219804382, 45.24950599635302, 19.028742944826014, 82.48156760741823, 88.19607597039183, 58.93861375224813, 64.35222697238486, 50.09212620522203, 69.85013227250042, 7.664078134736897, 21.03768306769779, 30.53950486006407, 14.461909274942826, 73.5416676474023, -18.095875446618628, 67.81634587753786, 92.13079960726279, 0.0968931934344397, 24.6323710365402, 40.84966704845699, -12.603806072154487, 61.21372428984017, 78.0205116465693, -18.903379128635333, -11.53140871731825, 19.78940289985534, 36.02212315443963, 64.39444690047777, 1.747766020008381, 65.01664298937966, 7.075570031140671, 14.130013332864237, 95.2721087043742, 97.46096492304432, 4.432637271300955, 83.56751084979531, 64.74372948530274, 7.359191645653112, 56.55877789252325, 84.83825343975941, 90.13148651172531, 9.431965454481272, -17.735565295398214, -15.86107776171573, 74.86280921046325, -1.8503006601363339, -14.074584862023038, 73.81713439291684, 15.91559263552233, 78.37195852332476, 36.86048584635559, 58.814876706855685, 17.121868806612596, 54.70420223266818, 30.73996287616523, -0.19944705643858995, 47.74322347667372, 88.28539010234715, 39.95261901941368, 57.27990867345508, 21.57993337877396, 72.56433574535446, 99.0028176387089, 46.07487532208994, 45.585080918146474, -18.31953735944453, 61.239156031973195, 7.977742752991169, 80.70391035407067, -9.672615915955829, 39.88465919465164, 6.3745867483429635, 51.37385607863162, 11.895491107732639, 95.63878009195415, -10.192034021357678, 73.90261276536467, -0.7268898843061145, -18.46598581243329, 9.379646645019339, 99.02383736707415, 51.52994891488915, 84.18419832515814, -11.912178414914028, 81.61222288133185, -16.68146923496763, 90.38996260120291, 82.32279825349029, 22.847748576232775, 77.1063364188554, 84.25826669632536, 66.11642287211825, 9.77991744792076, 37.649669514528654, 76.58816205563069, 42.815122650939514, 81.5591842760075, 75.60277161656363, 61.819392778361646, 99.69031038106513, 43.528830590949646, 86.44342877168934, 3.519510615284883, 96.33902019762775, 92.8739481815391, 59.13075595806933, -9.484240487802778, -2.065836204281947, 50.65440678426651, 7.7469613877415995, 21.443644091856065, 94.48551339659487, -18.182199220338187, 95.46184825047011, 79.68387907203727, 15.816828236671206, 72.37788145937324, 25.321997720207982, 3.8431849643762597, -16.084526009037333, 75.2683964838233, 49.05898559599535, 1.2383872836706864, 87.55021248773755, 75.38784880466976, 67.51059168788647, 9.32514550556657, 28.642577629551162, 56.49392600616031, -3.907134914460599, 80.03919932076462, 11.369977374471812, -16.98186506938308, 33.02063572551913, 34.944265186582555, 67.26015065511679, 48.03394590164534, 13.094836589192859, 28.637109769644965, 81.94542532479369, 94.67898367053013, 30.340382788878365, 99.50343636321035, -7.734654174146897, 60.409484024507194, 78.61115688911586, 41.96202178226106, 31.950918107714145, 55.32707912629148, -19.7144263642507, 23.98915161743242, 67.63397560553796, 17.005739012991967, 62.91895036524528, 40.526485941251195, -6.252469928032829, 3.779529467378019, 24.279182220393672, 4.1517548600414855, 26.416985582330675, 68.2510821465187, -0.8414423684421699, -17.66303121338911, 47.26568350963464, 54.55910586330583, 50.07769710620751, 96.81434904974637, 30.688782710198524, 42.546269860033064, 15.548394233044661, 29.697627325290952, 70.40357779534662, 94.70377111964484, 57.93477593272253, 2.55790247540353, 74.68928194417889, -3.732934648227271, 68.24250481697013, 38.54679383146992, 63.661327000132346, 72.01040127305293, 61.24344034629458, -14.691811844896062, 2.741117836353336, 84.55125805719963, 13.416041000770427, 34.18414096718919, -16.71910365027392, 6.7628091419701555, 43.016887211972225, 95.86775387348156, -18.89740657808069, 88.4197282735752, 17.9615866916495, 53.02715737255632, 50.89900660088192, 89.3663803183826, 16.782965474669822, 57.07838842279287, 13.91319363654356, 37.05507517188317, 36.053514935033256, 55.823706280976864, 12.288504802729939, 30.196351231709116, 78.45623867428829, -18.31325782126389, 86.87331290977136, 82.48379254973298, 59.35460736253421, -11.197762839613588, 84.01425275772013, 10.373233598573677, 1.4880338122051882, 63.00226560949123, 31.9579713143724, 40.428981448884784, 4.173747200748469, -5.21279107834542, 37.999364299415404, 0.27446339731309877, -13.790554814672543, 28.97382464171872, 39.2029491326707, -2.445543542164753, 22.279786830909828, 6.569939715804463, 50.68325955911874, 4.480553097980998, -12.016726051484362, 62.705658142542404, 79.94641426622601, 51.911793643961886, 91.00643263911095, 0.2809829312427752, 60.342218325258784, 2.14252872690491, 10.89090266719628, 91.50988722858757, 73.79506732873516, 6.7400060523869385, 55.435371453888976, 24.258175831554382, 44.23398187375088, 4.687880850733851, 50.73025478221207, 84.96760149249786, 48.052488630418566, 87.1752577857289, 38.86686049520508, 55.38611288617871, 75.55501141400583, -17.042053137559066, 96.51171036329194, 16.06698960712651, 85.20141796271443, 14.61328591102346, 35.751248374497806, 40.2440633515977, 25.046203382791433, 42.47529963675801, 86.10789728437473, -17.943805114973685, 26.756410239889917, 16.687041168622166, -17.447404177317914, 14.499835842810157, -17.924655649615097, 94.13980758633427, 47.12893294208962, 12.699665980385518, -1.7539340303754472, -6.061123197445095, 66.40640154451577, 67.51559147859592, 46.54131910537781, -18.909613917850123, 77.07903468312422, 14.640594217518384, -10.51931993852719, -2.8226183799784224, 37.8189129354148, 83.18003908400428, -5.708355636370115, 30.921371398961327, -15.939625255686028, 58.34778277929496, 68.38989610053132, 69.51069543051021, 18.16379174111659, 97.69706535085837, 61.174920332668094, 90.18450596850238, 38.33655432192328, 88.93159152594832, 10.47035299785587, 51.53478839504251, 1.772412286306082, -6.282883220308468, 13.267996324469877, 51.61542056034959, 85.80858186921228, 1.7944079795270405, 42.24161197968182, 39.47709871214034, 35.94507592238369, 93.73088516590698, 47.09320240208724, 19.583617806300666, 51.80721623044839, 89.68317493120063, -14.140260377223868, 80.85937493601917, 28.945870776170942, 69.1936673653425, 84.9565101221857, -1.5289982938354463, 25.349598486962307, 84.58637317948833, 14.352160848642647, 27.669304887596425, -19.100127770931547, 71.74039279638453, 98.77696461745404, 68.96949944050702, 84.908259500024, -17.02371042501447, 41.88214325595453, 43.56886745997139, 58.38544861607849, -11.529405664531986, 49.20039555069506, 73.11553290402256, -12.232612762605338, -14.632424559781697, -10.562441763134913, 57.75455937685203, 1.8418062132830642, -19.269471363881507, 99.79640311946596, 51.44460512788616, 65.23785727850665, 0.23562378693078045, 11.553684756489172, -15.864909004484232, 64.09513827540557, -6.224412756370615, 77.20988192469662, 24.49285582844702, 89.93283119456508, 9.453694081487551, 60.07820559601302, 11.326553076242032, 99.2925690763335, 20.15744240422903, 69.6519478193024, 88.5913427749158, 84.44467339458217, 61.186274413521346, 49.60926956853321, 80.4593772730372, 63.88270615439866, 56.00444947137041, 40.4051613381509, -8.375817580656024, 37.488558861694294, -1.6773256995120818, -6.805567649309911, 18.406974966344706, 33.07594566884395, 44.81428009592898, -2.085020705278964, 13.278416630324891, 37.26790918993646, 32.64591123906807, 18.267253792295286, 69.0423377249777, 50.591422838205304, 39.701874730473534, 57.169690729739145, 46.224749011891205, 61.125589293859676, 44.47829727939184, 60.40270313246512, 6.2771530784635345, 44.20081989665384, 42.02559443997359, 55.96864620799764, 55.10458165640341, 92.50444347500542, 14.808225207812512, 56.327771432457624, 2.133739220441253, 61.66213482054408, 62.750074217058895, 87.34218497157384, 42.617980798917706, 47.88346558674874, -6.908114605683359, 91.57879010576406, 97.46844515176934, -7.990095868792547, -0.5377260532570531, 56.34447562614557, 79.61893881101578, 33.298521078102205, 84.0040130632727, 11.838429634501399, 52.91635629075945, 56.380676800969525, 14.27285200284085, 32.62845450112732, 61.865535133292326, 67.30223082756869, 70.76589098603283, 80.0882972301839, 88.45580357957911, 98.37594982937784, 89.86319193864912, 82.23862584850211, 27.1590665121431, 14.210844791958898, 90.50366045902722, 8.046604992682205, 55.631773157401796, 35.699201974053615, 64.02257280310934, 76.2031372380977, 9.341515527305884, -6.696023030799147, 16.672955388209715, 65.71225241780144, 63.29979370920459, 54.5158490459893, 91.07416172295598, 81.75358028210456, 80.166899018542, 11.501793759330212, 92.79813868114259, 81.52913740276438, -11.630192975504979, 23.685173707790852, 68.36638194216046, 26.73567746427736, 23.073161795536613, 64.27483744490408, -6.742236428459311, 8.03518098672772, 59.77884731459973, 75.29414843202136, -1.09034379688811, 45.320521151368126, 52.22471569413578, 32.62059908675679, -2.1351878885875593, 16.811345662565373, 93.37372548950653, 73.20484172241024, 53.15562796237633, 70.1887652324855, -8.31703573367097, 50.928985441799725, 37.997616387342305, 11.751746162617785, 62.75052417059834, 52.34603619716822, 12.250508892417344, 77.37126589640204, -8.824008252855444, 71.00147908640739, 78.3809605719889, -3.6730509341088045, 18.270912530838153, 90.3662638788601, -8.931558740405716, 67.71704875077981, -10.384669091892377, 82.63835662880896, 32.614790782361915, -8.543189926652289, -19.466149697223717, -19.324141497505934, 34.77684712898223, 13.36299329920849, 21.345539082895627, -4.028342686877767, 43.1520978226286, -13.061406240161668, 7.790553154473603, -16.686984576769746, 44.33589536731063, 39.38507077030351, 69.44733134410393, 56.55023739555628, -13.125171902287196, 32.629104866535286, 10.71230106199652, -8.157430920081715, 88.37394171450602, 33.5353486131215, 7.170353657196241, 77.49479594803702, 73.93410351816951, -6.399624708667901, 6.968967845522567, 19.21589788140583, 20.68055260669523, 78.72911969065048, 69.7542823087268, 10.627528425171224, 95.75098000152785, -3.183033676665982, 27.92605707895659, 46.47272209038161, 64.09614270890093, 53.116962129166055, -17.05136861804935, 82.09597525370627, 82.30380843013832, 82.08388462355863, -17.66683135988667, 66.18305305390821, 60.92933135090317, 3.9660955207728747, 13.90673272575853, 72.0952220075585, 80.79497523962482, 73.578875691734, -8.332640870218473, 79.05058372433943, 47.93495360367207, -17.320400893552275, 8.024315387704917, 0.8270981238527924, 92.38922845090183, -11.010224766477993, 24.988056169860364, 68.75193646980793, -16.765467182991884, 27.876756647049568, 85.82013502008489, 6.651310741880977, 79.52373957085874, 32.25732859430773, 49.36279242994698, 43.75666659661689, -15.534784694868762, 38.88964534304521, 32.253633275819446, 34.36558050474978, 24.49672142190066, 40.83728115528722, 83.2190081547657, 19.661474765575967, 95.40794750373993, -9.92432401833955, -10.78420338329309, 35.77983919536766, -5.93103632484798, 43.81976358726963, 15.408874597225235, 75.33506641558611, 30.823814817724084, 13.24416796936783, 55.80041082532327, 8.003035272876513, 48.484453259595924, -19.48927320403334, 9.911435709870787, 22.168938439415584, 63.24609447281399, 77.32129202159872, 95.335388021003, 56.46754086505601, 44.2839388908872, 89.44953399497253, 85.59833367693642, -11.764105817506278, -18.755361534577858, 26.587574759651382, 52.16819438257113, 40.07571297565349, 53.29087763847288, 46.49167574437082, 86.28748609223717, 84.08655511458684, 49.116867623413, 43.90290619209352, 58.27391285463011, 24.963259732945644, -17.31295598970607, 46.97521848323589, 39.9776891494006, 46.51398318518358, 22.469372620074665, 27.440066110907544, 3.5937141369856747, 2.834607296880055, -7.090095060704197, 24.074149582266877, 18.268682763936837, 46.17517869084901, 29.18758446281396, 10.730556634422086, 46.172375048255915, 49.04936068079613, 80.93279218639375, -17.51326186927573, 86.2621746533538, 73.05770120349506, 46.41341037222665, 89.73002070651799, 90.09398899970827, 96.9405399846043, 94.21340828828, 93.77938658794203, 64.51387071744591, 16.16968363735503, 70.54112650031439, 80.00162062341998, 66.75400317101665, -1.328518114714523, 30.98575394657408, 40.73348585636124, 90.86487871943754, -8.453197210457738, -1.233985860720587, 11.73009288732873, 72.74190971167958, 41.36711209965881, 77.22328874526357, 69.95280311313326, 60.975042391182185, 13.26502172615298, 98.26085760518166, 66.07098805691346, 75.28545945389058, -12.026269893554385, 3.4758563979342156, 76.7792925525708, 86.86449201618187, 76.85382667383112, 17.92929083303592, -15.946982322057664, 58.40834301040371, -0.15723362286985676, -2.511263398191261, 44.00213161563505, 35.448277035094776, 12.984080785030457, 99.96189364876666, 55.30404715839279, -7.353950192565657, 27.182657053464382, 62.752825659998635, 73.83463275914542, -9.483958966874608, 1.7474455828574484, 53.594049179316414, 17.023770238834317, -6.33338582375198, 50.17108431538081, 31.012283371313927, 54.91432235932771, 3.4499683432620785, 83.87985060436941, 47.748060153760875, -11.802103643924093, 42.907316235902414, 31.762775989996513, 9.321305707446157, 53.673681670738674, -14.621340420970693, 0.5481761565081698, 63.38029343026312, 20.8087635913446, 9.488492609262199, 86.44008184554946, 98.84382427765958, 17.69604044930719, 72.86995688427525, -5.198539910292679, -15.96859231638653, 90.58232062356113, 89.63918288270604, 30.171853684477625, 50.74818394058552, 13.329122870570131, 10.285076757029561, 83.19560994188045, 26.233775983742134, 83.93154912007196, 5.137878016679743, 42.218694233878324, -11.401757296977202, 91.23029377731936, -12.20500442038258, 0.9274658006320067, -5.93709094088117, 9.516684958140551, 30.65140121665776, 0.16265447470086514, 71.12135221078641, 37.97249265997111, 43.29503050508964, 24.789281465867965, 25.787236543780885, 57.004220030789526, 25.40100465686207, 63.684154763130834, 70.48649288800785, 79.97142089951672, 47.82276445478659, 65.01000823575633, -2.3570573509256008, 43.9651875923533, -10.975622283360602, 39.23658627026449, 94.62875361623915, 12.812923892658425, 20.4372916007447, 63.91982237154704, 59.34020598989902, 64.21647713512276, 33.98608666094595, 91.77529555048459, 81.81349071356118, 24.38050360956143, -14.65169582565846, 85.26964077266271, 68.35468860655848, 38.25961273012372, 21.72501627553074, 49.22721642447239, 46.89732546648703, 91.03100901426434, 9.461229845687082, 59.56176675610895, 37.281751058676505, 20.76656960966298, 43.01395007060874, 47.54582185686985, 57.36486453445637, 89.97704095771196, 98.89877194816066, 57.399130355474526, 79.26987897462766, 14.237945583134042, 46.37113044921509, 43.11870950666042, -2.5611584798921, 10.052482901868409, -6.365393404202164, 33.81324199864515, -12.637486833008712, 16.469844624622148, 64.19427345640311, 69.19506320540508, 13.056500843663606, 54.43700780920349, 89.94548555862426, 54.27001606723687, 58.13348181965861, 70.27332862493068, 0.05004370648624601, -7.0363632832153264, -6.949158871049361, 12.466457833009088, 88.78699013981712, 69.009515192976, -7.091634894843715, 31.712412436672224, 64.66433474866238, 15.478035898326013, 46.49128186524052, 94.5743099685175, -10.212691492769629, 58.952644569023164, 80.56331967550494, 14.938547553840074, 32.593722268914476, 71.53700532770334, 43.29253143718379, 20.4186209635752, 73.35196900619064, 33.77459472912422, 23.844916656766486, 56.338702707578165, 85.05266587278327, 30.797281247203145, 50.418123942591336, 61.531998162763955, -4.05157517412019, 60.830684196454825, 77.28314621136722, 75.96037468438996, 85.34246616029755, 70.53011878968114, 19.92650943219533, 83.96461058886581, 80.28822821291145, 78.21967860366442, -9.647780031192998, -6.650556954731751, -12.562152709796322, 46.02311163006155, -18.54993105698217, 14.249834229245351, 42.34737022703143, 35.34456449978993, 65.96284975788598, -10.910147690518857, 80.05680414459549, 45.668587323949595, 65.73504605262649, 76.31135111525, 18.41728459291967, 1.9910122944447508, 27.963771594181296, -17.65854861350155, 71.21355044060066, 48.49396839091622, 82.01517138975844, -0.7396661902862789, 43.60193691832243, 99.40325977016113, 1.4480429761862332, 26.44225887559952, 65.53631204228165, 18.431446248534684, 65.13643541204225, 7.859765852055883, -10.405586251652288, 85.273830107361, 52.00229806831507, 66.62241512236155, 60.58406605504875, -4.912692383903249, 79.7244548362227, 29.97136131785603, 51.98043856315678, 20.202173382368855, 40.31243684048406, 37.483711107520875, -13.946105715605817, 88.31245899111647, 77.80080879547637, 8.1990058861069, 63.71333175559562, 17.756652050729272, 52.14771961920029, 90.66875895415933, -3.0152136025625964, 9.934529692240275, 23.421761539563178, 39.200844166016964, 21.073005357608636, 5.733284935781192, 42.00474054169013, 94.88008118485428, 59.68778382150877, -9.909319255761266, 42.516427303011604, 43.80246638124782, 70.03785521476172, 4.489636506446658, 1.8368468510518632, 66.93835014496675, 32.19366287105383, 56.58353017077121, 10.153936912448973, 22.60955634649524, -10.004970261392305, 81.25254575453482, 75.3490890810292, 5.277493425978896, 12.344226857465998, 14.81247162990477, 61.62398510628813, 33.730794065175985, 70.9878792829441, 63.81491129745686, 34.678569884058476, -6.244643561518046, -19.815019522391903, 6.796567330517892, 17.149730024912124, 39.24021837787392, 8.951228982037694, 76.67283586220461, 84.05094664647481, 56.91167737425384, 18.151857688587874, 7.696723339319668, -3.044713748663149, 38.422999159720455, 68.82179415150281, 11.817910073903391, 41.50814360363227, 41.25631024645011, 16.71906575783772, 12.709421300634965, 55.787500467888904, 35.44797124391472, 59.609850957996585, 34.12908025453205, 75.73850063136612, -9.96630628090854, 87.00699981957254, 24.139251841649127, 71.41970293233655, 2.5275316940004835, 3.178367506951716, 68.36516901160074, 53.34527173421121, 0.7974854658730699, 11.465302018164444, 48.374250560237655, 13.589707018937673, 92.5860297378491, 78.39182174806434, 79.99475065043858, 70.74090588411717, 64.96694944117618, 75.43640116146018, -6.70054916494545, 89.44017394360979, 26.131069925176412, 63.581846066442154, 66.62882164747698, 33.52681843762071, 32.511942945077436, 84.1862500234313, 10.856031595192114, 92.19338970292047, 75.52109598888741, 73.20163654659656, 27.865108187315812, -19.399870060587368, 19.039080826712414, 52.56968407176777, 12.169211921328134, 81.94755274209008, 22.55314491900237, 6.0413124403657825, 78.51085500211143, 74.7742171113684, 88.81653277705884, 44.498111018271075, 17.038425058593077, 85.89195246687892, 40.883797183334615, 63.77920714959755, 7.29098310219355, -4.18176540100033, 51.61685291372214, 51.49450348186181, 90.73348329237962, 95.53310716914628, 93.51999884145458, 25.62072921103799, 55.37239178260238, 71.4000486759641, 63.7408632556112, 15.047141952538254, 49.00513075816828, 68.24491839028711, 96.71621432746205, 28.309546965872386, 6.043991198681201, 35.25425325654274, 62.045471442245, 60.6058692397518, 56.435963432978625, 66.4767049119684, 1.071777812825406, -16.97573889827572, 27.497015860519014, 68.44847012085852, 45.87211553918242, 33.28736234486314, -4.377384959900738, 58.7777310763896, 13.259537922451642, 10.307172523119217, -8.89258270755045, 21.26916828890335, 62.21794447526156, 95.35483603191828, -19.011118495723988, 81.16509354175984, 68.42214208150105, 40.05909554025059, 61.1442593712503, 69.19086306655599, -6.727881030195441, -4.747105913440851, 81.63264963109908, 44.65996060242517, 77.41557207733321, -4.128182140735603, 16.92718433021929, 55.4076392764225, 34.08728358570243, 54.75779808895163, 84.50980673807446, 25.012166527579993, -12.264614689318392, 76.5966914771386, 17.586255209175583, 41.0690936848489, -12.717117141864325, 57.47089183634981, 49.1381575566902, 70.32002961675836, 15.423303273587798, 87.7932568695695, -0.7819091560544997, 4.566600406132771, 95.14675244593943, 59.626226076582185, 78.4740892407976, 23.20314235462841, 1.0840094466678174, 34.9700224680838, 62.21470802264295, 14.431555612904909, 20.126236403180968, 47.89331227635557, 55.33148104929997, 0.9579851829671817, 54.86756381240171, 57.197690369173785, 51.39534497646484, 43.8788368927805, -15.816484942079715, 78.0328670660367, 71.5448695970772, 80.33145967058277, 99.70302749865964, -6.566612031848681, -16.324150853772224, 43.46829246440386, -7.64964203030862, 22.727598153148627, 90.53943846130886, -5.835891461318333, 39.986178182927695, 99.87379096373516, 87.36168136352653, 33.672877012316064, 19.24149880766545, -3.5813042357397116, 63.48882391396074, 38.292387721258606, 50.3340680000894, 46.46483849504315, 62.48269663127253, 81.10777446571244, 83.09053061777253, 66.62738212166494, 94.07968099347598, 88.31085494599746, 89.04971322296372, 61.20757814681261, -15.732973648788544, 5.897034006983127, 32.79238238481587, 91.34054251620094, 60.71858461374336, 92.6863184938195, 0.784475302022436, 28.93205417491607, 61.512800630140944, 42.0381997972192, 0.16681401856697065, 86.87202560613474, 53.1765883490292, -0.3149888963593952, -19.17386128816498, -8.106943882879634, 88.43882530854799, 89.36196978412933, 70.17525041315709, 43.17061694356334, -4.3235589810422415, 33.60339866200838, -2.466817486893259, 1.3701879050009644, 25.621569378920697, -8.541309802092862, 97.26856294555084, 78.25904340715192, -11.262080190831565, 67.50858859868222, 82.9245230728672, 32.64792806373917, 27.213059818454923, 86.5403840978131, 21.96232938049973, 21.371938336970864, -1.1479100735823664, 78.62279525355017, 80.443558852455, 53.60371544428128, -16.633769213684992, 84.04538709941694, 53.59619060358362, -16.79823259820037, 16.84548313018984, 68.46419148451136, 81.49526071043246, 61.41466529431872, 85.6425037081532, -6.074720797650542, 7.355888629205943, 24.967548013771548, 29.792278646584847, 97.59607336074076, 10.958668567781672, -12.416359537771736, 43.33298631717574, 2.2627307443807254, 90.21571554537981, 59.66118534084933, 59.88123595934847, -7.230154915441535, 59.234838421791466, -13.097932525447655, 70.7640841021894, -0.6275804489222025, -5.791314736362917, 17.278641836662963, 14.053133605729883, 28.75539259350454, 56.58037615618021, 97.96913383021203, 59.41044632496829, -13.16561496207842, 60.94648115827782, -12.228372798835725, 82.33900474695955, 10.353760841128256, -19.99399636438506, 85.72132725918539, 72.38592804841579, 30.359921469543323, 2.7450564929732657, 92.94299822499768, 67.54131816992762, 50.978044604728595, 49.87037799940413, 43.907026328969025, 1.5551106108959267, 79.90921296592292, 36.78586669948634, 57.58113775182588, 64.32977565616848, 92.50917510787849, 2.1656777771276126, 3.2865323501822097, 62.25390421914969, -11.303090282489343, 30.90424674143815, 68.98521056881344, 52.76639320922311, 27.21983612762879, 41.712410119123355, 33.87025878291857, 42.12644768849416, 67.94462163266228, 2.347281175628325, 23.716940057836915, 2.27061916130954, 0.33736938811299666, 53.288108202776726, 88.09273921154045, 90.40316426324806, 63.46236905445585, 14.16827039834945, 29.166145864044786, 35.54036092571814, 43.49242065657483, 65.75741673910498, 1.8860308947151196, 11.99989999162829, 77.07006078134869, 36.340768374861824, 92.27064624720003, 78.24200074435156, 89.39197323857411, 3.5694107123449967, -2.0258767284088854, 85.84310643331797, 20.51384340039497, -5.6990424276462335, 51.78340576320235, 88.16767058931526, -1.9395062170613713, 99.48270222434715, 30.418525843922446, 52.748994389501235, 69.07336396328353, 76.35203321176837, 15.041285539293447, 40.20330711397553, 53.08557971413832, -13.360567950986226, -5.3513933909710865, -12.712634049575167, -5.987767830185383, 41.92503412152441, 87.69325915367513, 21.488481773318107, 29.57688646711452, 48.99360074854809, 48.085505378238224, 38.32868906664462, 99.17731845182091, -0.11540819340265074, 16.052659420327167, -15.713406863944082, 9.647547423373595, 35.79670114157354, -3.393569279361369, 31.102232316734813, 32.98365607619089, 5.050704735563652, 77.40211577849429, -17.040171441534575, 54.16847721857866, 31.98004995314436, 47.68489264819428, 4.6694240527932465, 65.93079357448276, 21.671005337945942, 40.227859446091784, -11.859440644334459, 58.83832019527863, 66.97427354771902, -11.565487904597994, 16.53653977213768, 58.12136624627372, -7.772570091376894, 73.61774351694244, 66.24546373625641, 70.43548426030999, -18.966442934043943, 84.06332004638324, 78.02818085563409, 97.30092115052172, 68.2982136075564, 1.7006457187078468, 50.31886763018832, 62.579529146641846, 35.68811560207604, 8.370227388024976, 1.9946483997243014, 13.428320154419701, 33.073470253375596, 30.691685245722958, 1.1250855004687281, 61.57659263691208, -1.1109275315979161, 12.291190437745897, 4.576803213129391, 9.506426894845607, 74.37867419644056, 26.845077891706318, 87.61653225834914, 79.49704169267368, 43.59948595833044, 46.66956081631551, 85.7521186803508, 47.23334167004799, 35.78940114401685, 85.63783007559378, 16.223034727477334, 78.47546203304888, -2.060480902628882, 12.815637273757623, 31.026421049566252, -9.084612951422194, -7.569149863377964, 4.687783238208244, 81.02197021667813, 65.00394065667942, 28.05844824383736, 55.52401253834927, 51.6770136407693, 17.888388299002294, 86.12566198387074, 48.12886762311179, 50.975932876282045, 66.89894590141893, 96.3828806952626, -2.6736572150757034, 5.6551257262543615, 90.90777426134639, -9.029510830120566, 84.73649787661319, 39.035902739363934, 14.29754981983097, 83.60423232713158, 12.238265145950805, 79.68888248379287, 89.34735039570344, 58.08204110410976, 88.06866615874881, 95.95075451807995, 54.26109478902876, 53.4096930080286, 1.6243026726178122, 23.633484550940345, 94.31844156832358, 48.00994231779201, 49.53973893178021, 54.221251174152215, 15.858183738979825, 77.9564784718276, -2.6085451754412006, 94.64849591862118, 47.61401762420273, 17.47575992326628, 29.424574136938062, 16.370988223014223, 63.68759550969662, -17.017318110662387, 19.205578829412765, 1.2112121986949234, 50.71344004458834, -10.957187173301396, 61.92304235514135, 4.501786981183727, 73.26103387591164, 21.04593653453702, 72.57412233858632, 64.8980445045483, 3.001490573287704, 95.71695795922746, 72.99419672535934, 57.669798227818745, 52.05722067140279, -15.123678095455691, 18.528875738776648, 32.88978335578079, -5.40590701246844, 44.237404405027675, 42.87706861634659, 1.4787693650324876, 27.50436504185989, -15.097954447946025, 93.63950747703903, 41.34697568213523, -7.4279613123983435, 88.51928917735164, 56.172384898716544, 19.104658057594975, 40.023116001534966, 5.393916081985729, -17.344325057698956, 88.8668512950047, -16.859684679960708, 27.85197039998146, 34.547752393502826, -18.143206581912214, 56.89988208945539, 62.12209087259566, 59.1645591930974, -17.575103682543677, -15.263931375117679, -11.034148641145567, 9.025733550355106, 36.04271263502699, 92.23644188841081, 57.259846393492666, -5.8833095312279315, -15.72457633720887, 89.54976186698975, 33.826423216524866, -12.665825064644075, 4.498059269909906, 3.5956316009345315, -7.151052016784529, 0.555742208947656, 98.85056382337665, 45.695987884913094, -12.716072633699952, 88.35118586448188, -7.4153286589939995, -6.058167708871419, 37.09526424371473, -18.186157822212273, 61.880285116356035, -10.475849386394582, 39.613849776383695, 45.66379000620199, 12.11350448467229, 12.992816670908958, -7.920027471774226, 55.17986300660516, 16.404684835079713, 87.3572477604823, 18.84971660665333, 76.39006439174908, -7.11552357653758, -2.494195866472012, -2.6585475528600853, 87.37268935072349, 89.47759755149715, 48.577477527407126, -12.546622079060592, 34.00590385627192, 16.791650111701834, -6.170324850735916, 75.02042644965739, 91.14353930094813, 7.691993355024206, 19.973474645064826, 81.14313897786374, 56.711599859737134, 70.59432216868156, 15.521692893277873, -7.0950187976198364, -16.35976586729903, 96.36381648073444, 66.95545644876259, 77.1041307375473, 65.68328307768397, 40.147871997141685, -9.705335258312147, 19.58975558741868, 82.37285216281435, 50.313386169852066, 84.72623636551619, 82.26978951525354, 81.1173640528013, -2.453042322125544, 14.949963453009232, 73.49881066571577, -0.7992173326156262, -6.486371442313782, 39.467025095861494, 38.776001436659115, 62.90420471947775, 25.125881435413156, 48.40257321619549, 0.22584550215546528, 23.10920423378346, 52.60201962997036, -10.181839621235213, 48.99858689920741, 20.286938193836257, 47.445339642618436, 83.33443794705279, 87.45760992443005, 81.5263584367703, -9.251898920113323, 30.681500443727202, 14.878761995165519, 5.544921000528028, 52.732795298299976, 44.97969616221812, 44.86804099648374, 35.6625415506457, 0.4308093116028573, 39.98405498368295, 71.57133015255516, 69.78920993492832, 98.76529844547507, -11.061992196833298, 9.857332156780238, 37.31380061003978, 57.18096993379544, -1.5854607203571938, 27.52253020663889, 32.33749822686118, 18.79424519890778, 25.511826200044332, 62.16547620346819, 46.46013866186091, 80.66411443664943, -1.330554240314381, 53.70006614361645, 2.2210911142519016, 56.63036393993117, 62.898961130369614, 23.61354612688237, 35.8736457949417, 70.47987180212706, 38.57011564961459, -9.813517723698869, -9.982734430383573, 98.62764527201846, 78.80927348648677, 59.084892129071946, 45.04356321471599, 34.80440016802425, 5.303949296327669, -1.9890800076974742, 3.8956888338339724, 58.966931889129086, 53.546218841339766, 95.71942456112629, 31.310786617926006, -19.44806480322326, 54.29621629057098, 47.758279287332016, 22.386472467410655, 91.18179644527909, 56.8342620331924, 38.899260061311665, 25.710051485096933, 77.05651775462971, 67.7903433537351, 26.31982436911025, -12.075975860282862, 44.95122972417009, 26.320859475513494, 56.47675784529248, 10.961449002002507, -17.657270284982513, 4.353439303363849, 57.32200714188417, 13.759605957816, 73.60395193797265, 62.160033103428006, -6.168920724754496, 45.400634165644504, 77.58992710082997, 31.74782681509612, 28.875413066939657, -8.483288268695176, 26.79499636350107, 70.14140036366658, 18.99889589622832, 57.94441413137598, 88.54664024928444, 8.956046538090337, 1.2805407053119922, 74.68217361356595, 27.58355619871707, -2.8719037548740474, 97.72808953045721, 82.34981224705032, 25.143070269525005, 4.330094089561033, 9.188724729504685, 20.074264588901052, 9.866936308862073, 75.70899637757232, 99.36368299553864, 10.514165827163183, 18.94164744347392, 33.74748739045538, 68.63981416711542, 0.5363900880136256, 51.57831892810255, 42.35969633505751, 23.32633706664381, -10.646924585575078, -2.896679158962673, 88.61821423670662, 15.10911530497902, 35.41215840880875, 30.11420527487084, 31.055216504534016, 50.65941586281805, -4.086475604432685, 87.72381076026821, 13.95700658890815, 78.07081001788082, 69.6581340634167, 23.99084601597268, 81.95455531979331, 40.214166319108074, 70.28707063913001, 84.17367801750702, -15.804211343663312, 4.728510782379519, 27.472071370678933, 10.150657190923546, 43.826456635744194, 47.89015840557822, 71.16717701568749, 12.54072268676844, 68.30896784581086, -4.286796428652412, 79.3857179470177, -10.77220319935492, 98.39843722322611, 49.37769590188411, 98.04573754760719, 71.6187225811042, 59.16363511687034, 77.50240594106099, 38.418181334344766, 41.273991670463666, 3.729772449833753, 24.4337629805539, 97.54838505181058, 48.7266464850382, 67.0209594430194, 43.39731099429242, 20.929551343879872, 15.807612706871872, -5.698731413802927, 58.56038356996571, 77.44114065419703, 13.026372062273282, 89.20352628200766, 6.446620031464548, 30.341010684558178, 97.89821969385851, 45.138983167362795, 10.96332549321776, 19.82088267480149, 73.22016585613544, 30.82632410368462, -14.385020419048477, 59.22498794996787, 8.085205245619946, 99.96946055096531, 45.68577819226596, 85.2561798855415, 84.25421404793316, 65.09343282009627, 82.04303694925113, -16.55477284933543, -8.393703821807614, 6.871800984062908, -0.07611698694638136, 70.82281246755767, 76.99477110064169, -1.2751969145169113, 91.46642166484747, 45.351069911273854, 20.315694242879026, 99.65781150735235, 40.9435402080794, 74.36151732793985, 54.39047637324305, 12.78398904068942, -16.490447837762275, 58.97940178361404, -14.04417589372323, 86.34725240700132, 78.94910071301592, 80.07739095809195, 91.15688674733988, -16.231645861436768, 72.83322039410798, 38.142939518499894, -0.49504412247761564, 95.88055141656373, 45.988342027916445, 98.84416352205915, 76.5126015123399, 96.27631777656157, 90.18411864689855, 81.02078539137572, 68.01420519199499, -3.5691617630015315, -16.00328839864869, 8.039167162643164, 84.55489836303175, 6.6093830292475, 15.734426981513408, 64.01585770856914, 37.24272410136206, -3.573012682039554, 89.43002920648841, 31.646838106375917, 27.631604096648168, 49.83864872724682, 1.8722970060919089, 12.722979647742612, 94.38914678376138, 34.70574408330719, 64.01299300654765, 54.50339282931698, 94.03020941747371, 31.642676956478326, 60.86516166787237, 60.751636382514334, 22.898536918131775, 83.17430330588819, 17.470990646469417, 85.98515378035096, 39.885442612997515, -12.645083445761678, 26.758952275215265, 21.23760637401682, 15.227617198745847, 59.54873463491265, 28.523627397599228, 3.8277949300728693, 42.51953093118119, 22.84429477169541, 32.20319658479127, 36.704041114461454, -1.255253202191298, 79.98723804111404, 87.28264009721843, 32.34255429133522, -10.49802868306978, 83.61334625331885, 51.858678003063304, 82.4338442838458, 0.9140910664014612, 10.510203012071429, 99.4060805727529, 80.66439042306439, 37.01255258023587, 97.35437136927958, 71.43642053432995, 10.595026599553236, 8.017140416961162, 98.8553829744802, 35.281795743989775, 64.36062263383153, 10.463714286422658, -1.8215532027804073, 85.16900842157705, 71.49741763849903, 37.260808397166684, 38.390877901275466, 17.5996530411242, 37.710460500498456, 52.72746000744563, 63.06980360348548, 41.53965113812625, 34.37697651351583, 0.6320767137312409, 52.86863924683385, 9.930230930171447, 68.90757326324615, 59.13781941369767, 87.41259050693637, 57.112522547837074, 79.96980458351986, 67.2875648867541, 66.18887017132408, 66.41944593886979, 55.31585918373142, 1.9613670157104366, -13.605248690504382, 48.2490549023932, 40.20442597666536, -18.151216080014517, 62.517456173304424, 91.34474690251405, 20.1899586324448, 91.13164144122787, 40.10256413426083, 88.81217334586034, 64.07815157016017, 83.23985036287803, 17.628522081750326, 47.545669661988285, 12.292277779519829, 5.850998925794858, 89.4348427481567, 1.8508011316583115, 99.42927233600408, 54.76872427546637, 86.79064146502498, 38.3145934973547, 31.903778394440458, 92.40845315907805, 86.1422354839621, 15.16171323571966, 17.837827444500647, 87.29814480579701, 29.46295206103602, 16.814418620921778, 23.319087444418457, 73.73939625302624, 63.812102849996236, 31.36914169037596, -17.92806121306491, 56.16254968251715, 13.493796212354496, 6.076022317026126, 37.39227627450684, 73.786270926671, -15.622813518097436, 11.830940347560059, 73.08233178780478, 85.83969766524899, 95.46620837867754, 68.11370485532923, 28.44254768339853, 74.03707824304367, -5.764013039023869, 68.08894067498649, 19.197062979529, 19.359788911408373, -8.947648391992162, 76.02648598148562, 55.85107225063669, 69.1547855503411, 3.2613948846667427, 20.684525921901546, 57.023605639447865, 23.34006132556108, -8.946453576755694, 81.8548650946425, 44.12426752197459, 52.369367708238016, 11.54138507206234, 40.90796409036397, 14.02515187770431, 53.29987589936073, 60.86464554296167, 27.911195787848314, 99.89736084203571, 29.852805188317674, -0.8099231904526327, 25.02662007565803, 64.50627182980323, 88.98383079239066, 68.31414914739061, 50.9852757051256, 58.76810887247335, -7.898293542700387, 70.7488099326277, 80.22522896431128, 52.79995302611185, 43.508830127687006, -4.5389505814787015, 26.45958260968338, 65.01219938404228, 27.499585981726604, 84.55640988981027, 74.59491133961934, -7.158588069842558, 16.995062294886537, 48.877198569351236, -4.836866795215077, 55.14444825396721, 15.685061395577137, 91.10124753483088, 64.93857027180398, -12.386837381856107, 80.2232250388205, 32.325818482190144, 35.208657392776374, 42.874418257582185, 86.35607582903721, 72.30340121519237, 46.668749223842184, 5.545694787542917, -0.19754721403667475, 57.69496683431524, 53.895023303159846, 76.83096657093084, -12.1046047535759, -8.668615625651919, -5.493496096207441, -3.8499799300617745, 60.01452914606142, 62.821285886549944, -10.297138180544017, 12.227055070647495, 52.12833853974146, 95.95863419683228, 1.0583995582761858, 6.5441055166188775, 81.13187936524935, 77.59541980158231, 49.79220419831381, -13.572716822063708, 29.254919268309855, 68.62767189564917, -10.428375908595626, 91.92025408604337, 48.85753725458132, 1.5175363270601991, 48.44629202685947, 61.76566127675842, 14.247346879282276, -18.057575356549265, -16.40796377098429, 69.99068196527014, -7.353173554862256, 27.417881379497594, 16.131215538168284, 92.51131170656538, 70.64273044421411, -19.951658861710296, 17.175779435087726, 14.486808084631157, 3.528054333716053, 40.95693109474595, 76.87844358838235, 13.198029966225839, -12.806632891015974, 2.0951044984674247, 33.5666450933118, -10.355155585685978, 95.07768764300381, -2.418817725628763, 33.401580941137674, 16.526556927227844, 37.08119983038763, 91.81463438107417, 56.81577821469662, 70.64933994096829, -18.75887746175455, 11.42058620934936, 66.93551769334033, 75.8821578788815, 39.98355582232123, 16.803371087392605, 60.64303599897042, 28.39379131965464, 13.503355634511024, 69.47823942595717, 19.62539527919796, 70.65006277221325, 86.62854821474335, 17.298305605827878, 95.12352671753641, 55.84260286960951, 12.987799564145128, 57.1770641085828, 55.436928127824444, 47.95879176612209, 9.898827282187874, 3.168838977840899, -6.257030104819252, 63.1848157358077, 81.18619744468445, 50.2431907243471, 77.52148052322308, -15.45119115856346, 57.23171839670947, -14.161063338499709, 51.523821898984934, 63.477202315894246, 38.86495830358729, 74.47171836354227, 53.83424605819697, -6.7654727318281225, 3.4934192517517175, 88.53191400946953, 36.5260605758401, 21.848114543702494, 54.886190230024994, 34.23546794572734, 57.80201058566669, 49.33234918862246, 57.41678421957812, 3.8783570884079595, 2.956811151039979, 49.79060468258565, 77.04428170505669, 77.24543103459432, 15.376392842629592, -10.145453117573634, 45.46996227746202, -19.076013904212388, 59.12334534144624, 75.17017271011471, 42.813760315219014, 15.785339849313623, 64.38212739625033, 50.11571789621149, 1.53169883464901, 57.476728824820924, 51.10232492130379, 18.709432947150468, 68.21913122826892, -15.816242980215808, -13.192471859187474, 0.8870668888384543, -5.431350121050297, 88.0748701863453, 90.25274815381762, 91.19104875998646, 35.93557331338851, 14.775480309591217, 59.296558622361204, 88.73446384598127, -2.0676828909628533, 72.8795305000152, 4.58946508202343, -13.916769659805773, 15.982725834411887, -10.295190466825668, 30.43306986897965, 55.283346792300875, 37.610361822616774, 60.69020371451684, 56.97692908372956, 52.8794845639636, 46.29301801263013, 8.933670059678839, 87.85457446861083, 18.74657402854548, 43.11519118186796, 29.917402117601696, 94.58849697143714, 9.347434580397014, 86.39590654242959, -19.566057728764644, 4.1754546489649655, 80.33170317452495, 75.86084951860751, -3.0387225497904957, -18.941513221455377, 70.77033695023519, 53.8757274832011, -16.390799705418658, 8.426417058507543, 32.450153061657396, 22.902667865766787, 71.73421838895196, -1.4296805485508877, 64.08861066199448, 84.99923908000267, 59.58407376513138, 41.93986838304429, -14.132324910974333, 93.0428627704755, 45.66138408441199, 87.7885391403407, 44.95410578336684, 55.59573852118555, 28.939202493423295, 87.81355538233875, 62.05016702593851, 48.997062904938886, 14.534654342395996, 46.312479307260034, -16.551257854556482, 97.10206335028663, 58.656870658183905, 35.1249401868491, 71.31996458033576, -6.319283575020446, 37.78737444428459, -13.10300003220827, 28.53838482230975, 50.683301195506544, -5.598052772530693, 14.035349731482604, 56.61947406103371, 42.42952171276699, -8.657700350119022, 1.886600532204497, 96.45676202707091, 3.1153039994236273, 76.63533063788623, 5.778997751740999, 70.98982986774882, 29.288557791544065, 54.487540880317695, 12.098379577208995, 10.31345293407987, 99.59614908050148, 64.77254655929771, 65.51482894949433, 27.976165896623748, 60.722556345276345, 70.71158987026323, 84.31582278067681, 32.79470850344063, 73.94066903784474, 79.31929070815889, 59.23375826841573, 41.23545841832517, 54.55217790046862, 98.2869789630207, 26.23774575139373, 97.05891495058943, 94.62668875886479, 74.41521205328938, 84.48060400696076, -14.805418523445866, 19.214471145471997, 32.043536482673, 65.75321163616815, 14.108500394033037, 1.1126349915819205, 13.478625322273643, 84.46519869745943, 63.00662048541997, 72.1528371444473, -4.673542567764986, -16.37606612578879, 96.16873740692607, 81.34686114465536, 62.51386316878779, 31.42406796029644, 98.80875918829435, 63.92679470012004, 19.93461168660378, 29.362937006269092, -0.28286882330147733, -13.70831370640833, 16.563352183924465, 64.3057381495491, 59.212640259476245, 84.44803951355313, 58.525390609804305, 41.48334371421668, 1.0754561194846914, 65.29208722608766, 4.262044381133613, -17.55806172027664, 53.68922472513873, -9.411138170090716, 85.30781625339613, 76.76992849845549, 29.7182561780508, 23.89676610501315, -13.849762651687513, 92.25967871823386, 3.861507186540784, 16.387577703784338, 54.04894335579526, -13.854394824431559, 10.159309917494323, -0.6566336842297282, 18.533638937734814, 37.17190382426135, 46.86697805469265, 58.24417011075441, 24.647453873371987, 93.00917204411216, 95.6166251579807, 81.64745432248137, 36.773608809206706, -8.104765505525652, 20.148125289555388, 17.46543610102124, 61.87888160366292, 80.47002145829508, -6.018956753992413, 66.83572811934849, 82.99997579675106, 24.784345472650962, 96.90275132384339, 11.492143318572111, 93.67015091955096, 8.639960194704305, -11.391655876808379, 22.391307663664705, 21.117008752898215, 79.8618999368431, -1.8432909796837684, 26.803744509847064, 36.061700599164574, -17.32097561430576, 13.002718848045852, 71.47065815535944, 52.70979314962162, 70.6684356856279, 78.32734473932923, -12.573840306928892, 14.36348305921895, 31.599166087249074, -16.560256297599004, 0.5284558220167881, 35.59712016215907, -17.778170607968637, -17.366849261311206, 3.74525633262229, 86.66891639373145, 66.52061522252669, 58.852404905908614, -0.8060999237172979, 29.865195799552694, 8.654835369797645, 34.07790068602052, 83.39992498861662, 9.034352417513837, -11.530637348249563, 45.62481509034552, 66.74312031819278, 42.871017293675166, 32.129870922550204, 17.760160767521917, 90.99029490622752, -13.68624200292726, 81.97210009792295, -1.359072417402789, 94.45657805475386, 67.02614337074768, 2.356870007773864, 13.687649397485224, 0.9712272075709976, 68.40481875543108, 5.436438338781564, 10.175068332794304, 3.1679558938230024, 27.463743111963396, 78.36996518271009, 13.128589761655206, 93.6481604537624, 46.79221933225726, -2.4651359383025664, 78.27873969841932, 83.0077127951992, -14.676131133027077, 90.0714396004969, 26.096589385586412, 63.062580637432745, 74.78325369461547, -8.883166047502872, 79.03934329956397, 0.17618869748741162, -9.362652943475434, 3.082672688484706, 58.55627963586886, 44.379913618752184, 12.697495596878177, 51.87573886778516, 86.05099091399791, 26.351397656206473, 82.15057073627854, 8.021290322208031, -5.69896068000784, 25.215069753156968, 74.70345732163678, -17.761249548828843, -10.78832506147819, 99.11146242882803, 62.5587129806337, 61.373548727233356, 54.715541481266285, -16.123915715185767, 69.70228303883687, -11.276403428295318, 79.27163160872814, 71.13363929066969, -9.665830898964618, 69.03779211406331, -17.168010312283087, 38.10886635931133, 75.8764881556054, 70.36712408738587, 85.30107233605106, -3.296314242317276, 69.38322283413162, -18.385812563416376, -9.784796436776947, 39.80130474353939, 90.90632871401954, 45.817468381167885, -16.341608889672266, 71.75412514712528, 99.50912939095802, 52.70271210313719, 32.318682822550336, 20.62616225425341, 89.89109099567358, 1.9377146736231232, 36.67958839813012, 61.95194074856286, -19.636887225951256, 94.19734651820251, 33.39624728963162, 40.24613751981419, -5.795179385090181, -14.4563579391146, 25.861631858751046, 81.77061389860644, 56.550959072191674, -10.90412580113053, 5.365934318458624, 71.6692060709378, 94.04898794806118, 43.42545039799306, 68.72885345419604, -0.06714935527405785, 91.29998822641438, 95.47600957039079, 54.027873493519266, 10.201676505685668, 55.8829869409318, 10.446976030365292, 17.47456028079641, 11.080026488427784, 4.833233190751166, -4.610996625510682, 52.4462205544301, 95.96073590164697, 95.6160063837264, 91.61915358999698, -15.134042948291007, -9.693648584500636, 71.20084127540348, 83.55079456323928, 84.35075337891769, 3.321550984303446, 27.99341990999958, -19.633244749387522, -4.224175812897952, 21.545536849609313, 11.787564835528904, 83.35603925985308, 79.87765716305925, 72.8979080113706, -4.800106986021305, 61.52957779203166, 8.873214388815683, 60.33416005946188, -1.3262344928813974, 55.1802585376621, 17.32209325446305, 41.491513958052906, -14.191968894604766, 76.53175543185328, 78.83824218643102, 61.137615232218934, -17.70818509563113, 98.50732131203787, 65.26310642243783, 40.59898453135407, 35.34551962371003, 16.918966460511975, 99.84469611336831, 63.65202659756406, -14.792465447798357, 45.931724470070336, 96.1857143409318, 69.42136793882405, 76.46861113291527, 6.692138130911566, 22.31492111179479, 41.309198839521684, 96.5575020672105, 56.95875393432563, -0.3236425017421318, -10.398699363273337, 69.88780788440796, 96.34800919767153, 81.19201633790216, 53.83223375497397, 49.827276754666286, 15.820229162410115, 76.68804580714365, -19.605533870345994, 46.512358746671154, 36.34319274291176, 49.68540038683987, 85.62723936077235, 16.314064902515184, -14.807773007796206, 34.76895735787715, -8.126362400927176, 54.52972989463309, 36.70982816417643, 7.018043720398243, -9.744496491795992, 77.62108322523406, 83.08079703402954, -0.8928582277773387, 59.591674985416944, 38.00289329400488, 92.4302131492275, 57.47520352522285, 40.07179086626622, 56.55125650699536, 19.53041878609747, 13.098883168592195, 18.74294000587335, 23.491540123733607, 58.83391091923124, -15.320153409003243, -18.51363799295585, 69.83484003292243, 76.70610474448871, 87.2527543026358, 66.07418231006271, 42.33614738913986, 42.58220721982133, 98.78531932418204, 53.24823400057167, 88.32901572742198, -15.679442940766549, 3.4333853032857533, 1.232592438061534, 17.157572287747712, 60.45710841653381, 70.1815308938613, 62.68006783612766, 6.0608972344575385, 89.0826155623577, 71.4831349415173, 7.344514170768242, 1.1158087293822874, 9.589855593171166, 39.484629516575815, 32.95459102321629, 27.353490936067402, 26.608096458495105, 80.10701135271167, 34.32580190689048, 93.6983992835331, 70.93658042485811, 28.62023413836708, 52.634397719603186, -3.628446916094749, -18.79705304059668, 48.839287675132056, 44.98657728796822, 12.188058231623145, 56.9979477573891, 86.43160611689851, 62.040403519779616, 13.352720821531548, 88.68781810741746, 42.12023959447609, 78.89618795735376, -1.332200637229846, -12.648286789478975, 15.324968489859764, 9.57235929367976, 28.863381481846908, 44.77830845385887, 7.963555134231587, 38.54378964047921, 76.3309748864426, 36.896691566764346, 68.78563190153945, 50.61428527176359, 55.19443938425266, -11.84604074614004, 47.12915121668509, 40.07199664575991, 16.66985181231125, 48.53879711112948, 45.820474110135365, 81.55485707294905, -0.668723396807998, 71.57440684955466, 96.92489518886855, 0.7158971113908983, -2.7723665604331202, 59.56070769217155, 3.1226162097592294, 42.19740916771411, -7.355169056116386, 82.99190797844774, 18.222990444374545, 12.753553521923827, 75.70626418802085, 64.31220568710049, -15.706685180709549, 43.52177559576491, 0.8062146543828561, -1.3154892543021361, 76.46163446425028, 88.90371797106829, 59.2697068896627, 37.842672569749695, 29.647259003928106, 35.72962050922167, 33.55507036474483, 59.5331486686661, 40.30345667870699, 96.33494960855225, 22.48505406914265, 84.3393744461623, -3.98882742890088, 31.320040740793495, 89.10821850844317, -4.697620398328976, 77.17769186404965, 25.33623989788228, 20.36390441518811, 88.50817521104713, 20.83501501419579, 4.7672838542193645, 19.600328181353383, 89.9793894467748, 96.00802312894179, 68.64774092550547, 9.754544542023421, 52.1876656471086, 14.981212606231516, 11.72638599931167, 73.9899432019332, -1.2261440498071785, 0.0201990515045658, 21.32219554089327, 81.71576304080284, 63.835630428805715, 68.28367129144061, 67.95439725127372, 88.70020789457487, -10.455881737561477, 96.62438686058329, 69.02494422826523, 4.396191410203798, 64.87185907783095, 27.88002701237466, 75.68723180145437, 77.31037997505382, 46.499305152914246, 49.311803478795525, 85.54072054987535, 82.95322681038311, 89.85079907715027, 52.873996229597424, 48.84441881481078, 57.55731960231115, 83.37297597712144, 38.23271783768527, 22.263507323513736, 70.4993642708386, 77.05414173959554, 17.149585797082977, -3.410007335590084, 25.23940282221752, -17.31416684901024, -15.59628520322756, 71.16669266976992, 48.44604992814374, 62.310797742259226, 5.306294914337563, 64.40863098713206, 85.38945921519188, 61.20832786670863, 18.10162283271662, 78.87086469640603, 0.8047067303723452, 58.07968405786161, 63.92970243031948, 89.21269893435957, -10.842979808519623, 67.33483039367259, -17.356333592740324, -0.7599480433597563, -1.1875081339129991, 60.998456042358754, 14.55056575384819, 89.84594323981251, 44.888475132619305, 99.54566105125721, -10.40661917362459, -1.7002878298803452, 46.97345313349527, 12.025090054334775, 83.12000927479568, 50.747411100390735, 73.58406402723473, -9.225786607349251, 73.58443375974213, 32.9428380207488, 30.50856464533576, 64.73478762027956, 2.2117236083709813, 55.62562651061204, 50.916189297439615, 29.229940307957982, 72.4332177290903, -18.61449562464933, 5.159896275709855, -9.277755484460485, 65.20857997969922, 82.66943424505187, 96.64565103218156, 88.3539642139541, 79.43635482886673, -4.619412895950505, -11.772171741205417, 39.082677024539116, 49.1720786249239, 82.82497720955448, -14.723568717427472, 83.82063336400793, 70.78310765129629, -4.024558472088762, 63.01560539178968, 93.19843500387259, 63.39150277946834, -2.18116635793789, -11.553820122761786, 42.39845555717337, 1.7791235307389641, 13.79380725634585, 6.136985818068364, -11.580359002463364, 39.66895698587511, 14.320736183524104, 51.958351082045226, 32.50385416401748, 9.670486236775066, 84.44063173327142, 52.44038407491149, 3.139989064054525, -15.065625018813481, 20.17948860676271, 22.130388208786087, 39.72129586198026, 79.16154395308182, 3.0534081987257267, 67.93830158837949, -16.783775025721827, 27.290194563353467, 49.82472234863677, 2.4052803536762504, 90.255064607193, 53.93355772690039, 13.452622339197582, 55.50805667771854, 0.8870074670954864, 91.58894200941704, -17.737444457869806, -0.025077929939058663, 36.91953353053259, 92.77540719129665, 71.78160951411189, 17.44539750311754, -14.328002173346622, 95.44222814537099, 15.538381424370094, 35.444725328726236, 40.73710929299162, -0.40209799164943405, 12.154060040856379, 12.457035817071962, 63.820126321384464, -19.61868309869136, 51.51834868940337, 50.266985373940955, 83.55908354768651, 97.17874158893687, 99.96795360240714, -8.9949342039735, 90.3422280686513, 0.24008698800308892, -1.4726479932741086, 32.52972110977336, 12.166192804274345, 50.81516615604943, -6.715534066817215, 36.39924295280372, 40.74205200592401, 14.922943295111196, -6.646145125678959, 60.05919320565519, 98.8641224953935, 37.67624060200351, -7.241010223661132, 31.272470006377723, 33.72305078121541, 36.520385681169316, 52.92645740464245, 46.85218450128312, 71.07673286658276, 70.42287952148007, 98.04580972431201, -7.479903239507962, 3.867422063207652, 90.00860453414789, -19.069094746792334, 60.77587066248732, 82.36642962997621, 96.67250325363327, -13.241062372257645, 25.502643506014884, 14.180559295714225, -4.864405637116192, 74.6727849743722, 50.25801996789738, 18.635000365027025, 86.26919532631025, -7.135272215218006, -14.052878849989812, 97.37027459762318, -17.637342716569723, 91.45098625915253, 68.33332066861367, 96.50842265801994, 23.023606688989737, 97.96771702549235, 49.72236560990258, 17.036358626639462, 73.94729434139374, -2.2003902791817076, -2.5905918544609747, 21.300088078498888, 25.917578756112704, -8.860749574364046, -3.9547783276828206, 35.3700678838766, 95.77709662047559, 24.771881081768562, -10.116409479082972, 95.86625159043119, 15.210821135611319, 74.56385047789202, 25.038536613486322, 42.775607115185146, 20.08726968812445, 38.3864348041197, 37.72148032295001, 86.92264885665386, 98.18381882576129, 55.17954951634991, 0.811724921299156, 30.183005277753722, 73.09434384882053, 27.478372296494975, 2.716105456274409, -7.825191029300008, 37.51794058625026, 93.51089473009826, -10.222523981354904, -0.4281171260692389, 96.4380383723021, 97.36641331726949, 76.08866328750223, 71.61477145098168, 82.88067522465934, 55.89611815256394, -19.465792871844126, 32.50477906521768, 74.28639634596246, 60.2014335970252, 77.20707608622632, 82.37323112560364, 6.240332219598631, 22.555615530836846, 87.66453327311726, 43.91283219825562, -13.998688418660272, -19.641850322781366, 29.97434512499097, 94.50251900528514, -14.078849161674029, -12.060964512089232, 0.5212867323726584, 6.73324142500465, 72.62297511711802, 28.08293982895099, 7.4628021751016895, 17.619641678949606, 64.68655893736978, -11.946409520708938, -14.234262436707027, 68.66377942381455, -16.028722731467283, 46.15019118897544, 84.13286358223637, 18.253539822483503, 45.61488745120633, 63.58702398742737, -8.43875532857139, 11.159599892891535, 40.476067136202175, 88.25053526959917, 61.46719170193602, 17.499319801202596, 7.1871849755280515, 16.766774015550197, 1.3787010508597284, 97.30240445702192, 21.64705045572753, -0.054218209305048504, 41.38650745443039, 92.17647193263818, -14.513055220230747, -6.359728024001448, 32.010526485771564, 2.662192248132822, 30.083693308017573, 16.880209513398498, 50.81459803861554, -11.86402467303154, -4.137277010525647, 74.302841597131, -18.14303792664895, 52.654866055679236, 70.34729105285291, 72.45139570005135, 95.79941830187245, -1.6841106636785064, 60.57707639766798, 38.52106783354431, 5.318913510341872, 50.58431767968503, 71.61063250324266, 20.28484531269568, 32.77350551060739, 38.99109094525835, 7.2191998472564975, 61.16025173353425, -4.01141850171809, 71.57237173863442, -0.9362333356201127, 14.356506613496776, -19.993035975585826, 60.31834551437804, 39.93101171005486, 44.25582545778349, 72.47217635103328, 55.07007491718328, 51.45799317723052, 4.55042438667002, 12.253951215381463, 82.80313084828683, -14.308696301798687, 22.86681576406812, 4.525783632195399, 94.70086435211049, 70.57262750566397, 19.40646541820258, 20.80653606045749, 75.17032391378339, 55.694571007103264, 64.975965015604, 69.82529025263062, -13.315431412095379, 84.51879958744331, 1.5983312147043236, 43.43914242612419, 59.81033735079464, 64.7384114203956, -16.555590176072652, 5.512641002083161, -14.74209450702039, 49.15052549489711, 23.820387814195897, 29.679351079270027, 2.234368933711039, 37.356225955503064, 8.593882242621707, 82.23463915915929, 84.22401130142312, 43.92444312538261, 13.607346811105486, -5.728616059685013, 92.514499920072, 61.47284822261565, -19.056136913537983, -0.5384911398771521, 6.457193813833847, 39.31718588247083, 68.56199555569667, -11.390431383611395, 40.96590546269848, 49.42861522079035, 64.86552771938075, 97.96282424857574, 56.84945917305939, 85.54971222949644, 10.136035543898103, -3.928536762064276, -5.916707594992872, 57.704434338297816, 91.10920348051604, 59.121347696777065, 33.9757126820743, 32.6643487894677, 53.85418396803996, 38.53065468785652, 91.76398414034972, 94.69971378078618, 94.48823128516877, 64.83815406966318, 29.02856092316246, -19.710534366847455, -7.456337848300972, 15.474481097353177, 68.03321385921177, -1.0683592080737583, -10.13660196414535, 93.51742068991102, 31.992010114281975, 9.795233098063441, 75.54633504239929, -6.262732928711863, 43.1049696409635, -10.9101977035901, 49.94344756446773, 2.709341099979792, 87.72836764972129, 70.87594055332542, 33.34179476086924, 25.091034751121256, -12.56701941464545, 41.14916312263127, 46.025636993411695, 0.2846784469704353, 10.99914337273021, 48.42508166372552, 44.84340372738083, 61.0365176589104, 40.20990750126287, 65.50622124638844, 26.626413224727486, 72.35350966153179, 76.38590152973904, 75.09814544411127, 56.642356408330144, 35.10599109832778, 51.75073349806024, 5.000099026518441, 24.426737340882227, 92.46703248973539, 42.13931121040511, 74.45485851529799, 65.19710235545523, 77.24480367392725, -9.747882082962342, 79.49423607486018, 20.300559949493184, 87.08834752269632, -18.615708451504048, 4.284728580406316, 6.856060023665492, 36.68538121928231, 96.90760480409665, 89.79911844933234, -9.617673548407586, 2.0181156421182394, 86.45208895154924, 10.0253054955671, 85.55880656214657, -10.315145660997924, 94.57538597052637, 35.591152742266424, 76.8479193335607, 51.215350788624164, 13.35146100056776, -1.0034828018254984, 10.478600385508642, -9.19028192277465, 98.3083116450696, 89.96602159208928, 66.56692020287826, 23.04233983687743, 60.61113952128977, 63.77751541691066, 57.694015027793, 14.54127771424006, 10.996282710453123, -0.5820189550058501, 34.95932428545189, 38.95060047532229, 25.923093774482417, 66.7854474693772, 14.541800540749996, -9.080634375232254, 43.10561260038246, 39.94989648963629, -13.305200090372683, 67.938076742403, 81.27404351211955, -9.746143045247218, 82.03098791483224, 36.73188929740211, 50.667372617946356, 40.72064600005867, 2.6480157024063473, -13.430681701807355, 49.24464876699871, 35.74892375185909, 3.5910247779040034, 1.2855783085844408, -5.17186196216274, 66.36740923083136, -18.565429698475313, 65.53317229940741, 15.421734038302269, 35.59261624075776, 69.78288108311696, 51.43926565576041, 90.23394502664499, -6.541221988704283, 77.59105464384224, 87.99495022287422, 92.33504673894575, 82.95978336689551, 50.876999116424074, 3.668442164564432, -16.174788055467598, 1.5257161598888374, 88.90233680653462, -8.988017232873101, 45.29501842709804, 97.4976843299313, 32.09674181571434, 94.79658071509355, 44.44839041817518, 80.06582892060254, 52.08203274954802, -11.542186607911189, 25.243316103776024, 57.05528303120829, 2.535732501474186, 8.15355182481564, -18.210591455165854, 2.983692731997852, 56.49696543570053, 71.39009501522588, 56.42481034377256, 86.28520291095967, -19.562907339363132, -9.248537173630002, 77.42219319145347, 55.846301827991354, 75.30696778096666, 52.34139218130278, 20.24135444353898, 49.35254847676701, -8.428849888920409, 82.21930249461505, -4.5737974647755095, -11.07758540243228, 64.73137994221896, 3.5886767717913024, 59.11041155896244, 91.59790000236157, -11.125388165554323, 57.54268860810261, 24.197868749532446, 56.77431869189614, 27.492280915600944, 47.98066616974499, -1.384553462220559, 48.05015460926444, -10.69485186023607, 44.84989539166445, 76.15148405714477, 2.3485816440228966, 63.512547633542226, 22.83768483253595, 13.167399485773942, 9.132124382881557, -18.41928552587988, 34.379723800437574, 11.73794903803315, 60.81211634358742, 72.81242062317018, 7.197790737238456, 24.023866223364898, 93.30223892186821, -15.208531094880374, 30.006616935269598, 10.995974718296985, -8.387129523945017, 27.220013533008746, 8.805680750211302, 41.38948424902039, 76.3464559835102, 52.49856173158463, 53.40651309936662, 96.14287562065722, 22.3565597565332, 66.89011354995463, -19.192262054542514, 97.45696754683745, 97.56455022627297, -14.288018190744394, 68.2189906567551, 23.140127611908603, 76.94982438398256, 4.01909997187439, 4.126767148568476, 62.5723340501914, 70.06065014660672, 62.33716202002947, 91.91154258527388, 25.153280936024302, 39.66891023506957, 0.6513355937431378, -19.730792581979465, -11.86486489354223, 42.11754623750612, -2.753759198346657, 75.1920551524702, 5.912100878363205, 4.992796668404825, -4.362610090399377, 58.89833023084199, -5.859617738976404, 26.021584801098562, 35.68694705223262, 88.33412619018712, 19.720088589835584, 89.89563088551832, 94.32892667144179, 75.34714689396645, 62.31462771941521, 21.763368798346022, 79.62312382257288, 96.1270535974053, 31.532657690881663, 11.839161762205581, 5.762666918540795, 71.9627514584009, 32.778270155267045, 26.039889135413, 61.30693290099157, 69.8135921706352, 79.48652452538641, -0.9558274792833075, 41.763646105880326, 88.44216533198112, 52.52824106710176, 79.1275661574093, 31.40933513953553, 85.2929748131563, 59.439024465602856, 26.945827325873438, 28.830039360898212, 68.66289999004302, 57.07119076364778, 19.837919908851937, 75.24457472538404, -16.292329093193757, 81.4124587407522, 41.57726951421345, -11.193587633906127, -2.9289842729053817, 2.105041429044924, 81.67137909535546, 65.62936026207267, -1.090728482997541, 96.67823786958309, 72.43647163929018, 41.9949736723317, 34.07886005527668, 63.01711341757728, 21.906790299314345, 13.59504708873591, 4.582692211948427, 94.63791522806457, -14.08569369618803, -0.7301912240481201, -13.016936823510976, 61.85037605374865, 3.4423168751411417, 2.4217804647230494, -18.97115964684734, 72.35988612996644, -17.387306718852464, -11.63805937561813, 18.26436688332589, -3.6735319110486415, 14.929026376389402, 28.143796784901582, 55.35272929192912, 22.245879540207895, 27.847277729818558, 92.34679227461028, 78.71179388157319, 17.496355554162697, -6.7383309246632415, -4.161209516190322, 76.94329857997724, 45.636394815234624, 52.56680821508213, -9.700095730686247, 21.754155523071645, 57.365780249512724, 48.815413873990764, 81.13656691463126, 46.70728580379685, 30.161765022715493, 40.539750224498256, -4.179265919680745, -18.295938247617993, 49.24940306943175, 31.107390120949894, 54.65896774686745, -18.31971576568823, 34.95118495104467, 4.814997171115344, 59.477148214468784, 9.962861465353896, 50.268823168556224, 77.79679774073935, 26.82506091631219, 47.4843155907236, 11.377122763515182, -8.033483237634819, -17.71252666651985, -19.40901192706878, 76.1182154215253, 87.8082493140504, 80.27555328567475, 73.70921896724045, 36.58027936095104, 35.267027683403725, 27.1021970400112, -12.760986723898347, 25.79786291686637, 5.030369964910548, 44.53867064230016, 7.401376691004881, -3.1253272450085063, 10.43560159740845, -10.263784864267404, 21.59340590909818, 16.042815206677112, 43.64863949831513, -8.540851577872521, 64.35366290343194, 8.649565507258178, 55.754265358756825, 47.31527769174106, -2.129707989840888, 15.249120645296102, 23.112422974801888, 98.72838546791729, 70.60984487508603, 46.20524216508184, 67.72820023684038, 93.75371971963328, 48.82349475666909, 8.425411590761787, 96.18577503503718, 28.067289296124628, -5.15689567675151, 26.900717665305706, -6.546582104421695, 33.09061779397388, 21.071217652471887, 60.476622200250574, -19.89095450821869, 11.486495446900314, 78.46964902421979, 52.9626028733293, 78.1590486212715, 78.72509017645594, -9.824516710529473, 63.41907642210238, 79.73796877929182, -16.190898533579468, 47.796556734356784, 33.10391688481672, 13.740553559650508, -13.567982870065478, 18.875835790048598, 7.498732462326082, 73.05969719735533, -7.185304017954991, 87.0452359099379, 21.178041354673972, 75.61835502164166, 54.85646188366117, 72.35747566246721, 67.70270589247012, 8.428443323480113, 18.10042658265828, 64.13101069773833, 25.22167857436176, -11.895628014925922, 42.72367199187472, 97.84479390610439, 31.18654909902878, 78.1393408258869, 34.9312825954633, 80.44688548458262, -9.046796176728913, 4.00298315373206, 76.00285914278577, 14.697474273620934, 11.399688541476742, 60.63290590544301, 16.8905091268739, 58.12046121169942, 10.606061423690932, 88.2924709535782, 2.2397865816182616, 73.24274293091243, -9.681841790968008, 34.83526338122065, 86.81705140994502, 31.353618362346964, -17.018484918413257, -8.310188594120675, 31.735978613985417, 61.91470816850807, 55.172890553273106, -5.604275797488061, 52.692143347769886, 11.546155773001779, -15.380389659010554, 98.49804617726399, 70.15541739620126, 97.19143952302733, 37.6790316029454, 81.32458790370855, 77.38387240559662, -8.361178673671134, 96.31365340602012, 17.148488771278025, 40.35915726616035, 5.491032490520631, 40.34156088955473, 92.18890319853384, 31.61315688866503, 42.75974889928356, 18.8717982001357, -3.664364143171632, 93.63647147845352, 5.8024117667676265, 6.744972692768915, 92.8017210264444, 43.20837711724255, 66.78694134393632, 0.8208788386684631, -8.5333423114868, 54.035155731074866, -4.271266412628872, -14.705965509015474, 82.24442861771554, 19.30193100268189, -10.30149841473091, 18.61675400339478, 66.86627302247602, 77.36270203365643, 75.23940791223055, 48.382949251937475, 29.020039999574834, 98.06961936201475, 52.04101563643985, 10.947374343690708, 22.4901833333708, 73.37073262447994, 24.461116682136208, 94.93786166916307, -15.00778102162685, 73.31036322378223, -17.989730652123406, 85.61361675948393, 63.451589353191025, 98.11754070469543, -1.012263184416021, 99.94725423344758, 55.76252497410688, 33.77898037714141, 20.965606259739886, -3.5636860936101975, -17.433254904123952, 34.437754514215435, -12.348169467015424, 28.090144166436488, -11.214417959332579, 66.36106558302356, 59.29057675020587, 58.28864827978511, 32.6954290081549, 12.919076330364916, -18.31814313115414, -17.897953698187234, 37.806926417243936, 87.0539896552407, 82.71257806697307, 67.151170003882, 94.15250837277014, -14.32440048586491, 49.41525122418268, 74.15337079689225, 80.23005091871885, 12.697590232830763, -6.186027050078927, 49.409831818311645, 96.08184527413621, 67.97525018482605, -16.166367504317947, 33.29801617405405, 24.490267923123014, 53.33239369800019, 26.50664647279124, 85.39018505639515, 61.65073545644729, -1.033626933797322, 63.09518600781631, 98.73560762090968, 79.40400615906948, 48.455166442063955, 67.11840841201644, 87.41819890464015, 46.84725344297847, 53.988928891432806, 25.76244887361093, 67.66881147009546, 98.46090500823952, 31.315848991245964, 67.32352869023651, -17.7012050010203, 98.17770539157706, 94.55387109581484, 58.65664122212273, 2.53228223437155, 25.300308338556654, 53.34266624215792, -17.897754151097555, 32.32401161057253, 46.80509648484474, 92.33439784083906, 95.99296361964564, 17.955302931225553, 51.48523711515392, 74.92049153826774, -5.5133301012630085, 23.774609364332953, 60.708375646442946, -8.36933371308632, 69.37087644941458, 0.4714346503999707, -11.381449892478134, -3.5404630113450786, 28.07111613676586, -6.666706189041459, 15.991032641380038, 0.9909895208584452, -18.357773504273112, -16.116398085677158, 83.32484553957627, 26.372120739649993, 46.615387782565264, -17.718179141151417, 47.34426927628995, 71.12282636798481, 24.85545782726676, 54.97694302139618, -13.837588677054736, 54.44488471907937, 94.01347287989856, 66.02651881105506, 64.14382894970272, 65.26133394372141, 66.27514943662901, 18.53535375518898, 13.172163219501911, 2.713171439185057, 36.879507257198526, 86.6174808697581, 10.256279959238551, 80.05880244776495, -12.499113482618762, -7.387909785503357, 2.9516555628791785, 80.41146508752408, 17.637400479461427, 39.622811655970715, 24.74178211770201, 72.6490238224573, 86.00775814487555, 27.717825409470905, 1.092302207535564, 46.59509186973962, 85.8397648619377, 57.76387601547444, 36.497390839610254, 1.0585531346986699, 35.938656141696434, 32.58062029013262, 19.949840005911128, 25.226449924482218, 95.38851281910897, 4.416409041890429, 13.505296735906413, 99.49428800172595, 13.938244356649065, 74.68559719245796, 84.31874585127943, 59.09557256889184, -1.109290995543084, 65.74109884242566, 25.794978532737275, 82.01027036618973, 8.697615190711751, 28.44964373780133, 88.79262645575061, 71.69535264932993, -11.42065446461939, -7.936351789806402, 21.012827414167248, 14.848968108559973, 56.0717403504276, 32.34780349659378, 48.51851840851468, 29.014906197898917, -4.6081827123650285, 4.788565241632806, 36.908967003491675, 83.2047938030303, 6.455323267538056, 25.916197225813676, 97.61488433567898, 28.947850432672496, 71.18082685395238, -19.2291620946102, 26.257232268941642, 11.907296475491155, 74.59127428212643, 39.24754079693699, 91.42940831499541, 65.73715917075464, -10.732595261585844, 2.7899518237839125, -6.240172133304274, 0.37451238387156494, 22.39625783320851, -3.357175867583976, 44.696134227240776, -6.837262504598275, 54.1351303603804, -18.00766420559651, 80.67718360058777, 45.46893192563971, 9.98920104312862, 72.0922390142005, 64.25766865438787, 93.73698500729941, 74.70754250143544, 19.811058945713157, -19.86045777749739, 96.53056937637783, 22.95209014658129, -11.06261437802749, 86.92824076333356, -9.422734384348699, 71.11192108225967, 34.119019723112984, 94.10583015914038, 13.746194057560103, 24.913757162465153, 91.82229443722332, 22.088120552567773, -10.192477882741354, 78.140399742813, 43.58340929917747, 92.83914528323629, -9.86197096809008, 73.1402805112734, 22.32140400354541, -7.203125653666035, 82.50232195477864, 10.027753533285374, 79.52179806026066, 79.94473002284477, 77.57312902276476, 46.45512862512298, 42.18711461736181, 98.79577858893708, 51.921068865382196, 15.877389637769276, 56.96937243506896, 37.602787630438485, 97.68802571274153, 65.27930760131076, -13.928785823013916, 66.55860742819432, 93.75038926349829, 85.19115898219387, 94.51788482826575, -0.30696480732243003, 12.346497120988985, 73.0250342420237, 0.875231201123924, 38.13156067965985, 54.947586513524726, 13.501641939017162, -17.55281004201968, -3.1799411829846633, 84.1494608726672, 98.64423918602188, 38.21712824020875, 94.03388065247887, 83.90824815706046, 31.91484346426322, 89.02428611372034, 71.77639512363011, 79.03597637456943, 30.73376565629281, 70.47267098510862, 33.312640303527935, 46.19711162465147, 53.7363639362532, 21.699023240005545, 20.825203032335985, 40.24515208908556, 44.70035629392443, 64.75981200817746, -0.714806973024011, 74.83555854417735, 69.41243793630137, -6.536592865983817, 56.37527204621213, 44.048518069224656, 72.96585026452559, 98.06845368376239, -12.02244431840111, 3.5400170738121552, 17.6819151470256, 11.623818384451848, 97.71252470442262, 10.066252157766499, 37.47136239906317, 82.4193391236479, 98.05270340216823, 9.595317319852764, 60.05402287305736, 35.660611552074485, 83.37626070537307, -18.4546985168858, 13.34027224720625, 9.890009927531821, 34.529808369323845, 99.30755826975502, 63.603837411961194, -19.79900058571208, 54.80801236535871, 95.60506790460764, 56.336567619846306, 83.83652764452029, 20.65883885243298, -12.330967517066881, 61.15372477390855, -1.3364247568905832, 28.14312060044592, 20.883003091414103, 88.74928047130898, 21.34594603773664, 70.50426544557091, 15.750100944509384, 89.16455019808801, 17.565146744612356, 11.762401802746695, 53.502839515795614, -1.0136213690148352, 9.551915957561562, 65.17855660389543, 86.0354539676344, 57.76379860183951, 59.667273382021094, 92.48816352957135, -6.111234396345351, 3.1431193159648956, 6.515928088640997, -2.6589028572692577, 22.97566305294579, 85.98951514863124, 68.63258829094364, -2.3279449401730226, 69.99013724720807, 19.223049539079575, 10.11096781547295, -4.215880239604871, 21.45779984900171, 63.67609604725287, 47.42684703221596, 93.24694005835195, 97.1977701962685, 84.28057851605467, 97.96793566179755, 17.18134632244783, -17.341421346980567, 93.00868581083819, 67.07406292996112, 4.196208143308734, 6.8971215393940035, 69.1428612245778, 40.208835067327186, 92.82925636914624, 77.03325489879195, 99.56039747600454, 99.01509531478028, 31.066260414882322, 49.71613730379988, 67.39276969074895, -18.043288602014, 44.37358077952362, 89.14217007737882, -0.18245934039294553, 8.628501326099958, 9.662779790652646, 75.37801036909215, 97.68405170571953, 63.51506546809412, 26.87079458490014, 83.50831717368385, -4.457013126182847, -14.36661894316237, 3.4041024962743265, 92.61372156991331, 53.7050410114893, 19.468880520790528, 25.301626823452892, 95.21276485368486, 18.320240745378328, 78.21456534619114, 61.874949812062766, 51.66588281865937, -13.699733897087242, 87.75348457303932, 26.335722093790288, 61.12380743467108, 70.37276516413273, 55.10986871262439, 56.47201343739867, 49.17638600196415, -19.578475387396466, 2.428617304941227, 82.08106402744801, -18.261224882014822, 15.27891724933368, 45.8100512962381, 64.99568963605095, 81.97521380707667, -10.157705581170529, 35.36099572009066, 97.13153542435086, -15.481846358315522, 54.93559792152631, 62.44622478721904, 50.102005211488986, 7.8195255558386165, 4.002940299398471, 29.811430124663296, 52.35243256458398, 46.32583001469389, 4.007696150388149, 8.915110739506773, -19.81912355347589, 93.17738748881736, 13.613623878025315, 24.98398324297314, -0.2448151554847584, -5.9084514993710435, 34.46690802965807, 45.715274052881426, 29.103211316186545, -11.30817538419462, 10.450478940530544, 77.08074717452315, 87.32231557225975, -11.082455045302503, 96.38144198298286, 46.5860995645706, 39.53018832809176, 20.503499099644593, -9.990649613888625, -4.754309745962772, 28.202708763220784, 48.99328224719213, 56.009851495500314, 88.66250213436116, 86.85311699754844, 5.039106442178877, 9.282676023942066, -6.946455438805973, 57.611259115311114, 11.282977551631475, 83.22445609045961, 16.978713489383644, -5.325745991319874, -0.17205887695959987, 8.085973940764987, 14.717987367971148, 72.92578691365118, -6.171772902892885, 5.48192653092698, 67.78907788483681, 17.294366113219326, 42.25220811685237, 76.12330218650331, 18.939636383996763, 69.25903425465191, 98.86636714882978, 46.4381119564181, 62.502592495962006, 62.85226474078058, 83.18972116080386, 14.825710720132193, 5.472216423045239, 86.9048463022632, 4.732532461888653, 91.83913705194543, -7.449238996160133, 90.24537941804083, -10.255971855941963, 28.829006872083646, 57.39130436297883, 81.82394647416618, -3.538046945518289, -10.265269451363341, 39.787104724850806, 72.89009178389134, 7.84652483745516, 42.3840501369201, 86.03700973576814, -16.857169504535825, 54.92286951480163, 26.037524452871892, 2.3367916647342923, 90.3244381863952, 73.9622970683035, 13.704597793718001, -11.26494390589874, 59.994529688937234, 56.52488795376573, 99.97610866698564, 68.37200703637093, -8.056912325884609, -5.163891165345733, 48.74708130753132, -10.907019987919501, 30.831247137738316, 34.59804137930654, 11.548645438293335, 49.611055100446706, 89.35892793376615, 85.31878188841576, 74.00789727600544, 14.352438414676428, 62.64827295231689, 10.588636100965637, -12.361226187744023, 75.03600013952111, -3.137061642042376, 11.425336136889172, -10.1043848410385, 68.34661416741439, 51.94131541100414, 80.87308024516226, -2.377106727721504, 14.538454722802314, -11.807073116007185, 62.64482114303213, -17.503096931421545, -4.360378885461023, 70.92912729418835, 99.88191562568962, 38.478127886378026, -1.5171299119554789, 24.059821662136343, 45.87289586725407, 66.55163283720245, 68.21016880655125, 56.31292167637818, 0.6902032217264988, 89.21330574030615, 80.48382145524266, 77.24740450990778, 73.8262135643096, 16.780269523797983, 65.46410448983369, 2.293814380323994, -18.069501702871655, 76.4381507296836, 16.745601249351118, -6.790285738505407, -13.830247901369992, 30.806677884171933, 16.079188523281907, -0.4806564985197497, -11.882986111891851, -16.647927016299207, 13.325354999329349, 6.441633501880485, 66.28112461502982, -4.6168742835976815, -19.526381914528827, 29.048260997373212, 64.6848973587837, 48.39479780981213, 94.3122049106475, 9.196844491038174, 47.38854675137212, 80.65167980806515, 72.6958835856327, 32.811793370365, -11.86056406795744, -19.85377185631538, 87.88026276728442, 86.65996882938936, 58.67433692961713, 79.34699172496613, 19.78387257196311, 52.5792100820711, 26.875328717038613, -13.06040034408361, 66.44851064156379, 29.613795640287847, 71.63578198598685, 61.506671567034346, 51.63257198344914, 21.05118401709648, 82.47800683295443, 95.22947649238588, -17.067588173801433, 39.858182108536, -4.263053148087872, 34.65649255144976, 62.53585751332058, 26.661198319010275, 47.6756637895279, 93.6806611966546, 76.72384464310029, 46.81898448817819, 25.191010385445715, 81.48504460974772, 71.15509200762351, 80.91301033214135, 34.522889307555616, 82.34037846408691, 8.940281772802713, 52.41668923365273, -5.855546352097981, 15.560012730875357, -15.984712752238138, -8.927936420972324, 60.251990612104095, -12.483525085156511, 35.63380568146603, 65.15503440125805, -12.483756062177754, 31.905143261952837, 27.77642642116009, 59.08831512384768, 31.502234667727215, 59.872539751822714, 95.90536425389605, -7.276580346353176, 75.8830965440864, -12.563809584318598, 51.25931121474068, 29.404143349899734, 5.651675434129977, -10.51392508390489, 21.953883688890087, 72.97117198674863, 21.465666505209995, 1.0354079753542678, 68.78172076805319, 10.52271288511848, 91.63553957899475, -10.399176802563161, 58.52801033426451, 62.38911182061818, 99.93374830568293, -16.50074781598295, 38.36151316655862, 62.4489964225685, 36.490801447437136, 87.10758247654515, 94.61783442490228, 86.87508472927946, -5.03731713959696, 1.9068123153413516, 88.91752141136541, 28.760949702035198, 93.08233076178236, 50.3695015335401, 68.70935615609261, 89.50779777153696, 69.97933918376373, 48.35055608670574, 83.98426675258814, -9.74719030516399, 88.50474688219964, 86.62333531332287, -16.31299698496823, 73.51164700297957, 61.45521728693252, 68.75305581602822, 90.33115896010445, 19.87923628138015, 97.99372367802354, -12.76783027109043, 19.799257691877365, 37.00066123206025, 52.83062502059441, 66.74578671197993, 97.64455505239303, -0.5985192583045986, 13.657760280327352, 39.501433709000736, 4.931567880929791, -16.791878910429688, 25.999892257150513, 60.81312262883898, 43.27026917456805, 21.177211595575237, 75.9922348756284, 67.8879243900887, 3.4507512344076687, 72.54690814780868, -11.161202072651113, 80.92034083958512, -15.427203241816475, 26.882283212468174, 18.01523324068109, 0.8427654399074953, 45.20728913778015, 29.3040007828777, 6.557091113310058, -3.711649362988517, 75.25891096880966, 66.67458871208305, 42.18541481032582, 53.39732304076807, 63.8374080663082, 4.317167054547227, 6.252189762393584, 80.31564987309484, -19.715600272702822, 88.82485704234759, 88.45814742204504, 27.63636529110761, 60.93132896499901, 5.165311606952713, -11.218373009721159, 79.68743384910111, 79.947532855229, 29.766693503673707, 30.400669999153266, 4.272546361303672, 96.27206987048038, 5.541228112574142, 12.172279188493022, -0.4184043858395192, 3.3274339352290667, 90.53926144275248, 27.72333785117192, -13.277767192656459, 75.79167207788643, 11.013690022894064, 81.8555108484223, 78.2761394051904, 24.218846133485947, 26.759075399588795, 74.07153792404834, 23.451989257719774, 80.56548697640707, 95.79416009599822, -0.5653734361609288, 86.5326588942773, 73.25717175646822, 58.93605222828418, 72.08587031363497, 37.4271240023822, 25.61883100965281, 43.65985496458971, 17.202549049532124, 91.94343153448112, 90.98346664593183, 81.51501454364113, 97.82703354709106, 56.742963460754325, -4.078751596794369, -14.10385867097598, -17.280754444935024, 69.32432821163793, 64.02216884981998, 18.075642164507407, 46.71383183709966, -3.0396364562958738, 98.55181945024394, 43.17139205606688, 12.266523667532184, 84.5868050253782, 25.266827797714882, 97.03166162126708, 13.683712000436287, 6.026466462985315, 24.634275107644505, 3.7171316999703343, 89.92796410549516, 83.108568384864, 5.518474604999341, 49.185027226807506, -7.845879308634757, 29.961542561713202, 66.58739842284861, 53.875438223300435, 53.07598305236196, 4.807441006806904, 30.586821926076688, 90.66776512523506, 20.502184350463722, -9.234337649189182, 91.91825092257112, 54.859714816297654, -11.182432829129363, 86.7552258975517, 4.589330264321401, 72.91698708378759, 69.87357494402264, -8.9863471939882, 72.9512443735054, 16.064637801191004, -10.985319042972828, 6.812131681327898, -17.628145668808237, 87.31774828916315, -1.7782237010342108, 47.31785578118651, 72.35500565551962, 75.93367692198179, 28.877723073469625, 63.25744656190854, 9.972766900731415, -15.610223889510335, 18.227731836285393, -11.4851519599458, -18.501945145495387, 32.86860972306794, 2.7979707298946686, 27.89546345669298, 31.756484163690715, -5.49135960845903, 59.00530186950161, 64.69471068042766, 42.520360383468244, 21.933746324967238, 63.96055866954595, 70.75217326500093, 23.43367416408141, 97.99809243735673, 31.98391472823426, 45.56106060718052, -17.453415588921402, 5.7961227987788355, 13.544286104589268, 17.825702462509774, 7.383530418921481, 52.41185304918902, -8.9865146087071, 46.447303161919805, 28.122626185220398, 99.24765438177462, 34.352191778559536, -6.533279295096023, 82.96161293824048, 52.358339744719274, 25.202582938374213, 7.992173248212865, 18.422580436583523, 67.13824333821441, -17.74718604299781, 30.72752591804958, 66.26439191460906, 42.83606743450106, 72.52838308253186, 19.664051507852236, -0.017936221723250156, -10.965651782398895, 3.0726735179784725, 45.86509811410731, 23.558602560582372, 4.00520604350956, 42.52485221386251, 98.44457363028624, 70.07754057412467, 50.525147881991074, 37.318225133352215, 37.43180401864077, 11.223374072077771, 95.6912250238775, 51.37268920710872, 34.82550043917047, 53.67847078690127, 61.62220569386109, 7.4989715583202425, 47.937325401371496, 90.03533585551097, 90.44067916500616, -11.461395120998388, 49.043070033588734, 70.25921486132764, 12.368124331627904, 22.807051002098632, 6.715737731918669, 76.82514699196, -4.573011523311905, 11.509451714362207, 26.908936091029865, 33.9167553567333, 67.71558158462484, 77.04580764614595, -15.29191343170396, 36.39249006551657, 26.29962336403507, -18.779240704124838, -11.357520599253172, 19.69372957264183, 49.01810932105175, -16.02744550139414, 92.26140993115013, 77.50803415150857, 60.10421041296314, 20.95380847015401, 92.1642487090914, 1.643849053936993, 92.35655320897601, 79.55495402421673, 69.28378198818633, 34.01291954471327, 52.979356543225194, 70.45804660263322, 30.602860736929088, 96.22295760684342, 34.97460319591382, 52.48747093682236, 10.618711536829654, 28.18794191209748, 56.48747286544631, -7.465375340931871, 82.67086032758316, 83.69330873957907, -3.2632467822757327, 17.514863958985714, 88.74598374063166, 82.51531641974407, 80.49000494536098, 44.32997990482906, 2.3858126676933438, 71.63585869577334, 75.63055135663059, 69.82760427384156, 70.60913385628645, 2.495395600936842, -10.127324640956452, 84.40025996964722, -2.9181900670782, 8.561339190412017, -1.9338501787312268, 31.54527415476086, 29.15273971783293, 43.27019911728113, 26.35410751629601, -12.531767558080604, -5.057844363236942, -5.456325953801247, 8.658002786589385, 91.42573980520405, 88.37955675295379, 33.52310498913263, -6.624609845644031, 59.68817742040841, 83.80118751883295, 1.1971095499132112, 19.543587593098906, 14.061546139430362, 91.52323417301074, 62.268079241559974, 32.61776462412717, 32.00456849413153, 62.47654260317718, 53.92489573112202, 91.48556846907317, -12.154562149292394, 45.52589255645299, 31.175140251888294, 43.65832840921559, 71.96328950913713, 27.608488708534075, 99.60976231334926, 4.429847708788067, 33.5515595744807, 54.1978662775022, -13.076559401239894, 1.0254474821629316, 76.86709779224684, 21.76485263379287, 13.048148963665533, -16.15766975916825, 89.98090550090072, 68.73193186300054, -1.7311415698582167, -19.343910029182023, 82.20311016673351, 16.52815343135478, 70.099996889359, 55.338066984201944, 87.45949455248319, 95.2619733954237, 78.27362832985355, 32.68483765751245, 40.47617471352694, 22.28491623750559, -0.7853879862457624, 30.757506563185274, 91.10527005501585, -17.016429995667522, -1.189908160087544, 47.04757864150987, -18.974150369512223, 59.084713030203105, -13.032969009549342, 55.23019519263438, 80.54187666827805, 25.781706593916567, -16.263198096710468, 39.46295517239865, 10.68003547074941, -11.421887576581838, 4.216543440496906, 45.633996676629764, 34.99928797984892, 38.20223719220235, 23.302628247983037, 72.084887365028, 82.0340053072012, 2.546780566181752, 67.65884573951712, 7.080432644932387, 17.17368612505308, 26.33106968272088, 22.077979270962302, 75.64746931730522, 18.59924235820936, 54.193252022542254, 1.3131363006134151, -15.737757438067955, 15.007081054580581, -0.1846152274929871, 50.94276735086072, 17.80117656682465, 84.93708409965188, -18.969048968459155, -12.486259376422502, 34.77852197097073, 11.59371116058669, 74.99358549960128, 71.03538311268835, 37.02532057418348, 90.62649173382475, 70.78519273379997, 98.77955588247904, 20.607257333008164, 82.11197983384488, 99.8659594380888, 17.271684653117966, 44.92174219876745, 49.377473035155276, 90.95946158594556, 5.841672423621503, 88.19131676137468, 52.14760512670264, 51.624564801696835, 74.66434154045795, 20.06251778575126, -9.307288922936415, 3.4474636621354264, 83.57152384505757, -14.638018081675428, 30.37968285755919, -8.660648937540326, 33.420917168943, 52.115151792998475, 38.998280639598775, 97.5594868745962, 22.612343773243282, 34.46588839983851, 7.950873707961179, 65.21299696581505, 86.81967634910416, 50.17738699004458, 90.98747715304383, 12.340216983072722, -17.384540862161558, 73.6498772673739, 51.080259609590826, 1.6133275114520487, 45.66592147764251, 41.880713313767515, 59.42089970407484, 64.4405923412448, 54.06725903993258, 94.36946338015338, 85.66144939310058, 59.41529117267808, 41.319332582787986, 85.10080802125054, 72.57430965785989, 51.37678784077106, 33.13588266019727, 46.58636413810622, 74.79394767432856, 35.84636296536497, -4.367508889993701, -16.49498874248177, 31.42027615792084, 2.5161762383841513, 83.33229124079695, 91.10620653944974, -13.723459271775349, -19.421124411859072, 40.89235180609281, -4.444745287253413, 82.21748335554574, 96.9214040940457, -4.476807126549641, 98.83006849199995, 33.33057084249574, -16.909246035310286, 21.72580316608603, 94.01222458266102, -7.329004542200273, 40.50211075074559, -12.841883956053778, -18.790652667177945, 71.01388381383275, 34.71249878394534, 65.77614323058765, 45.446867182449026, 69.70851448565726, 3.098751557479332, 47.23938687348628, -8.356623749756062, 42.65783181254709, -6.344811890800841, 99.20395289073538, 58.28723080478116, 48.54155936885388, 25.213644136093954, -1.8893260987909883, 92.45464832880238, 55.635311413781366, -11.469100876249275, 62.157228301649056, 55.90980988413034, 64.9952551283102, 74.36985714830395, 34.44361883814307, 47.10891318782396, -5.492585957826126, 29.87741514941971, -15.068381494981642, 81.57899667922322, 87.73951505874388, 99.38983498173903, 7.204202602995089, 25.8025371542667, 82.78772525313798, 63.38540614837335, -10.09211488343643, 41.83287158440081, -16.56930582540874, 63.22466859202754, -12.092867627553794, 90.31821347239251, 14.581624097839232, 17.702380212803206, 81.78631302259105, 53.19695962558811, 97.36919974421977, 8.04642307095775, 52.468040564551444, 17.663590901806806, 35.11339844848347, 6.4209122639354135, 96.47458432994392, 37.626850062624996, 39.01725762678157, -8.981465375963399, 33.61737652347115, 95.59011101889385, 11.995861749973766, 68.05836913029093, 71.3095856424074, -8.668042953017018, 74.73453431737785, 52.862287140194, 1.8621853447056544, 85.99600440108593, 61.487717352311336, 10.523442914585036, 53.40822425968601, 91.68247349205177, -14.408583750557149, 5.717212524086701, 97.97985761719993, 15.55416226282098, 21.002020672481407, 7.597614026510335, 18.963951577569638, 86.75305161886581, 55.67738863179876, 66.86489610908689, -9.768736141203602, 7.415362942089715, 37.46374478177587, 88.38250791022443, 75.71330282376148, 18.573944879062026, 74.87108526535508, 51.76151374659311, 22.67132094911043, 93.3200240980068, -12.749527753949321, -4.050723976943512, 6.610594370823705, 86.57605923370515, 70.62443956897133, 99.52776968026217, 46.88034784506475, 11.767516148544836, 24.201380190502135, 16.112960112782403, 62.65809863971708, 49.613951852356166, -1.9834046063271948, 63.318977910666746, 78.19471928645153, 38.04526265714634, 22.678777009002715, 0.03651536264273858, 92.28967575296872, 33.54833298891501, -4.451883647796455, 74.93143802959318, 45.54590071842796, -12.56631770118815, -4.717500685832313, 57.045118411246364, 87.72315190607532, 90.3465575396027, 15.169127963680076, 84.48494506116879, 7.747306151273573, -5.764121692605961, 29.03986707362681, 48.56236493137064, 36.164702709439325, 28.599854795224907, 4.46368723017072, 81.76853547964797, 15.929588140143437, 32.33604129139361, 39.9088208110041, 28.500497080296753, 46.807173925184586, 81.15510873315041, 96.91374561471392, 77.92535173154943, 20.691527469618705, 44.12097412632309, 82.47856600451226, 19.831121456806137, 21.54975240564176, -5.075769715400934, 69.68360997504273, 32.754324021479114, 8.825582411572253, 62.85300468200184, 1.9219100697919416, 2.518893635969796, 25.492519703356173, -17.906377525534253, 73.21406160327463, 25.390497922345205, 74.06071433039996, 12.785137363725028, 5.702788083139659, 10.060386912067457, -13.443127524434356, 75.64101694756205, 24.518229962840373, 23.400100132825727, 79.35096995968641, 64.00769500848871, 95.69283367356121, 99.9703473552744, -8.43942606773512, 53.811223528026076, 77.68177220521906, 20.344268125804874, 26.892630582183365, -13.911238558117685, 6.170694019963587, 83.94868114950005, 30.635933780390985, 15.827523729943017, 64.10491340853115, 70.65389946158793, 57.901964929927175, 16.924213472358588, 3.37826739667981, 88.26280904724261, -15.420175886879978, 98.11594207843815, -11.461849454712745, 74.80314629999359, 84.48049098595925, -18.332774568481376, -3.7428227927508857, 1.3828166843992697, -9.964480050295368, 19.34977532249971, 87.06683307265435, 73.63686935671907, -6.052387786843521, 23.271072196357665, 34.65804419906431, 15.4910989270981, 73.69656161680983, 6.659594298764361, 78.91901143152269, 59.014037747637445, -2.7900259240235457, 12.464209654705954, 79.98082542231627, 7.8545115787984265, 63.78605487582067, 77.29647612377646, 45.04914612915458, 93.73826557863045, 57.84446608409009, 71.8437270898268, 9.45515058923764, 63.9907301844609, 14.790160816637268, 18.550127376189764, 53.86177711864876, 70.0741209951084, 38.77428396237628, 64.41604357801751, -4.271328348568861, 78.82431041362018, 21.28452929073746, 17.47656615980948, 77.72467546394788, 89.13259728369808, 93.10868394937796, 90.54845407749687, 86.73913292938126, 54.968271899446236, 79.43397518380651, 27.803760525998264, 65.62297277627596, 99.917043159364, 33.41760294684461, 64.7827201931255, -2.2211692472813027, 23.04436310528311, 95.25063413973395, -16.626289617823748, -1.6586140587095954, 68.41342120840888, 85.56247209237365, 49.76416610754097, 26.77657547598009, 42.09478640382478, 0.20264294730750265, 65.02207820446864, 8.141085535722716, 57.91935848615363, 43.88832968632508, 93.8899384004431, 36.63518121222081, 11.119219192571403, 72.54675420895643, -10.912436526820347, 75.22114174345394, 29.046200528776595, 2.765514105568492, 16.327515248583495, 44.53828595343913, -17.38855070370759, 93.33735808448836, 35.604870919633186, -2.9028758067651665, 84.91038249888516, 54.1751100046764, 23.96341876843887, 90.99508881690349, -6.715792844561076, -6.545150970926157, 40.12591192713348, 74.93436771916312, -15.67898621569601, 51.449202255388016, 78.77338013525966, 75.8623410968844, 48.41449185665678, 80.22504259388678, 35.828319356601305, 81.2514967225969, 43.773783096637445, 15.74673536449049, 69.06899216870544, 90.09388410060508, 97.02989252671276, 78.79672254753132, 81.45512613541244, 34.362275890336356, -0.9266732382984664, 76.89135406134295, 23.902414056690205, 3.5119115060973343, 53.06428189979373, -4.847071391792834, 93.80843382822465, 1.551810256622467, 41.15537953808042, 3.724204471509122, 17.173521793106204, 34.454255550764216, 75.4143429970785, 76.99864124220072, 67.18757916143859, 20.277699975792693, -10.016941674830587, 13.491862702286653, 19.6426475726496, 17.00381961746111, -4.64773139210001, -10.207173023648215, 19.759921227738225, 54.12547450719518, -17.80561333137865, 16.188660415349965, 38.48889167503276, 56.6222882848336, 37.79998033338909, 70.3656590622659, 38.65620900617859, 55.30241025489772, 82.85194248662377, 25.350510187900767, 60.42851949620926, 98.53876441095466, 78.09393569417715, 37.878745744317015, 9.899940290726697, 67.25845512532116, 2.958532209998154, 23.029952303238638, 70.44809115946, 97.58912622164405, 81.75375876879, 83.23925618331843, 56.82961839048697, 97.55206499846273, 44.885651200913856, 87.92308097174, -19.883728321991818, 79.22862061425927, 17.354969924498064, 4.526886936841187, -5.908126766092883, -1.494361877685563, 65.51577913649902, 63.03177604614501, 5.403841529232636, 87.34150084356246, 72.27255963383679, 12.880870599939222, 27.990537997508866, 73.66054941417555, 64.8529372698321, 45.81121443645115, -18.049395700257342, 74.54152820191479, -4.123553408009123, 42.50506193381266, 1.962280794400698, 11.759952574243073, 19.999115096148408, 17.10600629787814, 3.3140937814977853, 50.88460153528624, 60.87977546534009, 48.72622095656473, -2.632629571650753, 61.23751101711257, 50.104195774033684, 55.189533650831095, 36.91095054810305, -0.6311092221481331, 33.7331594411313, 38.780384066448086, 55.174497167659425, -8.206393355085616, -6.664160203129166, 50.41064794810096, 17.979155954311366, -19.050543424671048, 28.15638284006124, 93.28875314355466, -14.253460338647962, 40.28565492624408, 64.27446688571126, 22.987552037603365, 9.184113899767922, 28.11253352551472, 49.506929436798075, 89.66689223716124, 49.322683234512, 7.131749620839592, 70.74450216666557, -4.561654639865704, 71.35566641297838, -11.902483210555502, -1.1997766640183656, 79.19585201580553, 99.94665328064391, 45.14829202416428, 27.060992725440705, 39.28975757724841, 8.804252451093294, 76.7699522836883, 51.81558181951702, 69.63261267263839, 43.82634712302705, 65.36059606239189, 99.59231977514216, 22.30285212431349, 97.80127619108745, -19.944676396553188, 52.95213801481306, 79.1773166935503, 19.973012750125555, 23.014674606461817, 50.415061786834826, -17.57471332053756, 52.18342945948348, 9.380960541090975, 55.47736428760567, 13.262665636053612, 6.721194263123568, 70.11094580364887, 0.6299376424377598, 79.94360038935268, 17.490269152199566, 23.240635370759477, 46.674773840000455, 36.79493683512442, 40.70533689685522, 96.31797637655566, 88.73916341147608, -19.713523299132184, 40.326932484915105, 21.489113090970385, 17.22827446501541, -17.861340072979964, 70.25799232778492, 13.137283950933863, 84.86352404553614, 2.7701871725125145, 54.49283696463593, 97.18618858573453, 17.582097499288444, 32.16075867886164, 13.656481309630628, 47.85606522016853, 43.774098377048915, 29.466566524778436, 65.31638476165365, 59.65061353091649, 33.402135764857746, 46.9837501057072, 56.575126724729415, 62.11397435149448, 78.33961025638368, 45.07345037117034, 79.2285977106192, 45.819711194575405, 90.50122352628766, 0.8089368392555727, 92.44268046164511, 90.21415209354728, -19.4093775505469, 80.41417214737098, 4.736207055297541, 42.43653112059505, 5.8536263305887495, -10.721260179095019, 23.734705573898687, 18.96661662606317, 41.76211407853949, 33.31892568578303, 99.02381067216862, -8.315448125459529, 45.682267668637635, 18.937988037346173, -6.23446302532027, -1.444426764649279, 9.849027553623632, 13.020739880569494, 92.30019833127946, 34.137753094760996, 8.945888314943808, 19.88467179789381, 32.15281027945247, 33.82561503345645, 98.3511159150418, 99.43664849715931, 96.0778241324626, 56.8165339399001, -10.990333701968424, -12.60122596185585, 21.268391056103553, 96.70335710643282, -9.50155762274068, -4.851470620348408, 25.430070216459136, 12.390199259237846, 52.01655614870921, 31.313793801304172, 34.36302128324658, 62.963580053442726, -19.22016813830752, 76.43902562598407, -17.63799820022889, -11.626944748145664, 38.27432135000842, 86.0970324508561, 22.409524055507283, -10.446552589034397, 10.709055597859258, 74.16736650278342, 25.445040476398873, 83.38562319282325, 91.94963535727587, 90.90849903711148, 18.404343599747286, -7.011841139911773, 30.541908207496135, 81.03207548352509, 51.85689278540525, 7.396355438003319, 88.74022610161047, 79.5318443364128, 62.989242499082906, -9.955959413883813, 67.58193241171023, 29.90505638538921, 12.82867889760108, 56.925053076780685, 76.87193868556312, 56.78993850961213, 44.48773153166859, 5.673618018876464, -12.048604509382134, 88.89088087031048, 64.1315201000494, -2.1430157170962403, 11.590856397554617, -2.3665709301118234, 40.91649694916155, 55.79436294784588, 42.40434797162091, 62.00921195327666, 23.700933558758052, 14.110258675942333, 74.74992062143596, 26.436580382663408, 17.874449374637777, 37.111606867061006, 39.60469297917761, 35.87034696849204, 40.39642327194215, 91.37596235702051, -12.266459737720545, 72.14849690098278, -1.2180532418277892, -7.458602869094442, 7.610396798415881, 76.70031041338737, -2.660525292171311, 98.76954611765254, -11.686404120263996, 29.537711703740435, 29.0036350878895, -4.907806435072523, 5.07361752888314, 77.70320580671164, -3.051563101263799, 52.17590138159383, -6.975003191750918, -18.914685573254634, 32.06110921814987, 66.13531988271008, 77.25857983243537, 14.289289983368988, -9.702693268970247, 97.21172775543415, 85.14297146837046, 22.287309668765005, 90.98057479297357, 67.30937291691112, 84.60326963951049, 88.28536404397222, 51.64055160504064, 1.619037255406571, 93.23502687594758, 49.13864096998779, 28.532692616845225, 85.54760254440443, 76.1574907425363, 81.33542171630171, 44.67528079059832, -11.175504334653645, -18.282273333338154, 54.1558912690444, 85.36425718864673, 73.54083928805473, 96.53070854310799, 9.725753778937516, -2.954366885944026, 28.38530043712376, 41.08228540262376, 51.716958880253046, 39.02610177718883, 68.70224203437054, -16.19509401000229, 64.56036840575445, 88.8327993529374, -1.936856539751357, 70.3110201030843, 76.43945433559655, 28.050085334687765, 26.618352900847142, -0.2887526064930448, 33.119839736939866, 33.50600400011493, 19.13149516156183, 42.83354692203552, 69.25197407374917, 43.05315604721208, 4.928688589025011, 19.884960936802322, 62.449195787270526, 74.32769815148566, 36.37143440368207, 80.13477909709262, 24.23603127060271, 91.6223280351557, 30.41436494011264, 68.51854212811685, 56.63806764994911, 27.09214315115088, 25.924725348109703, 7.089320721712422, 75.07730873247854, 29.595996639539678, 42.18428600339128, 22.528284803367043, -2.7339538302434327, 87.71070064798273, 81.44004277604516, 22.969673274435316, 65.77830958281677, 97.98524758520536, 16.193511621009414, -0.788426192666158, 68.14956191958626, 42.156949555320935, -3.578158177830364, 92.88379842650735, 15.129842159990027, 50.82990699891289, 68.84447976390848, -9.978968560104079, -6.625451716696368, 21.85567679159709, 46.71582566423791, 56.50387443668923, -19.770187978830755, -18.50374564874736, 88.53727477703596, 77.30517762145179, 66.73965003881945, 13.144804721642295, 55.12636109927183, 47.838333164888084, 40.514073640111874, 30.818597808065206, -8.884413193260539, 88.89471197939085, 85.19694479752656, 74.22036009647161, 11.482712023766876, 53.5252540886769, 92.16168559411533, 33.688306801440696, 52.23583600551005, -19.682412804044247, 75.78305679133938, -19.36818921484265, 71.67581171453291, 41.883300835825665, 99.06387012908469, -6.2738455936641415, 25.435300320090207, 64.39551801461859, 32.81703042156873, 8.501101724819286, 17.69179339688555, 99.90374882494774, 96.24881401884888, 35.07704118394595, 46.928239757033325, -17.373149551604435, -6.202291355669779, 13.408261520596774, 48.13666840916132, 62.72474689030068, 87.13731051405901, 16.18878368505782, 75.63121234308487, 16.11870450451324, 66.2416509180949, 30.365756210821296, 93.27523257473399, 39.254679550109934, 75.43008969096964, 15.455067030396933, 75.15990220908151, 55.38429883701963, 75.9095825444012, 13.390352075284966, 8.251429225666516, 61.59584023341927, 73.82379518077668, 32.76214626068818, 72.58465517418463, 45.30173656413834, 17.288169415819944, 28.17065327349451, -9.042031502557784, 53.045285105406734, 13.705044533422416, 49.39002422477401, 60.96372303162475, 7.341169770794508, 57.82532273668647, 91.50414988780551, 68.73330211363297, -11.352433915474517, -19.41722798542393, 11.13498436468749, 13.236396123133645, 90.88052110205241, 17.561797330866078, 47.45302910026899, 51.62072063656127, 68.63940613598972, -18.216754587764616, 58.62879775491632, 30.725181740797773, 74.98714810646872, 17.691460757532923, 44.23683703851407, 9.798743499918906, -5.873869431428883, 50.72535898016794, 78.02536649553248, 69.12776486892542, 30.16235315506109, 30.29563508285571, 61.82456473250102, 16.29314151857541, 46.416518227422344, 53.2887362711666, 89.563619005356, -6.214712906211863, 10.585249996215325, 40.88902762447382, 30.83119396496501, 94.47194454356372, 9.97063971364302, 60.286237652417896, 30.26771203375413, -15.018623834360465, -11.186098578441822, 23.76553364381315, 57.05592898655895, 59.70319854089682, 94.1205100492359, 27.703617507972986, 7.558562570638557, 65.1021377066803, 40.93252926156575, 64.38014781537441, 46.451178360257174, -0.820817746342037, -7.092815947179165, -3.900513327683562, 18.168221571934247, -1.8491928269920201, 18.891688213495378, 69.96222548023617, -17.510345906938326, 74.90306815696994, 26.815950913859552, 13.275043102035575, 25.993277235067282, 81.73685802505483, 26.375658434887285, 93.48600558489991, 99.99314211464892, 31.505115171054676, 52.09660552903017, 50.37119507973934, 54.553533046645754, 10.568914261408878, -5.545568332348076, 26.588247577620606, 43.57041550269833, 43.561512339569134, 92.16242318476941, -5.193798545241396, 53.20029527809342, -14.554163909726366, -2.1141443123862516, -12.830965826280568, 7.351954499367178, 41.08071629101933, 8.107128328686454, 76.83181362472688, -4.481229294910122, 5.017753308978726, 12.338370002868835, 38.98675998902105, 92.04986346191579, -4.316051420159766, 49.70103908930787, 8.366378799546432, 82.90913308313941, 75.58460151668591, 29.125080251179384, -0.328217167861208, 64.25959830087427, 22.744003240177094, 62.20437634549593, 38.3594281587718, 26.738522444795315, 66.86304219157108, 54.29973736188437, 92.6658344709725, -6.383953093842809, 81.68541679595494, 98.63893917879884, 43.66351345393979, 0.3209432282476925, -6.525737572322443, 55.34558149242861, 28.260703183659743, 50.49799692147316, 6.178504396222785, 46.3397366367967, 72.28809078487522, 99.44128731829298, 40.63356518431786, 15.07897185403931, 77.71959664069067, 36.98105509868404, 43.03187963203139, 25.26778652625, 27.281885862540676, 38.85873906078985, 25.906353279921667, 8.30864675878217, 76.07932587446297, 78.56364869923146, 21.212701277189574, 68.69741367396654, 31.226717594746873, -18.87116248525786, 68.10438447648177, 54.087037426447225, 21.89812624346787, -6.580145385188141, -2.766492461627191, 40.60875201204955, 49.48567559930015, 12.477955031257821, -10.02487672918415, 47.28587707912219, 37.19312067276799, 50.64909572687786, 96.47558281347801, 10.032880984501851, 32.21308537885844, 63.09634594278219, 79.27749315483072, 49.35011835497713, 28.686856323579704, 72.55304791910736, 9.03613283077911, -0.4542148327885407, 7.995346933335288, 93.90331508857265, 28.668931874003214, -9.592792643904072, 88.03170934607002, -11.86573183032988, 77.67937226789005, 38.84472600086077, 86.73299246244781, 61.087669810871716, -1.682444063182217, 67.89420191468326, 29.6570796759531, -18.951798788109485, 28.148443451633213, 29.621369653824424, 91.42298108941509, 93.22617321763197, -4.277643785549197, 56.22566230937747, 91.45160144620064, -10.163163242054324, 90.7026702299185, 25.185376185253, 35.01424286951353, 23.358165742772805, 34.24320406510892, -7.857122740170732, 10.459979656694017, 37.85464757442175, 86.610484772073, 48.36088906564498, 37.41965185437384, 55.76088479082446, -12.099962203454178, 92.92508379069918, 31.293856055068517, 79.80931983985907, -7.569993438868185, 66.54730828950734, 3.3662055138358653, 4.774441825550216, -18.067160154115363, 37.5292213109758, 53.34576254636295, 78.36059430262613, 77.75548835065925, 42.04344027403684, -13.915158337796658, 62.58042670387859, 16.879682995210622, 15.384896724071417, 79.51369102702434, 62.74912752120197, 89.15237224047586, 13.350195816940357, -0.7459103188863345, 97.6524820159433, 5.215812827634334, 62.002932913210316, 61.763797346998544, 88.02199112727496, 59.284066977896074, 73.97618379407375, 9.308465754483322, 40.031183030828934, 36.50740752343848, 32.473320286766146, 49.27720704534762, 17.220891761757976, -3.99131294028286, 51.575098056730894, 82.35319900120973, 61.72753263823715, 5.830017103855283, 81.47917391134703, 68.39624503362647, 40.539506095034376, 45.509980375155536, -18.43618283262135, 84.7346430690168, 48.220528896570386, 85.28005160641347, 91.4627368506018, 84.70454921842419, 1.3483550178516026, 6.979809962480424, 62.47329434632343, 36.590261596096084, 65.73439998849244, 88.28890152545864, 34.927780457040775, 25.043639454518953, 67.07070276900116, 14.03140572956567, 54.650684874630045, -0.612072859706899, -16.608055741987002, 74.9529834059089, 82.29382021550457, -10.510928629803953, 87.2016566868695, 63.32391342949863, 19.393077100855564, 70.7357229078008, 66.3536732936565, -13.525488224740648, -9.314174839080898, 79.95237989195408, -12.525628237402785, 74.06256452438282, 97.78877216339376, 8.194101617420944, 84.18423360224607, 51.17367629506566, 89.72095279933026, 76.11797971553584, 2.920904089579942, -8.353005751758174, 19.429990755661642, 15.813211127784172, 44.68907468397272, 38.288948192676926, 16.815773516883773, -2.0378859014092043, 27.252056148857207, 57.10740756411292, 73.70050686331692, -11.006915792173686, 14.829737478714627, 23.621194971393564, 8.34304801972404, -19.908948256231586, -6.790109741474177, 45.684035646541986, 35.53147903931136, 48.534427787788374, 36.96648883904142, 44.85589213015362, 89.64192867902788, 39.5751303155556, 28.314574956700362, 76.83173004709693, 74.93711334796308, -10.067115541815802, 19.806443252501197, 74.13306210970016, -3.6493764407627296, -18.635606935761047, 24.212937567994565, 90.9024835834956, 36.72272980090944, 58.31018724516113, 24.639263257609876, 47.635554488896744, 80.67952119960717, -5.4574024266078744, 53.8203636771011, -16.767872643284196, 83.51534220032475, -7.990569616154183, 96.12413115143588, 55.318399342264286, -13.300326627558686, 73.02756278192548, 11.847102374629948, -4.308154857347567, 82.18828656598127, -10.788729997504035, -3.630960046641057, 36.83995050034705, 5.180423736756094, -19.732616328693805, 79.94012957146644, 3.729654754383944, 40.44667445683035, 4.664430956304496, -18.835487905078075, -10.244543913379411, 97.47438766903063, 87.93769448881267, 59.93197265938716, 22.18836884408909, 4.691553469742203, -2.0508698130049225, -8.89613013857851, -2.841804986142936, 9.184197192894622, 72.29124207293725, 76.76888654372354, 86.74836304885022, 83.78081101636018, 24.562019807620004, 66.08210866339465, 41.2803372184887, 8.951456078206775, -16.930851846476656, 59.60376116104021, 45.38192603029283, 7.26057000528305, -3.6781152747519705, 68.37628576099131, 30.141641053614748, 12.102881414261013, -2.015096578073422, 12.352865929866965, -9.435012077608405, 95.07331205543016, 61.00516732865482, -10.595876116426638, -6.8800293002001, -7.706566640680119, 19.665926200123167, 53.87914473624329, 19.30704445272668, -12.033060090424001, 97.02763012511268, 27.272655599299995, 56.88531600220206, -4.030946718067142, -1.2355296936577318, 3.8931319329892666, -3.6431410978285257, 49.47150769051454, 25.019613514482344, 43.66500872398875, 41.16395036634607, 21.443938301821028, 48.98742679504956, 51.703692566163994, 75.05803132144217, -0.6051146938494298, 31.154469779895862, 51.558237664944556, 90.18464101850714, 67.16348253118849, -6.859902024586733, 87.67227034006598, -18.304964685631006, 5.444662592407283, 87.93474560027425, -4.56660924341174, 33.61479210769052, 36.484095553147355, 5.559403348044846, 78.56851355758245, 27.76712934679375, 78.51741372934755, 32.770404914219554, 72.9167249747761, 1.7276508027104924, 2.2706293777488753, 64.8904388750694, 83.25128551780817, -0.1377087626166862, 44.611323032511166, -3.6694420405767225, 52.70726383633264, 72.42132024051321, 77.63280397611445, 81.07240972035298, -3.2930237896963668, 51.44425300647458, 30.645844713039047, 93.77241762180654, 64.95737748613743, 12.946429147245176, 79.51983684532509, 44.706146330328735, 86.78190674843985, 53.87380433502389, 94.95210356233619, 80.0087107044326, 27.551102355480566, 74.47436782259037, 98.59400016406232, 49.411415183271515, 94.33897955541778, 49.31869983275038, 70.74364540910818, 68.58992965050257, 52.74344455753733, 94.04289186056724, -8.257122148806797, 85.17903872379605, 64.09736664809441, 82.22189535097131, -13.560354547442941, -13.880104264528592, 20.805032547849017, 5.068439541243773, 23.113482961949927, 51.328477510780004, -5.245306393820442, 24.81929561225389, 36.9268956042726, 36.422265423436755, 34.79686592153561, 68.5547149550053, 48.58397593568273, 26.227639643026272, 63.2289178403816, 23.70465838081109, 59.405023025386996, 19.120816461961034, -18.238834692077678, 98.82001262535456, 90.87108787143815, 43.26212382769504, 80.47416194252365, 30.926121924337068, 2.522285038770825, 40.30203318377875, 42.88704055132544, 67.87351801064099, 37.817234212405545, 79.8105533575679, 42.16332252932704, 60.91907183970186, 74.63624202913843, 98.74196648680419, -3.42662295701183, 22.67431196778452, -6.459453814502609, -11.862344644873271, 45.17191453354768, 45.12607947939347, 61.58042147056365, 16.9590008096703, -0.5961241243461544, -2.4727888818667907, 17.955491226727133, 58.41322520167489, 41.11074317841338, 80.96858929577843, -16.258459866437022, 28.930603644055083, 17.829902136098433, 15.088883911092758, 9.752245944960237, -1.1573920377169742, 64.45089319068418, -13.282486717767217, 61.456210296819094, 20.54205335312873, 23.032651068980293, 99.44211363948308, 53.573112030422124, 5.032702088431101, 93.65607054217594, -3.6162677711870543, 50.31005454994133, 88.81313623306097, -11.617449141250177, 17.889984274990795, 89.63472765559955, 38.45587206718027, -9.29078981558245, -9.548750021790852, 56.936017385745586, 2.6479111443497594, 69.50925968304905, 71.74506899430826, -13.971135773762544, 98.7878476681563, 7.9709489742462765, 54.03027561896417, -5.82486980923985, 6.5211737638523495, -16.177486647079462, 19.441963813189, 33.2138102967878, 60.30042457740508, 63.842076630158274, 63.48726547400497, 98.59006892702907, 60.226779523055626, 80.78350570302703, 83.03541047065521, 75.47193170852836, 84.25993417263038, 52.12098856959555, 82.81225295635596, 58.65541912428101, 28.61648374306433, 39.63088109834286, 67.79722087055582, -8.148454441199764, 0.4103975716090922, 64.11873014220312, 90.61667784200921, 33.079419880105654, -17.610489561230736, 31.483271659212868, 50.113590174074886, -5.122138775462242, 0.0863238471429284, -16.56014858784085, 97.29215949709265, 87.3887376087481, 41.21974804442685, 40.550778454671715, 92.40212717077782, -19.809856375153217, 55.807557875668536, 71.7430390240768, 56.07219630804431, 87.93417382043027, 94.5771515140409, 38.25694081899605, 38.856347792412514, 75.22590647809791, 85.46167850240977, -11.226459784931336, 85.92279456358142, 3.0694156441424205, 19.541895387440107, 49.173319363235606, 46.93368120446364, 76.79579346233974, -17.712765819877486, -3.1417436123199707, 92.1535495510395, -15.53033246431288, 51.9349636263796, 2.7658356350892213, -12.374311573787026, 20.2235313732372, 0.7139597634201564, 48.0498223539134, 18.212115748941457, -18.87870728572022, 41.14909434453857, 39.74328869619329, 68.7226532637113, 8.211899849149585, 10.187931701877421, 45.90563215365678, 17.783222142484007, 0.5462064818629955, 37.46912301689273, 72.86290246867104, 46.87386283511262, -17.631425998782984, 80.97038171591406, 38.3108752771008, 29.894902071889803, -14.186852379966105, -3.087288060279807, 7.767917872348967, -5.43624998164856, 46.36585044594919, 9.297036517641047, 32.86216655489321, 56.002995896688475, 47.70428902147948, 23.562124063196485, -18.79861680180964, 32.286607414820814, 2.280135699696878, -17.472100427817555, -2.7851207038546555, 86.23453075722479, 37.27247939814231, 57.85034816902372, 91.35958933719716, 66.33677358063605, 84.14922833568647, 90.86128241149795, 94.35252324608682, 12.413261855887178, 70.35867619139383, 44.251078181096446, 1.3790358709424133, 43.67087348519367, 20.487561240186615, 29.641484454433304, 81.82605398499746, 4.026295103456661, 29.0698770423326, 70.96052725763309, 80.8136968534659, 62.13157008569097, 77.11394759263779, 24.22605068368467, -19.714900509857554, 12.536515232095226, 18.024854557034075, 21.41678730444894, -9.09412744885631, 62.693249162105985, 96.64351982599605, 42.989758277791, 15.503345199716705, 17.79751099212929, -12.325900403609872, 75.52775264716291, 67.3941647273819, 3.118807472108763, -15.369656365962484, 75.26102152843292, -11.968862039407075, 0.7264243699332162, 44.08466598390322, 46.63784541861838, 82.88101300447077, -0.7022285667340533, 79.90894472976763, 81.29253090053449, 78.78899197554874, -4.3286894978989565, 18.301257708922137, 88.27679313730398, 11.386052952673971, 86.70676964367298, -8.063574523658916, 51.40531720284106, 23.277680684414634, -14.736754243766317, 73.48273157020778, 20.731696476131788, -7.563524163550754, -4.803719196803925, 85.81477789519509, 65.15181519774121, 93.42563410585785, 3.935945793329676, 55.15133024383067, 83.54128215703314, -16.301377633770603, -15.318405506564376, 13.47344869140877, -9.991902348861434, 90.39975056260019, 94.18988473554404, 22.600709340736948, 73.74636026498557, 64.01054868517275, 75.44329529822367, 48.77622988180835, 36.934141400260415, 50.393967112963225, 19.602107427059963, 19.63626852166167, 28.198130782268805, 54.82565614043038, 70.66696330438519, 75.83537279057381, 67.97960035815933, -14.651390278380397, 61.59428794660441, 39.77686413208224, 49.610037431542054, 18.463407496124624, 13.833629581162384, 43.04559803377328, 17.086673183000173, 39.72646810946116, 3.2503101314365814, 6.129715262333303, 61.997496867273995, 27.875860820221952, 17.626396259890896, 62.014076091269345, 27.290784169728923, 6.020853067903289, 98.09057054275291, 71.2871589561202, 38.77472116777898, 70.29110878026361, -16.01428312784701, 82.29799419810044, 51.62933455612155, 73.03398564171756, -18.539809337864188, 68.7409538994542, 61.07981184834178, 14.45594979623047, 68.58839097467651, 30.850928010429215, 57.117291279962615, 18.221553710589824, 12.224432821014716, 46.676337653559855, 96.70170723085455, 74.90668692685458, 48.791333076143644, 26.62001231512501, -18.243423130695003, 48.255126210615046, 45.8825911402451, 51.287306790883235, 96.20152568867528, -16.35719629292932, -10.227578247940986, 62.367951965363844, -19.131683066086474, 99.21467122648416, 88.88662834867564, 38.63210343580269, 57.27872363742755, 38.647635979537334, 33.145176123966465, 95.95016311853644, -9.607344485244361, 28.06120911848349, 39.543372256230555, 1.9277166841578364, 9.296010540954786, -17.166994910492104, -8.467121030938056, 15.794885976234085, 49.803338886292394, 88.04770184514608, -12.396182655150255, -19.118280171062526, 46.1480526913969, -6.421841430894396, 78.72601075912635, 20.3991840945161, 82.99970416945658, 88.41800785713973, 24.311505585239075, 47.46184927716597, 14.723751017906629, 18.950929101300446, -17.90421793985887, -2.4572419531710636, 84.9258613947492, 58.74758813581991, 33.958944365169145, 8.039204950933382, 30.026221233915045, 23.895463791781324, 82.49837276571382, 7.309855751440239, 8.545853390848368, 60.315322204241, 27.017027664801276, 16.84261454467014, 47.31879854073186, 10.298302588808323, -3.586508157058308, 48.43935258728152, 91.34197488675261, 33.40549158441227, 62.606504282703455, -12.593427460477038, -1.261383711509385, 20.256622300989797, 95.48281702813371, 79.85126704130761, 29.210940826239373, 26.450842520655378, 54.56073024514359, 17.344760723023136, 32.907877128775986, -7.599642899886794, 5.71249361622057, -0.9681640044875834, 54.0615479508097, 4.843380200484258, 92.24278266534785, 76.16894319011546, 79.5820330227671, 82.73443276498652, 72.56570479897823, 27.473607186026243, 9.964045081012593, 41.14621533870138, 79.15131690274738, 48.69855762504754, 69.92736295764543, 97.4789088814637, 8.677329304012133, -3.3114314129282683, 90.11798672880981, 63.60079416033422, 7.867365413258721, 38.12194118515714, 52.07141289150195, 12.97489295859819, 52.65755970233653, -2.1854984400531094, 82.39333332547848, 51.101958932868385, 76.56366738402822, 92.5512035202141, 26.919030940282717, 56.729964646949156, 7.64600335043696, -19.196388289955145, 88.0034823219542, 97.45761464047797, 54.89744358928809, 26.281678982331705, 7.685682546908573, 86.22351970828183, 64.86642819307254, 45.93076488859681, -16.34073720462904, -7.688196057413501, -4.202061254159872, 78.24380091193463, 51.160661673650296, 96.233701794181, 44.89806915288955, -19.163129418510994, 99.03858206931766, 93.48270384712393, 53.47130481077809, -6.228638470023036, 64.67859018308137, 98.85048726247987, 79.28558163469661, 6.31489155534674, -1.2365141048844386, 93.3893203262551, 3.0293082326094094, 0.22717656549568233, 30.013133852161957, 70.9661236110146, 97.26883452492221, 43.328714522278844, -16.90424002625424, 67.39796996477554, -15.471103993537568, 27.71257783988267, 69.89993073559734, 44.44394474251919, 32.30099334966844, 89.81144490344393, 6.031419398552398, 41.03900487867192, 89.52224891485773, 23.257696829761308, 50.76593923946925, 5.902526134327836, 47.260033320390335, 11.805304465835952, 64.84878466891814, 76.43788968593208, 72.19335831749945, 55.42369503494429, 38.38868296069568, 81.74558943677071, 56.78127171110934, -7.3189751083021815, 72.78074050730172, 91.98943656208773, -19.900779133784688, 23.922469594250536, 50.36595772478738, 48.11552027858181, -17.922153008504523, 18.61200399522704, 6.6526729063170755, 53.21416205106425, 89.16547713474651, 10.757907615422102, -7.603547516444863, 4.9503504596296075, 95.16380348313655, 42.23277811169312, 82.58560685000465, -16.994954115011662, 28.025971180319864, 36.28666470247057, 40.3611925916045, 99.88597533025468, 34.47544783545372, 31.80609572715288, -14.354460799153244, 53.20141366554029, 73.92759786419649, 38.44511940504938, -3.7288113256862943, 87.53658461975024, 52.30939939644627, 8.758016934691998, 74.44708858490667, 90.69564456848039, -16.391601913385646, 33.38016366482622, 60.77187998113976, 65.50064588392814, -15.010894657461984, 80.12092270619345, 65.55161867958186, 30.473459249697434, 1.3797076319839654, -3.0659546000934057, 26.804492237783805, -8.109587894214307, 51.93995861782486, 67.13149279445139, -5.697270917268028, 1.6061212092213566, 31.023261116209028, -8.635826716852835, -6.734488706009149, 26.439436200551768, 77.76705672391573, 4.473639956389604, 44.02533285022518, -16.147163850644816, 67.84645436815303, 90.98388660533935, -16.75713588628865, 28.46285404425214, 56.3937855065288, 91.4982744498757, -11.020082709489607, 64.13347952569764, 66.72027323461404, -8.440165355433034, 9.152232103457653, 74.05068973457014, 65.45917669857882, 57.00561492269853, -13.963958466335171, 78.70832488699787, -4.614783743137645, 21.940000150282295, 48.067198340227634, 68.34578570141556, -10.890139410487492, 87.94140052402011, 29.20790140411937, 14.437494607520442, 52.511434327400195, 19.4127725163517, -2.509873353695884, -16.973638654045693, 12.044522695639756, -6.174262941022665, 38.634540191300985, 54.33281118051511, 40.78915322923992, -18.55041086653951, 46.86086664088184, 52.007905998901975, 75.88312368291889, 71.40277640602943, -12.909150722181923, 83.74668968293517, 53.1804148684285, 14.419307890855222, 54.10843400223453, 14.162173987140463, 13.950029068096057, 74.19704141392202, -9.103233220980883, -8.334331282232919, 54.727793390653076, -19.07443267077259, 88.62720027134966, -18.04592973406344, 54.31179154183607, 50.139614532267984, 56.12052931387365, 22.912354210288584, 40.90175022103298, 16.946070730715036, -11.919933332165119, -16.55860800967865, -6.863875118764575, 86.10182386222182, 1.6541104610482265, 57.796098389224, 78.91435746470961, 26.076697308973912, 94.2624475414885, 89.80266471022969, 7.224271906886472, 27.356219216003318, 0.8401535392439818, 68.34980343673271, 47.32062023495766, 19.17221270620179, 67.27322737404502, 62.62746614619965, -13.55217080405958, 40.681132187718546, 56.859487427895615, 15.57132551376327, -3.3860408332860885, 87.98475532581368, -10.542128954712432, 23.225611582325357, 88.32112563406768, 61.40201345630234, 9.73780540553939, 33.01901826695009, 71.22640549807856, 57.16094922879989, -18.226619276437432, 21.535681465140797, 77.64808320471607, -1.0247667784950174, 59.749669080532286, 57.026066187335104, -12.09095684996897, -3.6338343353006586, 25.217820660240456, 74.86467181843226, 19.203803381399823, 20.379987073881438, 62.87635927081958, 22.541772163559756, 33.21313623943012, 58.34707874721282, -7.241230447076553, 77.47483581711002, 56.27783906398783, 34.71310110141148, 5.049695958338432, 54.88116062664507, 0.7263660651122734, -10.98628586717274, 82.21410925191917, 7.636517184363463, 9.956145552674226, 58.33596971186341, 39.098242632265524, 9.160385449032532, 35.85859130020096, 26.418897125246346, 48.47175182488043, 3.8589082481823134, 16.246248922290064, 71.48501574133869, 80.53745063826997, 16.414733055013087, 47.89960356329158, 63.57318173140388, 71.43834876861787, 84.48687994365982, 84.52738854610598, 92.74150704083152, 54.43170540484155, 33.47088098768714, 77.05432857616722, 21.474190688431378, -7.215527518086855, 94.39216309414755, 50.482293792506795, 48.461151904010805, 41.59865481396105, 38.07634416596738, 98.40254578795347, 29.760429080169658, 98.4234372713675, 97.86227510952794, 37.806904475675076, 65.43487831386683, 94.66936440063712, 79.14178628109721, 73.61666262626485, 62.21919486680865, 51.33266943146104, -14.604997362121432, 23.098189621165687, 79.03779572082512, 53.444134363559215, 48.15015307064148, 31.008277357553503, 59.97076894781284, 90.67000683615471, 42.98654551037857, 62.41541207788106, 66.37340654650619, 86.71019421993059, 30.519024347926447, 39.615382407422416, 74.94423543378365, 10.617816296002516, 82.08715812243085, 8.657086783879159, 93.21147682110362, 86.49879661536855, -14.277082037782392, 21.345433563747285, 25.225852575831425, 6.511322447921593, -8.671255997090434, 23.25553174721582, 79.93799549269902, 44.61907440185682, 1.011588642908201, 82.93278814173087, 74.6906054932172, 4.497776642699325, 43.764372586884626, 6.618474861907394, 49.82080345528958, 78.81116366916439, -14.462205261350501, 10.243332433200653, 31.53603415077128, -19.59970050509987, 2.0543080677565797, 80.30560263792052, 42.328582539532206, 21.999107815554957, 83.32429328346203, 88.39307574645437, 59.86956780834916, 38.34597374214773, 60.96636649165998, 77.62801017815868, 44.83323750682095, 65.18715781172136, 81.76200584593637, 56.302534243128264, 80.49239152806996, 53.096525067968315, 89.89673955550815, 62.14726176046571, 15.736826858728627, 97.59633301479967, 3.7065943881963435, 87.54382129872506, 16.998603075787337, 39.97922271654208, 8.433014650208492, 52.99638985074894, 49.73345424462066, 2.2326080664711903, 74.84841931707447, 58.91377642521529, -2.6063881604844177, 58.151907062564035, 83.40695981843169, 12.511390901891495, 74.81739139284042, 18.334988938607367, 47.79673064934718, 15.643640829466861, 25.144506880206713, -0.7665979586705234, 86.14486342771255, 94.71621104573376, 57.7692693975593, 5.96297071754033, 12.652013873236243, 56.957129009859585, 48.60615983310058, -19.580131497430177, -0.17220326854378243, 4.6231772711878065, 16.19370459341362, 18.0565678286858, -12.811658553129268, -3.28276351498733, 14.804116996943272, -17.428198941569114, 18.4279521235269, 82.33448538809117, 25.011094484196114, 74.47129673748267, -18.668978857596418, 3.4723482072197918, 74.99610090635817, 75.9628559743193, 63.57938786459496, 77.46499062635937, -1.490733234242402, -3.0697388044776943, 43.01741496270205, 37.55705053630267, 35.67988306823759, 18.903663833648288, 33.577752500470304, 11.814419677447408, -15.069176659509132, 90.01356633659616, 90.42400989887707, 44.04205562278362, 99.0121786871548, 99.44224784957804, 62.26395278975957, -3.061781550688252, 63.9023464471793, 5.878968892365087, 56.13834717525927, 94.58470882739589, -8.563745477932784, 89.14070429200338, 31.110437496137763, 98.81906512325708, 51.714927429194944, 55.78642171870331, 48.645371870484325, 50.934757202701746, 54.05439541850578, 9.823892799580317, 32.76166016699077, -7.58602182916964, -16.113836641813492, 46.730605520557006, 52.212883994590044, 39.888728295432855, 65.09652141101962, 23.70781679715642, 89.24667058847633, 69.25597549848169, 52.609177668060795, 34.87223903530041, 61.407274574353295, -17.260938211833473, 14.104163267172119, 16.858994978944878, 28.788931211696294, 90.9109309548814, 8.816533412792293, -13.397988360364806, 96.12457281586867, 17.035655028135473, 19.560646347998258, 60.62346959949045, 29.68115744498415, 86.39395865084276, 10.378773599245726, 13.241959184187728, -11.42629573432091, 65.01974168818631, 62.78919207543905, 10.744368569102676, -8.302989711716524, 84.11026319445502, 17.46970043185935, 33.057321588261395, -18.20437036311127, 38.44802219324581, -14.171566974332839, 64.07829218756602, 44.34326379797629, 20.085245399023968, 78.16815428832501, 8.17475932313782, 39.12506546330328, 9.892809458277327, 18.601918294742198, 87.24987371849602, 34.122849620297764, 20.91129256252153, -18.03947766351684, 26.558845071445916, 85.48241049437317, 36.140091196071936, 37.65585350515844, 22.05038137085237, 85.53721601903587, 71.41262023738942, 5.943078066355476, 96.66180811479823, 60.04368256519356, -8.069557758162858, 64.71481538936357, 26.944852862379022, -12.110200134023437, -5.476922013186494, -5.3192939157252095, 40.33109524384695, 18.873904615859878, -0.6303795380579693, 72.37131029004176, 85.40539532498062, 90.63158176063641, 52.7008916772167, 71.84117738008197, 64.92982791596127, 13.404978504243047, 92.46050983160436, 62.30152815801536, 71.32766760298858, 84.6853889210105, -11.212092164983826, 99.00517843891538, 19.654857563044594, 73.39769180254203, 38.43201652509982, 41.10997898428542, -18.66116942231773, 2.9650986012734464, 37.94812457195455, 27.656884534669643, 95.55728575637409, 32.715722939060626, 4.7865590370803375, 49.0938923638346, 24.527730391681636, 95.33009356885101, 49.20972584873542, 40.358150065067825, 5.78056185066114, 45.266257704179054, 85.2590610649111, 80.46836893101602, 45.121562873007946, 60.8552876682528, 97.36098349287379, 72.76545028428814, 14.885722875336967, -2.3331281335255447, 2.3781530859908955, 41.23357538809152, 55.83302355036231, 38.16586114547061, 65.03615240986808, 89.23998388323226, 2.000156544976516, 0.703966676315467, 80.83929125733638, -9.244862907279083, 11.948959474790698, 94.0879960874068, 25.357323030435047, 43.8591915183441, 45.208178428524405, -5.7720392795116915, 75.77624498114662, -8.664534180799137, 7.9552645346657656, 32.59362008109376, -5.15777870202216, 39.07878459431674, 92.49329483059826, 47.13211932657583, -18.872851708383344, 69.43291373500628, 20.599909547557033, 56.74153727328684, 35.235371643338915, 85.18287840435174, 97.73616361296914, 94.63244117452743, -15.700659790525421, 17.94231641215095, 1.6200716153339734, 17.015728867605574, 78.09825919893376, 98.17774006533298, 19.241906750194758, 13.235581590680212, 17.00249462101924, 0.7981017400291215, 12.100098092859255, 3.57170529074612, 42.59275445214311, 80.79156741411542, 77.35520133153067, 20.64719522998834, 54.6159683718482, 65.62964314882566, 39.15855092955174, 27.945069369873238, 20.841735038550986, 95.55729702880639, 68.5454036354388, 23.358804155772248, 2.337800943283959, 53.75649542784548, -1.9387944434163096, 55.94555457721613, -18.826418180862827, 26.826447419700635, 82.63576085979672, -5.821435813645808, 93.14504468303774, 80.9940565205548, 82.98114913874906, -13.350083550532679, 69.94802860480424, 34.95540170665056, -1.3509699761016556, 47.58140250204494, 65.04418595061026, 5.951558431841249, 59.2638517717066, 23.89322644251051, 27.445002810513387, 54.893208667416985, 73.00021368304725, 37.098392997051725, 92.75123094751683, 64.11584862226704, -19.31873319560918, -19.832696014914788, 93.04324083129642, 16.34072817108175, 76.31546900144085, 97.3070868860002, 58.45436694077938, 52.29749033064995, -5.2320025152262275, -2.3377642719367984, 63.58552076963649, 23.56740583045157, 8.846551706202305, 17.622577323135083, 55.937974770095025, 36.45937753349761, 81.71118362293538, 86.76310543745848, 64.38839930375194, -15.76613536082608, 71.75884078836377, 77.48232200918886, 44.74191596353897, 82.45241243561144, 65.82905031096236, 8.413325543934818, 17.602583957893046, 17.59481941763123, 47.241876606825215, 79.16474097799957, 63.72928119156056, 3.717771949576452, 94.81403723201943, 38.44802081203866, 83.12121650770739, -17.8689594933811, 15.03505792389516, 5.932777555323657, 26.677458694061393, 74.37220421879809, 32.41254525621499, 59.12347078470499, 70.64507051148269, -8.274020889825362, -10.849789115972461, 18.53277775472398, 89.36329527642502, 99.85170383184403, 61.13853314397507, -5.521998481830499, 28.048065336170417, -14.753120828502496, 84.47562428678182, 48.78016826478826, 35.173801302393485, 4.298399400899463, 11.622839960230806, 78.43906882578312, -4.753702424320236, 28.581789945900667, 89.23956941903633, 5.950533115731126, 34.37271187899303, 83.43938777061798, 68.57213526364104, 79.18365788283205, 29.6685917326161, 62.41258133998525, 11.488014626589454, 12.694563908193494, 72.56954547744324, -10.765732561131834, 28.06463357069149, 23.528451885884124, 73.0836430105145, 41.289268803134696, 15.872833927008905, 44.20632058807017, 43.80883642406527, 8.538191068461987, 68.493760860627, 32.875428976488486, 31.797679407074284, 47.49919937153825, -15.912102395499703, 49.790902625302635, 12.310521754211365, 42.13995514681998, 18.51780758652866, 27.46827431671528, 81.57998503460352, -6.905715787981631, 96.87550897932461, -11.356577039757369, 93.19704795682026, -19.0871858590694, 29.620634751984042, 82.14597458140199, -0.5937746750444326, 34.50812608286202, 73.60678271429182, 92.11824152232553, -18.433315645155925, 72.98570595241132, 38.43517735607192, 92.11913299168714, 36.62023478402346, 14.98690433897525, -4.55714606023523, 13.899671127370269, 49.40819223833026, 3.7088818506847403, 51.84127304315264, 2.043139442808158, 15.302389731948011, -10.578164115635186, -0.5182458910481778, 24.136550459470463, 90.09141484099632, 30.62056348683801, -3.2796232406508317, 28.431600012098755, 78.88646848624906, 10.964130842285353, 71.43044219323335, 48.19490606403582, 34.01356725912069, 83.67276450722575, -14.253700175491586, 88.46530060164852, 28.19932186767072, 92.47755842911177, 72.61375258832211, 54.19679861020302, 74.36683193666795, 17.03670168337655, 24.728406088669175, 11.492622851220837, -10.507538490938785, 23.014042496905837, 65.16065691266125, 99.84638077758785, 22.97228773020182, 24.61278796875674, 0.6664416671909308, 25.33963032334939, 2.9072140095194428, -6.7156234105089005, 55.690108257765246, -6.099418894053702, -7.2171197944238905, 60.14066276566909, -2.8362679725365183, -4.293947145123509, 49.271570420458715, 1.4286944502738592, 5.856913563027778, 38.97219344562293, -13.27059341257498, -8.067012622988322, 84.60406021776824, 71.90165690906171, 81.10005617369421, 0.44614937618055706, -17.54868481040348, 38.88931378323721, 84.77006966318187, -16.455012927190715, 59.9117476052737, 14.802729187570385, 94.0164891532771, 18.87446199925695, 25.504654002736018, 3.7877465038580453, 19.633479825782302, 79.19433603904476, 52.00475635435728, 61.97558344800045, 34.232240644058265, 50.690980210475075, 40.472575976884585, 73.52467479545862, 66.02182803178985, 93.08572659716992, 18.922779493256442, 33.39416055675882, 89.68565940461643, 97.9593309704164, 9.702678230668525, 52.986730326462606, -15.045585631479131, -1.6163571656308164, 75.23799134669204, 52.89213829058623, 17.357120941465695, -9.056221080563889, 97.92676356770764, 20.512288484065934, 78.91885617204449, 9.888374070679433, 99.21864478245473, 3.9532163337233683, -13.717296551698457, 90.8153699076111, 93.60176182444125, -1.9990023336943885, 2.608317550498871, 21.563212968605313, 17.396569880255036, 12.023654311565124, 85.3521095210231, 61.12077110103948, 51.026565279385665, -7.278317953791817, 42.045501723673866, 48.526989839581574, 46.70408194387588, 68.8678165107824, 88.26900050224145, 74.40007606336778, 35.34994843683544, 35.6083521923827, 9.626009113662558, 65.91274313870576, -7.497328483637915, 14.24330450110891, 86.01557970355178, 55.825421714312824, -19.293598474142513, 48.907242821008296, 31.899326681891168, 57.77900695571098, -10.577131742603246, 93.18095748183967, -18.32607517038649, 49.397181854718426, 77.94486787743057, 95.99971864901602, 51.37440294704112, 43.23827510408521, 95.4514686411924, -0.9711628815336049, 17.56571534010984, 92.1116817631897, 93.80448404720286, 40.80662100947337, 32.800135408194585, -9.905267465619092, 99.05339379571414, 82.19536233888672, 76.27004440599171, 18.39976760520993, 97.81346859767785, -15.337183551796642, 87.85290450323487, 99.40881409300239, 85.57311113007745, 15.607918466023534, 47.13608404761983, -9.997670179208317, 83.38017634765178, 20.229717175556182, 55.23227162309614, -6.010319979164439, 26.881471564257346, 98.89612705117077, 90.32201328172863, 39.05884283730881, 31.093957900492704, 73.78863379312678, 13.959487868934502, 69.99764246568236, 96.32693605367427, 16.212251952863085, 65.7906905812148, 50.668665005155674, 98.91830860170319, 2.7435538619175084, -11.541937881368467, -13.433097989047194, -19.04399084343064, 39.43583895715693, 36.427187965246596, 81.6239138124855, 29.418180722294267, 77.03359218968669, -17.903771174411315, 49.513051662297585, -19.580005185581342, 84.17950825559797, 44.488837897507295, 87.69487021515302, 44.88148846559949, -9.146080437052454, -10.637170146296583, -19.98176581526633, 22.624806037938313, 52.075491702605504, -8.136912086128305, 70.42729338840192, 35.57346126462791, 66.13970281330721, 99.49873003471224, 49.63203106179071, 76.90071861215539, 74.21150065147773, 33.056631318973785, 89.03061670100004, 6.8983385470729175, 95.03867313816625, 22.643739124070677, -4.736715897406732, 44.7758299470438, 27.784350556123194, 69.45987763569188, 53.652398243463196, -9.078585672773176, 97.88543824081113, 18.751443585090072, 18.371678059833926, 24.532015494360714, -6.575521243691028, 83.31306890136841, 16.731456655041683, -9.62662839823924, -15.7771431140293, -17.58324092868525, 84.03962576988928, 76.50794746081561, 51.87568021447639, 29.88233434277209, -2.9585780809571283, 10.976582858406793, 49.37479315188931, 64.21954440497015, -8.870019954679535, 45.69118353688614, 50.648732100328786, 41.21520552118962, 61.641986775310016, 54.36444217058296, 33.55993853307856, 91.55458390561067, 68.9987570646302, -14.201999145925628, 29.269730279486062, 27.71343427611543, 12.332751264464463, 27.632855755155568, 52.87625598885859, 19.625880769118957, 40.12220286310597, 34.62109293464286, 22.936917894624386, 29.867621382208107, 5.92768739918985, 37.72732544959319, -7.638815195935704, 55.4854712190901, -1.7166026615204757, 6.21642071251944, 91.31204335458968, -9.934959917079095, -14.322309497926472, 43.11363181079448, 78.88162851270843, 93.10536328589458, 22.54402164721857, 65.40109296029829, -6.509364538005848, 88.31802787184385, 21.290691304208863, 15.992380084828206, 15.927370791590569, 67.79278365643142, 96.70163881883607, 9.167965295289811, -8.969003656403123, 59.05144621060683, -3.3466162462856346, -9.921841825973981, 39.377477072037735, 30.441293346783006, 59.20118836064913, 92.75039038174616, 93.23457148020036, 22.63654973062559, 56.5614109541505, 34.22597534318566, 23.73998601930267, 98.35772978446023, 75.64448287512984, 28.87375646942761, 46.98730318636049, 89.79041626609052, 45.42136202718805, 20.373605365925172, 15.559196335737688, 94.56157379944085, 56.049789411928, 94.965301314499, 11.72046539876828, 75.97411487701797, 81.79745824065495, 57.03155319261184, -7.481602483566023, -8.204492689347074, 0.7216619547859473, 23.245626661026975, -5.673417226864416, 60.399019481292214, 28.145939233595506, 95.54346520838185, 76.2672982826504, 33.17161575076594, 65.59384114808833, -18.4974542884433, 48.24396607547392, 79.22163688012995, 8.453313076252499, 57.93724921897713, 19.07767689059976, 51.24469164197721, 39.72182260601333, -14.181704017704115, 43.66555113173363, 3.1238560637223927, 87.2114574235388, 6.234632930606168, 0.8883397164714779, 41.226965590789334, 23.686194025583028, 79.12719114930862, 28.608651834379437, 53.15061977140847, 6.2695809457759175, -0.8364200979975145, 17.792497534210398, 70.42441971496483, 91.77290040354865, 88.63841246261063, 33.97720784503244, 49.17417523766022, 7.047986966497422, 92.05000681952203, 49.87931233544194, -6.9712675419632255, -14.312684872285018, 68.55662855797542, 6.674004986089454, 56.85393599001132, 91.40672791035394, 30.07218347813393, 34.985687385078485, 38.80045746033906, -1.9058269990305234, 0.6503468053113011, 26.270982454745933, 23.235570624668945, 83.54553726512316, -16.513516658610577, 21.281357846512222, -18.772617538131072, 96.80358235246115, 7.092281183315087, 3.6059968757115968, -9.334185062863956, -3.82889228386815, 38.107488324704526, 30.449650088663603, 45.98470465924535, 13.145264116359925, 77.66908373416155, 79.28196838551995, -10.367457708648185, 13.75180008962785, 76.0145683852172, 7.4772433221495795, 58.1231908280331, -12.447277342503842, 99.43276126294661, 66.00831194389568, -8.95790222117049, 27.429356427515785, 89.75264434783672, 12.675836725647308, 9.351706909457715, 3.7252672023982925, 14.437297224675525, 3.0139260068340974, -15.87978325333593, -4.604696674307686, 79.55825298978671, 27.651532584841533, 54.77625209458763, 97.5242012961035, 37.68931510880062, 74.30831645541123, 65.2150371453247, 10.850080317646615, 47.46219523187068, -8.547198263013783, 11.359524482287846, 12.44752224624532, 77.53390978468362, 1.782949350055432, 47.71005886495492, 95.48541452514596, 44.926870215334105, 91.71114824971208, -13.050731233340457, 10.052628640494213, -15.310835340296292, 20.720437884295322, 59.74983466332213, -0.023665091644954117, 66.98670287409624, 68.49244882934204, 68.48318842746122, 82.07572852636757, 47.409406269188395, 86.36392512647356, 3.901113545557088, 52.18030990893928, 12.12196192230148, 51.20660256969143, 99.6403533452498, 7.638083969397989, -17.19470225771561, 72.54931391537382, 61.009335948988905, 5.81307346923715, 87.41206056202344, 65.42659927449141, 31.60672963953168, 90.33462630308878, -3.948184313621695, 25.103111578533195, -17.537635658727787, 67.22904779044022, 1.4441844977192702, 3.469332399148225, 19.601724075097827, 43.15219321296441, 27.268301881090544, 87.66621405409882, 76.13001582901884, -3.742266007388242, 66.28916379405482, 2.9577154193292543, 48.5671298610622, 46.26782632843883, 31.00810605994655, 1.917363944817076, 74.3143942710536, 82.96703198499534, 87.83384592097998, 33.24712132440731, -5.1139529454628665, 55.42331936916139, -18.695776490645052, 97.57736045801775, -9.393602744700793, 52.173273720443035, 67.08343536050425, 57.10722389556713, 43.290285445022576, 68.66257640513385, -9.47413408835153, -3.7880582235100135, 66.27493139196558, 73.15890747321212, -14.071506835465684, 80.78778531055532, 27.443545146879565, -19.38614097104056, 68.22088850833342, 17.31541185166143, 52.797378104164125, -2.226083880512494, 72.69576658668892, 13.606909062000106, 71.33281924272298, -13.709579073860883, 13.397110759190276, 87.05328795602878, 85.49289153723292, -18.395927299379615, 72.66422101978824, 44.826921696273644, 16.634591495864782, 47.9014401567068, 44.66604368833512, 13.60259041797108, 17.415444176742866, 44.139123638381975, 27.68479784807758, 51.15774672618909, -2.3563066584663517, 9.631075839843572, 88.92167424490076, 22.8371983609913, 63.95291278280918, -4.637584245615148, -8.597250292142743, 7.570299093677107, 51.146252668156905, 67.11654071659855, 93.54513149281075, 29.579044219949886, 29.576187980812186, -8.018656721073949, 43.204711171287556, -16.552776491117413, 17.490461753219158, -14.002897256059752, 11.208017505490911, 50.93242383628872, 62.775631084442196, 56.813233324420594, 34.922093176171074, 48.31069391068259, 39.074797187936234, 71.24771695780352, 95.79998795336047, 95.00325119575014, -2.250969520046322, 90.24530982805065, 79.23623548172483, 52.49940866251211, 90.81570449495062, 31.333237230784647, 40.04560027349158, 75.62203376647474, 14.385731853123268, 63.56589359753252, 17.47544068121642, 18.03738767091224, 83.2883084770839, 2.660484175685607, 90.06096889776624, 96.91407435005256, 10.686248032370074, 2.385860783229127, 70.2089297995185, 91.26421815702517, 91.59650851811169, 13.444844489301772, 44.313747135550685, 55.452861228204526, -15.23658248249756, 37.56757549297468, 76.33265108003019, 55.434604579732365, -2.648518818046849, 44.95313921262557, 74.51157981539929, 72.85078452232572, 53.509300751982096, 3.2615784162702575, 51.80893480401639, 81.4243576604455, 90.05410185107446, 22.05665122823104, 68.41476267283286, 3.9273025884766426, 2.4920742396596225, 57.06748705140541, 71.96272804295442, -1.4184525408683193, 8.615427463763304, 13.24482512193498, 46.336545472115176, 9.696102643947867, -15.412606406300053, 65.69669145233323, -18.791458258465155, 46.838865269353846, 91.00989245278352, -15.781983607799667, -11.195531811608554, -6.576052989629616, 42.110559545421445, 7.654032891852779, -11.31132216791579, 88.38677865296835, -10.812727640654941, -3.9301887093894976, -3.822949284942222, 29.144963587113054, 29.493242705912557, 80.54457911086386, 54.88711986883605, -6.7227015767545275, 81.89522842313156, 95.53085292218356, 52.50072808077883, 97.482273730089, 87.7347611819025, 85.15540687229792, 48.28947855769694, -11.900041931921269, 82.5280038012849, 58.03734031248129, 43.95158800642507, 61.9980770840596, 9.198247340933197, -2.1533710167349227, 63.37489445103738, 87.48878835640107, 53.512375744905185, 85.69938918356596, 41.292547987716596, 18.405728646129617, -6.79502979480386, 60.8873685067899, 5.534827929660974, 1.6540944645454942, 66.78183183298671, 16.467124271348375, 32.00617947758638, 15.194185131750466, 2.908188031473987, 11.424905305440284, 27.03501688836647, 86.00838015369003, 2.653124500505161, 46.249606185858354, 6.9997382807591855, 4.197804776940082, -3.3070640396247697, 6.866649568893301, 57.65225039803968, 62.44814540183479, 68.47091375052518, -13.547451669715734, -7.924480797073446, 4.620382034999174, 51.57114197738389, 91.41854572719812, 33.9475448646574, 96.52598481160821, 46.81596948821637, 26.273150342123046, 18.682039709584622, 10.32944992048176, 84.31081228861865, 93.99706338217949, 79.74904058762884, 32.81173962294473, 46.59375785470448, -9.1988611228465, 61.76200254733172, 66.72933954480297, 79.07252647539609, 13.736857618721174, 44.33732320904382, 45.500508401497214, 78.54958971490322, 30.78165934841992, 33.765144295802585, 20.5674445165361, -17.149772468589774, 36.596481802538456, 20.859224084426742, 90.5597624947052, 52.05387569266992, 98.90044378479585, -2.569293097238262, 61.841678602665525, 9.416251461228637, 3.6863880015219017, 33.66503595491388, 77.01619502239737, 19.12489091050567, 68.0953800420089, 59.3265650098035, 96.47096894037873, -1.7456570553274595, -14.958854491207841, 80.97868265616798, -11.315597155182386, 24.418816054596803, 97.75060280187476, 96.10877340330016, 96.96846437058618, 41.45334808110857, 64.02349982259037, 14.069702391802934, 13.408216975270484, -1.830730470701475, 62.693002135716156, -0.591648690731958, 13.5033910989076, 78.05962569122896, 72.52697512438884, 19.80980327346031, 48.704994139975966, 8.67948146323534, -11.641698806384033, 51.39362199664987, 92.07364184716805, 25.126990648397808, 0.09029320585352707, 75.78371383361633, -14.871235759944899, 26.144531586070713, 45.1475481095805, 75.6226157302993, 69.32767644617411, 56.786521152782115, 98.12195547605005, 26.00460359204935, 41.05886948951881, 7.15068210051853, 92.79933863667769, 11.562324548528373, 98.61455309428503, -16.661234747133612, 19.581664980340648, 36.36334917207208, 68.22082114732109, -4.139419675944232, 72.42103763258571, -7.617481922869796, -3.8613521294327597, 92.14950980009846, 3.645881265409475, 16.970716704169753, 27.129573475843422, 6.304876146247935, -12.010015493930005, 9.233811340825735, 34.23162831814561, 80.06038817028133, 18.94104194110622, 35.75274475004326, 93.00916782508028, 52.65704171775701, 7.132742987589221, 18.3212760540801, 69.18041845014108, 7.0331772365242955, 11.666629071262378, 23.995272720809133, 50.28075970488524, -0.20263237644608267, 35.10619781453217, 2.605796463345552, 40.07395377894237, 23.54609798635274, 4.02567203664821, 57.78867992978088, -18.63602717051295, 29.831680419216937, -7.434665871534163, -14.577646467627527, 50.19146237113826, 1.2239244244278211, 62.33479133886446, 24.71488090459816, 97.69642699766293, 52.51479560855509, 97.14357857907646, 29.28005792903336, 37.513719654695755, 44.31061633126596, 21.30770473072102, 11.394183338489661, 42.06290973783902, 14.352201316330607, 28.717854344341816, -18.173995415396437, -8.225500541400073, 8.25921449715593, 48.66330226973376, 22.785071664474643, 53.120119147659906, 75.02482891548995, 17.52055229211588, 93.73588764789166, 77.25752963544966, 94.9072913874561, 37.714386641737136, -13.763559519256393, 1.1157207609536925, 59.36454488467869, 5.693385045344371, 48.78579872443322, 65.74199589787663, 22.434238438284957, 8.94630141819448, -1.0863125777534464, 72.22656413421689, 53.56392218567966, 55.79314572261785, 25.010304225509316, 1.618549743669206, 38.51669639348664, 26.781978655985966, -1.1245603522806817, 91.04821631464017, 26.22802619151222, 80.59160229566018, 65.89713832069319, 38.678320020760594, -12.982471774783253, 32.78436747255488, 11.675015315890139, 94.96735725997199, 3.7419406600700675, 33.61491047834417, 21.243559956535016, 36.39377651159454, 5.4240782381118535, 61.018719539837846, -16.87972873295621, -19.395399990629517, 46.287861992129734, 75.45003980299379, -9.209069164470826, -5.576961467212023, -6.272971711222226, -14.694389075021812, 59.33141348351322, 17.676602847677785, 12.854441527304708, 96.45841245373916, 51.8126211204432, 87.44225508904215, 84.92453690539281, 80.2177964610083, -10.213346365437243, 61.52913072021779, 49.04750768392178, 6.0520598141124715, 36.971291855548245, 67.18860499631346, 20.059406415600257, 28.175784009872864, 25.875574775240352, 2.6687388732804216, 73.80878127617578, 73.75928269279835, -5.961850643751166, 99.43760139096452, 32.99885538558292, -15.783890921733871, 89.49719285692603, -4.262492957868327, 66.15366700294192, 78.42716014478381, 25.48276841489158, 63.96688047315395, 97.48345787976609, 13.29476369622067, 54.730297521133025, 1.6174633553585203, 63.0276662462302, 51.40467469825191, 37.035752656155, 14.089437377200468, 32.08824384040228, 48.01604102865389, 28.090731504306056, 49.046391220766566, 58.813970890312845, 26.978190860456273, -10.805083238457133, 63.80942941962425, 90.93270889172894, 25.815095471263398, -14.410818038728959, 90.80601132816055, -19.543055165069024, 29.288215552927632, 43.054477680718605, 56.86223904723738, 1.7619619205415091, 96.87817598731603, 7.368443693195395, 99.00130030043864, 95.72899713260946, -7.248517033923573, -16.0455109901053, 62.959615470222275, 37.69830388909874, 60.52622104055233, 38.398500053235956, 9.690371686640567, 99.27479471546421, 27.74481410638203, 18.7974104902229, 51.4885099339142, -8.49126116388073, 85.65036616813616, 31.592748212991467, -1.087320686063876, 55.225015088921, 71.19848523364064, 63.75354951644893, -0.904222963248543, -18.884878175396445, 40.705764602239796, 13.03182451412318, 30.368501788725446, -14.259361355439385, -5.05400965009056, 44.69780623792866, -8.322745080152822, 2.1617289573839926, 95.16043003686482, 93.93836788928661, 23.108551143393782, 8.476272943579481, 74.97607817698682, 88.78761212786581, 54.43371246752761, 65.32268713580875, -13.01616449597805, -19.482184364063432, 73.95703315021618, -9.47285532463031, 17.837321125408714, 4.9555778227461325, 99.671914305257, 65.36130517386177, 36.202854003675725, -11.773579962770135, -6.818389809932771, 81.79544996174788, -19.645774447694485, 18.970774287141253, 41.41134384297977, 72.9638124225916, 17.843000876891622, 39.294625668199345, 62.32561091860063, 81.23341463054788, 29.15971807500273, 59.54332589872941, 63.143193623197035, 64.01050327262203, 45.48875216942058, 77.09518619568199, 27.926847728834446, 21.8103655507742, 9.581687743991118, 72.43015282198004, -2.0441580803576223, -12.334897951413456, 83.7444487015779, 8.01541428680309, 32.94630255893502, -7.549070567223017, 46.82693758180564, 41.166955840850875, 6.657411117532831, 61.47063678141819, 77.05288079022147, 55.445284533554656, 80.8295703628494, 59.9086855330042, 67.11613055375409, 53.17945694338789, 74.29135295467523, 56.08261176581787, 45.62955623149578, -11.705097221569861, 86.74880790998098, 80.21281481814178, 59.74713443854499, 91.45697455287811, 67.56833668652556, -13.366556283139989, -14.97919578602891, 48.00646334426462, 45.202939587540826, -1.123535597681041, -11.312737703295795, 39.55080672875209, 72.86938017073356, -17.677519898913342, -19.15342821619636, 85.80140771553441, -17.190033162487612, 18.389685826816603, 96.10319869525833, 28.8823900782439, 98.10854612086881, 94.38633974296573, 42.95820021603405, 28.731522235558486, -16.292350152823303, 45.43753103158174, 86.9693097699516, 29.912102963686678, 5.5455217838973745, -1.9882208351294608, 21.027686589603498, 55.967762571549, 32.93468585909997, 34.43332994209151, 39.70478897122725, 66.48814167685441, 14.611651273555267, 39.769347767290505, 65.52829701218855, 18.568747877224887, 52.658081238634296, 87.31483326562021, 8.078757906110603, 18.794178652541767, 89.1754055710662, -2.6271283994873507, 51.24936581665821, -2.8407392732916747, 56.513437260653205, 14.506922506803903, 15.234466750954496, 42.077781368913456, 49.63649599521138, 93.71526688826557, 78.05211932484204, 15.966863828911876, 14.448829796303698, 47.52101387688643, 88.7417926852598, -19.685956411521115, -1.556160447668944, 59.21323276736683, 11.27554821677965, 8.58776067377184, 60.14340459609846, 65.94756219581235, 15.04026204447917, 17.373844107749782, 9.594473590063998, 95.99488664907801, 43.42190151017045, 55.666559884495214, -6.941163895637349, -6.721102458487739, 74.95850593243459, 49.71855750065916, 93.38416463644361, -17.427820539120248, 79.51604524507448, 75.75293270189721, 33.27953010200312, 31.33865724204324, -1.029940660996207, -7.929849988313951, 31.209636216605865, 12.035570025750474, 88.08174088003294, 94.0240525812516, -8.252169835070369, 8.319545784725726, 3.9003010701237315, 61.257344838797536, 45.26800984936581, -11.952011013653664, 18.223955820695735, 6.586237605265424, 75.53123312600957, 94.44258544764725, -19.755902817186005, 75.84523198203463, -3.6769379234349557, 17.073119108198092, 87.5669083067914, 0.8924112018178256, 6.439710984593692, 49.287001499470534, 38.617830518034594, 68.52008825557212, 56.07830830191517, 60.006365401680284, 0.11937702440946651, 95.82890505534257, 20.948664131598832, 30.871698325853224, 19.358220853841374, 5.762878215264216, 34.52145842352024, 95.27038507188081, 66.70552575742052, 23.025689300002497, 5.3280971395595245, 29.04038353806775, 29.478362470334467, 48.49195637774031, 47.98570746078795, 32.10334325590948, 17.549154974435275, 65.50285554197707, 93.46254862630967, 18.239721777903902, -8.955700168075476, 52.136397460385155, 74.1636440742085, 8.117767934696658, 2.7954770955577146, 93.83887367946915, -17.250075359759055, 19.62349158593637, 41.43582482776927, 97.13406030495433, 54.88821098781116, 53.69890594283362, 65.89542776739641, 12.742809424189609, 69.16687513836017, -5.350344251392487, -7.720887347333605, 62.79716423537124, 52.712274920216245, 11.091294927068148, 78.30928176101233, 93.78426385385919, 5.165423796512595, 21.11392260751991, 94.00655228380658, 34.5172169776145, 24.465909711767182, 4.180154068170289, -18.283043261923293, 53.032852167238815, 60.77372241765805, -4.486349518248147, 11.01752794823581, 91.74551705243178, 25.50973184902513, 53.19756413768897, 73.55632837037308, 74.06223355902488, 14.70063453751981, 6.701992455428929, 13.626120887981905, 57.59880672037835, 80.95571142527083, 35.306878088063975, 84.65603434950584, 51.22768725014312, 80.22668734971833, 74.64849973041838, -18.277854060823792, 51.12382733997333, 2.318649664360514, 37.42114292052357, 3.373176089555141, 38.71402444013154, -14.922932192049272, 18.428339627476333, 4.222576469359083, 4.151410316414655, 21.72437450130991, 25.80562408028092, 75.67300110560637, -15.38714318316889, 47.411548709463915, 48.87609579434745, 28.758095701686933, 96.21730096701597, 28.54519831054391, 59.30171205111962, 99.98648098854366, 24.98421189753151, 19.552501660343026, 1.1495336383225947, 26.210638307979124, 36.57806531031425, 63.498309839260216, 67.25347144930743, 39.99096384926678, 94.1747460746875, 7.413137919756039, 77.35364087616013, 53.25580418913313, 51.7474019337929, 48.827626673503076, 83.01433628433493, 62.845682275499584, 28.910327162022362, 60.01174914973504, 37.77438020441308, 65.02175526248726, 99.03452126996842, 3.118049751598761, 34.94074124975412, -6.07543783755586, 7.698069588684284, -17.310128502510516, -8.891354801997252, 94.07707027285716, 87.47148837650282, 46.78238818686498, 63.92528101056148, 65.57722980910246, 77.16230513941383, -8.534459648748939, 80.61656495125129, 73.14410342736032, 76.72623413471983, 9.076190661378693, -6.965530610948969, -0.7547186667748917, 74.09921557789704, 87.9658905792628, 34.00390365562277, 42.871706824805386, 4.033390100140121, 97.54039849997962, 0.320197382118117, 74.7687560252434, 47.26075729352, 82.82508281226062, 89.76416601620147, 86.21727107123172, 79.53723063066204, -18.539703801882407, 76.24919320435447, 31.891999312015905, -0.12579668852390924, 11.002303609620974, 14.923974044841358, 93.729159209471, 77.89717000718109, -1.751201282909559, 87.20335324995, -12.687680080644505, 74.94062808467632, 50.99092400464801, 33.46511843396937, 97.17537301392784, 41.62994440461655, 92.17045235764242, 31.425527825996873, 64.9951751072252, 39.566496349575424, 54.37261990831517, 87.19867519206107, -10.61145460090961, 76.4013001475666, 11.053033203395309, -9.408351081542898, 56.92442515333498, -9.636219650324524, 37.23367020086669, 91.02530769003384, -18.080183520391454, 82.73646863979081, 14.710674310927551, -0.14949155048385876, 58.61394860794043, 99.0444070556081, 2.407314763375979, -2.846444329904468, 45.029702055989645, -13.299169279164257, -14.114697987260477, 30.441389160658943, 81.9128565231383, 60.84395465717432, 9.318111133240645, 60.16862978005848, 78.86770353736593, 94.32067743169938, 57.30460321962191, 83.01492696806578, 27.10390393477298, -1.8616697217014213, 52.09766725406483, 90.48705798928945, 23.518692135885956, 26.11239618852285, 37.91879960787006, 36.420323595004135, 39.110646098482455, 21.464387203273944, 94.42541670574988, -5.027863498237849, 98.13537049738198, 13.389647856854808, 10.872631066091675, 68.69380708085654, 89.19620927160757, 60.98129861050165, 56.59793592086301, -16.387961715926632, 75.0543311964792, 96.0198058380703, 84.53249210623879, 62.83572713960136, 5.284351116837698, 50.487390578646796, 26.0251522489679, 41.18951988758551, 43.75464746729323, 84.16420535594214, -18.13219364915208, 82.27221517124558, -18.222277326502624, -11.266961231504249, -2.31174313323384, 85.84147629158477, 54.817663597783906, 20.264836449038924, -18.070902413302296, 65.39103724070864, 66.31265049901563, 82.8866445204097, 18.23266782884766, 72.14842128968036, -8.976618427650106, -8.844632618353065, 24.750325675357047, 95.77429430759939, 78.87957991587, 34.6386195435879, -19.211435765548167, 90.11551583507304, 82.23814491721964, 40.03412241262614, 76.55159368910043, 30.87468643345907, 83.78626042495287, -6.332213167595215, 3.1172213825321364, -12.426700566596569, -9.823493582142273, 90.37660629438555, 85.5129420186012, 75.20378596461002, 84.26844760134557, 48.823227320537626, -2.4348275636598444, -1.2048897130539693, 9.36032044167536, 46.97359405702724, -14.586981767290741, -18.219409513058146, 48.47721644542618, 48.24943113725867, 28.12995205586298, 94.30770759007281, 26.559048583614157, -19.12963409737604, 30.321532841134186, 64.80052558538952, 71.58788903085181, 12.495304359580722, 0.42533474650812053, 39.87558912534064, 26.126002900723442, 48.42292468443239, 61.58337808487792, 86.71723143779391, -8.125994736831434, 90.7166018004025, 72.08637488260554, 78.11044564132044, 11.228345011175918, 74.90179997372832, 28.88169349651274, 43.98836561372495, 75.19156509245363, 45.51273720750652, 53.9294356522164, 17.433241687447833, 84.03858222437556, 42.625729496489996, 38.0206268304848, 80.30415495133059, -6.669744543695719, 67.22028921368403, 5.403937171804685, -9.052576666214321, 21.38990666294618, 7.360841494694284, 72.07562704375138, 87.1410610232208, 72.12454361373564, 6.043422177293529, 55.981698924362576, 84.88692975090837, 68.4285455422687, 8.524386427874049, 62.42680857917266, 64.81972778273054, -1.3001607853148016, 60.64684805926774, 12.611287076005937, -2.556465790082253, 18.98948482648884, 18.339010940587748, 48.776365755670895, 19.768637248891565, 8.462812052826806, 40.411358174774946, -15.714136834341478, 39.465792057576095, 52.4562736034341, 15.21134654756085, 2.214420075403215, 56.49185821490521, 46.93743266039816, 72.76837888394921, 16.903245815718748, 73.41920496329108, -13.32206580058742, -12.55392679021616, 4.115799284732084, -18.72882304301134, 4.020729458598492, 14.360842042243185, 44.40864803349514, -5.794839664980763, 22.970517776825254, 85.29527966030014, 98.8182684505506, 15.718167116817128, 17.77604705484051, 69.50111937325858, -15.59694556946833, -3.7137444459099456, 6.522761956239474, -9.69130144281657, 37.394173530320465, 13.465064532031946, 1.7807447233021705, 49.21706748992274, 45.848785013687376, -17.004179121624997, -8.39918852396944, 63.03321252543485, -16.023037215973027, 82.77447270550901, 8.877837907939856, 8.551316893635992, 58.06231049293824, 50.93448964465236, 71.60501635251406, -19.453196590230668, 73.20280464848511, 80.40110460096565, 66.69209938586835, 3.539195121016956, 77.07538499497628, 30.33766666548206, 47.53173770941807, 72.96030025920176, -7.097312940768967, 52.44491699969237, 86.501042130361, -8.677839337140792, 20.13607432945811, 27.635601975678952, 49.20334259314875, 10.200681321100355, 55.84059920302812, 59.408102912273776, -7.586716519392533, 56.837530329960984, 27.478257183127653, 12.499978208693314, 37.46361252208801, 83.52404704020441, 77.79959852585162, 5.100701782802236, 2.474941866589898, 25.608152024116386, 66.69406891873363, 60.002720725407585, 38.99226071873465, 1.2235278668869611, 97.09265134275452, 86.20680737873704, 33.02232266517083, 12.301163779585501, -16.119513024054058, 11.908036531692474, 5.7755352408194724, 36.2692225623706, 70.72800377276958, 54.814293448541065, 15.190944824680521, 80.8224127318781, 14.467038622375867, 88.54085913745284, 18.206875691503782, -17.355868002744312, -1.9467651947020315, 3.026652413849831, -17.288286380228417, 98.94986924797237, 66.24323815641944, 63.614281177066914, 68.85577550254777, 37.29691495197323, 4.014586857065776, -1.5461709998992745, 42.58923785422665, 41.1969341182214, 91.21674283535349, 70.84906524051594, 25.26044577270938, 91.88772082834444, 8.914571189195634, -7.542693861437106, -19.118830666489423, 39.69359027216324, 46.509579109155155, -1.117108720031851, 73.75762340423725, 63.4002695320265, 60.41685447761293, 43.36429789834747, -14.005093433576462, 77.3019899937135, 74.66227321545914, 61.1160126377693, 40.482752826763246, -5.676244041378112, 4.21126399093545, 14.463132896652262, 45.213462276664416, 81.51699020426355, 39.828314803374866, -16.463946769325016, 68.0076051798506, 90.86449957219949, 55.208292064575645, -18.441044417006836, -15.77559378401018, 67.55774631826846, 51.237376343259726, -19.835349825775864, 67.78578817542628, 15.650288529113567, 87.10977151339779, 98.76314091824133, 21.338716473644375, 46.48940206313044, 86.67985326412371, 26.385693262657938, 98.83505770740636, 52.793054469014436, 97.04312996639997, 16.746521934938542, 89.46237467391101, -2.5723602091876394, 69.9638864316375, 84.07932646795967, 76.81723173919175, 44.589551626082965, 50.912325636831596, 84.83859284215026, 32.15408275450505, 52.40789979530632, 26.010228661159267, -6.856327772392943, -1.6951980344421074, -9.908725845635136, 43.50094064640269, -8.560834843492557, 41.39292421874181, 9.576357862575591, 98.00610237827547, 20.107290642697883, 33.72584036428198, -9.463134424047714, 3.0196041857241624, 67.3094514207381, 94.33221678144373, 87.44731774895632, -2.814838587798402, 54.93812972073739, 53.56348592181628, 35.3030344520295, 24.551725535931553, 53.513513534501, -15.325543826638604, 12.974764599714653, 66.31127821468469, 14.881148434561005, 3.152877893366359, 78.37026225244796, 25.992619050585205, 85.51436389967144, 13.901454891122256, 82.34007274709231, 19.540190980983844, 19.135280615599434, 52.11642834270654, 55.111649994966314, 0.8520294790020486, 47.6317927610298, 40.58339895709907, 14.985950430293407, 26.00817740077784, 76.61233982536892, 5.812233473214224, 83.14611341857467, 11.286785512910683, -12.94724817622534, 15.708396785107475, 54.056408610437956, 29.05132990852507, -2.0734864721013864, -0.1803042503750909, 21.158981001701804, 71.53711823318048, 43.02618029898066, 98.07111892774154, 47.68570294257495, 87.44904458075726, -0.5854681730727762, -2.0617548621790682, -10.662072228750116, 98.58047228526597, 7.346968729313112, 93.70288673607017, 28.53658100185978, 9.22875133525535, 63.82933856739848, 20.713197486310534, 61.34728322285795, 29.30316214593917, 12.924738141598894, 59.370874679810996, 22.430656421047026, 40.26877969356387, -10.737104826355331, 9.507855339942854, 34.250122871122855, -4.0807908398557835, 74.25493789395726, 93.46665063023747, 6.4688208238918605, 35.412537538066125, 76.0993766159065, 59.28698682518177, 22.976607039140347, 7.81066590480442, 21.675460011115476, 27.594735786189368, -17.339822786715885, 49.458776354234544, -11.372071219800635, 40.5657047433385, 83.09960659765598, 34.44202702512764, 29.857961411090756, 29.20569400220446, 35.35536265546731, -15.46386911109067, -4.409909006261202, -13.087750157389614, 85.17212511741181, 15.332758599282336, 90.09629261853472, 5.701670096815757, -15.085839828035343, 38.737404992406184, 97.57805870862136, -2.0786787623830634, 51.49591351234167, 47.32663211252135, 20.613226491533908, 72.76121334261046, 42.53119984137577, 5.088516136494711, 46.74675086361482, 22.02388936113747, 6.665189526240809, -4.362483324784211, 60.31840923276427, 11.774457394885012, -0.11762653060652895, 71.36688376869076, -0.45237114020498836, 13.917054773842928, 63.96028704908231, 12.695279197825236, 18.735388531849168, 66.25924618688836, -9.197935141948541, 39.33559224779702, 68.11435344831273, 51.992585069803155, 12.035762253137058, 24.558145175570893, 19.775333720027447, 99.02587244947064, 84.85118625752935, 96.30047006440279, 76.03680227587749, -5.088665723660828, 27.040883360658434, 90.61305812650967, 9.35613014669865, -8.36240061958948, 25.7372047401197, 27.4078551418783, 81.7207251334807, 48.17452655511967, 66.4588318101923, 52.05849653243642, 66.75667444067625, -18.024287500603794, 64.25323475781883, 31.987370141328704, 75.29760156877114, 17.390472505450873, 22.791812042924114, 47.10605509549954, -1.2120740837670567, 34.94352542806088, 8.544872409722476, 94.53660798467929, 74.54782399061719, 21.07304550813037, 3.310266755083692, 28.03662281536929, 48.453650319251594, 76.5723618019532, 66.4481901433803, 37.84144823296777, 87.82081720204147, 86.05029169031896, 29.00208436324631, 79.25948866721833, 41.03181364251556, 90.67288626668567, 12.233396399131124, 26.664658671476417, 65.89958111847176, -14.877287031869084, -2.1370046426123253, 32.96722260719692, 42.92517583179221, -16.743393224187216, 58.599652623150845, 52.06975415386222, 97.46833144969392, 75.53055310326762, 32.8195742440831, 26.192014846215777, -12.576672219850188, 35.23483362952451, 49.76493374020191, 63.21805813765121, 63.33007496427042, 99.23866940044603, 36.40632764834409, 60.43626563600118, 61.1331146551655, 94.77957642828044, 39.12499647533807, 1.2522500098803881, -13.832470102223562, -9.861829803090538, 25.041157735000596, 42.29592443324166, -3.6092503868211843, 99.71961385096546, 65.97379313455143, 65.500040012305, 55.020062534572844, 54.561219901894844, 98.75782296964229, 31.5340086010416, 59.56800026310191, 31.912593918766433, 52.418855229505084, 9.194189119956157, 59.85590658293681, 88.1449812053141, 81.06421737662038, 99.86277733995598, -5.73435325390955, 62.89186027148942, 81.77712632942075, 52.25320173053335, 3.4600575764561654, 83.72791070186027, 73.51387830583843, 22.51476646389675, 58.760722597131505, -10.776253170424148, 66.18554592950996, 4.377294580317713, 23.236882961227835, 53.032129403639146, 66.96006733393726, 56.75205735112911, -6.7610825203521365, 52.980373986845336, 11.077765466285431, 25.584457126399975, 17.982224450691035, 89.8298006685118, 78.04539365079096, -9.68629481699622, 92.307328301885, 8.058051261419216, 22.51001058473262, 34.41481653151663, -14.718031742998331, 88.18801609940107, 20.614485418530187, -10.597657099332016, 44.09706309914711, 73.96913234529255, 34.42235160358278, 95.07132417408101, 74.29997666981258, 85.38118521227588, -14.233158239104515, -2.300862210020572, 50.412315060190735, 52.89296118932657, 23.45291494667918, 21.359908415516074, 41.16654594001022, 94.23010989767697, -12.290603536271544, 52.45668439633235, 90.85893774303666, 91.58125587691042, -7.227669289948864, 91.70963407640726, 13.813319167024439, 39.94982772592263, 42.53925225065049, 6.772176578816378, 19.842152431722532, -10.678517336587582, 42.772933695161505, 4.091933777469407, -5.354117580981912, 97.92314061032474, 37.49211362503679, 53.71727914640448, -10.691639465944762, -6.278263388768842, 70.59085747291606, 42.2946919046409, 86.71472561965292, 53.63609844387199, 24.592309789548914, 53.52906381128915, 34.47052702771097, 99.73627176195347, 36.85770324422161, 53.7012093588701, 52.56304235332553, 34.41347033471097, 46.49534824702184, 61.09962065537337, 62.213368584468284, 34.68360195294761, 74.28318070199384, 59.48135560993241, 8.065212815308755, -13.6774766731522, 9.714331423002953, 54.955321777838506, 38.3970389138175, 81.90018559044168, 9.55847678504773, 20.971206329153482, 74.97342845296154, -4.2292577043700685, 7.476549198048808, 24.90602750348907, -19.17576959338998, -12.287036503514642, -16.550710541460557, 63.90564125694584, 19.45626566387415, 60.221601024160364, 71.49859207424308, 72.49674088633697, 2.4918868252144044, 82.45385385669229, 61.19258853966072, 32.660887845436136, 60.58766426875704, -13.549442051055651, 82.88879120343762, 82.57640205976935, -0.0943447128374828, 2.0880693770877485, 24.42235081417364, 56.086084616716775, 68.8276390959101, 17.89295653635144, -8.277666333320406, 78.91440346587368, 34.32359656184149, -18.48635457525659, 35.67335337200914, 39.917684300007664, 85.57101171818513, 1.8132589575257185, 62.37815103932803, 93.90445579334937, 75.28934457665757, 55.58624639294628, 7.812470875459091, 1.8349699063971912, 20.759150254079223, 94.64084505287241, -1.833170141548834, 69.07392923299521, 11.518028512131224, 73.81512999842263, 29.42538374708696, 18.304017038714136, -9.47929005595702, 73.92736222095833, 3.052874858352741, 96.18166972626852, -6.398121074585429, 61.391186276812505, 6.7958775980843384, 81.36556514434075, 91.0133742419606, -11.231197137280272, 81.02306041164483, -8.250031985597971, 79.85681447250205, 30.96054477902902, 52.35734777775646, 12.541262023959789, 94.29396662385162, 73.39646474859397, 59.051229968626615, -9.669116729548719, 11.146104957749017, 52.29325686759704, 10.04540953887664, 40.16610907227511, 47.33092115756409, 58.67140713917553, 23.728789918177718, -4.767849353347579, 20.129137673538636, 75.75347621372207, 26.70098442032915, 5.327118778860509, 62.33200144923771, 70.02038844596075, 39.98070453554313, 47.12854324807299, 39.77423931014695, 43.04357999107989, 52.444000941263994, 31.496333767147576, 85.39065818839819, 51.5808705592801, 93.2668367588669, 75.0702439340212, -1.5094462961026913, 75.11459221852088, 32.6178745757334, 4.855008537754678, 77.8554872167126, 83.06501714783946, 87.72805464422986, 15.941652914146196, 95.77008961334123, 88.34224617989861, 1.5904992283583006, -2.2530037188953926, 19.613756974891224, 30.394023773959766, 80.18183146732433, 72.56516189300544, 88.21095230195607, 43.14031418979342, -7.471260447125442, 62.617578966757605, 27.08634089162784, 22.967787256916246, 91.99967642241558, 73.67837953276793, 83.58394601220442, 5.236998145233617, 99.97606822879261, 76.87709380360843, 58.87215580485801, 96.80664957214336, 63.43716009761188, -9.965326150145536, 0.43535843913110384, 46.51436793503352, 44.418325580820124, 26.06749933712222, 14.915360892270108, 77.59560986435845, 99.41756531667886, 65.3031430134996, 40.16454741308074, 50.33316280039189, 36.06640313320153, 94.70792730234724, 71.24631139669691, 28.610874290335516, 53.29937997393435, 92.54996455766425, 2.996676541382996, -5.604064177912505, 34.096961352138706, 70.89545583158862, 25.48417220504193, 82.25682592042976, 88.70905129181511, -1.195618446204179, 49.61181672966096, 78.19800144575895, 55.52038908330695, 99.31305551592006, 88.59463374811676, 93.0385608943193, 92.63522222613496, 35.93686913801487, 14.457230802488318, 61.550956253651236, 14.032793187120078, -15.906307773803402, 5.0789923146678575, 76.1851026564706, 45.597279668539414, 99.5414209753544, 27.046775066288284, 42.5898070915818, 36.074283772027925, 67.53339215231127, 77.51111829557661, 18.921388540879654, 86.82638689662589, 69.89966353082013, 20.52894091558943, -4.037613883074581, 86.14038410949824, 41.183007385468635, -4.507714451988299, 4.681201064680337, 97.78266191828021, 20.931223205721373, 51.589429644847854, 80.99000499532524, 48.750827494104726, 86.00484863263577, 96.5586720318939, -19.675595524840205, 31.655650749984744, -16.964229296915867, 65.66658931367317, 71.26430780101771, -19.02834083293653, 1.3511782528641625, 89.71833187245552, 36.40685213736282, 65.37524176471668, 43.84873086535237, -0.9383247881482646, 95.79550308511449, 86.8094036021962, 5.212378040311275, -14.59016903184585, 64.73027648307271, 0.48057730514188535, 64.38480615055461, -0.6019795185465924, -12.6135108867979, 41.302377997884584, 80.80828748691697, 49.54469138485713, 84.36443982887502, 91.0401884035551, 3.9866786445791966, 58.630882267057586, 77.04205604758474, 10.952331660821887, 72.092410446292, 92.17331080942654, 95.36123575257423, 90.58172212750557, 59.413109878717705, 44.59844327888874, 44.27193027168521, 15.073607749490463, 54.19509412420133, -4.637685521397227, 58.12348906916705, 84.95337876627688, 50.01931308426501, 67.91280250981156, -9.21556252134061, 27.33259737744131, 32.49860303793818, 84.73837699308567, 24.858312569202766, -16.43867035757591, -14.087975646716755, 50.00908669919656, 37.426049077207246, 96.37027414949087, 20.87224615427141, 82.70324501515334, 63.982982838676264, 24.991357093665926, -19.117300867516963, 57.09663716605742, 7.0182226194037725, -3.851376971166495, 64.95753923132875, -16.792755677340324, 1.7707023687727315, 29.152426541663132, -6.627675695310531, 75.87341940314178, 63.725801946379846, 48.728946491624214, 14.50135765489761, 38.81300420114491, 51.25931650305077, 78.36372390158989, 24.784774132712876, 20.950857432688842, -17.96404544712598, 14.125358353422953, 40.485250310703634, 15.426900206417372, 78.76400248197055, 43.868516134427715, 43.37237831035969, -13.774377633613572, -11.7758724761249, 96.67962551235875, 19.68231767947863, 82.38228026063291, 89.6181246955318, 31.955540491375707, 7.508701494196405, 5.587514811421521, 28.067569616418794, 46.47732709733647, -13.367151572854166, 66.71345999916326, 1.1315754838367411, 39.368856884656445, 6.043477943055041, 88.1933820231665, 31.0551032415228, 59.85446040283152, -13.864178528253577, -4.6536805196525, 49.386308204078404, 74.22696557190163, 17.58134146578746, 71.8039700427397, 40.573160136994645, 6.321042605747088, 39.81616990441812, 39.66864117413937, 7.842878915854563, 20.253960923675386, 41.1075221087381, 58.69148083907125, 66.77358540891154, 13.365103146157708, 16.294396552856618, 31.388757296006197, 44.836579579201, -10.247224375903699, -16.27604262828126, 86.99126739908021, -4.394017719639143, 29.88829442893892, 24.606598073759294, 19.96122070103312, 70.7953437502283, 43.226386499181054, 54.318076531259976, 48.93478865913667, 28.14673688672096, 8.906857487933244, 67.56801142880992, 84.63829513064114, 99.22450560659253, 15.807230182520719, 63.24940575765572, -5.971384800549551, 83.35719177694148, -1.9396145449981148, 17.77304052701568, 82.9832758752047, 87.01421998918654, 27.988105565549574, 68.23673745452558, 51.86171283875892, 98.42945745489295, 27.405101885795105, 12.264326732869975, 40.8801691636489, 27.230452488802726, 56.62305991074365, 25.1850745405075, 97.6098400898326, 62.959780894497015, 8.145298658676722, 86.4789297228125, 11.637983697524437, 88.42780014602674, 56.9375344088228, 14.41079855721668, -5.42371961371499, 30.536400154400404, 82.30973604993326, 43.22745747881318, 48.8042843107517, 21.720473508186785, 85.84532911123497, 10.892845339252833, 85.74255093252404, 81.55221973837139, 41.492452904356924, -9.196412132186715, 23.13865645492293, 15.527271923062635, 59.36127169733385, 1.3738495299282434, 0.3905209253921882, 54.62898635443925, 67.3604124480099, 13.088353618975212, 51.01112952604774, 87.59413548334688, 36.27705495066614, 38.90540501644374, 64.73602380892804, 90.470682428947, -6.150250551288604, 32.723938889971976, 16.93126063251421, -1.8819578949875613, 68.63469734604419, 3.7388324875927523, 21.337649432629235, 74.56974022919665, 30.58121132953137, -7.391720516570338, 30.51926139396025, 79.25410232670653, 78.99801048346322, -5.66586354990906, 3.4163211693797244, 62.61288220579361, 29.195433260946388, 29.705396788646425, 63.3550627679852, 86.25613075852671, 25.223984571198457, 23.39044076895967, 5.248078933548875, 75.20759074683616, 76.12168264830598, 27.260975994654537, 87.71277000723, 57.07970976116323, 92.78518110843225, 56.683591109742395, 88.98663613754199, -0.19637015241933753, 44.94255931465919, 17.849721903789927, 18.944475823867016, 91.23443669801904, 44.6116050652664, 71.89470177921598, 6.455618210580553, -12.189820159999382, 12.536899761762655, 57.33635404215289, 15.09272315246831, 86.9827849730612, 80.78111808180608, 84.74967077407821, 79.20148594092626, -19.118083859503624, 56.34649886028771, 91.58335728850629, 53.40559181214893, 37.16964557110152, -6.446497411601122, 3.289754045195764, 69.57985727848269, -11.579554438570575, 87.11208760366733, -13.750477275609976, 44.80498895254958, 23.20437689364016, 85.59452906225432, 79.6991794853955, -8.235729211048582, 48.11786518915821, 89.34802540531435, 43.366354069568985, 73.72910436341886, 41.357387216808526, -2.9588696307549647, -10.864804226546498, 11.89745457970637, 70.701226231882, -5.596596761936734, 66.68928329053104, 82.12327330574064, 36.84310101599826, 45.679788414803284, 6.743654025902668, 0.5959048115838748, 64.20744715599754, 62.07610591947267, 76.21701261024042, 82.68888223070105, 44.4510082923471, 77.68893221560862, -17.07938169493087, 57.302323676929944, 31.549644796929883, 37.017757754992, 68.18879046328065, -2.795827695030976, 72.84848097316586, 77.96317394286193, 26.6135210311458, 70.56841790170711, 87.91038449488812, -16.433920300711996, 4.287288179286151, 25.857437815515155, -12.312071265713378, 18.556088945694853, 68.32884008787764, -14.166409303907956, 73.02845399024143, 95.07887009421613, -10.598144319845684, 53.03898896272693, -11.85429156328729, 38.819297039635664, 56.43214209505091, 81.93574189655715, -0.8785135521540184, -4.287363881451643, -19.051798217099943, -15.427851544035196, 5.669306203567746, 6.797348097541779, 48.2627492828733, 5.894086275634251, 7.928074868500296, 85.8055801900163, -3.805972380717442, 36.754229540300365, 42.88858898574482, 23.728262886737227, 22.30619228268879, 12.446024957164653, 36.46752372798738, 71.94277153765984, 59.734262975146024, 74.22284997824086, 68.24621283411815, 55.06068565205912, 28.619903396408006, 50.478073733041924, 69.27197008574103, 31.64645379620162, 22.62227191982967, 33.06866646013909, 44.938663743844316, 50.84925058570302, 53.79925650562362, 67.66471836688187, 37.53773727968871, 49.759228565239965, 65.9046055806264, 27.984557774586776, 53.40938197737634, -3.7986621854204436, 54.276443016170674, 98.86429607797064, 50.31294970714184, 13.707934037453377, 43.99789565742807, 54.30747364624192, 20.041467931299103, 95.13796152878994, 35.66251334595258, 53.154275846607845, 81.04448992484808, 82.48155034624105, 37.064966104249336, 7.479903685166661, 18.432812541199766, 48.55375249861797, 54.26611052857197, -8.988513178344952, 74.98222560260479, 1.95097870855939, 91.09104578875571, -9.106124316067682, 70.83945304384632, 31.00819890202287, 21.6382770034405, -17.70001126513829, 87.02988105271274, 27.35917467963492, 34.87384468835429, 56.32737123034349, 27.40421402871999, 27.963480489107198, 78.4860038103464, -17.259458155764953, 50.18387410209235, 0.5770078221192243, 23.77505765799676, 59.66828095868766, 84.10299529949849, 16.225582901857557, -14.144324005396612, 53.06417540036446, 58.661364313836714, 36.22764503368887, 19.136518879348692, 17.50077080295378, 65.009450177996, 16.588163462295256, 54.02509593848927, 35.111924585337185, 30.901593557868267, 53.1965329020082, 32.86090497459304, -13.401889512151044, 19.25577494607535, 63.4631541767032, 17.093061101756824, 7.638693098736038, 36.524343632537565, -19.0756718802745, 31.98193822647304, 83.33169771932963, 52.936300220279634, 12.918159707100386, 49.82061366347938, 61.005848212661235, 52.21196188304556, -2.9675844854612343, 47.12810901914199, 60.413594018819, 86.33282050271472, 47.390747172137324, 99.37830910074044, 60.89571789903761, 35.65484762270552, 42.73162232440632, 62.03436615901634, 46.09682654560828, 7.604162492446896, 13.998528759689194, -6.5405560136844585, 41.62472633563112, 62.535637670604686, -13.204961135369707, -1.6293925225851353, -11.691987423072309, -7.508390791531191, -9.272540788600349, 60.07284349587323, 42.93707001248417, 12.149168244311653, 80.41543341783203, -6.075910474594753, 18.37504041207181, 47.659826371740735, 39.77976259575747, 67.74697412181847, 15.324640878503722, 62.57803124012908, 62.360760125812234, -19.732478039235346, 39.42160692512854, 66.09418071700102, 55.73442501814786, 39.464765607657064, 47.69643552988276, 48.063065056076425, 84.68893409883626, 17.227661400799057, 1.8632947776424658, 33.01018272700943, 48.88744546547137, 65.67458870045257, 90.92917569615919, 79.30171145907153, 99.9494662739859, 63.830471285449946, 40.89166711429858, -7.893344020229684, 37.42830904276128, 8.443697255694374, 18.93170479364437, -3.319605188227456, 90.81364152330804, 28.777883964785893, 19.696378920582085, 38.07575578809882, 18.1181276815055, 64.58931791435646, 62.43358884095838, 5.803397364114321, 6.311403642157245, 25.267845084940987, 15.146223540956363, 87.27089427355575, 89.17838058835696, 74.82724606518235, 33.69024073040969, 38.19431860614537, 69.47161744730391, 40.02203170592018, 74.66727227796815, 28.58804599373778, 79.29286183363058, 40.80109274354023, 26.081323932244672, 34.73622366635555, -0.34799139454043626, 85.64650015105515, 84.66224767196411, 42.330246172603964, -2.646363048270519, 28.22882457071931, 52.883960140048856, -9.637940561430277, 71.1675440088287, 48.54183530263066, 44.557574668694, 0.19202836591139416, 52.323066917303706, 95.72955240530844, 83.72668728575366, 40.013928335039836, 54.24626188622804, 60.82108716894881, 43.77999025005002, 38.39949280350977, 87.45106671145432, 35.57976645844626, 11.088557405728015, -17.189099921798444, 72.40233612321163, 92.33112499224467, 76.65478910113514, 39.12463562473336, 64.43458412896764, 88.14453465687647, 9.346632696414652, 4.581369718220909, -7.061632732436664, 19.947111386074965, 70.56758659073559, 76.06306011254098, 37.581455833719055, 58.66660400586983, 29.020908743661693, 79.15312356319161, 33.55285535636819, 23.786849976498118, -2.0189132130973917, 40.63747340256361, 89.02307369085578, 52.241376414975804, 14.433925068954892, 36.04203922399095, 0.7003970490896592, 4.197128262848228, 81.40476983010183, 37.81004549515226, 90.42834652668424, 93.42693767732028, 25.347712451278326, 41.30063463366425, 42.70344813755579, -1.9612806384529264, 52.376299591870804, 81.07601066944109, 6.018924906710087, 67.52499148926127, 61.565681940051874, 16.78089506616689, 61.6550023612962, 76.26311804204228, 49.39949789691856, 72.93857352891675, 49.468761963166685, 15.640984124293553, -18.283910756221744, -17.375666763270466, 8.87461282459686, 84.85429782976921, 79.29100762728244, 4.263333272466397, -5.555459760813912, 64.33306526186988, 15.087158491014009, 17.402819712459802, 10.97063441028926, 87.94582797881088, 64.96446403578652, 32.72566676687027, 72.88849907373961, 45.18443599124015, 37.52989404898364, 81.49080932007263, -12.7448001281765, 94.24194230397106, 6.130427029178339, 68.49218332533972, 85.510202565564, 44.067881811341294, 69.13758346405868, 99.29218513705517, 14.812995975649528, 59.74212395733403, -7.450077785403849, 78.07841448148662, 52.24955126395447, 38.7174262972855, -16.301515363065278, 97.84833224190145, 69.96033509482433, 45.34519336496976, 23.519119528946447, 16.56394117360852, 22.30243178077329, 12.726460794830807, 92.77013312202948, 13.890444795012364, 44.77223723859845, 56.3088233522911, 42.269882622527874, 77.2254943702883, 2.18493439051473, 88.45272512073336, 64.68307704744066, 89.49987735648207, 7.073274193289642, 17.981384390276084, 78.63712396331621, 17.936929152206417, 97.58828002708273, 69.80820849210306, 1.948235759585593, 74.50410213194671, -2.331400067356583, -5.365587258571685, 70.62977474815087, 55.00251379075415, -4.396671692725187, 68.39151094266212, 2.1560459624351225, 20.140341386400927, 17.796948363556226, 29.69867622141352, 26.935515030411537, 72.31364640993469, 91.82455132667098, 99.83461680851342, 67.47723681344063, 10.819909429164277, 22.47185639551102, -5.648218232460124, 38.878702862645646, 48.51715725157463, 96.58941100338632, 55.19108805167437, 37.454816589703896, 28.86612583751915, 51.28748952087123, 85.94863837793868, 26.294972004975634, 18.348084957939164, 37.47607770511241, 88.00032920108463, 8.270280927549493, -7.516996064963886, 27.34927608942526, -5.326827892888208, 55.6432999757579, 15.335713016287045, 87.40881713881583, 66.71601571829335, -0.8943849644177675, 6.144876670570561, 47.14670380316427, 82.79077811191297, -15.199696401836281, 44.0735919414292, -10.233618569437155, 38.125688141755965, 87.26844138011455, 95.34668339655033, -15.617477972098243, 70.85588265343961, -9.820170381173213, 32.06418913490356, -19.19937510831705, 67.2821936842379, 53.56455693531488, -14.69574854599382, 2.342389551086484, 48.26913956418083, 65.00799861340269, 87.99786422719083, 65.88888556404096, 89.65348543555685, 30.092522261984058, -11.266021013974257, 48.63491612323094, 40.26484469052129, 66.58740832165873, 76.46946617272984, 95.18500146452288, 6.802177673027096, -17.0726221831477, 41.93717409231183, 59.83657260985912, 93.05608012542436, -6.845157667694423, -0.5572303366205915, 59.749853800769614, 60.25624880074513, -10.141891474472363, 37.91125333934343, -5.853927327605163, 28.673971199530158, 66.63988139303116, 66.17223967728708, -10.004622282908532, 63.33922800827908, 26.926505811462235, 57.679893356810695, 98.65328036251438, 79.10236416759193, 81.12905940041101, 26.83272128672445, 21.403009730890922, 23.332841872150723, 31.326794458411158, -19.578016374331003, 22.26676717528195, 29.959524320126363, -18.893827165359323, 2.5077000231538875, 81.61405221605474, 87.69817746722651, 57.0741217402461, -12.736740698202853, 5.746052718164091, 47.95505412667421, 84.73686014052336, 44.21628142187636, 3.87104634474791, 13.746200840041958, 87.81087288456412, -2.3482811992038, 49.03146416740324, 15.130475361474602, 22.46256317031289, 39.66399903846817, 51.503809554314245, 40.37111864243752, 38.64998709302447, -17.883089114001272, 37.344164000418296, 24.82222726034572, 18.754901019382274, 22.55749554305055, -10.51965727011488, 73.38365583303163, 59.78492399342589, 90.09122742948811, 81.48964250403904, -11.683812961159393, 8.480029431155202, 27.06191611850536, 19.60170602475297, 22.760323812511864, 68.62903381252374, 52.38661481799127, 58.93426451280423, 43.468075367554455, 10.247984568488903, 75.34670365811111, 83.95618403802342, 26.672074982702448, 55.66397518427905, 75.52806493097054, -19.24164916606502, 73.11168103752577, 40.38644415093122, 93.06386564234809, 9.405921783265349, 10.527645380958731, 62.00690339118616, 55.99020022847044, 45.10907281405605, 99.07100036908783, 53.56362567601738, 32.60282343530766, 69.22314995774755, 34.31180236803926, 51.00031582682101, 18.82370932823506, 88.91459889129808, 74.80806460083457, 68.90540195663935, 11.919794622894134, 95.71101282111198, 83.01850321079924, -15.12177355439595, 43.85433424672374, -2.1662774774775215, 1.151452333809857, 22.947193300687076, 3.885129158848084, 32.64488434061611, 53.79214151981424, 23.025073364557066, 27.63904475677701, 15.73901884093204, 70.82755893682966, 11.991819429864229, 93.33655312500004, 61.26763643196291, 63.01329836691582, 51.51023211733019, -12.246072990698167, 83.97262696526715, 29.56295742919921, -2.0898776390697584, 24.07882553177417, 53.409726890690706, 70.79081822307752, 21.04945430965313, 27.592447993098787, -13.905765943895174, -9.466754875839797, -0.5236943103633287, 58.919882000882524, 21.778223682891564, 35.37332239307132, 16.60685756063434, 98.36545594933412, -1.7653043679598248, 48.09675177496969, 80.85451986079917, 30.49159365159487, 27.181208018455493, 71.89403649306094, 88.51338166597085, 63.73036026099719, 48.95314541360153, 34.26316103565772, 43.673845279529814, -3.068409843819417, 19.272417962285587, 70.01726321947733, 32.3078149611515, 16.57785995158973, 39.44790239745817, 49.13540942916663, 92.6634422880329, 87.76935305154498, 7.82570475244253, 91.86774133403678, 45.03067968578763, 89.13293935585611, -15.811283589891133, -8.264277976688028, 20.41736450033212, 3.050233398731681, 88.07646488599163, 78.16187603530462, 25.2644665068935, 66.53939931656173, 67.12885293483082, 55.69329716705535, -10.765401965958198, 46.12975645593207, 65.99148571041088, 28.451619946261843, 31.723986995461175, 86.85323224938809, 62.56139855332894, 10.880933915561961, 34.86982153282746, 85.1456930197298, -9.952160812192723, 71.78189969592985, 30.73442031269518, 21.393545399389453, 37.01751074578228, 83.63958019376906, 14.831516592956461, 88.18601185628637, 66.61781102181757, 9.555542649578143, 42.83120376743665, 95.7578060208483, 49.15634442622837, 55.34835166543647, 39.24816951747773, 65.17485572624165, 92.6624367832767, 33.24535570593186, 43.21977776254635, 82.0948214509219, 39.0999272932458, 96.33403419473426, 67.16991546750921, 82.37696916230014, 74.87089476971934, 39.80872806154611, 64.69282803009976, 25.62794459944888, 70.47224451908892, 66.37295564317033, 20.913377705201945, 18.056346196218314, -8.415023915684262, 15.914504662134881, 70.68360893293821, 70.5343840069482, 84.35342285527588, -12.130888683998258, 0.8908758893110438, 37.31656498016583, 61.715570246407594, 61.78991757604953, 92.2139116706518, 41.13209986960417, 34.37706134449269, -10.748919739033088, 22.362956772659082, 46.24553600683821, 16.424351314579532, 97.00082835777178, -19.87939895794903, 64.6390762658076, 77.31581159736606, 39.155376201602266, 56.37650874863692, 46.02708822631695, 4.417244143353688, -2.702058742086141, 0.8912233230396325, 80.32460340111969, 23.456465745865735, 74.15221869083896, 90.27762200685973, 58.40168977525525, 55.535793722430256, -8.790303642745517, -9.618231155667658, 60.259666787778144, 76.00842868810733, 59.12313364933105, 16.14107239914818, 19.496076106815963, 64.09615375798087, 28.909245771163214, 63.11992191766495, 53.44382371861374, 43.56139666570965, 45.41619301207996, 79.2850936445816, 14.807617499706296, 91.18304801355185, -2.8930920468259878, -14.647358829531845, 59.5842394253381, 58.81443719257015, 38.813054758015724, 77.78568018673951, -5.29144819912748, 38.58375137304466, 99.56792407316058, 91.82429986082032, -18.197901312169144, 53.135999436763086, 84.29123747858243, 33.22637865131221, 12.287460068423819, 90.54508411444652, 50.01493200028253, 31.129400445911052, 94.08107607847299, 23.83136228806506, 19.193478455222873, 35.26033049278775, 82.07925488197336, 49.80835913180215, 80.19186355531394, 61.81690303681194, -11.233280594220073, 0.4039784662926671, 29.606291876622365, 97.6928967312155, 6.075906392959261, 18.615351378583483, 47.112731639040476, 44.96191091270211, 39.487170403143075, -5.631668772610961, 64.9434311181917, 81.8967460169845, -11.291481659957977, 73.18890017298445, 1.0805645917172946, 66.2256948212401, 70.41680162723253, 99.16530300465554, 64.69256325470961, 13.49133787530321, 40.262516006345756, 25.25913896378968, 62.7289242504816, 54.45132748339073, 10.565366269275998, 78.89036674321903, 21.86090541729949, -5.363689895961032, -11.556383867723605, 3.3521136940505194, 57.27411723333775, 35.12077310420278, 61.623416934374006, 45.459355624931334, 40.76968585985692, -1.7846725326969946, 0.48754521726303324, 63.14347964716053, 71.4055546129056, 98.09704244572563, 17.250832830921958, 25.39057319012123, 53.207615671006735, 66.24583127685307, 4.3393222101858555, 87.65236365908432, 36.68526278645607, 86.46643866065656, -8.84306199856448, 68.45198563912034, 18.30610380697494, 47.08409003115497, -7.256675741659379, 98.8168580522579, 80.86392582208434, 89.04378211165383, 41.83161424655515, -11.022077290788385, 9.847735508642948, 55.480123486546745, 13.100693101795578, 66.09768082062145, 92.49836255619384, 62.45032520803261, 10.381106680431426, 62.18873399466747, 39.861007741105766, 23.901814210851306, 7.548748306627132, 76.70943305139568, 37.702194844072544, 4.116551524981613, 86.6876300264065, 89.0703046187862, 15.795920116488318, 4.691468981510766, 68.64322596089737, 5.634614323796182, -19.293757380971755, -13.719570251505262, 45.13869150945587, 19.24848766870504, 17.83093178407237, 62.908708305279845, 52.32139855834757, 51.32611387058856, 5.837707869882681, 20.87377805685466, 35.73041475560449, 93.87458027950892, 20.680018017147688, 62.537133523617356, 79.47612545271512, 7.066031407219242, 66.31300550427179, 9.086549600704995, 6.734218143377653, 98.89022674071464, 66.60887151224806, 20.128009996128114, 3.80236397519187, 86.82378768842261, 28.32389657442115, 86.41744518097256, 87.10329080967486, 78.49641394424916, 58.51800422518434, -5.691149657298817, -15.453951767438184, -17.697132654136922, 25.482234470075475, 67.11993668165864, 70.89373320587103, 36.345172434428385, 66.80781416946395, 9.475917507856913, 54.77780375225828, 99.26286296091578, -11.851623822078485, 56.20287351647751, 29.694637882504594, 88.44176856000226, 6.0806004740883495, -18.98522465535958, 97.67576443273383, -13.530049819109644, 87.94326874350726, 18.958530408468675, 44.97391316367141, 9.864265981029003, -16.101249786827726, 82.74677060046214, 83.20733360852887, -12.944388129735994, 58.47778619586086, 23.119525711477166, -14.612481366559633, 15.100139785051105, 88.43602112058036, 59.66141668794674, 28.05127359195164, 49.30871708930442, 35.06933846939951, 43.05920138511076, 65.08917354075008, 85.21086814423452, 34.91259328428458, 69.1849998085215, 88.51097189022794, 97.7522803483309, 4.159732566640706, 26.771122736438187, 24.095030683263516, -6.605915368681083, 39.307672758249474, 94.8953933753325, 84.15999173234455, -18.830920511620697, 92.85292815104732, -5.928720443056644, 82.82893960278261, 30.006292466986316, 23.731425644889505, 11.512131753666942, 29.161079651558723, 66.59808738644674, 42.81561118634891, 11.315201231088253, 16.548143486581004, 71.68593906832078, 39.70356379067256, 30.77192218413152, -16.560065463456567, 16.70464009295859, 78.07100638780739, 26.578064296250297, 87.75248015973601, -14.691026221021852, 61.96750147578864, 27.871981635140926, -17.20486203642531, 36.49357433229164, 77.8010569870966, 35.273177028897386, 12.39554859620253, -10.676876765428954, -0.6450907763332836, 2.638008955966832, 69.79340278389914, 25.219550217198396, 38.977709994646794, 89.35549032057705, 8.492334732626436, 59.518027993706454, 21.25980736392539, 3.039405197912103, 44.858867876719316, 11.113822219140388, 79.59034656671065, -18.654460989993712, 77.76022860318056, 19.331995562461422, -8.883171193438045, 30.993217299748764, 65.74017346030949, 54.54171705975615, 54.151144085763306, 6.804396297232248, 30.523271879565655, -3.4616746817960333, -9.806047635937546, 95.65977916241137, 37.08342786380604, 83.1072355382603, 99.4676925520375, 68.39031141376343, 89.53288154726809, 21.669033852380004, 67.28376010943498, 75.66477474143328, 23.13957355497442, 12.588833232923676, 17.016772102229325, -15.235758263122396, -7.935425441468325, 24.934212595094685, 40.130041202465826, 74.15547897802821, 99.00393581712059, 19.740681737436233, 35.23941314008715, 11.651725317490108, 38.7684779830056, 21.649759854662754, 13.687891485575001, 30.432440328290355, 70.83694535316918, 87.84552228851477, 52.71471231381027, 85.5431483338882, 11.194961791683497, 92.46210140606163, 48.02061723749429, 88.35957204323225, 34.804775938924884, 94.01018069675914, 59.696490059177805, 39.82711477171737, 32.348502092373444, 31.395829168705106, 42.77333114704948, 75.39757824218327, 20.71005416811243, 94.55033037535567, -11.817783309943618, 57.17039919306241, -15.311453596077875, -19.093783430260636, 81.60715677076577, -1.6745496056272415, -9.727321637552716, 13.043834218995968, 19.92011318242953, 45.817692022964295, 65.39549008973556, 53.14921483053061, 22.58396391547634, 22.16571179570486, -14.045452902470483, 24.3982971655373, 14.546284064029678, 18.676687998005107, 39.548524977150365, 14.877420937053913, 8.001549933112582, 0.532061204485391, 35.704696983500135, 72.23560989194316, 15.981829561938355, 57.436835158138834, 71.18571049613541, -14.003669112063676, 94.20086723364513, 72.1359103857786, 45.101999603930594, 82.47777040320484, 2.2832243348559373, 79.22876288289768, -8.427032587193066, 52.634966967001375, 15.892875608096297, 18.134146665867604, 46.27094604067722, 8.089947678126165, 65.03902452130981, -7.300511996989405, -5.769010028711424, 12.436262611972005, 10.8276639411146, 71.40207171992724, -2.0594194260101197, -11.989618337737209, 27.45609804202568, -18.45697380863381, 66.01159670480072, 82.1018115062461, -11.264656636533843, 59.725327658367306, 10.23955921442159, -15.784409200470133, 49.793680717711325, 5.147024558041622, 28.09805310305834, 52.37468934422158, 40.81310164023953, 71.70234492166065, 51.53584154792533, 41.86590451031599, 58.10633194987534, -15.317557290946873, 73.57747901555126, -1.3731191961228575, -1.4471603836442313, 23.47394740334488, 22.79321560176686, -1.7747065649307991, 78.13690677917204, -18.29642861632887, 59.711246653241986, 17.60438702434263, -18.905834561663784, 34.9619154672286, 54.015119496853856, -17.71767737686752, 20.866464858941768, 3.738463348059998, 98.44766466982756, -2.6453152780172395, 16.752818366997595, 0.9142425686853812, 8.266880241764643, -2.0141907591409307, -17.565797668085246, 59.59371731458279, 91.96740489003287, -5.637333401087661, 91.23817770721897, 64.9775371269658, -16.28788185302899, -13.374115322395909, 0.8369693921602988, 42.872346534830484, 71.1030936135381, 41.86062899097912, -1.5146343644040705, 95.2360897012108, -4.407304126566377, -13.076439408624768, 23.007920778875707, 88.129816841645, 66.82597336897778, 24.684838722212533, 98.09762292935345, 68.4409312943637, 13.668030536401268, 98.09523136806341, 78.19593052932245, 67.17150576141755, 20.604811535323762, -18.45178737978607, 86.99244798848385, 49.70886069219786, 40.280822706225926, 53.556327918092194, 15.372139437845199, -11.354413530521072, 20.42501731593633, -11.013615313936867, 38.581456206871216, 25.38067370403043, 44.98680989135204, 90.28295074933645, 90.37455088565135, 26.102505163874582, 53.594678316861504, 68.11422240038534, 82.27528184956076, -10.708402259394006, 56.14272117151356, 47.70898793471217, 29.138916897509034, 33.41708437574559, 25.10122567461182, -11.303951295175825, 14.257400668752766, 54.74752608908986, 68.31040241133763, 75.5958708422865, 37.43734349883279, 67.23525121747753, -1.7327528230625155, 73.54894300186692, 37.12103746462342, 14.329671373706468, 73.95906960090257, 59.9623818069925, 48.12220894642374, -15.892605850194705, 90.02688520992677, -7.348123139430953, 41.70093646976888, 68.25309716773631, 70.72454196229302, 84.23409114094315, 25.758784566106037, 4.3563640474835665, 81.60670953962317, -14.037217272346204, -5.451618345812562, 46.067821440559584, 54.858610100483006, 44.635280942678634, 74.12186235682351, 88.6162903229358, 18.335495668111896, -1.5855367857485518, 11.286741012054602, 76.51719178068456, -5.92023499483088, 38.391629233978875, 65.59646674247257, -18.988172979372273, 80.90584212217372, 98.23134065132655, 44.018479295994766, 39.193658490531064, 48.78814055949796, -9.772262061524422, 70.56160359256087, 7.189503612552379, 65.23724956580702, 43.51327441404532, 88.98400752471913, -3.877327637853565, 94.33188025752341, 77.02215062873599, -17.6308805871926, 80.2127207044914, 78.86411638044595, -3.827683559372762, 65.3055250220643, 24.49505263997331, -12.150303501013479, 75.28222083637836, 32.676917607353175, 53.07306937006531, 61.422327780564686, 45.094664591797425, 28.686426830232804, -7.884329751164882, 97.99523137837554, 61.063228883746106, -15.982573012832946, 44.592158782133524, -0.878007057353571, 41.06525574052221, 56.617740085003746, -18.491755250399088, 45.984893617909776, 29.199805398697734, 61.14879983691331, 34.591313798901055, 22.979588033161484, 2.4425768684622327, 94.59323735617888, 79.67201131180308, 86.4140720617456, 19.45782444378098, 48.096456204029636, 86.35595845063456, 61.696399813959246, 34.62937006149541, 93.38761487081638, 53.3951898105492, 58.80305338581233, -11.991594624363703, 27.115744437334605, -11.854468119627878, 35.029714209826665, 23.108395746365126, 19.08260237900157, 84.07325372550113, 92.58378514993635, 24.835116047843478, 38.45567806386519, 82.7283385586343, -17.011674748740283, -3.4002132434987544, 6.195017826390725, 72.90034432871808, 15.623917933353567, 31.83178103577844, 64.9760816703863, 66.8735095287385, 89.5224028840579, 73.30501148340802, 67.8567876398184, 51.3671024341992, 94.15626106955888, 34.13934770051559, 32.84103917408592, 64.342204130772, 36.56874291221631, 50.46615788576503, 32.92770899344311, -14.070491560356606, 7.468268643520069, 92.52924475886387, 95.32234073388662, -6.6819172978073595, 93.6387620428973, -16.03325012161489, 90.25742043718331, -7.510442017272334, 27.36617934087257, 80.81093735746721, 91.17789552763827, -1.4312970450310658, -7.383821069459632, 48.20666587307716, -11.166557518942358, 92.82039390870274, -19.614209566659987, -1.2565109231904614, 65.2180112219025, 8.468919881822071, 9.79312786196326, 33.782089719571005, 11.739014440267116, 28.819540915511915, -13.60484445237308, -19.527983361008655, 23.560170087815415, 93.13346800680519, 79.95343661432703, 25.453779222412003, 99.16964372029068, 19.455317560282353, 93.72968182567814, 4.960502867271124, 19.264819185446655, 9.189683833866056, 91.01616568149528, 85.32682214590233, 18.235494856656963, 6.5388775244081465, -0.019534111657073083, 4.626902586708084, 20.990431291341153, 51.124174011038946, 59.54752566333168, -7.058369316760281, 22.94639932420803, 11.994837530257342, 0.5051487796071683, -9.04084502260246, 70.0104891109319, 57.42261976470097, 78.94393742262498, 52.65530641104172, 8.807692466963868, 34.10292662825674, 27.65817234249642, 61.56032515108443, 47.348157100721195, 39.822336380672226, 10.676630762108775, 45.426344910169774, 65.41128615385706, -8.23232682532911, -9.841969332353283, 98.58669629328836, 68.7130077300686, 44.47795056328668, 68.26142228583366, -17.824924216048224, 80.98166176220404, -0.3373669703720772, 96.96253773159967, 39.712674258189324, 24.58865265910294, 35.93630929530153, 48.192659224183984, 59.39896857566862, 15.83890268831805, -13.475875222982175, 45.94187682071879, 29.403008668238634, 53.71557299903441, 1.254570288141636, 40.24311521986884, 1.94022283025339, -1.858073345479422, 11.805125369903692, 59.16494417031872, 30.711526048429263, 71.87481643262981, 57.31668359232877, 22.626234129142773, 53.39118803150701, 76.77264456782041, 40.92160033891732, -18.023108327960387, -9.647487844075723, -17.63432270730089, 98.27987296999832, 24.181346857696397, -17.006522236167562, 62.51200973369144, 84.94696006320136, 3.636363150918733, 52.04915942851906, 59.5408208766103, 33.55012084790731, 46.797966762449605, 32.762379944371546, 29.27958232511717, 20.223080531809117, 7.036984244743035, 85.55124303340547, 64.98899069901735, 63.493969392048015, 10.06437037996745, 15.487083209676541, 91.99016509508525, 40.47671479966081, 18.559985852125195, 24.77098251699691, -5.790771539284414, 96.13617556746857, -14.193589461026717, 67.69800109195683, 37.67545931034456, 5.651060828058302, 20.248093582316898, 39.93794456582937, 60.84429469695601, 39.797788641048335, -19.608441296968305, -14.476050594649559, 52.60496325726528, 91.31788968557446, 4.757832012391713, 23.753122852594522, 87.06418723645965, 42.71099646057526, 23.931869808089715, -17.56760545555089, 3.8452077658120807, 79.00914807975182, 76.4054965706021, 33.966092164174015, 93.75606650497203, 42.04267710125091, -14.211221578048502, 22.442972043383655, 60.21355683376363, 40.55080440262113, 42.46972804959664, 10.406495870614712, 63.43643969767457, 68.11345503517107, 93.30230762923122, -13.914744213826328, 24.521763583530173, 91.67285535210475, 56.98380050712083, 15.359711505051862, 1.3719474186157186, -19.662654625636243, 47.70646877526519, -19.248575453984, -8.787943248190636, 75.89578720317672, 54.727161656212374, 80.25606596160698, 77.53866804861066, 11.12802483086761, 35.566833053565276, 5.936069553552645, 52.48179292221215, 14.628379078039075, 34.50584789215237, 0.5526297487094212, -1.5905492332048112, -8.594813346939162, 3.295726424853097, 10.48016083529211, -12.55882761716213, 51.183955778189116, 3.978165489248436, -8.942398569159561, -18.507889609626456, 11.25636775886273, -12.936583090216889, -2.3982071604830395, 63.88444517159839, -0.5871299121466791, 3.5209218497535275, 21.426765458063286, 21.523912389515488, 23.67537917612698, 46.37519504839993, -15.735408874253359, 38.71847895014222, 31.14048339813057, 7.084585552159574, 80.30059052485701, 74.68206527019689, -0.53653359519231, 4.7920638581376735, 7.08664788691436, 29.162676807224926, 38.3077040894451, 63.60643763485737, 94.81695643125788, 81.66423988992065, 95.40307804123114, -5.61281085936753, 13.154826649865768, 28.52307890973431, 29.76358227005123, 25.315728010359727, 81.01899806772497, -13.12838949807984, -14.08946797835017, 67.45212334106778, 16.53537270995809, -10.472873044102968, -10.582603172019823, 47.318583530592804, 37.867945392488735, 91.55393862756864, 27.57564676547895, 15.117634544051427, 63.82025813468327, 61.345636866990546, -11.93062690663111, 1.8958760675656308, 60.287388985158444, 82.7811522758105, 3.7574184181114525, 46.034241879211564, 3.5965331879804054, 23.77543569626971, 88.56574590676561, 77.4944013316716, 6.081854297357829, 98.57679429756766, 58.040690256754786, 62.849022692013506, 56.75241097126508, 88.99190425530122, 71.83791413102578, 71.62587005358063, 71.59552812399824, 37.43846037335597, -9.307831404026556, 5.298863492017407, -10.892686090500217, -10.973092111984627, 77.41520624281614, 64.57130107176575, 67.37343125277856, 62.655038204944645, 34.63927263865143, -15.894029575590363, 79.07673373406784, 3.207108041932223, 7.459871356935292, 43.83552265689919, 88.97362081644127, 26.70420550760994, 38.520914392491164, -9.18852577420919, 13.566886488956968, 4.007458149580273, 60.41753037391291, 53.48200056130041, 23.00240393053106, 39.69586912679596, 23.117413405648342, 13.710256193076091, 52.152173201581206, 30.57464246304186, 75.74946766781541, -2.524136896874097, 55.43857760932154, -15.58574403518513, 39.96505447816379, 1.544515858016247, 60.66681743251232, 39.732921614265734, 74.28114130684263, 85.75781840509009, -19.96454381984307, 27.86304494978392, 62.43363140547916, 3.979395407597906, 42.652672514020324, 28.46925501067423, 8.350095817565037, 21.059237208297887, 36.39326805041487, 81.12578129492387, 57.715681332140704, 24.56883852738163, 53.45161613633263, 34.98403129565121, 59.46396661019463, -3.02884670618991, 94.9609397013461, 61.21936754782915, 9.82724722625191, -7.268583305896122, 57.96693658173706, 35.580481819995896, 50.945553248730604, 77.90380627837767, 91.5640121532914, 12.835293493128148, -13.79415095161978, 2.01813415772698, 43.748055014231014, 75.85318616567822, 70.54870618537066, 56.72183354961602, 16.052022600767522, -11.26167071059995, -0.3929690894138247, 96.91474279630945, 16.757584871087026, 67.63273965086333, 4.8824056272270795, 31.03138393095245, 98.2231776752209, -12.82493249177909, 93.26728571623252, 31.42801677807517, 91.68645967956444, 84.66011922731984, 26.59737709283108, -3.470183208637696, 71.66594016114367, 9.270273595361658, -11.830567062645446, 65.67572737229312, 80.2580604932773, 11.197510930018954, 68.2161524695629, 87.20380680550755, 32.38332429544184, 89.99227269604131, 95.6241711338982, 64.56328053309126, 9.353603866624383, 66.4348106811951, 23.886582213428696, 77.78091271118099, 69.16631873557222, -3.2164040224562456, 94.09707323376492, 20.695442993807916, 90.71774600265428, 7.472983160339005, 65.92888712660395, 80.26216817620806, 89.52413194706007, -1.499806047753708, 2.8231403779598025, 62.07795906968411, 3.1458995510130947, 32.66104244416272, 66.57227024948179, 30.222581482561857, 68.25309592860751, 63.89566982687684, 89.84149997877749, 15.610190758600936, 38.041048552024556, 31.859867669138133, -18.220666278851674, 72.72765698963246, 34.27634054165607, 75.31322566137551, 59.11043112770908, -11.635853771246921, 31.73677032263491, -4.384281461329218, -5.420512701601181, 65.90174502677164, 15.06910193539413, 57.34045501589681, -7.964179656281377, 48.94710298938864, 83.77070628143318, 50.71233265611767, 15.928485179185039, -9.711698624866871, 73.9849770304031, 94.93117854183751, 48.24696674429009, 52.92629141036642, 24.032591406613335, 41.71703124791261, 54.9129240100126, 78.55942422167493, 47.02733188768423, 52.46618631628091, 51.14471647683739, 26.1340743025348, 14.018332568777396, -9.15625439872155, 78.28660487148684, 42.29598962489459, 0.5197806716022555, -10.402201053754156, -0.18120607740073424, 96.80208603195346, 5.920600440966865, 40.38492551102057, 64.10960632465942, 41.29978009868758, 45.7471028276144, 71.59689105947402, 72.57636011425166, 51.07129067772787, 65.57096366635133, 63.37672400481971, 40.354272441686916, 54.27395893182343, 48.15445736473082, 98.64763948851275, 6.115382302538023, 32.627093562589444, 83.4987002944752, 35.941957119544476, -3.344799091366685, 23.160170176458685, -1.6674223307967075, 28.765763349727024, 69.6346650412555, -18.54495094475004, 12.610060312058437, -9.965995320588995, 30.735969753428577, 4.882130510254861, 71.54608374499296, 38.87586997689775, 85.6936798729684, -10.771476627765427, 13.5526386085239, 84.79389183023092, 61.004703533393055, -17.02437589997734, 52.01654542490702, 48.85039931498977, -11.864886564880432, 39.818154901336314, 38.073470234647544, 81.40996191161594, 5.371082108801435, 85.11101997693603, 73.18046399357708, -13.541788280319578, 52.398801962860176, 79.64161205020042, 33.85452886338123, 17.397710077316788, 34.93452557996603, 50.54543705096401, 77.84568960529363, 14.263883365667432, 52.44905225305028, 61.50327625059032, 45.40735169286701, 71.75806970277776, 24.788437686555035, 12.827792707774904, 93.59922385608556, 1.6481446405381597, 89.40103365693741, -11.89387080943478, 22.709988521277346, 39.8174832918426, 69.29906908349224, 28.843642988618853, 94.55798414491098, 94.57976478699497, 45.21097942977323, 7.777559792986111, 75.09301955918447, 57.42662555075313, 42.2212039152508, -9.36936543026793, 37.72842377241866, -10.397415825337761, 30.76859434846746, -7.620200948718164, 39.09381119439118, -1.1934356355997267, 70.13618818239888, 87.34246489165952, 27.2455045211848, -4.741134046134894, 83.63531108358337, -5.668190022684755, 1.0070512519565682, -15.318293495549845, 67.60293638381705, 3.8797003945490935, 42.074617182265385, 44.67420907844905, 31.801686902658744, 52.52539261144503, -19.916290334932878, 53.50200126425409, 91.82816015062744, 48.489234649513705, 75.06511622966593, -16.56143495186616, 77.87411419111127, 18.781528119537022, 32.21195170152447, 96.74525029484262, 21.300866935281903, 92.69234275906983, 93.2352758797945, 7.666336419441389, 4.756702620452305, -0.8170139361760143, 73.39698167726345, 17.50142339583953, 13.192864584125381, 73.98242833202049, 57.06942303530694, 0.37712389914915434, 12.798924576883543, 46.93123893699263, 68.438078442723, 60.570129964339486, 71.15251628511271, 99.52252192745833, 69.2880137317918, 20.644242629479265, 67.36432987657304, -19.274052041820294, 8.747580089836138, 98.95170261552828, 7.821642612651498, 60.94102087346903, -8.795176950497323, 43.2180557044348, 40.32405561477673, -17.9633085927966, 25.107399077827218, -9.535923223655963, 72.35300436536996, 28.559716014147334, 35.6259459344612, 7.197390716057157, 46.49653603042124, 15.005034424577616, 42.487351872853296, 29.317004282269735, 72.40839035363645, 60.29325923460685, -15.914037704888555, 88.06650066607642, 71.10375439160846, 19.443485193248797, 36.803891343228216, 75.79578861370871, 96.61259324000974, 9.953267674961022, 73.69822525490356, 15.91713707444427, -14.039541755405601, 72.87079704880539, 34.989301937012655, 5.0440856166869, 66.6477242884237, -4.954000686254378, 78.9175657225947, 15.702261966333836, 46.641811386411774, 38.962993828366905, 41.273359032464334, 76.03456723867372, 9.57792410340733, 79.39812741115449, 74.84253199621904, 68.93361075537548, -8.33910090682167, 66.69030706301088, 35.20439623119989, -11.702860115176797, 23.54223014701963, 6.297610771121441, 39.28496115506759, -8.00744157043817, 11.4713428364017, 7.5608574174178536, 87.34048179553736, -17.751461094099078, 43.67656565026938, 48.61906235929857, -18.69349913360321, -14.728302604174539, 14.94479715348453, 59.7735919469623, 27.509708838360815, -14.374376502950582, 28.198197870641145, 24.668999012979484, 9.276876081919063, 98.42029265573694, 74.8186869485944, 36.22044129381151, 49.68582694014671, 96.18856637664791, 11.183873968788323, -13.803128027461828, -13.407507987558898, -8.131735172751803, 5.156115831858546, 36.671639222348304, 39.94445405544919, 98.66732371897737, 17.20794938540123, -1.5190985179440872, 70.61640831044342, 51.196219934823546, 84.9627136502962, -7.233509267701063, -16.98188799578815, 4.568338160319211, 14.125985966385954, 61.65074109930025, 3.5401493683288052, 34.58070192560713, 49.39449704208319, -7.669355274615853, 64.81449753052355, 63.44157987901072, 8.307707275903809, 99.59329010382469, 41.76587454227705, 10.147465676541572, 90.39125283217498, 82.5696316822961, -17.47384412328522, -8.643730366264979, 54.01168831551739, 30.603719299272306, 78.31795861455528, 96.23271039081803, 26.067746666918566, 78.2439081389823, -0.06553073145278887, 0.764808232677975, 24.318518156827388, 83.98589208087064, 57.19972021948192, 52.738784271607514, 2.4672294373020733, 98.28005057413864, 98.6223552406362, 31.171856246902813, 97.22960920634809, 45.38962316412933, 1.8499377170492366, 52.10585324753937, 73.66065770039131, 97.8082241604776, 93.93048372522867, 99.89613564470525, 60.38569973503631, 87.32333634146103, 99.84119398581986, -8.485873067253369, 41.86041633664245, 80.93261567970681, -1.8406969071424513, 43.696312914120924, 98.59910331028945, 19.029699904928748, 85.1923271470603, -19.6804403716254, 60.98591786560601, 60.56095142115318, 41.90306080852112, 14.448441815087996, 36.55626057869364, -17.563157680938847, 93.97005969439002, 42.03118126603792, -4.467272662963154, 88.38958491746408, 94.74076092998186, -19.236631806382057, 7.679352680728286, -9.311087260554473, -4.7514055781063735, 3.8711707014099694, 54.11585358045431, 19.984117803063455, 47.2780274194393, 95.31209160106265, -19.990803758705166, 93.53463160854396, 65.16516493224867, 37.651098695988594, 17.93912652175218, 89.71538955239065, 73.89360719349335, -11.83958775777461, 48.510802437522784, 1.9796252854846408, 51.14450030443882, -19.11720063808361, 17.124668261929997, 22.033543522678414, 9.301306369809858, 83.303183512632, 65.95121866702141, 48.385403378866, 92.86385497996244, 37.14931821544053, 33.02202640351823, 63.85783717137504, 94.28747803832124, 60.071515562073486, 31.35722148521441, 0.24486385334185456, -15.239898964275218, -19.47190005255078, 9.257018187998955, 43.62021782503456, 55.15318229816148, 4.129591605604894, -9.768521684384911, 15.920086751015788, 29.249014184044967, 3.3134908478274063, -17.781405888474524, 33.177862674085276, 14.787927549516688, -11.071885365297373, -6.914711823996896, 80.11793535083936, 76.04383309570353, 63.309377100117814, -4.739673902661842, 77.68446188940585, 47.622530035066276, 51.59866254893902, 76.22222610751636, 9.215064309773787, 90.9469305435379, 61.81148019737918, -5.253227619806275, 98.2776189005997, 77.0806525997766, -15.959651136925164, 79.55657857645231, 0.6854453890286365, -14.81101455726729, 29.105490393061977, 29.37116543026128, -1.833451498781077, 72.5803822785972, 84.89109486057615, 51.34036011367931, 95.31024298441976, 69.46449871024481, 13.281637156219738, 46.45677178087142, 61.65284362966186, -3.7419705625043775, 63.060368886506964, 26.142829221559495, 77.15766801777735, -7.99412385354457, 49.818547878967465, 7.471836019104458, 72.13595362658822, 26.269402411401053, 40.684180392681824, 84.51168460425582, 47.12547366117245, 39.007213330940004, 35.43458366103373, 17.218235577934628, 94.10451082141077, -11.25625122988069, -15.29726810893306, 75.68200521747983, 88.22004532940946, 12.293798131144662, 96.39528709651242, -19.522061817202705, 83.31977561061467, -10.736289383014185, 92.42431203068028, 69.28417612931891, 92.16321877632464, 59.83033095910227, -9.028540772609702, 56.24850132807403, 44.60280554533661, 50.577059994689535, -6.57358282289322, -10.304766307737667, 35.30181953862967, 2.6802611093465636, 22.872146984636615, 76.50180519763659, 58.0309320508681, 0.8859247231519838, -1.7742265615655555, 38.20858850668032, 68.59276435019372, 58.560955824572375, 38.25983071404599, 84.99960680082027, 65.02382431266717, 25.392035619239394, 81.440431686414, 12.241783182528152, 63.88367329415233, -16.152339103436717, 47.00534888203089, 38.017832974546685, 26.790209681943715, -9.406234278889336, 12.352745197858532, 5.205803442017626, 2.861137837681941, 60.47530249909855, 56.180639113941695, 25.22834863403859, -16.401172296133538, 33.73815656476331, 36.47513939770611, 73.6294518718245, 12.124642584726608, -7.446459340850687, 29.13214877757668, 53.907087123545466, 42.87767334818507, 0.49721015149732395, 85.49482174776645, -17.367965841259494, -3.637475645236073, 36.87128922139219, 24.69356192904811, -17.871136536313095, 15.371962438875492, 96.05454717710182, 61.21707822024739, 79.4693933823531, 79.45198841572355, 15.389325265131696, 31.659978332391162, -11.080079595154025, 65.56076834721974, 41.49683453605779, 14.29113181296136, 17.04601435762443, -1.0931406935173804, 96.80272343117318, 56.610434991674865, 54.057105103609786, 56.813112428925294, 98.82304482375922, -12.1701984510453, 45.889738397698764, 71.1219428383399, 81.24768531238442, 99.88968660842568, 29.172699064937213, 78.52684262813938, 63.72266739668825, 93.22080804660968, 15.669673748327178, -2.7619131602052533, -6.348624288452772, 88.64907461539148, 28.075306075802956, 51.25937242340335, 89.96676695294697, 93.27467174215633, -6.130396641494723, -1.1938197343241939, 89.3793792036335, 21.741253613567288, 26.02308713885052, 14.268198585939928, 28.27918728499644, 51.95682607446297, 12.05763550091254, 58.1085308490581, 60.797818492157504, 32.56915449902874, 7.211636733202145, 88.37540142931626, 76.88210297006417, 57.444292855170076, 80.0231318015756, 37.401291268887306, 25.00301142802848, -10.676831823356864, 47.781741831487665, 68.02375990706152, 61.1577620199713, 78.61062947048497, 86.2285866601665, 6.098382966713945, 91.35278221319, 35.504222466552264, 79.68266886169289, 6.280696569135262, 78.61967240592101, 76.10234582406419, 52.02779029951064, 23.728247499335552, 33.55586647669704, 83.8720607156319, 97.3492005835461, 37.235251681749716, 62.054721590272976, 80.34188656382935, 15.414534401246634, 77.35918518570186, 54.160752502263946, 86.2205495537862, -0.428971276207605, -0.7205393056836904, 39.18644450642556, 26.77103076909423, 45.577585965745854, 77.48729506329636, 64.74829124590943, -12.255720779146708, 15.721988493407807, 37.71114644156809, 48.03047621714602, 87.9558525330447, -14.692815414060911, -7.333400095020611, 4.238415159679324, 27.290483760185268, 10.616557843631554, -12.749144115855774, 78.05269127307909, 32.57702653981665, -7.728233111630537, 79.45578611067124, 38.474187990769536, 37.92312436815077, 54.128332580901656, 68.57987146294384, -9.33387578662046, 82.86961279726992, 59.437762932981514, -10.700160636545263, 8.864121649397681, 62.459288306013775, 0.8427726751132205, 7.009976406912845, 81.3964425047689, 65.62634619328342, 89.50519211173031, 89.16333722127199, 92.0350355480021, -8.419776500180571, 88.96622054962428, 66.08991358480685, 68.87889192856333, 80.91654582263361, 46.14858715069259, -18.950817393515376, 18.706739215566543, 37.51264960374362, 43.650475770572925, 23.692189963908653, 84.98237187335815, 72.39864884957755, 38.05422862650009, 52.26233987301967, 80.0530451909459, 34.81596681603425, 30.79919579792403, 95.07337236215857, 25.20107492198801, 51.502343554348315, 14.657827825100775, 80.5446505082092, 94.26015354748868, 74.30531155124156, -16.68154052457314, 42.67537831943721, -19.299195687178077, -2.626323292005253, 26.87958225996234, 31.878401213939526, 83.31756566110384, 81.54235454686655, 70.22830749113422, -2.1447456460289445, -11.611935750390865, 36.65970486305803, 6.051462899896201, 22.80235910604172, 18.988751954137634, 77.30872250914602, 56.23993446032897, -7.856472674293936, 86.64385738251514, 95.8257487329679, 27.58598500626089, 74.78388513845084, -8.660021777077379, 20.84156305594278, 4.360654123155328, 19.668175284590603, 92.53202340627637, -6.023460500443205, 57.91410162661897, 86.81680895285501, 86.59477479699167, 2.3205871876489503, 51.40295733587678, 11.69302627748337, 96.21579668920188, 53.63387056138268, 57.8941159152384, 94.08897043750552, 48.19689395539757, 20.12810275208495, 78.15822003200427, -19.600876126325545, 57.07420294408233, 0.39519137980910557, 81.96987570674922, 89.29680620290878, -10.196586249040301, 38.18707782889061, -7.240645606126819, 9.977110565659132, 5.920546450625011, 31.970195915267013, 42.64359095543738, 80.12234272304113, 30.142402433771224, 78.90381111102091, 46.67855227322708, 83.9231409622844, 15.586150943616538, -18.285499611938643, 66.00246282017224, 12.365884692615005, 64.25407450484127, 82.5406122186256, 13.22739467630376, 92.0957462474539, 89.0753924154928, 44.9671424163279, -15.050655733532725, -3.1552265168622355, 77.32804190394974, 95.15780946349193, 2.7515376996247767, 36.01006771794978, 62.0148360489932, 67.93463704578065, -13.334222261010996, 9.226426114169914, 63.68595648816674, 34.779355757791635, 40.98149337227396, -5.8001925034829185, 88.48049406041787, 11.507990085081854, 86.85358603911422, -1.5578498179669182, 78.55307506814498, 46.63945484717608, 53.332167785610054, 82.68510071772982, 49.514763154540034, 51.727774427684665, 59.507743916836404, -3.9716276746094366, 44.175905248133944, -3.4857464563700624, 87.46073011850658, 31.566414770338007, 82.81784802024853, 49.26803855210571, 77.21338766001219, 64.64645260895051, 2.5603129200585393, 84.7101701624253, 54.92212073538424, -5.9360822687897965, 3.405796051614402, 43.28746592866593, 92.14809583022688, 51.025877686185794, 87.74535921442131, 0.6777329788043644, 50.22898493775047, 82.24167762902262, 45.686205215871595, 16.31577869517075, 40.284595238268125, 19.716432813855405, 98.15903919721248, 71.37939336919672, 82.99826639670425, 49.47460859144758, 12.420992313625007, 12.255265618137201, 97.85207645130843, 91.01709551680868, 27.76667719447375, 8.87527765644165, 92.87520974021699, 77.4576488481287, -8.22968644303208, 78.04820273601356, -0.7904504573053757, 25.75328243565933, -0.28706943724782263, 12.61602048641005, 70.1214380516332, -4.530144691933074, 12.636831692704106, 38.290115398650585, 84.66532038652521, 26.224106359230518, 59.704886081053345, 58.558965099928656, 39.993195510644085, 95.08552956427725, 83.53898317850678, 58.97691716000122, -16.73055556556402, -6.090904961516017, 67.4517782558604, 53.99623653669879, 34.03694769291444, 83.74080129512443, 1.4337998502581648, 20.508520968747156, -13.094182305003429, 25.30251648857991, 90.62353154341454, 99.36840017753337, 66.76874927676012, -6.0505940772294675, 60.081198314130674, 95.07544828668007, -9.390887617640065, 21.018162252427132, 77.0771613464405, 10.947184403616891, 3.815951817370916, 47.408020909462124, 59.52519240522993, 71.16100080520748, 74.58905041410881, 46.08807935861421, 93.92699711186918, 35.45080423134542, -4.434259261925337, 49.27334526486099, 54.523739320487294, 71.6236940335574, 25.976836324416105, 88.81006442275246, 97.91336894977319, 57.63317600048845, 59.14563788977516, 91.26908915104379, 87.2562842278393, 15.24099115849021, 95.81607623494962, 31.949081885399224, 11.793530888637541, 80.09404386315973, 54.07358203985669, 70.1634291355642, 85.50512288785023, 62.770214668494845, 75.97971707681039, 91.51910248710112, 47.93830191952506, 60.83547231120765, -17.544710345315107, -15.32915452315474, 70.57305286600932, 82.72091149310056, 4.361516393887612, 67.81631668737097, 62.19096945318033, 72.40270529582651, -17.65245635083257, 33.76089544403787, 17.022521899989982, 64.6427439705418, 68.17356925257592, 17.802270649085898, -19.326195498421367, 88.57636172199823, 22.703188812481336, 94.09337190910887, 28.435707395944185, 51.20827833113812, 51.77167116317965, 29.584642696931745, 65.93590710574435, 33.55181104629322, 14.081970583141107, 90.0460368835377, 75.80540901396047, 85.16178873001245, 24.794894772046916, 70.10512417093018, 37.381328874508085, 3.4570152140990693, 55.82258207047917, 71.01869724603458, 97.77148495120774, 61.908750171656294, 59.066617613765956, 60.464149330732184, 45.21693221853678, 42.21100851894791, 56.24670162176831, 46.66705098794162, -1.9766044205430013, -4.052958920446645, 6.567923639821412, 78.15157162912516, 35.47368638438148, 57.265055980807446, 66.72780774375136, -11.389814464370914, 86.61927221374523, -5.347300601734819, 83.73930949721786, 42.094329962794895, 26.59557182669512, 1.3938332622886698, 73.69275716571501, 43.70824180948277, 68.24598687195743, -17.825261753621465, 87.06523940950869, 27.689236507601144, 94.47785453754072, 27.420812935243575, 10.129884905461818, 48.849172539025034, 77.02786462907962, 75.977505651951, 16.709487277915407, -5.143939300545988, -11.754650568937283, 11.469435222879234, 99.35926939818357, 58.534379544194564, 27.26160866952378, 77.5068518516429, -17.96162188096293, 44.0141776955133, -0.47215941565525554, 99.13029357026362, 50.11747846594322, 69.83736906754024, 50.692387824481145, 26.59346666243274, 77.61880224156154, 62.135572647471506, 25.96543900071383, 42.886333289177195, 49.287688577668504, 7.1233986437288195, 84.57423400531717, 36.059866672646294, 93.71343090046139, 17.35252782618572, 10.600692468643, 94.83585569515483, 0.6973417767445902, -5.5376308053013155, 56.37849750007449, 16.3351820433735, 35.37752310890488, 16.056986486798422, -1.2116296746710162, 49.04681764097842, 44.0915988122332, 26.74369571705435, 69.90628213405589, -8.191837919173715, -1.113157916363555, 98.13385088487438, 39.6565043506773, 28.189117278470206, 32.695623482516524, 34.053952194127525, -6.341837738332563, 64.31344667659012, 50.70104224011685, 99.26233396770002, 70.74603706459669, 23.189186011470646, 12.528664054964565, 66.65821801131253, 94.42742772799984, 45.49320472086265, 39.206412306916484, -1.00216691996296, 23.364467231319708, 71.55864030273297, 52.9529882295636, 29.60518786144499, 5.272963368163644, 88.52827702239028, 62.920180631123685, 36.60715523718244, 29.298913238631442, 95.74718224037476, 2.7310205835242414, 28.04390825121672, 47.25694012263094, -16.735667021688382, 12.574929533268552, 89.23337968135228, 61.60626996659235, 70.04390734686946, 76.46311280155831, 98.44011581463826, 77.95470563337584, -4.184641964987819, 11.1639607084309, 83.5492431317695, 54.8943655989563, 78.63884644106902, 1.6305845110234927, 95.54570686420949, 25.043317150997375, 36.91600926602618, 52.405479317760665, 21.76015307258102, 20.45264456841477, 20.234045469851132, 10.80415997756861, 8.982594608193782, 19.798471014529383, 69.22162635073018, 78.9788836458057, 71.50562468000122, 96.33156155041769, 15.535071491639044, -12.991903256799961, 94.9331650911704, 94.31065302939693, 30.036837984307418, -15.272961022540708, 70.97354991312837, 23.369145593045353, -17.816400021022147, 1.523246364741297, 49.863404837876516, -2.8074202871727003, 71.43100551906579, 40.7352630454716, 95.66401977503423, 38.735049812438106, -13.231838426869484, 66.89957998993314, 97.47181091335504, 58.49730195507547, 42.89772932516394, 94.37924192592862, 9.573859439327293, 43.63420349875186, 78.7141918629146, 86.16044997336351, 21.537709938676358, 36.87887636150444, 66.70982044450636, 66.04013265653533, 99.5713671001671, 76.88132172198314, -18.78909071294824, -11.815877885637466, 60.63195721080196, 48.48045499802042, 48.33781451616589, 43.58839836221233, -11.972404276283868, 50.871929542691404, 11.373079502566679, 60.169336347724965, 30.856820142269548, 79.48923850114754, 16.723160008960534, -19.678329348066693, 51.40585934627752, 72.01986312941045, 19.831724156886523, 40.04681662362304, -13.661646107816354, -6.491211497328786, -17.14501283799319, -16.463130608370623, 30.944609429367766, 79.61372044428828, 85.16373583104868, 55.9225355033671, 73.9237209824075, 40.3973864931529, 35.03093612121556, 3.126146847883625, 82.39875982363057, 92.66061035529516, 21.9353417466139, 54.697453901903614, 53.11160131703343, 86.72307452459386, 78.45869772083121, 59.33484992875084, -13.375322269649704, 96.8474850843162, 91.72774543439121, -17.440040886235252, -14.191555399547799, -6.323981429670313, -1.1308655721127039, 93.99548603441949, -11.135108298699524, 15.704981924463468, 21.144690042914377, 83.577983090658, 53.81253621539115, 31.234257721509273, 17.24050542622995, 38.819949779318186, 33.066707881520074, 51.91692336562076, 36.51584110412748, 75.01817948615444, 66.9014924927559, 10.433991946540864, 58.49186654973779, 87.04541350169401, 39.54336908203177, -7.550052525949376, -4.177934818055089, 49.771664031799816, -1.5304116104200887, 61.152195513465315, 58.34498120673618, 63.7943080942664, -2.509673725174025, 90.81630039008952, 26.504162549193182, 87.0191498454273, 25.25607159907282, 48.796419400178735, 18.121200145547753, 56.52615624364728, 72.66195062686575, -18.4222963843486, -5.558569606994311, 76.00115034112487, 16.289577458782702, 1.360521004372064, 87.48034443497026, 67.23449080066699, 18.717100941043967, 52.72634589479759, -1.5836533200779002, 77.13085126163146, 65.57922327359512, 52.881562049162824, 46.849571984057974, -10.165234844889612, -5.336477114691611, 69.87087695897662, 86.88724581436877, 30.52054816419283, 1.5478787717239264, -11.307772530438491, -17.38419336934143, 2.3556208199992454, 36.485418068803675, 89.80800611062209, 18.091045198643613, 59.48745380992882, 9.816759822929157, -3.5322488635575624, 33.897723083254114, 1.5974855893868742, 94.55892034998648, 35.76949436988548, 98.43684505996376, 34.21579007962626, 46.03883579536026, 88.0864283694455, 63.9363053525463, 76.12013484612261, -18.83460584137156, 99.1418271702389, 64.72751865934205, 62.89826475619218, 73.89386346821175, 89.65026042563653, 74.86835984534449, 90.53233900434606, 20.196151057100742, 69.4054082243653, 56.03903361019965, 40.23503899361843, 37.45636338482829, 2.220863367418893, 82.5765748355494, -10.249304060997716, 13.705782164582445, 45.95510048819911, 80.0148129953389, 61.72848397071877, -13.67582871503988, 45.378133721466185, 47.7738168392864, 31.084066258833204, 14.437997544229887, 52.119382468743055, 90.62716417125054, -17.991365246673507, -9.293141333777882, -9.65657220815585, 94.85150710397127, 13.899707229455707, 15.565878935433204, -1.573868300522161, 65.62828703946882, 88.23939477526706, 26.114977806513565, 39.06859418221873, 8.388637596274208, 8.592986641798419, 64.92919246141784, 27.514747950833616, 27.969675419169725, 91.84885337069439, 56.96159212876408, 55.68561113231661, 18.95963134677008, 92.47033383433276, 38.12692135820114, -2.423202917358754, 88.87641947726675, 82.10790664532092, 88.40132270248522, -13.982591129547934, 45.87025358281119, 35.482869087140855, 71.46675771575194, 15.83909986791, 58.19641812901784, -14.368159655071771, 6.86210958993081, 42.15645200054602, 32.343800934892954, 87.56644506550379, 15.773857773286423, -14.924601264668427, 77.864766796843, -5.749758365765935, 49.31813508839953, 50.2538662101703, 75.4427439622072, 73.4087314921688, 27.436168110963138, 82.36845253161124, 54.722332529019894, -19.58822242153658, 61.50736635401151, -3.9270997646551677, -17.841639390725543, 79.84822098682203, 10.119461311969363, 59.55223136273182, -1.849512736906913, 59.49490577216912, 68.58516896978209, 96.207975965399, 52.37932505104854, 74.8949335046649, 44.975463565385894, 96.66930313665752, 61.4059289932934, 59.98111487820994, 56.03010920788299, 44.61703177357721, 67.80964306312825, 77.18912887498854, 75.1822629106749, -1.968460532556172, 64.4850103332221, 39.67003944700671, 69.01199362313758, 47.28005033960751, 54.537186554059105, 28.18748545291755, -19.086849896945974, 2.630390952183145, 1.262749465079935, 46.95840362284102, 6.225291759982969, 58.340709932355935, -4.172431946332647, -12.297594651122893, -9.809637962372765, 9.44579351232894, 16.768760843851084, 50.48250173163052, 18.06923686534904, 10.056489857599622, -12.982029627070371, 76.08014559337191, 67.68447126334536, -13.814132175451824, 87.39610291093666, 89.43701703879987, -15.410382119102547, 87.89921805762168, 79.79530103659415, 26.509688464427427, 82.87677568572069, 69.67129700714393, 58.68493326105961, 90.00880024919849, -7.393835435750322, 77.64768184572182, 8.121130595710472, -4.610927844430211, -12.202790285594812, 3.3132909813597777, -19.136122915376493, 69.34046665942293, -0.6091041090200413, 61.07887048241143, 33.7603483891412, -13.540241106380186, 17.359173903921608, 50.16473708323191, 14.392853471061485, 71.57961560322123, 89.97771466714678, -3.670444485467044, 37.36434634099428, 76.47494348153982, 93.70205901035418, -2.1784137775102863, -10.347582436827985, 36.675664894166935, -4.74839276215668, 55.050310073522894, 85.72753441379908, 44.784986475966775, 81.46210576100658, -11.268737604542753, 60.07974797902753, 77.82727154884654, -3.73021362422525, 29.151728040867567, 98.18393203474743, 79.89608948566718, 35.642370724871455, 71.85469706180001, 25.750396610848497, 75.84829634443115, -0.9118272908827088, 9.803796030961855, 44.70059330678251, 12.686692279677487, 99.52014323024405, 8.77554761904332, -16.01074189543727, -13.387163054874964, 14.857029936123915, 23.456716018382195, 0.799991308310819, 25.216299019659438, -19.254644513450504, -8.599969164059761, -4.456993826894866, 76.6119070802746, 54.856702835169855, 49.93520765106784, 83.57018468843599, 80.39118569804278, 85.77657965233203, 91.90727779361819, 21.51784057763578, 42.55547228896651, 13.625900294588966, -11.032550917575161, 56.444417616517114, -15.429827681428293, 28.97405336819213, 85.74245179786845, 22.46845938521836, 45.65903831175207, 38.03727121659459, 12.956183554188947, 22.65896898319233, 22.911859589054004, 32.05183684470785, 67.37885964141728, 74.26638805455254, 89.11583217537628, -2.8075964946061838, 81.58503582393804, 9.021721287827912, 50.97891730148952, 52.72346413448416, 61.50165725953126, 81.8212257229439, 62.374118811524696, 16.6968446727616, 36.177996606196224, -14.451747651886993, -18.26667145523603, 78.15130236104817, -18.016755658098727, 7.542241919367221, 95.11584636222635, 50.227895647679105, -11.845379697235717, -11.367928813664872, 15.306649270236669, -9.793381344280352, -0.5064176228099768, 27.530333877679055, -2.6351637801128582, 50.256715137122626, 36.06060783902942, 73.6701754207879, 68.36895544904499, 65.6197138330758, -19.002669605741325, 89.27513201753953, 45.994416913589546, 39.387424911960196, 98.58719688896421, -9.255797609221222, 69.90773322032393, -4.36952339239614, 43.91887638095687, 13.497295654776792, 84.64983429627506, 13.801245419108731, 13.903282731506806, 21.644314078266675, -14.46835719411315, 89.74035328441553, 94.96280139222631, 38.96233013171841, -10.715663501739634, 84.08829947580011, 20.13812341677471, 42.52862689131313, 11.501784972941955, -2.826443914219155, 61.200629685075626, 49.88886952620159, -7.777556492097638, 15.957572974664892, 44.02742737396122, 66.75145559629233, 4.57671196059248, 54.78146842075303, -10.931471762547552, 43.911953886970174, 90.04692427947671, 23.926606590106744, 36.97222593563799, 17.2591533970109, 64.61299524931323, 76.92900071797742, 34.46232166894292, 5.786638243083008, 92.47865310606207, 25.43319316096072, -0.7030891386951588, -3.9893163544224706, 76.65549060467973, 55.176039974318, 48.97188036663573, 62.526138077913146, 87.97232600084541, 18.951586467088497, 6.028444682383487, 0.9615812854467123, 32.044541404930214, 12.327249463814567, 75.83651150465455, 74.27062820703989, 60.58075537133958, -4.279368848366762, -6.180884061255885, -5.598713886186179, 93.86855582080338, 17.52561710025435, 70.78283043523349, 33.57022211653262, 45.44854097620001, 66.39988536403241, 96.67778559616798, -12.671529210819035, 6.567177687229091, -0.06822984505465257, 5.543578368940267, -4.865637030054515, 82.19416701353947, 32.82242180687992, 29.60349680794466, 81.47042769249853, 86.26481962686749, -2.1616815851809754, -15.954513487064009, 90.1500661601682, 77.50594999944816, 24.234206811286057, 7.078001894077509, 83.26921484321393, 91.0248202611738, 26.246205072594663, 17.47849836676719, 74.96620959595526, 2.1896747336507794, 84.81805466104922, 83.96662443438909, 40.36224038294706, -11.943135522285715, -18.971015678076878, 47.88211950259645, 77.90144489307332, 16.40187359786224, 1.917243665546664, -17.49471970204982, 56.70103447118734, 74.19873939922684, 79.35101497685193, 95.90969345109497, 77.9534918018801, 48.67127693662651, 71.8103949774688, 68.16858248301756, 46.693150434330335, 69.19218635742016, 73.73906123827896, 89.80574728405351, 23.766074820460325, 36.196640848341076, 30.670945347192593, 89.35965254291807, 59.5833754883313, 83.67694305642819, 23.706829663438683, 35.53868184434016, 35.36305825637483, 28.79864567808226, 16.197527654127676, 74.83049718558276, 72.32899651546344, -11.591461961741047, 98.26799780017458, 82.58937768794326, 32.53726230668791, 6.214680620639385, -13.639913075277041, 42.349742375027894, 38.15401362316943, 52.68734574653001, 82.96151899660269, 16.91450251007135, 0.10931001082605363, 34.321908535515654, 35.64233612592917, 3.4951735188958146, -2.3830411519247647, -6.122174217062998, 18.499164115245186, 41.15284902290845, 50.927680312240525, 33.82979232141161, 96.20210765350501, 67.60255840738985, 97.77632127307261, 1.4345193274268055, 11.563194692449862, 29.304909873088214, 14.988575141030786, 3.1456549093330466, 14.63959766894532, -16.834814408488768, 22.079886895260692, 60.27176753175736, 30.388470431921554, 50.61981459997655, 50.04570869758179, 6.885513484049952, 93.21462827982316, 71.67578551058179, -10.999866340233178, 12.526698601227238, 6.110113273416143, 31.94826122145887, 3.8449816940832235, 96.7612577192008, 35.365264725932455, 96.71837934032156, 84.4431253487024, 90.16051717843224, 28.583503614281824, 68.78839329034504, 58.892089977943726, 77.88808952290306, 91.07425622245421, 56.401520904103265, 81.2715063367863, 70.23626170906698, -0.40001812103889733, 23.967714038683752, 41.004743227908264, 21.259147459504305, 71.14038423966768, 12.30107936459806, -1.1652467021805393, -6.207846549835558, 36.88785433395206, 34.89448251913209, 79.95436327550934, 21.14823839736269, 37.63639646395868, -17.203800686007533, 67.88946518486581, 40.80516346965642, 93.18128932322138, -1.0345053758065603, 10.467986339952429, 10.770642224020904, 40.066993081508755, 41.07169490012626, -14.513846127709362, 1.7165602496308416, -18.63859473727162, 10.247065566525762, 69.13369539450767, 18.173922732643064, 16.922918708369473, 92.87358543631738, 17.39077362185033, 60.53464429428189, 73.36679362989456, 73.9085037868084, 2.7127174253527, 65.71920222892243, 26.04763278351419, 59.74912275261731, 53.624193122458934, 71.55081162664787, -17.313584863080123, 44.481467829252594, 58.09021472593683, 4.354302022654693, 53.38880013493741, 30.124819525485762, 14.341524793833628, 6.771832393619913, 23.79677088977624, 80.14321324117012, 65.4714712785559, 78.33909739783856, 90.52539116279254, 72.29321469608281, 39.952106068122504, 73.69733789804734, -19.58043589800399, 43.01319960001693, 9.917832109912776, 50.80166063891561, 2.5511729152634146, 67.37123530177676, 55.59076770783065, 58.11221154387337, -18.889252582199873, -1.2077670659775492, 33.55798566192097, -3.610008836498846, 71.09892034898978, 40.73706846201277, 66.73467763742741, 65.92974453040262, 27.84149771747642, 76.41834755330866, 96.24906128033746, 63.820904204202066, -10.841563280870602, 84.42487401239836, 17.62126394080748, 97.79972535817173, -0.2348459022840359, 22.936759547495797, -7.413391578466886, 16.129803745061068, 39.04911089833365, 76.20298953574161, 16.135509855890717, 89.96613363977555, 99.26330620476644, 13.803768534322636, 47.73366320152775, -16.664777731749275, 33.987131200144844, 72.99039183656258, 4.598126996470896, 20.758004331147788, 1.7836867349340721, 24.284585879482805, -14.121928246116454, 15.887384484036794, 0.794881565134105, 19.094648416176483, 5.543315761525811, 56.50844700431509, 60.5031060419867, -0.12200478684465921, 31.38931611479154, 57.48863428710236, 6.149594930326636, 42.612481544615065, 54.147791266026005, 61.263703918441124, 59.67898571471372, 1.631787326215619, -10.35623348024853, 71.09524630259092, 98.69171603279806, -14.394125938544878, 31.59793661982536, 1.7614278413115727, 42.61049027629606, -6.460655148590991, 58.2722769217049, 1.5579831820127694, 91.28960574770522, 0.8025021747484402, 1.1567926999012812, 16.260542955484603, 5.057194830964473, 67.26268683142732, 5.73357708035871, 20.97124086650659, 42.90513107038121, -15.040513893980489, 92.70647510957227, 28.74835060928983, 12.502307513350267, 83.55266367787009, 65.41471499604266, -4.385012023608477, -8.380420105290781, 92.85781830531336, 13.790003413379736, 6.343120604529574, 0.9457133272352714, 51.22401859821791, 4.4523820811329315, 26.49411292929279, 15.294733510514654, 17.627153485145996, 1.8943726171296973, 56.585189278743684, -3.848026072751459, 51.15491558594863, 46.02125637030683, 33.28065131588399, 50.71506682202498, -18.165971418450727, 39.82756738069823, 4.9833427890763495, 5.779753587319153, 57.60979293687065, 69.67770519427123, 79.44794219136125, -2.346047102851351, 89.13089012823899, 42.336555278533126, 58.0088606438172, 40.16079205761209, 75.0827076868801, -10.766130092338466, 23.17878611175295, 88.86152941791143, -0.009229266256618018, 37.93947578457785, 90.38759577232595, -12.279491429386894, -5.783826901946076, 75.85993398326201, 53.28694139411758, 96.67986271122477, 23.383623994874753, 61.5061033501007, 62.9169088692728, -5.190665265718826, 91.0578965108402, 45.8232071693875, 44.29375386094601, 51.14468012761034, 85.33042860102941, 90.95649752196331, 3.246535515748544, 30.149766491759593, 79.44644626265647, 8.029485104507401, 6.05399478790757, 46.31216295636051, 76.0664868169186, 42.69841332750696, 46.38985314765526, 76.11106298166791, 76.8380220475303, 66.56336765546175, 53.93867029616473, -6.439594437436483, 80.97379293935181, 87.8535410697954, 88.29426285577932, 38.34485548398927, -17.94768900350563, -16.593881513294836, -2.290264047109435, 73.08790485581453, 84.79395693544974, 32.74587258895972, 32.83082894361342, 0.6563791599119497, 33.024854515388924, 6.647901686004758, 84.46951942282898, 10.808309842376467, 95.07660142113056, 92.56783113752532, 45.30346517793613, -14.528566706768355, 85.53369738477244, 81.64686226439024, 72.13006441060213, 95.5325222735051, 36.602141287392584, 88.44039843911968, 89.39201506833916, 86.98031741560855, 93.44419293719271, 11.876450746189619, -19.600581975809067, 74.54518320337486, 71.88939150501905, 46.51617388242498, 47.16661171006129, 1.299306039162044, 34.1792177468172, 83.11209768477646, 91.32685847032114, 39.59155799795477, -10.34484573104574, 59.81859631150468, 23.3167158730136, 3.06292780214541, 50.10971327162396, 34.21999554201408, 2.706766056321488, 85.06191187221862, 12.499702740829207, 30.49978683503017, 33.24341078074379, -1.8688777813298216, 0.9508830016076715, 74.63540061188537, 92.72648363500292, -1.3418990209792696, 90.02335386513032, 18.147824010460575, 49.37287652798368, 17.347869009280615, 47.56906841320399, 99.75286933806227, 43.37490224026454, 31.156257511547075, -8.690478255441324, 5.590090739538887, 42.22354378861351, 97.79546359116266, 50.13479735602637, 13.011257854930669, 80.60673896354477, 18.787419093572204, -0.522560564751565, 69.26989693680733, 29.922222951187543, 83.37838685366549, 33.51926220223068, 12.087774644625512, 52.77629304162764, -13.88404698551987, -1.8348959055536405, -0.43957634299452053, -14.124340373585017, 84.09435370585066, 1.4633619783478053, 32.96531612879583, 63.504405751830916, 41.17941969453215, 91.03674323990253, 19.1181962783997, 45.048559728818276, 48.4662327251544, 17.87315090415106, 19.042232423831464, 5.529228261893099, 68.06120141204346, 63.37507882139461, 5.39430962669595, 99.41385095148433, 28.70534182293214, -18.194290922544013, -9.984277626497402, 20.629926213874178, 40.75078801707719, -19.29732898264, 90.42438364280775, 83.51460317784544, 54.13784756313714, 63.620266575475355, 0.3634634893462376, 73.94457609034869, -15.621141587148081, 59.93042650457798, 0.7519593912593692, 3.8401186994640284, 8.330742973511832, 85.89092929483624, 9.519508004376277, 64.6909271120405, 7.190842245770757, 25.751366792892476, 38.156277751508505, 40.76532384583204, -10.419679312618339, -16.09695335942927, 62.51744640943453, 78.14976512315101, -13.315387741105473, 29.965869562987052, 58.87578270417434, -0.15844107892518622, 86.94553761257214, 21.611743992015306, 94.94671847480662, -11.680745821036634, 56.49191886757097, -18.56836650844507, 72.6149627201131, -15.09202109223005, 39.562036058989655, 28.693718180929352, 35.938458879831686, 6.090728321043226, -15.920204686671728, 82.53072074040541, 36.98380240722075, 15.553240113650581, 66.08317464202038, -1.7831427707095884, 49.657368959119324, 70.9647521318088, 36.03878723856052, -0.9396495489388492, 11.243301600504655, -6.107741453338132, 55.304291850367576, 28.967388634673426, 75.64979572831311, -2.0029039381880835, 84.81831779732491, 95.8601186749149, 62.570240031851455, 72.76577691367602, 46.14059870869555, -1.4867549063352286, 76.90874204494901, -18.578108476158867, 17.633253317032413, 65.62603034694303, 13.341533885799144, 44.19202905369035, 89.12765695983093, -7.005292536613613, 38.93911849633935, 53.1931657453498, 89.60845220912164, 4.549828940815583, 15.117484247714223, 10.098330341527813, 88.46777231295982, 42.1164556789127, 61.76920899953805, 63.533024934813994, 15.419057774691922, 44.17525697305035, 13.427372436659425, 35.07530642000346, 80.93433022880221, 60.92682237769229, 22.45240870839774, 28.0324617478869, -16.47357690321414, 84.17961406803543, 26.545395638232293, 32.44472495259814, 87.02122494985866, 69.0964259338448, 96.58964125012083, 19.74440443666326, 57.345274314340415, 33.48856158444542, 90.14451150131912, 52.93372962254965, -7.9451758377391855, 51.54881889811179, 3.720262032318111, -8.873515042986773, 50.47325041350261, 48.81760497093903, 19.933802151992822, 6.834480682110346, -14.338901094499906, 58.65232245664677, 36.70407663850853, 84.11608976342609, 49.48204759854296, 33.66885874911722, 15.219586231432693, 90.8926958172235, 71.23873147313456, 26.86948119187027, 72.43120876603498, 41.320862407673985, 12.598639861679565, 79.1717501650408, 8.214039443387058, 71.51315851484489, 32.72754928996271, 50.72826982005812, 34.78476675699784, 63.9790847618535, 5.477705630049229, 3.621494969621999, -3.0889460428410622, -12.740372536688579, 19.52954219967205, 77.79265008033235, 30.592118161617833, 37.44885273402334, -16.808645323203706, 1.4748620955234806, 10.854834627512197, 5.675455893327612, 49.433017940826645, 60.89131181162344, -14.14083871169305, 53.19264209026315, 46.07693298776604, 7.823512369532715, 79.56334508947599, -18.74397908460487, 30.038301666784413, -5.369771823424404, 81.53319507682174, 97.8449250998843, 61.136897109300904, 45.62133876463088, 95.75476268824632, 74.69811321527474, 90.05008047350226, 46.70774406806865, -11.389376718140664, 52.11810365944639, 23.67412414231339, 45.3526617998171, -9.341113236600584, 33.18772493107814, 21.912310123911503, 74.75168279225443, 71.59767724687987, 8.964258622798265, 95.32095788785341, 8.169171160047945, 30.720807706736423, 97.5107781201809, 21.7549540120254, 9.247377135618997, 6.466130398009099, 37.26702520965242, 29.997124373931932, 82.76591951661186, 53.370467856765956, 23.20485802110464, 76.8271364410414, 43.20512961112267, 35.843030509720016, 85.17016798186746, -10.241221110416937, 5.406887282453244, 9.93695916249068, 43.9370893913775, 46.57049837092846, 95.48399510737536, 19.7409712600942, 92.50855421557671, 76.05890432484922, 48.91198164823331, -16.86197128409821, 59.8863946244808, 57.03306517740549, 69.4749750874755, -11.460773730934545, 38.647223012170954, 4.181124602214421, 63.01602509858223, -16.01747218719933, 61.955779184021836, -11.517601107579747, 73.66889847258767, 72.84714154506003, -9.64262983355605, 93.26896251125157, 4.299165488481552, 59.57660933403032, 60.39487082178549, -17.248950289832088, 22.52104697711882, 21.84611225848635, 98.9833846896425, -1.0731337610953204, 85.67211338257086, 77.80975088823024, 76.70771765521, 86.56903817608605, 54.81051934237993, 68.36784352949174, 48.34922330834755, 89.7165854017314, 16.705942779234256, 42.311598297666045, 40.62341631547379, 32.3396023707173, -5.706110133051002, -4.0589556228885115, 74.38148115548617, -12.366001186447754, -8.775971490210907, 82.19346948691543, -14.336921713027806, -2.2770277607665506, 69.76715809275561, 10.407441542690947, -11.362975677002328, 53.55654938845974, 14.50082579387989, 64.41249004643052, 67.97796736407136, 64.56046434121652, 58.40883341614298, 17.278309519331735, 67.75699039875975, 81.12288372972563, 81.79165583608, 26.055383319235787, 26.395930587155988, 96.44752034488619, 89.20054204182236, 89.46867754596978, 12.578774193219928, 64.42565803795885, 45.00623798680314, -16.66403201754597, -0.7011854744495061, 79.5612281229134, 58.5945292217571, -13.066682694054933, 89.38062579871145, 17.991644178849974, 20.3764688805986, 19.16244987823631, 15.127735762552994, 33.33096954738957, 21.228539731853495, 50.76336950542401, -19.79075852929556, -11.727073285050666, 4.92636052107482, -14.962111231480876, 62.970908940655846, 86.0425730070652, 81.28911204985873, 21.205171233510065, 91.21692440892399, 79.24034025179998, -0.38197441096629703, 69.8533640611705, 56.003235401006975, 59.17728326074946, 34.73479530993734, 87.50046931716041, 37.65170020951746, 83.42877738841958, 91.55765022935395, 76.8081849975674, 17.394982796376, 35.44191320139924, -7.879455852381771, 13.680556716296046, 24.46805898461377, -9.424721728841776, 49.555147322021355, 85.05264487958765, 42.03046396410511, -13.813608802307908, 72.54434879380237, 80.45733928129278, 84.13017440114706, 91.69009201188172, 81.65758417346917, 74.20626345039571, 97.86805092412756, 2.265277344504433, 19.355603279871765, -18.77774608500918, 75.6172644405515, 12.065280042263652, 1.7905143317606864, 57.80806026696604, -14.073343357388515, 86.24648397577694, 94.44258512649381, 69.54691038914308, 30.144026414233075, -13.918051812287917, 12.98006472217223, 41.590026519221176, 76.97323095381614, -2.7047162343783526, 99.40864953897447, 28.41429502241312, -11.687897590540391, 67.84742040041947, 53.68773780856425, 5.059616651058889, 34.80799403187476, 58.669308921181894, 52.48303233914339, 65.15987538836181, 28.303393863148884, 27.00886197749412, 11.312328962961153, -0.8265951631888058, -14.667694162661054, 57.861143705728736, 62.25013927220023, 13.282200850680418, 27.304101924349183, 30.966772326959273, -16.39789735839986, 98.88330288258705, 54.17681824457783, 72.63127529527046, 37.42348996024416, 26.17887726168768, 37.99467987797465, 0.17836039847800933, 35.05324224914512, 7.121589333585764, -10.167268047333767, 81.02270245584816, 71.19919454358933, -2.322042746131558, -13.90141102569216, 5.628370971354435, 55.63520016880082, 46.25571577841244, 86.2326792686397, 1.8290929524907966, 46.299008387234494, -7.168505435976741, 14.54403849181113, 8.883061661957015, 67.72718077589391, -1.513603511369496, 7.3378808383524365, -3.2830265434671944, 51.97055000317516, 66.54077751572899, 94.8223807457179, -11.639791055247489, 56.73495169769001, 13.577649214233574, 58.1127342908606, 62.32575278696369, 3.0490518663621238, -18.240969592093606, 81.60900054811248, 44.74738404256907, 42.195135633548304, 58.76251265593366, 88.96694221615218, -19.312524398103655, 82.5267138177768, -13.78935819999886, 0.3349191321608487, 2.1723307093797715, 81.64197166493913, 18.509085442646537, -1.9011214871882167, 64.50950747003151, 68.34016567333619, 88.64514212932447, 38.83799749420518, 87.98688334621062, 20.78252203478172, 68.88274383463317, 96.47083799913896, -5.846373927729619, 97.03540760285638, 52.74124941097976, 87.73255811266279, 50.942765739600276, 57.20255936460207, 6.105890721772482, 98.7055851103303, -15.235952695677, 68.10560605783303, 52.610741763388916, -2.873111037382703, 89.57538585721805, 14.820272796865297, 81.32972670236283, 69.70682607844941, 65.71378175195863, 33.744426343360715, 52.94882949021115, -13.57219297511758, 96.43854022275875, 76.58311937955234, 79.34741788012421, 54.92710405551327, 7.002642691948992, 54.46339818620919, 49.56104321877376, 84.04617652913254, 85.46606352361378, 98.93518462193302, 23.408154585089548, 16.90331670500793, 54.183592762338634, 61.007063739320444, -13.799479765284218, 99.68991922839356, 64.5483727368704, 38.86532172082477, 52.93157914404837, 45.665441987645025, 55.28387032965935, 85.5662619260754, 74.00438067679953, 42.2083898569301, 4.082586772487517, 32.75153166245569, 22.77751840842256, 93.82764802585035, 21.56614054462368, 89.82722740519993, 80.55511627967779, 19.58287191189821, 89.05238107901468, 48.287629360038636, 54.61670873936943, 16.34368150569457, 52.13813991637542, 33.340848290420574, 81.24463639273345, 20.60948840152421, 31.00160895712454, 89.77845405798644, -1.1744105360974721, 47.645412212003066, 78.79766973607968, 29.992503534273297, 97.82780235652892, 2.0134789126932553, -5.126996725661034, 18.84775331167876, -0.19499318209481586, 46.784978756721756, 67.16191556246532, 15.339894905833432, -11.295837335504393, -1.195236380343765, 21.00624578520106, -3.7194518611761964, 78.84255454025964, 15.594632793228826, 25.75553663234045, 72.67042633626386, 44.82636969503737, 89.76963880688909, -5.047561343812754, 87.94492885638148, 17.353254075461237, 17.02460167437512, 11.077260437854129, -5.493161845719898, 82.0447373276055, 45.766495930906004, -17.794489017856638, 52.6515538668134, 67.4658435058308, 68.51200539034765, 50.87001807206292, 55.00764274471041, 53.70978138214025, -15.412096639047883, 6.667906570771613, 41.74756285681668, 30.963031950757973, 36.945915858081065, 25.70646168503486, 17.584494849023507, 92.5409004495348, 63.37455623236568, 35.57476862757706, 99.3154250465656, 63.58172309600019, 29.219830442584787, 23.292074505441832, 78.44967073207513, 39.61860089039967, 61.48136306713313, -0.6128097417442859, -1.705408022238526, 92.76653827268845, 14.590182778295087, 9.984728989131582, 4.130469546525376, 96.63332568927963, -10.948502197294442, 0.3219557186116049, 0.41800079698565185, -12.194360992362503, 36.89141819234389, 62.95176864911025, 95.00519642953142, 83.1065149111465, 19.636002741275306, 83.8726818642882, 31.613001274630825, 48.38408894673344, 73.63299051901174, 15.768926631851599, 14.243143507488966, 89.88312921611129, 52.03670938474356, -5.687552809941314, 43.790601659319826, 78.00323939414007, 15.981118820150108, 67.7610801430858, 70.0241449071064, 53.79349796028535, 74.68288286447792, 45.09713058421016, 20.620260427414074, 9.302632437908642, 26.057459933261462, -18.206594936041416, 84.79030194576345, 21.722799244914917, 91.55582502851158, -6.3952076572166625, 73.3248920367567, 22.814003720961963, 83.0347018718213, 54.17063074085439, 70.76918666410245, -4.1008526058358985, 65.45607462187253, 11.607558133253072, 15.169975485028935, 19.54533527338353, -2.446653630176346, -16.309300405392882, -19.217857809343943, 77.66043413415387, 22.943779757270796, 13.702805855574518, 2.645088664332228, 44.07970987849825, 51.24735010274314, 84.14749634497527, 86.8666807021452, 80.92964046194595, 76.15428777858489, 79.08495943221507, 44.778218664035265, 61.00149875363914, -16.50992186222087, 88.74634039106095, 68.5724590258805, 36.093284120776, 54.93935197118972, 71.46182378614992, -18.61399465229482, -6.675938056075932, -14.968247726983787, 48.20687919069799, 79.23666441254669, 98.87843229115289, 50.040688321530865, 11.764866488678322, 25.03500653688517, 49.99705405857871, 50.53801137598377, 12.247791197421805, 83.71712454097445, 76.51778122258601, 72.67162232535492, -14.469420302356202, 69.33577561986276, 65.53651144982085, -18.830970218030963, 98.68665290854497, 9.898225746298387, 10.811680359944141, 41.82419749143442, -15.11141415700926, 75.39108676713975, 20.081195489218977, -6.76155716130685, 92.35778817350686, 79.28132216772195, -0.06813170093588639, 27.5939134892556, 76.79360731524311, 10.860268669639147, 50.2330789164009, 56.21853565296651, 56.26286717779142, 73.44066159871463, 55.353425351095595, 22.744272909293677, 96.81599455180088, 61.248780367823144, 14.800316874814655, 16.782849800322886, 26.232200397001776, 59.97139979368393, 86.55304479898373, 89.08418086265829, 68.31660034793349, 24.570719476013892, 25.90577139466906, 79.71659668930123, 41.28412657180451, 19.798447668670974, 92.79500143660847, -7.9068520348856595, -7.16045866656124, 15.111484727672881, 28.937925943506173, 51.6452365560375, -4.064585719407425, -6.1768634175904005, 16.48352703577826, -8.497530759424192, 46.85519927637877, -3.992928406576514, 80.79654170854519, 0.43843319199041275, 0.051592452145499124, 29.63309972526553, 44.99288629850304, 6.969612963493049, 73.7119212985324, 53.075165309784, 84.38799457091822, 69.6842190785476, 50.70392657179458, 23.34095108124, -2.3608557025482853, -5.891145116770748, 82.87199024253803, 37.498839624359235, 17.150504354974608, 85.74011998365172, -19.186267214614354, 84.73079514213897, 12.604258155237794, 8.24923344522988, 51.41856715619761, 39.089902296115184, -10.45054888843682, 75.39991540483382, 77.03952133310442, 53.248971871930166, -18.189354377939438, 35.17978683751785, 53.1393085738286, 2.956563157599277, -12.570159676404904, 78.08973420065279, 40.60433615494412, 97.57901907443542, 73.05233857849855, -19.01188845425491, 80.04540634313459, 75.73543284209356, 60.609584071427534, 56.97707274578279, 84.74743500049668, 71.20116141148988, 86.51900881455558, -15.726588899727641, 54.48854933393788, -15.348615465263293, 19.00367938444426, 52.730287746114826, 70.0737306783149, 12.85442088672525, 78.67799095852271, -5.930311473229999, 84.25535645818094, 85.79006732760364, 66.98634042037942, 61.18550953554117, 30.754640282123262, 95.51116229267602, -3.6428132825732895, 99.79173663342719, 30.57423484733463, 6.228582318027268, 22.443020251420457, 49.124727364284965, 94.84548278659862, 22.30502062719094, 91.14800268060115, 56.329814508651026, 80.60878798883667, 70.36217199584793, 72.18974515609462, 19.41087118507587, 42.88183521449872, 31.872292754395957, 47.020073876374255, 20.387191546629722, 32.330122911302325, 33.129152313757984, 70.25269978924246, 37.7552394874821, 72.36490330627639, 99.27752220107918, 51.548708356226655, 35.44698911123362, 47.08406013535996, 70.59124941137472, 40.42641671880932, 41.750490425829845, 93.29038453896584, 49.51355650926739, 5.618641708378664, 19.4068641035596, 57.41396522555392, 12.278861959826997, 43.5875185185584, 50.340433423516615, -15.528822472966826, 36.00084387589372, 46.063705612013266, 83.36367008831122, -5.650770635717421, 14.553205910676411, 77.04444698612194, 46.885022664747154, 20.6527819115694, 66.75259660084139, 79.38719236391265, 98.91248336946032, 14.260171320423282, 87.4405882566996, 0.2857530042395595, 46.43628142234607, 0.4974152282797988, 96.68649721903049, 85.6062275318391, -0.5317358952221269, 80.03258653073088, 9.445786564278151, 97.75106906895003, 39.36749409977292, 96.15190062986673, 46.287740098452204, 97.06507788419978, 87.61004599950411, 98.43427994894888, 50.63533529240172, 38.77926516612147, 91.82217215723637, 31.275312253274016, 62.430289105624, 19.392569798717254, 45.28374674613889, 37.608947142624835, 82.50871252757659, 52.9649347138822, 85.84022554305547, 56.52788371102092, -19.936238974589564, 51.206274734800516, -15.436962019952043, 39.341474672971394, 97.78784947551074, 42.7073358859174, -8.461953106199429, 47.356263625337604, 10.521011140120976, -2.5155603164483473, 70.10860644749141, 67.56983597599417, 44.904905375405534, 64.52764658804335, 19.206383461648443, 98.54649763682048, 7.835894814667515, 89.33067005721163, 16.515536454004973, -5.484515251490194, 16.416585791184424, 75.17745740463812, 70.4209100431596, 46.132264397850534, 8.597035419229883, 21.779251435929055, 98.85078289447324, 44.97559003705473, 56.77815964920451, 95.71556359834432, 48.56431172894217, 74.65380125799031, 54.651286061601, -9.1630953647287, 49.65436282497734, -12.625583643755277, 27.360944093847586, 74.90002227542506, 44.34841714902788, 68.63019888394412, -0.005607571215602292, 30.553230863895756, 46.2138260142697, 1.959834724671996, 84.84388298770352, 89.61630553332829, -13.265936252107977, 55.1107729335497, 63.72841844827728, 77.62065827307836, 60.81342931932038, 97.18119191188676, 19.95671865192233, 1.1867753448061151, 60.121739899248084, 13.25252894735145, 53.69630400501562, -4.883806501436506, 34.41044695033648, 88.73790001724501, 50.56618865029151, 58.362026371166735, -14.231749401287669, 22.97109738855349, 59.89724376360597, 13.409727848222921, 30.148223159292314, 55.18223146646261, 48.561943662762275, -5.213600824578686, 44.785865709978864, -18.3703964992486, -19.214440534681913, 66.71056613722348, 90.4097043779731, -17.769349515737005, 23.653164969239427, -6.539187234648809, 49.083574613532804, -15.10095163360635, 8.867398019485726, 42.776038983461156, -6.423826064007088, 46.61729799776266, 28.478026699563912, 10.888210282886071, 84.34205224756622, 67.24852843055389, 85.12763642847844, 98.96673689207951, 28.02210670998378, 87.4418674779534, 26.441608902569, -10.644963113283104, 91.68070392035415, 2.7109074924396914, 25.943262248539384, 92.62001181548362, 2.149291766308199, 82.02966884211689, 24.98185675223514, 92.77510407810982, 48.7098708637843, 17.590786935692705, 15.231369978760391, 1.1488423369483947, 39.82586992661601, 42.95611633340199, 7.2528105105794864, -9.099395548508049, -6.210344630525423, 70.19333691962757, 64.57465897428595, 17.136225384452942, 43.62260407224649, 62.763014101593996, 64.35513346061292, 93.43572233186818, 62.63816066663864, 54.43629400501334, -16.09030901065957, 90.08451612879772, 5.969496959852375, -16.634079566002104, 81.0001691977764, -6.510497925964881, -0.221482357570153, 34.097616344313685, 0.8972204348239252, 66.54685413404735, 5.41568794898761, 83.00747834404596, 48.37435675308676, 72.85801771163955, 88.40806017880135, 62.47059726729859, 44.58430205347224, 18.129739947087046, 5.979537434933913, 57.94689242775236, 19.783968945635564, 27.14393479289194, 54.32934334421988, -8.756597313831062, 34.5227177983821, -15.168874950701078, 76.00361129498975, 35.040385552341775, 84.47051888858678, 46.17864519766958, 58.41134700228237, -11.07988563476161, 58.92448322421363, -12.903732500356826, 66.72012021121606, 18.298312451039592, 1.7971799155688757, 54.568948397697724, 24.90540707444461, -17.826717828297667, -4.4978416716610035, 75.77321201375545, 3.89236405800159, 59.111160015233594, 36.956893139609676, 47.74613344079776, 27.54664233918693, -14.797112061446342, 47.811191620457635, -6.150295902326235, 26.04026704411629, 48.87626830947792, 57.29505598221655, 82.17627866482798, 92.57511182066055, 31.585284922010572, 6.676154796315, 15.388801879763207, 8.727923656475479, 83.50394082448328, 78.7154961726356, 91.33111698345235, 17.141679434913257, -18.07663994900099, 99.12557643692288, 36.83516141866864, -2.3542345495307693, 17.141779768248618, 17.16107752430743, 30.678893699947324, 31.761035578576838, -19.41281633614039, 75.99274748200608, 49.106367926300535, 94.33835386368082, 58.686593999403584, 20.775440907970953, -18.277066983038605, 78.77779552544416, 83.5045612336367, 99.93537803138948, 27.34218392319916, -3.982978749065559, -3.506964908629577, -13.393941275838714, 70.12045846539792, 36.26414727337176, 19.374356919250026, 82.76098404147619, 20.653542883352706, 74.2751017062021, 96.72294743008081, 31.40081855696036, 56.24992747154809, 45.986154439016104, 51.618533154084645, 59.76901203363509, 46.36735892962632, 87.13596954123179, 70.83527287437603, 33.92109957293443, 87.5911932560374, 93.68947421322575, 24.224980358387157, 2.070351713853075, 69.36812321710302, 69.53946511871247, -18.107829192022272, 2.3394821806798234, 88.37572575815972, 14.090409646851214, 26.60492828908786, -10.841530971964254, 67.96384281565177, 12.075893063254433, 25.489174438669835, -3.7356247465589796, -14.55767014280315, -19.388825215860418, 10.57918069371452, -14.05977915996209, 23.245116408098575, 55.42672986448591, 30.184406884297374, 96.35387981495643, 47.68453372835833, 97.20643981269035, -0.8783731669198573, 39.36463561009792, -1.147499987611024, 63.719824387459965, 40.74923343150634, 28.770589562376863, 41.21410859956483, 88.5665812152741, 2.202123812502524, 63.836875490372705, 35.31285912749044, 12.248547022155655, -16.52990554801912, -9.826889397123043, 92.33033241376228, -19.975840880993047, -15.051018655492276, 53.17599773075341, 64.0856277680313, 4.999296702013115, 19.338086035269917, 20.28240261264073, 23.974040183426204, 79.24245997863822, 17.303238272653196, -11.068919062616569, 96.99177672359133, 0.48951760365098096, -13.583401352133535, 77.02427104281688, 94.86522976408416, 65.50787009876917, 9.622666956150681, 55.36868601839532, 23.605930396269187, 95.03670305239562, 97.53235313113466, 46.28584086437317, -10.470169327661223, 1.9384564794165797, 38.60601316325849, -0.27929328050975144, 5.538944511243642, -5.548374771505568, 35.23977590186265, 49.36374496791214, 13.189277672186392, 7.931918729343224, 94.18047692718524, 37.703822276707385, 74.6411931485937, 66.24128015104743, 8.22397757596594, 55.282933268252094, 96.43684541260194, 22.207092498697214, 37.66663615211933, 59.603588226714464, -18.252575186685554, 15.137326521302185, 78.94839981872396, 32.00228959998814, 98.1167778303042, 31.345458984453828, 21.951154744063693, 11.254118072335558, 37.5031863108212, 53.50270070563593, 99.72760596068386, -6.670003271757041, -13.841434054315416, 59.294846024935396, -18.019359619972107, 80.87920240739214, 98.9055682644275, -13.189204644830145, 83.1668052220088, 92.71945072377953, -5.0816720968246045, 91.92429590795297, 87.80869967058284, -7.74048770070336, 60.942530281108986, 97.71284503242211, 56.22906144929529, 84.25297892962057, 31.82659226588381, 48.82678202982544, 52.9122273009652, 50.9492494132665, 28.41503130970122, 49.24109901985358, -0.35891224736282723, 44.69548993400312, 71.84172044275842, 31.910560425680657, 87.90917812889234, 92.43214242344601, 99.5505674405923, 14.604146439162719, -16.007402252443413, 23.37279513129348, 33.501830299440165, 29.16337684720996, 87.82225488851336, 14.846403525536118, 39.566836005880596, 79.47290988807012, 67.77883554231855, 63.46985079959208, 47.06783903909327, 38.00931204488578, 77.19617996060303, 62.61472265911671, 29.847302205300565, 96.26540012904087, 18.21632189924329, 32.55450054477932, 17.628327970738326, 23.939768148329428, -3.968953904843147, 21.76176505583922, 85.72532387746642, 41.859777385612354, 21.97400804225854, -11.739508982827203, 88.0895577341869, 75.04685690953974, 66.03401102732805, -19.263022720659002, 63.16483653908449, 12.589960237206178, 79.4423993111594, 99.99767743422026, 20.56052886023219, 87.9728762651367, 95.24858362422016, 66.14930626634975, 13.240631272772887, 94.50331997749589, 51.72315077195148, 55.32162790617146, 19.773351552701705, 95.48633092823233, 96.25501684501654, 8.418895666544945, 90.62893294904718, 6.754000200495099, 11.759409873028478, -4.736163256672983, -10.678490927784452, 47.25386927921912, 55.483654069602466, -0.9171594621101349, -18.04462717639762, 26.09384293807304, 33.04605670692351, 18.69665831501071, 1.4050201876939354, 86.5576196578491, 77.87674051837402, 63.35955035718348, 79.6293440985729, 62.78918705963984, 80.52641747123162, -14.594943786613083, 19.27003657593253, 62.44687858743703, 70.78884105233516, 67.37576377089988, 74.23152372755953, 26.719223616234466, 28.887499267945856, 90.44086151923113, 91.19388093857502, 27.26028194288744, 93.7753172767469, 45.224483819524224, 83.6665176075629, -15.478499320684405, 57.16517724576762, 42.16599708926819, 43.302846960420645, 44.490897319171765, 0.33037630120209016, 33.61389798668492, 65.42303569386254, 65.01790876895491, 48.99641790493638, 26.35913970051115, 90.14761744544867, -11.421757079209396, 49.68720312983491, 4.866295371252715, 4.234954539783317, 0.6365097286864518, 30.708212725621785, 8.513520958221452, 10.3796144116771, 40.51541163228402, 16.829720256476207, -3.6768915081606544, 48.235456878911364, 29.9789988204235, -14.748199308917961, 84.89263682120179, -13.39027470447074, 70.73740098086861, 57.92320404439407, 75.84254617524496, 44.9018286803997, 21.557744656236366, 69.5961851695252, 7.685540057137857, 2.0805856303991668, 45.40328553260464, 49.33313374675872, -4.77580407114759, 72.43403151697021, 72.36894754425285, 2.731258861497686, 76.53517104881077, 79.97502939031746, 16.396233816138732, 7.510343013738115, 23.54566737484874, -9.045281365876452, 29.45893413575864, 66.73218056138087, -8.873586308120288, 72.39475074282696, 43.36476269036475, -18.13970056703862, -18.15181937922777, 21.37514673012147, 96.13466085956924, -10.254181219449855, 99.05430637550502, -12.603737383655078, -11.974885355616639, 31.41939370279529, 24.436660346012772, -11.688603448250738, 37.199023889390354, 51.1980621148432, -10.608645244150864, 0.07712721161123781, 63.2197010047645, 61.42761693007485, 57.23085790924472, 53.79434865200514, 13.00650535706923, 45.27870560092414, 59.65921607002342, 56.99167360975245, 72.71486737996251, 70.95368231870076, -3.693832652581129, 42.432227292243056, 36.98633953913938, 13.02720780821167, 42.86697984915279, 14.014645859573271, -4.17224885090568, 33.2470522149852, -4.610494244930159, 64.98396341650472, -4.961459982779971, 27.96711571584705, 94.42838441890557, 49.40336646025577, 84.01798765010167, 0.5642869120614975, 74.09380348543782, -5.649769986438811, 73.68872817323671, -8.419606888799205, 29.202621413029156, 76.67111909381494, -11.782594445771139, 75.10064075717344, 33.56477522488233, 14.827753251007458, 51.22249777343619, 7.7662907489646855, 42.4016827489739, 60.44434929730413, 43.45666614512568, 21.46792567058037, 88.51583026916536, 6.1831778402421875, 93.10293895378494, 39.383252606683435, 82.52397979659095, 21.082782006326177, -16.717886441509112, 85.24536741258007, 15.550776636399142, 5.785690427749618, -19.047121142453328, 39.87923062144645, 96.95793474167284, 8.737556762808751, 84.3095285276023, 49.9998522442163, 95.98766488363891, 79.1100410232404, -8.869190514698824, 44.342061887696374, 39.663980105334815, 96.92802360222313, 94.2510694540198, 81.0838599366193, 19.387499841807276, -3.7328998033594942, 66.53253635405292, 50.69328988633019, 39.16479698682417, 24.174564219900333, 50.833326305589594, 8.860975582458689, 47.88015248214515, 15.099084016850654, 25.459640677615106, 93.33649634487558, 26.11026245430338, 15.95942762989943, 46.323039639796605, -15.362148828937713, 45.532607103595964, -16.49761863436041, 29.34441879697851, 26.080624765937024, 11.839088213060911, 23.19658996723136, 23.08226827427903, 13.00565129438467, 39.40197692566056, 3.959001382078803, 17.127994709432258, 22.785148562501483, 20.221993497962096, 45.71191074789273, 94.08557455576171, 56.078891639950996, 78.50390604858333, 71.7511043388919, 50.3630311749651, 80.19210425499115, 21.56867753276002, 95.76887893963831, 5.674396807102987, 85.76523113600396, 27.644865313218, 21.81801295752831, 32.820736730304596, -16.46425388037134, -1.5716096763913185, 94.01332912055545, 54.1815721054098, 65.51358043327595, 84.30340020011553, 61.785027854462555, 27.173546089255552, 42.2285028712747, 93.78764275667996, 52.48956076519394, 99.41345114656967, -17.32575086050863, 67.42327111695849, 89.88619962489359, 27.310356385857517, 85.9227881040448, -15.406526223474941, 94.01256925577644, 90.81305193877343, 89.81021216729965, 72.1281354637969, 6.0297748172190815, 69.83683089285917, 46.88349992940228, 14.954531492689597, 35.306796278244164, 0.6612118826147437, -3.817324446368204, 92.62569909429556, 31.679914796795934, 36.62452786792164, 92.40948089764345, -5.7415023182571545, 19.548384161878694, 87.82859372732952, -5.726127935562651, 75.69147021057677, 61.57557257669002, 73.17616112203308, 61.29801523348142, 50.82020803016282, 33.08919053526367, 77.03835033834042, 90.18245832171137, -15.981247362761351, 53.821440046579596, 1.2205663379974538, 54.921393933742195, 56.35387256924513, 62.998912851594724, 80.53788613362288, 81.62037612456342, 6.199079426216201, 53.98702232629775, 87.99915818606111, 86.81398787124554, 4.7622364617672375, -3.3062368691576367, 22.17228258846434, -13.77600383022521, -14.875293348497078, 54.390752500735644, 23.59843113397683, -13.333606211243358, 73.95900281111346, -15.954344046419827, 30.67066540927761, 5.117101304985013, -7.831896873513378, -16.81772633081064, 82.72441617058213, 76.58872316245956, 70.72017504072808, 22.216686684857258, 64.49866441921907, 75.57661847432585, 44.71519985611147, 59.31972093530278, -3.5272669552581633, 30.19790695921644, 3.2017219898778784, 70.93096093230642, 66.165314785016, -16.419370770195147, 36.29330171571228, 78.14551177278292, 25.14965702596748, 30.59313610221409, 74.8655897232799, 19.442313959198415, 60.64120115334015, 74.13922192653783, 14.518115773447995, 99.45446099380254, 17.17866604903014, 45.98668000358555, 20.64293032471508, 40.10923894620143, -5.799595203932007, 89.44110246828089, -9.238548325998766, -16.47755584195302, 70.58173330064967, 70.54335687753941, 86.73350513747243, 70.90436662772284, 16.122613364721204, 60.354892861195665, 73.05532527826796, -12.077272453849016, -10.215806132497654, 60.21285214821303, 77.32525581939282, 40.544463406326315, 82.56737731714182, 66.97836329567389, 26.03860334887684, -2.442525769168391, 28.075455293598758, 85.61443402059274, 80.43814119304314, 65.55215762917473, -5.82001001118182, 54.27191715884467, 38.706022585937674, 45.41353523283239, 68.18185682551133, 40.44688076492133, 66.97106509925612, 48.26796101224987, -12.464450470347455, 15.857001633265881, 5.979086937022071, -8.474372567151867, 43.65837942876514, 84.23145747814105, 8.198539680048675, 72.76100260182136, 10.213113337039882, 23.302158366472298, 55.053230837728975, 96.3576954031922, 0.3760014048621798, 31.670760135390765, -4.746544536595149, 96.4828161244011, -1.3331515261028493, -17.8016344622346, 7.253353714455141, -11.859424306334505, 38.26943438751849, -7.119162170392087, 35.706599478631446, 93.40079244850514, 93.06327688103525, 89.12918580062185, 55.848139416162766, 76.12488582581989, 17.040918393448102, 56.77991370574753, -4.697033251499407, 38.75682735935614, 39.432165677931074, 65.81810759684923, 61.83716782611258, -9.952062036234096, 13.388165555408463, 85.13716535576813, 47.0757331800322, 90.86534401379333, -3.753257579940403, 80.14715643876481, 16.291471572482564, 9.053283944565425, 41.155199308541285, 66.82016014637402, 19.166734841952625, 60.634618198541816, 15.065642515349104, 96.82501439123256, 67.04451393307133, 67.34872475219815, 86.1444520798618, 5.5442359437398245, 47.88534820864902, 46.11009497018145, 22.887146068466308, 25.959336185004524, -7.771708082791422, -6.138383918412789, -16.75982237362981, 34.77542552038684, 38.26534158394498, 35.32532624350058, 2.0540928308656987, 90.73639950359879, 31.032756471714762, 94.13460824075474, 23.028906642499877, 88.68268972226943, 91.31899304895732, 62.34259257128606, 85.06920213928228, 30.814302476165047, 82.34421567318769, 79.92685684495994, -19.282775471230508, 66.59408091009712, 63.61908892394098, -11.630218664985401, 23.847996008026044, -1.1511741884565154, 11.905438248319843, -10.237437450127672, 26.050259072885552, 14.374062466220153, 27.57050811076791, -2.558131821702357, -18.259936591834848, -2.3377657030538472, 91.65428167267676, 16.6900136766058, 16.68944425210224, -14.50759926465491, 40.55204637016622, 66.43199410530339, 4.963892648156193, 49.01833526659213, 38.13425158433355, -9.04552818685512, 12.041921022028717, 24.87520001696624, 36.439261082319746, -5.546505370746765, 44.25173602521379, 25.604112891022105, 33.2481272337938, 80.70266298439498, 19.936996939982883, 3.0395769747590897, 83.75948028674331, 68.43327684613669, 19.43073638297544, 34.67293194419436, 19.910256668152826, 43.91279950569812, 95.7519664624103, 54.7782655344309, 80.77054092104285, 27.850389382796358, 91.14026967822056, -0.043091023692269914, 97.69639350201764, 73.5986613397999, 55.98379680056446, 61.062667064645154, 57.438435333821104, 42.67109107444984, 6.24431526571291, 5.411884190493787, 70.44014801605809, -3.912040958720908, 67.49802032754006, 3.407815693519261, 30.455464091828212, -10.70103022799687, 41.89505778646522, 97.1281669875755, -5.873474792780469, -18.10885180743858, 38.13178263249475, -4.559051173093177, 74.9765442289566, 92.07716240539315, 68.08985608867002, 74.71158462261339, 61.94605294236888, 21.182609490308444, 31.332037251042564, 98.68249749080532, 23.84347874402578, 71.87678797395289, 92.66588881077293, 63.4767178707247, -13.913694359862019, 35.05766572081738, 80.3617742267549, -6.155015903127442, 92.14016997657552, 84.25939452141506, 64.79685725030065, 79.26570326362523, 23.347380563394452, 68.3669256781113, 46.001126909983185, 63.80290025251202, 17.27998812706688, 84.40357068733867, 87.54463212908655, 59.70694624089248, 87.61322910075853, 21.861840890409844, 75.6754067106246, -19.85320681330361, 62.921235426318006, 67.49639554303954, 86.8073066364553, 26.138361203378466, -19.91490223458075, 97.19559435330453, 3.123948689553984, 70.17803499058162, 37.643451376469855, 20.086508777331822, 99.94065338575027, 22.987882557718002, 16.25381787932301, 44.84781857050838, 89.99843416775647, 93.33163669416565, 67.38663150244342, 30.01151203412129, 49.39721402976497, 56.31522067630729, -17.13253097504213, 80.2389915659353, 84.2821418793306, 72.01004121972953, 69.9042807118866, 94.49298752666522, 7.712921651171541, 69.96939343014363, 71.84915310036561, 38.37266620271877, 65.62183066312744, -7.288791669168502, 69.57827781618218, -18.291456345411056, 45.129875965993946, 34.06396867924461, 64.40633894943149, 42.318603652217476, -19.89403321726102, 14.78786746597163, -13.416627794020828, 7.842929598559685, 60.332417431317154, -2.047467950184508, 25.336201300701084, 49.20545179552792, -3.265114806677964, 14.14051258472935, 14.561538427119928, 87.95708133947663, 49.763622307031724, 24.477379359570207, 82.20841144981128, 80.24603791946876, 42.152188975719476, -0.3741560844507532, 43.16787058224266, 18.833935159019227, -2.188827862005965, 68.53401703292397, 52.96479516393805, 89.36123771793171, 6.191172204408559, -13.846297626085136, 31.524291020410836, 66.61262967157427, 28.99137424069196, 9.751128660522763, 51.12489063174688, -15.871328244790398, 63.85637047584278, 69.41310550811177, 70.63959653202495, 55.17744919392503, -10.974396485225446, 88.1295706668884, 15.275318646916212, 24.800191165543367, 13.445095199729245, 61.04529324122102, 44.14512709511875, 83.54720238390253, 31.519276148828922, 45.68105367426132, 1.1634141639165563, 70.17067931638404, 61.26995869678299, -6.298879505416792, 59.62918804854979, -18.148386004210707, 73.76815225143403, 34.5602284246029, 55.126857367348904, -4.740520049976338, 18.330319975775424, 60.32416723016826, 5.9043543314724545, -6.0236636323781045, 78.53948451750112, 68.50385626425965, 8.379678850048652, 63.267018217071026, 45.3068833890711, 42.97509081577603, 6.192816768035357, 35.51348013585579, 43.978606700930335, 89.62069463939416, 52.39891914239705, 44.00389862268153, 86.83635121309153, 19.89697322334915, 44.61812855682662, 11.123233606970786, -17.287443571348582, 15.023664229751603, 22.532493200109627, 0.02201097807987651, 94.76273401892226, -16.287972462131957, 99.35385016902634, 52.337404350679236, 42.38275733629921, -6.556612190969746, 79.13646031112367, 67.97067490707732, -18.14330906570019, 35.63123121965695, 19.812958772839423, 31.919140521937997, 30.129176495902243, 37.029550117287314, 33.42143923288613, -5.779626673622062, 40.97876155861707, 8.68409760712165, 67.16643303790171, 33.386786734640935, 79.52362328401071, -14.369309701585271, 19.770954847058157, 59.64979447647275, 88.77080985990729, 71.5309167859339, -15.642974672284202, 6.498377262179893, 74.68775469751341, 98.78407402287709, 34.57920390744491, 16.00176786870159, 68.53950610904538, 18.573491101001885, -0.09315576221078459, 72.66965972903621, -4.2941893511810125, 11.942971762807382, 86.85642413937308, 41.20129137187061, 65.57681991546842, -4.631797135816562, 66.60993679725092, 89.93708919384315, -16.403660584463438, 14.927847008175874, -5.630172046084017, 18.28025831432869, 29.83802513314083, -7.114236464981548, 61.42159320443315, -7.276301259256037, -14.848144203374009, 39.08064704484446, -9.11623886497452, 21.207086772716693, 90.12245416125347, 38.8431277474534, 87.15906866110126, 0.6888037897476416, 30.298110548551406, 62.56998776356794, 13.019263036371811, 2.8278474552215798, 80.14070388252435, 63.491939545513986, 99.18654880845399, 29.597617075840724, 94.11524236590856, 83.4874897703277, 28.614260391299766, -11.81871111602879, 60.29189085614627, -12.949013613416671, 64.10743203394019, 75.93162200197366, 74.9357028784192, 26.601086985146466, -18.935373320047173, 81.93772128115464, 65.48389131423335, 90.16562986276405, -13.081831762491984, 42.02466644138689, 75.17522475728512, -2.3653257978436812, 6.477250956701134, -0.37941744888762585, 34.47419285168068, 52.30101757604352, 10.782649201389468, -7.65723562721989, 89.07930309955218, -8.150655695432455, 95.83517556012752, 71.64305545570737, 19.220870000090486, -5.163212344431361, 65.86617829161494, -16.39102150096965, 84.16405058164628, 86.30644500572647, 93.81244195170603, -10.405241344965956, 59.28617149725453, 71.26161623371144, 14.644056119548296, -7.673058040103115, 79.84679472376807, 39.82702815142243, 34.98910670039585, 48.90824135147358, 52.850534115008145, 45.62599031008578, 18.665620706391323, 81.18774951033815, 63.12034723564517, 22.53482165644281, 72.58357701504079, 53.09746903699376, 17.239746771529475, 51.97610065812934, 98.39162992913417, -16.616168546687128, 89.43270958013953, 30.723176342609598, -18.039762909820887, 93.28554082574907, 17.591077731590744, 26.86522670064671, 17.24679491393877, 1.654311998087394, 98.8776789369076, 56.72289286224664, 50.89120455269676, 70.98519258600552, -13.929251615284484, 17.097896836991346, 99.1902391736156, 52.10361101578795, -4.0746993128013145, 5.852754375592717, 52.30727343193293, 26.075993356456017, 19.32680263702511, -10.093963943353504, 27.345245707960316, 55.63507253542565, 55.963109844000385, 56.07782120785798, 2.156059500191944, 90.68774547903428, 80.38905522953561, 42.227388503370506, 61.56742073093646, -13.096023053116257, 44.38475004917602, 24.33450144333024, 42.44163651292825, 55.998644970381136, 30.04443174329984, 48.041574818921504, 10.756720214307627, 49.05668776138556, 53.48360530607749, 85.59267051561079, 21.848212581876652, 55.96264088043408, 99.18568140895026, 54.04104600750267, 93.53769063661827, -17.778921588339273, 62.27006233883287, 51.904391178885774, -7.317578631747054, 78.45954536997372, -2.094368995366544, 96.57223764445301, -7.090945933609705, 11.352268740791523, 74.39167777190315, 64.75280427886825, 8.910873710373423, 5.90133656123875, 23.006586221140928, 73.6170130805597, 83.69781987266761, 37.45714209753827, 68.28581416063344, 4.910372332842144, 5.577932814082512, 0.5707061765415204, -13.323080658948424, -13.315690756674536, 7.82161975431498, 71.06498048716008, 4.5814957245582875, 97.04544740766693, 92.64849499192617, -7.587528689780424, 58.10716278022369, 98.59890887718431, 37.38144215136232, 13.914257847540128, 59.649258064689946, 81.47779557460485, 19.229650711586324, 35.9044342365404, 82.49095794911003, 96.41190034388323, 91.79508225933145, -3.7881642502363064, -11.989304421995595, 57.784775397450616, -3.250085987536032, -8.325594796645204, 0.5719044229276378, 32.02974835450338, 29.32418799599236, 81.11563027405373, 32.73592235241973, 93.29029332671344, -15.344788170476956, 56.50365644121348, 95.09823147095518, 52.58605023297882, 7.314339090719628, 75.19636797373501, 36.318557959124725, -18.069032184326822, 50.87383826613825, 69.29072711742347, 12.067342604534495, 39.897677401128384, 5.778850193984827, 50.96437011219744, 40.766715091855325, 22.17588208689125, 67.34220599031319, 90.79331131239779, 12.547540783088486, 11.741660365312939, 91.16313217316593, 91.74452910089299, 93.26025688958235, 73.00223441073346, 28.41921853292942, 66.5259540367812, 94.05620817885296, 13.71886284735698, 89.33388835327189, 85.34013051012415, 75.97205231756061, 95.31319823276021, 78.0697366432083, -19.58586006235712, 54.21097459158193, -12.715390036495084, 31.613440267668707, -17.36788666473589, 0.5055768606270803, -14.396705651479493, -3.784060013578948, 49.16012544069727, -7.822285304243813, 91.41561906173528, 34.248027166264244, 75.30393464219803, -18.030237129779696, 83.01244623005009, 12.211106917233707, 11.726756355762177, 72.43937465824632, -6.3375423341209505, 0.7381349001050523, 60.81355612211327, 17.43443485893809, -0.1428365326400005, -19.638795171412635, 40.513130537743635, 9.87792181303174, 14.672217354348987, 52.74666866609306, 78.22142457782618, 25.580135978747116, 1.2670502472430947, 79.47994901750405, 3.153902369427687, 10.331767231745665, 96.38476309512886, 46.56954371112269, 5.120054254669881, -2.6267215790015044, -18.90400549134005, 60.24526723076359, 98.94544698039432, 47.609138600495015, 69.65374684148901, 80.25176980703607, 11.11265976457922, 47.17900920911667, 4.104251073505264, 97.80063597058255, 58.82912131066382, 94.49471819264889, 44.06395904926961, 7.124061865512111, -10.04175901664809, 52.27739415958101, 13.827038940407576, 45.50802791648191, 19.8290800987715, 46.49040376158992, 25.00351667083487, -9.917946764419074, 24.431796572868976, 6.85553820810517, -8.44440965190623, 95.01820006959002, 32.38620448402635, 71.71131731672264, 85.63408575486142, 7.442699423822326, 42.41097104651561, 85.98096231551483, 81.24159625349313, 13.72086611980648, 15.880994617620601, 56.12598951995031, 88.4495783471525, 44.0506469039797, 48.24766367743723, -4.887179557825121, 44.33082738862072, 97.15626688131263, 89.26459495457159, 22.084184253880125, 4.073278869696473, -7.347402058073262, 77.34641761121038, -4.199816605267541, 23.2982109721246, 18.511663519971144, -14.22762117605842, 6.853580727134641, -2.8341437709039283, 77.67066921625648, 21.384405148695855, 0.9835063406085744, 52.494907091587436, 92.45702683100814, 65.23101462824154, 9.391512844673123, 77.40741426949945, 58.3859089882838, 83.4745253463245, 10.540927491871138, 86.9867899322091, -4.39392640260273, -9.849717122837944, -8.727091613060773, 33.61866868739665, 7.814009032510619, 16.170733507325743, 29.61097225459924, 94.9039317493213, 4.281929597727711, 28.76067947006357, 8.153709846188985, 49.136799711320876, -14.468081232283495, 11.261712213581845, 99.75424820231403, 0.4389365181202791, 29.138192446036904, 68.34669305150955, -14.874231964256754, 83.42133439243268, 68.04777879448793, 87.36553171274294, 17.538987208799263, 35.48948431138774, 16.939221686564828, 95.19111758575801, -5.153458343911721, 41.44510439181902, 63.330005848119455, 41.20403086763386, 66.39317948569372, -1.8043362516511543, 76.52979078960401, 63.24425776390845, -17.67377491741935, 27.639659267289687, 50.65618717941048, -9.847762542327274, 49.1186441196494, -14.204844391971996, 52.11936537464058, -0.4233800552310356, 90.72510462730125, 1.9544655046893737, 38.9529304882712, 7.478177138964746, 7.291540444705788, 87.63451316640372, 61.0679240232122, 66.51432551670938, 10.33113527493348, 46.26910934743249, 43.841334458093456, 57.81859410843526, 93.69096420153413, 44.504724425575944, -10.607711393864312, 28.944664437964, 96.48325270136887, 20.15752899584851, 38.39997190096681, 94.68038719012242, 43.23003317364694, 42.432430482392746, 30.837142716082518, 79.13501056283013, 83.0459463990774, 81.00652858699834, 17.111509475671596, 74.30640897845552, 11.92756455715731, 99.92512511516105, 75.60202450316513, 48.9389717742681, 5.45747619555652, 14.431728000209098, 20.39482205008855, 51.6074488450424, -15.533761835989113, 59.41047755430358, 43.67675268416572, 18.008643553661614, 28.646647818894102, 66.113558232188, 74.49327323593931, 97.91348225502753, -19.322829138174168, 48.79489359603008, 12.221557546646949, 93.488169673625, 27.00336098857491, 46.06386104297664, 67.58177561052794, 99.8848813269939, 60.458759421963734, 22.233627997793107, 6.88051983568608, 5.435149331445025, 58.23993809026763, 52.53351272114948, 79.92178750283165, 95.18352904120557, 42.06945186826457, 64.17869641599584, 97.26691650507783, 70.2120272516802, 98.07181225435157, 31.46098786323124, 22.400078834717654, 7.642819095729635, 99.58609238039634, 60.98713179272478, 59.35014077680924, 32.80204343765427, 59.87867197462663, 32.1244055572148, 36.13070686559435, 94.96326056511258, 44.372226476424416, 78.53539822896443, 13.869849447576271, 87.22446862310125, 8.326063235376147, 18.365323632285588, 64.10932103002328, -9.705758665680847, 98.63668844041474, 12.948248268752288, 19.799048416816575, 69.09380468568857, 23.872811199740354, 38.80039456883355, 21.93203085772349, 55.52248945183436, 68.20419406380209, 94.58662804491527, -6.677946664466559, 16.68199084265453, -7.7149615450828435, -9.872459297750321, -11.653899998346041, -5.427590308854011, 7.0688707087798655, 49.75984585100181, 31.744458546021626, -11.963296001517442, 2.416554767707236, 36.747192178121395, -13.338199544992957, 5.603744696385327, 41.98696213256196, 86.24233969897111, 85.40587882320446, 14.090077557628149, 87.58239391867332, -13.113481389798668, 4.90644490308042, 40.00349119146867, 51.2419206702382, 14.299111131057465, -2.436458475878357, 77.68578781559108, 50.60722999720018, 88.56043334433653, 44.27354978704135, 96.25888625049268, -9.145414903590702, 27.736390288119296, 72.09324842734341, -19.64622409174027, 17.142056719031018, 47.19184944343232, 63.15488171748203, 76.58925583868763, 62.320382013567496, 31.678086494266452, 74.90768094659072, -0.34355725176189367, 98.97001002340055, 73.63955201124888, 61.986468823393665, 54.86226056321479, -14.194728782234094, 5.635466042703715, 62.52940151835786, 56.90740470409946, 15.276293635315945, 17.950384192724755, 63.99253719641749, 60.22499951941296, 22.944522124818583, 42.48212732415228, 91.54170791488993, 21.29039402750449, 73.44874711596123, -0.3673667133196936, 79.33991646442371, -6.483425677909725, 9.183677877305598, -14.708958361788005, 97.1557344482683, 85.21728873893528, 70.11297906280863, 11.753277091894443, 98.3996572295452, -4.586562845416466, 57.52977587051167, 89.37770567024907, 55.99821998389662, 3.2163971840924575, -3.171805075075479, 23.488630468346336, 62.3903627680899, 78.03632076377403, 80.90111690544151, 33.11789438488754, -15.767860562344605, 99.80369862798668, 52.8067941933127, 2.284824191198741, 94.85982222015957, -13.733219773699137, 11.18979835157915, 82.3248064336848, 41.0771667197943, -1.0414354921137594, 13.425137251313252, 57.72075472303116, 12.226743425738448, 98.47412111143873, 57.59642413470458, -6.226849136934366, -5.562381466434513, 41.574315213067365, 97.94551504439791, 33.416684641084686, 85.7593133182161, 25.97146392821545, 37.752125031988314, 33.79854526046873, -16.208396055501865, 52.06897247020213, 57.68103041734736, 52.851058095001676, 30.502020656791153, 37.83323388767823, -0.3164750165094965, 87.86295530906222, -7.556338185522865, -14.954403374552143, 15.963959816887929, 28.656824110032332, 6.638987025284383, -19.48068993323552, 16.89190469599054, 36.9301024806188, 53.557493931067825, 18.809560214370862, 3.2983896289727994, 39.20588949026615, 62.950350717974345, -2.198667919119867, -15.448044344039955, 38.96105748760774, -12.611201911293133, 42.362743751632834, 82.05716177642766, 45.50839425229603, 97.0190057630746, 83.62471070522602, 67.24262678451868, 13.724108451794137, 23.007921335653208, 15.787143425111154, 60.73963389182464, -5.491974249632467, 77.05168392711516, 85.59532645076109, -3.186578570133271, 73.4366666052473, 35.736717634252656, 25.12246847084584, 95.59295493844549, 63.836212919191766, 30.068418874814753, 83.33169531933231, 52.22670805193607, -18.807092496890846, 8.829765013885055, 76.47111616333926, 13.81007121487174, 46.26509697272198, -4.515732840997359, 98.88539261244966, 16.715004447719302, 97.0598998646213, 70.09611407965036, -6.130862608880921, 52.00121348902077, 72.21751215914279, 85.28095284252923, -4.663299516214581, -7.940922411696674, 57.745973575846094, 79.72333447911787, 96.94402146363566, 81.36613357928537, 79.08214714954731, 56.66975339962325, 43.250433666635566, 33.01819167933254, 15.550346335956618, 40.05017363537276, 15.305072217548151, 74.02948404309197, 18.392246517480558, 93.77227962469797, -2.126666127593616, 91.67067422563582, 34.85357916483169, -5.86905061277443, 56.78544500453667, -18.257796395714546, 9.305796631908308, 53.324411813326265, 42.09221195573802, 72.09976170375445, 70.77856721247122, 45.546427538670244, 12.658897186502557, 78.05605746320526, -10.248670773745037, 51.996037621517516, -15.259183797807875, 24.29907386215725, 51.39438844704509, 22.992192207048724, 95.36366277397411, 80.99218990877596, 22.580887741502387, -13.399549826290098, 7.9056886779828375, -15.7085734410557, 49.489301347105254, 6.574758982817038, 88.45683771634172, 31.72659374051962, 30.232549341475988, 41.44834437786518, 17.70847776419545, -15.21750095092774, 30.53130971670464, 7.770735084011534, 80.88418877808262, 95.86132665987603, 90.01378643705866, 91.19062730955598, 72.95936027640278, 21.206715366421186, 91.80835198457186, 44.705852163065146, 50.18364168028317, 99.48224383681189, 18.15208059398781, 44.59380560700495, 77.51820719642166, 23.286569293236766, -17.319455169559824, 70.6094457552959, -18.958546747938307, 89.04927960831344, 69.65101676563191, 71.82505818026976, 73.12596035183002, 78.69223423304413, 62.395774804332575, 97.60898886476798, 79.95253638235785, 99.40279905335592, 69.5905045032289, 16.43412012572969, 53.085025391693605, -3.417884294748859, 62.52877519207473, 15.975068140567487, 22.978144762801314, 65.24363174428706, 90.55837124658228, 93.98773050742886, 2.0902616170541712, 37.3577849291627, 68.53197206061034, 22.17588064996815, 79.14585498562131, -1.482408125537873, 39.26615058909296, 0.23704658747885077, 35.546185490697944, 5.4222533638981005, 98.2352258311757, -13.606638680665712, 54.04717654677978, 72.88437593411544, 84.37751425405038, 12.802548558692777, 79.68432432991592, 71.51002929067558, 35.30092156270937, 9.432855257625704, 9.596478760467928, 56.58024182814668, 86.2531757578468, 4.623376085524281, 76.36948431879874, 74.13615237855176, 76.63457970600206, 27.487298694506485, -14.34426146832552, 37.10444360284563, -13.643131893693274, 61.03096597002073, 67.24632172616839, 0.7462449778679314, 96.2912565303546, 20.131237630713265, 94.2147103012408, 23.601794062769564, 77.59240672370485, 18.418860585489327, -11.164732446247282, 89.20292906621012, 16.260692701993847, 88.25437888327293, 80.13458523213713, 20.515676255696754, 23.792753518293907, -16.365927860882415, 24.7801623220235, 82.97466605019883, 31.869516289557183, 79.1555422936741, 42.8534344426232, 79.55196607819755, 25.68576739317568, -3.348832777988484, 30.89705469946329, 38.74230549232043, 35.075200821447275, 47.22201358935577, 36.52742337096122, 31.87748268655198, -13.457125128753153, -2.97179524781275, 31.22225920935307, 42.923073682113284, 33.96423111081719, 88.99896485521487, 30.32400377769494, 87.39995614774874, 48.68818822483604, 63.94687594223495, 83.88765903729477, 39.385001965839535, 8.698788367196883, 66.73707525859922, 28.671164202091767, 43.13594498739071, -15.543070387049633, 56.782473194481554, -3.474056163061409, 83.62018348587755, -6.316178377402624, 46.551206450589746, 90.67221796725005, 51.93769567707233, 96.52488409762978, -18.100476989593005, 39.52285075514693, 61.407440916843555, 8.842017619459234, 31.973446430371453, 88.67492912127393, -4.378433621775235, 54.17377281777564, 22.93975686112242, 29.327647876557677, 46.32637994638186, 91.3491577750212, 11.722345967202244, 60.39422167347834, 89.65201332729409, 48.386525832583516, 42.48143648601672, -15.816207286268277, 27.574561158654753, 25.857668854405482, 30.21747975055594, 68.27391495257729, 98.35424330950676, 85.42679643030127, 36.65158942348744, 42.46405618451635, 41.94200006667264, 95.49138113295115, 36.05682106765802, 64.58946588188444, 4.709749494977498, 91.35356685558727, -0.5415462017234027, 23.040409260685315, 0.41314495288936826, 5.662320366027398, 54.187654752920025, 49.17733091419106, 46.72253436243696, 13.969367779413375, 2.2034376525624566, 41.69806221309252, 14.749744524744102, 22.587541346511713, 64.28038293200652, 87.06658750693832, 34.28435606380559, 3.813137442815723, 57.57877674539078, -15.361388345455364, 85.68535920092859, -17.40400799212942, 31.162028496746657, 4.045777989002751, 23.451358442419526, 70.06777154279065, 56.88637322697127, 1.1265670044716067, 26.013540738050402, -12.525782807004195, 32.482751131487355, 28.394060136841702, -0.916548291324844, 66.81825693750316, 61.276921053272886, -14.034251892555044, 99.73059357457319, 74.93254237239785, 63.68531915242421, 75.57983547816366, -1.287174101542906, 6.368940862876009, 58.97963671365784, 12.523838406844462, 30.01430041616927, 0.7570442416464651, 7.749666561597721, 82.14750195550836, 4.068741858842024, 63.918040029324985, 9.312676680272705, 0.2818527545623475, 44.560395154692586, -14.757328090406814, 45.05349683546682, 37.38022361501724, 95.5110563443672, 39.85768314610848, 37.90374601692101, 18.84026424898051, 99.9472394153248, 43.83509901072659, -16.16179583983738, 62.87542732161539, 30.40730659685245, 87.1990872638085, 36.23528983823266, 96.52278742349128, 1.80869544353164, -11.975757211650805, 66.22162022331753, 65.56556299759107, 67.40636297613119, 20.222798879403797, 10.922381761195183, 54.83814115378476, 52.8137316595855, 95.7659740156308, 31.35782140444013, 59.151058131316816, 85.87954801412317, 1.140231704046954, -0.24721947821000256, 22.05874265318125, 80.38969529380297, 60.750487130949466, -7.581397572291664, -9.10688921429994, 99.62170137642912, 41.470531059140356, 53.83451073684661, 28.464297922061597, 71.67257879758169, 24.363676119645575, 21.368268244646572, 58.29484646657717, 84.69473456434945, 57.44114058048049, 45.75432734666549, 73.50850005047329, 94.88171143340709, 91.09041252797844, 60.99113172112527, 54.0200970421584, -1.7972136488595751, 8.466771658174409, 78.2579067403017, -11.948068834158686, 20.92103150489106, 87.02208598018098, 17.473690855687025, 39.850420018552995, 18.913904920517822, 94.59444058125706, -8.1671821492934, 73.64279785807888, 22.419957370625532, 19.61502160159587, 18.66654046898536, -13.777585045502164, -7.036135793436937, 42.05176432023789, 60.363453773961254, 62.77880324320955, 86.49028784063397, 55.53462274360314, 60.17015759811301, -11.65369329800296, -11.169986258443561, 31.33750008268119, 91.69185708576134, 75.55125383035714, 51.11950175792218, 57.43642570775404, 90.11892431183763, 84.62357699787137, -4.2600260164726045, 62.16197594600423, 69.66926522869235, 56.083700413275096, 74.72620655365073, 88.78955972641262, 29.19547800641358, 47.115553927735675, 16.362320316692802, 19.571117233345902, 99.57434732606063, 51.710090296070135, 9.815738031698103, -16.391892746554568, 68.11230678154342, 27.23745103949129, 45.39230024804293, 59.929561818715555, 15.990675182082, 65.55314722657323, 42.790298942391345, -12.086463429011278, 62.17978025302352, 70.2600853504052, 19.683453793292628, 64.75797745476096, 25.47030826032836, 71.14323157047721, 78.8733876774977, 23.91305729950536, 85.39993042359228, 63.39531278835959, 29.471626518426547, 76.80709501791006, 45.99009472687854, -18.623375628396385, 98.57163804406024, -17.270540028094278, 37.45662636365096, 43.65466142939203, 28.821319490317812, 60.970452482363854, 13.62446619775929, 32.44472141689844, 25.007534118414995, 24.808641721999784, 77.33413137569036, 51.07582983291502, 99.15705680385554, 74.47532806906015, 66.39143784106525, 55.51061270772925, 74.02634275385154, 98.04244089256753, 76.89676686252437, -12.818392145704088, 37.412146373022615, 38.10491412386308, 42.66299190194659, 72.48997260877378, 25.85293907687911, 83.21365972886295, -19.15111468856148, 84.56465393040551, 7.82579717710091, 17.324290290682768, 98.7637500353701, 18.36111629251957, 12.424771410929843, 91.56146932905533, 2.6039535994830914, 13.933823591873008, 96.83603364351139, 86.69114446780861, 70.20269214598933, 81.35639125783896, 42.871459805089856, -0.007452625232957644, 43.07565778941624, 44.15901583669742, 50.64801195244732, 7.446702203933921, -7.225584419859068, 39.23416588783883, 32.83284765669321, 10.17132115230362, 1.1467691385323597, 96.25131259155707, 45.81005817149372, 50.187130920047736, 23.410555978740305, 87.98846260945247, 68.94031348452081, 52.05007292388531, -13.24912298792341, 53.296961250910826, -6.786253657580023, 54.998604153696164, 72.76088381693873, 90.60778475051322, -3.7024799730527533, 80.01986522139725, 8.167242830880173, 82.65211182027699, 94.4540416994539, 70.79771418853092, 39.22596395375863, 90.09864684384884, -2.9419309885822997, -0.9657186231078327, -11.60961931975745, 80.46317309319565, 70.73794259865474, 53.6193043105084, 45.70392980292327, 73.56524071210994, 64.49031451968254, 95.15234488468582, -12.635646662377678, 41.66017757447112, 16.96676888870344, 53.22064213791485, 61.40089718079845, -0.12618887770799603, 24.0486363068011, 55.7879588901809, 98.00446804955968, 92.73449155405929, 73.86254812672469, -4.098306767337698, 57.585090654023034, 12.17245109732464, 10.494790004559317, 13.490776688789737, 49.73456381148418, 84.70712468422371, 70.79213058365222, 94.01194030037915, 78.89132063116361, -7.733664743477142, 55.4733889329795, 96.94540129963576, 28.095111932332124, 49.44256895308369, 74.779109236418, 81.6812775126094, 18.100876929895115, 13.70931621654136, 96.90208750112069, 99.727374241199, 7.778897272883132, 10.223733089240682, 52.149517485309204, 34.37088512013405, 66.30389289474, 23.705768025015452, 69.3466017776363, 12.258030638378841, -15.71795199256663, 92.42648335327117, 60.573396169072296, 51.887152934552475, 6.576625716934657, 98.87632115198979, 31.9201276958296, 11.591125444812597, 66.70494081732588, 14.602488124518928, -14.352189311746702, 77.6021936802702, 43.380581572468586, -1.4809194448391452, 95.91662438669704, 22.772099700358147, 26.601559426967263, 78.74777859440302, -10.616853506945274, 71.58731243097618, 75.12111456219448, 23.59395701903854, 39.924113202152924, -18.461186910297723, 75.17991293140362, -18.444584942326188, 22.02365742656908, 20.690069147848256, 17.842287340777332, 54.78982644952191, -7.886861704167355, 28.295530776158856, 8.746627124612885, 18.62629886952319, 14.432816996578367, 69.23169158336036, 90.88453173017248, 15.567711880522523, 0.8052268089323107, 76.79914730154859, -17.86025587675963, 2.6231809671119954, 13.183542449329202, 73.08467270061999, 89.10654407041089, 79.20557371818947, 10.399700761062618, 30.500220361662272, 37.13746980617181, 42.81369169568543, 0.5108879532983615, 55.74201736465906, -11.441747190347318, 71.2440143598832, 32.43834548072992, 73.97361510213213, 21.130715536787037, 50.65727575510775, 0.2948217018657928, 61.385782496462085, 12.339719708844989, -7.874581311499313, 68.80734675302341, 65.78082893038331, -1.0928816656165594, 78.62495626698404, 56.39261942580953, 70.49337560817067, 30.173416736057924, 37.97934009370492, -16.711051826872776, -14.770462100349441, 88.71975559278212, 12.014252690597814, 52.910447412074774, -18.959474943491365, 74.82650794256674, -5.598182045091775, -12.443129740891884, 40.84051952430969, 22.45925362994231, 61.349423396241264, 11.138579716259073, 37.60790840311268, 55.44848588323619, 73.94240003653323, 72.88825553047796, 68.97200762774078, 87.0579441420912, 25.801320734872753, 76.54902787072875, 86.32232995994652, 41.83787799236427, 99.60012078927726, -9.407053628095298, -1.0923397088033866, 14.817998819469409, 80.92843295605537, 65.8224694146571, 23.78657076621313, 60.75586073644408, 54.74218351050679, 92.84684303521882, 41.25429299282152, -3.5580577394919075, 1.697769094972628, 34.86907916615274, 75.98731395063966, 40.43040017525265, -5.9846516588041965, -6.656455356353854, 75.79557611435375, -0.8904868771238164, 17.4137296217473, -8.786434832718308, 33.79885429682487, -18.721439107415243, 57.939074352668385, 55.067540855361756, 74.24712261896364, 7.137843276405931, -0.7495949983690764, 57.41780927632463, 70.40149820556209, 82.25729398257764, 93.32520927183721, 69.54316125882502, 27.586684165705698, 39.54990304740872, 42.912589665613496, 80.43321145445462, 10.63076255342876, 68.50666124330354, 39.891531456909085, 56.50326169161902, 96.15452983687405, 1.3452493373623717, 81.70345913579139, 45.383626744052464, 42.525980508692754, 29.30979412722246, 85.24096205711362, -14.864089063475895, 86.58383316478239, 20.01853729928392, -4.8553055218412755, 93.67609467185491, 93.15378110311146, 41.53324218782767, 47.1004530208311, 38.94726929057764, 38.31648001697911, 98.47002480128856, 49.48120241344155, 64.89150115223246, 99.98723297386113, 60.05492331516075, -18.777081371426885, 21.265183272451033, -12.914429685860075, -7.329098394845515, -3.9359049995782804, 64.85806072430374, -17.554453059682547, 64.41232478045356, 96.35150648530141, 44.14444518305544, -9.945806438721876, 21.731288564607937, 41.5542110330087, 98.26237357950404, 3.5155776807918855, 39.23675861623116, 29.798513580061524, 31.90344520159826, -13.356225081412587, 82.1381129036882, 65.95459187064694, 46.52205272579518, -11.229722076101044, 6.682939972459248, 2.716895730117322, 73.11579779439181, -17.716413711257502, 78.11551322890085, 19.445125945414354, 52.05252205940229, 93.92408112313642, 9.404280627970408, 64.02844472056175, -2.6340215686308746, 43.929082569622, 91.22332386043553, 18.490419164505553, 48.70816202276984, 35.80817836754705, -4.158197323158358, 70.48595526794085, 62.285985189469926, 34.890383957162186, 91.19997550825829, 30.235937596937468, 93.38719789911423, 71.93986121161916, 72.98466651509449, 62.19619470096961, 85.89870134735115, 76.28055429080212, 22.778741152710424, 52.96448723457665, 91.11752767617004, 46.96609036047043, 85.99463504212127, 12.025212771217106, -15.211904451992876, 84.00023874081413, 1.7934736519669343, 17.97618553182609, -11.838207652617626, 71.24877962769962, 36.81775790576223, -14.10566961384295, 16.498599064479016, 88.11063766591805, 56.65754699864216, -2.708692243393635, 53.06697840315249, 50.1912047619639, 13.116661607969789, 95.11086009515205, -10.468192202544184, 86.22685746280686, 21.855742841531118, 56.83879016227476, 93.41920288985617, 2.051778316119769, 75.66502069943766, 15.179816657052982, 93.1936322565203, 54.63496651036749, -3.097047298107075, 85.64190079986076, 67.35324411779861, 35.869739237263424, 31.294797167593146, 20.83833607717215, 76.64133982031429, 82.62255427962015, 99.81908601038074, 47.99200973991937, 97.86979059585482, 80.05526294479165, -9.423456933080011, -3.2731562302638295, 39.269272282605975, 42.079783791965376, 69.72088497159851, 88.79576370936175, 49.39931770236686, 34.049683166515464, 58.350514910758164, 5.206005915382164, -4.609190647907123, 21.860814765762406, 70.57180771669758, -8.872093816058534, 57.88269228846691, 73.36319796590296, 98.26249410773117, -19.712159868811607, 64.87195926816342, 61.350375805581564, 68.31969205338541, 15.081790912340118, 87.8902339740109, 68.46690031074326, 65.88370278864176, 67.30478311777027, -3.4098384548559544, 1.5652717177505693, 5.770665855425477, 92.6534210391052, -9.215001463371166, 35.39602747898689, 40.811115417602736, 94.79249228333026, 97.90747372409818, 92.86786464292456, 17.164316298613684, 89.90278752554354, 23.493286539921286, 74.34414833601855, 54.38155438164313, 83.73908504461926, 73.58188700181745, 83.55161257787574, 12.449599893732959, 44.03281286079245, 22.889897202303395, 57.47876819332134, 54.78476494431905, 57.528404745825156, 27.87145882658406, 93.27889158496217, 53.07181005962039, -3.7667548691274106, 51.64086522338377, 36.20062366790164, 69.56587233476506, 25.829233768756424, 35.91101632789724, 45.87506294053124, 6.46112272169772, 43.72419870641338, 76.86282324045892, -5.060832508081372, 88.16337831460555, 31.35609709497617, 74.44898549032371, 41.08894430612945, 14.61420931429651, 42.69779441146114, -15.483677552668794, 16.771346307425304, 37.62643422712656, 11.159601020722498, 64.51981133081864, 36.75873925441393, -2.3255425159060223, 24.627210490086938, 68.6651297538867, 98.22006450182528, 60.184764648257, 19.995729453818946, 19.867014291736858, -11.612619607077036, 22.730220919841095, 5.505836844011242, 81.36675311342816, 74.3793052787368, 62.30465264184221, -8.302821127956639, 62.44042971693925, 73.6391607678681, -10.411414622596013, 11.222337558921119, 35.51033984733967, 10.017642209141897, 25.77273802880505, 51.06823539573469, -13.83965871798042, 59.95868981076818, 34.19795454298142, 35.056085949445254, 10.491926647453468, 88.3001746113075, 61.61011828964807, 71.26039254711503, 37.54840575404353, 77.21071255102575, 5.731793202041565, 8.59111659567509, 37.797498024241925, 19.97532813149921, -6.19830621326328, 50.00638116952615, -12.62766906741172, 24.42137052865887, 87.0619139928362, -19.07207736269999, 69.71275072553672, -1.0843422898994959, -9.56238024792996, 19.06490994176294, 35.42540494434677, 31.70848314061034, 68.41843215772518, 71.77351690402824, 66.42472405730801, 42.034403317691144, 98.39453078280285, 27.27976769875275, 85.9573709784105, 44.35347038420123, 17.437130453575236, 34.62042892886197, 73.82600057254696, 42.8974484485616, 42.87520228520465, 34.253224455398986, 70.27907068906586, 43.82581041185244, 42.631934717202874, 91.58346604690995, 48.441448121649955, 23.69980870656802, 98.06040939740691, 78.80565947685642, 89.84872746732475, 69.90504621967045, -8.022214685609118, -18.77071847131122, -2.7763930747216037, 56.683053909594406, 19.17028790376491, 4.424070387436402, 6.923913917537902, 8.885768283762726, 81.94419078724287, 54.89003641462867, -13.041232666738276, 33.220351824064295, 22.234051685135398, 22.04540033308973, 60.17145287325239, 99.50210514694609, -16.70756993944048, 12.284110675856425, 60.117108263489015, -3.9027449919182367, -10.713201742092755, 1.3436071062389487, 23.401466457835646, 27.639649002630577, 7.0351918464026575, 8.301984124454815, 32.50575465087802, 48.509340699679186, 32.22186487466931, 69.24964061443659, 84.59878894826304, 53.41794905597263, 3.5624840335031074, 36.18038985811878, 37.535503977968865, 53.48292360018847, 68.8941648084513, 99.07878595131541, 36.19096724162257, 55.85667610887657, 28.647092149414718, 1.1376505282813731, 79.84061440575934, -15.728774808518601, 42.30606707409762, 80.72387413462977, 26.349330548109755, -9.979971673055129, 7.762065006691984, 40.06913158729883, 55.42113829648524, 70.81374036729555, -18.24805110626432, 34.39798071606878, 60.01328762449444, 0.0027261577026571615, -13.892889688066479, -8.930874656901167, 77.93448093707367, 36.074955478680224, -14.966121803610498, 37.606556547317055, 77.0073316006891, 98.26589262675914, 43.078708159573814, 20.491019379570815, 95.64021211808762, -7.960336104942112, 66.45640392063395, 99.97718583730186, 76.2457375066077, 48.85533085817153, 42.33885564839343, 73.08665437101152, -3.603372720433825, 42.37315314445349, 11.365570903597146, 98.08849753997914, 43.83142740523694, 85.60709733017198, 41.37990756338009, 20.09247381415777, 72.66887019121671, 57.62828761798045, 42.51482428819668, 79.39542933844668, 91.4907492455061, 69.32434893451966, 42.817505474768126, 58.38397610864743, 55.196362161663785, 75.3740865000215, 80.18318562434699, 85.26098245331524, 17.427106776490184, 12.471254562258288, -4.05316380366008, 93.8883194061526, 47.39126262553043, 61.75525659630769, 31.651660813611933, 62.9602541469565, 8.873880325503105, -9.900888820683619, 98.89721313223532, 11.576127415543741, -15.16153967133147, 28.09032475339218, 62.30530026598153, 27.747250392372592, 94.55840286270679, 6.451578579556731, -8.58376357569771, 1.313872309074977, 65.37237460965528, 3.5105219993406003, 71.15162024709304, 45.060503125899885, 57.467489451052316, 3.0762587120591256, 19.479615426090398, 21.06226986255775, 31.31723261933044, 0.41005252592412234, 98.11176802516661, 63.137342835787294, 72.93775109739364, 57.25733246685574, 79.34530831042089, 7.436239702789528, 2.577381479158433, 59.08703624409057, 10.613008712911238, 52.82499944156885, 9.437108827382975, -4.023231195503282, 69.35449004439315, 2.552817030718156, 61.83059858746604, 61.613810206281784, 10.399383173652982, 28.384553443923075, 3.022651863130669, 25.8728597756716, 41.27923615073553, 25.77595626143716, 45.25650187471301, -15.918547087550685, 29.770092653320383, -1.468362112560179, 84.69899884150902, 57.52081832991149, 90.03001606319306, 70.30956860650319, 60.495067938504974, 51.616352845455296, 28.020662940069684, 37.643472815009105, 97.17562915299548, 98.48846406681189, 42.34013542615614, -16.29037810344222, 42.8716544034425, 16.980195790771624, 39.56047601673335, 61.874171212427925, -11.489178699585727, -14.773727167285088, 21.40754845600724, 47.66279243088283, 43.23374615243794, -6.93836977128286, 51.76966355525043, 12.679586207690633, 78.46743618532228, 36.819073626927285, 13.753343918022999, 33.93701654498847, 98.05164242746106, 93.20245831080592, 38.77628577705277, -9.748338625944495, 51.60466771759981, 53.85813084560394, 28.94370658137465, 46.044079205667586, 86.6260667487896, 93.96161154251364, 36.83681323868312, -17.84680790963856, 84.67392817051937, 28.39665091010913, 43.17562244149812, -9.841730403207883, 1.3741980742249318, 52.385516427637796, 81.68014324669441, 56.67365871181927, 44.19540447034042, 95.84472439408526, 99.20685878193308, -3.9475800265881773, 82.5374713115307, 68.88978629439482, -10.32746606551628, 89.22803718115819, 57.183494990744165, 47.76858706856517, 65.9346445604666, 73.11026320986821, -6.981476768638185, 7.758566153074149, 48.6399095099016, 55.413885192211, 19.28817327881277, 66.0041940058987, 78.58455865942489, 9.016438130118495, -5.5540339816149, 39.63717118096867, 24.886541024147306, 14.047595328666326, 25.298874865892273, 65.09431171445108, 66.26582285695643, 46.93448550539833, 51.262506247320346, 11.141120792784097, 57.128133826093446, 83.98746422638688, 44.2445359968043, 31.12441356027113, -9.474799758462748, -5.080530255292279, 98.5854686469502, 41.938824781450165, 85.13687794095169, -2.9014118551846764, 72.76684451757828, -14.359893316193194, 44.972338458106705, 3.716613815604049, 11.935160768670677, 46.48701850179306, 59.884964933359115, -18.644883979150215, 87.56714390613452, 23.397283260720954, 36.49755708947593, 22.651674248159303, 90.71823817834212, 85.69360032386167, 65.23470746820605, 83.1809555671002, 48.14365218521563, 73.59840638384942, -13.830630075106916, 10.21318699102903, 95.42811070033079, -15.832119572802892, 90.82497135231611, 93.37648049908329, 57.336385957238136, 64.30351422416287, -8.06243233960442, 26.810354958655658, 13.679989724704889, 79.58147447559222, 55.66571220941658, 68.06845940375614, 49.490621376734566, 41.112580696698366, 59.191932009656384, 2.545485098085571, 89.23325134415802, 79.86956702682333, 74.89905852936752, 96.38070092411068, 84.37316555370406, 87.19914712869941, 19.461117556033578, 14.12517919057614, 20.9687910448409, 93.07465064797364, 75.40823931599778, 71.15379842359798, 43.43905450082889, 1.4641204497015146, 95.23585439017192, -7.575106115494808, 22.798192244301667, -10.314452253693268, 8.783093969709821, 60.39087134309665, 16.27962680205203, -18.55292575315756, 57.425841098403154, 95.31697699867456, 22.464500461851323, 93.43743126794722, -11.583465605989725, 35.184638045620254, 61.41383861103782, 81.01591734721725, 71.2408268670417, 57.575563139534694, 35.07697997381961, 91.53443844293476, 87.48410468909245, 73.22174941604942, -14.21989825203437, 83.03848943008131, -19.026425445528062, 69.23774374199508, 70.71429087968104, 10.671046436185044, 21.884171907395718, 97.52924187781197, 21.62371812395537, 20.6005435304522, -5.834570113560575, 57.513539595158164, 64.40083648558945, 64.18942506507915, 49.769416690292445, 82.69797172612388, 52.36558338319665, 65.99609019298067, -18.69258003842838, 34.53571460035186, -14.969498844218387, 84.43002620422803, -9.874668846671618, -5.477494747016284, 94.89557621621417, 99.7269789736247, -9.343366855725845, 33.22892348426477, 66.58628202214, -4.633766024856566, 80.18896953474321, -18.144799661205457, 33.924474929172234, -0.10257423757769502, -17.220852255870422, 53.613141516422374, 66.39030222768291, 63.957651085976536, 90.32547010855524, 97.77636911978063, 90.13033589342776, 69.60870814518245, -3.3830748928452437, 69.22738118949616, 46.4554654688786, 88.83334667793501, 83.69136256017698, -1.0582184909926653, -4.303606638752715, 32.45116393158312, -1.7691505618962076, 11.458560017347668, 35.890299695936065, -2.3240341491024026, 85.7100429756549, 32.677960392448625, -4.677257674013461, 67.56767756901509, 27.352709010048756, 1.2455724491234754, -4.347299389988667, 91.63618790953642, -5.356649476686206, 85.22311306924612, 3.878229241877797, 1.72109269116309, 92.02908657139527, 22.859309621231645, 78.77661935031657, 28.208010372734584, -13.2033862967373, 35.03769619831849, 11.458628925981309, 80.53010609963928, 53.13137619459408, 23.954538509592354, 52.95306374517, 99.22232305387155, 73.21268177717752, 76.9535378401305, 22.618587154846566, 66.01038727044153, 56.795811181435795, 63.31696960495792, -4.468020738685535, 97.79658138222808, 98.63654307643202, 3.1772914889374384, 19.675231041389786, 28.185859068623202, 41.64378818003696, 56.20186223539454, 90.2694925069386, 17.74604249887041, 60.30766390913742, 65.50036871597214, 93.47855138741156, 91.92924592658072, 65.1925253312512, 67.6565930391082, 74.7680717219488, 57.94135278913318, 18.086102354768265, 13.362597254867886, 93.20242766995082, 76.3757184461992, 23.78563457811152, 87.80855344553052, -4.339080428160479, 15.106524065092863, 60.027459799344285, -3.3645996279303674, 16.132286509764292, 24.63802968184703, -13.333062075346152, 14.587745931595222, 20.6285021850034, 59.99483358318187, 63.50790928227299, 49.07165130397203, 96.49717585024777, -14.551650365746692, 99.30340053588536, 23.08000666626073, 20.195004881820232, 83.04319988554637, 6.830263610172867, 11.616206676729487, 73.35346056970938, 65.29788912966582, 59.15384555757569, 32.15942976861924, -19.590827417460737, 33.16001070271093, 66.23931296574573, 36.575712650276415, 51.123385640189355, 59.3114899059843, 96.15598834027259, -13.228357208458053, 86.89090185626415, 43.76081664432428, 0.8369129883296011, 23.4291507781017, 64.95868761425402, 66.63975952722723, 2.52969884098583, 73.79460646349287, 7.667972299807797, 33.47876038459638, 51.70694287835741, 21.107477681036812, 10.551277020656613, 36.859668684024015, -18.33532187565444, 2.963286698249309, 80.51116859647126, 43.376388426708054, 65.3675345776462, 36.27991176322474, 60.77185097727077, 71.99327630908721, 94.51484542908719, 88.13047183560437, 55.367003307740404, 62.287729246865325, 49.639537196410174, 21.38087225064347, 70.51477300862312, -0.3261935694902718, 94.4902269932831, 88.27270383549148, 14.825334232922508, 79.97976191101226, 10.609302970833106, -12.123240442247813, 58.3187808379991, 3.8284823091861213, -2.4335875728509038, 59.201622264481585, -17.599126434642134, 74.92461526128427, 58.086431544902055, -3.628023643444635, 75.9093348516867, 77.5560729687404, 96.79945771158495, 14.086932179205746, 19.454825003091997, -15.82465409458425, 60.26561595743526, 36.134690121584505, 61.6998094450213, -2.2094968898121294, 38.226056341688654, 81.60384104903636, -9.376527751992798, 63.86848290504081, 70.41893105620031, 46.112237838644276, 46.7107255997809, 67.14343237005181, 69.34227958867275, 56.269835704870005, 20.22830238315988, 62.82848887257633, 57.63495952685942, 38.252431218367555, 64.14906130806185, 86.73477736389732, -19.709643951067306, 4.057617520849782, 30.19829875745451, -0.341478445741199, 55.27115880194492, -11.749651939632916, 65.20659603088068, 34.52273791026506, 19.44322668034006, 56.74187848441497, 43.20458302051101, 75.47121604604227, 24.91687338412097, 40.84697867812116, 31.61950470380716, 78.11702930071532, 88.16254766004658, -9.620856970804263, 43.17578434806988, 24.10653444008274, -16.06085650120754, 23.68442468428598, 41.435431649871454, 0.4450795094258879, 84.9888755766045, -6.1631858933003905, 40.742846464931105, 4.708821058354047, 2.777631630363775, 87.03708405181432, 59.036773339299344, 2.703516008903712, 35.84258298094648, -1.043360695151442, 13.463207540549568, -18.88965775392463, 27.082906441218604, 29.261715067840306, 83.0908787493182, 6.225414180694379, -0.6446089389157841, 7.729138601346229, -1.2624413858516412, 73.78260398951335, 90.80058649283302, 24.882854599487672, -14.220077656695631, -12.17541625952785, 76.46999342104053, 57.10171442461156, 71.36948457972471, 37.25364148951515, 75.9992894748642, -0.005459140318187394, 95.51498657113915, 11.160912847648223, 84.22545018908968, 2.740425046565079, 6.401484379894626, 47.51353532322992, 15.792372313348444, 73.47626583641338, 53.20667733397312, 91.57287533118102, 85.43708015373181, 68.29245832567237, 31.699648523903875, 71.31651643188806, -8.207771574769103, 1.172247563353551, 84.71236066140276, 97.7894901144764, 93.93076448179312, 66.87757060144749, 30.902618416863987, 87.25414841273036, 91.77201975357204, 51.83755712706481, 44.211115218165304, 96.97693128204561, 88.8784837484695, 44.028034336377786, 80.04276317184782, -3.7235000531195013, -7.307311562098633, 36.10012896360341, 64.06244830901184, 76.65199232246547, 43.504850980593886, 66.27296731603137, 73.26998587549616, 99.244599510534, 63.441452320093234, 4.545111301055222, -13.789530085811709, 94.48265704927728, 53.66385779076418, 2.344196357560257, 21.321316820304936, 88.17587250954288, 1.701759937031877, 78.76793776617161, 2.746874909694732, 63.57353216516003, 78.07243178634106, 88.81973565780957, 95.40101901742617, 56.603018841806886, 40.90608642227017, 20.527974650379264, 81.0512712169826, 97.82326877558644, -6.235287326580412, -0.7102148537589628, -1.9938864302211101, 88.98884325546545, -13.13809005270549, 59.858848267041964, -14.842548700492863, 71.71886382674568, -17.41231663863697, 8.945001988053324, 33.71878967997783, 80.0600171398797, 67.10486893880963, 75.78369520099919, 52.64573427225321, -8.723604936825215, 52.643308135041266, 26.38262715468916, 33.68354593064011, -19.03317236283966, 96.1382403013975, 67.4741556783426, 60.055922245648205, 70.03239018688441, 71.93931900980915, 36.409303698022455, 20.03667266179872, -7.581432830919802, 39.28702923732786, -8.854936963340169, -18.969414637405862, 64.71083703061443, 30.67084138709373, 40.7070335074023, 93.88868688127668, 71.49146089645075, 50.24578021034337, 38.62589686167543, 36.47457855670405, 56.236014545352006, -6.645649566843579, 58.5190860706698, -4.812721005583779, 68.8103411913844, 67.36953861676237, 69.49237987976232, 7.1176414786251705, 98.82778470989469, 60.06183990009468, 64.40934579264777, -16.5431936678573, -18.600311245962438, 46.4735946720951, 88.31509731847568, -4.9762783279849145, 97.76448789274812, 40.58559955695807, 30.71086517978327, 12.692100611672068, -1.6856279649941612, -18.28126127500572, 32.23727777461191, 99.36043118932014, 70.15710820298936, 45.54222503833668, 14.705350280570329, 9.179568464633398, 44.620128229155156, -7.689767319583503, 58.59002915642121, 75.0292529268282, 87.9096249937587, 51.26901397261689, -13.824872836869808, -15.5339344806087, 63.651652247337424, 86.40316946653255, -18.287113320988986, 83.77960853346588, 78.10930572788607, 71.68984932170802, 14.330074496860647, 78.17537738129715, 39.60725581890615, 61.272341227956304, 6.444413709726856, 88.98492743304261, 59.37767657721123, 86.85838814006661, 29.91281128985358, 99.85637625557636, 93.17148558752694, 24.96127169435067, 23.7290659262084, 21.061093203701155, 1.989474045250624, 68.33529982065892, 89.2292710597918, -12.309421988696801, 81.56262117971998, 84.75818143848313, 34.46861099010688, 6.797429421400519, 57.40322090371916, 18.934102834078132, 9.593736994442125, 81.30737894743352, -8.291682523833842, 73.08502932215325, 45.31746784409536, 73.17514138952502, 11.745721416095634, 5.693500345772016, 13.02487009383453, 97.35526156736354, 28.234331928420524, 86.84499923530693, 82.52045713438648, 69.02724632533229, 68.1885668263764, 78.50127868005379, 94.82442134327334, 13.54304793069715, 92.25426922370055, 14.880159000162713, 86.19574478835932, 65.73235595289883, 45.45863134175873, 52.18819248253966, 71.85991645559305, 53.86177375939957, 19.955906486732424, 6.860107910868681, 49.059043193321145, 72.618142119172, -8.162691669299274, -15.36211947131482, -4.938307846666753, -4.924578944828939, 57.92720434196269, 12.53531670397689, 27.96303346245338, 74.67118038382581, -17.580049606641634, 33.90514717216861, 73.56661740185005, 16.091708818914455, -6.103996010569386, -17.033674709588254, 20.66307869326146, 50.73506850351319, 68.3197985028847, 47.300845688220406, 66.43415740891426, -5.0562144428937295, 82.58364663930736, 49.56064614774269, -2.331728052653091, 37.51924278563304, 66.77634636580419, 70.85522718225593, -15.384705027802461, 67.85514919504152, 58.25249740904526, 72.91838900134984, 51.20865381161461, 79.20748115242694, 63.87763552990195, 8.743186875551487, 95.46333900065231, 80.80064721265676, 28.94617731640816, 65.28104250879817, 93.57835264515039, 7.982712835612041, -13.194741519966232, -5.5468196751755805, 65.07963846854291, -6.183687242395109, 78.9648097559135, 64.68280869302224, -6.9834811293654155, -19.37691661414949, 43.617338214787395, 76.22659464356194, -1.9356784159732108, 74.75483546325, 29.62462992231179, 89.9962817491338, 80.26753099285247, 59.82191961921454, 22.027529855989542, 42.825461131644296, 6.596337643873582, 62.913636212355584, 5.945745521100815, 50.703976717679765, 65.1209704310835, 90.24028144234931, 90.46923899838299, -5.832965267288861, 10.051497244208171, 80.94902777039593, -7.56248530290614, -17.113560512187348, -3.611054990221948, 91.4312749054475, 22.8230813138845, 56.23537446770547, 59.19326410454718, 48.754198427611485, 70.04449098146492, 44.818779324110025, 31.19751968271116, 18.1778703886434, 2.0852182616200423, 87.28493369225176, 18.404032055663997, 12.879787741489992, 32.58184210652401, 26.92605294041239, -7.032127873879448, 18.019878360154785, 78.22058843689285, 21.735656132386374, 23.762285631583374, 30.507288027990846, 74.7577245507789, 66.98497805876578, 78.80241924318892, 52.55124427849438, 64.2319094860432, -10.354956846734481, 32.95140595907903, -14.278145014346375, 26.169165678354886, -4.391466964188604, -8.346136903662025, 93.46891985952026, 52.78784142276554, 13.363438650336946, -6.929777438113774, 70.41323046176076, 78.20145762444086, 23.18439186266923, 26.310402841664747, 11.45491650109556, -17.280686114971644, 36.588076588390834, 77.14019531059333, 43.04359411380951, 81.62383931057762, -17.032073166627445, -16.914689929786576, 59.16367136208312, 31.725884231200233, 95.13239485224362, 83.27068099709331, 24.431840929683545, 16.17927174466255, 5.131336882938303, 47.71636556328811, 78.15822502482769, 16.31849188459612, 79.23184965481211, 37.015875590898105, 95.74711441336194, 53.47443411208701, -4.969624142310899, 94.61489398129288, -10.93039809857661, 84.61127943045399, 73.28023552050756, 11.54877535537825, 59.76209952363186, 68.9018588414667, -12.094015784773294, 51.60406218526991, 27.894772875090425, 84.57178904272763, 48.477541440476415, 32.31935529758972, -1.1609971957198475, 45.9029111196418, 37.523459818341415, 49.42715599576876, -9.709411169933428, 54.88815486771247, 44.29743686629445, 6.680044504985638, 58.85465816398731, 91.54819978342016, 34.040274139955834, 38.56419676771801, 11.491500808410372, 28.668489902006854, 52.135799909390414, 50.113172435247606, -13.092175431692375, 68.69369469959386, 57.564164703998486, 79.23695615049495, 20.11181890191753, 39.70849553805739, 43.60387491616479, 43.869504994341966, 73.2964838042244, 67.09252435895209, 44.68804985377588, 6.839920048786567, -13.123725241231408, -2.032868186019975, 11.89606200889645, 32.795068017105564, 13.664479297810502, 96.56399082997065, 60.73954195712358, 27.1875650425485, 21.561451013503437, 6.858061458925441, 80.3769463921903, -7.021808329675192, 95.29488682586354, 80.80443557931524, 86.0317933314744, 11.105098596796452, 91.72273869988953, 77.48718428118735, 75.6190205008145, -0.3726995610050601, 84.49864726838322, 25.18143141920484, 93.01607901743184, 8.535308096252663, 81.44237045616842, -12.329205983122066, 26.82203772386935, 14.297030458816991, 10.199876576931427, -16.650427316148317, -9.736906784273241, 60.591882358692914, 72.4578478999574, 24.95010123399438, 68.65470613786876, 5.93400980113551, 12.18841306209189, 56.01083579444892, 31.840156927058942, 50.60282604802886, 65.29661352304991, -14.317913063822916, 28.29640994550423, 10.234085211859501, 19.864972462694432, -16.159935153447215, 55.475200055024814, 15.167921026343535, -0.3396768445686327, 80.43239391584794, 5.326197055878023, 70.13646488627955, -5.138264283166748, 86.79738998568914, 50.59949079658061, 32.04830093830338, 53.21289930212862, 92.64928939686163, 97.13977099527511, 11.645975858366555, -2.8537883697278374, 6.5577304288076235, 32.56383137949793, 33.61343907942714, 78.76909442978985, 97.27032827982856, 19.467828099536668, 48.08835868082072, -6.713309695002621, 58.64579967466415, 59.5340954984829, -16.26921244601172, 41.026497155705464, 49.2303685870838, 80.9700708358872, -16.332328687508667, 49.82463112529449, 97.71084449561985, -17.449359481617734, 93.07652682116151, 70.25706687431406, 49.40735017266212, 74.11150128025032, 63.83049645184762, 11.39241394035865, 78.01608467239816, 43.54459003536222, 89.75772509577848, 39.99492186662779, 24.38109598074068, 6.225823283575963, 29.315931151207657, 27.408346904567303, -15.965113941523521, 78.67508051070305, 20.939111468255575, 48.728644568067395, 97.51340132346216, 67.10151240701035, 54.33463251887726, 44.395434448522266, 94.73200151985193, 31.688914836004656, 19.0649105512775, -13.99372228294547, 23.31132643668048, -17.690705081493114, 88.08824722065785, 55.48235200629884, 10.383604410190475, 78.75337281532755, 80.88204844303412, -4.5918714291811735, 3.282427621357904, 88.38731021619662, -18.025278094930762, 51.17292735392961, 15.05440296690658, 96.54539346359871, 28.551339663251753, 13.849500290937499, 98.02369999425501, 39.8664582343427, 63.64049107974303, 46.82102770238136, 16.62584499906633, 16.517250552183278, 21.140992141418124, 84.39298649977104, 86.18754916166519, 37.05197455750287, 58.17849506572077, -8.356575289697883, 12.880157595426873, 89.48931467418618, -2.1571572718895666, 31.94127119420439, 19.377209418401392, 59.813406405266264, 39.3399020287393, 24.314815664947858, -6.909643385085271, 54.27985268149591, 7.4555240640278875, 16.83913717541776, 5.984066906944868, 99.48650275990323, -8.486768802297174, 81.01466492985654, 71.72719100468815, 34.559108551238495, 14.247444986838872, 54.38117924298162, 56.62529465457612, 84.9469763791524, -12.620355869312352, 26.00411523704289, 5.388014778053488, 64.72043649225236, 74.32522042039784, 29.554477097265845, 25.711539724556985, 61.38871872744751, 24.01539764277156, 14.802115870535467, 55.938730794105055, 65.1541562538547, 68.11306935278432, -3.1813798097566917, 42.599920077030966, 0.8886762568358293, 10.73253957184988, 16.778027879769347, 21.2869169258783, 97.45622513288998, 36.907747594526356, 61.5110769373602, -11.3032418723521, 41.3909592980018, 25.775843883636128, -12.089047745034925, 36.402053043871945, 16.540671668373264, 18.955761395959378, 53.655375847972266, 87.34910321065747, 16.54075832082748, 71.98528530623649, -5.550958476933587, 74.41377058285235, 23.945056028703362, 87.40067464581287, -9.373271879298626, 24.46536554275889, 43.89786509440337, 23.918569965974086, 37.19034978730844, 28.12329739164388, 66.67999682106083, 41.62971863547906, -2.972638733435314, -0.08357000206937215, -8.412649879202224, 28.050321930234205, 71.07516447479036, 40.6127225718452, 72.55391401188355, 15.35557925121153, -11.797415580540239, 7.647885391063998, 3.1678777276837877, 47.694798312703995, -1.429979719647342, 26.73819566971528, -6.15181890454307, 59.46621333792193, -5.422347069394817, 33.577244203422424, 54.065809622676994, 86.55511423494218, 36.120135843068525, -11.395276222566043, 44.63738882722008, 58.30685069502131, 58.906691562179574, 83.19178323227032, 73.09674443436451, 51.31870583016466, 3.3390715887385696, 0.709529836653715, -9.694145335881359, 65.45367636487708, 12.487981288300375, 39.61129748287454, -10.417441102917348, -19.20391262217963, 48.02032588575712, 15.290188078616602, 92.14188894421684, 15.33716588136003, 85.85969420800593, 30.90876251484292, 88.06898608564507, 59.186006315417686, 15.090992501859525, 89.17130929642795, 81.59917940579366, 74.93017986239838, -15.31884574031058, 88.13899766983947, 3.813690165503715, 0.409530681249354, 30.733580591001278, 34.34534760717895, 55.306449729174275, -5.517249826069662, 22.295168105810895, 55.88120931808359, 76.66591263075279, 69.51188865649668, 9.439167326137614, 16.567348232861946, 1.4692416996976974, 95.85112064698829, 68.72368516237673, -17.272493436214603, 21.63816629344148, 10.942652023013398, -16.71403933609774, -9.84894825687161, 66.47673420060481, 73.92454089642051, 71.50810777635324, 10.878291359291051, 18.746773958550534, 58.14299383059034, 2.4049468706630748, 89.07145689556808, 70.38019773098256, 70.87915795611377, -11.425673059316658, 34.976233141485125, 18.29595434079308, 9.178366213221505, 42.358062598286125, 70.27255765345403, 38.03699461521694, 2.4817420820849634, 11.040010609375848, 39.93003002743228, 81.67169501438532, 72.45069248972301, -2.7029179984018015, -1.4727007558709992, 96.56584945897598, 47.980206772377855, -7.089094434924444, -2.1333059053005883, -7.478885064418655, 65.7793889705212, 39.40755381892203, 61.878045902116156, 12.032601059687742, 70.53912705847263, 69.83430112045465, -5.628426001564662, 96.02998071258268, 97.49221618644962, -18.974968825536497, 55.27706398663716, 86.27039203667962, 55.09907523921464, -7.169071390538315, 84.45721763242149, 55.07622610486564, -8.202506891156816, 81.8781565081387, -5.28530387586278, 79.40441991798566, 54.040281840381226, 11.012012823838372, 51.024829023020985, 26.66093640435919, 92.0132427166998, 33.10898242209789, 63.71881638525767, -10.893684026372142, 84.91027527497405, 48.81237118535424, 21.6727588864724, 35.33791981246209, -12.726612768530053, -0.4199481684921267, 24.613409174790604, 3.4663796821365978, -10.406529465339576, 83.89987138890406, 21.20679229761896, -18.233496778522905, 41.9752874731011, 95.32466721267042, 17.75483172508163, 28.3949386550995, -13.701840412293258, 2.87248569432721, 52.82170195659239, 13.99128148524099, 81.38586469216186, 23.147696548126802, 58.29775589609977, 4.873190987746348, 49.687808787104274, 1.6587689894296673, 81.06032040837933, 71.93306165209012, 6.976020792365297, 32.96003672353598, -7.805233108191182, 25.686492899188536, 78.70545074961254, 18.536948580140134, -7.3905928685638465, 4.916449474651166, -4.069027565311249, 92.56696332649311, 7.495388157601504, 56.85082978417252, 31.768318722864088, -18.35506131831106, -5.714300390062492, -0.8970588239092692, 45.492044898428986, -10.629559188622473, -6.093067330320846, 16.263873990342532, 46.4934906209097, 23.69651177005769, 27.243811062291897, 87.43420938621212, 65.10545541329893, 90.63868487189696, 3.720393768151883, 72.2229035308522, 13.841116390295198, 10.208214113410698, 48.5473500149117, 63.15861766063051, 30.079545986389014, 36.1217343249004, 28.964997938150162, 20.534169413587414, 41.25714006792787, 39.70655556203726, 59.95933761180318, 87.3484953273843, -7.068082976985654, 29.478159396923303, 36.790973242109686, 14.250952364654587, 79.49046873753284, 89.7596691153052, 76.59121317543426, 45.83023511881535, 77.982958543841, -15.712129705063242, 2.3300724387155896, -11.093200154242876, 30.79723108148474, -6.398355481614724, -13.648562740145064, -12.736832173586015, 36.44289408086409, 47.1260948114123, 58.91467473722946, 60.89181167867346, 72.33191023413846, 68.41025429234672, 55.889802591320404, 5.5517987339557, 41.359046962839244, 28.970808542935956, 13.049231286480008, -19.987682097887912, 86.87407434807906, 5.269812614661596, 62.26160744943351, 99.3252177894022, 7.686153174220216, 46.5215681398619, -1.3217758200976704, 18.624361002128012, 54.256674261987925, 25.384834450884455, -4.606568492674166, 85.78259386928404, 51.3785459463472, 26.274917685588164, 71.95124228473684, 97.80069624885184, 44.91825651449649, 85.17243349537532, 85.44646465660139, 61.75724202813083, 85.07178340709625, -1.514843648428407, 44.50124025433708, 27.6719142233553, 53.541180892832784, 34.408399724438596, -9.820807088240095, 30.052603896656848, 16.167266883446658, 43.858948507641536, 74.27969837297827, 20.66863762798348, 37.0583839444692, 62.16624429933587, 13.29329567934677, 33.85564881952191, 67.29698298003814, -8.454377539323183, 73.32141861999025, -5.105562346444298, 79.89566109905275, 61.90921673648751, 81.53050989104598, 80.62294571039357, 46.937982291332744, 36.46102733919069, 47.13763379064845, 79.163210093012, 70.69148172622653, 48.499439452950796, 36.30407170749568, -13.550950339414086, 35.51796888205145, 14.10063500574256, 64.14107901337886, 37.852282133546225, -4.567511468905657, 66.77986216890925, -15.706953791872502, 41.30946250340128, -7.758603017878688, -11.915044178306298, 13.19911053748153, 27.739038944379786, -8.412684183569983, 94.4059958866724, 52.088916392025425, 18.95337264323272, 53.24422467653315, 57.497290770450235, -18.788409935656514, -12.85341946649031, 26.36103810302209, 13.703700122852595, 93.74086535297344, 20.83849679025959, 65.9383497223318, 94.63301696984851, 64.14009874053659, 96.16482280324328, 62.74881343405055, 61.269960960789604, -2.179246992784371, 55.10925881285681, 9.48153031937973, 97.27189769092915, 11.444348105355196, 77.8382076940024, 88.62776354738094, 83.41383003084246, 4.3033830558814365, 25.89366159396174, -19.830093409110386, 26.062717440843443, 94.77237411479463, 6.811598166303394, -8.816372618016555, 22.692214847177013, 72.72010420514408, -15.424303750871067, 93.05767064524353, -15.242910594296717, 19.33524829093804, 2.811680468498416, 77.49743734846638, -14.440229438939753, 19.9768286576006, 2.2009829282118716, 82.80165257618197, -13.616633268083064, 1.5759166734832561, 11.09774352426114, 24.703731162214083, -8.896450496365862, 66.16231001094454, -19.420146563156194, 83.32310897968976, 25.611388734330745, -10.753505266392951, 16.337823811691493, 76.71888394315775, 88.2267334369798, 7.21529879882565, 7.390415247285045, 91.44204064280598, 50.40719786879204, 0.8273656934151283, 86.52400723777112, 32.61678618123301, -8.371031002158835, -16.945378791088572, 44.824774486872585, 81.1613588707189, 15.238586561588072, 76.37172803119427, 15.600302160968816, 38.364773284497446, -15.135249529348274, 37.08810009659194, 24.709070336010733, 39.38340821639982, -14.579366766590557, 99.58932348735783, 98.8948009051445, -19.25714778739861, 47.76795901410301, 86.35089875157456, 62.169767145918485, 33.26189933773157, -19.79935031267743, -4.120501443098302, 59.10517940140063, 65.93600261636823, -10.097118876520526, 63.01837356219339, 17.463321492869632, 51.68156518328587, 58.26214575597699, 94.27083563095613, 88.13377137664125, -16.130558986187033, 81.10701944728243, -11.452190603276598, 89.18347625516839, 83.74351660840138, 21.652341115025116, 49.044346957683175, -12.28951961726747, -15.714349431530916, 77.11843675484968, 73.67170934987288, 82.32409426574593, 2.7764614621874593, -16.8849167950756, 97.98334763324162, 37.46494740807371, 45.5731691843426, 41.57474371803821, -12.254137354823289, 68.13456659149969, 89.87516822237765, 86.09702804087024, 39.2337331820378, 74.41757353892352, 76.00098755212977, 93.81441508981197, -15.370136637262469, 65.38481870684615, 98.07407447043586, 65.08285918628701, 23.198399417931277, 92.42923180676169, -0.8917863648735036, 69.443200088271, 11.85550429624783, 65.5474477175936, 74.7988580112438, 93.82742972467851, -8.292721770366498, -12.118186574346282, 14.991356006899139, 13.900945924651857, 47.29918843289157, 90.89839204156377, 73.93577288777796, 45.382787257541665, 72.55837836174098, 99.30682883463585, -12.945421298356358, 13.174538726780185, 99.46709492726481, 62.875550942119986, 22.479678697603987, 33.530526944519835, -13.778749153214429, 96.61175351723499, 12.442683188428944, 96.7639488645449, 56.19128981097222, 39.79576094610553, 31.42546975787355, 43.88481500814011, 76.33949680911874, 1.7398523957392023, 41.1800824538943, 70.29382917082955, 88.68647527633244, 99.23892624861284, 12.479225981994183, 35.91164735831447, 0.7486020500385493, 15.805323081562456, 62.546056486673436, 71.67965300576947, 45.684293466822055, 33.27351762147724, 45.35133283455289, 48.03142515062437, 33.35137216920606, -13.419243902643387, -11.48322768347715, 39.69571850951046, 42.88381964444986, 80.21038199362334, 40.55723592006912, 88.4960092589477, 77.12906687233412, 51.600108886557564, 80.65750994773832, 75.78892002027948, 41.233286671681036, 25.27391905272799, 28.986204877801647, 27.000549273982465, 33.026469198826696, 75.77427698315225, 16.373215687536188, 17.808625238102017, 32.22547736170083, -2.640083115487567, -5.318560135733975, 37.72233076511808, 25.282700908876464, -8.563764630949265, 44.516834118985884, 1.8994376333990992, 14.397093629216513, 29.772626880633823, 32.91777941188731, 95.70550007312653, -15.882012415491197, 42.38119307827369, 4.668584400385832, 70.66898631115478, 53.34261434176223, 27.519085240829988, 7.510435807794835, 91.64407245474376, 66.23077561581904, 26.37213795547367, 70.55495205398887, 73.65312433933724, 30.918939537960846, 41.50674637626934, 41.84884137386615, 29.05560740053864, 43.539603421293165, 49.065568699146226, 93.51311635497676, 52.80253840767382, -16.712200257408764, 45.65359761817314, 14.552605263313993, 70.81043390252638, 14.761870056758617, 73.82294463348791, 80.58725403980962, 3.8587918877581764, 55.1108414971804, -13.512631441568734, 74.60896147547248, 21.107103928694514, 66.57299486492597, 45.04451067972603, 71.17780390754982, 81.12146419515729, 13.93775568437502, 44.58417378606211, 86.00325254358717, 34.687306719440116, 40.990795293707684, 68.85317897923287, 2.18929025165799, 47.86830095226428, 86.29564149441381, 92.44951904993958, -11.791940638804906, 87.90517343339548, 42.9850118587252, 46.03122205812461, 26.5406639081655, -2.871389913744828, -14.759654458236495, -12.76204341391361, 6.878301021521732, 84.91935174685716, 4.550295511832097, -16.272927089519577, 11.496153942768089, 30.81358526104453, 93.72587341838211, 64.71122913356159, -13.21167416315619, 38.645221047627615, 94.42481954574869, 83.22718849002493, 81.98054034223648, -3.3639449223170317, 29.965189727005274, 44.18867333132167, 86.3920848433152, 94.05477836170333, 99.91142624448656, 20.49288776078093, 50.02612320288364, -3.743557126138768, 55.02295232350093, 95.3203054448664, 56.29123193955985, 72.39750593822006, 17.073655671223676, 1.490440981842088, 31.75079521936557, 82.24170475985322, 81.29410916941923, -13.949147390446296, 66.35621461099521, 0.2787328624904042, 60.77291978610937, 39.34061495411653, -16.57285472572347, -9.888229666400278, 82.07296316686347, 77.0936411043278, 26.042247473961275, 96.10163430040231, 55.72468328124212, 37.39864121017722, 92.28128869740434, -19.09826307971931, -1.989684025882287, 38.47864099909622, 31.287556919130914, 97.1203959711617, 39.81040561974932, 22.325310212650628, 7.24965562737755, 22.635649491061415, 94.78397124150554, 23.408855604865842, -6.06553922431269, -9.677010122248092, 34.309331369353565, 10.968171675621559, -6.277855231627395, 19.757789391573453, 22.808797688339062, 42.39008937473098, 58.89079945538717, -5.26986322344726, 48.94473810827246, 56.917651528860915, 25.025698205335473, -14.803848209789132, 23.601725084765846, 43.89085136935661, 93.74415465683771, 32.624447563422535, -5.076434127991988, -1.547253834886284, -0.7789194391630048, 10.099348467766383, 36.99389465398478, -11.30351200249125, 54.536496215627835, -17.87252092138433, 34.18999752710371, 75.74881923139492, 96.7378511301901, 92.6006157059033, 68.3382737160017, -13.99511774674329, 3.0118318171527463, -17.750052174146916, 87.41257840352168, 23.591474995667824, 62.36049779157142, 28.41514042711602, 88.8502196811102, 27.076384816019967, 92.07183539629008, 73.21647941384519, 10.833238615999488, 84.06274618051101, 93.6908325148347, 59.0280171392387, 16.992015337696024, 12.089407484486784, 92.44757055566139, 49.76961943178466, 34.92880014160012, -15.512473359833345, -5.724283705083121, 98.21952727104662, 91.03680969235971, 26.323859673493935, 78.92462604284256, 47.322734793862395, 3.0684029634898877, 7.938122106492756, 36.29465247042876, 3.637280888420843, 96.2999078197658, -0.6287741037895245, -6.075244604039538, 94.7558927630491, 84.00288570112434, 38.50595938194847, 65.75716722879378, 98.7556542537669, 86.78520010994235, 24.426531363871966, 9.548865973753887, 22.460487805555374, 75.1494623957926, -1.2813660171913739, 60.214270938432946, 72.17507577721479, -5.46067465521379, 34.14946001165673, 22.935595142103608, 19.41154116365314, 62.40864274625628, 38.58596536531946, 63.77782558542032, 57.15047564838267, 0.5170902122144554, 22.5970906552799, 99.63531696593995, 48.39050782294767, 71.03694144315617, -10.360545523356016, 38.08476796364292, 77.67761642278383, 68.76560250915954, -10.49758953628443, 94.93896626040016, 92.53273447831828, 44.16020173050117, 32.11173281041072, 59.450936442699145, 32.48172264130845, 39.82211495350005, 16.05612275944661, 99.51491992880878, 41.7415610193303, 96.68402506262419, 56.79982637789212, 45.00357174561769, 51.462775293037225, -3.8287700053748317, 20.46940981804812, 50.13096311251995, 58.79460873516446, 13.921468556980471, -15.570763075354366, 56.63815786917229, -1.887110676348584, 62.95032906647852, 74.40381051200926, 17.090678594747494, 50.406389917159245, 0.5142800936510667, 72.7776678007477, 42.40872961666467, 32.468954467930295, 61.1113310137637, 71.34493843321951, 66.64353514893475, 78.673589927763, 15.848776250602754, -12.518163423104887, 18.1806054465072, 24.752551799212256, 54.631921868776104, 40.901034487548046, 92.27054182089024, 34.09675244038204, -2.3881714045424864, 3.743517652052148, 79.40559803994569, 80.12509451972218, -15.021924198157986, 61.97005312020025, 47.26582410178533, 5.150167371914822, 28.368118468935677, 18.870647087768234, 40.400433684392844, 55.768184958524074, 12.949703319400776, 13.420179062107216, 23.767643525336325, 40.522532209274445, 72.1175277211349, 53.344956717915395, 79.91319517005621, 11.680780701850235, 45.92958175040083, 38.50611164539852, 94.7206241105896, 11.762759897471675, 54.51154785586276, 3.438074705977968, 73.34138378684723, 12.494067418702627, 98.39597920963269, 80.90857714403212, 13.860381352554882, 66.99865250695959, -11.754979712049316, 91.97065116436586, 4.705769297788688, 71.56984108173857, 78.83068008778893, 88.01304052871966, 15.771784901783967, 64.40670298195872, 8.05339249536648, 85.12902313673364, 99.52192424189828, 34.71484766343584, -12.96215676749664, 82.93709936520564, -0.10391062939828544, 52.3753869598999, -0.14951181467461083, 78.93515509469938, 57.6198584598296, -16.92338214878804, -18.146189795087864, 14.741353852988965, 65.9197532064594, 41.2565623736866, -19.68266332615252, 29.54572749614904, 32.097601990142536, 83.95269354811249, -13.8248993545519, 81.59062396894636, 10.75752005105036, 57.15836530371227, 22.951128874206553, 77.62943186420388, 12.217557490301523, 64.09801604838707, 87.69472107595541, 5.295025550959313, 97.11523073134457, 37.52452981068028, 4.884333216369356, 51.489311309174084, 10.818390555295068, 20.59902739692535, 29.34724831582959, -13.937197255788792, 56.91709725157678, 39.89937514159246, 43.26918564178118, 95.53206590643931, 59.477041261960125, -7.05880686022326, 97.21294138046069, 55.17302498679513, 30.38658798685396, -15.84506751724209, 52.0661663425891, 27.51005496677392, 58.34311542252104, 17.04507803828838, 83.7825236539435, 39.05473383559938, 66.91070008454625, 54.96766442874322, 44.84937314895073, 19.902298166814802, 89.14795792391565, 83.76528101999702, 62.93712518524434, -17.118820679873924, -2.191226423878536, -15.067500336415009, -1.9707147301683712, 90.57368604935843, 58.39384728095172, 79.08164463728149, -8.345454383220128, 42.23430186644943, -15.001778962050128, 58.76474045936668, 46.37686354247714, 30.2297637072501, 97.79920912671012, 91.29926285782496, -9.506772603574793, 50.48773711809824, 46.38567164197282, 53.28675716149577, 5.735128009433183, 32.83420946525971, 4.7581547259993755, 20.93889745050064, 93.42876148791215, 91.2705552862217, -17.430369713865964, 88.80581246520251, 96.01069627161777, 57.07621344090656, 61.60259061584728, 56.14208526597818, 54.327774499991364, 49.61456366101976, 26.664430712577435, 93.48911189560071, 3.645451693403867, -4.003067905140881, 86.18812679334117, 4.344885065706869, 59.89211118744359, 6.325171599485952, 54.760600377923666, 31.8041069450812, 31.5910802234619, 30.8959745168057, 73.15948189573962, 61.644646618764966, 6.533889584225484, -4.274975651377488, 82.48945407101866, 71.40868646029284, 6.754176125355244, -9.486134340117216, 46.86539284101586, 51.001957087104245, 44.02400730951575, 15.083883316327046, -3.5748445215091884, 41.67296051864945, 50.14704103175629, 77.380847932762, 15.00625766523244, -16.100547786940545, 19.26074766197599, 3.4646279532848254, 60.372286555346946, 64.18594899957246, -19.831651678796366, 60.31077422257803, 59.62692436091045, 42.73160528857506, -16.198523870070435, 26.907481743544096, 49.61684920696317, 45.753795988673005, -11.308385309706846, 54.47513300336115, 99.05271468171023, 45.193299995778744, 56.15190042804112, 0.6039146246437426, -10.698584308692043, 36.85197105289987, 70.23253966845074, 34.57745881071109, 68.29203994880528, 31.95356880661626, 84.87627428395977, 55.56521431718103, 87.10245118995681, 71.18943061589655, 63.936803657035625, -9.241854592618918, 5.4114994549988715, 83.53005910401394, 2.970784459612844, 13.102393346009649, 31.333246675272754, -8.34369067915845, 54.759095663540265, 88.03032963759858, 27.695949020512018, 87.19477618120672, 20.282424424041245, 90.73782431287265, 56.54033548787635, 16.746672570201362, 80.08289187587717, 5.988352282201454, -18.618679504426304, 20.108222434152772, -10.876437703599265, 72.06306600234923, 97.26483430200621, 8.398097608387005, 36.45433079333478, 1.7778112929512133, -12.934326600544175, 83.83650574002343, 5.97440722397473, -1.6666475219057943, 12.332161264276209, -0.55423555838005, 17.295234329674706, 30.2923955634553, 47.16571094958884, 32.56159241006852, -10.335471420270812, 72.07762720356709, 38.31540421637227, 83.02780728064941, 44.70690572356699, 68.56624220574928, 12.991913648875688, 41.84527943016806, 42.765908714529594, 47.61266640429898, 12.403759082059366, 58.579138220296244, 55.295401601972515, -5.618815976570444, 83.19077919549683, 87.09585251978855, 0.42186283772238653, -17.15671843254887, 76.91925692315158, 60.9690630357544, 69.29891755463608, 74.39491323288975, -17.927444350582363, -13.65458206983783, -7.923321827201759, 52.21378247355905, 79.5380594802092, 12.515636910165028, 44.17601757816868, 25.219716839064212, 58.1812078692182, 43.53766696059606, 18.21399919466134, -0.054731744973494756, -11.382131206987186, -14.049003054763771, 72.56360986360599, 30.8895389567962, 6.66115756663401, 20.22037966502141, 5.9377551119084835, 44.718288570425685, 81.84939165118996, 42.67818327293167, 17.015567458484384, 46.07585005180084, -16.384826822285888, 26.29888330288565, 39.46629076523019, 91.77564007246542, 3.202150152492216, 14.722773814107711, 58.443628491779435, 14.274880053127646, 62.01075684642109, 77.97865700538438, 47.77006137544744, 3.6937080818259425, 25.43750600939132, 30.36731954281906, 17.511617370441947, 95.89800267818636, 34.578401679231874, 65.72241413816023, 30.823775978893636, -12.471905254165424, -15.535566423611913, 8.068411248864521, 17.12031851907785, 12.985705770717146, 96.90094990806443, 48.53918392578272, 27.876797489937502, 25.92699134773813, -11.19796994377333, 40.338083274655745, 21.164771888778652, 39.36264232412154, 87.1647474181238, 43.72200315482739, 8.744485645215342, -5.2710910179243875, 32.81121465536691, 54.88544981987893, 93.16411791447588, -16.30555161247546, 42.304267212574615, 47.891992400609084, 60.973694899880684, 26.300705654950022, 45.90248482696185, 78.30885001237408, 98.30832445067573, 36.451337494507726, 12.873152214550416, 78.37308757652235, 78.04062651355683, -0.7640024140042243, 29.72637725731515, 68.00025968690323, 47.88641219550675, 80.64674208767009, 15.297855605199594, 92.85807513734535, 9.934103232765995, 73.99777975864684, 20.434061024285995, 95.70747023630231, -3.864210345665569, -12.081678349265331, 90.57578999701421, 53.709593222875455, 42.240838832134784, 85.63857055752568, 67.63835334744577, 42.15135095314654, 67.14515089110127, 76.82979072600958, -19.48362605141027, 65.19593792419671, 70.34635617931596, 13.136601265492196, -7.189761904510794, 72.74408141867406, 79.41412584908268, 56.095222084538676, 61.3217723987554, 86.38881307657098, 91.33155358756876, 19.074630609344624, 56.1091816516949, 48.892123288168236, 14.189601633071149, 98.51249047266599, 32.33553097984472, 78.3943745743463, 49.464952851289084, 91.01533869157224, -0.41124948662296745, -19.28765924187519, 11.90558179052005, 74.3738722936338, 57.055972872176696, 19.955517080374364, 67.13216204294744, -2.2307842273472325, -12.97083624635006, 45.715725483419135, -5.138383706167385, 45.773129141528074, 79.50613465980234, 51.53215136290616, 86.51152250594235, -8.24538832134008, 58.96002645384229, 46.12215471531546, 64.99299812460139, 16.885869058402143, 75.53516712686647, 58.61967552062221, 59.90186860014349, 9.65326396924512, 81.91898065052247, 67.52612693572284, 49.62248647777375, 21.96331651309614, 30.940433018497856, -12.770060264357316, 20.800262761900406, -14.209684027524215, 25.21943004852804, 69.29060653262016, 28.48683245408892, 10.536011807139793, 68.21997098598693, 99.6644875281888, 26.965803848288232, 50.56176072414334, -6.078508822261487, -16.81908368359568, 94.98866603668702, -16.107151261900896, 58.093626871205885, 45.45889289122779, 8.706137799217913, 35.17332200906936, 7.671315249411371, 37.4580728789948, 43.793608637354865, 8.003273696697786, 25.42791830069161, 16.09362028716935, 35.95789667311135, 62.39197348231605, 53.7724654620218, 92.31041417064179, -16.922922655843706, 46.709265862446074, 34.528393375738894, 33.38748536251953, 25.039152856526428, 66.1807271739046, -11.259230736567009, 14.473208114224434, 23.4557385746512, 31.383595443290538, 23.861382299973528, 20.000587858967272, 35.51692258283667, 52.567069946867775, 23.945192630465478, 34.03329460039192, -16.422703837513293, 55.62641697886363, 20.887041107657204, 95.27908580710576, 14.569170831312228, 28.39481081514179, 82.7077089702146, 6.9807850021728655, 89.41505077115399, -10.18546790209549, 93.64454324090235, -4.838759373018217, -7.757851759211825, -7.941824683657073, 75.2717107408743, 92.40794950402466, 37.902015369167586, 9.34314135133, 14.111018248897082, 35.649349507858034, 0.19907530092014625, 96.24180691289938, -6.563980908333434, 76.47259928262042, -2.5389669163170048, 51.28130462601986, 73.17039571982508, 23.878406175558553, -18.427923840701613, 70.95513255350528, 21.13565467119446, 22.075320521896124, 6.517334467848315, -0.1462381048327579, 36.19571257235242, 46.61063716516574, 46.069773367783725, 45.70397062471079, 89.1913559906699, -4.693372743516839, 67.13781001350368, 84.91613110540288, 1.4003813100665496, 55.88525572523929, 50.8284742120227, -10.496570711473169, 26.472659558287262, -11.051244346434, 11.964155768465538, 97.45696800657984, 90.55164128491312, -13.905462230915436, -11.092404323846452, 27.056986584447777, 48.62683569942804, 94.24051729479571, 22.481236998370456, 94.28301086724078, 1.9381709188555973, 99.4456935981868, 4.157096741113506, 45.857786845485705, 75.63067350253317, 53.883313295421274, 93.72594811549658, 97.16051506828666, -6.949521891209788, -14.791033230495255, 52.57478039772022, 18.052631726595052, 75.30869510207583, 78.05344905886254, -18.688014131793214, 29.59038334247265, 94.54588585231723, -5.973161276831803, 63.651469518922795, 42.40191988257336, 35.35877618849935, -18.22397361728669, 55.900072311861834, 51.5735723155305, 81.48332050904816, 57.26851439295238, 92.92907929934665, 68.4739128626805, 94.65502597741599, 68.11440714719916, 20.23855584822396, 34.24103435173246, 17.01410220983111, -1.4475320390706656, 59.71327114820036, -18.814173343650978, 70.6382876331075, 66.43431357334912, 73.69036727898997, 98.75867358241076, 54.755293255515795, 41.499649434461915, 9.44186877731044, 76.08764419576177, 93.35842705911843, 21.903437584368717, 61.64500181157713, 67.08561381779009, 73.97794471486985, 26.648236158444803, 70.48490977850359, 91.83995077179416, 45.030501961839775, -1.4561967609553719, 40.415224816256995, 51.85559120930343, 83.65780719709718, 71.83495488870872, 87.09549200328252, 85.64546057820108, 71.23331934538122, 92.43987376868226, 36.64786040279898, 67.96594548724914, 91.94247865546588, 95.80992170075045, -14.896695188564983, 66.55025081367855, 28.48175639937117, 87.2069395410668, -3.3379644936354538, 74.69497065165504, -0.1494008950809409, 29.428636876094004, 48.46410309319259, 63.64046628769675, 61.145171191552194, 6.000578586743089, 2.17605808982276, 69.59529964385825, 35.291924393678634, 83.98033234744783, 84.36024128056235, 68.2019147695701, 57.35633809398081, 36.175678759679236, -17.76546037210228, 29.074137876809417, 12.893924781660509, 80.10744416669426, 6.205913125427934, -17.476445764959223, 65.48965061198153, 58.35537009673911, 12.15449531175853, 68.97386153716353, 46.431050693721104, 68.64400307320946, 11.53561675353604, -2.1164240710653424, 77.48973088663895, 25.924431073361454, -16.776433304988856, 55.39748976299792, -16.625115289248527, 94.70850494243938, -17.001946504800646, 3.639364346570023, 93.4028930099562, 78.85821850645182, 34.49948559996721, 60.2577601120866, 47.565551111364044, 11.88053721513397, 38.75712570525372, 17.81482888077238, 71.17095084460203, 41.176586667772604, 73.77254256958518, 31.93332158828246, 32.07045190514406, 17.021634419236378, 8.846925821071533, 22.6982237668514, 93.84807159516873, -3.5641014218728593, 81.86424495977099, 80.25086967780797, 90.31136297190508, 40.811669797808044, -19.031311925739804, 2.929378528880413, -11.152023479297789, 32.69926119100429, 56.000288794001975, 40.65541747348229, 34.93631996554122, 52.927813376473296, -17.976842771541964, 24.379842693206946, 68.77018802164474, 2.866111083559243, 46.39010647321473, 10.151742700690964, 67.63845419908506, -15.781746992397515, 97.55458519891722, 89.6456409294181, -17.594299037403253, 54.00169843629028, 47.87318785295098, 1.9351401644513935, 51.64260095666671, 0.7734579779406623, 23.590850966992456, 39.709076987564934, 14.048232664635485, 95.83800894458582, -3.3486015947956673, 67.66023069120047, -6.3972137095543715, 13.479219988886435, 5.350488711548902, 34.75165669417445, 33.2649177496259, 29.125002415258024, 58.057111952081314, 44.881558815268946, -3.425577074823334, 4.562896152885713, 78.01505864077491, 11.005027931281901, 79.9855095119187, 32.16381624986211, 42.38643316310536, 81.17486144194935, 5.655020726956117, 19.65983923853149, 39.03146269774687, 85.6502633363018, 98.19573233117387, 86.35209968079901, 64.3104834262974, 22.426391059046026, -8.8254755437878, 62.71064273546175, 60.67375684195447, 14.574583399699122, 98.57948436683724, 79.39240246022185, 96.90219460612519, 12.57602015981621, 38.52311197306812, 37.492194509055295, 35.527010247729514, 4.248940319620669, 43.32254399350188, -19.21170705103965, 55.24630808806408, 75.48972415886236, 93.65137178787717, 97.38568573696466, 79.51912489569771, -5.453216508536563, 6.118942074832038, 37.33732956270517, 92.63387855280556, 32.04110383409811, 65.25651621316764, 36.08750239888184, 60.58053544353466, 38.94502116915663, 11.888762540982867, -8.87757137768725, 13.753322336675758, 93.94627382042918, -2.154420398107881, 79.59113172260263, -19.54047798357966, -10.585304917668719, 67.72740802974737, -10.442382600985894, 79.6288568268815, -17.71926991698971, -16.064884662121326, 80.86221279820825, 12.116432578189837, 74.19259575528505, -7.186713546650658, 24.25781173800152, 89.76085857041804, 8.044784463069572, 23.929521353775556, 53.67460832751435, 64.80179835239552, 90.9120669920868, 14.46699002067227, 18.21050872287443, 24.654867362876004, 56.91948176552086, 97.07953289144481, 24.2323044037365, 4.292373145773908, 14.579341095865537, 45.000006623136926, 59.031949121081794, 28.309819475052848, 38.98476994196218, -11.136549952978294, 51.66718400966175, -19.719948337658174, 6.42220744026271, 43.857025022834, -9.113573866139602, -4.771097042748709, 72.42581610514647, 35.4758879385475, 15.700900500093255, -0.8198066673342232, 34.946718923114744, 29.143353461274998, 14.038025693635639, -14.367562691394852, -0.21627848284019535, 51.02172707684427, 79.49599793796077, 19.471051358669705, 61.146120604203446, 45.54527565482263, 5.270474177403585, 15.922376611488758, 4.190413184126275, 13.854199619459841, 40.294466870894446, 18.758912045154077, 93.69892510511157, 0.9755719849456739, 99.65945784067725, -3.5831472426841415, 61.71499019217805, 92.93422848173377, 34.16916690625098, 86.10631185342973, 5.623038108676823, 69.34965124261085, 54.60357691373336, 42.88782385640488, 77.02318972974246, 69.34952630971391, 94.0424330588713, 21.355708158543067, 5.66611990549108, 26.45381594753748, 98.65336411180368, 92.74561352646477, 80.16842483984868, 86.97109321308986, 46.77907566839558, -2.4795054251670443, 83.35694761065857, 12.488635570638927, 21.83419176835436, 89.79529928256257, 17.532655992292668, -18.90136402870219, 62.12365379543161, 86.42537229462113, 33.94228476003297, 28.220617442108555, 85.6251050818961, 63.21269404169102, -9.24138087671869, 92.4715607548141, 70.83796788158685, 97.32500250794843, 21.85176993496303, 76.52533797986544, 72.90267243576311, 85.3673532135775, 16.75488320394951, 62.25093795079344, 35.63288112512123, -16.31286991323869, -18.258878932395138, 44.915091268622746, -6.426515738051615, 2.940343749813046, 65.945936350467, 62.56104550677483, -17.465739611633303, 26.94056567181636, 53.75640241558743, 14.36363282904032, 26.657533770112536, 72.26430748893051, 18.029894248021478, 83.5791177809532, 13.064916842015847, 94.87036541329557, 41.08456015308869, -9.708555581978558, -16.492868493573923, 3.187213308207589, 53.85477962642487, 88.69408581774476, 67.76446868475225, 13.189464479467595, 56.82232844506214, 93.70240613467013, 41.38187540529859, 95.6363149596959, 17.47810484020708, 27.42342073055015, 45.570788549034916, -2.1415459476056995, 88.62276368128572, 23.43090700610754, 74.2467781611649, 37.59867804313271, 40.49649398428384, 8.272172911546232, 70.42788547387757, 80.28156261354113, 26.691780826296892, 73.75772294630274, 87.95413575939807, 70.79916664103268, -18.132313306113605, 96.07269503148073, 66.20624780538807, -16.223150334722934, 21.891553548542603, 70.5001288000867, 55.32222958402451, 73.50636343737126, 50.73888923920927, 21.69800112461209, 73.96895306958, 95.88313114029316, 71.41112619113484, 5.0939932138175905, 49.397822574372654, 77.9341210960677, 92.87209077713244, 28.07669389131211, -8.958123358787002, 60.21043201977375, 11.098342438766661, 40.131785982223576, 18.315156972404644, 56.683803040588955, 18.43660179100945, -16.058659038486457, 20.427630490682894, 97.7748210101262, 21.125618574596686, 91.01843169323959, 92.10967349818594, -5.197854773618911, 23.646055339237712, 3.799103252363551, 95.31730867477363, 94.97237537657024, -8.79109118343679, 50.24732915153069, 31.42865964901931, 11.06649392367515, -9.377218133550173, 56.187349819210255, 50.301256955763904, 54.165321682405235, 55.59694376213207, 34.380893268276196, 38.92263300680479, 2.3084972571500657, -7.500751526891323, 92.904172149544, 12.826961356110367, 82.09402017222223, 39.91512193758447, 9.15845609823598, 68.44353398111397, 38.19473633401728, 92.12959121539447, 27.355459030583532, 94.47492442261759, -2.679298919936972, 1.625208327203417, 64.19739097268841, -6.4894210345997205, 35.204063897355525, 63.38914594726786, -10.147626970504206, 54.70752713593335, -6.911975519379499, 57.5177768865924, 52.046434257527096, -10.15401962811081, 71.84070793984247, 60.44029859811404, 7.788132266560389, -13.39332996931526, 56.2965950626683, 52.03662107648282, 76.05370770052808, 30.01981471771424, 53.861785970020236, 90.29546879334632, 32.247825811278915, 94.79602295540161, 70.5876208249473, 48.4397554708748, -9.522374207729051, 67.99812607110897, 88.52669489715407, 2.507062737845672, 71.17823904805148, 35.196638574471166, 23.864635815595044, 5.686348669714484, 55.06140660744755, 80.17263366679505, 58.80271831341912, -6.956314926277599, 82.63061381720563, -7.740280809251017, 78.34389123065144, 73.63983726135709, 22.763393852775472, -7.5447117856845125, 37.133556424417904, 14.478760362916347, 41.381481308892546, 7.691263536644367, 77.02922622242524, 73.64941806679849, -8.81723051691746, 68.50369730270546, 66.9054718668335, 18.189266668896387, 25.940547716244787, 9.11588466203769, 35.73872961237348, 71.9389462079499, 94.36192902194571, 89.51557641957547, 82.6437373532022, 43.68130915682926, -9.192627467516669, 24.310330037797968, 3.0774373239693134, -1.7907770992868741, -4.922736084156503, 55.40912450522998, 68.82764300291426, 81.06300099198405, 16.186696408460776, 82.75270380438951, -11.441329091551932, 11.488707434473863, 25.70606546928326, 50.51735979712531, 66.69112176322831, -15.633678922625354, 91.5254256557482, 2.9685006012416366, 38.168513624310485, -16.325700089518623, 72.2426589367278, -6.896223628737506, 69.86010669628851, 79.05175387629562, 28.481394136356215, 66.33593143232916, 81.05431511243633, 70.84387407958967, 70.99541288186359, 46.26784791941546, 1.3274528368153824, 94.74173456055092, 95.54496357801938, -16.773994193073616, 82.59774451680347, 61.96872892523852, 57.791834921292235, 43.334313976117684, -19.17383540520146, 18.24846522013396, 97.32166038102864, 24.651683863093574, -10.762214576401412, 44.70082573017231, 18.16886808114637, 15.227253393317788, 67.3240547733538, 91.84429785018294, -11.002004518377744, 87.32439997503351, 40.59353903830155, 34.35171605827152, 8.90403532608812, 71.20839849680432, 21.089443054154053, 76.43437841835083, 1.1193263743462545, 84.64984443506978, 0.6616231477589771, 37.23909184356937, 97.94933783591644, 99.20555090790931, 58.50103633971516, -4.432726705215453, 68.66820200241418, 15.675248709085025, 46.96884428454884, 83.45851614335903, -11.967825999801835, -11.019743199925411, 33.008809463991646, 82.4356634296128, 52.45188266468752, 81.75620163916955, 67.3349432136317, 1.25048239286631, -19.30601334627989, 34.09728144635721, 3.1732725705043663, 73.54831721661368, 23.524402032084758, 94.60365768128906, 13.966356744356752, -19.466130170347213, 49.83881754475904, 21.852429726808538, 11.14220978053098, 22.75761055959576, -9.896082309603194, 1.876539436857744, 60.15257508168783, -12.441331175504633, 12.42326266964568, 67.53564508777868, 61.830769132565734, 1.0988716575709567, 86.18543109355691, 2.507406634245882, 21.80190120522976, 79.21881893214055, 51.69834821421378, 17.887518830442943, 92.59346994356272, 49.13968677428444, 2.254016599021025, 14.35922636346249, -19.60463849354264, 41.22234821815481, 66.03007427023843, 78.03396800309098, 77.96564691495759, -3.8711069901550665, -6.125076868403486, 43.3147955678844, 76.13234155423685, -18.19001317589764, 88.99585901859899, 68.94407372711584, 94.21843866255554, 42.61261808781179, 66.57028590870911, 72.7161742390193, 62.20701031538843, 85.4841458473186, 62.24709124742151, 32.4901082743687, 36.51693754992207, 54.426009459287826, 23.53649102022127, 39.903959707386974, 29.559849315058628, 23.126161012348447, 41.11771895841756, -19.660373856902808, 26.186024095910426, 20.16726625146893, 21.099851822892113, 61.061641344775765, -8.1644957157738, 40.0174455252361, 30.30570852712964, 69.12429840439985, 26.522676805010853, 92.6624497035117, 63.34544795882627, 99.1131728911422, 77.49901409919505, 28.30479691746705, 53.19064585112454, 93.74377462450087, 43.932002640858116, 48.004631784539114, 83.40853139289119, 57.21779198046386, 48.061413156696844, 80.02170797176063, 22.186249140374855, 43.804630033243704, 66.19818139572648, 94.85992674983362, 82.2786315353704, -4.293197527058169, 31.814705840042173, -12.043608015147154, 56.001278550361505, -11.46312837975115, 10.998571652839129, 24.420630588173864, 89.93778986281514, 26.790461771254314, 16.711275632585824, 29.719260196721187, -4.095385447235742, 39.144992890709275, 8.180213649681882, 14.727467946644332, 55.42392096426768, -14.607192343951635, 58.48380679026231, 55.31694828151703, 0.3300526784063038, 26.577798910746267, 25.764799275003938, 42.925037249529105, 89.70318466414372, 89.3098936348325, 62.14469879695227, 81.46234832567475, -14.062741593579107, -2.8701273766704176, 49.971967238553944, 81.43669052980874, 65.08498309840991, 75.35236337141531, 96.11052166647809, -0.43722539181242936, 0.1585114362953597, 78.06876270558615, 64.1857070042503, 36.48991793408271, 80.79400422470795, 72.84142613910822, 2.443485994236415, -13.19037715310792, 64.33341699450213, 42.50718649527143, 11.844231184637032, 67.62585463561022, 55.29145111983705, 64.53901929057, 36.28561465474134, 91.71578868860438, 47.59450172067113, 50.69636251070099, 18.782803189369538, -5.016166948092401, 24.61085740562229, 53.15348646458351, -19.222898660863997, 73.98742495435287, 60.47178093363455, 29.962764246946904, 34.724040061115886, -2.5996796716235053, 64.53170482678628, 8.893411748175257, 25.462092080156275, -13.291188285650165, 56.76589779566417, -15.647186952633195, 84.7508981523554, 55.82271323563404, -5.839077175337701, -14.742283870928489, 28.52757390939948, 41.548000527278624, -19.657247807689934, 58.6603345232207, 67.7312420275496, 15.43139343771729, 23.50007578303036, 33.44392000717834, 19.239047344474272, 35.08304424175181, 89.05273961479848, 90.63574149108885, 51.880947361195936, 23.977455002417784, 82.51867149258356, 6.262162572770606, -16.347991521810666, 70.94874147944597, 81.31868064651574, 13.021334081762049, 51.73335216364531, -12.6898619377172, 4.930858655596264, 60.17234787684367, 23.416799476342838, 55.55285147646774, -12.469103680013426, 88.3341021544962, 87.06740325099125, 30.77557892212875, 94.25354505273307, 20.202476148572977, 30.032415223740053, 81.3924424562122, -9.32375552961821, 10.4899332490564, 48.66539234529975, 0.40976495765882603, 8.542646296270796, 91.17641669258076, -8.914775091006213, 58.59113902206764, 52.40513703288258, 19.785854138305922, 81.10740634220096, 86.47180107327533, 71.79281780315972, 56.61167915337455, 91.47024168454868, 26.558447700797743, 35.644985029029264, 3.3366147645351063, 28.834291629031064, 57.33278491593859, 63.79650152661567, 1.4709130064803873, 14.900969076775674, 95.47239795844422, 74.82920178495678, 61.91423868186956, 65.48535670472724, 8.69357281205923, -15.32600345096407, -1.9373760484613953, 8.04680855206184, 45.708050514833886, 37.19330196141543, -5.577679119521669, 94.62183947027066, 69.74091403372022, 47.093141249199974, 42.99946708901683, -4.1475012919146526, 57.11362456356683, 37.94529919878085, 11.602004259094073, 45.44574204965777, 46.904531410578755, 45.3357517583148, 41.27297472697417, 22.32671022262811, 12.383939128987137, 91.25794330646175, -8.437516368537409, 61.734429362966665, 2.249348001194601, 25.91346399661412, -14.405605373125386, -15.539997118628444, 30.57149583306645, 62.51119577931672, 12.716823035512135, 32.63131004956066, 50.58134131017897, 28.294429355006095, 15.848807180741936, 53.99467614599429, 60.25183970246465, 51.896742052641144, -15.489932432569873, 37.5626715219626, 20.523002686386747, 32.723170681936516, 89.21990608433897, -2.7050435337671956, 45.82137685771184, 3.7439152612365625, 83.07386034145341, 12.933779863435035, 85.54169540870075, 56.81054797879155, 43.81383908526467, 98.9837098970268, 81.12000867733612, 63.339042539918566, 89.19471331157338, 54.41643942608778, 77.34425371576856, 16.958606935515064, 1.7862934199212255, 85.92825699683051, 11.119244579290452, 47.044567858855046, 19.683032983627648, 60.992899158478394, 71.00054941980522, 73.63120484326919, 61.84196529069236, 38.142901471485544, 65.49323690822986, 74.16483530636862, 47.948136051660484, 80.53647355899133, -6.880284173445874, -2.5624301142604224, 48.10551893178419, 79.75137702193146, 86.1408902335105, 37.820710363869445, 46.84230463177727, 44.12993290962494, -9.96128698612559, 11.179210505665374, -19.170097394167904, 45.47554060111854, 35.1552451598547, 68.23508841158149, 55.125766178028655, 51.43423664651402, 13.047623610688163, 2.4896630993367417, 46.593331846823546, 47.67039077761439, -12.379668498712952, 48.81368652043491, 39.16949543537439, 53.189716584509554, 41.282389135179045, 90.75844295449926, 15.288382417719816, 93.1453677519045, 60.911324473437006, -0.2423784202105992, 99.9390766805784, 58.86922011485022, -2.044032488761953, 70.9231257952061, 95.90132843133576, 82.26074679943966, 63.979515397575625, 32.1460016289749, -13.397400275034839, 22.439627221226125, 15.619200897131492, 31.467935967621408, 33.38677776402005, 77.19698359055748, -19.4644724374673, -14.540857857329721, 84.14904085787927, 43.630473919891784, 60.26870085222238, -12.944375029344597, -1.1891436115891025, 80.67005303843355, 29.476397340510864, 39.72037206568728, 7.4891129683111615, 70.99682419094465, 30.3115270728116, 59.734304032371554, 8.948533693962034, -16.134144784531124, 61.91839941768822, 47.34784562422968, -13.814290684029222, 17.88614701779283, -14.642833334605566, 72.5732175065272, 34.76003944783295, 15.060110313435146, 95.8828652738746, 68.26295085369509, 44.2195266867528, 32.620625126260954, 35.892305128430884, -11.828453162625113, 90.9667602232236, -18.615615609346953, 42.836288936401026, -14.517369273797405, 42.748433685845264, 21.318495926367575, 94.73116803088305, 78.61928517386518, 44.958327526101954, 59.536892838966494, 69.78885057264627, 22.039553141755825, 44.19322111461925, 96.91075098248402, 52.01696961460719, 8.111819185842922, 58.96305231076509, 80.02043462444568, 81.456278688644, 26.892895553643818, 71.11326222249471, 69.6001217160826, 87.60391612136212, 65.15284262431862, 48.22696660324456, 73.36158062365752, 23.262039073849024, -11.160006056426468, 91.10616537010198, 65.54788052239883, 62.3491589013412, 82.60306929261121, 62.17385851085152, 83.03837838268372, 42.60274591317402, 88.66855236761106, 3.2418539777752073, 28.525623757597792, 89.38283562399538, 11.35973637250516, 6.165714056894696, 76.63020595084951, 5.301478741785619, 14.160759949090277, 35.3480731088459, -18.39582696739857, 9.821756892781117, 58.09187229112081, 55.70051914101745, -17.777337922690283, 74.65545507720964, 32.99154523625242, 26.088426001012557, 17.611075622399014, 58.255293208164076, 19.98739590051163, 56.73477279475205, 58.70037786925228, 90.70635861169086, 24.4586670350376, 60.790067999835074, -14.166108413199595, 72.79613668153311, -12.164470138888749, 97.01978234233398, 68.46700395564609, 69.5364045745624, 6.458203911697517, 60.46871820786032, 45.23654358632538, 87.14429798151164, 10.60941570518451, -3.042295581378788, 44.82937447179097, 13.625698047824791, 47.72980825384927, 19.687305511399288, 6.208768679991184, 64.79467925026641, 56.437485784109896, 50.73107892676941, 92.50051561890413, 24.985978054680956, 16.613322650007255, 65.16985237870608, 18.467831332258598, 22.625415808526867, -7.551229041957445, 61.57576087951941, 27.584859381002246, 29.682947877367425, 30.576183377018502, -19.432847828009805, 21.527571067283247, 82.20708572606624, 31.455060884138867, 84.08594028089553, 31.733775575508865, 27.08168563252309, 64.21361319031237, 21.560045238264777, 84.1290836846587, -6.911068714167872, -6.0993554103745105, 90.4331117522571, 13.563834285522042, -15.027573172266365, 89.0828302023359, -12.423048093099425, -16.124419556805726, 45.88254094153561, 99.64244774323247, -18.740957249044264, 5.213634859917811, 29.86456284170651, 58.83098442084578, 78.25979051858224, 18.007646356961274, 57.172348688067856, 29.416944827424224, 10.72179487058581, 44.72002227096701, -1.4740426608318948, 16.15771922984458, -16.745445337853745, -0.09742464349595537, 94.73530279028716, 36.80366681693576, 22.2220354155617, -17.843163663928692, 9.069569205082804, 10.734501162134485, 99.70319829245388, 34.78833799731299, -6.921614056380697, 70.59609336730607, 73.79440851278227, 94.8264402827842, 78.73119944106577, 25.971680744653078, 97.79525883636776, -3.786749672415173, 5.972410814698517, 99.18777460133819, 79.54732093484348, 71.90226581193254, 62.155944280443435, -0.41423511283979764, 92.36995866321357, 40.69965303483619, 54.031056039531535, 39.85742487922493, 23.076618255131052, 65.1828495543082, 76.42780003794084, -18.295474307650764, 11.968452971608833, 95.57472257860798, -10.954806943186775, 94.14065198400435, 66.61047873201923, 80.07848335045556, -1.076135731503097, 85.24085490466537, 28.06181089179458, 18.73693988466792, -3.097736672526331, 63.37602624933089, -15.342095776093515, 15.313977329663963, 74.67819304745716, 10.757156462552786, 56.94958122629484, -15.026979245359415, 1.2255742636138223, 58.837191082029676, 27.648228419102473, 6.005727052057406, 52.525824060577435, 63.04570058988807, 56.081535908153825, 32.31501736639307, 76.17510829689559, -12.560405215351519, 25.726333521393833, 9.791674085548237, 5.807527169409994, 21.74157756712124, -14.03758021003075, 54.40884636896544, 20.969011130762922, -16.033331419754496, 29.45884998748444, 59.61745326868643, 69.91945678462285, 85.29435064114644, 70.40493835050466, -18.046666304732085, 87.65633039023126, 48.87174980348712, 21.45866406273599, -16.825599003466174, -18.30226077157416, 45.10454348673579, 94.05617825879615, 47.03778129166902, 59.04094223717249, -17.810465911033504, 89.56649250079992, -9.031226022365333, 15.948310755004542, 90.87902981462281, -0.4724412214534581, 17.36584067739004, 56.19621516981017, 21.350709042880744, 50.705751409030114, 38.10761679109976, 97.82403766920791, 58.810195801702264, -16.164525540031516, 62.76825084724884, 32.32221122365007, 88.08139381259701, 18.162636421329886, -1.114137414149063, 22.980866875815742, 77.79441976710898, -2.87110444376529, 66.913872067278, 66.20012288875276, 97.41279081892465, 66.25097344238587, 46.40324171752705, -0.3534257797216398, 92.302867712246, -6.282022684193702, -5.858683857663909, 5.084089777277661, 59.50747832589778, 54.75108584816897, 58.700231299200496, 3.0081478425092065, 25.110261723320434, 32.15870674822213, 35.074366919071934, 82.31116708544539, -9.346323396954483, 9.53597207233491, 71.02279010463265, 91.9081034476114, 45.32204672681172, 22.732772944768598, 42.61385078952619, 55.34539640149555, 11.57728593547365, 93.06620326298305, 9.044710526963982, 2.8960728188929643, 89.15460375406616, 78.06952295212528, 68.4680053841417, 82.72969802794103, 17.582145937260464, 0.9690538119838585, 53.17625776165448, 14.382641986587103, 94.43131909280409, 56.03555548145327, 6.312091696094338, 94.28931168384901, 81.86870398054033, -12.887035442893357, 69.46354485642053, -15.12758046885995, 64.78983517154533, 22.123837622866162, 23.528740616432223, 9.080307926500467, 95.90086712770339, -1.2263885798267964, 67.26426156866788, 41.94254795949416, 81.11375619812355, -1.7954518761228542, -18.797887792820653, 71.26949700098713, 51.350337666050294, 87.70540367860242, 8.54034306927447, -5.711363340745059, 66.79660598963935, 74.31999436760827, 32.262191234261614, 84.2254114094397, 18.35607084527519, 10.696121225732256, 34.1212482996776, 49.06184026352456, 67.20034804704822, 99.74534176708755, 44.74797304088, 74.86098898592766, -18.042453023191722, 18.079707296880528, 15.990300011537862, 27.996208503144807, 47.96501811645177, -5.49980173790134, 59.43298532267096, 93.85780897849584, 31.54376073233834, 14.916121692441877, -9.230474594456176, 42.551654298128845, 4.183719461295546, -13.13113268280745, 86.65267084946544, 24.66304801924256, 33.089093902472236, 58.10698815581813, -17.449542363224445, 23.684204564740135, -1.8178650528124578, 45.39295883857096, 53.81011132638517, 61.23556337267124, 10.828847193470072, 62.66571544906138, 15.14698707044279, 51.68311306987316, 20.06582316326346, 64.59040630725663, 4.679835196614821, 87.47814133084941, 98.8404164073652, 30.35286193146473, 37.96861586894878, 56.70726233529163, -10.622839604745122, 71.3372328444785, 32.02080156388246, 59.70497158277675, -11.085417615138686, 71.891007600781, 52.23397795464666, 62.64315151696752, 27.423852066496643, 46.32771598791169, -7.294280769790152, 49.512255249987064, 4.4410617903594485, -11.654266120524843, 42.14474911677339, 88.95713175805872, -15.540310120942058, 76.31355536751424, -9.811715547829039, 40.77156380126265, 2.3193936034664056, 60.63413086696907, 49.96535680620751, -15.996212013939486, 36.325213054343536, 40.19313580574822, 33.22529049289215, 5.972793085210736, 98.11278915947995, 13.7920729996208, 54.175368545806435, 97.73135601068216, 41.99770987407882, -6.530577106555654, 48.19487924464917, 26.48281994532435, -12.202754753294617, -4.980273717531002, 30.085952194773157, 73.14082986304267, 76.93205719090086, 10.906232872827776, 89.7577903554465, -12.260838251817558, 66.67443222775788, 32.8863837197437, -9.269905090188919, 50.0174110868048, -8.102475344378943, 78.11428670548328, 78.60205517736426, 21.507110548950173, 41.218918637905425, 54.55684504266799, 63.83972075910444, 23.952564794436043, 82.08551239234158, 57.82066934277333, -14.85516315983094, 29.58745775492978, 15.023798358674156, 59.55115570300491, -2.254683526222937, 72.37038616658307, 89.36290078935242, -13.801551496329001, 9.949209918697385, 54.65753883905276, 99.30102324603045, -6.458550196547282, 60.64075400746103, 78.47456959967052, 69.1784036380545, 54.84002779551567, 84.4234507098216, -6.461532522339271, 38.29043630469391, 33.830036191449715, 46.49059204054234, 69.53025488018021, -6.314833139512688, 93.78451621903518, 50.097413087682185, 70.18808140229544, 43.58038627500265, 99.29056174605498, 64.48318839462505, -8.206961351405916, 85.33265450678365, -9.442497527220572, -9.461750402736344, 27.966043096124046, 80.31951533006878, 66.07074448604284, 74.2154990949886, 83.2926091394052, 84.28659714809581, 27.82083911497282, 31.795087392272556, 63.93530818957052, 44.09722518224332, 18.677243168939583, -17.385048060665397, 95.85087882890203, 45.44589648935303, 21.804445197018538, 10.755851358965263, 80.15075767918495, 28.211698771179655, 22.17726022759375, 43.851871661419814, 56.04348385968551, 49.329044732143856, 50.459569109257984, 75.46231904409133, -8.437910646823056, 93.90368291352239, 81.32421898304335, 32.17437447065053, 90.89490400821018, 73.63166490889273, 2.2116074223590907, 24.75792227036117, 20.31826004768301, 96.5290679749832, 30.837834878772263, 8.735771174803723, 83.96475851700455, 45.513137038784706, 33.411641872182514, 27.53203693937848, 68.92027942811498, 29.260664207225766, 99.20788952142277, 57.78284277386179, 4.657610574834688, 86.54169528077621, 48.483479613659625, 41.441543289890284, -3.628441420264224, -11.124155071075625, 24.05881384959561, 73.72161754855324, 52.27559852792476, 90.29087423807142, 98.83521931943172, 59.072449685267316, 61.02156353957153, 86.39365542886988, -1.2609258866128847, 33.852987121386946, 55.922523442658814, 46.2080931113974, 81.82949455357607, -19.10475882703777, 91.1532853480958, 94.47362102843806, 13.197789104076719, 81.0610897797211, 18.23420876883582, 35.771835495039184, 68.25633902415245, -14.208435296614272, 99.19655067431022, -19.161011590878264, 97.18418663418741, 38.39621268754113, 76.6802199234456, 2.2088820701901497, 82.3548019527705, 46.438045515763946, 24.813958769823124, 28.664166533612736, 72.91004594369917, 28.347141456008387, -17.047033924741083, 99.10699118651185, -12.750878659087835, 59.32871194657078, 8.510592070129675, 27.210611680685275, 45.352929248934714, 19.794068912970744, 28.404514921172165, 98.95834886131067, 16.53069656828758, 63.794670643223995, 12.891401455894815, 23.636288070904, 19.917598373022088, 64.09965711923539, 68.84091511222266, 47.82194372267591, 30.237414061436446, 36.87554862113264, 56.85009720351377, -9.921747805519345, 71.33611655261801, 25.362942255931067, 91.78615071943761, 42.75475676096197, 98.12321281116756, -15.286966409155141, 36.60306017709008, 87.54171150327144, 1.997579506739683, 25.414328474186817, 19.73263993757928, 19.447896162458377, 24.83965603490028, 12.886035426338317, 2.219140894081548, 47.152977978994286, 85.84779612823105, -10.543370089265348, 86.85851331403707, 19.721531891220806, 4.506153547494364, 71.63116328729714, -5.92822991334225, -7.726303221565395, 79.37734566880108, 28.66636109640087, 76.59617329309714, 92.85511032579363, -2.5396400091767077, 63.576483604809965, 34.66362259381446, -3.6760247949231655, -7.412350956009401, 16.62800679505849, 77.79507332182457, -10.174002771867325, 75.73569088507836, 26.30758611094292, -17.442715526866465, 15.145507771044237, -18.24670282179669, 76.04063168809061, 93.02484302418226, -17.153947620207116, 96.64744339267517, 19.662295420682426, 6.847502173953735, 48.23457961265265, 56.107464525664355, 2.2859189828232047, 30.39408283240767, -19.965797931508156, 34.27269250237699, 63.84410859361536, 98.23890203283794, 79.23209262582274, 17.56391118195657, 21.091818900806473, 47.02459371945905, 34.228357067091515, 19.670568176578627, 51.99753812059002, 86.01495994460637, 90.92647934490857, -16.848163673175588, -5.457934042511452, 91.81333172667038, 75.05195903863707, 6.214320881536025, 9.336737152726386, 11.304802046433938, -15.929565195792318, 16.297090707653155, 40.616954077554716, 5.7542686665085085, -15.945882580415258, -16.284790281140896, 83.83206054557365, -0.1949233940854711, 26.260872946990062, -6.621922175013445, 60.903436062972915, -16.990198230030057, 2.769630899010277, -6.943406923907123, 41.41351341752441, 3.08232732154395, 93.4761760189444, -9.895760720325812, 96.85296134069468, -3.468042480859637, -10.199940554419381, 51.17519776658452, 73.37181032542021, 76.34675323986502, 82.77297635222241, 48.58051160158679, 81.87315347448036, 99.1811044716932, 76.51543252623198, 74.37293859204728, 74.81163324176309, 56.56442086369829, 44.565618120978584, 44.4081711648961, 35.95364916633101, 73.25349387254712, 54.42823579608351, 51.897942182246425, 22.32807514401746, 67.68179793670186, 95.88258427292372, -18.22690936619682, 60.55820699903795, 94.04766946020203, 73.21477995550605, 91.03458683586719, 87.8125128247076, 82.6087179137613, 40.98062210217498, 14.169598149033021, 6.494153108468971, 94.95946602231999, 84.56992773511314, 27.214276223581194, 45.56756786847623, 53.65055963102745, -4.069858072398205, 91.54296144659004, -14.942454093381974, -1.9965891803287619, 85.03757892626534, -2.0339319678577255, 37.732847768943444, 5.581457332153601, 18.463385934087654, 69.6186899928214, -18.64171266622515, 48.052444610908765, 64.6519512603783, 37.6492236153688, 65.09067537452052, 48.231394572886416, 29.017783975549932, -1.2076482303295712, 84.17247401256027, -18.610309916318815, 61.42435819190467, 23.974524161134262, 35.853640015774936, 4.53377964347704, 64.97346120608655, 39.944866776987006, 56.32322360957269, -1.4483850595075225, 75.57725958961231, -19.721391893534328, -15.202401737617567, 86.1500773680478, -2.875256944039247, 18.749336071222174, 5.750445527907701, 34.56867505355717, 62.40304683887821, 41.79185307949075, 40.70401935574226, 19.489486285257264, 99.37591268759381, 82.57303857726176, -12.1410691223958, 93.92806494499577, -13.532868843445037, 84.76760117814325, 61.06953608835774, 99.78920617649402, 90.61634408795045, 36.67848642718904, 7.3738468982982255, 57.190604127497494, 4.255454360387127, 29.311228506861923, 31.575510899541833, 90.63263931404205, -15.337848992467716, 58.56123428499714, 63.81180059937233, 94.81239398769179, 62.46491003603823, -0.5181341776055994, 74.47801832609072, 21.000463757691406, -8.050002568544574, 50.80598336996866, 78.25502202464148, 78.82333536750812, 0.3128656054555279, 31.139421041624388, 2.350081419439526, 46.020731265215005, 57.05200585171124, 32.16792732990821, 22.437897488046865, 63.634569943710716, 20.191266202267315, -13.095764601734121, -9.99290352053797, 4.546081236811453, -12.977113727761296, 38.587995102427115, 39.30672289718796, -13.016026513838227, -12.216555102314386, 85.64218149693063, 99.65406275807105, -8.646153374351151, 99.61853839042693, -16.292955352057874, -17.383116717695604, 3.742763434743047, 76.16427548104733, 99.25935721470327, 89.05690998337394, 38.05777641457054, -13.719462397352014, 37.142358531886885, 49.75935240287356, 55.57241835728449, 71.90040499281581, -12.391313728219808, 20.578591514294963, -3.6155899291527263, -12.736207459797315, 40.33223262117803, -19.76135817592454, 50.347957046003344, 36.80925429363407, 88.0728639715771, 19.03389239224434, 5.8793073464893055, -14.996951384404635, 33.12847937391751, 21.2719986440313, 25.676492772855603, 12.589817852894292, -10.181279439170012, 60.34317244005386, 89.48925132143343, 52.678542182898326, 14.653861902412523, 49.14812037209522, 69.11576087465136, 57.446397950653036, -8.837144078080769, 9.37240316157822, 48.48460562910701, -13.082659566658972, 37.92863767809059, -3.089561004398206, -11.933492278076159, 66.39113139971136, 4.933844939847667, 90.76343705005392, 17.747919334491286, 99.4921505708754, 50.71724266322741, 66.96468650889015, 21.981762109507017, -1.2985728494417046, -12.375143881741915, 55.34369478758093, 64.77406713205636, 76.34361110528238, -15.159326977736827, 89.72575449577403, -18.031560322983196, 0.5732237061493848, 15.580246610253695, 89.01121825790686, 91.15572619353571, 43.66445198836441, 7.473768063377836, -2.59805003260254, -4.274019039762621, 99.70213047585626, 47.56644396735361, 9.069949070037893, 34.6352786458447, 73.95637792945705, 81.76128249465874, 58.90073633112439, 11.28488171451928, -18.881336426547417, 85.80469882620064]\n"
          ]
        }
      ],
      "source": [
        "hourly_temp_F = np.random.uniform(low =-20., high= 100., size = 30000)\n",
        "\n",
        "len(hourly_temp_F)\n",
        "hourly_f_list = hourly_temp_F.tolist()\n",
        "print(hourly_f_list)"
      ]
    },
    {
      "cell_type": "code",
      "execution_count": null,
      "metadata": {
        "colab": {
          "base_uri": "https://localhost:8080/"
        },
        "id": "OzeEwtyBx6Nv",
        "outputId": "153a2085-2f93-42f1-f5bd-75f4dc6481ea"
      },
      "outputs": [
        {
          "name": "stdout",
          "output_type": "stream",
          "text": [
            "CPU times: user 3.8 ms, sys: 0 ns, total: 3.8 ms\n",
            "Wall time: 3.76 ms\n"
          ]
        }
      ],
      "source": [
        "%%time\n",
        "\n",
        "hourly_temp_C = list()\n",
        "for temp in hourly_f_list:\n",
        "  hourly_temp_C.append((temp-32)*(5/9))"
      ]
    },
    {
      "cell_type": "code",
      "execution_count": null,
      "metadata": {
        "colab": {
          "base_uri": "https://localhost:8080/"
        },
        "id": "zwurv-1VyODG",
        "outputId": "afaa417f-785e-441c-976c-56b8afb3db96"
      },
      "outputs": [
        {
          "name": "stdout",
          "output_type": "stream",
          "text": [
            "CPU times: user 1.3 ms, sys: 0 ns, total: 1.3 ms\n",
            "Wall time: 1.02 ms\n"
          ]
        }
      ],
      "source": [
        "%%time\n",
        "\n",
        "hourly_temp_C = (hourly_temp_F-32)*(5/9)"
      ]
    },
    {
      "cell_type": "code",
      "execution_count": null,
      "metadata": {
        "id": "OhO_ogqmyc4A"
      },
      "outputs": [],
      "source": []
    },
    {
      "cell_type": "markdown",
      "metadata": {
        "id": "mBrEfIqClTa7"
      },
      "source": [
        "# 5th April 2025"
      ]
    },
    {
      "cell_type": "code",
      "execution_count": null,
      "metadata": {
        "id": "sEYoTTMulWnD"
      },
      "outputs": [],
      "source": [
        "import pandas as pd"
      ]
    },
    {
      "cell_type": "code",
      "execution_count": null,
      "metadata": {
        "id": "i5JSgz2dlmkh"
      },
      "outputs": [],
      "source": [
        "data = {\n",
        "    'name': [\"\", \"\", \"\", \"\", \"\", \"\", \"\"],\n",
        "    'city': [\"\", \"\", \"\", \"\", \"\", \"\", \"\"],\n",
        "    'age' : [41,28,33,34,38,31,37"
      ]
    },
    {
      "cell_type": "code",
      "execution_count": null,
      "metadata": {
        "id": "JXFRsLG6PuZd"
      },
      "outputs": [],
      "source": [
        "a = 10\n",
        "b = 5.1\n",
        "add = a+b"
      ]
    },
    {
      "cell_type": "code",
      "execution_count": null,
      "metadata": {
        "colab": {
          "base_uri": "https://localhost:8080/"
        },
        "id": "X9jy9mKhPy7r",
        "outputId": "eed2f4ef-00f5-4fe8-abc7-d5d0c6b42983"
      },
      "outputs": [
        {
          "name": "stdout",
          "output_type": "stream",
          "text": [
            "15.1\n"
          ]
        }
      ],
      "source": [
        "print(add)\n"
      ]
    },
    {
      "cell_type": "code",
      "execution_count": null,
      "metadata": {
        "colab": {
          "base_uri": "https://localhost:8080/"
        },
        "id": "kED1WjoHP2Lc",
        "outputId": "3680354c-56c7-4943-a44b-5aa49c490677"
      },
      "outputs": [
        {
          "data": {
            "text/plain": [
              "True"
            ]
          },
          "execution_count": 3,
          "metadata": {},
          "output_type": "execute_result"
        }
      ],
      "source": [
        "5 ==(3+2)"
      ]
    },
    {
      "cell_type": "code",
      "execution_count": null,
      "metadata": {
        "colab": {
          "base_uri": "https://localhost:8080/"
        },
        "id": "TbqRmZ41P7ds",
        "outputId": "a204fa7f-37f8-4f61-ef9d-6be232dc889e"
      },
      "outputs": [
        {
          "name": "stdout",
          "output_type": "stream",
          "text": [
            "36\n"
          ]
        }
      ],
      "source": [
        "a = 3\n",
        "print(a + (33))"
      ]
    },
    {
      "cell_type": "code",
      "execution_count": null,
      "metadata": {
        "colab": {
          "base_uri": "https://localhost:8080/",
          "height": 159
        },
        "id": "zM4IIsSj8m1d",
        "outputId": "ebd2af56-dff7-4c7b-bb19-023ce07b04d3"
      },
      "outputs": [
        {
          "ename": "TypeError",
          "evalue": "arange() takes from 0 to 4 positional arguments but 10 were given",
          "output_type": "error",
          "traceback": [
            "\u001b[0;31m---------------------------------------------------------------------------\u001b[0m",
            "\u001b[0;31mTypeError\u001b[0m                                 Traceback (most recent call last)",
            "\u001b[0;32m<ipython-input-5-2b9505eb2394>\u001b[0m in \u001b[0;36m<cell line: 0>\u001b[0;34m()\u001b[0m\n\u001b[0;32m----> 1\u001b[0;31m \u001b[0mdemo_array\u001b[0m \u001b[0;34m=\u001b[0m \u001b[0mnp\u001b[0m\u001b[0;34m.\u001b[0m\u001b[0marange\u001b[0m\u001b[0;34m(\u001b[0m\u001b[0;36m1\u001b[0m\u001b[0;34m,\u001b[0m \u001b[0;36m2\u001b[0m\u001b[0;34m,\u001b[0m \u001b[0;36m3\u001b[0m\u001b[0;34m,\u001b[0m \u001b[0;36m4\u001b[0m\u001b[0;34m,\u001b[0m \u001b[0;36m5\u001b[0m\u001b[0;34m,\u001b[0m \u001b[0;36m6\u001b[0m\u001b[0;34m,\u001b[0m \u001b[0;36m7\u001b[0m\u001b[0;34m,\u001b[0m \u001b[0;36m8\u001b[0m\u001b[0;34m,\u001b[0m \u001b[0;36m9\u001b[0m\u001b[0;34m,\u001b[0m \u001b[0;36m10\u001b[0m\u001b[0;34m)\u001b[0m\u001b[0;34m\u001b[0m\u001b[0;34m\u001b[0m\u001b[0m\n\u001b[0m\u001b[1;32m      2\u001b[0m \u001b[0mdemo_array\u001b[0m\u001b[0;34m[\u001b[0m\u001b[0;36m1\u001b[0m\u001b[0;34m:\u001b[0m\u001b[0;36m7\u001b[0m\u001b[0;34m]\u001b[0m \u001b[0;34m=\u001b[0m \u001b[0;36m5\u001b[0m\u001b[0;34m\u001b[0m\u001b[0;34m\u001b[0m\u001b[0m\n",
            "\u001b[0;31mTypeError\u001b[0m: arange() takes from 0 to 4 positional arguments but 10 were given"
          ]
        }
      ],
      "source": [
        "demo_array = np.arange(1, 2, 3, 4, 5, 6, 7, 8, 9, 10)\n",
        "demo_array[1:7] = 5"
      ]
    },
    {
      "cell_type": "code",
      "execution_count": null,
      "metadata": {
        "colab": {
          "base_uri": "https://localhost:8080/"
        },
        "id": "Ko7AY_x69tVo",
        "outputId": "e9076d9a-1627-4faf-ae65-1eacc77a113f"
      },
      "outputs": [
        {
          "data": {
            "text/plain": [
              "np.int64(5)"
            ]
          },
          "execution_count": 7,
          "metadata": {},
          "output_type": "execute_result"
        }
      ],
      "source": [
        "import pandas as pd\n",
        "\n",
        "flowers = pd.Series([2,3,5,4], index = ['lily', 'rose', 'daisy', 'lotus'])\n",
        "flowers['daisy']"
      ]
    },
    {
      "cell_type": "code",
      "execution_count": null,
      "metadata": {
        "colab": {
          "base_uri": "https://localhost:8080/"
        },
        "id": "91dF5QpI9FuZ",
        "outputId": "8fb5522c-ac83-4234-b7ef-481d9f3bc209"
      },
      "outputs": [
        {
          "data": {
            "text/plain": [
              "array([ True,  True,  True, False, False, False, False, False, False,\n",
              "       False])"
            ]
          },
          "execution_count": 4,
          "metadata": {},
          "output_type": "execute_result"
        }
      ],
      "source": [
        "import numpy as np\n",
        "demo_array = np.arange(0,10)\n",
        "demo_array <3"
      ]
    },
    {
      "cell_type": "code",
      "execution_count": null,
      "metadata": {
        "colab": {
          "base_uri": "https://localhost:8080/"
        },
        "id": "elo4pTph9uUc",
        "outputId": "c30447c6-cce9-49de-ec8c-e4ac857292c3"
      },
      "outputs": [
        {
          "data": {
            "text/plain": [
              "array([[1, 2, 3],\n",
              "       [4, 5, 6],\n",
              "       [7, 8, 9]])"
            ]
          },
          "execution_count": 1,
          "metadata": {},
          "output_type": "execute_result"
        }
      ],
      "source": [
        "import numpy as np\n",
        "np.arange(start = 1, stop = 10, step =1).reshape(3,3)"
      ]
    },
    {
      "cell_type": "code",
      "execution_count": null,
      "metadata": {
        "colab": {
          "base_uri": "https://localhost:8080/"
        },
        "id": "2JsPNgT2-Eih",
        "outputId": "935c1171-8cd9-4e5c-9e71-92d12860d310"
      },
      "outputs": [
        {
          "name": "stdout",
          "output_type": "stream",
          "text": [
            "[ 0.  4.  8. 12. 16. 20.]\n"
          ]
        }
      ],
      "source": [
        "import numpy as np\n",
        "array_1 = np.linspace(0,20,6)\n",
        "print(array_1)"
      ]
    },
    {
      "cell_type": "code",
      "execution_count": null,
      "metadata": {
        "colab": {
          "base_uri": "https://localhost:8080/"
        },
        "id": "wTiDmSdVDHOQ",
        "outputId": "ba98cdd0-c857-42b9-b6b7-5b1ed49058e6"
      },
      "outputs": [
        {
          "name": "stdout",
          "output_type": "stream",
          "text": [
            "[[1786 1880 3017]\n",
            " [2725 2933 4712]\n",
            " [3862 4220 6785]]\n"
          ]
        }
      ],
      "source": [
        "import numpy as np\n",
        "\n",
        "n1 = np.matrix([[121,144,169], [196,225,256],[289,324,361]])\n",
        "n2 = np.matrix([[1,4,9], [1,5,4], [9,4,8]])\n",
        "\n",
        "print(n1*n2)"
      ]
    },
    {
      "cell_type": "code",
      "execution_count": null,
      "metadata": {
        "colab": {
          "base_uri": "https://localhost:8080/"
        },
        "id": "X3zGZKRt-PZx",
        "outputId": "6290edf0-58e9-447b-f45f-aa6d17e98c58"
      },
      "outputs": [
        {
          "name": "stdout",
          "output_type": "stream",
          "text": [
            "21\n"
          ]
        }
      ],
      "source": [
        "import numpy as np\n",
        "\n",
        "array_1 = np.array([1,2,3,5,8])\n",
        "array_2 = np.array([0,3,4,2,1])\n",
        "\n",
        "c = array_1 +array_2\n",
        "final = c * array_1\n",
        "\n",
        "print(final[2])"
      ]
    },
    {
      "cell_type": "code",
      "execution_count": null,
      "metadata": {
        "id": "QUBTQDPwDFOw"
      },
      "outputs": [],
      "source": []
    },
    {
      "cell_type": "code",
      "execution_count": null,
      "metadata": {
        "colab": {
          "base_uri": "https://localhost:8080/"
        },
        "id": "Kuyzo0FhAJnZ",
        "outputId": "f5bb364d-b37c-44b9-ef51-e8962169ab46"
      },
      "outputs": [
        {
          "name": "stdout",
          "output_type": "stream",
          "text": [
            "[1, 2, 3, 4, 5, 6]\n"
          ]
        }
      ],
      "source": [
        "a = [1,2,3]\n",
        "b= [4,5,6]\n",
        "c = a+b\n",
        "print(c)"
      ]
    },
    {
      "cell_type": "code",
      "execution_count": null,
      "metadata": {
        "id": "UGd8DJO7ASd4"
      },
      "outputs": [],
      "source": []
    },
    {
      "cell_type": "code",
      "execution_count": null,
      "metadata": {
        "colab": {
          "base_uri": "https://localhost:8080/",
          "height": 158
        },
        "id": "aNrmzAtzQEOb",
        "outputId": "2a5f8c73-5748-4ab5-b422-f63b1089111a"
      },
      "outputs": [
        {
          "ename": "ValueError",
          "evalue": "invalid literal for int() with base 10: '5a'",
          "output_type": "error",
          "traceback": [
            "\u001b[0;31m---------------------------------------------------------------------------\u001b[0m",
            "\u001b[0;31mValueError\u001b[0m                                Traceback (most recent call last)",
            "\u001b[0;32m<ipython-input-5-ae0dd5c17f09>\u001b[0m in \u001b[0;36m<cell line: 0>\u001b[0;34m()\u001b[0m\n\u001b[1;32m      1\u001b[0m \u001b[0ma\u001b[0m \u001b[0;34m=\u001b[0m \u001b[0;34m'5a'\u001b[0m\u001b[0;34m\u001b[0m\u001b[0;34m\u001b[0m\u001b[0m\n\u001b[0;32m----> 2\u001b[0;31m \u001b[0mint\u001b[0m\u001b[0;34m(\u001b[0m\u001b[0ma\u001b[0m\u001b[0;34m)\u001b[0m\u001b[0;34m\u001b[0m\u001b[0;34m\u001b[0m\u001b[0m\n\u001b[0m",
            "\u001b[0;31mValueError\u001b[0m: invalid literal for int() with base 10: '5a'"
          ]
        }
      ],
      "source": [
        "a = '5a'\n",
        "int(a)"
      ]
    },
    {
      "cell_type": "code",
      "execution_count": null,
      "metadata": {
        "colab": {
          "base_uri": "https://localhost:8080/"
        },
        "id": "bQ-GSqQMQbhm",
        "outputId": "f9c48422-c162-4fc3-b298-e66b90ba2333"
      },
      "outputs": [
        {
          "name": "stdout",
          "output_type": "stream",
          "text": [
            "1225.0\n"
          ]
        }
      ],
      "source": [
        "v = 10\n",
        "w = 25\n",
        "x = 70\n",
        "y = 2\n",
        "z = (v+w)*(x/y)\n",
        "print(z)"
      ]
    },
    {
      "cell_type": "code",
      "execution_count": null,
      "metadata": {
        "colab": {
          "base_uri": "https://localhost:8080/"
        },
        "id": "MxzkieDnQsLb",
        "outputId": "8117aa50-4f93-4388-915e-5723960b7bac"
      },
      "outputs": [
        {
          "name": "stdout",
          "output_type": "stream",
          "text": [
            "A and B before swapping 10, 5\n",
            "A and B after swapping 10, 5\n"
          ]
        }
      ],
      "source": [
        "a = 10\n",
        "b = 5\n",
        "print(\"A and B before swapping {}, {}\". format(a,b))\n",
        "temp = a\n",
        "temp = b\n",
        "b= temp\n",
        "print(\"A and B after swapping {}, {}\".format(a,b))"
      ]
    },
    {
      "cell_type": "code",
      "execution_count": null,
      "metadata": {
        "colab": {
          "base_uri": "https://localhost:8080/",
          "height": 36
        },
        "id": "USON949oRpEL",
        "outputId": "d0fc182e-8e82-43c1-e35c-99847478a90e"
      },
      "outputs": [
        {
          "data": {
            "application/vnd.google.colaboratory.intrinsic+json": {
              "type": "string"
            },
            "text/plain": [
              "'c'"
            ]
          },
          "execution_count": 14,
          "metadata": {},
          "output_type": "execute_result"
        }
      ],
      "source": [
        "list = ['a','b','c','d']\n",
        "\n",
        "list[-2]"
      ]
    },
    {
      "cell_type": "code",
      "execution_count": null,
      "metadata": {
        "colab": {
          "base_uri": "https://localhost:8080/"
        },
        "id": "3de_JcSGSR9Z",
        "outputId": "d72ba258-7c88-4274-c1ef-6e9b6734d33c"
      },
      "outputs": [
        {
          "name": "stdout",
          "output_type": "stream",
          "text": [
            "[2, 2, 2, 2]\n"
          ]
        }
      ],
      "source": [
        "a = [2] *4\n",
        "print(a)"
      ]
    },
    {
      "cell_type": "code",
      "execution_count": null,
      "metadata": {
        "colab": {
          "base_uri": "https://localhost:8080/"
        },
        "id": "nVytfEIcSeE2",
        "outputId": "1a7c6686-04f1-4c43-8632-0840197c540c"
      },
      "outputs": [
        {
          "name": "stdout",
          "output_type": "stream",
          "text": [
            "oran\n"
          ]
        }
      ],
      "source": [
        "b = ['app', 'oran', 'grap', 'water']\n",
        "print(b[1])"
      ]
    },
    {
      "cell_type": "code",
      "execution_count": null,
      "metadata": {
        "colab": {
          "base_uri": "https://localhost:8080/"
        },
        "id": "NH6Hp-qaS6nX",
        "outputId": "bfa9b69c-6c26-4aa7-c3c2-bca9e3ba7ee7"
      },
      "outputs": [
        {
          "name": "stdout",
          "output_type": "stream",
          "text": [
            "['straw', 'oran', 'grap', 'water']\n"
          ]
        }
      ],
      "source": [
        "b = ['app', 'oran', 'grap', 'water']\n",
        "b[0] =\"straw\"\n",
        "print(b)"
      ]
    },
    {
      "cell_type": "code",
      "execution_count": null,
      "metadata": {
        "colab": {
          "base_uri": "https://localhost:8080/"
        },
        "id": "3Ufg83feTmUI",
        "outputId": "2b0ec9a2-d6ad-4a08-d19d-dbe8fdb0434f"
      },
      "outputs": [
        {
          "name": "stdout",
          "output_type": "stream",
          "text": [
            "a\n",
            "b\n",
            "c\n"
          ]
        }
      ],
      "source": [
        "alpha = ['a', 'b', 'c' ]\n",
        "for i in alpha:\n",
        "  print(i)"
      ]
    },
    {
      "cell_type": "code",
      "execution_count": null,
      "metadata": {
        "colab": {
          "base_uri": "https://localhost:8080/"
        },
        "id": "YD_YV3eET8Mo",
        "outputId": "d4cc8683-b4b9-440b-9509-afc575be78d0"
      },
      "outputs": [
        {
          "name": "stdout",
          "output_type": "stream",
          "text": [
            "1\n",
            "8916100448256\n",
            "1333735776850284124449081472843776\n",
            "106387358923716524807713475752456393740167855629859291136\n",
            "285311670611\n",
            "104857600000000000000000000\n",
            "8881784197001252323389053344726562500000000000000000000000000000000000000000000000000\n"
          ]
        }
      ],
      "source": [
        "number = [1,12,24,36,11,20,50]\n",
        "for i in number:\n",
        "  sq = i ** i\n",
        "  print(sq)"
      ]
    },
    {
      "cell_type": "code",
      "execution_count": null,
      "metadata": {
        "colab": {
          "base_uri": "https://localhost:8080/"
        },
        "id": "pW3-mFc1UciA",
        "outputId": "152fcb0a-e2d7-47d2-c64c-1d4c753f2031"
      },
      "outputs": [
        {
          "data": {
            "text/plain": [
              "7"
            ]
          },
          "execution_count": 33,
          "metadata": {},
          "output_type": "execute_result"
        }
      ],
      "source": [
        "color = [\"w\", \"r\", \"b\", \"g\", \"bl\", \"ye\", \"bla\"]\n",
        "len(color)"
      ]
    },
    {
      "cell_type": "code",
      "execution_count": null,
      "metadata": {
        "colab": {
          "base_uri": "https://localhost:8080/"
        },
        "id": "O_HQIe21U-lm",
        "outputId": "66a21d8f-231f-4dd9-eab4-61a5e277eb47"
      },
      "outputs": [
        {
          "name": "stdout",
          "output_type": "stream",
          "text": [
            "{'brand': 'Audi', 'model': 'Q2', 'year': 1980}\n"
          ]
        }
      ],
      "source": [
        "car = {\"brand\" : \"Audi\", \"model\" : \"Q2\", \"year\" : 1980}\n",
        "print(car)"
      ]
    },
    {
      "cell_type": "code",
      "execution_count": null,
      "metadata": {
        "colab": {
          "base_uri": "https://localhost:8080/"
        },
        "id": "fD2KaiNDVjzR",
        "outputId": "a11f5268-687b-4ccd-dd80-9f7fb36fdf34"
      },
      "outputs": [
        {
          "name": "stdout",
          "output_type": "stream",
          "text": [
            "{'brand': 'Audi', 'model': 'Q2', 'year': 2019}\n"
          ]
        }
      ],
      "source": [
        "car = {\"brand\" : \"Audi\", \"model\" : \"Q2\", \"year\" : 1980}\n",
        "car[\"year\"] = 2019\n",
        "print(car)"
      ]
    },
    {
      "cell_type": "code",
      "execution_count": null,
      "metadata": {
        "colab": {
          "base_uri": "https://localhost:8080/"
        },
        "id": "OFWCFpxMVyKg",
        "outputId": "419362f6-55d2-49fc-8a99-44fe909edb3a"
      },
      "outputs": [
        {
          "name": "stdout",
          "output_type": "stream",
          "text": [
            "Good Bye\n"
          ]
        }
      ],
      "source": [
        "a = 56\n",
        "if a ==10:\n",
        "  print(\"Hello\")\n",
        "else:\n",
        "  print(\"Good Bye\")"
      ]
    },
    {
      "cell_type": "code",
      "execution_count": null,
      "metadata": {
        "colab": {
          "base_uri": "https://localhost:8080/"
        },
        "id": "KX_nYBg5WDue",
        "outputId": "cf3186b9-0655-46b9-c9a8-6d32478c8155"
      },
      "outputs": [
        {
          "name": "stdout",
          "output_type": "stream",
          "text": [
            "Number is Even\n"
          ]
        }
      ],
      "source": [
        "a = 2020\n",
        "if a % 2 ==0:\n",
        "  print(\"Number is Even\")\n",
        "else:\n",
        "  print(\"Number is Odd\")"
      ]
    },
    {
      "cell_type": "code",
      "execution_count": null,
      "metadata": {
        "colab": {
          "base_uri": "https://localhost:8080/"
        },
        "id": "YXhswrSfWVh9",
        "outputId": "48068bd4-d5bd-441d-cff4-8ae15b2213da"
      },
      "outputs": [
        {
          "name": "stdout",
          "output_type": "stream",
          "text": [
            "Area of the rectangle is greater than the Perimeter of the rectangle\n"
          ]
        }
      ],
      "source": [
        "l = 5\n",
        "b = 10\n",
        "\n",
        "Area = l*b\n",
        "Perimeter = 2 * (l + b)\n",
        "\n",
        "if Area > Perimeter:\n",
        "  print(\"Area of the rectangle is greater than the Perimeter of the rectangle\")\n",
        "else:\n",
        "  print(\"Perimeter of the rectangle is greater than the Area of teh rectangle\")"
      ]
    },
    {
      "cell_type": "code",
      "execution_count": null,
      "metadata": {
        "colab": {
          "base_uri": "https://localhost:8080/"
        },
        "id": "jHgxyk8eW7vR",
        "outputId": "0a28caf6-0c6f-4fd3-f682-1f5f19879395"
      },
      "outputs": [
        {
          "name": "stdout",
          "output_type": "stream",
          "text": [
            "Average = 97.5\n"
          ]
        }
      ],
      "source": [
        "m1 = 72\n",
        "m2 = 85\n",
        "m3 = 96\n",
        "m4 = 42\n",
        "m5 = 95\n",
        "avg = (m1 + m2+ m3 + m4 + m5) / 5\n",
        "print(\"Average =\", avg)\n",
        "if avg > 90:\n",
        "  print(\"Grade A\")\n"
      ]
    },
    {
      "cell_type": "code",
      "execution_count": null,
      "metadata": {
        "colab": {
          "base_uri": "https://localhost:8080/"
        },
        "id": "kESiUM5WYB7U",
        "outputId": "d9c53368-7cbc-420d-f468-a13fb0d3ddc0"
      },
      "outputs": [
        {
          "name": "stdout",
          "output_type": "stream",
          "text": [
            "It is presemt\n"
          ]
        }
      ],
      "source": [
        "a = \"I am a Data Scientist\"\n",
        "if \"Data\" in a :\n",
        "  print(\"It is presemt\")\n",
        "else:\n",
        "  print(False)"
      ]
    },
    {
      "cell_type": "code",
      "execution_count": null,
      "metadata": {
        "colab": {
          "base_uri": "https://localhost:8080/"
        },
        "id": "HYvTN1peYRDM",
        "outputId": "8421a4a1-b299-4cf9-8ff8-7367d3fcdb0c"
      },
      "outputs": [
        {
          "name": "stdout",
          "output_type": "stream",
          "text": [
            "Number is Negative\n"
          ]
        }
      ],
      "source": [
        "a = -99\n",
        "if a > 0:\n",
        "  print(\"Number is Positive\")\n",
        "else:\n",
        "  print(\"Number is Negative\")"
      ]
    },
    {
      "cell_type": "code",
      "execution_count": null,
      "metadata": {
        "colab": {
          "base_uri": "https://localhost:8080/"
        },
        "id": "5kF-DPwbYQyK",
        "outputId": "b8fa71cf-7bf9-431e-c68c-2a8cc90d362c"
      },
      "outputs": [
        {
          "name": "stdout",
          "output_type": "stream",
          "text": [
            "X is less than Y\n"
          ]
        }
      ],
      "source": [
        "x = 20\n",
        "y = 30\n",
        "if x < y:\n",
        "  print(\"X is less than Y\")"
      ]
    },
    {
      "cell_type": "code",
      "execution_count": null,
      "metadata": {
        "colab": {
          "base_uri": "https://localhost:8080/"
        },
        "id": "z9DBopqnY7-b",
        "outputId": "e52fdfb9-9304-44e8-e6b9-c68939934ec3"
      },
      "outputs": [
        {
          "name": "stdout",
          "output_type": "stream",
          "text": [
            "enter your age: 50\n",
            "Eligible for work\n"
          ]
        }
      ],
      "source": [
        "age = int(input(\"enter your age: \"))\n",
        "if age <18:\n",
        "  print(\"Not Eligible to work\")\n",
        "elif age>= 18 and age <= 60:\n",
        "  print(\"Eligible for work\")\n",
        "else:\n",
        "  print(\"Too old to work as per teh Govt rules\")"
      ]
    },
    {
      "cell_type": "code",
      "execution_count": null,
      "metadata": {
        "colab": {
          "base_uri": "https://localhost:8080/"
        },
        "id": "IGgVmq_CZWP5",
        "outputId": "e42b9ea2-c39c-46d8-8bfe-e6002ef1e440"
      },
      "outputs": [
        {
          "name": "stdout",
          "output_type": "stream",
          "text": [
            "45\n"
          ]
        }
      ],
      "source": [
        "first = 25\n",
        "second = 34\n",
        "third = 45\n",
        "if first >= second and first >= third:\n",
        "  print(first)\n",
        "elif second >= first and second >= third:\n",
        "  print(second)\n",
        "elif third >= first and third >= second:\n",
        "  print(third)\n",
        "else:\n",
        "  print(\"All of the values are equal\")"
      ]
    },
    {
      "cell_type": "code",
      "execution_count": null,
      "metadata": {
        "colab": {
          "base_uri": "https://localhost:8080/"
        },
        "id": "lVNsOU8TbTuH",
        "outputId": "d7826848-1f2c-43b3-becf-59531e650e79"
      },
      "outputs": [
        {
          "name": "stdout",
          "output_type": "stream",
          "text": [
            "-10\n",
            "-9\n",
            "-8\n",
            "-7\n",
            "-6\n",
            "-5\n",
            "-4\n",
            "-3\n",
            "-2\n",
            "-1\n"
          ]
        }
      ],
      "source": [
        "for i in range(-10, 0, 1):\n",
        "  print(i)"
      ]
    },
    {
      "cell_type": "code",
      "execution_count": null,
      "metadata": {
        "colab": {
          "base_uri": "https://localhost:8080/"
        },
        "id": "X02QJWX1byDA",
        "outputId": "6e50c8f6-8ddf-40d0-8a0e-b79406d3bf9a"
      },
      "outputs": [
        {
          "name": "stdout",
          "output_type": "stream",
          "text": [
            "1\n",
            "3\n",
            "5\n",
            "7\n",
            "9\n"
          ]
        }
      ],
      "source": [
        "n =  10\n",
        "i = 1\n",
        "while i <= n:\n",
        "  print(i)\n",
        "  i = i + 2"
      ]
    },
    {
      "cell_type": "code",
      "execution_count": null,
      "metadata": {
        "colab": {
          "base_uri": "https://localhost:8080/"
        },
        "id": "h5t7rN_ZcNX2",
        "outputId": "87484134-b38c-4ef3-ecd0-49150bced659"
      },
      "outputs": [
        {
          "name": "stdout",
          "output_type": "stream",
          "text": [
            "2\n",
            "4\n",
            "6\n",
            "8\n",
            "10\n",
            "12\n",
            "14\n",
            "16\n",
            "18\n",
            "20\n"
          ]
        }
      ],
      "source": [
        "for i in range(1, 21):\n",
        "  if i%2 == 0:\n",
        "    print(i)"
      ]
    },
    {
      "cell_type": "code",
      "execution_count": null,
      "metadata": {
        "colab": {
          "base_uri": "https://localhost:8080/"
        },
        "id": "FFxIS4iLcbsu",
        "outputId": "e3bf24ff-b941-42c5-9733-6a69a9e6777c"
      },
      "outputs": [
        {
          "name": "stdout",
          "output_type": "stream",
          "text": [
            "8 ^ 1 =  8\n",
            "8 ^ 2 =  64\n",
            "8 ^ 3 =  512\n",
            "8 ^ 4 =  4096\n",
            "8 ^ 5 =  32768\n",
            "8 ^ 6 =  262144\n",
            "8 ^ 7 =  2097152\n",
            "8 ^ 8 =  16777216\n",
            "8 ^ 9 =  134217728\n",
            "8 ^ 10 =  1073741824\n"
          ]
        }
      ],
      "source": [
        "n = 8\n",
        "for i in range(1,11):\n",
        "  print(\"{} ^ {} = \".format(n,i), n **i)"
      ]
    },
    {
      "cell_type": "code",
      "execution_count": null,
      "metadata": {
        "colab": {
          "base_uri": "https://localhost:8080/"
        },
        "id": "ddVq1GM-cuCu",
        "outputId": "ecb2f3b3-cc16-412d-a486-61e9379e6100"
      },
      "outputs": [
        {
          "name": "stdout",
          "output_type": "stream",
          "text": [
            "1\n",
            "2\n",
            "Fizz\n",
            "4\n",
            "BUzz\n",
            "Fizz\n",
            "7\n",
            "8\n",
            "Fizz\n",
            "BUzz\n",
            "11\n",
            "Fizz\n",
            "13\n",
            "14\n",
            "FizzBuzz\n",
            "16\n",
            "17\n",
            "Fizz\n",
            "19\n",
            "BUzz\n",
            "Fizz\n",
            "22\n",
            "23\n",
            "Fizz\n",
            "BUzz\n",
            "26\n",
            "Fizz\n",
            "28\n",
            "29\n",
            "FizzBuzz\n",
            "31\n",
            "32\n",
            "Fizz\n",
            "34\n",
            "BUzz\n",
            "Fizz\n",
            "37\n",
            "38\n",
            "Fizz\n",
            "BUzz\n",
            "41\n",
            "Fizz\n",
            "43\n",
            "44\n",
            "FizzBuzz\n",
            "46\n",
            "47\n",
            "Fizz\n",
            "49\n",
            "BUzz\n",
            "Fizz\n",
            "52\n",
            "53\n",
            "Fizz\n",
            "BUzz\n",
            "56\n",
            "Fizz\n",
            "58\n",
            "59\n",
            "FizzBuzz\n",
            "61\n",
            "62\n",
            "Fizz\n",
            "64\n",
            "BUzz\n",
            "Fizz\n",
            "67\n",
            "68\n",
            "Fizz\n",
            "BUzz\n",
            "71\n",
            "Fizz\n",
            "73\n",
            "74\n",
            "FizzBuzz\n",
            "76\n",
            "77\n",
            "Fizz\n",
            "79\n",
            "BUzz\n",
            "Fizz\n",
            "82\n",
            "83\n",
            "Fizz\n",
            "BUzz\n",
            "86\n",
            "Fizz\n",
            "88\n",
            "89\n",
            "FizzBuzz\n",
            "91\n",
            "92\n",
            "Fizz\n",
            "94\n",
            "BUzz\n",
            "Fizz\n",
            "97\n",
            "98\n",
            "Fizz\n",
            "BUzz\n"
          ]
        }
      ],
      "source": [
        "for i in range(1,101):\n",
        "  if(i % 3 == 0 and i % 5 == 0):\n",
        "    print(\"FizzBuzz\")\n",
        "  elif(i % 3 ==0):\n",
        "    print(\"Fizz\")\n",
        "  elif(i %  5 == 0):\n",
        "    print(\"BUzz\")\n",
        "  else:\n",
        "    print(i)"
      ]
    },
    {
      "cell_type": "code",
      "execution_count": null,
      "metadata": {
        "colab": {
          "base_uri": "https://localhost:8080/"
        },
        "id": "85fAkPK7duWl",
        "outputId": "43b16d6b-1445-401f-9323-e7be6fa9cd8b"
      },
      "outputs": [
        {
          "name": "stdout",
          "output_type": "stream",
          "text": [
            "5050\n"
          ]
        }
      ],
      "source": [
        "sum = 0\n",
        "for i in range(1,101):\n",
        "  sum = sum + i\n",
        "print(sum)"
      ]
    },
    {
      "cell_type": "code",
      "execution_count": null,
      "metadata": {
        "colab": {
          "base_uri": "https://localhost:8080/"
        },
        "id": "5xvuI4UWeUYz",
        "outputId": "9e67c4e7-1d25-458c-c2bc-f71a5bb140c1"
      },
      "outputs": [
        {
          "name": "stdout",
          "output_type": "stream",
          "text": [
            "203\n",
            "217\n",
            "224\n",
            "231\n",
            "238\n",
            "252\n",
            "259\n",
            "266\n",
            "273\n",
            "287\n",
            "294\n",
            "301\n",
            "308\n"
          ]
        }
      ],
      "source": [
        "for i in range(202, 321):\n",
        "  if i % 7 == 0 and i % 5 != 0:\n",
        "    print(i)"
      ]
    },
    {
      "cell_type": "code",
      "execution_count": null,
      "metadata": {
        "colab": {
          "base_uri": "https://localhost:8080/"
        },
        "id": "AnSKO3vYegRL",
        "outputId": "4cfb6d94-054b-482c-8f71-9763197cd208"
      },
      "outputs": [
        {
          "name": "stdout",
          "output_type": "stream",
          "text": [
            "5\n"
          ]
        }
      ],
      "source": [
        "st = \"Data Science\"\n",
        "count = 0\n",
        "for i in st:\n",
        "  if i == \"a\" or i ==\"e\" or i ==\"i\" or i ==\"o\" or i ==\"u\":\n",
        "    count = count +1\n",
        "print(count)"
      ]
    },
    {
      "cell_type": "code",
      "execution_count": null,
      "metadata": {
        "colab": {
          "base_uri": "https://localhost:8080/"
        },
        "id": "9AE_d4Mye9NU",
        "outputId": "25c047df-2ee3-4d57-bb35-a77d79ce43d4"
      },
      "outputs": [
        {
          "name": "stdout",
          "output_type": "stream",
          "text": [
            "Data Science\n",
            "Data Science\n",
            "Data Science\n",
            "Data Science\n",
            "Data Science\n"
          ]
        }
      ],
      "source": [
        "a = \"Data Science\"\n",
        "for i in range(0,5):\n",
        "  print(a)"
      ]
    },
    {
      "cell_type": "code",
      "execution_count": null,
      "metadata": {
        "colab": {
          "base_uri": "https://localhost:8080/"
        },
        "id": "T08ZJsUzlZNv",
        "outputId": "018634a8-b42f-461e-ec80-ff110ea48816"
      },
      "outputs": [
        {
          "name": "stdout",
          "output_type": "stream",
          "text": [
            "14\n",
            "4\n",
            "45\n",
            "1\n"
          ]
        }
      ],
      "source": [
        "def mths(a,b):\n",
        "  print(a + b)\n",
        "  print(a-b)\n",
        "  print(a* b)\n",
        "  print(a // b)\n",
        "\n",
        "mths(9,5)\n"
      ]
    },
    {
      "cell_type": "code",
      "execution_count": null,
      "metadata": {
        "id": "13eljvtZl6LK"
      },
      "outputs": [],
      "source": [
        "def sq():\n",
        "  for i in range(1,11):\n",
        "    print(i ** 2)\n"
      ]
    },
    {
      "cell_type": "code",
      "execution_count": null,
      "metadata": {
        "id": "GsUJGROnmLVx"
      },
      "outputs": [],
      "source": [
        "def simple_interest(p,r,t):\n",
        "  si = (p*r*t) / 100\n",
        "  return si"
      ]
    },
    {
      "cell_type": "code",
      "execution_count": null,
      "metadata": {
        "id": "hui6divTmvWI"
      },
      "outputs": [],
      "source": [
        "def chk(a):\n",
        "  if a % 25 ==0:\n",
        "    return True\n",
        "  else:\n",
        "    print(\"Not Divisible\")"
      ]
    },
    {
      "cell_type": "code",
      "execution_count": null,
      "metadata": {
        "colab": {
          "base_uri": "https://localhost:8080/"
        },
        "id": "qOQfQv0rm-ZJ",
        "outputId": "ddd846e1-12ef-476b-8cfc-ba43926a1128"
      },
      "outputs": [
        {
          "name": "stdout",
          "output_type": "stream",
          "text": [
            "30\n"
          ]
        }
      ],
      "source": [
        "def num(x):\n",
        "  y = x * x\n",
        "  z = y + 5\n",
        "  return z\n",
        "\n",
        "print(num(5))"
      ]
    },
    {
      "cell_type": "code",
      "execution_count": null,
      "metadata": {
        "colab": {
          "base_uri": "https://localhost:8080/",
          "height": 106
        },
        "id": "NUhF_DDEnaFH",
        "outputId": "6c4c2ed5-3a39-476d-b244-188988496350"
      },
      "outputs": [
        {
          "ename": "SyntaxError",
          "evalue": "invalid syntax (<ipython-input-83-9b23ae431a84>, line 1)",
          "output_type": "error",
          "traceback": [
            "\u001b[0;36m  File \u001b[0;32m\"<ipython-input-83-9b23ae431a84>\"\u001b[0;36m, line \u001b[0;32m1\u001b[0m\n\u001b[0;31m    function = lamda x : x * 2 +5\u001b[0m\n\u001b[0m                     ^\u001b[0m\n\u001b[0;31mSyntaxError\u001b[0m\u001b[0;31m:\u001b[0m invalid syntax\n"
          ]
        }
      ],
      "source": [
        "function = lamda x : x * 2 +5"
      ]
    },
    {
      "cell_type": "code",
      "execution_count": null,
      "metadata": {
        "colab": {
          "base_uri": "https://localhost:8080/"
        },
        "id": "HXx_SOCSoCIj",
        "outputId": "8961c2b4-d1d9-4c73-ab2e-1f39e579d7c0"
      },
      "outputs": [
        {
          "data": {
            "text/plain": [
              "49"
            ]
          },
          "execution_count": 84,
          "metadata": {},
          "output_type": "execute_result"
        }
      ],
      "source": [
        "def power(a,b):\n",
        "  return a ** b\n",
        "power(7,2)"
      ]
    },
    {
      "cell_type": "code",
      "execution_count": null,
      "metadata": {
        "colab": {
          "base_uri": "https://localhost:8080/"
        },
        "id": "mEEupYZ3oTr4",
        "outputId": "98d4aa5e-969a-4ccb-b5be-9c3a5420746e"
      },
      "outputs": [
        {
          "data": {
            "text/plain": [
              "25.0"
            ]
          },
          "execution_count": 85,
          "metadata": {},
          "output_type": "execute_result"
        }
      ],
      "source": [
        "def area(b,h):\n",
        "  return 0.5 * b * h\n",
        "area(5,10)"
      ]
    },
    {
      "cell_type": "code",
      "execution_count": null,
      "metadata": {
        "colab": {
          "base_uri": "https://localhost:8080/"
        },
        "id": "FBfklnNcpL-e",
        "outputId": "393f9f4f-f1af-48cb-b0cc-8d3cd6812941"
      },
      "outputs": [
        {
          "name": "stdout",
          "output_type": "stream",
          "text": [
            "I am from Swedan\n"
          ]
        }
      ],
      "source": [
        "def greet(country):\n",
        "  print(\"I am from\", country)\n",
        "greet(\"Swedan\")"
      ]
    },
    {
      "cell_type": "code",
      "execution_count": null,
      "metadata": {
        "colab": {
          "base_uri": "https://localhost:8080/"
        },
        "id": "-MqPBnnOpVTu",
        "outputId": "61099133-43be-48d5-9a81-27d9d2196222"
      },
      "outputs": [
        {
          "name": "stdout",
          "output_type": "stream",
          "text": [
            "Temperature in F = 68.0\n"
          ]
        }
      ],
      "source": [
        "def convert(celsius):\n",
        "  fah = 1.8 * celsius + 32\n",
        "  print(\"Temperature in F =\", fah)\n",
        "convert(20)"
      ]
    },
    {
      "cell_type": "markdown",
      "metadata": {
        "id": "s42GbeQJFSDf"
      },
      "source": [
        "### April"
      ]
    },
    {
      "cell_type": "code",
      "execution_count": null,
      "metadata": {
        "colab": {
          "base_uri": "https://localhost:8080/"
        },
        "id": "uD9rmtMsFXCY",
        "outputId": "f449c9c5-be33-4308-b5d5-ca9c0665821d"
      },
      "outputs": [
        {
          "ename": "FileNotFoundError",
          "evalue": "[Errno 2] No such file or directory: 'books.csv'",
          "output_type": "error",
          "traceback": [
            "\u001b[0;31m---------------------------------------------------------------------------\u001b[0m",
            "\u001b[0;31mFileNotFoundError\u001b[0m                         Traceback (most recent call last)",
            "\u001b[0;32m<ipython-input-1-756aa80d29bf>\u001b[0m in \u001b[0;36m<cell line: 0>\u001b[0;34m()\u001b[0m\n\u001b[1;32m      2\u001b[0m \u001b[0;32mimport\u001b[0m \u001b[0mnumpy\u001b[0m \u001b[0;32mas\u001b[0m \u001b[0mnp\u001b[0m\u001b[0;34m\u001b[0m\u001b[0;34m\u001b[0m\u001b[0m\n\u001b[1;32m      3\u001b[0m \u001b[0;34m\u001b[0m\u001b[0m\n\u001b[0;32m----> 4\u001b[0;31m \u001b[0mpd\u001b[0m\u001b[0;34m.\u001b[0m\u001b[0mread_csv\u001b[0m\u001b[0;34m(\u001b[0m\u001b[0;34m\"books.csv\"\u001b[0m\u001b[0;34m)\u001b[0m\u001b[0;34m\u001b[0m\u001b[0;34m\u001b[0m\u001b[0m\n\u001b[0m",
            "\u001b[0;32m/usr/local/lib/python3.11/dist-packages/pandas/io/parsers/readers.py\u001b[0m in \u001b[0;36mread_csv\u001b[0;34m(filepath_or_buffer, sep, delimiter, header, names, index_col, usecols, dtype, engine, converters, true_values, false_values, skipinitialspace, skiprows, skipfooter, nrows, na_values, keep_default_na, na_filter, verbose, skip_blank_lines, parse_dates, infer_datetime_format, keep_date_col, date_parser, date_format, dayfirst, cache_dates, iterator, chunksize, compression, thousands, decimal, lineterminator, quotechar, quoting, doublequote, escapechar, comment, encoding, encoding_errors, dialect, on_bad_lines, delim_whitespace, low_memory, memory_map, float_precision, storage_options, dtype_backend)\u001b[0m\n\u001b[1;32m   1024\u001b[0m     \u001b[0mkwds\u001b[0m\u001b[0;34m.\u001b[0m\u001b[0mupdate\u001b[0m\u001b[0;34m(\u001b[0m\u001b[0mkwds_defaults\u001b[0m\u001b[0;34m)\u001b[0m\u001b[0;34m\u001b[0m\u001b[0;34m\u001b[0m\u001b[0m\n\u001b[1;32m   1025\u001b[0m \u001b[0;34m\u001b[0m\u001b[0m\n\u001b[0;32m-> 1026\u001b[0;31m     \u001b[0;32mreturn\u001b[0m \u001b[0m_read\u001b[0m\u001b[0;34m(\u001b[0m\u001b[0mfilepath_or_buffer\u001b[0m\u001b[0;34m,\u001b[0m \u001b[0mkwds\u001b[0m\u001b[0;34m)\u001b[0m\u001b[0;34m\u001b[0m\u001b[0;34m\u001b[0m\u001b[0m\n\u001b[0m\u001b[1;32m   1027\u001b[0m \u001b[0;34m\u001b[0m\u001b[0m\n\u001b[1;32m   1028\u001b[0m \u001b[0;34m\u001b[0m\u001b[0m\n",
            "\u001b[0;32m/usr/local/lib/python3.11/dist-packages/pandas/io/parsers/readers.py\u001b[0m in \u001b[0;36m_read\u001b[0;34m(filepath_or_buffer, kwds)\u001b[0m\n\u001b[1;32m    618\u001b[0m \u001b[0;34m\u001b[0m\u001b[0m\n\u001b[1;32m    619\u001b[0m     \u001b[0;31m# Create the parser.\u001b[0m\u001b[0;34m\u001b[0m\u001b[0;34m\u001b[0m\u001b[0m\n\u001b[0;32m--> 620\u001b[0;31m     \u001b[0mparser\u001b[0m \u001b[0;34m=\u001b[0m \u001b[0mTextFileReader\u001b[0m\u001b[0;34m(\u001b[0m\u001b[0mfilepath_or_buffer\u001b[0m\u001b[0;34m,\u001b[0m \u001b[0;34m**\u001b[0m\u001b[0mkwds\u001b[0m\u001b[0;34m)\u001b[0m\u001b[0;34m\u001b[0m\u001b[0;34m\u001b[0m\u001b[0m\n\u001b[0m\u001b[1;32m    621\u001b[0m \u001b[0;34m\u001b[0m\u001b[0m\n\u001b[1;32m    622\u001b[0m     \u001b[0;32mif\u001b[0m \u001b[0mchunksize\u001b[0m \u001b[0;32mor\u001b[0m \u001b[0miterator\u001b[0m\u001b[0;34m:\u001b[0m\u001b[0;34m\u001b[0m\u001b[0;34m\u001b[0m\u001b[0m\n",
            "\u001b[0;32m/usr/local/lib/python3.11/dist-packages/pandas/io/parsers/readers.py\u001b[0m in \u001b[0;36m__init__\u001b[0;34m(self, f, engine, **kwds)\u001b[0m\n\u001b[1;32m   1618\u001b[0m \u001b[0;34m\u001b[0m\u001b[0m\n\u001b[1;32m   1619\u001b[0m         \u001b[0mself\u001b[0m\u001b[0;34m.\u001b[0m\u001b[0mhandles\u001b[0m\u001b[0;34m:\u001b[0m \u001b[0mIOHandles\u001b[0m \u001b[0;34m|\u001b[0m \u001b[0;32mNone\u001b[0m \u001b[0;34m=\u001b[0m \u001b[0;32mNone\u001b[0m\u001b[0;34m\u001b[0m\u001b[0;34m\u001b[0m\u001b[0m\n\u001b[0;32m-> 1620\u001b[0;31m         \u001b[0mself\u001b[0m\u001b[0;34m.\u001b[0m\u001b[0m_engine\u001b[0m \u001b[0;34m=\u001b[0m \u001b[0mself\u001b[0m\u001b[0;34m.\u001b[0m\u001b[0m_make_engine\u001b[0m\u001b[0;34m(\u001b[0m\u001b[0mf\u001b[0m\u001b[0;34m,\u001b[0m \u001b[0mself\u001b[0m\u001b[0;34m.\u001b[0m\u001b[0mengine\u001b[0m\u001b[0;34m)\u001b[0m\u001b[0;34m\u001b[0m\u001b[0;34m\u001b[0m\u001b[0m\n\u001b[0m\u001b[1;32m   1621\u001b[0m \u001b[0;34m\u001b[0m\u001b[0m\n\u001b[1;32m   1622\u001b[0m     \u001b[0;32mdef\u001b[0m \u001b[0mclose\u001b[0m\u001b[0;34m(\u001b[0m\u001b[0mself\u001b[0m\u001b[0;34m)\u001b[0m \u001b[0;34m->\u001b[0m \u001b[0;32mNone\u001b[0m\u001b[0;34m:\u001b[0m\u001b[0;34m\u001b[0m\u001b[0;34m\u001b[0m\u001b[0m\n",
            "\u001b[0;32m/usr/local/lib/python3.11/dist-packages/pandas/io/parsers/readers.py\u001b[0m in \u001b[0;36m_make_engine\u001b[0;34m(self, f, engine)\u001b[0m\n\u001b[1;32m   1878\u001b[0m                 \u001b[0;32mif\u001b[0m \u001b[0;34m\"b\"\u001b[0m \u001b[0;32mnot\u001b[0m \u001b[0;32min\u001b[0m \u001b[0mmode\u001b[0m\u001b[0;34m:\u001b[0m\u001b[0;34m\u001b[0m\u001b[0;34m\u001b[0m\u001b[0m\n\u001b[1;32m   1879\u001b[0m                     \u001b[0mmode\u001b[0m \u001b[0;34m+=\u001b[0m \u001b[0;34m\"b\"\u001b[0m\u001b[0;34m\u001b[0m\u001b[0;34m\u001b[0m\u001b[0m\n\u001b[0;32m-> 1880\u001b[0;31m             self.handles = get_handle(\n\u001b[0m\u001b[1;32m   1881\u001b[0m                 \u001b[0mf\u001b[0m\u001b[0;34m,\u001b[0m\u001b[0;34m\u001b[0m\u001b[0;34m\u001b[0m\u001b[0m\n\u001b[1;32m   1882\u001b[0m                 \u001b[0mmode\u001b[0m\u001b[0;34m,\u001b[0m\u001b[0;34m\u001b[0m\u001b[0;34m\u001b[0m\u001b[0m\n",
            "\u001b[0;32m/usr/local/lib/python3.11/dist-packages/pandas/io/common.py\u001b[0m in \u001b[0;36mget_handle\u001b[0;34m(path_or_buf, mode, encoding, compression, memory_map, is_text, errors, storage_options)\u001b[0m\n\u001b[1;32m    871\u001b[0m         \u001b[0;32mif\u001b[0m \u001b[0mioargs\u001b[0m\u001b[0;34m.\u001b[0m\u001b[0mencoding\u001b[0m \u001b[0;32mand\u001b[0m \u001b[0;34m\"b\"\u001b[0m \u001b[0;32mnot\u001b[0m \u001b[0;32min\u001b[0m \u001b[0mioargs\u001b[0m\u001b[0;34m.\u001b[0m\u001b[0mmode\u001b[0m\u001b[0;34m:\u001b[0m\u001b[0;34m\u001b[0m\u001b[0;34m\u001b[0m\u001b[0m\n\u001b[1;32m    872\u001b[0m             \u001b[0;31m# Encoding\u001b[0m\u001b[0;34m\u001b[0m\u001b[0;34m\u001b[0m\u001b[0m\n\u001b[0;32m--> 873\u001b[0;31m             handle = open(\n\u001b[0m\u001b[1;32m    874\u001b[0m                 \u001b[0mhandle\u001b[0m\u001b[0;34m,\u001b[0m\u001b[0;34m\u001b[0m\u001b[0;34m\u001b[0m\u001b[0m\n\u001b[1;32m    875\u001b[0m                 \u001b[0mioargs\u001b[0m\u001b[0;34m.\u001b[0m\u001b[0mmode\u001b[0m\u001b[0;34m,\u001b[0m\u001b[0;34m\u001b[0m\u001b[0;34m\u001b[0m\u001b[0m\n",
            "\u001b[0;31mFileNotFoundError\u001b[0m: [Errno 2] No such file or directory: 'books.csv'"
          ]
        }
      ],
      "source": [
        "import pandas as pd\n",
        "import numpy as np\n",
        "\n",
        "pd.read_csv(\"books.csv\")"
      ]
    },
    {
      "cell_type": "code",
      "execution_count": null,
      "metadata": {
        "colab": {
          "background_save": true,
          "base_uri": "https://localhost:8080/",
          "height": 141
        },
        "id": "KrgQenBDFzgg",
        "outputId": "417af597-7cfe-436b-af01-8323e226eeee"
      },
      "outputs": [
        {
          "name": "stdout",
          "output_type": "stream",
          "text": [
            "(5000, 10)\n"
          ]
        }
      ],
      "source": [
        "books.shape"
      ]
    },
    {
      "cell_type": "markdown",
      "source": [
        "# 29th April 2025\n"
      ],
      "metadata": {
        "id": "jgCsBwDfxJvA"
      }
    },
    {
      "cell_type": "code",
      "source": [
        "class Animal:\n",
        "    def __init__(self, name):\n",
        "        self.name = name\n",
        "\n",
        "    def speak(self):\n",
        "        print(\"Generic animal sound\")\n",
        "\n",
        "class Cat(Animal):  # Cat inherits from Animal\n",
        "    def speak(self):\n",
        "        print(\"Meow!\")\n",
        "\n",
        "my_cat = Cat(\"Whiskers\")\n",
        "print(my_cat.name)   # Output: Whiskers (inherited from Animal)\n",
        "my_cat.speak()  # Output: Meow! (overrides the Animal's speak method)"
      ],
      "metadata": {
        "id": "Es3itrH6xJiu",
        "colab": {
          "base_uri": "https://localhost:8080/"
        },
        "outputId": "56d36720-ff70-4883-eec7-cbac1e03f91e"
      },
      "execution_count": 1,
      "outputs": [
        {
          "output_type": "stream",
          "name": "stdout",
          "text": [
            "Whiskers\n",
            "Meow!\n"
          ]
        }
      ]
    },
    {
      "cell_type": "code",
      "source": [
        "print(\"Hello, World\")"
      ],
      "metadata": {
        "colab": {
          "base_uri": "https://localhost:8080/"
        },
        "id": "RysIsYeiZMy-",
        "outputId": "a2805e5a-65cf-4fc0-9bf1-8d5bfdb9e491"
      },
      "execution_count": 2,
      "outputs": [
        {
          "output_type": "stream",
          "name": "stdout",
          "text": [
            "Hello, World\n"
          ]
        }
      ]
    },
    {
      "cell_type": "code",
      "source": [
        "def add_numbers(num1, num2):\n",
        "  return num1 + num2\n",
        "result = add_numbers(3,2)\n",
        "print(result)"
      ],
      "metadata": {
        "colab": {
          "base_uri": "https://localhost:8080/"
        },
        "id": "iAQDUoCaZqOr",
        "outputId": "09b3f4e8-8a41-4ff9-b070-efa0bfb3d16e"
      },
      "execution_count": 3,
      "outputs": [
        {
          "output_type": "stream",
          "name": "stdout",
          "text": [
            "5\n"
          ]
        }
      ]
    },
    {
      "cell_type": "code",
      "source": [
        "def even_or_odd(number):\n",
        "  if number % 2 == 0:\n",
        "    print(f\"The number {number} is a Even number.\")\n",
        "  else:\n",
        "    print(f\"The Number {number} is an Odd number.\")\n",
        "\n",
        "even_or_odd(28)\n",
        "even_or_odd(9)"
      ],
      "metadata": {
        "colab": {
          "base_uri": "https://localhost:8080/"
        },
        "id": "QSl9SMzgZ3Aj",
        "outputId": "64b6e4e2-475f-49f1-fc02-d8b5757ea5ae"
      },
      "execution_count": 7,
      "outputs": [
        {
          "output_type": "stream",
          "name": "stdout",
          "text": [
            "The number 28 is a Even number.\n",
            "The Number 9 is an Odd number.\n"
          ]
        }
      ]
    },
    {
      "cell_type": "code",
      "source": [
        "def factorial(n):\n",
        "  if n == 0:\n",
        "    return 1\n",
        "  else:\n",
        "    result = 1\n",
        "    for i in range(1, n+1):\n",
        "      result *= i\n",
        "    return result\n",
        "\n",
        "print(factorial(5))"
      ],
      "metadata": {
        "colab": {
          "base_uri": "https://localhost:8080/"
        },
        "id": "rVn-Et97aYNb",
        "outputId": "65418129-e49f-4c56-dbbf-2078fb12e2d7"
      },
      "execution_count": 9,
      "outputs": [
        {
          "output_type": "stream",
          "name": "stdout",
          "text": [
            "120\n"
          ]
        }
      ]
    },
    {
      "cell_type": "code",
      "source": [
        "def factorial(n):\n",
        "  if n == 0:\n",
        "    return 1\n",
        "  else:\n",
        "    result = 1\n",
        "    for i in range(1, n +1):\n",
        "      result *= i\n",
        "    return result\n",
        "print(factorial(3))"
      ],
      "metadata": {
        "colab": {
          "base_uri": "https://localhost:8080/"
        },
        "id": "W4rh__yxavrS",
        "outputId": "ae37df6d-9c1e-4895-b4a8-f4d3532f3797"
      },
      "execution_count": 13,
      "outputs": [
        {
          "output_type": "stream",
          "name": "stdout",
          "text": [
            "6\n"
          ]
        }
      ]
    },
    {
      "cell_type": "code",
      "source": [
        "def reverse_string(s):\n",
        "  return s[::-1]\n",
        "\n",
        "print(reverse_string(\"pandu\"))"
      ],
      "metadata": {
        "colab": {
          "base_uri": "https://localhost:8080/"
        },
        "id": "xWdgvJMObFw6",
        "outputId": "445aa4e5-1b76-4ad6-bf88-17c2510b4d23"
      },
      "execution_count": 17,
      "outputs": [
        {
          "output_type": "stream",
          "name": "stdout",
          "text": [
            "udnap\n"
          ]
        }
      ]
    },
    {
      "cell_type": "code",
      "source": [
        "def find_max(numbers):\n",
        "  if not numbers:\n",
        "    return None\n",
        "  max_num = numbers[0]\n",
        "  for num in numbers:\n",
        "    if num > max_num:\n",
        "      max_num = num\n",
        "  return max_num\n",
        "print(find_max([-1, -2]))"
      ],
      "metadata": {
        "colab": {
          "base_uri": "https://localhost:8080/"
        },
        "id": "ObHVJGodbb9p",
        "outputId": "f4c766c9-4a0a-42d7-8cdb-f2ce4abf3e07"
      },
      "execution_count": 24,
      "outputs": [
        {
          "output_type": "stream",
          "name": "stdout",
          "text": [
            "-1\n"
          ]
        }
      ]
    },
    {
      "cell_type": "code",
      "source": [
        "def count_words(text):\n",
        "    word_counts = {}\n",
        "    words = text.lower().split()  # Convert to lowercase and split into words\n",
        "    for word in words:\n",
        "        # Remove punctuation (optional, but good practice)\n",
        "        word = word.strip('.,!?\"\\'()[]{}')\n",
        "        if word in word_counts:\n",
        "            word_counts[word] += 1\n",
        "        else:\n",
        "            word_counts[word] = 1\n",
        "    return word_counts\n",
        "\n",
        "text = \"This is a sample string. This string has multiple words!!!.\"\n",
        "print(count_words(text))"
      ],
      "metadata": {
        "colab": {
          "base_uri": "https://localhost:8080/"
        },
        "id": "ZgofIFNRcZRZ",
        "outputId": "a7a76cab-8c49-450e-f59d-7829e4558df9"
      },
      "execution_count": 32,
      "outputs": [
        {
          "output_type": "stream",
          "name": "stdout",
          "text": [
            "{'this': 2, 'is': 1, 'a': 1, 'sample': 1, 'string': 2, 'has': 1, 'multiple': 1, 'words': 1}\n"
          ]
        }
      ]
    },
    {
      "cell_type": "code",
      "source": [
        "import re\n",
        "\n",
        "def is_palindrome(text):\n",
        "  processed_text = ''.join(re.findall(r'[a-zA-Z0-9]', text)).lower()\n",
        "  return processed_text == processed_text[::-1]\n",
        "\n",
        "print(is_palindrome(\"racecar\"))\n",
        "print(is_palindrome(\"A man, a plan, a canal: Panama\"))\n",
        "print(is_palindrome(\"hello\"))"
      ],
      "metadata": {
        "colab": {
          "base_uri": "https://localhost:8080/"
        },
        "id": "pk-y8LCndnEg",
        "outputId": "c16fa60d-40c9-43a1-ec13-f4121dea52a8"
      },
      "execution_count": 33,
      "outputs": [
        {
          "output_type": "stream",
          "name": "stdout",
          "text": [
            "True\n",
            "True\n",
            "False\n"
          ]
        }
      ]
    },
    {
      "cell_type": "code",
      "source": [
        "def calculator(num1, num2, operation):\n",
        "  if operation == '+':\n",
        "    return num1+ num2\n",
        "  elif operation == '-':\n",
        "    return num1 - num2\n",
        "  elif operation == '*':\n",
        "    return num1 * num2\n",
        "  elif operation == '/':\n",
        "    if num2 == 0:\n",
        "      return \"Error: Division by zero!\"\n",
        "    else:\n",
        "      return num1 / num2\n",
        "  else:\n",
        "    return \"Error: Invalid operation!\"\n",
        "\n",
        "print(calculator(2,3,'+'))\n",
        "print(calculator(12,3,'-'))\n",
        "print(calculator(2,3,'*'))\n",
        "print(calculator(8,2,'/'))\n",
        "print(calculator(2,8,'+'))"
      ],
      "metadata": {
        "colab": {
          "base_uri": "https://localhost:8080/"
        },
        "id": "IFc-V-gueXHO",
        "outputId": "770639be-520a-4c7b-e21f-473968be6394"
      },
      "execution_count": 44,
      "outputs": [
        {
          "output_type": "stream",
          "name": "stdout",
          "text": [
            "5\n",
            "9\n",
            "6\n",
            "4.0\n",
            "10\n"
          ]
        }
      ]
    },
    {
      "cell_type": "code",
      "source": [
        "def fibonacci(n):\n",
        "  if n <=0:\n",
        "    return[]\n",
        "  elif n == 1:\n",
        "    return[0]\n",
        "  else:\n",
        "    list_fib = [0,1]\n",
        "    while len(list_fib) < n:\n",
        "      next_fib = list_fib[-1] + list_fib[-2]\n",
        "      list_fib.append(next_fib)\n",
        "    return list_fib\n",
        "print(fibonacci(12))"
      ],
      "metadata": {
        "colab": {
          "base_uri": "https://localhost:8080/"
        },
        "id": "-CeQrEE7gJX9",
        "outputId": "9aad7b9a-f90f-46f6-d833-6bd0dc0a29b4"
      },
      "execution_count": 46,
      "outputs": [
        {
          "output_type": "stream",
          "name": "stdout",
          "text": [
            "[0, 1, 1, 2, 3, 5, 8, 13, 21, 34, 55, 89]\n"
          ]
        }
      ]
    },
    {
      "cell_type": "code",
      "source": [
        "def bubble_sort(numbers):\n",
        "  n = len(numbers)\n",
        "  for i in range(n - 1):\n",
        "    for j in range(0, n-i-1):\n",
        "      if numbers[j] > numbers[j +1]:\n",
        "        numbers[j], numbers[j + 1] = numbers[j + 1], numbers[j]\n",
        "  return numbers\n",
        "\n",
        "data = [64, 34, 26, 15, 23, 12,90]\n",
        "sorted_data = bubble_sort(data)\n",
        "print(sorted_data)"
      ],
      "metadata": {
        "colab": {
          "base_uri": "https://localhost:8080/"
        },
        "id": "Ipi_xyNlFfUh",
        "outputId": "5021ab17-5cc1-4cc5-d575-7cb01ee039c2"
      },
      "execution_count": 2,
      "outputs": [
        {
          "output_type": "stream",
          "name": "stdout",
          "text": [
            "[12, 15, 23, 26, 34, 64, 90]\n"
          ]
        }
      ]
    },
    {
      "cell_type": "code",
      "source": [
        "def binary_search(sorted_list, target):\n",
        "  left, right = 0, len(sorted_list) - 1\n",
        "  while left <= right:\n",
        "    mid = (left + right) // 2\n",
        "    if sorted_list[mid] == target:\n",
        "      return mid\n",
        "    elif sorted_list[mid] < target:\n",
        "      left = mid + 1\n",
        "    else:\n",
        "      right = mid - 1\n",
        "  return -1\n",
        "\n",
        "numbers = [2,5,7,8, 11,15]\n",
        "\n",
        "print(binary_search(numbers, 15))\n",
        "print(binary_search(numbers, 1))\n",
        "print(binary_search(numbers, -5))\n",
        "print(binary_search(numbers, 0))\n",
        "print(binary_search(numbers, 5))\n",
        "print(binary_search(numbers, 11))\n",
        "print(binary_search(numbers, 105))\n"
      ],
      "metadata": {
        "colab": {
          "base_uri": "https://localhost:8080/"
        },
        "id": "Yii0FLL6O99r",
        "outputId": "e014388b-c1d8-427f-e14a-eceba09d8a86"
      },
      "execution_count": 3,
      "outputs": [
        {
          "output_type": "stream",
          "name": "stdout",
          "text": [
            "5\n",
            "-1\n",
            "-1\n",
            "-1\n",
            "1\n",
            "4\n",
            "-1\n"
          ]
        }
      ]
    },
    {
      "cell_type": "code",
      "source": [
        "class Queue:\n",
        "  def __int__(self):\n",
        "    self.items = []\n",
        "\n",
        "  def enqueue(self, item):\n",
        "        self.items.append(item)\n",
        "\n",
        "  def dequeue(self):\n",
        "    if not self.is_empty():\n",
        "      return self.items.pop(0)\n",
        "    else:\n",
        "      return \"Queue is empty\"\n",
        "\n",
        "\n",
        "  def is_empty(self):\n",
        "    return len(self.items) == 0\n",
        "\n",
        "\n",
        "  def size(self):\n",
        "    return len(self.items)\n",
        "\n",
        "my_queue = Queue()\n",
        "my_queue.enqueue(1)\n",
        "my_queue.enqueue(2)\n",
        "print(my_queue.dequeue())\n",
        "print(my_queue.size())\n",
        "print(my_queue.is_empty())\n",
        "print(my_queue.dequeue())\n",
        "print(my_queue.dequeue())"
      ],
      "metadata": {
        "colab": {
          "base_uri": "https://localhost:8080/",
          "height": 332
        },
        "id": "fWye-heUQnan",
        "outputId": "39f315dd-3e14-40c1-a3e3-5421e34bcf53"
      },
      "execution_count": 8,
      "outputs": [
        {
          "output_type": "error",
          "ename": "AttributeError",
          "evalue": "'Queue' object has no attribute 'items'",
          "traceback": [
            "\u001b[0;31m---------------------------------------------------------------------------\u001b[0m",
            "\u001b[0;31mAttributeError\u001b[0m                            Traceback (most recent call last)",
            "\u001b[0;32m<ipython-input-8-e5f581637e37>\u001b[0m in \u001b[0;36m<cell line: 0>\u001b[0;34m()\u001b[0m\n\u001b[1;32m     21\u001b[0m \u001b[0;34m\u001b[0m\u001b[0m\n\u001b[1;32m     22\u001b[0m \u001b[0mmy_queue\u001b[0m \u001b[0;34m=\u001b[0m \u001b[0mQueue\u001b[0m\u001b[0;34m(\u001b[0m\u001b[0;34m)\u001b[0m\u001b[0;34m\u001b[0m\u001b[0;34m\u001b[0m\u001b[0m\n\u001b[0;32m---> 23\u001b[0;31m \u001b[0mmy_queue\u001b[0m\u001b[0;34m.\u001b[0m\u001b[0menqueue\u001b[0m\u001b[0;34m(\u001b[0m\u001b[0;36m1\u001b[0m\u001b[0;34m)\u001b[0m\u001b[0;34m\u001b[0m\u001b[0;34m\u001b[0m\u001b[0m\n\u001b[0m\u001b[1;32m     24\u001b[0m \u001b[0mmy_queue\u001b[0m\u001b[0;34m.\u001b[0m\u001b[0menqueue\u001b[0m\u001b[0;34m(\u001b[0m\u001b[0;36m2\u001b[0m\u001b[0;34m)\u001b[0m\u001b[0;34m\u001b[0m\u001b[0;34m\u001b[0m\u001b[0m\n\u001b[1;32m     25\u001b[0m \u001b[0mprint\u001b[0m\u001b[0;34m(\u001b[0m\u001b[0mmy_queue\u001b[0m\u001b[0;34m.\u001b[0m\u001b[0mdequeue\u001b[0m\u001b[0;34m(\u001b[0m\u001b[0;34m)\u001b[0m\u001b[0;34m)\u001b[0m\u001b[0;34m\u001b[0m\u001b[0;34m\u001b[0m\u001b[0m\n",
            "\u001b[0;32m<ipython-input-8-e5f581637e37>\u001b[0m in \u001b[0;36menqueue\u001b[0;34m(self, item)\u001b[0m\n\u001b[1;32m      4\u001b[0m \u001b[0;34m\u001b[0m\u001b[0m\n\u001b[1;32m      5\u001b[0m   \u001b[0;32mdef\u001b[0m \u001b[0menqueue\u001b[0m\u001b[0;34m(\u001b[0m\u001b[0mself\u001b[0m\u001b[0;34m,\u001b[0m \u001b[0mitem\u001b[0m\u001b[0;34m)\u001b[0m\u001b[0;34m:\u001b[0m\u001b[0;34m\u001b[0m\u001b[0;34m\u001b[0m\u001b[0m\n\u001b[0;32m----> 6\u001b[0;31m         \u001b[0mself\u001b[0m\u001b[0;34m.\u001b[0m\u001b[0mitems\u001b[0m\u001b[0;34m.\u001b[0m\u001b[0mappend\u001b[0m\u001b[0;34m(\u001b[0m\u001b[0mitem\u001b[0m\u001b[0;34m)\u001b[0m\u001b[0;34m\u001b[0m\u001b[0;34m\u001b[0m\u001b[0m\n\u001b[0m\u001b[1;32m      7\u001b[0m \u001b[0;34m\u001b[0m\u001b[0m\n\u001b[1;32m      8\u001b[0m   \u001b[0;32mdef\u001b[0m \u001b[0mdequeue\u001b[0m\u001b[0;34m(\u001b[0m\u001b[0mself\u001b[0m\u001b[0;34m)\u001b[0m\u001b[0;34m:\u001b[0m\u001b[0;34m\u001b[0m\u001b[0;34m\u001b[0m\u001b[0m\n",
            "\u001b[0;31mAttributeError\u001b[0m: 'Queue' object has no attribute 'items'"
          ]
        }
      ]
    },
    {
      "cell_type": "code",
      "source": [
        "class Queue:\n",
        "    def __init__(self):\n",
        "        self.items = []\n",
        "\n",
        "    def enqueue(self, item):\n",
        "        self.items.append(item)\n",
        "\n",
        "    def dequeue(self):\n",
        "        if not self.is_empty():\n",
        "            return self.items.pop(0)\n",
        "        else:\n",
        "            return \"Queue is empty\"\n",
        "\n",
        "    def is_empty(self):\n",
        "        return len(self.items) == 0\n",
        "\n",
        "    def size(self):\n",
        "        return len(self.items)\n",
        "\n",
        "my_queue = Queue()\n",
        "my_queue.enqueue(1)\n",
        "my_queue.enqueue(2)\n",
        "print(my_queue.dequeue())  # Output: 1\n",
        "print(my_queue.size())     # Output: 1\n",
        "print(my_queue.is_empty()) # Output: False\n",
        "print(my_queue.dequeue())  # Output: 2\n",
        "print(my_queue.dequeue())  # Output: Queue is empty"
      ],
      "metadata": {
        "colab": {
          "base_uri": "https://localhost:8080/"
        },
        "id": "Z37nZR1MSod8",
        "outputId": "369b6886-4f7c-4af6-b7f0-d9c873f6e7ee"
      },
      "execution_count": 9,
      "outputs": [
        {
          "output_type": "stream",
          "name": "stdout",
          "text": [
            "1\n",
            "1\n",
            "False\n",
            "2\n",
            "Queue is empty\n"
          ]
        }
      ]
    },
    {
      "cell_type": "code",
      "source": [
        "def find_missing_number(nums):\n",
        "  n = len(nums)\n",
        "  expected_sum = n * (n + 1) // 2\n",
        "  actual_sum = sum(nums)\n",
        "  return expected_sum - actual_sum\n",
        "\n",
        "print(find_missing_number([3,0,1]))\n",
        "print(find_missing_number([9,6,8,5,4,2,3,0,1,4,5,6]))"
      ],
      "metadata": {
        "colab": {
          "base_uri": "https://localhost:8080/"
        },
        "id": "mpLHNcmpSxg8",
        "outputId": "1a266ae8-81aa-4189-a6e1-fcfb251d862c"
      },
      "execution_count": 13,
      "outputs": [
        {
          "output_type": "stream",
          "name": "stdout",
          "text": [
            "2\n",
            "25\n"
          ]
        }
      ]
    },
    {
      "cell_type": "code",
      "source": [
        "class Node:\n",
        "    def __init__(self, data):\n",
        "        self.data = data\n",
        "        self.next = None\n",
        "\n",
        "class LinkedList:\n",
        "    def __init__(self):\n",
        "        self.head = None\n",
        "\n",
        "    def append(self, data):\n",
        "        new_node = Node(data)\n",
        "        if not self.head:\n",
        "            self.head = new_node\n",
        "            return\n",
        "        last_node = self.head\n",
        "        while last_node.next:\n",
        "            last_node = last_node.next\n",
        "        last_node.next = new_node\n",
        "\n",
        "    def prepend(self, data):\n",
        "        new_node = Node(data)\n",
        "        new_node.next = self.head\n",
        "        self.head = new_node\n",
        "\n",
        "    def insert_after(self, prev_node, data):\n",
        "        if not prev_node:\n",
        "            print(\"Previous node does not exist.\")\n",
        "            return\n",
        "        new_node = Node(data)\n",
        "        new_node.next = prev_node.next\n",
        "        prev_node.next = new_node\n",
        "\n",
        "    def delete_node(self, key):\n",
        "        current_node = self.head\n",
        "        if current_node and current_node.data == key:\n",
        "            self.head = current_node.next\n",
        "            current_node = None\n",
        "            return\n",
        "        prev_node = None\n",
        "        while current_node and current_node.data != key:\n",
        "            prev_node = current_node\n",
        "            current_node = current_node.next\n",
        "        if current_node is None:\n",
        "            return\n",
        "        prev_node.next = current_node.next\n",
        "        current_node = None\n",
        "\n",
        "    def display(self):\n",
        "        current = self.head\n",
        "        while current:\n",
        "            print(current.data, end=\" -> \")\n",
        "            current = current.next\n",
        "        print(\"None\")\n",
        "\n",
        "my_list = LinkedList()\n",
        "my_list.append(1)\n",
        "my_list.append(3)\n",
        "my_list.prepend(0)\n",
        "my_list.insert_after(my_list.head.next, 2)\n",
        "my_list.display()  # Output: 0 -> 1 -> 2 -> 3 -> None\n",
        "my_list.delete_node(2)\n",
        "my_list.display()  # Output: 0 -> 1 -> 3 -> None"
      ],
      "metadata": {
        "colab": {
          "base_uri": "https://localhost:8080/"
        },
        "id": "auxoiFPSTfHD",
        "outputId": "fff563af-c35c-4b0d-c08b-2122d7e9e8b6"
      },
      "execution_count": 14,
      "outputs": [
        {
          "output_type": "stream",
          "name": "stdout",
          "text": [
            "0 -> 1 -> 2 -> 3 -> None\n",
            "0 -> 1 -> 3 -> None\n"
          ]
        }
      ]
    },
    {
      "cell_type": "code",
      "source": [
        "my_list = [10, 20, 30, 40]\n",
        "print(my_list[0])  # Accessing by index\n",
        "print(my_list[1:3])  # Slicing\n",
        "\n",
        "my_dict = {\"name\": \"David\", \"age\": 25}\n",
        "print(my_dict[\"name\"])  # Accessing by key"
      ],
      "metadata": {
        "colab": {
          "base_uri": "https://localhost:8080/"
        },
        "id": "dQ9SchQ5V3Rt",
        "outputId": "ec96ba46-bd0e-4454-e5aa-0bacdc4a35eb"
      },
      "execution_count": 15,
      "outputs": [
        {
          "output_type": "stream",
          "name": "stdout",
          "text": [
            "10\n",
            "[20, 30]\n",
            "David\n"
          ]
        }
      ]
    },
    {
      "cell_type": "code",
      "source": [
        "try:\n",
        "  result = 0/2\n",
        "except ZeroDivisionError:\n",
        "  print(\"Cannot divide by zero!\")"
      ],
      "metadata": {
        "id": "3s16pNC0WxXi"
      },
      "execution_count": 19,
      "outputs": []
    },
    {
      "cell_type": "code",
      "source": [
        "import pandas as pd"
      ],
      "metadata": {
        "id": "Xzeu4Bo2XGDI"
      },
      "execution_count": 20,
      "outputs": []
    },
    {
      "cell_type": "code",
      "source": [
        "import numpy as np"
      ],
      "metadata": {
        "id": "Tv-SZeFjXIQy"
      },
      "execution_count": 21,
      "outputs": []
    },
    {
      "cell_type": "code",
      "source": [
        "# Series\n",
        "\n",
        "data = pd.Series([10,20,30,40], index= ['a', 'b', 'c', 'd'])\n",
        "print(data)"
      ],
      "metadata": {
        "colab": {
          "base_uri": "https://localhost:8080/"
        },
        "id": "i4RJvU5QXOX8",
        "outputId": "b5e7e8b4-3778-4e61-8ed2-e878d514c03f"
      },
      "execution_count": 22,
      "outputs": [
        {
          "output_type": "stream",
          "name": "stdout",
          "text": [
            "a    10\n",
            "b    20\n",
            "c    30\n",
            "d    40\n",
            "dtype: int64\n"
          ]
        }
      ]
    },
    {
      "cell_type": "code",
      "source": [
        "# DataFrame\n",
        "\n",
        "data = {'Name': ['Aishu', 'Pandu', 'Raja'],\n",
        "        'Age' : [2, 31, 34],\n",
        "        'Place of Birth' : ['Hyderabad', 'Vijayawada', 'Ongole']}\n",
        "\n",
        "df = pd.DataFrame(data)\n",
        "print(df)"
      ],
      "metadata": {
        "colab": {
          "base_uri": "https://localhost:8080/"
        },
        "id": "lEAsWeyaXfWD",
        "outputId": "12101fb3-9f9c-4ec3-b546-f613c6cdb4f6"
      },
      "execution_count": 24,
      "outputs": [
        {
          "output_type": "stream",
          "name": "stdout",
          "text": [
            "    Name  Age Place of Birth\n",
            "0  Aishu    2      Hyderabad\n",
            "1  Pandu   31     Vijayawada\n",
            "2   Raja   34         Ongole\n"
          ]
        }
      ]
    },
    {
      "cell_type": "code",
      "source": [
        "import matplotlib.pyplot as plt"
      ],
      "metadata": {
        "id": "it-ZEcRyZJIL"
      },
      "execution_count": 26,
      "outputs": []
    },
    {
      "cell_type": "markdown",
      "source": [
        "# May 2025"
      ],
      "metadata": {
        "id": "EN5vDiKCpW7V"
      }
    },
    {
      "cell_type": "code",
      "source": [
        "# Patient Demographics\n",
        "\n",
        "import pandas as pd\n",
        "\n",
        "patient_data = [\n",
        "    {'patient_id': 1, 'age': 65, 'gender': 'Male', 'city': 'Hyderabad'},\n",
        "    {'patient_id': 2, 'age': 32, 'gender': 'Female', 'city': 'Bangalore'},\n",
        "    {'patient_id': 3, 'age': 78, 'gender': 'Male', 'city': 'Chennai'},\n",
        "    {'patient_id': 4, 'age': 24, 'gender': 'Female', 'city': 'Hyderabad'},\n",
        "    {'patient_id': 5, 'age': 50, 'gender': 'Male', 'city': 'Mumbai'},\n",
        "    {'patient_id': 6, 'age': 41, 'gender': 'Female', 'city': 'Bangalore'},\n",
        "]\n",
        "\n",
        "df = pd.DataFrame(patient_data)\n",
        "\n",
        "print(f'Number of patients: {len(df)}')\n",
        "print(f\"Unique cities: {df['city'].unique()}\")\n",
        "print(f\"Average age: {df['age'].mean(): .2f}\")"
      ],
      "metadata": {
        "colab": {
          "base_uri": "https://localhost:8080/"
        },
        "id": "VGrMAFddpaPi",
        "outputId": "bc8bfbfe-1aca-4de5-cdae-124eea24f8a4"
      },
      "execution_count": 28,
      "outputs": [
        {
          "output_type": "stream",
          "name": "stdout",
          "text": [
            "Number of patients: 6\n",
            "Unique cities: ['Hyderabad' 'Bangalore' 'Chennai' 'Mumbai']\n",
            "Average age:  48.33\n"
          ]
        }
      ]
    },
    {
      "cell_type": "code",
      "source": [
        "# Analyzing Medical Conditions\n",
        "\n",
        "\n",
        "condition_data = pd.DataFrame({\n",
        "    'patient_id': [1, 2, 1, 3, 4, 2, 5, 3, 6, 1],\n",
        "    'condition': ['Diabetes', 'Hypertension', 'Diabetes', 'Asthma', 'COVID-19', 'Hypertension', 'Flu', 'Asthma', 'Diabetes', 'Diabetes']\n",
        "})\n",
        "\n",
        "condition_counts = condition_data['condition'].value_counts()\n",
        "print(\"Condition counts:\\n\", condition_counts)"
      ],
      "metadata": {
        "colab": {
          "base_uri": "https://localhost:8080/"
        },
        "id": "zwRQiFN-qcNR",
        "outputId": "2a062b83-7057-45c3-e5c4-6e371b2217b7"
      },
      "execution_count": 29,
      "outputs": [
        {
          "output_type": "stream",
          "name": "stdout",
          "text": [
            "Condition counts:\n",
            " condition\n",
            "Diabetes        4\n",
            "Hypertension    2\n",
            "Asthma          2\n",
            "COVID-19        1\n",
            "Flu             1\n",
            "Name: count, dtype: int64\n"
          ]
        }
      ]
    },
    {
      "cell_type": "code",
      "source": [
        "# Filtering Patients by Age and Condition:\n",
        "\n",
        "merged_df = pd.merge(pd.DataFrame(patient_data), condition_data, on= 'patient_id')\n",
        "filtered_patients = merged_df[(merged_df['gender'] == 'Female') & (merged_df['condition'] == 'Hypertension')]\n",
        "print(\"\\nFemale patients over 30 years with Hypertension:\\n\", filtered_patients)"
      ],
      "metadata": {
        "colab": {
          "base_uri": "https://localhost:8080/"
        },
        "id": "EWw0K_BfrCab",
        "outputId": "ed5c1c7c-42f6-4e80-bbdc-9f1dbaf15a0d"
      },
      "execution_count": 30,
      "outputs": [
        {
          "output_type": "stream",
          "name": "stdout",
          "text": [
            "\n",
            "Female patients over 30 years with Hypertension:\n",
            "    patient_id  age  gender       city     condition\n",
            "3           2   32  Female  Bangalore  Hypertension\n",
            "4           2   32  Female  Bangalore  Hypertension\n"
          ]
        }
      ]
    },
    {
      "cell_type": "code",
      "source": [
        "# Hospital Stay Analysis\n",
        "\n",
        "import numpy as np\n",
        "import pandas as pd\n",
        "import seaborn as sns\n",
        "import matplotlib.pyplot as plt\n",
        "\n",
        "stay_data = pd.DataFrame({\n",
        "    'patient_id': [101, 102, 103, 104, 105],\n",
        "    'admission_date': ['2025-01-15', '2025-02-01', '2024-12-20', '2025-03-10', '2025-01-25'],\n",
        "    'discharge_date': ['2025-01-22', '2025-02-08', '2024-12-25', '2025-03-15', '2025-02-05']\n",
        "})\n",
        "\n",
        "stay_data['admission_date'] = pd.to_datetime(stay_data['admission_date'])\n",
        "stay_data['discharge_date'] = pd.to_datetime(stay_data['discharge_date'])\n",
        "stay_data['length_of_stay'] = (stay_data['discharge_date'] - stay_data['admission_date']).dt.days\n",
        "\n",
        "print('Hospital stay analysis: \\n', stay_data)\n",
        "\n"
      ],
      "metadata": {
        "colab": {
          "base_uri": "https://localhost:8080/"
        },
        "id": "thLZIBbxsT8t",
        "outputId": "73fc5663-3b2a-4962-d0fd-338b1bd53555"
      },
      "execution_count": 33,
      "outputs": [
        {
          "output_type": "stream",
          "name": "stdout",
          "text": [
            "Hospital stay analysis: \n",
            "    patient_id admission_date discharge_date  length_of_stay\n",
            "0         101     2025-01-15     2025-01-22               7\n",
            "1         102     2025-02-01     2025-02-08               7\n",
            "2         103     2024-12-20     2024-12-25               5\n",
            "3         104     2025-03-10     2025-03-15               5\n",
            "4         105     2025-01-25     2025-02-05              11\n"
          ]
        }
      ]
    },
    {
      "cell_type": "code",
      "source": [
        "sns.histplot(stay_data['length_of_stay'], bins=7, kde=True)\n",
        "plt.title('Distribution of Hospital Stay Length')\n",
        "plt.xlabel('Length of Stay (Days)')\n",
        "plt.ylabel('Number of Patients')\n",
        "plt.show()"
      ],
      "metadata": {
        "colab": {
          "base_uri": "https://localhost:8080/",
          "height": 472
        },
        "id": "LHJrPhN_tldG",
        "outputId": "08fcc392-139f-4399-b28f-940542fcf7e9"
      },
      "execution_count": 37,
      "outputs": [
        {
          "output_type": "display_data",
          "data": {
            "text/plain": [
              "<Figure size 640x480 with 1 Axes>"
            ],
            "image/png": "[encoded data removed]"
          },
          "metadata": {}
        }
      ]
    },
    {
      "cell_type": "code",
      "source": [
        "# Disesase Prevalence by Age Group\n",
        "\n",
        "\n",
        "import pandas as pd\n",
        "import seaborn as sns\n",
        "import matplotlib.pyplot as plt\n",
        "\n",
        "disease_age_data = pd.DataFrame({\n",
        "    'age': [25, 35, 70, 45, 20, 60, 30, 55, 80, 15],\n",
        "    'disease': ['Flu', 'COVID-19', 'Diabetes', 'Hypertension', 'Flu', 'Diabetes', 'COVID-19', 'Hypertension', 'Diabetes', 'Asthma']\n",
        "})\n",
        "\n",
        "bins = [0,18,40,60, float('inf')]\n",
        "labels = ['0-17', '18-39', '40-59', '60+']\n",
        "disease_age_data['age_group'] = pd.cut(disease_age_data['age'], bins = bins, labels = labels, right = False)\n",
        "\n",
        "disease_prevalence = disease_age_data.groupby('age_group')['disease'].value_counts(normalize=True).mul(100).rename('percentage').reset_index()\n",
        "\n",
        "plt.figure(figsize = (10,6))\n",
        "sns.barplot(x='age_group', y='percentage', hue='disease', data=disease_prevalence)\n",
        "plt.title('Disease Prevalence by Age Group')\n",
        "plt.ylabel('Prevalence(%)')\n",
        "plt.xlabel('Age Group')\n",
        "plt.xticks(rotation= 45)\n",
        "plt.tight_layout()\n",
        "plt.show()"
      ],
      "metadata": {
        "colab": {
          "base_uri": "https://localhost:8080/",
          "height": 662
        },
        "id": "33mbCJeMuelL",
        "outputId": "263fce16-9bd1-485d-bc7e-c4824ade7c1d"
      },
      "execution_count": 40,
      "outputs": [
        {
          "output_type": "stream",
          "name": "stderr",
          "text": [
            "<ipython-input-40-0366882160c1>:17: FutureWarning: The default of observed=False is deprecated and will be changed to True in a future version of pandas. Pass observed=False to retain current behavior or observed=True to adopt the future default and silence this warning.\n",
            "  disease_prevalence = disease_age_data.groupby('age_group')['disease'].value_counts(normalize=True).mul(100).rename('percentage').reset_index()\n"
          ]
        },
        {
          "output_type": "display_data",
          "data": {
            "text/plain": [
              "<Figure size 1000x600 with 1 Axes>"
            ],
            "image/png": "[encoded data removed]"
          },
          "metadata": {}
        }
      ]
    },
    {
      "cell_type": "code",
      "source": [
        "import pandas as pd\n",
        "import matplotlib.pyplot as plt\n",
        "import seaborn as sns\n",
        "\n",
        "disease_age_data = pd.DataFrame({\n",
        "    'age': [25, 35, 70, 45, 20, 60, 30, 55, 80, 15, 28, 42, 68, 38, 18, 58, 75, 22, 48, 62],\n",
        "    'disease': ['Flu', 'COVID-19', 'Diabetes', 'Hypertension', 'Flu', 'Diabetes', 'COVID-19', 'Hypertension', 'Diabetes', 'Asthma',\n",
        "                'Flu', 'Hypertension', 'Diabetes', 'COVID-19', 'Flu', 'Hypertension', 'Diabetes', 'Asthma', 'Hypertension', 'Diabetes']\n",
        "})\n",
        "\n",
        "bins = [0, 18, 40, 60, float('inf')]\n",
        "labels = ['0-17', '18-39', '40-59', '60+']\n",
        "disease_age_data['age_group'] = pd.cut(disease_age_data['age'], bins=bins, labels=labels, right=False)\n",
        "\n",
        "disease_prevalence = disease_age_data.groupby('age_group')['disease'].value_counts(normalize=True).mul(100).rename('percentage').reset_index()\n",
        "\n",
        "plt.figure(figsize=(10, 6))\n",
        "sns.barplot(x='age_group', y='percentage', hue='disease', data=disease_prevalence)\n",
        "plt.title('Disease Prevalence by Age Group')\n",
        "plt.ylabel('Prevalence (%)')\n",
        "plt.xlabel('Age Group')\n",
        "plt.xticks(rotation=45)\n",
        "plt.tight_layout()\n",
        "plt.show()"
      ],
      "metadata": {
        "colab": {
          "base_uri": "https://localhost:8080/",
          "height": 662
        },
        "id": "6qn1VLShweHU",
        "outputId": "3a4146a8-5e04-4d6c-db2c-42a1657c7457"
      },
      "execution_count": 41,
      "outputs": [
        {
          "output_type": "stream",
          "name": "stderr",
          "text": [
            "<ipython-input-41-3f7e66a2efb6>:15: FutureWarning: The default of observed=False is deprecated and will be changed to True in a future version of pandas. Pass observed=False to retain current behavior or observed=True to adopt the future default and silence this warning.\n",
            "  disease_prevalence = disease_age_data.groupby('age_group')['disease'].value_counts(normalize=True).mul(100).rename('percentage').reset_index()\n"
          ]
        },
        {
          "output_type": "display_data",
          "data": {
            "text/plain": [
              "<Figure size 1000x600 with 1 Axes>"
            ],
            "image/png": "[encoded data removed]"
          },
          "metadata": {}
        }
      ]
    },
    {
      "cell_type": "code",
      "source": [
        "import pandas as pd\n",
        "from sklearn.model_selection import train_test_split\n",
        "from sklearn.linear_model import LogisticRegression\n",
        "from sklearn.metrics import accuracy_score, classification_report\n",
        "from sklearn.preprocessing import StandardScaler, OneHotEncoder\n",
        "from sklearn.impute import SimpleImputer\n",
        "from sklearn.compose import ColumnTransformer\n",
        "from sklearn.pipeline import Pipeline\n",
        "import numpy as np\n",
        "\n",
        "np.random.seed(42)\n",
        "n_samples = 200\n",
        "data = pd.DataFrame({\n",
        "    'age': np.random.randint(18, 85, n_samples),\n",
        "    'prior_admissions': np.random.randint(0, 5, n_samples),\n",
        "    'diabetes': np.random.choice([0, 1], n_samples, p=[0.7, 0.3]),\n",
        "    'hypertension': np.random.choice([0, 1], n_samples, p=[0.6, 0.4]),\n",
        "    'gender': np.random.choice(['Male', 'Female'], n_samples),\n",
        "    'readmitted': np.random.choice([0, 1], n_samples, p=[0.8, 0.2]) # Imbalanced class\n",
        "})"
      ],
      "metadata": {
        "id": "b5rpus9XwuqJ"
      },
      "execution_count": 42,
      "outputs": []
    },
    {
      "cell_type": "code",
      "source": [
        "# Data Preprocessing\n",
        "numerical_features = ['age', 'prior_admissions']\n",
        "categorical_features = ['gender']\n",
        "\n",
        "numerical_transformer = Pipeline(steps=[\n",
        "    ('imputer', SimpleImputer(strategy='mean')),\n",
        "    ('scaler', StandardScaler())\n",
        "])\n",
        "\n",
        "categorical_transformer = Pipeline(steps=[\n",
        "    ('imputer', SimpleImputer(strategy='most_frequent')),\n",
        "    ('onehot', OneHotEncoder(handle_unknown='ignore'))\n",
        "])\n",
        "\n",
        "preprocessor = ColumnTransformer(\n",
        "    transformers=[\n",
        "        ('num', numerical_transformer, numerical_features),\n",
        "        ('cat', categorical_transformer, categorical_features)\n",
        "    ],\n",
        "    remainder='passthrough' # Keep other columns (like binary ones)\n",
        ")\n",
        "\n",
        "# Model Training\n",
        "X = data.drop('readmitted', axis=1)\n",
        "y = data['readmitted']\n",
        "X_train, X_test, y_train, y_test = train_test_split(X, y, test_size=0.2, random_state=42, stratify=y)\n",
        "\n",
        "model = Pipeline(steps=[('preprocessor', preprocessor),\n",
        "                       ('classifier', LogisticRegression(random_state=42))])\n",
        "\n",
        "model.fit(X_train, y_train)\n",
        "\n",
        "# Model Evaluation\n",
        "y_pred = model.predict(X_test)\n",
        "accuracy = accuracy_score(y_test, y_pred)\n",
        "report = classification_report(y_test, y_pred)\n",
        "\n",
        "print(f\"Accuracy: {accuracy:.2f}\")\n",
        "print(\"\\nClassification Report:\\n\", report)"
      ],
      "metadata": {
        "colab": {
          "base_uri": "https://localhost:8080/"
        },
        "id": "0i6VO4OfwwWc",
        "outputId": "1c2a4c8c-659a-4baa-e157-f5392f21f44b"
      },
      "execution_count": 43,
      "outputs": [
        {
          "output_type": "stream",
          "name": "stdout",
          "text": [
            "Accuracy: 0.80\n",
            "\n",
            "Classification Report:\n",
            "               precision    recall  f1-score   support\n",
            "\n",
            "           0       0.80      1.00      0.89        32\n",
            "           1       0.00      0.00      0.00         8\n",
            "\n",
            "    accuracy                           0.80        40\n",
            "   macro avg       0.40      0.50      0.44        40\n",
            "weighted avg       0.64      0.80      0.71        40\n",
            "\n"
          ]
        },
        {
          "output_type": "stream",
          "name": "stderr",
          "text": [
            "/usr/local/lib/python3.11/dist-packages/sklearn/metrics/_classification.py:1565: UndefinedMetricWarning: Precision is ill-defined and being set to 0.0 in labels with no predicted samples. Use `zero_division` parameter to control this behavior.\n",
            "  _warn_prf(average, modifier, f\"{metric.capitalize()} is\", len(result))\n",
            "/usr/local/lib/python3.11/dist-packages/sklearn/metrics/_classification.py:1565: UndefinedMetricWarning: Precision is ill-defined and being set to 0.0 in labels with no predicted samples. Use `zero_division` parameter to control this behavior.\n",
            "  _warn_prf(average, modifier, f\"{metric.capitalize()} is\", len(result))\n",
            "/usr/local/lib/python3.11/dist-packages/sklearn/metrics/_classification.py:1565: UndefinedMetricWarning: Precision is ill-defined and being set to 0.0 in labels with no predicted samples. Use `zero_division` parameter to control this behavior.\n",
            "  _warn_prf(average, modifier, f\"{metric.capitalize()} is\", len(result))\n"
          ]
        }
      ]
    },
    {
      "cell_type": "code",
      "source": [
        "import pandas as pd\n",
        "from sklearn.model_selection import train_test_split\n",
        "from sklearn.linear_model import LinearRegression\n",
        "from sklearn.ensemble import RandomForestRegressor\n",
        "from sklearn.metrics import mean_squared_error, r2_score\n",
        "from sklearn.preprocessing import StandardScaler, OneHotEncoder\n",
        "from sklearn.impute import SimpleImputer\n",
        "from sklearn.compose import ColumnTransformer\n",
        "from sklearn.pipeline import Pipeline\n",
        "import numpy as np\n",
        "\n",
        "np.random.seed(42)\n",
        "n_samples = 150\n",
        "data_reg = pd.DataFrame({\n",
        "    'age': np.random.randint(18, 85, n_samples),\n",
        "    'num_procedures': np.random.randint(0, 5, n_samples),\n",
        "    'severity_index': np.random.rand(n_samples) * 10,\n",
        "    'has_comorbidity': np.random.choice([0, 1], n_samples, p=[0.6, 0.4]),\n",
        "    'admission_type': np.random.choice(['Emergency', 'Elective', 'Urgent'], n_samples),\n",
        "    'length_of_stay': np.random.randint(1, 20, n_samples) + np.random.randn(n_samples) * 3 # Add some noise\n",
        "})\n",
        "data_reg['length_of_stay'] = data_reg['length_of_stay'].clip(min=1) # Ensure positive stay\n",
        "\n",
        "# Data Preprocessing\n",
        "numerical_features_reg = ['age', 'num_procedures', 'severity_index']\n",
        "categorical_features_reg = ['admission_type']\n",
        "\n",
        "numerical_transformer_reg = Pipeline(steps=[\n",
        "    ('imputer', SimpleImputer(strategy='mean')),\n",
        "    ('scaler', StandardScaler())\n",
        "])\n",
        "\n",
        "categorical_transformer_reg = Pipeline(steps=[\n",
        "    ('imputer', SimpleImputer(strategy='most_frequent')),\n",
        "    ('onehot', OneHotEncoder(handle_unknown='ignore'))\n",
        "])\n",
        "\n",
        "preprocessor_reg = ColumnTransformer(\n",
        "    transformers=[\n",
        "        ('num', numerical_transformer_reg, numerical_features_reg),\n",
        "        ('cat', categorical_transformer_reg, categorical_features_reg)\n",
        "    ],\n",
        "    remainder='passthrough'\n",
        ")\n",
        "\n",
        "# Model Training\n",
        "X_reg = data_reg.drop('length_of_stay', axis=1)\n",
        "y_reg = data_reg['length_of_stay']\n",
        "X_train_reg, X_test_reg, y_train_reg, y_test_reg = train_test_split(X_reg, y_reg, test_size=0.2, random_state=42)\n",
        "\n",
        "model_reg = Pipeline(steps=[('preprocessor', preprocessor_reg),\n",
        "                           ('regressor', RandomForestRegressor(random_state=42))]) # Using RandomForest for potentially better performance\n",
        "\n",
        "model_reg.fit(X_train_reg, y_train_reg)\n",
        "\n",
        "# Model Evaluation\n",
        "y_pred_reg = model_reg.predict(X_test_reg)\n",
        "mse = mean_squared_error(y_test_reg, y_pred_reg)\n",
        "r2 = r2_score(y_test_reg, y_pred_reg)\n",
        "\n",
        "print(f\"Mean Squared Error: {mse:.2f}\")\n",
        "print(f\"R-squared: {r2:.2f}\")"
      ],
      "metadata": {
        "colab": {
          "base_uri": "https://localhost:8080/",
          "height": 356
        },
        "id": "oGunSy6jw2Tv",
        "outputId": "f121a2ff-ff0c-4176-a67b-cac89a9a635f"
      },
      "execution_count": 47,
      "outputs": [
        {
          "output_type": "error",
          "ename": "TypeError",
          "evalue": "clip() got an unexpected keyword argument 'min'",
          "traceback": [
            "\u001b[0;31m---------------------------------------------------------------------------\u001b[0m",
            "\u001b[0;31mTypeError\u001b[0m                                 Traceback (most recent call last)",
            "\u001b[0;32m<ipython-input-47-337717b5c642>\u001b[0m in \u001b[0;36m<cell line: 0>\u001b[0;34m()\u001b[0m\n\u001b[1;32m     20\u001b[0m     \u001b[0;34m'length_of_stay'\u001b[0m\u001b[0;34m:\u001b[0m \u001b[0mnp\u001b[0m\u001b[0;34m.\u001b[0m\u001b[0mrandom\u001b[0m\u001b[0;34m.\u001b[0m\u001b[0mrandint\u001b[0m\u001b[0;34m(\u001b[0m\u001b[0;36m1\u001b[0m\u001b[0;34m,\u001b[0m \u001b[0;36m20\u001b[0m\u001b[0;34m,\u001b[0m \u001b[0mn_samples\u001b[0m\u001b[0;34m)\u001b[0m \u001b[0;34m+\u001b[0m \u001b[0mnp\u001b[0m\u001b[0;34m.\u001b[0m\u001b[0mrandom\u001b[0m\u001b[0;34m.\u001b[0m\u001b[0mrandn\u001b[0m\u001b[0;34m(\u001b[0m\u001b[0mn_samples\u001b[0m\u001b[0;34m)\u001b[0m \u001b[0;34m*\u001b[0m \u001b[0;36m3\u001b[0m \u001b[0;31m# Add some noise\u001b[0m\u001b[0;34m\u001b[0m\u001b[0;34m\u001b[0m\u001b[0m\n\u001b[1;32m     21\u001b[0m })\n\u001b[0;32m---> 22\u001b[0;31m \u001b[0mdata_reg\u001b[0m\u001b[0;34m[\u001b[0m\u001b[0;34m'length_of_stay'\u001b[0m\u001b[0;34m]\u001b[0m \u001b[0;34m=\u001b[0m \u001b[0mdata_reg\u001b[0m\u001b[0;34m[\u001b[0m\u001b[0;34m'length_of_stay'\u001b[0m\u001b[0;34m]\u001b[0m\u001b[0;34m.\u001b[0m\u001b[0mclip\u001b[0m\u001b[0;34m(\u001b[0m\u001b[0mmin\u001b[0m\u001b[0;34m=\u001b[0m\u001b[0;36m1\u001b[0m\u001b[0;34m)\u001b[0m \u001b[0;31m# Ensure positive stay\u001b[0m\u001b[0;34m\u001b[0m\u001b[0;34m\u001b[0m\u001b[0m\n\u001b[0m\u001b[1;32m     23\u001b[0m \u001b[0;34m\u001b[0m\u001b[0m\n\u001b[1;32m     24\u001b[0m \u001b[0;31m# Data Preprocessing\u001b[0m\u001b[0;34m\u001b[0m\u001b[0;34m\u001b[0m\u001b[0m\n",
            "\u001b[0;32m/usr/local/lib/python3.11/dist-packages/pandas/core/generic.py\u001b[0m in \u001b[0;36mclip\u001b[0;34m(self, lower, upper, axis, inplace, **kwargs)\u001b[0m\n\u001b[1;32m   9063\u001b[0m                     )\n\u001b[1;32m   9064\u001b[0m \u001b[0;34m\u001b[0m\u001b[0m\n\u001b[0;32m-> 9065\u001b[0;31m         \u001b[0maxis\u001b[0m \u001b[0;34m=\u001b[0m \u001b[0mnv\u001b[0m\u001b[0;34m.\u001b[0m\u001b[0mvalidate_clip_with_axis\u001b[0m\u001b[0;34m(\u001b[0m\u001b[0maxis\u001b[0m\u001b[0;34m,\u001b[0m \u001b[0;34m(\u001b[0m\u001b[0;34m)\u001b[0m\u001b[0;34m,\u001b[0m \u001b[0mkwargs\u001b[0m\u001b[0;34m)\u001b[0m\u001b[0;34m\u001b[0m\u001b[0;34m\u001b[0m\u001b[0m\n\u001b[0m\u001b[1;32m   9066\u001b[0m         \u001b[0;32mif\u001b[0m \u001b[0maxis\u001b[0m \u001b[0;32mis\u001b[0m \u001b[0;32mnot\u001b[0m \u001b[0;32mNone\u001b[0m\u001b[0;34m:\u001b[0m\u001b[0;34m\u001b[0m\u001b[0;34m\u001b[0m\u001b[0m\n\u001b[1;32m   9067\u001b[0m             \u001b[0maxis\u001b[0m \u001b[0;34m=\u001b[0m \u001b[0mself\u001b[0m\u001b[0;34m.\u001b[0m\u001b[0m_get_axis_number\u001b[0m\u001b[0;34m(\u001b[0m\u001b[0maxis\u001b[0m\u001b[0;34m)\u001b[0m\u001b[0;34m\u001b[0m\u001b[0;34m\u001b[0m\u001b[0m\n",
            "\u001b[0;32m/usr/local/lib/python3.11/dist-packages/pandas/compat/numpy/function.py\u001b[0m in \u001b[0;36mvalidate_clip_with_axis\u001b[0;34m(axis, args, kwargs)\u001b[0m\n\u001b[1;32m    204\u001b[0m         \u001b[0maxis\u001b[0m \u001b[0;34m=\u001b[0m \u001b[0;32mNone\u001b[0m  \u001b[0;31m# type: ignore[assignment]\u001b[0m\u001b[0;34m\u001b[0m\u001b[0;34m\u001b[0m\u001b[0m\n\u001b[1;32m    205\u001b[0m \u001b[0;34m\u001b[0m\u001b[0m\n\u001b[0;32m--> 206\u001b[0;31m     \u001b[0mvalidate_clip\u001b[0m\u001b[0;34m(\u001b[0m\u001b[0margs\u001b[0m\u001b[0;34m,\u001b[0m \u001b[0mkwargs\u001b[0m\u001b[0;34m)\u001b[0m\u001b[0;34m\u001b[0m\u001b[0;34m\u001b[0m\u001b[0m\n\u001b[0m\u001b[1;32m    207\u001b[0m     \u001b[0;31m# error: Incompatible return value type (got \"Union[ndarray[Any, Any],\u001b[0m\u001b[0;34m\u001b[0m\u001b[0;34m\u001b[0m\u001b[0m\n\u001b[1;32m    208\u001b[0m     \u001b[0;31m# str, int]\", expected \"Union[str, int, None]\")\u001b[0m\u001b[0;34m\u001b[0m\u001b[0;34m\u001b[0m\u001b[0m\n",
            "\u001b[0;32m/usr/local/lib/python3.11/dist-packages/pandas/compat/numpy/function.py\u001b[0m in \u001b[0;36m__call__\u001b[0;34m(self, args, kwargs, fname, max_fname_arg_count, method)\u001b[0m\n\u001b[1;32m     86\u001b[0m             \u001b[0mvalidate_kwargs\u001b[0m\u001b[0;34m(\u001b[0m\u001b[0mfname\u001b[0m\u001b[0;34m,\u001b[0m \u001b[0mkwargs\u001b[0m\u001b[0;34m,\u001b[0m \u001b[0mself\u001b[0m\u001b[0;34m.\u001b[0m\u001b[0mdefaults\u001b[0m\u001b[0;34m)\u001b[0m\u001b[0;34m\u001b[0m\u001b[0;34m\u001b[0m\u001b[0m\n\u001b[1;32m     87\u001b[0m         \u001b[0;32melif\u001b[0m \u001b[0mmethod\u001b[0m \u001b[0;34m==\u001b[0m \u001b[0;34m\"both\"\u001b[0m\u001b[0;34m:\u001b[0m\u001b[0;34m\u001b[0m\u001b[0;34m\u001b[0m\u001b[0m\n\u001b[0;32m---> 88\u001b[0;31m             validate_args_and_kwargs(\n\u001b[0m\u001b[1;32m     89\u001b[0m                 \u001b[0mfname\u001b[0m\u001b[0;34m,\u001b[0m \u001b[0margs\u001b[0m\u001b[0;34m,\u001b[0m \u001b[0mkwargs\u001b[0m\u001b[0;34m,\u001b[0m \u001b[0mmax_fname_arg_count\u001b[0m\u001b[0;34m,\u001b[0m \u001b[0mself\u001b[0m\u001b[0;34m.\u001b[0m\u001b[0mdefaults\u001b[0m\u001b[0;34m\u001b[0m\u001b[0;34m\u001b[0m\u001b[0m\n\u001b[1;32m     90\u001b[0m             )\n",
            "\u001b[0;32m/usr/local/lib/python3.11/dist-packages/pandas/util/_validators.py\u001b[0m in \u001b[0;36mvalidate_args_and_kwargs\u001b[0;34m(fname, args, kwargs, max_fname_arg_count, compat_args)\u001b[0m\n\u001b[1;32m    221\u001b[0m \u001b[0;34m\u001b[0m\u001b[0m\n\u001b[1;32m    222\u001b[0m     \u001b[0mkwargs\u001b[0m\u001b[0;34m.\u001b[0m\u001b[0mupdate\u001b[0m\u001b[0;34m(\u001b[0m\u001b[0margs_dict\u001b[0m\u001b[0;34m)\u001b[0m\u001b[0;34m\u001b[0m\u001b[0;34m\u001b[0m\u001b[0m\n\u001b[0;32m--> 223\u001b[0;31m     \u001b[0mvalidate_kwargs\u001b[0m\u001b[0;34m(\u001b[0m\u001b[0mfname\u001b[0m\u001b[0;34m,\u001b[0m \u001b[0mkwargs\u001b[0m\u001b[0;34m,\u001b[0m \u001b[0mcompat_args\u001b[0m\u001b[0;34m)\u001b[0m\u001b[0;34m\u001b[0m\u001b[0;34m\u001b[0m\u001b[0m\n\u001b[0m\u001b[1;32m    224\u001b[0m \u001b[0;34m\u001b[0m\u001b[0m\n\u001b[1;32m    225\u001b[0m \u001b[0;34m\u001b[0m\u001b[0m\n",
            "\u001b[0;32m/usr/local/lib/python3.11/dist-packages/pandas/util/_validators.py\u001b[0m in \u001b[0;36mvalidate_kwargs\u001b[0;34m(fname, kwargs, compat_args)\u001b[0m\n\u001b[1;32m    162\u001b[0m     \"\"\"\n\u001b[1;32m    163\u001b[0m     \u001b[0mkwds\u001b[0m \u001b[0;34m=\u001b[0m \u001b[0mkwargs\u001b[0m\u001b[0;34m.\u001b[0m\u001b[0mcopy\u001b[0m\u001b[0;34m(\u001b[0m\u001b[0;34m)\u001b[0m\u001b[0;34m\u001b[0m\u001b[0;34m\u001b[0m\u001b[0m\n\u001b[0;32m--> 164\u001b[0;31m     \u001b[0m_check_for_invalid_keys\u001b[0m\u001b[0;34m(\u001b[0m\u001b[0mfname\u001b[0m\u001b[0;34m,\u001b[0m \u001b[0mkwargs\u001b[0m\u001b[0;34m,\u001b[0m \u001b[0mcompat_args\u001b[0m\u001b[0;34m)\u001b[0m\u001b[0;34m\u001b[0m\u001b[0;34m\u001b[0m\u001b[0m\n\u001b[0m\u001b[1;32m    165\u001b[0m     \u001b[0m_check_for_default_values\u001b[0m\u001b[0;34m(\u001b[0m\u001b[0mfname\u001b[0m\u001b[0;34m,\u001b[0m \u001b[0mkwds\u001b[0m\u001b[0;34m,\u001b[0m \u001b[0mcompat_args\u001b[0m\u001b[0;34m)\u001b[0m\u001b[0;34m\u001b[0m\u001b[0;34m\u001b[0m\u001b[0m\n\u001b[1;32m    166\u001b[0m \u001b[0;34m\u001b[0m\u001b[0m\n",
            "\u001b[0;32m/usr/local/lib/python3.11/dist-packages/pandas/util/_validators.py\u001b[0m in \u001b[0;36m_check_for_invalid_keys\u001b[0;34m(fname, kwargs, compat_args)\u001b[0m\n\u001b[1;32m    136\u001b[0m     \u001b[0;32mif\u001b[0m \u001b[0mdiff\u001b[0m\u001b[0;34m:\u001b[0m\u001b[0;34m\u001b[0m\u001b[0;34m\u001b[0m\u001b[0m\n\u001b[1;32m    137\u001b[0m         \u001b[0mbad_arg\u001b[0m \u001b[0;34m=\u001b[0m \u001b[0mnext\u001b[0m\u001b[0;34m(\u001b[0m\u001b[0miter\u001b[0m\u001b[0;34m(\u001b[0m\u001b[0mdiff\u001b[0m\u001b[0;34m)\u001b[0m\u001b[0;34m)\u001b[0m\u001b[0;34m\u001b[0m\u001b[0;34m\u001b[0m\u001b[0m\n\u001b[0;32m--> 138\u001b[0;31m         \u001b[0;32mraise\u001b[0m \u001b[0mTypeError\u001b[0m\u001b[0;34m(\u001b[0m\u001b[0;34mf\"{fname}() got an unexpected keyword argument '{bad_arg}'\"\u001b[0m\u001b[0;34m)\u001b[0m\u001b[0;34m\u001b[0m\u001b[0;34m\u001b[0m\u001b[0m\n\u001b[0m\u001b[1;32m    139\u001b[0m \u001b[0;34m\u001b[0m\u001b[0m\n\u001b[1;32m    140\u001b[0m \u001b[0;34m\u001b[0m\u001b[0m\n",
            "\u001b[0;31mTypeError\u001b[0m: clip() got an unexpected keyword argument 'min'"
          ]
        }
      ]
    },
    {
      "cell_type": "markdown",
      "source": [
        "# May3\n"
      ],
      "metadata": {
        "id": "cyza4mgO7-Lx"
      }
    },
    {
      "cell_type": "code",
      "source": [
        "numbers = [1,2,3,4,5]\n",
        "print(numbers)"
      ],
      "metadata": {
        "colab": {
          "base_uri": "https://localhost:8080/"
        },
        "id": "DXyFVxyL8AL4",
        "outputId": "8008e743-2314-454b-f946-15922c07dbce"
      },
      "execution_count": 1,
      "outputs": [
        {
          "output_type": "stream",
          "name": "stdout",
          "text": [
            "[1, 2, 3, 4, 5]\n"
          ]
        }
      ]
    },
    {
      "cell_type": "code",
      "source": [
        "fruits = [\"apple\", \"banana\", \"cherry\"]\n",
        "print(fruits)"
      ],
      "metadata": {
        "colab": {
          "base_uri": "https://localhost:8080/"
        },
        "id": "QOqgdBvEu83i",
        "outputId": "394f5125-8b8f-47a5-9700-9bf2bc852262"
      },
      "execution_count": 2,
      "outputs": [
        {
          "output_type": "stream",
          "name": "stdout",
          "text": [
            "['apple', 'banana', 'cherry']\n"
          ]
        }
      ]
    },
    {
      "cell_type": "code",
      "source": [
        "mixed_list = [1, \"hello\", 3.14, True]\n",
        "print(mixed_list)"
      ],
      "metadata": {
        "colab": {
          "base_uri": "https://localhost:8080/"
        },
        "id": "DScFLNodvHMX",
        "outputId": "84f0df58-b6b2-43e3-98a5-d57b5de9df49"
      },
      "execution_count": 3,
      "outputs": [
        {
          "output_type": "stream",
          "name": "stdout",
          "text": [
            "[1, 'hello', 3.14, True]\n"
          ]
        }
      ]
    },
    {
      "cell_type": "code",
      "source": [
        "colors = [\"red\", \"green\", \"blue\"]\n",
        "print(colors[0])  # Output: red\n",
        "print(colors[2])  # Output: blue\n",
        "print(colors[-1]) # Output: blue (last element)"
      ],
      "metadata": {
        "colab": {
          "base_uri": "https://localhost:8080/"
        },
        "id": "fUNelvf5vIFP",
        "outputId": "99fe0e9d-64cb-455a-d88a-faf8c996a887"
      },
      "execution_count": 4,
      "outputs": [
        {
          "output_type": "stream",
          "name": "stdout",
          "text": [
            "red\n",
            "blue\n",
            "blue\n"
          ]
        }
      ]
    },
    {
      "cell_type": "code",
      "source": [
        "numbers = [10, 20, 30, 40, 50]\n",
        "print(numbers[1:4])   # Output: [20, 30, 40] (elements from index 1 up to, but not including, 4)\n",
        "print(numbers[:3])    # Output: [10, 20, 30] (from the beginning up to index 3)\n",
        "print(numbers[2:])    # Output: [30, 40, 50] (from index 2 to the end)"
      ],
      "metadata": {
        "colab": {
          "base_uri": "https://localhost:8080/"
        },
        "id": "YPfZPXdzvShS",
        "outputId": "5381d488-2aa2-47fa-d0a8-cea2c4477cf7"
      },
      "execution_count": 5,
      "outputs": [
        {
          "output_type": "stream",
          "name": "stdout",
          "text": [
            "[20, 30, 40]\n",
            "[10, 20, 30]\n",
            "[30, 40, 50]\n"
          ]
        }
      ]
    },
    {
      "cell_type": "code",
      "source": [
        "animals = [\"cat\", \"dog\", \"rabbit\"]\n",
        "animals[1] = \"hamster\"  # Changing an element\n",
        "print(animals)          # Output: ['cat', 'hamster', 'rabbit']\n",
        "\n",
        "animals.append(\"fish\")  # Adding an element to the end\n",
        "print(animals)          # Output: ['cat', 'hamster', 'rabbit', 'fish']\n",
        "\n",
        "animals.insert(0, \"bird\") # Inserting an element at a specific index\n",
        "print(animals)          # Output: ['bird', 'cat', 'hamster', 'rabbit', 'fish']\n",
        "\n",
        "del animals[2]         # Deleting an element by index\n",
        "print(animals)          # Output: ['bird', 'cat', 'rabbit', 'fish']\n",
        "\n",
        "animals.remove(\"fish\") # Removing an element by value\n",
        "print(animals)          # Output: ['bird', 'cat', 'rabbit']"
      ],
      "metadata": {
        "colab": {
          "base_uri": "https://localhost:8080/"
        },
        "id": "cTn53M8WvZpG",
        "outputId": "cc42aa97-db32-4b86-cec2-32c460034903"
      },
      "execution_count": 6,
      "outputs": [
        {
          "output_type": "stream",
          "name": "stdout",
          "text": [
            "['cat', 'hamster', 'rabbit']\n",
            "['cat', 'hamster', 'rabbit', 'fish']\n",
            "['bird', 'cat', 'hamster', 'rabbit', 'fish']\n",
            "['bird', 'cat', 'rabbit', 'fish']\n",
            "['bird', 'cat', 'rabbit']\n"
          ]
        }
      ]
    },
    {
      "cell_type": "code",
      "source": [
        "temperatures = [25.5, 26.0, 24.8, 27.1, 25.9]\n",
        "average_temp = sum(temperatures) / len(temperatures)\n",
        "print(f\"Average temperature: {average_temp:.2f}\")"
      ],
      "metadata": {
        "colab": {
          "base_uri": "https://localhost:8080/"
        },
        "id": "l1bDWckjvt72",
        "outputId": "17f281ae-bd6f-462e-a6a0-419ac3372beb"
      },
      "execution_count": 7,
      "outputs": [
        {
          "output_type": "stream",
          "name": "stdout",
          "text": [
            "Average temperature: 25.86\n"
          ]
        }
      ]
    },
    {
      "cell_type": "code",
      "source": [
        "salaries = [45000, 60000, 35000, 75000, 52000]\n",
        "high_salaries = [salary for salary in salaries if salary > 55000]\n",
        "print(f\"Salaries above 55000: {high_salaries}\")"
      ],
      "metadata": {
        "colab": {
          "base_uri": "https://localhost:8080/"
        },
        "id": "Yl77NS2jv1Ls",
        "outputId": "498c1767-ba9a-46f1-a681-5045f248b677"
      },
      "execution_count": 8,
      "outputs": [
        {
          "output_type": "stream",
          "name": "stdout",
          "text": [
            "Salaries above 55000: [60000, 75000]\n"
          ]
        }
      ]
    },
    {
      "cell_type": "code",
      "source": [
        "data = [\n",
        "    [\"Alice\", 30, \"Engineer\"],\n",
        "    [\"Bob\", 25, \"Analyst\"],\n",
        "    [\"Charlie\", 35, \"Manager\"]\n",
        "]\n",
        "print(data[0][2])  # Accessing the job of the first person (Engineer)"
      ],
      "metadata": {
        "colab": {
          "base_uri": "https://localhost:8080/"
        },
        "id": "aEAcY9gzv8wn",
        "outputId": "c5163f8b-70d4-4a49-d464-a748aacd13e8"
      },
      "execution_count": 9,
      "outputs": [
        {
          "output_type": "stream",
          "name": "stdout",
          "text": [
            "Engineer\n"
          ]
        }
      ]
    },
    {
      "cell_type": "code",
      "source": [
        "point = (10, 20)\n",
        "print(point)"
      ],
      "metadata": {
        "colab": {
          "base_uri": "https://localhost:8080/"
        },
        "id": "LHknpzLmBqXH",
        "outputId": "73635c2e-90c6-495a-932b-a478fd332943"
      },
      "execution_count": 1,
      "outputs": [
        {
          "output_type": "stream",
          "name": "stdout",
          "text": [
            "(10, 20)\n"
          ]
        }
      ]
    },
    {
      "cell_type": "code",
      "source": [
        "colors = (\"red\", \"green\", \"blue\")\n",
        "print(colors)"
      ],
      "metadata": {
        "colab": {
          "base_uri": "https://localhost:8080/"
        },
        "id": "lY32BMt0Bwff",
        "outputId": "f608510f-142c-4de6-b83b-3a0279ffd69d"
      },
      "execution_count": 2,
      "outputs": [
        {
          "output_type": "stream",
          "name": "stdout",
          "text": [
            "('red', 'green', 'blue')\n"
          ]
        }
      ]
    },
    {
      "cell_type": "code",
      "source": [
        "info = (1, \"hello\", 3.14)\n",
        "print(info)"
      ],
      "metadata": {
        "colab": {
          "base_uri": "https://localhost:8080/"
        },
        "id": "1K5Dr6GIByaU",
        "outputId": "c7052b59-3844-41ab-bef4-d2a2c179bd44"
      },
      "execution_count": 3,
      "outputs": [
        {
          "output_type": "stream",
          "name": "stdout",
          "text": [
            "(1, 'hello', 3.14)\n"
          ]
        }
      ]
    },
    {
      "cell_type": "code",
      "source": [
        "coordinates = (5, 12, -3)\n",
        "print(coordinates[1])  # Output: 12\n",
        "print(coordinates[:2]) # Output: (5, 12)"
      ],
      "metadata": {
        "colab": {
          "base_uri": "https://localhost:8080/"
        },
        "id": "cLt_9vbrB0qD",
        "outputId": "ab3639aa-fe04-486f-da77-c5b27a3daf5e"
      },
      "execution_count": 4,
      "outputs": [
        {
          "output_type": "stream",
          "name": "stdout",
          "text": [
            "12\n",
            "(5, 12)\n"
          ]
        }
      ]
    },
    {
      "cell_type": "code",
      "source": [
        "student = (\"John Doe\", 22, \"Computer Science\")\n",
        "print(f\"Name: {student[0]}, Age: {student[1]}, Major: {student[2]}\")"
      ],
      "metadata": {
        "colab": {
          "base_uri": "https://localhost:8080/"
        },
        "id": "rNI-wcqbB8av",
        "outputId": "6477320f-e9ab-4ca9-b885-c99c56d99ab1"
      },
      "execution_count": 5,
      "outputs": [
        {
          "output_type": "stream",
          "name": "stdout",
          "text": [
            "Name: John Doe, Age: 22, Major: Computer Science\n"
          ]
        }
      ]
    },
    {
      "cell_type": "code",
      "source": [
        "def get_min_max(data):\n",
        "    return min(data), max(data)\n",
        "\n",
        "values = [15, 3, 2, 9, 21]\n",
        "minimum, maximum = get_min_max(values)\n",
        "print(f\"Minimum: {minimum}, Maximum: {maximum}\")"
      ],
      "metadata": {
        "colab": {
          "base_uri": "https://localhost:8080/"
        },
        "id": "nYwcksfyCArM",
        "outputId": "a50adc52-5331-49fa-c831-244d38a35673"
      },
      "execution_count": 8,
      "outputs": [
        {
          "output_type": "stream",
          "name": "stdout",
          "text": [
            "Minimum: 2, Maximum: 21\n"
          ]
        }
      ]
    },
    {
      "cell_type": "code",
      "source": [
        "city_coordinates = {\n",
        "    (40.7128, -74.0060): \"New York\",\n",
        "    (34.0522, -118.2437): \"Los Angeles\"\n",
        "}\n",
        "print(city_coordinates[(40.7128, -74.0060)]) # Output: New York"
      ],
      "metadata": {
        "colab": {
          "base_uri": "https://localhost:8080/"
        },
        "id": "hvmwGWuHCiWX",
        "outputId": "f0f04a32-2d0b-454c-d164-63e56c7d8367"
      },
      "execution_count": 9,
      "outputs": [
        {
          "output_type": "stream",
          "name": "stdout",
          "text": [
            "New York\n"
          ]
        }
      ]
    },
    {
      "cell_type": "code",
      "source": [
        "ages = {\"Alice\": 30, \"Bob\": 25, \"Charlie\": 35}\n",
        "print(ages)"
      ],
      "metadata": {
        "colab": {
          "base_uri": "https://localhost:8080/"
        },
        "id": "t3QIxJatCq9i",
        "outputId": "3a21a282-fca5-433a-c9e3-3cfb86a64ab5"
      },
      "execution_count": 10,
      "outputs": [
        {
          "output_type": "stream",
          "name": "stdout",
          "text": [
            "{'Alice': 30, 'Bob': 25, 'Charlie': 35}\n"
          ]
        }
      ]
    },
    {
      "cell_type": "code",
      "source": [
        "prices = {\"apple\": 1.0, \"banana\": 0.5, \"cherry\": 2.5}\n",
        "print(prices)"
      ],
      "metadata": {
        "colab": {
          "base_uri": "https://localhost:8080/"
        },
        "id": "U7R3DXzoCtpI",
        "outputId": "6895fdb1-08fa-4399-e364-5888cfc07f03"
      },
      "execution_count": 11,
      "outputs": [
        {
          "output_type": "stream",
          "name": "stdout",
          "text": [
            "{'apple': 1.0, 'banana': 0.5, 'cherry': 2.5}\n"
          ]
        }
      ]
    },
    {
      "cell_type": "code",
      "source": [
        "student_grades = {\"Math\": 90, \"Science\": 85, \"English\": 92}\n",
        "print(student_grades[\"English\"])  # Output: 90"
      ],
      "metadata": {
        "colab": {
          "base_uri": "https://localhost:8080/"
        },
        "id": "vRaLpjoOCweQ",
        "outputId": "0865e197-31a7-448e-d0b8-659e8d34f653"
      },
      "execution_count": 13,
      "outputs": [
        {
          "output_type": "stream",
          "name": "stdout",
          "text": [
            "92\n"
          ]
        }
      ]
    },
    {
      "cell_type": "code",
      "source": [
        "employee_info = {\"name\": \"Eve\", \"age\": 28}\n",
        "employee_info[\"city\"] = \"London\"  # Adding a new key-value pair\n",
        "print(employee_info)          # Output: {'name': 'Eve', 'age': 28, 'city': 'London'}\n",
        "\n",
        "employee_info[\"age\"] = 29      # Modifying an existing value\n",
        "print(employee_info)          # Output: {'name': 'Eve', 'age': 29, 'city': 'London'}"
      ],
      "metadata": {
        "colab": {
          "base_uri": "https://localhost:8080/"
        },
        "id": "rBHLBe_GC7U7",
        "outputId": "e4861510-0726-4a98-a989-88fa4d82df66"
      },
      "execution_count": 14,
      "outputs": [
        {
          "output_type": "stream",
          "name": "stdout",
          "text": [
            "{'name': 'Eve', 'age': 28, 'city': 'London'}\n",
            "{'name': 'Eve', 'age': 29, 'city': 'London'}\n"
          ]
        }
      ]
    },
    {
      "cell_type": "code",
      "source": [
        "inventory = {\"apples\": 10, \"bananas\": 20, \"cherries\": 15}\n",
        "print(inventory.keys())   # Output: dict_keys(['apples', 'bananas', 'cherries'])\n",
        "print(inventory.values()) # Output: dict_values([10, 20, 15])\n",
        "print(inventory.items())  # Output: dict_items([('apples', 10), ('bananas', 20), ('cherries', 15)])\n",
        "\n",
        "print(\"apples\" in inventory) # Output: True (checking if a key exists)\n",
        "print(inventory.get(\"grapes\", 0)) # Output: 0 (getting a value with a default if the key doesn't exist)"
      ],
      "metadata": {
        "colab": {
          "base_uri": "https://localhost:8080/"
        },
        "id": "JsCntpkeDLJ7",
        "outputId": "35229803-d086-4bc8-8742-e512b7db11a5"
      },
      "execution_count": 15,
      "outputs": [
        {
          "output_type": "stream",
          "name": "stdout",
          "text": [
            "dict_keys(['apples', 'bananas', 'cherries'])\n",
            "dict_values([10, 20, 15])\n",
            "dict_items([('apples', 10), ('bananas', 20), ('cherries', 15)])\n",
            "True\n",
            "0\n"
          ]
        }
      ]
    },
    {
      "cell_type": "code",
      "source": [
        "customer_data = {\n",
        "    \"customer_id_123\": {\"name\": \"Alice Smith\", \"orders\": [101, 102]},\n",
        "    \"customer_id_456\": {\"name\": \"Bob Johnson\", \"orders\": [201]}\n",
        "}\n",
        "print(customer_data[\"customer_id_123\"][\"name\"]) # Output: Alice Smith\n",
        "print(customer_data[\"customer_id_456\"][\"orders\"][0]) # Output: 201"
      ],
      "metadata": {
        "colab": {
          "base_uri": "https://localhost:8080/"
        },
        "id": "ouU_e6t7DXBx",
        "outputId": "1b3ffd87-93ce-4bb9-bbf1-ae7e521ba543"
      },
      "execution_count": 16,
      "outputs": [
        {
          "output_type": "stream",
          "name": "stdout",
          "text": [
            "Alice Smith\n",
            "201\n"
          ]
        }
      ]
    },
    {
      "cell_type": "code",
      "source": [
        "words = [\"the\", \"quick\", \"brown\", \"fox\", \"the\", \"lazy\", \"dog\", \"the\"]\n",
        "word_counts = {}\n",
        "for word in words:\n",
        "    word_counts[word] = word_counts.get(word, 0) + 1\n",
        "print(word_counts) # Output: {'the': 3, 'quick': 1, 'brown': 1, 'fox': 1, 'lazy': 1, 'dog': 1}"
      ],
      "metadata": {
        "colab": {
          "base_uri": "https://localhost:8080/"
        },
        "id": "YwFm_rsabqhO",
        "outputId": "7159a464-d029-4a5a-abc0-bcd293b97a26"
      },
      "execution_count": 1,
      "outputs": [
        {
          "output_type": "stream",
          "name": "stdout",
          "text": [
            "{'the': 3, 'quick': 1, 'brown': 1, 'fox': 1, 'lazy': 1, 'dog': 1}\n"
          ]
        }
      ]
    },
    {
      "cell_type": "code",
      "source": [
        "data_point1 = {\"feature1\": 2.5, \"feature2\": 7.8, \"label\": 0}\n",
        "data_point2 = {\"feature1\": 1.1, \"feature2\": 9.2, \"label\": 1}\n",
        "dataset = [data_point1, data_point2]\n",
        "print(dataset[0][\"feature2\"]) # Output: 7.8"
      ],
      "metadata": {
        "colab": {
          "base_uri": "https://localhost:8080/"
        },
        "id": "0zHD2pB0cQLd",
        "outputId": "ac781c12-55c3-4a51-d7f6-7601a223c33e"
      },
      "execution_count": 2,
      "outputs": [
        {
          "output_type": "stream",
          "name": "stdout",
          "text": [
            "7.8\n"
          ]
        }
      ]
    },
    {
      "cell_type": "code",
      "source": [
        "student_names = [\"Alice\", \"Bob\", \"Charlie\"]\n",
        "student_names.append(\"David\")\n",
        "print(student_names)"
      ],
      "metadata": {
        "colab": {
          "base_uri": "https://localhost:8080/"
        },
        "id": "r9RvUGyudFMb",
        "outputId": "33877a62-a5c9-4a9f-bbe4-20c58d18ab84"
      },
      "execution_count": 4,
      "outputs": [
        {
          "output_type": "stream",
          "name": "stdout",
          "text": [
            "['Alice', 'Bob', 'Charlie', 'David']\n"
          ]
        }
      ]
    },
    {
      "cell_type": "code",
      "source": [
        "numbers = [10, 5, 20, 150, 30]\n",
        "\n",
        "largest_number = max(numbers)\n",
        "print(f\"The largest number in th elist is : {largest_number}.\")"
      ],
      "metadata": {
        "colab": {
          "base_uri": "https://localhost:8080/"
        },
        "id": "hXj7gykYeIPV",
        "outputId": "327d4f0e-d4de-4b5c-d2a2-7dadaec042bd"
      },
      "execution_count": 6,
      "outputs": [
        {
          "output_type": "stream",
          "name": "stdout",
          "text": [
            "The largest number in th elist is : 150.\n"
          ]
        }
      ]
    },
    {
      "cell_type": "code",
      "source": [
        "list1 = [1,2,3]\n",
        "list2 = [3,4,5]\n",
        "\n",
        "common_elements = [item for item in list1 if item in list2]\n",
        "print(f\"The common elements: {common_elements}\")"
      ],
      "metadata": {
        "colab": {
          "base_uri": "https://localhost:8080/"
        },
        "id": "0KQ5RUqRenAT",
        "outputId": "4bf6c36a-6a5e-4bf4-f39d-b8fab7cf2350"
      },
      "execution_count": 8,
      "outputs": [
        {
          "output_type": "stream",
          "name": "stdout",
          "text": [
            "The common elements: [3]\n"
          ]
        }
      ]
    },
    {
      "cell_type": "code",
      "source": [
        "def filter_long_strings(string_list):\n",
        "  long_strings = [s for s in string_list if len(s) > 5]\n",
        "  return long_strings\n",
        "\n",
        "words = [\"apple\", \"banana\", \"kiwi\", \"strawberry\", \"grape\"]\n",
        "long_words = filter_long_strings(words)\n",
        "print(f\"Long words: {long_words}\")"
      ],
      "metadata": {
        "colab": {
          "base_uri": "https://localhost:8080/"
        },
        "id": "42KLn5RCfFaf",
        "outputId": "cabfa36d-c07c-4664-977c-d323066bd73a"
      },
      "execution_count": 9,
      "outputs": [
        {
          "output_type": "stream",
          "name": "stdout",
          "text": [
            "Long words: ['banana', 'strawberry']\n"
          ]
        }
      ]
    }
  ],
  "metadata": {
    "colab": {
      "provenance": [],
      "authorship_tag": "ABX9TyMpbntIsLDwsGvyBcFesUBP",
      "include_colab_link": true
    },
    "kernelspec": {
      "display_name": "Python 3",
      "name": "python3"
    },
    "language_info": {
      "name": "python"
    }
  },
  "nbformat": 4,
  "nbformat_minor": 0
}